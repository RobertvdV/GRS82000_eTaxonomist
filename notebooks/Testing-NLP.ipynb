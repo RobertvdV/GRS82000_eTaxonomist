{
 "cells": [
  {
   "cell_type": "code",
   "execution_count": 3,
   "id": "c3d19423-061e-4cc9-b37d-2ff2ce09710e",
   "metadata": {},
   "outputs": [],
   "source": [
    "import torch\n",
    "import pandas as pd"
   ]
  },
  {
   "cell_type": "code",
   "execution_count": 10,
   "id": "353958d7-5d7e-42c9-bca1-27d04cea0981",
   "metadata": {},
   "outputs": [],
   "source": [
    "df_true = pd.read_pickle('df_true.pkl')\n",
    "df_false = pd.read_pickle('df_false.pkl')"
   ]
  },
  {
   "cell_type": "code",
   "execution_count": 13,
   "id": "d174aaa0-3acc-4b39-b1a5-e12446ade960",
   "metadata": {},
   "outputs": [
    {
     "data": {
      "text/plain": [
       "'The second upper molar is smaller than the others, and is usually absent in adults'"
      ]
     },
     "execution_count": 13,
     "metadata": {},
     "output_type": "execute_result"
    }
   ],
   "source": [
    "df_true.loc['Brown bear', 32]"
   ]
  },
  {
   "cell_type": "code",
   "execution_count": null,
   "id": "4fac8e3f-9708-49ac-844e-7a314b6102f3",
   "metadata": {},
   "outputs": [],
   "source": []
  }
 ],
 "metadata": {
  "kernelspec": {
   "display_name": "Python 3",
   "language": "python",
   "name": "python3"
  },
  "language_info": {
   "codemirror_mode": {
    "name": "ipython",
    "version": 3
   },
   "file_extension": ".py",
   "mimetype": "text/x-python",
   "name": "python",
   "nbconvert_exporter": "python",
   "pygments_lexer": "ipython3",
   "version": "3.9.4"
  }
 },
 "nbformat": 4,
 "nbformat_minor": 5
}
