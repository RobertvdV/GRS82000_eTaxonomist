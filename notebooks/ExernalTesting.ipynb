{
 "cells": [
  {
   "cell_type": "code",
   "execution_count": 11,
   "id": "40add63c-a2e1-49d1-9e2b-09804b1ae865",
   "metadata": {},
   "outputs": [],
   "source": [
    "import random\n",
    "from tqdm import tqdm\n",
    "import time\n",
    "import pickle\n",
    "from transformers import DistilBertTokenizer, DistilBertModel\n",
    "\n",
    "import sys\n",
    "sys.path.insert(0, '../src/models/')\n",
    "sys.path.insert(0, '../src/features/')\n",
    "#sys.path.insert(0, '../src/visualization/')\n",
    "\n",
    "from predict_model import loadBERT\n",
    "from predict_model import SpanPredictor as classify\n",
    "from build_features import text_cleaner\n",
    "from build_features import get_prediction_results\n",
    "#import visualize as vis\n",
    "\n",
    "%matplotlib inline"
   ]
  },
  {
   "cell_type": "code",
   "execution_count": 13,
   "id": "8c9ac59d-0ee2-496b-9f3c-48ffbf2f87de",
   "metadata": {},
   "outputs": [
    {
     "name": "stderr",
     "output_type": "stream",
     "text": [
      "Some weights of the model checkpoint at distilbert-base-uncased were not used when initializing DistilBertModel: ['vocab_layer_norm.bias', 'vocab_projector.weight', 'vocab_projector.bias', 'vocab_layer_norm.weight', 'vocab_transform.bias', 'vocab_transform.weight']\n",
      "- This IS expected if you are initializing DistilBertModel from the checkpoint of a model trained on another task or with another architecture (e.g. initializing a BertForSequenceClassification model from a BertForPreTraining model).\n",
      "- This IS NOT expected if you are initializing DistilBertModel from the checkpoint of a model that you expect to be exactly identical (initializing a BertForSequenceClassification model from a BertForSequenceClassification model).\n"
     ]
    },
    {
     "name": "stdout",
     "output_type": "stream",
     "text": [
      "CPU Success\n"
     ]
    }
   ],
   "source": [
    "model = loadBERT(\"../models/\", 'saved_weights_inf_FIXED.pt')\n",
    "tokenizer = DistilBertTokenizer.from_pretrained('distilbert-base-uncased')"
   ]
  },
  {
   "cell_type": "code",
   "execution_count": 3,
   "id": "83111455-1e9a-4426-b34d-98f0d4279a59",
   "metadata": {},
   "outputs": [],
   "source": [
    "test_agro = pickle.load(open('../data/processed/testing_web_trees_agroforestry.pkl', 'rb'))\n",
    "test_llifle = pickle.load(open('../data/processed/testing_web_trees_llifle.pkl', 'rb'))"
   ]
  },
  {
   "cell_type": "code",
   "execution_count": 4,
   "id": "17503246-844e-4f9b-87a8-147af5ad3ce7",
   "metadata": {},
   "outputs": [],
   "source": [
    "text= \"\"\"\n",
    "The brown bear (Ursus arctos) is a large bear species found across Eurasia and North America.[1][2] In North America, the populations of brown bears are called grizzly bears, while the subspecies that inhabits the Kodiak Islands of Alaska is known as the Kodiak bear. It is one of the largest living terrestrial members of the order Carnivora, rivaled in size only by its closest relative, the polar bear (Ursus maritimus), which is much less variable in size and slightly bigger on average.[3][4][5][6][7] The brown bear's range includes parts of Russia, Central Asia, China, Canada, the United States, Hokkaido, Scandinavia, Finland, the Balkans, the Picos de Europa and the Carpathian region (especially Romania), Iran, Anatolia, and the Caucasus.[1][8] The brown bear is recognized as a national and state animal in several European countries.[9]\n",
    "\"\"\""
   ]
  },
  {
   "cell_type": "code",
   "execution_count": 5,
   "id": "2a90c79e-5683-4dce-86a8-76c75516a53e",
   "metadata": {},
   "outputs": [
    {
     "data": {
      "text/plain": [
       "[The brown bear is recognized as a national and state animal in several European countries.,\n",
       " In North America, the populations of brown bears are called grizzly bears, while the subspecies that inhabits the Kodiak Islands of Alaska is known as the Kodiak bear.,\n",
       " The brown bear's range includes parts of Russia, Central Asia, China, Canada, the United States, Hokkaido, Scandinavia, Finland, the Balkans, the Picos de Europa and the Carpathian region , Iran, Anatolia, and the Caucasus.,\n",
       " The brown bear  is a large bear species found across Eurasia and North America.,\n",
       " It is one of the largest living terrestrial members of the order Carnivora, rivaled in size only by its closest relative, the polar bear , which is much less variable in size and slightly bigger on average.]"
      ]
     },
     "execution_count": 5,
     "metadata": {},
     "output_type": "execute_result"
    }
   ],
   "source": [
    "text_cleaner(text)"
   ]
  },
  {
   "cell_type": "code",
   "execution_count": 6,
   "id": "2b745e94-77be-414d-9204-b286a3ce9115",
   "metadata": {},
   "outputs": [
    {
     "data": {
      "text/plain": [
       "(1, tensor([0.1452, 0.8548]))"
      ]
     },
     "execution_count": 6,
     "metadata": {},
     "output_type": "execute_result"
    }
   ],
   "source": [
    "classify('The bill is black.', model=model, pred_values=True)"
   ]
  },
  {
   "cell_type": "code",
   "execution_count": 7,
   "id": "63bf5a77-b9b0-4cc1-b344-0cd86568d38e",
   "metadata": {},
   "outputs": [
    {
     "name": "stderr",
     "output_type": "stream",
     "text": [
      "100%|███████████████████████████████████████████| 25/25 [00:17<00:00,  1.43it/s]\n"
     ]
    }
   ],
   "source": [
    "x, y = get_prediction_results(test_llifle, model=model,\n",
    "                       index=25, soft_error=True, beta=0.95)"
   ]
  }
 ],
 "metadata": {
  "kernelspec": {
   "display_name": "Python [conda env:DL]",
   "language": "python",
   "name": "conda-env-DL-py"
  },
  "language_info": {
   "codemirror_mode": {
    "name": "ipython",
    "version": 3
   },
   "file_extension": ".py",
   "mimetype": "text/x-python",
   "name": "python",
   "nbconvert_exporter": "python",
   "pygments_lexer": "ipython3",
   "version": "3.8.10"
  }
 },
 "nbformat": 4,
 "nbformat_minor": 5
}
