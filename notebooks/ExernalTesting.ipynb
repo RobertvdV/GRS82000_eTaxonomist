{
 "cells": [
  {
   "cell_type": "code",
   "execution_count": 1,
   "id": "40add63c-a2e1-49d1-9e2b-09804b1ae865",
   "metadata": {},
   "outputs": [
    {
     "name": "stderr",
     "output_type": "stream",
     "text": [
      "Some weights of the model checkpoint at distilbert-base-uncased were not used when initializing DistilBertModel: ['vocab_projector.weight', 'vocab_transform.weight', 'vocab_layer_norm.bias', 'vocab_transform.bias', 'vocab_layer_norm.weight', 'vocab_projector.bias']\n",
      "- This IS expected if you are initializing DistilBertModel from the checkpoint of a model trained on another task or with another architecture (e.g. initializing a BertForSequenceClassification model from a BertForPreTraining model).\n",
      "- This IS NOT expected if you are initializing DistilBertModel from the checkpoint of a model that you expect to be exactly identical (initializing a BertForSequenceClassification model from a BertForSequenceClassification model).\n"
     ]
    }
   ],
   "source": [
    "import random\n",
    "from tqdm import tqdm\n",
    "import time\n",
    "import pickle\n",
    "import numpy as np\n",
    "from itertools import chain\n",
    "from collections import Counter\n",
    "from tqdm import tqdm\n",
    "from sklearn.metrics import PrecisionRecallDisplay\n",
    "from sklearn.metrics import roc_auc_score\n",
    "from sklearn.metrics import roc_curve, auc\n",
    "import matplotlib.pyplot as plt\n",
    "from transformers import DistilBertTokenizer, DistilBertModel\n",
    "\n",
    "import sys\n",
    "sys.path.insert(0, '../src/models/')\n",
    "sys.path.insert(0, '../src/features/')\n",
    "#sys.path.insert(0, '../src/visualization/')\n",
    "\n",
    "from predict_model import loadBERT\n",
    "from predict_model import SpanPredictor as classify\n",
    "from build_features import text_cleaner\n",
    "from build_features import get_prediction_results\n",
    "#import visualize as vis\n",
    "\n",
    "%matplotlib inline"
   ]
  },
  {
   "cell_type": "markdown",
   "id": "b4bf47cf-e08e-4a54-b4df-fc00eb87d364",
   "metadata": {},
   "source": [
    "## Load the model, tokenizer and external datasets"
   ]
  },
  {
   "cell_type": "code",
   "execution_count": 2,
   "id": "8c9ac59d-0ee2-496b-9f3c-48ffbf2f87de",
   "metadata": {},
   "outputs": [
    {
     "name": "stdout",
     "output_type": "stream",
     "text": [
      "CPU Success\n"
     ]
    }
   ],
   "source": [
    "model = loadBERT(\"../models/\", 'saved_weights_inf_FIXED_boot_beta80.pt')\n",
    "tokenizer = DistilBertTokenizer.from_pretrained('distilbert-base-uncased')"
   ]
  },
  {
   "cell_type": "code",
   "execution_count": 3,
   "id": "83111455-1e9a-4426-b34d-98f0d4279a59",
   "metadata": {},
   "outputs": [],
   "source": [
    "test_agro = pickle.load(open('../data/processed/testing_web_trees_agroforestry.pkl', 'rb'))\n",
    "test_llifle = pickle.load(open('../data/processed/testing_web_trees_llifle.pkl', 'rb'))\n",
    "\n",
    "data = dict(test_agro) \n",
    "data.update(test_llifle)"
   ]
  },
  {
   "cell_type": "markdown",
   "id": "32435b54-73e1-4acd-a867-f4160d5674f1",
   "metadata": {},
   "source": [
    "## Get uncertain labels"
   ]
  },
  {
   "cell_type": "code",
   "execution_count": 4,
   "id": "9053240a-47b3-4e8f-9473-eb71af4107f6",
   "metadata": {},
   "outputs": [],
   "source": [
    "# Undict the data\n",
    "external_data = (list(chain.from_iterable(data.values())))"
   ]
  },
  {
   "cell_type": "code",
   "execution_count": 19,
   "id": "b68dd92d-f169-4a49-9687-6f611e274b85",
   "metadata": {},
   "outputs": [
    {
     "name": "stderr",
     "output_type": "stream",
     "text": [
      "100%|██████████████████████████| 17204/17204 [00:00<00:00, 2052531.74it/s]\n",
      "100%|██████████████████████████| 17204/17204 [00:00<00:00, 2019953.70it/s]"
     ]
    },
    {
     "name": "stdout",
     "output_type": "stream",
     "text": [
      "17204 samples.\n",
      "771 labels with 1 (true).\n",
      "16433 labels with 0 (false).\n"
     ]
    },
    {
     "name": "stderr",
     "output_type": "stream",
     "text": [
      "\n"
     ]
    }
   ],
   "source": [
    "ones = Counter(ones[0] for ones in tqdm(external_data) if ones[0] == 1)\n",
    "zeros = Counter(ones[0] for ones in tqdm(external_data) if ones[0] == 0)\n",
    "\n",
    "print('{0} samples.'. format(len(external_data)))\n",
    "print('{0} labels with 1 (true).'.format(ones[1]))\n",
    "print('{0} labels with 0 (false).'.format(zeros[0]))"
   ]
  },
  {
   "cell_type": "code",
   "execution_count": 12,
   "id": "d0343bbd-5ce9-4d38-90e1-416bd903a2ac",
   "metadata": {},
   "outputs": [
    {
     "name": "stderr",
     "output_type": "stream",
     "text": [
      "100%|█████████████████████████████| 17204/17204 [1:02:31<00:00,  4.59it/s]\n"
     ]
    }
   ],
   "source": [
    "# Init emmty_list:\n",
    "uncertain_list = []\n",
    "# Arrays for plotting\n",
    "yhat = np.array([]).reshape(0, 2)\n",
    "y_onecold = np.array([])\n",
    "# Sentence list\n",
    "sentence_list = []\n",
    "\n",
    "# loop over the values of the list\n",
    "for (label, span) in tqdm(external_data):\n",
    "    # Clean the sentence\n",
    "    sentences = text_cleaner(span)\n",
    "    # Loop over the sentences\n",
    "    for sent in sentences:\n",
    "        # Store for plotting\n",
    "        sentence_list.append((label, sent))\n",
    "        # Get predictions\n",
    "        (pred_label, pred_value) = classify(sent, model=model, pred_values=True)\n",
    "        # Store for plotting\n",
    "        yhat = np.vstack([yhat, pred_value.numpy()])\n",
    "        y_onecold = np.hstack([y_onecold, label])\n",
    "        # Detach\n",
    "        pred_value = pred_value[1].numpy().item()\n",
    "        if  0.45 < pred_value < 0.55:\n",
    "            # Append to list\n",
    "            uncertain_list.append((pred_label, pred_value, sent))\n",
    "            #print(pred_value, sent)\n",
    "\n",
    "uncertain_list = list(set(uncertain_list))            "
   ]
  },
  {
   "cell_type": "code",
   "execution_count": 13,
   "id": "6d3a4975-bdb5-459f-a4ae-d263731c74cc",
   "metadata": {},
   "outputs": [],
   "source": [
    "with open('../data/processed/uncertain_sentences.pkl', 'wb') as f:\n",
    "    pickle.dump(uncertain_list, f)\n",
    "with open('../data/processed/external_testing_sentences.pkl', 'wb') as f:\n",
    "    pickle.dump(sentence_list, f)"
   ]
  },
  {
   "cell_type": "markdown",
   "id": "ec0d150e-b0f8-48ac-9606-69dccf7c2244",
   "metadata": {},
   "source": [
    "## Prediction on external dataset and Plotting"
   ]
  },
  {
   "cell_type": "code",
   "execution_count": 14,
   "id": "63bf5a77-b9b0-4cc1-b344-0cd86568d38e",
   "metadata": {},
   "outputs": [
    {
     "name": "stderr",
     "output_type": "stream",
     "text": [
      "100%|█████████████████████████████| 74836/74836 [1:00:31<00:00, 20.61it/s]\n"
     ]
    }
   ],
   "source": [
    "report, misclassified_sents, y_onehot = get_prediction_results(sentence_list, \n",
    "                                                                 model=model,\n",
    "                                                                 soft_error=True, \n",
    "                                                                 beta=0.80)"
   ]
  },
  {
   "cell_type": "code",
   "execution_count": 15,
   "id": "66a1d58b-bc21-44f1-b5e0-335c96efced1",
   "metadata": {},
   "outputs": [
    {
     "name": "stdout",
     "output_type": "stream",
     "text": [
      "              precision    recall  f1-score   support\n",
      "\n",
      "         0.0       0.99      0.98      0.98     66051\n",
      "         1.0       0.83      0.90      0.86      8785\n",
      "\n",
      "    accuracy                           0.97     74836\n",
      "   macro avg       0.91      0.94      0.92     74836\n",
      "weighted avg       0.97      0.97      0.97     74836\n",
      "\n"
     ]
    }
   ],
   "source": [
    "print(report)"
   ]
  },
  {
   "cell_type": "markdown",
   "id": "720c80c1-941e-4108-82cd-d15e15671219",
   "metadata": {},
   "source": [
    "### ROC"
   ]
  },
  {
   "cell_type": "code",
   "execution_count": 16,
   "id": "62a721f6-65e5-462c-8a67-4615e26f0b4c",
   "metadata": {},
   "outputs": [
    {
     "data": {
      "image/png": "[encoded data removed]",
      "text/plain": [
       "<Figure size 360x360 with 1 Axes>"
      ]
     },
     "metadata": {
      "needs_background": "light"
     },
     "output_type": "display_data"
    }
   ],
   "source": [
    "# Compute ROC curve and ROC area for each class\n",
    "fpr = dict()\n",
    "tpr = dict()\n",
    "roc_auc = dict()\n",
    "for i in range(2):\n",
    "    fpr[i], tpr[i], _ = roc_curve(y_onehot[:, i], yhat[:, i])\n",
    "    roc_auc[i] = auc(fpr[i], tpr[i])\n",
    "\n",
    "# Compute micro-average ROC curve and ROC area\n",
    "fpr[\"micro\"], tpr[\"micro\"], _ = roc_curve(y_onehot.ravel(), yhat.ravel())\n",
    "roc_auc[\"micro\"] = auc(fpr[\"micro\"], tpr[\"micro\"])\n",
    "\n",
    "fig, ax = plt.subplots(figsize=(5, 5))\n",
    "#plt.figure()\n",
    "lw = 2\n",
    "ax.plot(fpr[1], tpr[1], color='darkorange',\n",
    "         lw=lw, label='ROC curve (area = %0.2f)' % roc_auc[1])\n",
    "ax.plot([0, 1], [0, 1], color='navy', lw=lw, linestyle='--')\n",
    "plt.xlim([-0.01, 1.0])\n",
    "plt.ylim([0.0, 1.01])\n",
    "plt.xlabel('False Positive Rate')\n",
    "plt.ylabel('True Positive Rate')\n",
    "plt.title('Receiver Operating Characteristic')\n",
    "plt.legend(loc=\"lower right\")\n",
    "plt.show()\n",
    "fig.savefig('AUC-ROC_external.svg', format='svg', dpi=1200, bbox_inches='tight')"
   ]
  },
  {
   "cell_type": "markdown",
   "id": "92b70f6b-c5be-4d59-88c2-25d832ee437e",
   "metadata": {},
   "source": [
    "## Precision-recall curve"
   ]
  },
  {
   "cell_type": "code",
   "execution_count": 17,
   "id": "df4c9e8c-a1a9-450b-8385-585bd0ddc113",
   "metadata": {},
   "outputs": [
    {
     "name": "stderr",
     "output_type": "stream",
     "text": [
      "100%|████████████████████████████| 74836/74836 [00:01<00:00, 52277.27it/s]\n"
     ]
    }
   ],
   "source": [
    "# Correct for beta\n",
    "y_onecold_corrected = np.array([])\n",
    "for label, prediction in zip(tqdm(y_onecold), yhat):\n",
    "    if prediction[0] > 0.80:\n",
    "        y_onecold_corrected = np.hstack([y_onecold_corrected, 0])\n",
    "    elif prediction[1] > 0.80:\n",
    "        y_onecold_corrected = np.hstack([y_onecold_corrected, 1])\n",
    "    else:\n",
    "        y_onecold_corrected = np.hstack([y_onecold_corrected, label])"
   ]
  },
  {
   "cell_type": "code",
   "execution_count": 18,
   "id": "36cde437-bb4a-4ee5-91b5-6d1f74832ada",
   "metadata": {},
   "outputs": [
    {
     "data": {
      "image/png": "[encoded data removed]",
      "text/plain": [
       "<Figure size 360x360 with 1 Axes>"
      ]
     },
     "metadata": {
      "needs_background": "light"
     },
     "output_type": "display_data"
    },
    {
     "data": {
      "image/png": "[encoded data removed]",
      "text/plain": [
       "<Figure size 432x288 with 1 Axes>"
      ]
     },
     "metadata": {
      "needs_background": "light"
     },
     "output_type": "display_data"
    }
   ],
   "source": [
    "fig, ax = plt.subplots(figsize=(5, 5))\n",
    "display = PrecisionRecallDisplay.from_predictions(y_onecold_corrected, yhat[:, 1], name=\"Description Text Classifier\")\n",
    "_ = display.ax_.set_title(\"2-class Precision-Recall Curve\")\n",
    "#display.plot(ax=ax)\n",
    "display.ax_.set_xlim([-0.01, 1.01])\n",
    "display.ax_.set_ylim([-0.01, 1.01])\n",
    "ax.set_xlim([-0.01, 1.01])\n",
    "ax.set_ylim([-0.01, 1.01])\n",
    "ax.plot([0, 1], [0.5, 0.5], color='navy', lw=lw, linestyle='--')\n",
    "display.plot(ax=ax)\n",
    "ax.set_title(\"2-class Precision-Recall Curve\")\n",
    "fig.savefig('precision_recall_plot_extern.svg', format='svg', dpi=1200, bbox_inches='tight')"
   ]
  },
  {
   "cell_type": "code",
   "execution_count": null,
   "id": "f82a0ccc-83e7-43a1-ac80-7a9a6723c206",
   "metadata": {},
   "outputs": [],
   "source": []
  }
 ],
 "metadata": {
  "kernelspec": {
   "display_name": "Python [conda env:DL]",
   "language": "python",
   "name": "conda-env-DL-py"
  },
  "language_info": {
   "codemirror_mode": {
    "name": "ipython",
    "version": 3
   },
   "file_extension": ".py",
   "mimetype": "text/x-python",
   "name": "python",
   "nbconvert_exporter": "python",
   "pygments_lexer": "ipython3",
   "version": "3.8.10"
  }
 },
 "nbformat": 4,
 "nbformat_minor": 5
}
