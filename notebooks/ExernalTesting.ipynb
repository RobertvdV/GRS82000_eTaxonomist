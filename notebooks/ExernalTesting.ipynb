{
 "cells": [
  {
   "cell_type": "code",
   "execution_count": 1,
   "id": "40add63c-a2e1-49d1-9e2b-09804b1ae865",
   "metadata": {},
   "outputs": [
    {
     "name": "stderr",
     "output_type": "stream",
     "text": [
      "Some weights of the model checkpoint at distilbert-base-uncased were not used when initializing DistilBertModel: ['vocab_layer_norm.bias', 'vocab_layer_norm.weight', 'vocab_transform.bias', 'vocab_transform.weight', 'vocab_projector.weight', 'vocab_projector.bias']\n",
      "- This IS expected if you are initializing DistilBertModel from the checkpoint of a model trained on another task or with another architecture (e.g. initializing a BertForSequenceClassification model from a BertForPreTraining model).\n",
      "- This IS NOT expected if you are initializing DistilBertModel from the checkpoint of a model that you expect to be exactly identical (initializing a BertForSequenceClassification model from a BertForSequenceClassification model).\n"
     ]
    }
   ],
   "source": [
    "import random\n",
    "from tqdm import tqdm\n",
    "import time\n",
    "import pickle\n",
    "from itertools import chain\n",
    "from tqdm import tqdm\n",
    "from transformers import DistilBertTokenizer, DistilBertModel\n",
    "\n",
    "import sys\n",
    "sys.path.insert(0, '../src/models/')\n",
    "sys.path.insert(0, '../src/features/')\n",
    "#sys.path.insert(0, '../src/visualization/')\n",
    "\n",
    "from predict_model import loadBERT\n",
    "from predict_model import SpanPredictor as classify\n",
    "from build_features import text_cleaner\n",
    "from build_features import get_prediction_results\n",
    "#import visualize as vis\n",
    "\n",
    "%matplotlib inline"
   ]
  },
  {
   "cell_type": "markdown",
   "id": "b4bf47cf-e08e-4a54-b4df-fc00eb87d364",
   "metadata": {},
   "source": [
    "## Load the model, tokenizer and external datasets"
   ]
  },
  {
   "cell_type": "code",
   "execution_count": 2,
   "id": "8c9ac59d-0ee2-496b-9f3c-48ffbf2f87de",
   "metadata": {},
   "outputs": [
    {
     "name": "stdout",
     "output_type": "stream",
     "text": [
      "CPU Success\n"
     ]
    }
   ],
   "source": [
    "model = loadBERT(\"../models/\", 'saved_weights_inf_FIXED_boot_beta80.pt')\n",
    "tokenizer = DistilBertTokenizer.from_pretrained('distilbert-base-uncased')"
   ]
  },
  {
   "cell_type": "code",
   "execution_count": 3,
   "id": "83111455-1e9a-4426-b34d-98f0d4279a59",
   "metadata": {},
   "outputs": [],
   "source": [
    "test_agro = pickle.load(open('../data/processed/testing_web_trees_agroforestry.pkl', 'rb'))\n",
    "test_llifle = pickle.load(open('../data/processed/testing_web_trees_llifle.pkl', 'rb'))\n",
    "\n",
    "data = dict(test_agro) \n",
    "data.update(test_llifle)"
   ]
  },
  {
   "cell_type": "markdown",
   "id": "32435b54-73e1-4acd-a867-f4160d5674f1",
   "metadata": {},
   "source": [
    "## Get uncertain labels"
   ]
  },
  {
   "cell_type": "code",
   "execution_count": 6,
   "id": "9053240a-47b3-4e8f-9473-eb71af4107f6",
   "metadata": {},
   "outputs": [],
   "source": [
    "# Undict the data\n",
    "external_data = (list(chain.from_iterable(data.values())))"
   ]
  },
  {
   "cell_type": "code",
   "execution_count": 7,
   "id": "d0343bbd-5ce9-4d38-90e1-416bd903a2ac",
   "metadata": {},
   "outputs": [
    {
     "name": "stderr",
     "output_type": "stream",
     "text": [
      "100%|██████████████████████████████████| 17204/17204 [59:57<00:00,  4.78it/s]\n"
     ]
    }
   ],
   "source": [
    "# Init emmty_list:\n",
    "uncertain_list = []\n",
    "\n",
    "# loop over the values of the list\n",
    "for (label, span) in tqdm(external_data):\n",
    "    # Clean the sentence\n",
    "    sentences = text_cleaner(span)\n",
    "    # Loop over the sentences\n",
    "    for sent in sentences:\n",
    "        # Get predictions\n",
    "        (pred_label, pred_value) = classify(sent, model=model, pred_values=True)\n",
    "        # Detach\n",
    "        pred_value = pred_value[1].numpy().item()\n",
    "        if  0.45 < pred_value < 0.55:\n",
    "            # Append to list\n",
    "            uncertain_list.append((pred_label, pred_value, sent))\n",
    "            #print(pred_value, sent)\n",
    "\n",
    "uncertain_list = list(set(uncertain_list))            "
   ]
  },
  {
   "cell_type": "code",
   "execution_count": 6,
   "id": "6d3a4975-bdb5-459f-a4ae-d263731c74cc",
   "metadata": {},
   "outputs": [],
   "source": [
    "with open('../data/processed/uncertain_sentences.pkl', 'wb') as f:\n",
    "    pickle.dump(uncertain_list, f)"
   ]
  },
  {
   "cell_type": "code",
   "execution_count": 8,
   "id": "65561051-f393-41fa-b675-4566b5209420",
   "metadata": {},
   "outputs": [
    {
     "name": "stdout",
     "output_type": "stream",
     "text": [
      "546\n"
     ]
    },
    {
     "data": {
      "text/plain": [
       "[(0,\n",
       "  0.49759429693222046,\n",
       "  'Biology Individual trees often flower irregularly, some trees do not flower for periods of 10-20 years, sometimes even longer.'),\n",
       " (0,\n",
       "  0.48895519971847534,\n",
       "  'The bat-adapted fruits with strong musty odour and colour duller than those of bird-dispersed ones.'),\n",
       " (1,\n",
       "  0.5126233100891113,\n",
       "  'The fruits often explosively dehisce dispersing their seeds.'),\n",
       " (0, 0.4915165305137634, 'Fruit usual for the Fabaceae family.'),\n",
       " (0, 0.45987844467163086, 'Timber: Sapwood is whitish and heartwood brown.'),\n",
       " (0,\n",
       "  0.45801159739494324,\n",
       "  'Individual trees growing on steep slopes tend to develop some buttressing that extends from the roots up into the base of the stem.'),\n",
       " (0,\n",
       "  0.4520483613014221,\n",
       "  'The 1st fruits are borne 3-4 years after flowering, and trees do not start to bear fruit until they are 15-20 years old.'),\n",
       " (1,\n",
       "  0.5360655188560486,\n",
       "  'Some branch profusely and others are more solitary.'),\n",
       " (1,\n",
       "  0.5083258748054504,\n",
       "  'Description: Mainly deciduous fast-growing, vigorous pachycaul shrubs and trees that produces colourful flowers.'),\n",
       " (1,\n",
       "  0.5470973253250122,\n",
       "  'Flowering lasts 30-75 days and the fruit takes 4-6 months to develop, reaching maturity early in the rainy season.'),\n",
       " (0,\n",
       "  0.48313844203948975,\n",
       "  'The rind is 6-10 mm thick, red in cross-section, purplish-white on the inside, contains bitter yellow latex and a purple staining juice.'),\n",
       " (0,\n",
       "  0.4788597822189331,\n",
       "  'Only the hermaphroditic flower has an ovary, a bright pink ball that is left at the end of the stem when the petals drop.'),\n",
       " (0,\n",
       "  0.46302902698516846,\n",
       "  'The bisexual flowers are produced after shedding its leaves.'),\n",
       " (1,\n",
       "  0.5171651840209961,\n",
       "  'After pollination by insects, fruit development takes 3-5 months.'),\n",
       " (1, 0.5237351655960083, 'Seeds stored for 12 months at 23 deg.'),\n",
       " (0,\n",
       "  0.4807041585445404,\n",
       "  'The goose-egg-size fruits contain a delicately sweet white pulp with delightfully crunchy black seeds.'),\n",
       " (0,\n",
       "  0.4537133574485779,\n",
       "  'Seed germination is slow and low and begins 12-17 days after sowing.'),\n",
       " (0,\n",
       "  0.47277623414993286,\n",
       "  'Flowering occurs during May to June and seeds ripen in large, crowned clusters in September to October of the same season, and are dispersed from October to the following spring.'),\n",
       " (0,\n",
       "  0.4751615524291992,\n",
       "  'In isolated situations, or on poor soils, the tree tends to branch low down and produce a short bole, but when grown in a fairly crowded crop on favourable soil it produces a long, straight, cylindrical bole with an elevated crown.'),\n",
       " (1,\n",
       "  0.5055480599403381,\n",
       "  'Such a plant with pillars rising side by side and almost touching one another has a curious resemblance to an organ with its pipes and thence its name organoStem: It forms a trunk 30-40 cm in diameter usually branching near the base.'),\n",
       " (0,\n",
       "  0.4895470440387726,\n",
       "  'They appear on the plant as a crown formed by numerous bundles arising from the top of the caudex.'),\n",
       " (0,\n",
       "  0.45243772864341736,\n",
       "  'It usually has a short bole, 3-5 m in length, sometimes longer if grown in a fully stocked forest.'),\n",
       " (1,\n",
       "  0.5026285648345947,\n",
       "  'Germplasm The seeds are recalcitrant and sometimes begin to germinate in the pod, often within a few days of reaching the ground, where they need moisture to survive.'),\n",
       " (1,\n",
       "  0.5130330920219421,\n",
       "  'The dense crown, abundant white flowers, brown fruits, and whitish latex can recognize MarÃ\\xada.'),\n",
       " (0,\n",
       "  0.48156124353408813,\n",
       "  'Biology Flowers appear when the trees are still leafless.'),\n",
       " (0,\n",
       "  0.4766448140144348,\n",
       "  'The seeds will begin sprouting in one to two weeks .'),\n",
       " (0,\n",
       "  0.47578591108322144,\n",
       "  'Timber: L. leucocephala has hard heavy wood , with a pale yellow sapwood and light reddish-brown heartwood.'),\n",
       " (0,\n",
       "  0.491048663854599,\n",
       "  'The staminal column is usually fused together along its entire length but is sometimes found with the filaments partially or completely separated.'),\n",
       " (0,\n",
       "  0.45367369055747986,\n",
       "  'Biology Kudzu may grow 35 m or more in a single season.'),\n",
       " (0,\n",
       "  0.46489575505256653,\n",
       "  'Saplings only a few years old and 1.5 m may bear substantial quantities of flowers.')]"
      ]
     },
     "execution_count": 8,
     "metadata": {},
     "output_type": "execute_result"
    }
   ],
   "source": [
    "print(len(uncertain_list))\n",
    "uncertain_list[0:30]"
   ]
  },
  {
   "cell_type": "markdown",
   "id": "ec0d150e-b0f8-48ac-9606-69dccf7c2244",
   "metadata": {},
   "source": [
    "## Prediction on external dataset"
   ]
  },
  {
   "cell_type": "code",
   "execution_count": 4,
   "id": "63bf5a77-b9b0-4cc1-b344-0cd86568d38e",
   "metadata": {},
   "outputs": [
    {
     "name": "stderr",
     "output_type": "stream",
     "text": [
      "100%|██████████████████████████████████| 10602/10602 [55:45<00:00,  3.17it/s]\n"
     ]
    }
   ],
   "source": [
    "report, misclassified_sents = get_prediction_results(data, \n",
    "                                                     model=model,\n",
    "                                                     soft_error=True, \n",
    "                                                     beta=0.70)"
   ]
  },
  {
   "cell_type": "code",
   "execution_count": 11,
   "id": "1bd6652d-ebca-4971-8adf-f7b00c1c5c78",
   "metadata": {},
   "outputs": [
    {
     "name": "stdout",
     "output_type": "stream",
     "text": [
      "              precision    recall  f1-score   support\n",
      "\n",
      "         0.0       0.99      0.97      0.98     60437\n",
      "         1.0       0.79      0.92      0.85      7019\n",
      "\n",
      "    accuracy                           0.97     67456\n",
      "   macro avg       0.89      0.94      0.92     67456\n",
      "weighted avg       0.97      0.97      0.97     67456\n",
      "\n"
     ]
    }
   ],
   "source": [
    "print(report)"
   ]
  },
  {
   "cell_type": "code",
   "execution_count": 5,
   "id": "66a1d58b-bc21-44f1-b5e0-335c96efced1",
   "metadata": {},
   "outputs": [
    {
     "name": "stdout",
     "output_type": "stream",
     "text": [
      "              precision    recall  f1-score   support\n",
      "\n",
      "         0.0       0.99      0.98      0.99     60198\n",
      "         1.0       0.85      0.95      0.90      7310\n",
      "\n",
      "    accuracy                           0.98     67508\n",
      "   macro avg       0.92      0.96      0.94     67508\n",
      "weighted avg       0.98      0.98      0.98     67508\n",
      "\n"
     ]
    }
   ],
   "source": [
    "print(report)"
   ]
  },
  {
   "cell_type": "code",
   "execution_count": null,
   "id": "36d79cb9-cefa-49d6-a2bb-6f5f84c1a84a",
   "metadata": {},
   "outputs": [],
   "source": []
  }
 ],
 "metadata": {
  "kernelspec": {
   "display_name": "Python [conda env:DL]",
   "language": "python",
   "name": "conda-env-DL-py"
  },
  "language_info": {
   "codemirror_mode": {
    "name": "ipython",
    "version": 3
   },
   "file_extension": ".py",
   "mimetype": "text/x-python",
   "name": "python",
   "nbconvert_exporter": "python",
   "pygments_lexer": "ipython3",
   "version": "3.8.10"
  }
 },
 "nbformat": 4,
 "nbformat_minor": 5
}
