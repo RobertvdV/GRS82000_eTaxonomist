{
 "cells": [
  {
   "cell_type": "code",
   "execution_count": 1,
   "id": "f71d0db3-d98c-46d4-a5bd-a7fede232c3a",
   "metadata": {},
   "outputs": [],
   "source": [
    "import glob\n",
    "from bs4 import BeautifulSoup\n",
    "import requests\n",
    "from selenium import webdriver\n",
    "import time\n",
    "import pickle\n",
    "import numpy as np\n",
    "import pandas as pd\n",
    "from tqdm.notebook import tqdm as tqdm_notebook\n",
    "import re\n",
    "import collections\n",
    "import glob\n",
    "from transformers import DistilBertTokenizer, DistilBertModel, logging\n",
    "import sys\n",
    "import time\n",
    "import requests\n",
    "import random\n",
    "from IPython.display import display, HTML\n",
    "from selenium import webdriver\n",
    "from selenium.webdriver.support.ui import WebDriverWait\n",
    "from selenium.webdriver.support import expected_conditions as EC\n",
    "from bs4 import BeautifulSoup\n",
    "from operator import itemgetter\n",
    "\n",
    "logging.set_verbosity_error()\n",
    "sys.path.insert(0, '../src/models/')\n",
    "sys.path.insert(0, '../src/features/')\n",
    "\n",
    "from predict_model import loadBERT\n",
    "from predict_model import SpanPredictor as classify\n",
    "from build_features import text_cleaner, DuckDuckGo_Java, Bing_HTML, colorize_prediction\n",
    "\n",
    "%matplotlib inline"
   ]
  },
  {
   "cell_type": "code",
   "execution_count": 2,
   "id": "dcca24ae-934e-4f46-9a38-0129d64d29ce",
   "metadata": {},
   "outputs": [
    {
     "name": "stdout",
     "output_type": "stream",
     "text": [
      "CPU Success\n"
     ]
    }
   ],
   "source": [
    "model = loadBERT(\"../models/\", 'saved_weights_inf_FIXED_boot_beta80.pt')\n",
    "tokenizer = DistilBertTokenizer.from_pretrained('distilbert-base-uncased')"
   ]
  },
  {
   "cell_type": "code",
   "execution_count": 3,
   "id": "9fd0c944-5c15-4dcc-b31e-22752eea2a36",
   "metadata": {},
   "outputs": [],
   "source": [
    "PlantNET_species = pickle.load(open('../data/PlantNet/species.pkl', 'rb'))"
   ]
  },
  {
   "cell_type": "code",
   "execution_count": null,
   "id": "83b9e2f8-f690-4807-9ff9-177f0cca7208",
   "metadata": {},
   "outputs": [],
   "source": [
    "descriptions = collections.defaultdict(list)\n",
    "for species in tqdm_notebook(PlantNET_species[0:], desc='Species', leave=True):\n",
    "    \n",
    "    # Create links and open\n",
    "    links = []\n",
    "    try:\n",
    "        google_result = f\"../data/PlantNet/google_results/{species.replace(' ', '_')}.pkl\"\n",
    "        links += pickle.load(open(google_result, 'rb'))\n",
    "        duck_result   = f\"../data/PlantNet/duck_results/{species.replace(' ', '_')}.pkl\"\n",
    "        links += pickle.load(open(duck_result, 'rb'))\n",
    "    \n",
    "    except:\n",
    "        duck_result   = f\"../data/PlantNet/duck_results/{species.replace(' ', '_')}.pkl\"\n",
    "        links += pickle.load(open(duck_result, 'rb'))\n",
    "\n",
    "    \n",
    "    links = list(set(links))\n",
    "    #for URL in tqdm_notebook(links, desc='URL', leave=False):    \n",
    "    for URL in links:      \n",
    "        try:\n",
    "            page = requests.get(URL, timeout=5)  \n",
    "            soup = BeautifulSoup(page.content, \"lxml\", from_encoding=\"iso-8859-1\")\n",
    "            if bool(set(species.split()).intersection(soup.title.text.split())):\n",
    "                dirty_text = soup.get_text(\" \", strip=False).replace('\\n', '.')\n",
    "                sentences = text_cleaner(dirty_text)\n",
    "                for sentence in sentences:\n",
    "                    if classify(sentence, model=model):\n",
    "                        descriptions[species].append(sentence)\n",
    "        except:\n",
    "            #print(f'{species} --- {URL} error!')\n",
    "            continue\n",
    "    print(species, len(descriptions[species]))"
   ]
  },
  {
   "cell_type": "code",
   "execution_count": null,
   "id": "53b8efea-e184-47bc-9242-f4add4bd8750",
   "metadata": {},
   "outputs": [],
   "source": [
    "with open(f'../data/PlantNet/descriptions_raw.pkl', 'wb') as f:\n",
    "        pickle.dump(descriptions, f)  "
   ]
  },
  {
   "cell_type": "markdown",
   "id": "c0035915-5a32-4b53-8c58-58750cbe3c08",
   "metadata": {},
   "source": [
    "# Extract Info"
   ]
  },
  {
   "cell_type": "markdown",
   "id": "ebaf3aab-b87f-42d0-b3d9-82489a4d5d43",
   "metadata": {},
   "source": [
    "See the other notebook"
   ]
  },
  {
   "cell_type": "markdown",
   "id": "24f4bc81-03b5-4e1f-9aa5-865eeec0f843",
   "metadata": {},
   "source": [
    "## Branch Importance"
   ]
  },
  {
   "cell_type": "code",
   "execution_count": 4,
   "id": "b29bb522-5a1d-4682-a397-38f5837e092e",
   "metadata": {},
   "outputs": [],
   "source": [
    "from predict_model import load_CUB_Bert as load_model\n",
    "from scipy.special import softmax\n",
    "from sklearn.preprocessing import LabelBinarizer\n",
    "import torch"
   ]
  },
  {
   "cell_type": "code",
   "execution_count": 5,
   "id": "75bcda4e-4ec1-429d-a772-0dab569419e5",
   "metadata": {},
   "outputs": [
    {
     "name": "stdout",
     "output_type": "stream",
     "text": [
      "Local Success\n"
     ]
    }
   ],
   "source": [
    "output = 226\n",
    "# Load the model\n",
    "model = load_model(\"../models/\", 'saved_weights_PlantSpecies_PlantNet_226_v2.pt', outputsize=output)"
   ]
  },
  {
   "cell_type": "code",
   "execution_count": 6,
   "id": "02b300d9-cac1-4f38-80e0-bcb1aba12b30",
   "metadata": {},
   "outputs": [],
   "source": [
    "# Load the text and the triples\n",
    "text_dict = pickle.load(open('../data/PlantNet/descriptions_triples_text.pkl', 'rb'))\n",
    "triples_dict = pickle.load(open('../data/PlantNet/descriptions_triples_rdf.pkl', 'rb'))"
   ]
  },
  {
   "cell_type": "code",
   "execution_count": 12,
   "id": "e2ea0c58-df92-4129-a629-9e381998147d",
   "metadata": {},
   "outputs": [],
   "source": [
    "# Create vectors and extract species\n",
    "lb = LabelBinarizer()\n",
    "keys = np.array([key for key in text_dict.keys()])\n",
    "keys_encoded = lb.fit_transform(keys)\n",
    "species_list = list(triples_dict.keys())"
   ]
  },
  {
   "cell_type": "code",
   "execution_count": null,
   "id": "90b0d3d5-269f-43ab-83ba-4c66169dfda0",
   "metadata": {},
   "outputs": [],
   "source": [
    "# Create predictor\n",
    "def WhichPlant(span, model):\n",
    "    with torch.no_grad():\n",
    "        # Tokenize input\n",
    "        inputs = tokenizer(span, return_tensors=\"pt\", truncation=True )\n",
    "        # Predict class\n",
    "        outputs = model(**inputs)\n",
    "        # Detach\n",
    "        outputs = outputs.detach().numpy()\n",
    "    return np.squeeze(outputs)"
   ]
  },
  {
   "cell_type": "code",
   "execution_count": null,
   "id": "71de2529-41a8-437f-93be-1d0eac06ec97",
   "metadata": {},
   "outputs": [],
   "source": [
    "# Get importance\n",
    "importance_dict = collections.defaultdict(list)\n",
    "pred_values_dict = collections.defaultdict(list)\n",
    "\n",
    "for plant in tqdm_notebook(species_list[0:2]):\n",
    "    \n",
    "    # Extract plant index\n",
    "    i = np.where(lb.classes_ == plant)[0][0]\n",
    "    # Set dimensions\n",
    "    h, w = (len(text_dict[plant]), output)\n",
    "    \n",
    "    pred_values = []\n",
    "    \n",
    "    logvalues = np.zeros((h), float)\n",
    "    for idx, text in enumerate(text_dict[plant][0:]):\n",
    "        probs = WhichPlant(text, model=model)\n",
    "        logvalues[idx] = probs[i]\n",
    "        \n",
    "        pred_values_dict[plant].append(np.exp(probs)[i])\n",
    "\n",
    "        \n",
    "    probabilities = softmax(logvalues)\n",
    "    #probabilities = logvalues\n",
    "    \n",
    "    for idx, (prob, triple) in enumerate(zip(probabilities, triples_dict[plant])):\n",
    "        #if pred_values_dict[plant][idx] > 0.8:\n",
    "        #    print(plant, triple)\n",
    "        #    continue\n",
    "        importance_dict[plant].append((prob, triple))\n",
    "\n",
    "    # Sort the list\n",
    "    # Error when plotting\n",
    "    #importance_dict[plant].sort(key=itemgetter(0), reverse=True)"
   ]
  },
  {
   "cell_type": "code",
   "execution_count": null,
   "id": "ab16d792-962e-4c03-881f-82c213da215c",
   "metadata": {},
   "outputs": [],
   "source": [
    "#a = np.array(pred_values_dict[species])\n",
    "#b = np.array(triples_dict[species])\n",
    "#print(b[a>0.9])"
   ]
  },
  {
   "cell_type": "code",
   "execution_count": null,
   "id": "86e12bde-497d-47b3-92dd-858e50092c4b",
   "metadata": {},
   "outputs": [],
   "source": [
    "#with open(f'../data/PlantNet/descriptions_importance_v2.pkl', 'wb') as f:\n",
    "#        pickle.dump(importance_dict, f)  "
   ]
  },
  {
   "cell_type": "code",
   "execution_count": null,
   "id": "8044bc7e-d287-496c-81a3-3908c29156aa",
   "metadata": {},
   "outputs": [],
   "source": [
    "importance_dict = pickle.load(open(f'../data/PlantNet/descriptions_importance_v2.pkl', 'rb'))"
   ]
  },
  {
   "cell_type": "code",
   "execution_count": null,
   "id": "1d12aa4e-242a-4f65-8587-6c81f44a11db",
   "metadata": {},
   "outputs": [],
   "source": [
    "#importance_dict['Pyrus communis L.']"
   ]
  },
  {
   "cell_type": "markdown",
   "id": "4541f554-0f24-4008-b40f-404da01f1fb0",
   "metadata": {},
   "source": [
    "# MONT"
   ]
  },
  {
   "cell_type": "code",
   "execution_count": 7,
   "id": "03d6d091-31b3-4ce6-a9b0-dcd76d3cc799",
   "metadata": {},
   "outputs": [],
   "source": [
    "# Load the text and the triples\n",
    "text_dict = pickle.load(open('../data/PlantNet/descriptions_triples_text_with_sentence.pkl', 'rb'))\n",
    "triples_dict = pickle.load(open('../data/PlantNet/descriptions_triples_rdf_with_sentence.pkl', 'rb'))"
   ]
  },
  {
   "cell_type": "code",
   "execution_count": null,
   "id": "af739754-becc-4f9c-b74a-61c376647d79",
   "metadata": {},
   "outputs": [],
   "source": [
    "# Get importance\n",
    "importance_dict = collections.defaultdict(list)\n",
    "pred_values_dict = collections.defaultdict(list)\n",
    "\n",
    "for plant in tqdm_notebook(species_list[0:]):\n",
    "    \n",
    "    # Extract plant index\n",
    "    i = np.where(lb.classes_ == plant)[0][0]\n",
    "    # Set dimensions\n",
    "    h, w = (len(text_dict[plant]), output)\n",
    "    \n",
    "    pred_values = []\n",
    "    \n",
    "    logvalues = np.zeros((h), float)\n",
    "    for idx, text in enumerate(text_dict[plant][0:]):\n",
    "        probs = WhichPlant(text, model=model)\n",
    "        logvalues[idx] = probs[i]\n",
    "        \n",
    "        pred_values_dict[plant].append(np.exp(probs)[i])\n",
    "\n",
    "        \n",
    "    probabilities = softmax(logvalues)\n",
    "    #probabilities = logvalues\n",
    "    \n",
    "    for idx, (prob, log, triple) in enumerate(zip(probabilities, logvalues, triples_dict[plant])):\n",
    "        #if pred_values_dict[plant][idx] > 0.8:\n",
    "        #    print(plant, triple)\n",
    "        #    continue\n",
    "        importance_dict[plant].append((idx, prob, log, triple))\n",
    "\n",
    "    # Sort the list\n",
    "    # Error when plotting\n",
    "    #importance_dict[plant].sort(key=itemgetter(0), reverse=True)"
   ]
  },
  {
   "cell_type": "code",
   "execution_count": null,
   "id": "277e3306-158f-47ae-8414-9b59690d5f6e",
   "metadata": {},
   "outputs": [],
   "source": [
    "#importance_dict[plant].sort(key=itemgetter(0), reverse=True)"
   ]
  },
  {
   "cell_type": "code",
   "execution_count": null,
   "id": "741c3cfb-349a-4738-809b-076872a8938c",
   "metadata": {},
   "outputs": [],
   "source": [
    "#importance_dict"
   ]
  },
  {
   "cell_type": "code",
   "execution_count": null,
   "id": "d67eaa8a-21f9-465d-ba37-62ab862f31f8",
   "metadata": {},
   "outputs": [],
   "source": [
    "data = []\n",
    "for key in importance_dict.keys():\n",
    "    for (idx, prob, log, (sub, rel, obj, text)) in importance_dict[key]:\n",
    "        data.append((key, idx, prob, log, sub, rel, obj, text))"
   ]
  },
  {
   "cell_type": "code",
   "execution_count": null,
   "id": "e4c0fdb0-f04e-44f7-ad58-e6257b43a2fe",
   "metadata": {},
   "outputs": [],
   "source": [
    "df = pd.DataFrame(data, columns=['species', 'triple_id', 'importance', 'orig_log', 'subject', 'relation', 'object', 'orig_sent'])"
   ]
  },
  {
   "cell_type": "code",
   "execution_count": null,
   "id": "906c29a7-5c62-4b61-86fd-3ca408d24972",
   "metadata": {},
   "outputs": [],
   "source": [
    "df['text'] = df['subject'].str.capitalize() + ' ' + df['relation'] + ' ' + df['object'] + '.'"
   ]
  },
  {
   "cell_type": "code",
   "execution_count": null,
   "id": "ea47b070-4134-4a7d-94c7-9d6d6fcdf314",
   "metadata": {},
   "outputs": [],
   "source": [
    "df.to_csv(f'../data/PlantNet/preliminary_results.csv') "
   ]
  },
  {
   "cell_type": "code",
   "execution_count": null,
   "id": "27504079-ba45-4983-ac80-1f6c07014fe3",
   "metadata": {},
   "outputs": [],
   "source": [
    "df = pd.read_csv(f'../data/PlantNet/preliminary_results.csv', index_col=None)"
   ]
  },
  {
   "cell_type": "code",
   "execution_count": null,
   "id": "679e6926-6fd1-4c03-a4be-88c7db20e11d",
   "metadata": {},
   "outputs": [],
   "source": [
    "df.loc[21583].values"
   ]
  },
  {
   "cell_type": "markdown",
   "id": "7cd247ca-4e19-432b-9284-01d51694cf96",
   "metadata": {},
   "source": [
    "## Graph Comparison"
   ]
  },
  {
   "cell_type": "code",
   "execution_count": 8,
   "id": "acdcc04a-fdc3-4f4f-b36e-6623a0899220",
   "metadata": {},
   "outputs": [],
   "source": [
    "importance_dict = pickle.load(open(f'../data/PlantNet/descriptions_importance_v2.pkl', 'rb'))"
   ]
  },
  {
   "cell_type": "code",
   "execution_count": 9,
   "id": "d17cb4b8-9239-41f0-b77b-2a79c1308d59",
   "metadata": {},
   "outputs": [],
   "source": [
    "import networkx as nx\n",
    "from networkx.drawing.nx_agraph import graphviz_layout\n",
    "from netgraph import Graph\n",
    "import matplotlib.pyplot as plt\n",
    "import matplotlib.colors as mcolors\n",
    "import pandas as pd\n",
    "import matplotlib\n",
    "from operator import itemgetter"
   ]
  },
  {
   "cell_type": "code",
   "execution_count": 10,
   "id": "1353deb3-48ea-4859-90a6-569057aa8a5c",
   "metadata": {},
   "outputs": [],
   "source": [
    "def possible_parts(species, data):\n",
    "    return [obj for (_, (sub, rel, obj)) in data[species] if rel=='has main part']\n",
    "\n",
    "def create_weighted_graph(species, data, parts=False,\n",
    "                          start=0, end=9999,\n",
    "                          k=.08, scale=0.3, iterations=50, size=1.5,\n",
    "                          log=True, seed=333,\n",
    "                          species_traits=False):\n",
    "    \n",
    "    # Init variables\n",
    "    baseparts, traits, source, relation, target, correct_parts = ([] for i in range(6))\n",
    "    colors, node_size, node_color = ({} for i in range(3))\n",
    "    low, high = (1, 0)\n",
    "    cmap = matplotlib.cm.viridis\n",
    "    \n",
    "    # Drop useless parts\n",
    "    if parts: \n",
    "        if type(parts) != list: parts = [parts]\n",
    "        subparts = [obj for _, (sub, rel, obj) in data[species] if sub in parts]\n",
    "        items = subparts + parts + ['species'] + [species]\n",
    "\n",
    "    # Extract the data\n",
    "    for color, (sub, rel, obj) in data[species][start:end]:\n",
    "        if parts:\n",
    "            if sub not in items:\n",
    "                continue\n",
    "            #else:\n",
    "        if not species_traits:\n",
    "            if sub == 'species' and rel == 'is':\n",
    "                continue\n",
    "        #print((sub, rel, obj))\n",
    "        if sub == 'species':\n",
    "            sub = species\n",
    "        source.append(sub), relation.append(rel), target.append(obj), \n",
    "        colors[obj] = color\n",
    "        if rel == 'has main part':\n",
    "            baseparts.append(obj)\n",
    "        if rel == 'has part':\n",
    "            traits.append(obj)\n",
    "        # Set value range\n",
    "        if low > color: low = color\n",
    "        if high < color: high = color\n",
    "    # Select color distribtution        \n",
    "    if log: norm = mcolors.LogNorm(vmin=low, vmax=high)\n",
    "    else: norm = mcolors.Normalize(vmin=low, vmax=high)        \n",
    "    \n",
    "    # Fit data into DF\n",
    "    kg_df = pd.DataFrame({'source':source, 'target':target, 'edge':relation})\n",
    "    # Extract the node names\n",
    "    nodes = [(source, target) for source, target in zip(kg_df['source'].values, kg_df['target'].values)]\n",
    "    # Init a graph\n",
    "    G=nx.from_pandas_edgelist(kg_df, \"source\", \"target\", edge_attr=True, create_using=nx.Graph())\n",
    "    # Extract the labels\n",
    "    node_labels = {node : node for node in G}\n",
    "    edge_labels = dict(zip(list(zip(kg_df.source, kg_df.target)), kg_df['edge'].tolist()))\n",
    "    \n",
    "    # Fil in the dict\n",
    "    items += [item for (_, item) in nodes]\n",
    "    for node in node_labels:\n",
    "        if parts:\n",
    "            if node not in items:\n",
    "                continue\n",
    "        if node == species:\n",
    "            node_color[node] = 'white' \n",
    "            node_size[node] = 3.5/size\n",
    "        else: \n",
    "            node_color[node] = cmap(norm(colors[node]))\n",
    "            if node in baseparts: node_size[node] = 2/size\n",
    "            elif node in traits: node_size[node] = 1.5/size\n",
    "            else: node_size[node] = 1/size   \n",
    "    \n",
    "    # Determine position            \n",
    "    pos = nx.spring_layout(G, k=k, iterations=iterations, seed=seed, scale=scale, center=(0,0), dim=2)\n",
    "    \n",
    "    return pos, nodes, node_size, node_color, node_labels, edge_labels"
   ]
  },
  {
   "cell_type": "code",
   "execution_count": 77,
   "id": "e76718c3-e688-41b1-adc2-fee120e7166c",
   "metadata": {},
   "outputs": [
    {
     "name": "stdout",
     "output_type": "stream",
     "text": [
      "Russelia equisetiformis Schltdl. & Cham.\n",
      "['basic flower parts', 'plant property', 'stems', 'bryophytes', 'inflorescences', 'leaves', 'other parts']\n"
     ]
    }
   ],
   "source": [
    "species = species_list[15]\n",
    "parts = possible_parts(species, importance_dict)\n",
    "\n",
    "print(species)\n",
    "print(parts)"
   ]
  },
  {
   "cell_type": "code",
   "execution_count": 78,
   "id": "9a5b3d38-0617-4603-b598-fcf81b01b5c3",
   "metadata": {},
   "outputs": [],
   "source": [
    "#species_list.index('Russelia equisetiformis Schltdl. & Cham.')"
   ]
  },
  {
   "cell_type": "code",
   "execution_count": 87,
   "id": "dcb5e1c7-ac97-4d58-829f-44104839f4ce",
   "metadata": {},
   "outputs": [],
   "source": [
    "pos, nodes, node_size, node_color, node_labels, edge_labels = create_weighted_graph(species=species, \n",
    "                                                                               data=importance_dict, \n",
    "                                                                               end=40, log=True, parts=parts[0:],\n",
    "                                                                               iterations=500)"
   ]
  },
  {
   "cell_type": "code",
   "execution_count": 91,
   "id": "f56175f2-90e3-4954-af42-127c84abf484",
   "metadata": {},
   "outputs": [
    {
     "data": {
      "image/png": "[encoded data removed]",
      "text/plain": [
       "<Figure size 864x864 with 1 Axes>"
      ]
     },
     "metadata": {},
     "output_type": "display_data"
    }
   ],
   "source": [
    "fig, ax = plt.subplots(figsize=(12, 12))\n",
    "Graph(nodes, \n",
    "      node_layout=pos, edge_layout='straight', \n",
    "      arrows=True, node_zorder=3,\n",
    "      node_label_offset=0.02, \n",
    "      node_labels=node_labels, node_color=node_color,\n",
    "      node_label_fontdict=dict(size=8, rotation=0, ha='center', clip_on=False), node_edge_width=0.2,\n",
    "      node_size=node_size,  \n",
    "      edge_width=0.4,\n",
    "      ax=ax)\n",
    "\n",
    "plt.savefig('kngraph_weighted.pdf', format='pdf', dpi=1200, bbox_inches='tight')"
   ]
  },
  {
   "cell_type": "code",
   "execution_count": null,
   "id": "e50cf44d-9bbb-494e-81f6-c8ce010c8888",
   "metadata": {},
   "outputs": [],
   "source": [
    "%%capture\n",
    "\n",
    "for species in tqdm_notebook(species_list[0:]):\n",
    "    parts = possible_parts(species, importance_dict)\n",
    "    for part in parts:\n",
    "        \n",
    "        \n",
    "        pos, nodes, node_size, node_color, node_labels, edge_labels = create_weighted_graph(species=species, \n",
    "                                                                               data=importance_dict, \n",
    "                                                                               end=999, log=True, parts=part,\n",
    "                                                                               iterations=500)\n",
    "        \n",
    "        fig, ax = plt.subplots(figsize=(12, 12))\n",
    "        Graph(nodes, \n",
    "              node_layout=pos, edge_layout='straight', \n",
    "              arrows=True, node_zorder=3,\n",
    "              node_label_offset=0.02, \n",
    "              node_labels=node_labels, node_color=node_color,\n",
    "              node_label_fontdict=dict(size=8, rotation=0, ha='center', clip_on=False), node_edge_width=0.2,\n",
    "              node_size=node_size,  \n",
    "              edge_width=0.4,\n",
    "              ax=ax)\n",
    "        \n",
    "        plt.savefig(f'../data/PlantNet/graphs/{species}_{part}.pdf', format='pdf', dpi=1200, bbox_inches='tight')\n",
    "        "
   ]
  },
  {
   "cell_type": "code",
   "execution_count": null,
   "id": "0b0fdc64-0c98-4ad0-a2f1-a2928f607405",
   "metadata": {},
   "outputs": [],
   "source": []
  }
 ],
 "metadata": {
  "kernelspec": {
   "display_name": "Python [conda env:DL]",
   "language": "python",
   "name": "conda-env-DL-py"
  },
  "language_info": {
   "codemirror_mode": {
    "name": "ipython",
    "version": 3
   },
   "file_extension": ".py",
   "mimetype": "text/x-python",
   "name": "python",
   "nbconvert_exporter": "python",
   "pygments_lexer": "ipython3",
   "version": "3.8.10"
  }
 },
 "nbformat": 4,
 "nbformat_minor": 5
}
