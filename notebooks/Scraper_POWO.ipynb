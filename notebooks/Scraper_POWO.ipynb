{
 "cells": [
  {
   "cell_type": "code",
   "execution_count": 1,
   "id": "fa95c6a2-4bdc-4f0e-8420-b1af47ac6590",
   "metadata": {},
   "outputs": [],
   "source": [
    "import glob\n",
    "import pandas as pd\n",
    "import numpy as np\n",
    "import pickle\n",
    "import re\n",
    "from bs4 import BeautifulSoup\n",
    "import collections\n",
    "import requests\n",
    "from itertools import chain\n",
    "from tqdm import tqdm"
   ]
  },
  {
   "cell_type": "code",
   "execution_count": 2,
   "id": "5146e615-93cc-4370-9dae-4fcc0e7ce13d",
   "metadata": {},
   "outputs": [],
   "source": [
    "# Load POWO\n",
    "powo = pickle.load(open('../data/processed/description_web_powo_part1-5.pkl', 'rb'))\n",
    "# Load all powo data\n",
    "ipni_data = pd.read_csv('../data/external/ipni.csv', header=None)\n",
    "ipni_data.columns = ['link', 'species', 'subname', \n",
    "                     'x4',    'x5',     'x6',\n",
    "                     'x7',    'x8',     'x9', \n",
    "                     'x10',   'x11',    'x12',]\n",
    "\n",
    "# List species\n",
    "powo_list = list(powo.keys())\n",
    "# Drop species without description\n",
    "inpi_df = ipni_data[ipni_data['species'].isin(powo_list)]"
   ]
  },
  {
   "cell_type": "code",
   "execution_count": 4,
   "id": "aa385e56-1593-446a-a892-6eb191d5a1d8",
   "metadata": {},
   "outputs": [
    {
     "name": "stderr",
     "output_type": "stream",
     "text": [
      "100%|██████████████████████████████████████████████████████████████████████████████████████████████| 20/20 [00:14<00:00,  1.33it/s]\n"
     ]
    }
   ],
   "source": [
    "ipni_data = inpi_df.iloc[0:20, :]\n",
    "\n",
    "# loop over URLs\n",
    "for ipni_link, species, subname in zip(tqdm(ipni_data.link), ipni_data.species, ipni_data.subname):\n",
    "    \n",
    "    #print(species)\n",
    "    \n",
    "    URL = 'http://powo.science.kew.org/taxon/' + ipni_link\n",
    "    #print(URL)\n",
    "    \n",
    "    try:\n",
    "        page = requests.get(URL, timeout=5)\n",
    "        soup = BeautifulSoup(page.content, 'html.parser')\n",
    "        # Create folder\n",
    "        # Dump the HTML file\n",
    "        with open('../data/raw/POWO/' + species + ' - ' + subname + '.html', \"w\") as f:\n",
    "              f.write(str(soup))\n",
    "    except:\n",
    "        continue"
   ]
  },
  {
   "cell_type": "code",
   "execution_count": null,
   "id": "c0756bd7-f8b9-4c35-a88e-8b8882fff705",
   "metadata": {},
   "outputs": [],
   "source": [
    "powo_list[0:20]"
   ]
  },
  {
   "cell_type": "code",
   "execution_count": null,
   "id": "916e49d9-5aa1-4aac-a3b6-06b2fd9e4188",
   "metadata": {},
   "outputs": [],
   "source": [
    "ipni_data"
   ]
  },
  {
   "cell_type": "code",
   "execution_count": null,
   "id": "0a7c90ae-eae6-40c2-b0cb-f3666c2a85ac",
   "metadata": {},
   "outputs": [],
   "source": [
    "'../data/raw/POWO/' + species + '.html'"
   ]
  },
  {
   "cell_type": "code",
   "execution_count": null,
   "id": "49f41500-e3a8-4023-bd8c-5895c7d91262",
   "metadata": {},
   "outputs": [],
   "source": [
    "with open('../data/raw/POWO/' + species + '.html', \"w\") as f:\n",
    "    f.write(str(soup))"
   ]
  },
  {
   "cell_type": "code",
   "execution_count": null,
   "id": "a594006d-0b30-4dc0-b2cb-bd405345f7e1",
   "metadata": {},
   "outputs": [],
   "source": []
  }
 ],
 "metadata": {
  "kernelspec": {
   "display_name": "Python [conda env:DL]",
   "language": "python",
   "name": "conda-env-DL-py"
  },
  "language_info": {
   "codemirror_mode": {
    "name": "ipython",
    "version": 3
   },
   "file_extension": ".py",
   "mimetype": "text/x-python",
   "name": "python",
   "nbconvert_exporter": "python",
   "pygments_lexer": "ipython3",
   "version": "3.8.10"
  }
 },
 "nbformat": 4,
 "nbformat_minor": 5
}
