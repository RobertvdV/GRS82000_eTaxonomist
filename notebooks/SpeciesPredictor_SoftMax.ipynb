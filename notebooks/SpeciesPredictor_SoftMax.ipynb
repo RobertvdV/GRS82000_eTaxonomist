{
 "cells": [
  {
   "cell_type": "code",
   "execution_count": 1,
   "id": "2d0f4b81-9d06-442a-aa70-f00697a7f874",
   "metadata": {},
   "outputs": [],
   "source": [
    "import numpy as np\n",
    "import pandas as pd\n",
    "import torch\n",
    "import pickle\n",
    "import re\n",
    "from itertools import chain\n",
    "from collections import Counter\n",
    "import torch.nn as nn\n",
    "import glob\n",
    "import random\n",
    "import matplotlib.pyplot as plt\n",
    "import seaborn as sns\n",
    "from sklearn.model_selection import train_test_split\n",
    "from sklearn.metrics import classification_report\n",
    "from sklearn.utils.class_weight import compute_class_weight\n",
    "from sklearn.preprocessing import LabelBinarizer\n",
    "from sklearn.preprocessing import OneHotEncoder\n",
    "import transformers\n",
    "from transformers import AdamW\n",
    "from transformers import DistilBertTokenizer, DistilBertModel\n",
    "from torch.utils.data import TensorDataset, DataLoader, RandomSampler, SequentialSampler, Dataset, random_split\n",
    "from tqdm import tqdm\n",
    "import time\n",
    "\n",
    "%matplotlib inline"
   ]
  },
  {
   "cell_type": "code",
   "execution_count": 2,
   "id": "af176c27-d675-42e6-b104-66d557c6292b",
   "metadata": {},
   "outputs": [
    {
     "name": "stderr",
     "output_type": "stream",
     "text": [
      "Some weights of the model checkpoint at distilbert-base-uncased were not used when initializing DistilBertModel: ['vocab_projector.weight', 'vocab_transform.bias', 'vocab_projector.bias', 'vocab_layer_norm.bias', 'vocab_layer_norm.weight', 'vocab_transform.weight']\n",
      "- This IS expected if you are initializing DistilBertModel from the checkpoint of a model trained on another task or with another architecture (e.g. initializing a BertForSequenceClassification model from a BertForPreTraining model).\n",
      "- This IS NOT expected if you are initializing DistilBertModel from the checkpoint of a model that you expect to be exactly identical (initializing a BertForSequenceClassification model from a BertForSequenceClassification model).\n"
     ]
    }
   ],
   "source": [
    "# specify device\n",
    "from torch import cuda\n",
    "device = 'cuda' if cuda.is_available() else 'cpu'\n",
    "\n",
    "# Load the BERT tokenizer\n",
    "tokenizer = DistilBertTokenizer.from_pretrained('distilbert-base-uncased')\n",
    "\n",
    "# Bert mode\n",
    "bert = DistilBertModel.from_pretrained('distilbert-base-uncased')"
   ]
  },
  {
   "cell_type": "code",
   "execution_count": 4,
   "id": "45543bb0-28fe-4f14-a1e7-11ce18fbee7f",
   "metadata": {},
   "outputs": [],
   "source": [
    "class SpeciesDescriptions(Dataset):\n",
    "    \n",
    "    \"\"\"Description dataset without species names.\"\"\"\n",
    "    \n",
    "    def __init__(self, root_dir):\n",
    "        \n",
    "        self.root_dir = root_dir\n",
    "        self.samples = []\n",
    "        self._init_dataset()\n",
    "        #self.label_encoder = LabelEncoder()\n",
    "        \n",
    "    def __len__(self):\n",
    "        return len(self.samples)\n",
    "        \n",
    "    def __getitem__(self, idx):\n",
    "        return self.samples[idx]\n",
    "     \n",
    "    def _init_dataset(self):\n",
    "        \n",
    "        # Encoder \n",
    "        lb = LabelBinarizer()\n",
    "        # Init dict\n",
    "        datadict = {}\n",
    "        # Load the pickle list\n",
    "        data_files = glob.glob(self.root_dir + 'subset*.pkl')\n",
    "        for data_file in data_files:\n",
    "            # Open the dict and update\n",
    "            datadict.update(pickle.load(open(data_file, 'rb')))\n",
    "            \n",
    "        # Get keys and encode them\n",
    "        keys = np.array([key for key in datadict.keys()])\n",
    "        print(len(keys))\n",
    "        keys_encoded = lb.fit_transform(keys)\n",
    "        # Extract the values with the encoded keys\n",
    "        self.samples += [(key_label, value) for key_label, (key, value_list) in zip(keys_encoded, datadict.items()) for value in value_list]\n",
    "        \n",
    "        '''\n",
    "        for key_encode, (key, value_list) in zip(keys_encoded, datadict.items()):\n",
    "            if len(value_list) < 10:\n",
    "                continue\n",
    "            for i in range(len(value_list):\n",
    "                self.samples.append((key_encode, ' '.join(random.sample(value_list, 5))))\n",
    "        '''"
   ]
  },
  {
   "cell_type": "code",
   "execution_count": 5,
   "id": "5dac7fbd-2033-469b-bb7d-b6bda70dc444",
   "metadata": {},
   "outputs": [
    {
     "name": "stdout",
     "output_type": "stream",
     "text": [
      "Mounted @Local\n",
      "170\n"
     ]
    },
    {
     "ename": "TypeError",
     "evalue": "sequence item 0: expected str instance, tuple found",
     "output_type": "error",
     "traceback": [
      "\u001b[0;31m---------------------------------------------------------------------------\u001b[0m",
      "\u001b[0;31mTypeError\u001b[0m                                 Traceback (most recent call last)",
      "\u001b[0;32m/var/folders/gp/hp50s5114x52591qbdhn43xm0000gn/T/ipykernel_34336/1202994708.py\u001b[0m in \u001b[0;36m<module>\u001b[0;34m\u001b[0m\n\u001b[1;32m     12\u001b[0m \u001b[0mstart\u001b[0m \u001b[0;34m=\u001b[0m \u001b[0mtime\u001b[0m\u001b[0;34m.\u001b[0m\u001b[0mtime\u001b[0m\u001b[0;34m(\u001b[0m\u001b[0;34m)\u001b[0m\u001b[0;34m\u001b[0m\u001b[0;34m\u001b[0m\u001b[0m\n\u001b[1;32m     13\u001b[0m \u001b[0;31m# Load data\u001b[0m\u001b[0;34m\u001b[0m\u001b[0;34m\u001b[0m\u001b[0;34m\u001b[0m\u001b[0m\n\u001b[0;32m---> 14\u001b[0;31m \u001b[0mdata\u001b[0m \u001b[0;34m=\u001b[0m \u001b[0mSpeciesDescriptions\u001b[0m\u001b[0;34m(\u001b[0m\u001b[0mroot\u001b[0m\u001b[0;34m)\u001b[0m\u001b[0;34m\u001b[0m\u001b[0;34m\u001b[0m\u001b[0m\n\u001b[0m\u001b[1;32m     15\u001b[0m \u001b[0mend\u001b[0m \u001b[0;34m=\u001b[0m \u001b[0mtime\u001b[0m\u001b[0;34m.\u001b[0m\u001b[0mtime\u001b[0m\u001b[0;34m(\u001b[0m\u001b[0;34m)\u001b[0m\u001b[0;34m\u001b[0m\u001b[0;34m\u001b[0m\u001b[0m\n\u001b[1;32m     16\u001b[0m \u001b[0mprint\u001b[0m\u001b[0;34m(\u001b[0m\u001b[0;34m\"Time consumed in working: \"\u001b[0m\u001b[0;34m,\u001b[0m\u001b[0mend\u001b[0m \u001b[0;34m-\u001b[0m \u001b[0mstart\u001b[0m\u001b[0;34m)\u001b[0m\u001b[0;34m\u001b[0m\u001b[0;34m\u001b[0m\u001b[0m\n",
      "\u001b[0;32m/var/folders/gp/hp50s5114x52591qbdhn43xm0000gn/T/ipykernel_34336/2545375047.py\u001b[0m in \u001b[0;36m__init__\u001b[0;34m(self, root_dir)\u001b[0m\n\u001b[1;32m      7\u001b[0m         \u001b[0mself\u001b[0m\u001b[0;34m.\u001b[0m\u001b[0mroot_dir\u001b[0m \u001b[0;34m=\u001b[0m \u001b[0mroot_dir\u001b[0m\u001b[0;34m\u001b[0m\u001b[0;34m\u001b[0m\u001b[0m\n\u001b[1;32m      8\u001b[0m         \u001b[0mself\u001b[0m\u001b[0;34m.\u001b[0m\u001b[0msamples\u001b[0m \u001b[0;34m=\u001b[0m \u001b[0;34m[\u001b[0m\u001b[0;34m]\u001b[0m\u001b[0;34m\u001b[0m\u001b[0;34m\u001b[0m\u001b[0m\n\u001b[0;32m----> 9\u001b[0;31m         \u001b[0mself\u001b[0m\u001b[0;34m.\u001b[0m\u001b[0m_init_dataset\u001b[0m\u001b[0;34m(\u001b[0m\u001b[0;34m)\u001b[0m\u001b[0;34m\u001b[0m\u001b[0;34m\u001b[0m\u001b[0m\n\u001b[0m\u001b[1;32m     10\u001b[0m         \u001b[0;31m#self.label_encoder = LabelEncoder()\u001b[0m\u001b[0;34m\u001b[0m\u001b[0;34m\u001b[0m\u001b[0;34m\u001b[0m\u001b[0m\n\u001b[1;32m     11\u001b[0m \u001b[0;34m\u001b[0m\u001b[0m\n",
      "\u001b[0;32m/var/folders/gp/hp50s5114x52591qbdhn43xm0000gn/T/ipykernel_34336/2545375047.py\u001b[0m in \u001b[0;36m_init_dataset\u001b[0;34m(self)\u001b[0m\n\u001b[1;32m     40\u001b[0m                 \u001b[0;32mcontinue\u001b[0m\u001b[0;34m\u001b[0m\u001b[0;34m\u001b[0m\u001b[0m\n\u001b[1;32m     41\u001b[0m             \u001b[0;32mfor\u001b[0m \u001b[0mi\u001b[0m \u001b[0;32min\u001b[0m \u001b[0mrange\u001b[0m\u001b[0;34m(\u001b[0m\u001b[0mlen\u001b[0m\u001b[0;34m(\u001b[0m\u001b[0mvalue_list\u001b[0m\u001b[0;34m)\u001b[0m\u001b[0;34m)\u001b[0m\u001b[0;34m:\u001b[0m\u001b[0;34m\u001b[0m\u001b[0;34m\u001b[0m\u001b[0m\n\u001b[0;32m---> 42\u001b[0;31m                 \u001b[0mself\u001b[0m\u001b[0;34m.\u001b[0m\u001b[0msamples\u001b[0m\u001b[0;34m.\u001b[0m\u001b[0mappend\u001b[0m\u001b[0;34m(\u001b[0m\u001b[0;34m(\u001b[0m\u001b[0mkey_encode\u001b[0m\u001b[0;34m,\u001b[0m \u001b[0;34m' '\u001b[0m\u001b[0;34m.\u001b[0m\u001b[0mjoin\u001b[0m\u001b[0;34m(\u001b[0m\u001b[0mrandom\u001b[0m\u001b[0;34m.\u001b[0m\u001b[0msample\u001b[0m\u001b[0;34m(\u001b[0m\u001b[0mvalue_list\u001b[0m\u001b[0;34m,\u001b[0m \u001b[0;36m5\u001b[0m\u001b[0;34m)\u001b[0m\u001b[0;34m)\u001b[0m\u001b[0;34m)\u001b[0m\u001b[0;34m)\u001b[0m\u001b[0;34m\u001b[0m\u001b[0;34m\u001b[0m\u001b[0m\n\u001b[0m\u001b[1;32m     43\u001b[0m \u001b[0;34m\u001b[0m\u001b[0m\n",
      "\u001b[0;31mTypeError\u001b[0m: sequence item 0: expected str instance, tuple found"
     ]
    }
   ],
   "source": [
    "try:\n",
    "    # Colab\n",
    "    from google.colab import drive\n",
    "    root = '/content/gdrive/My Drive/'\n",
    "    drive.mount('/content/gdrive')\n",
    "    print('Mounted @Google')\n",
    "except:\n",
    "    # Local\n",
    "    root = \"../data/processed/\"\n",
    "    print('Mounted @Local')\n",
    "\n",
    "start = time.time()\n",
    "# Load data\n",
    "data = SpeciesDescriptions(root)\n",
    "end = time.time()\n",
    "print(\"Time consumed in working: \",end - start)"
   ]
  },
  {
   "cell_type": "code",
   "execution_count": 5,
   "id": "e05cfaba-c226-46d8-8f69-0101a40b167d",
   "metadata": {},
   "outputs": [],
   "source": [
    "total_count = len(data)\n",
    "train_count = int(1.0 * total_count)\n",
    "valid_count = int(0.0 * total_count)\n",
    "test_count = total_count - train_count - valid_count\n",
    "train_dataset, valid_dataset, test_dataset = random_split(data, (train_count, valid_count, test_count), \n",
    "                                                       generator=torch.Generator().manual_seed(33))"
   ]
  },
  {
   "cell_type": "code",
   "execution_count": 6,
   "id": "34f616ae-646e-43a6-9644-616914d45013",
   "metadata": {},
   "outputs": [],
   "source": [
    "batch_size = 2\n",
    "\n",
    "# Random sample (skewed set)\n",
    "train_sampler = RandomSampler(train_dataset)\n",
    "# DataLoader for train set\n",
    "train_dataloader = DataLoader(train_dataset, sampler=train_sampler, batch_size=batch_size)\n",
    "\n",
    "# Random sample\n",
    "val_sampler = SequentialSampler(valid_dataset)\n",
    "# DataLoader for validation set\n",
    "val_dataloader = DataLoader(valid_dataset, sampler=val_sampler, batch_size=batch_size)"
   ]
  },
  {
   "cell_type": "code",
   "execution_count": 7,
   "id": "15dc435d-2754-4416-bbb2-af035a671523",
   "metadata": {},
   "outputs": [],
   "source": [
    "# Freeze all the parameters\n",
    "for param in bert.parameters():\n",
    "    param.requires_grad = True"
   ]
  },
  {
   "cell_type": "code",
   "execution_count": 8,
   "id": "f5fd4299-de00-4bb0-9381-5685dd237758",
   "metadata": {},
   "outputs": [],
   "source": [
    "class BERT(nn.Module):\n",
    "    def __init__(self, bert):\n",
    "        \n",
    "        super(BERT, self).__init__()\n",
    "        \n",
    "        # Distil Bert model\n",
    "        self.bert = bert\n",
    "        ## Additional layers\n",
    "        # Dropout layer\n",
    "        self.dropout = nn.Dropout(0.3)\n",
    "        # Relu \n",
    "        self.relu =  nn.ReLU()\n",
    "        # Linear I \n",
    "        self.fc1 = nn.Linear(768, 512)\n",
    "        # Linear II (Out)\n",
    "        self.fc2 = nn.Linear(512, 170)\n",
    "        # Softmax\n",
    "        self.softmax = nn.LogSoftmax(dim=1)\n",
    "\n",
    "\n",
    "    # Forward pass\n",
    "    def forward(self, sent_id, mask):\n",
    "\n",
    "        # Pass data trough bert and extract \n",
    "        cls_hs = self.bert(sent_id, attention_mask=mask)\n",
    "        # Extract hidden state\n",
    "        hidden_state = cls_hs.last_hidden_state\n",
    "        # Only first is needed for classification\n",
    "        pooler = hidden_state[:, 0]\n",
    "        \n",
    "        # Dense layer 1        \n",
    "        x = self.fc1(pooler)\n",
    "        # ReLU activation\n",
    "        x = self.relu(x)\n",
    "        # Drop out\n",
    "        x = self.dropout(x)\n",
    "        # Dense layer 2\n",
    "        x = self.fc2(x)\n",
    "        # Activation\n",
    "        x = self.softmax(x)\n",
    "\n",
    "        return x"
   ]
  },
  {
   "cell_type": "code",
   "execution_count": 86,
   "id": "c6315e07-2133-4240-b8cc-f20d523ffba0",
   "metadata": {},
   "outputs": [
    {
     "name": "stdout",
     "output_type": "stream",
     "text": [
      "Local Success\n"
     ]
    }
   ],
   "source": [
    "# Load the entire model\n",
    "model = BERT(bert)\n",
    "\n",
    "# Load trained model (colab)\n",
    "try:\n",
    "    try:\n",
    "        model_save_name = 'saved_weights_NLP_test.pt'\n",
    "        path = F\"/content/gdrive/My Drive/{model_save_name}\"\n",
    "        model.load_state_dict(torch.load(path))\n",
    "        print('Google Success')\n",
    "\n",
    "    except:\n",
    "        model_save_name = 'saved_weights_NLP_subset.pt'\n",
    "        path = \"../models/\" + model_save_name\n",
    "        model.load_state_dict(torch.load(path, \n",
    "                                         map_location=torch.device('cpu')))\n",
    "        print('Local Success')\n",
    "except:\n",
    "    print('No pretrained model found.')\n",
    "\n",
    "# Push the model to GPU\n",
    "model = model.to(device)"
   ]
  },
  {
   "cell_type": "code",
   "execution_count": 10,
   "id": "ce4afb13-4362-4d6e-a6d1-278383ededa6",
   "metadata": {},
   "outputs": [],
   "source": [
    "# Load optimizer (Adam best for bert)\n",
    "optimizer = torch.optim.Adam(params = model.parameters(), lr=3e-5)\n",
    "# Define loss function\n",
    "softmax = nn.Softmax(1)\n",
    "CEloss = nn.CrossEntropyLoss()\n",
    "\n",
    "def tokenize_batch(batch_set):\n",
    "    \n",
    "    \"\"\"\n",
    "    Tokenize a pytorch dataset using the hugging face tokenizer.\n",
    "    \"\"\"\n",
    "    \n",
    "    # Extract the labels and text\n",
    "    y = batch_set[0]\n",
    "    text = batch_set[1]\n",
    "    \n",
    "    \n",
    "    # Tokenize the text\n",
    "    tokens = tokenizer.batch_encode_plus(text,\n",
    "                max_length = 512,\n",
    "                padding=True,\n",
    "                truncation=True)\n",
    "    \n",
    "    # Convert to tensors\n",
    "    seq = torch.tensor(tokens['input_ids'])\n",
    "    mask = torch.tensor(tokens['attention_mask'])\n",
    "    \n",
    "    return seq, mask, y\n",
    "\n",
    "def train():\n",
    "  \n",
    "    \"\"\"\n",
    "    Function to train classification Bert model.\n",
    "    \"\"\"\n",
    "    \n",
    "    model.train()\n",
    "    total_loss = 0\n",
    "    \n",
    "    # Iterate over batches\n",
    "    for batch in tqdm(train_dataloader):\n",
    "        \n",
    "        # Tokenize batch\n",
    "        train_seq, train_mask, train_y = tokenize_batch(batch)\n",
    "        # Push to device\n",
    "        sent_id, mask, labels = [t.to(device) for t in [train_seq, train_mask, train_y]]\n",
    "        # Clear gradients \n",
    "        model.zero_grad()        \n",
    "        # Get predictions\n",
    "        preds = model(sent_id, mask)\n",
    "        # Compute loss\n",
    "        loss =  CEloss(preds, torch.max(labels, 1)[1]) \n",
    "        #loss =  CEloss(preds, labels) \n",
    "        # Update total loss\n",
    "        total_loss = total_loss + loss.item()\n",
    "        # Backward pass to calculate the gradients\n",
    "        loss.backward()\n",
    "        # Clip the the gradients to 1.0. It helps in preventing the exploding gradient problem\n",
    "        torch.nn.utils.clip_grad_norm_(model.parameters(), 1.0)\n",
    "        # Update parameters\n",
    "        optimizer.step()\n",
    "\n",
    "    # Compute the training loss of the epoch\n",
    "    avg_loss = total_loss / len(train_dataloader)\n",
    "\n",
    "    return avg_loss\n",
    "\n",
    "\n",
    "def evaluate():\n",
    "    \n",
    "    \"\"\"\n",
    "    Function to test classification Bert model.\n",
    "    \"\"\"\n",
    "  \n",
    "    # Deactivate dropout layers\n",
    "    model.eval()\n",
    "    total_loss = 0\n",
    "\n",
    "    # Iterate over batches\n",
    "    for batch in tqdm(val_dataloader):   \n",
    "        # Tokenize batch\n",
    "        val_seq, val_mask, val_y = tokenize_batch(batch)\n",
    "        # Push to device\n",
    "        sent_id, mask, labels = [t.to(device) for t in [val_seq, val_mask, val_y]]\n",
    "        # Deactivate autograd\n",
    "        with torch.no_grad():\n",
    "            # Model predictions\n",
    "            preds = model(sent_id, mask)\n",
    "            # Compute the validation loss between actual and predicted values\n",
    "            loss =  CEloss(preds, torch.max(labels, 1)[1]) \n",
    "            #loss = cross_entropy(preds,labels)\n",
    "            total_loss = total_loss + loss.item()\n",
    "\n",
    "    # Compute the validation loss of the epoch\n",
    "    avg_loss = total_loss / len(val_dataloader) \n",
    "\n",
    "    return avg_loss"
   ]
  },
  {
   "cell_type": "code",
   "execution_count": null,
   "id": "1d060304-42e0-41c7-a7d1-682ca6092418",
   "metadata": {},
   "outputs": [],
   "source": [
    "batch = next(iter(train_dataloader))\n",
    "\n",
    "train_seq, train_mask, train_y = tokenize_batch(batch)\n",
    "# Push to device\n",
    "sent_id, mask, labels = [t.to(device) for t in [train_seq, train_mask, train_y]]\n",
    "\n",
    "# Get predictions\n",
    "preds = model(sent_id, mask)"
   ]
  },
  {
   "cell_type": "code",
   "execution_count": null,
   "id": "f40c6008-af1a-497a-9a50-ceb51d0f12cf",
   "metadata": {},
   "outputs": [],
   "source": [
    "# Epochs\n",
    "epochs = 1\n",
    "\n",
    "# Init loss\n",
    "best_valid_loss = float('inf')\n",
    "\n",
    "# data lists\n",
    "train_losses=[]\n",
    "valid_losses=[]\n",
    "\n",
    "# Loop over epochs\n",
    "for epoch in range(epochs):\n",
    "     \n",
    "    print('\\n Epoch {:} / {:}'.format(epoch + 1, epochs))\n",
    "    \n",
    "    # Train model\n",
    "    train_loss = train() \n",
    "    # Evaluate model\n",
    "    #valid_loss  = evaluate()\n",
    "        \n",
    "    # Append training and validation loss\n",
    "    train_losses.append(train_loss)\n",
    "    #valid_losses.append(valid_loss)\n",
    "    \n",
    "    print(f'\\nTraining Loss: {train_loss:.6f}')\n",
    "    #print(f'Validation Loss: {valid_loss:.6f}')"
   ]
  },
  {
   "cell_type": "code",
   "execution_count": 87,
   "id": "0c7e60aa-3b48-4d06-a495-edd82b018c20",
   "metadata": {},
   "outputs": [],
   "source": [
    "strings = \"\"\"\n",
    "Large tree up to 18–25 m. high; crown rounded, with pendulous branchlets; bark brown to almost black, deeply longitudinally fissured.\n",
    "\"\"\"\n",
    "#\n",
    "\n",
    "#string_list = ['spirally arranged leaves',\n",
    "#              'bark grey-brown']\n",
    "\n",
    "#strings = '. '.join(string_list)"
   ]
  },
  {
   "cell_type": "code",
   "execution_count": 88,
   "id": "b7ab41aa-0813-4570-bb9e-e7da8372f8f2",
   "metadata": {},
   "outputs": [],
   "source": [
    "tokens = tokenizer(strings, return_tensors=\"pt\", truncation=True)"
   ]
  },
  {
   "cell_type": "code",
   "execution_count": 89,
   "id": "38e161c7-bc9b-412a-b694-0de4ea13dc47",
   "metadata": {},
   "outputs": [],
   "source": [
    "outputs = model(tokens['input_ids'], tokens['attention_mask'])"
   ]
  },
  {
   "cell_type": "code",
   "execution_count": 90,
   "id": "17a0c436-d4d3-4e0b-834f-59e214d592e5",
   "metadata": {},
   "outputs": [],
   "source": [
    "exps = torch.exp(outputs)\n",
    "# Get class\n",
    "span_class = exps.argmax(1).item()"
   ]
  },
  {
   "cell_type": "code",
   "execution_count": 91,
   "id": "380f16a5-9070-4004-8d55-98651536279a",
   "metadata": {},
   "outputs": [],
   "source": [
    "exps = exps.detach().numpy()"
   ]
  },
  {
   "cell_type": "code",
   "execution_count": 92,
   "id": "a029a3b1-4962-4149-b1ee-67d5b9100ade",
   "metadata": {},
   "outputs": [
    {
     "data": {
      "text/plain": [
       "'\\nn=10\\n\\nnumbers = np.squeeze(exps)\\nidx = np.argpartition(numbers, -n)[-n:]\\nindices = idx[np.argsort((-numbers)[idx])]\\n\\n\\n#numbers[::-1].sort()\\nprint(indices)\\nprint(numbers[0:n])\\n'"
      ]
     },
     "execution_count": 92,
     "metadata": {},
     "output_type": "execute_result"
    }
   ],
   "source": [
    "'''\n",
    "n=10\n",
    "\n",
    "numbers = np.squeeze(exps)\n",
    "idx = np.argpartition(numbers, -n)[-n:]\n",
    "indices = idx[np.argsort((-numbers)[idx])]\n",
    "\n",
    "\n",
    "#numbers[::-1].sort()\n",
    "print(indices)\n",
    "print(numbers[0:n])\n",
    "'''"
   ]
  },
  {
   "cell_type": "code",
   "execution_count": 93,
   "id": "b8914f64-dd61-4337-936b-0cf407c94a58",
   "metadata": {},
   "outputs": [],
   "source": [
    "# Encoder \n",
    "lb = LabelBinarizer()\n",
    "# Init dict\n",
    "datadict = {}\n",
    "# Load the pickle list\n",
    "data_files = glob.glob(root + 'subset*.pkl')\n",
    "for data_file in data_files:\n",
    "    # Open the dict and update\n",
    "    datadict.update(pickle.load(open(data_file, 'rb')))\n",
    "\n",
    "# Get keys and encode them\n",
    "keys = np.array([key for key in datadict.keys()])\n",
    "#print(len(keys))\n",
    "keys_encoded = lb.fit_transform(keys)"
   ]
  },
  {
   "cell_type": "code",
   "execution_count": 94,
   "id": "344d3f13-92ba-42c2-a07a-3ee6a6fdd9be",
   "metadata": {},
   "outputs": [
    {
     "data": {
      "text/plain": [
       "array(['Bobgunnia madagascariensis'], dtype='<U37')"
      ]
     },
     "execution_count": 94,
     "metadata": {},
     "output_type": "execute_result"
    }
   ],
   "source": [
    "lb.inverse_transform(exps, 0.6)"
   ]
  },
  {
   "cell_type": "code",
   "execution_count": 96,
   "id": "89c3438c-5cd1-444e-ad55-a1bd38ceb60f",
   "metadata": {},
   "outputs": [],
   "source": [
    "#datadict['Bobgunnia madagascariensis']"
   ]
  },
  {
   "cell_type": "code",
   "execution_count": null,
   "id": "1e68188f-935f-4d4a-aaa3-8c9be0d40227",
   "metadata": {},
   "outputs": [],
   "source": []
  }
 ],
 "metadata": {
  "kernelspec": {
   "display_name": "Python [conda env:DL]",
   "language": "python",
   "name": "conda-env-DL-py"
  },
  "language_info": {
   "codemirror_mode": {
    "name": "ipython",
    "version": 3
   },
   "file_extension": ".py",
   "mimetype": "text/x-python",
   "name": "python",
   "nbconvert_exporter": "python",
   "pygments_lexer": "ipython3",
   "version": "3.8.10"
  }
 },
 "nbformat": 4,
 "nbformat_minor": 5
}
