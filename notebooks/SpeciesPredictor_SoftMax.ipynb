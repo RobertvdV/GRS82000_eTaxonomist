{
 "cells": [
  {
   "cell_type": "code",
   "execution_count": 1,
   "id": "2d0f4b81-9d06-442a-aa70-f00697a7f874",
   "metadata": {},
   "outputs": [],
   "source": [
    "import numpy as np\n",
    "import pandas as pd\n",
    "import torch\n",
    "import pickle\n",
    "import re\n",
    "from itertools import chain\n",
    "from collections import Counter\n",
    "import torch.nn as nn\n",
    "import glob\n",
    "import random\n",
    "import matplotlib.pyplot as plt\n",
    "import seaborn as sns\n",
    "from sklearn.model_selection import train_test_split\n",
    "from sklearn.metrics import classification_report\n",
    "from sklearn.utils.class_weight import compute_class_weight\n",
    "from sklearn.preprocessing import LabelEncoder\n",
    "from sklearn.preprocessing import OneHotEncoder\n",
    "import transformers\n",
    "from transformers import AdamW\n",
    "from transformers import DistilBertTokenizer, DistilBertModel\n",
    "from torch.utils.data import TensorDataset, DataLoader, RandomSampler, SequentialSampler, Dataset, random_split\n",
    "from tqdm import tqdm\n",
    "import time\n",
    "\n",
    "%matplotlib inline"
   ]
  },
  {
   "cell_type": "code",
   "execution_count": 2,
   "id": "af176c27-d675-42e6-b104-66d557c6292b",
   "metadata": {},
   "outputs": [
    {
     "name": "stderr",
     "output_type": "stream",
     "text": [
      "Some weights of the model checkpoint at distilbert-base-uncased were not used when initializing DistilBertModel: ['vocab_projector.weight', 'vocab_transform.bias', 'vocab_transform.weight', 'vocab_projector.bias', 'vocab_layer_norm.weight', 'vocab_layer_norm.bias']\n",
      "- This IS expected if you are initializing DistilBertModel from the checkpoint of a model trained on another task or with another architecture (e.g. initializing a BertForSequenceClassification model from a BertForPreTraining model).\n",
      "- This IS NOT expected if you are initializing DistilBertModel from the checkpoint of a model that you expect to be exactly identical (initializing a BertForSequenceClassification model from a BertForSequenceClassification model).\n"
     ]
    }
   ],
   "source": [
    "# specify device\n",
    "from torch import cuda\n",
    "device = 'cuda' if cuda.is_available() else 'cpu'\n",
    "\n",
    "# Load the BERT tokenizer\n",
    "tokenizer = DistilBertTokenizer.from_pretrained('distilbert-base-uncased')\n",
    "\n",
    "# Bert mode\n",
    "bert = DistilBertModel.from_pretrained('distilbert-base-uncased')"
   ]
  },
  {
   "cell_type": "code",
   "execution_count": 3,
   "id": "45543bb0-28fe-4f14-a1e7-11ce18fbee7f",
   "metadata": {},
   "outputs": [],
   "source": [
    "class SpeciesDescriptions(Dataset):\n",
    "    \n",
    "    \"\"\"Description dataset without species names.\"\"\"\n",
    "    \n",
    "    def __init__(self, root_dir):\n",
    "        \n",
    "        self.root_dir = root_dir\n",
    "        self.samples = []\n",
    "        self._init_dataset()\n",
    "        #self.label_encoder = LabelEncoder()\n",
    "        \n",
    "    def __len__(self):\n",
    "        return len(self.samples)\n",
    "        \n",
    "    def __getitem__(self, idx):\n",
    "        return self.samples[idx]\n",
    "     \n",
    "    def _init_dataset(self):\n",
    "        \n",
    "        # Encoder \n",
    "        label_encoder = LabelEncoder()\n",
    "        # Init dict\n",
    "        datadict = {}\n",
    "        # Load the pickle list\n",
    "        data_files = glob.glob(self.root_dir + 'TEST*PLANTS.pkl')\n",
    "        for data_file in data_files:\n",
    "            # Open the dict and update\n",
    "            datadict.update(pickle.load(open(data_file, 'rb')))\n",
    "            \n",
    "        # Get keys and encode them\n",
    "        keys = np.array([key for key in datadict.keys()])\n",
    "        print(len(keys))\n",
    "        keys_encoded = label_encoder.fit_transform(keys)\n",
    "        # Extract the values with the encoded keys\n",
    "        self.samples += [(key_label, value) for key_label, (key, value_list) in zip(keys_encoded, datadict.items()) for value in value_list]\n",
    "        \n",
    "        '''\n",
    "        for key_encode, (key, value_list) in zip(keys_encoded, datadict.items()):\n",
    "            if len(value_list) < 10:\n",
    "                continue\n",
    "            for i in range(len(value_list):\n",
    "                self.samples.append((key_encode, ' '.join(random.sample(value_list, 5))))\n",
    "        '''"
   ]
  },
  {
   "cell_type": "code",
   "execution_count": 4,
   "id": "5dac7fbd-2033-469b-bb7d-b6bda70dc444",
   "metadata": {},
   "outputs": [
    {
     "name": "stdout",
     "output_type": "stream",
     "text": [
      "Mounted @Local\n",
      "35746\n",
      "Time consumed in working:  0.6807208061218262\n"
     ]
    }
   ],
   "source": [
    "try:\n",
    "    # Colab\n",
    "    from google.colab import drive\n",
    "    root = '/content/gdrive/My Drive/'\n",
    "    drive.mount('/content/gdrive')\n",
    "    print('Mounted @Google')\n",
    "except:\n",
    "    # Local\n",
    "    root = \"../data/processed/\"\n",
    "    print('Mounted @Local')\n",
    "\n",
    "start = time.time()\n",
    "# Load data\n",
    "data = SpeciesDescriptions(root)\n",
    "end = time.time()\n",
    "print(\"Time consumed in working: \",end - start)"
   ]
  },
  {
   "cell_type": "code",
   "execution_count": 5,
   "id": "e05cfaba-c226-46d8-8f69-0101a40b167d",
   "metadata": {},
   "outputs": [],
   "source": [
    "total_count = len(data)\n",
    "train_count = int(0.8 * total_count)\n",
    "valid_count = int(0.1 * total_count)\n",
    "test_count = total_count - train_count - valid_count\n",
    "train_dataset, valid_dataset, test_dataset = random_split(data, (train_count, valid_count, test_count), \n",
    "                                                       generator=torch.Generator().manual_seed(33))"
   ]
  },
  {
   "cell_type": "code",
   "execution_count": 6,
   "id": "34f616ae-646e-43a6-9644-616914d45013",
   "metadata": {},
   "outputs": [],
   "source": [
    "batch_size = 2\n",
    "\n",
    "# Random sample (skewed set)\n",
    "train_sampler = RandomSampler(train_dataset)\n",
    "# DataLoader for train set\n",
    "train_dataloader = DataLoader(train_dataset, sampler=train_sampler, batch_size=batch_size)\n",
    "\n",
    "# Random sample\n",
    "val_sampler = SequentialSampler(valid_dataset)\n",
    "# DataLoader for validation set\n",
    "val_dataloader = DataLoader(valid_dataset, sampler=val_sampler, batch_size=batch_size)"
   ]
  },
  {
   "cell_type": "code",
   "execution_count": 7,
   "id": "15dc435d-2754-4416-bbb2-af035a671523",
   "metadata": {},
   "outputs": [],
   "source": [
    "# Freeze all the parameters\n",
    "for param in bert.parameters():\n",
    "    param.requires_grad = False"
   ]
  },
  {
   "cell_type": "code",
   "execution_count": 8,
   "id": "f5fd4299-de00-4bb0-9381-5685dd237758",
   "metadata": {},
   "outputs": [],
   "source": [
    "class BERT(nn.Module):\n",
    "    def __init__(self, bert):\n",
    "        \n",
    "        super(BERT, self).__init__()\n",
    "        \n",
    "        # Distil Bert model\n",
    "        self.bert = bert\n",
    "        ## Additional layers\n",
    "        # Dropout layer\n",
    "        self.dropout = nn.Dropout(0.3)\n",
    "        # Relu \n",
    "        self.relu =  nn.ReLU()\n",
    "        # Linear I \n",
    "        self.fc1 = nn.Linear(768, 512)\n",
    "        # Linear II (Out)\n",
    "        self.fc2 = nn.Linear(512, 35746)\n",
    "        # Softmax\n",
    "        self.softmax = nn.LogSoftmax(dim=1)\n",
    "\n",
    "\n",
    "    # Forward pass\n",
    "    def forward(self, **kwargs):\n",
    "\n",
    "        # Pass data trough bert and extract \n",
    "        cls_hs = self.bert(**kwargs)\n",
    "        # Extract hidden state\n",
    "        hidden_state = cls_hs.last_hidden_state\n",
    "        # Only first is needed for classification\n",
    "        pooler = hidden_state[:, 0]\n",
    "        \n",
    "        # Dense layer 1        \n",
    "        x = self.fc1(pooler)\n",
    "        # ReLU activation\n",
    "        x = self.relu(x)\n",
    "        # Drop out\n",
    "        x = self.dropout(x)\n",
    "        # Dense layer 2\n",
    "        x = self.fc2(x)\n",
    "        # Activation\n",
    "        x = self.softmax(x)\n",
    "\n",
    "        return x"
   ]
  },
  {
   "cell_type": "code",
   "execution_count": 9,
   "id": "c6315e07-2133-4240-b8cc-f20d523ffba0",
   "metadata": {},
   "outputs": [
    {
     "name": "stdout",
     "output_type": "stream",
     "text": [
      "Local Success\n"
     ]
    }
   ],
   "source": [
    "# Load the entire model\n",
    "model = BERT(bert)\n",
    "\n",
    "# Load trained model (colab)\n",
    "try:\n",
    "    try:\n",
    "        model_save_name = 'saved_weights_NLP_test.pt'\n",
    "        path = F\"/content/gdrive/My Drive/{model_save_name}\"\n",
    "        model.load_state_dict(torch.load(path))\n",
    "        print('Google Success')\n",
    "\n",
    "    except:\n",
    "        model_save_name = 'saved_weights_NLP_test.pt'\n",
    "        path = \"../models/\" + model_save_name\n",
    "        model.load_state_dict(torch.load(path, \n",
    "                                         map_location=torch.device('cpu')))\n",
    "        print('Local Success')\n",
    "except:\n",
    "    print('No pretrained model found.')\n",
    "\n",
    "# Push the model to GPU\n",
    "model = model.to(device)"
   ]
  },
  {
   "cell_type": "code",
   "execution_count": 10,
   "id": "ce4afb13-4362-4d6e-a6d1-278383ededa6",
   "metadata": {},
   "outputs": [],
   "source": [
    "# Load optimizer (Adam best for bert)\n",
    "optimizer = torch.optim.Adam(params = model.parameters(), lr=3e-5)\n",
    "# Define loss function\n",
    "softmax = nn.Softmax(1)\n",
    "CEloss = nn.CrossEntropyLoss()\n",
    "\n",
    "def tokenize_batch(batch_set):\n",
    "    \n",
    "    \"\"\"\n",
    "    Tokenize a pytorch dataset using the hugging face tokenizer.\n",
    "    \"\"\"\n",
    "    \n",
    "    # Extract the labels and text\n",
    "    y = batch_set[0]\n",
    "    text = batch_set[1]\n",
    "    \n",
    "    \n",
    "    # Tokenize the text\n",
    "    tokens = tokenizer.batch_encode_plus(text,\n",
    "                max_length = 512,\n",
    "                padding=True,\n",
    "                truncation=True)\n",
    "    \n",
    "    # Convert to tensors\n",
    "    seq = torch.tensor(tokens['input_ids'])\n",
    "    mask = torch.tensor(tokens['attention_mask'])\n",
    "    \n",
    "    return seq, mask, y\n",
    "\n",
    "def train():\n",
    "  \n",
    "    \"\"\"\n",
    "    Function to train classification Bert model.\n",
    "    \"\"\"\n",
    "    \n",
    "    model.train()\n",
    "    total_loss = 0\n",
    "    \n",
    "    # Iterate over batches\n",
    "    for batch in tqdm(train_dataloader):\n",
    "        \n",
    "        # Tokenize batch\n",
    "        train_seq, train_mask, train_y = tokenize_batch(batch)\n",
    "        # Push to device\n",
    "        sent_id, mask, labels = [t.to(device) for t in [train_seq, train_mask, train_y]]\n",
    "        # Clear gradients \n",
    "        model.zero_grad()        \n",
    "        # Get predictions\n",
    "        preds = model(sent_id, mask)\n",
    "        # Compute loss\n",
    "        loss =  CEloss(preds, labels) \n",
    "        #loss = cross_entropy(preds, labels)\n",
    "        # Update total loss\n",
    "        total_loss = total_loss + loss.item()\n",
    "        # Backward pass to calculate the gradients\n",
    "        loss.backward()\n",
    "        # Clip the the gradients to 1.0. It helps in preventing the exploding gradient problem\n",
    "        torch.nn.utils.clip_grad_norm_(model.parameters(), 1.0)\n",
    "        # Update parameters\n",
    "        optimizer.step()\n",
    "\n",
    "    # Compute the training loss of the epoch\n",
    "    avg_loss = total_loss / len(train_dataloader)\n",
    "\n",
    "    return avg_loss\n",
    "\n",
    "\n",
    "def evaluate():\n",
    "    \n",
    "    \"\"\"\n",
    "    Function to test classification Bert model.\n",
    "    \"\"\"\n",
    "  \n",
    "    # Deactivate dropout layers\n",
    "    model.eval()\n",
    "    total_loss = 0\n",
    "\n",
    "    # Iterate over batches\n",
    "    for batch in tqdm(val_dataloader):   \n",
    "        # Tokenize batch\n",
    "        val_seq, val_mask, val_y = tokenize_batch(batch)\n",
    "        # Push to device\n",
    "        sent_id, mask, labels = [t.to(device) for t in [val_seq, val_mask, val_y]]\n",
    "        # Deactivate autograd\n",
    "        with torch.no_grad():\n",
    "            # Model predictions\n",
    "            preds = model(sent_id, mask)\n",
    "            # Compute the validation loss between actual and predicted values\n",
    "            loss =  CEloss(preds, labels) \n",
    "            #loss = cross_entropy(preds,labels)\n",
    "            total_loss = total_loss + loss.item()\n",
    "\n",
    "    # Compute the validation loss of the epoch\n",
    "    avg_loss = total_loss / len(val_dataloader) \n",
    "\n",
    "    return avg_loss"
   ]
  },
  {
   "cell_type": "code",
   "execution_count": null,
   "id": "1d060304-42e0-41c7-a7d1-682ca6092418",
   "metadata": {},
   "outputs": [],
   "source": [
    "batch = next(iter(train_dataloader))\n",
    "\n",
    "train_seq, train_mask, train_y = tokenize_batch(batch)\n",
    "# Push to device\n",
    "sent_id, mask, labels = [t.to(device) for t in [train_seq, train_mask, train_y]]\n",
    "\n",
    "# Get predictions\n",
    "preds = model(sent_id, mask)"
   ]
  },
  {
   "cell_type": "code",
   "execution_count": null,
   "id": "e877a103-d451-48f9-879c-3d3074cc098e",
   "metadata": {},
   "outputs": [],
   "source": [
    "preds"
   ]
  },
  {
   "cell_type": "code",
   "execution_count": null,
   "id": "f40c6008-af1a-497a-9a50-ceb51d0f12cf",
   "metadata": {},
   "outputs": [],
   "source": [
    "# Epochs\n",
    "epochs = 1\n",
    "\n",
    "# Init loss\n",
    "best_valid_loss = float('inf')\n",
    "\n",
    "# data lists\n",
    "train_losses=[]\n",
    "valid_losses=[]\n",
    "\n",
    "# Loop over epochs\n",
    "for epoch in range(epochs):\n",
    "     \n",
    "    print('\\n Epoch {:} / {:}'.format(epoch + 1, epochs))\n",
    "    \n",
    "    # Train model\n",
    "    train_loss = train() \n",
    "    # Evaluate model\n",
    "    valid_loss  = evaluate()\n",
    "        \n",
    "    # Append training and validation loss\n",
    "    train_losses.append(train_loss)\n",
    "    valid_losses.append(valid_loss)\n",
    "    \n",
    "    print(f'\\nTraining Loss: {train_loss:.6f}')\n",
    "    print(f'Validation Loss: {valid_loss:.6f}')"
   ]
  },
  {
   "cell_type": "code",
   "execution_count": 24,
   "id": "0c7e60aa-3b48-4d06-a495-edd82b018c20",
   "metadata": {},
   "outputs": [],
   "source": [
    "strings = \"\"\"\n",
    " The copper beech is a large tree that often grows on chalky soil. The inconspicuous flowers are pollinated by the wind and the fruits are three-sided nuts (called beech mast) inside spiky cases.\n",
    "\n",
    "The size and shape of Fagus sylvatica depends on its environment. Given space, the beech will spread its branches widely and can grow up to a massive 42 m (140 ft) high. In tightly packed woods, the tree will grow straight, with few side branches, to reach the light. This becomes an even greater priority with time.\n",
    "\n",
    "The arrangement of leaves is such that they overlap, which, while efficient for the tree, shades the ground beneath and can also prevent rain from reaching it. So if the floor of the English wood you're walking through comprises little more than fungi and rotting leaves, it's probably a beech wood.\n",
    "\n",
    "Copper beech trees are quite variable in leaf colour as they are normally propagated by seed. Particularly dark clones have been selected over the years and those are grafted to maintain the true colour. The best-known are 'Cuprea', 'Nigra', 'Riversii' and 'Spaethiana'. \n",
    "\"\"\"\n",
    "#string = '. '.join(strings)"
   ]
  },
  {
   "cell_type": "code",
   "execution_count": 25,
   "id": "b7ab41aa-0813-4570-bb9e-e7da8372f8f2",
   "metadata": {},
   "outputs": [],
   "source": [
    "tokens = tokenizer(strings, return_tensors=\"pt\", truncation=True)"
   ]
  },
  {
   "cell_type": "code",
   "execution_count": 26,
   "id": "38e161c7-bc9b-412a-b694-0de4ea13dc47",
   "metadata": {},
   "outputs": [],
   "source": [
    "outputs = model(**tokens)"
   ]
  },
  {
   "cell_type": "code",
   "execution_count": 27,
   "id": "17a0c436-d4d3-4e0b-834f-59e214d592e5",
   "metadata": {},
   "outputs": [],
   "source": [
    "exps = torch.exp(outputs)\n",
    "# Get class\n",
    "span_class = exps.argmax(1).item()"
   ]
  },
  {
   "cell_type": "code",
   "execution_count": 28,
   "id": "345b1625-197f-4b65-a3d4-b952b0a218ca",
   "metadata": {},
   "outputs": [
    {
     "data": {
      "text/plain": [
       "7785"
      ]
     },
     "execution_count": 28,
     "metadata": {},
     "output_type": "execute_result"
    }
   ],
   "source": [
    "span_class"
   ]
  },
  {
   "cell_type": "code",
   "execution_count": 29,
   "id": "380f16a5-9070-4004-8d55-98651536279a",
   "metadata": {},
   "outputs": [],
   "source": [
    "exps = exps.detach().numpy()"
   ]
  },
  {
   "cell_type": "code",
   "execution_count": 30,
   "id": "a029a3b1-4962-4149-b1ee-67d5b9100ade",
   "metadata": {},
   "outputs": [],
   "source": [
    "n=10\n",
    "\n",
    "numbers = np.array([1, 3, 2, 4])\n",
    "numbers = np.squeeze(exps)\n",
    "idx = np.argpartition(numbers, -n)[-n:]\n",
    "indices = idx[np.argsort((-numbers)[idx])]"
   ]
  },
  {
   "cell_type": "code",
   "execution_count": 35,
   "id": "1000309c-801a-4299-b0b1-1e6d0d857185",
   "metadata": {},
   "outputs": [
    {
     "data": {
      "text/plain": [
       "array([ 7785, 24482,   328,   322,  3027,  4493, 27624,   330, 23253,\n",
       "       29063])"
      ]
     },
     "execution_count": 35,
     "metadata": {},
     "output_type": "execute_result"
    }
   ],
   "source": [
    "indices"
   ]
  },
  {
   "cell_type": "code",
   "execution_count": 32,
   "id": "b8914f64-dd61-4337-936b-0cf407c94a58",
   "metadata": {},
   "outputs": [
    {
     "name": "stdout",
     "output_type": "stream",
     "text": [
      "35746\n"
     ]
    }
   ],
   "source": [
    "# Encoder \n",
    "label_encoder = LabelEncoder()\n",
    "# Init dict\n",
    "datadict = {}\n",
    "# Load the pickle list\n",
    "data_files = glob.glob(root + 'TEST*PLANTS.pkl')\n",
    "for data_file in data_files:\n",
    "    # Open the dict and update\n",
    "    datadict.update(pickle.load(open(data_file, 'rb')))\n",
    "\n",
    "# Get keys and encode them\n",
    "keys = np.array([key for key in datadict.keys()])\n",
    "print(len(keys))\n",
    "keys_encoded = label_encoder.fit_transform(keys)"
   ]
  },
  {
   "cell_type": "code",
   "execution_count": 33,
   "id": "344d3f13-92ba-42c2-a07a-3ee6a6fdd9be",
   "metadata": {},
   "outputs": [
    {
     "data": {
      "text/plain": [
       "array(['Chorisia speciosa', 'Sandoricum koetjape', 'Adansonia situla',\n",
       "       'Adansonia bahobab', 'Arecaceae', 'Baobabus digitata',\n",
       "       'Terebinthus microphylla', 'Adansonia sphaerocarpa',\n",
       "       'Pircunia dioica', 'Urostigma petiolaris'], dtype='<U56')"
      ]
     },
     "execution_count": 33,
     "metadata": {},
     "output_type": "execute_result"
    }
   ],
   "source": [
    "label_encoder.inverse_transform(indices)"
   ]
  },
  {
   "cell_type": "code",
   "execution_count": null,
   "id": "7ae7abf7-1562-430a-ba56-787427a607c0",
   "metadata": {},
   "outputs": [],
   "source": []
  }
 ],
 "metadata": {
  "kernelspec": {
   "display_name": "Python [conda env:DL]",
   "language": "python",
   "name": "conda-env-DL-py"
  },
  "language_info": {
   "codemirror_mode": {
    "name": "ipython",
    "version": 3
   },
   "file_extension": ".py",
   "mimetype": "text/x-python",
   "name": "python",
   "nbconvert_exporter": "python",
   "pygments_lexer": "ipython3",
   "version": "3.8.10"
  }
 },
 "nbformat": 4,
 "nbformat_minor": 5
}
