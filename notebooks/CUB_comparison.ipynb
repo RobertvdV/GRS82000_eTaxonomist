{
 "cells": [
  {
   "cell_type": "code",
   "execution_count": 3,
   "id": "cda020ab-3212-4408-bdfc-91cfbb01b760",
   "metadata": {},
   "outputs": [],
   "source": [
    "import numpy as np\n",
    "import torch\n",
    "import torch.nn as nn\n",
    "from IPython.display import display, HTML\n",
    "from transformers import DistilBertModel, DistilBertTokenizer, logging\n",
    "import matplotlib\n",
    "import matplotlib.pyplot as plt\n",
    "from matplotlib.lines import Line2D\n",
    "from tqdm.notebook import tqdm as tqdm_notebook\n",
    "import spacy\n",
    "from spacy import displacy\n",
    "import seaborn as sns\n",
    "import pandas as pd\n",
    "import numpy as np\n",
    "import collections\n",
    "import glob\n",
    "import pickle\n",
    "import random\n",
    "from scipy.stats import hmean\n",
    "import re\n",
    "from bs4 import BeautifulSoup\n",
    "import requests\n",
    "from sklearn.metrics.pairwise import cosine_similarity\n",
    "import sys"
   ]
  },
  {
   "cell_type": "code",
   "execution_count": 4,
   "id": "bd11f9a8-9001-4312-b048-a72bb31f7ce3",
   "metadata": {},
   "outputs": [],
   "source": [
    "nlp = spacy.load('en_core_web_trf')\n",
    "logging.set_verbosity_error()\n",
    "tokenizer = DistilBertTokenizer.from_pretrained('distilbert-base-uncased')\n",
    "device = torch.device(\"cuda:0\" if torch.cuda.is_available() else \"cpu\")\n",
    "\n",
    "sys.path.insert(0, '../src/models/')\n",
    "sys.path.insert(0, '../src/features/')"
   ]
  },
  {
   "cell_type": "code",
   "execution_count": 5,
   "id": "aee764bf-9fae-4eaa-9293-be48fd42751c",
   "metadata": {},
   "outputs": [],
   "source": [
    "# Own Functions\n",
    "from build_features import similarity_matrix as vector_values\n",
    "from predict_model import load_CUB_Bert, load_simBERT, loadBERT\n",
    "from predict_model import SpanPredictor as classify"
   ]
  },
  {
   "cell_type": "code",
   "execution_count": 6,
   "id": "5c20ec71-d0fc-491f-a3ab-f56a91777f06",
   "metadata": {},
   "outputs": [],
   "source": [
    "%matplotlib inline"
   ]
  },
  {
   "cell_type": "markdown",
   "id": "d70ac590-fe7a-4577-bf44-ddd138602b41",
   "metadata": {},
   "source": [
    "## CUB preprocessing"
   ]
  },
  {
   "cell_type": "code",
   "execution_count": 11,
   "id": "0101d0f0-487a-49e7-9098-8923a602c2fc",
   "metadata": {},
   "outputs": [],
   "source": [
    "# Open the text file\n",
    "location = \"../data/external/CUB_200_2011/CUB_200_2011/classes.txt\"\n",
    "with open(location) as f:\n",
    "    lines = f.readlines()\n",
    "    \n",
    "# Init regex\n",
    "regex = r'\\d+\\s\\d+\\.'\n",
    "# Clean the list\n",
    "CUB = [re.sub(regex, '', line).rstrip().replace('_', ' ') for line in lines]"
   ]
  },
  {
   "cell_type": "code",
   "execution_count": 12,
   "id": "403673f6-d884-4ffe-8711-a667bd6a2e4f",
   "metadata": {},
   "outputs": [],
   "source": [
    "# Open the text file\n",
    "location = \"../data/external/CUB_200_2011/attributes.txt\"\n",
    "with open(location) as f:\n",
    "    lines = f.readlines()\n",
    "    \n",
    "attribute_list = []\n",
    "\n",
    "# Create a DF with attributes\n",
    "for line in lines:\n",
    "    line = line.strip()\n",
    "    attributes = line.split()[1].split('::')\n",
    "    part = attributes[0]\n",
    "    adjective = attributes[1]\n",
    "    attribute_list.append((part, adjective))\n",
    "    \n",
    "# Create DF        \n",
    "df_attributes = pd.DataFrame(attribute_list, columns=['Part', 'Adj'])\n",
    "# Reset the index\n",
    "df_attributes.index = np.arange(1, len(df_attributes)+1)"
   ]
  },
  {
   "cell_type": "code",
   "execution_count": 13,
   "id": "b8625595-a334-4a70-863a-3d91b42e72e2",
   "metadata": {},
   "outputs": [
    {
     "data": {
      "application/vnd.jupyter.widget-view+json": {
       "model_id": "955bda84cfc74a58bf56316a7660ea4c",
       "version_major": 2,
       "version_minor": 0
      },
      "text/plain": [
       "  0%|          | 0/3677856 [00:00<?, ?it/s]"
      ]
     },
     "metadata": {},
     "output_type": "display_data"
    }
   ],
   "source": [
    "# Open the text file\n",
    "location = \"../data/external/CUB_200_2011/CUB_200_2011/attributes/image_attribute_labels.txt\"\n",
    "with open(location) as f:\n",
    "    lines = f.readlines()\n",
    "# Open the text file\n",
    "location = \"../data/external/CUB_200_2011/CUB_200_2011/images.txt\"\n",
    "with open(location) as f:\n",
    "    img_ids = f.readlines()\n",
    "    \n",
    "# Create DF will all present parts\n",
    "CUB_dict = collections.defaultdict(list)\n",
    "# Loop over lines\n",
    "for line in tqdm_notebook(lines):\n",
    "    data = line.split()\n",
    "    # Skip non present\n",
    "    if not int(data[2]):\n",
    "        continue\n",
    "    # Skip uncertain things\n",
    "    if int(data[3]) < 4:\n",
    "        continue\n",
    "    # Otherwise append\n",
    "    #print(CUB[int(img_ids[int(data[0])].split()[1][0:3]) - 1], data)\n",
    "    CUB_dict[CUB[int(img_ids[int(data[0])-1].split()[1][0:3]) - 1]].append((df_attributes.loc[int(data[1]), ][0], df_attributes.loc[int(data[1]), ][1]))"
   ]
  },
  {
   "cell_type": "markdown",
   "id": "73670070-546c-443e-a9e9-751c031f37bf",
   "metadata": {},
   "source": [
    "### Open BOW matched text file\n",
    "Open the BOW matched text file and reqrite the CUB dataset to match the BOW set"
   ]
  },
  {
   "cell_type": "code",
   "execution_count": 14,
   "id": "f0b5a487-0579-4ddc-8293-50ba682d9e60",
   "metadata": {},
   "outputs": [],
   "source": [
    "# Open the text file\n",
    "location = \"../data/external/birds_matched.txt\"\n",
    "with open(location) as f:\n",
    "    lines = f.readlines()\n",
    "\n",
    "BOW_list = []\n",
    "for line in lines[1:]:\n",
    "    line = line.strip()\n",
    "    _, CUB, BOW = line.split(';')\n",
    "    BOW_list.append((CUB, BOW))    "
   ]
  },
  {
   "cell_type": "code",
   "execution_count": 15,
   "id": "edd533d6-aaa9-4e65-a4c8-00b306816701",
   "metadata": {},
   "outputs": [],
   "source": [
    "# Rewrite the CUB dict\n",
    "CUB_dict_new = collections.defaultdict(list)\n",
    "\n",
    "for (CUB, BOW) in BOW_list:\n",
    "    CUB_dict_new[BOW] = CUB_dict[CUB]"
   ]
  },
  {
   "cell_type": "markdown",
   "id": "f3fd0613-9b03-419e-a4f6-aecf4dd61af5",
   "metadata": {},
   "source": [
    "# Attribution"
   ]
  },
  {
   "cell_type": "code",
   "execution_count": 16,
   "id": "b70a5d7f-6d51-49e1-b7b8-36c4c57650af",
   "metadata": {},
   "outputs": [
    {
     "name": "stdout",
     "output_type": "stream",
     "text": [
      "Local Success\n"
     ]
    }
   ],
   "source": [
    "# birds descriptions\n",
    "data = pickle.load(open('../data/description/04_TRAIN_0000000-0002000_BIRDS.pkl', 'rb'))\n",
    "# trained model\n",
    "model = load_CUB_Bert(\"../models/\", 'saved_weights_CUB_BIRDS_2000.pt', outputsize=2000)"
   ]
  },
  {
   "cell_type": "markdown",
   "id": "f0b19720-7ec5-4791-834e-453d95fcc3af",
   "metadata": {},
   "source": [
    "### Helper functions"
   ]
  },
  {
   "cell_type": "code",
   "execution_count": 17,
   "id": "1f97cdf2-38a0-4d5c-b14c-d2492838e1ff",
   "metadata": {},
   "outputs": [],
   "source": [
    "ref_token_id = tokenizer.pad_token_id # A token used for generating token reference\n",
    "sep_token_id = tokenizer.sep_token_id # A token used as a separator between question and text and it is also added to the end of the text.\n",
    "cls_token_id = tokenizer.cls_token_id # A token used for prepending to the concatenated question-text word sequence\n",
    "\n",
    "# Modify the prediction output and define a custom forward\n",
    "def predict(inputs, attentions):\n",
    "    return model(input_ids=inputs, attention_mask=attentions)[0]\n",
    "\n",
    "def custom_forward(inputs, attentions):\n",
    "    preds = predict(inputs, attentions)\n",
    "    return torch.exp(preds)\n",
    "\n",
    "# Tokenize functions\n",
    "def construct_input_ref_pair(text, ref_token_id, sep_token_id, cls_token_id):\n",
    "\n",
    "    text_ids = tokenizer.encode(text, add_special_tokens=False)\n",
    "    # construct input token ids\n",
    "    input_ids = [cls_token_id] + text_ids + [sep_token_id]\n",
    "    # construct reference token ids \n",
    "    ref_input_ids = [cls_token_id] + [ref_token_id] * len(text_ids) + [sep_token_id]\n",
    "\n",
    "    return torch.tensor([input_ids], device=device), torch.tensor([ref_input_ids], device=device), len(text_ids)\n",
    "\n",
    "def construct_input_ref_token_type_pair(input_ids, sep_ind=0):\n",
    "    seq_len = input_ids.size(1)\n",
    "    token_type_ids = torch.tensor([[0 if i <= sep_ind else 1 for i in range(seq_len)]], device=device)\n",
    "    ref_token_type_ids = torch.zeros_like(token_type_ids, device=device)# * -1\n",
    "    return token_type_ids, ref_token_type_ids\n",
    "\n",
    "def construct_input_ref_pos_id_pair(input_ids):\n",
    "    seq_length = input_ids.size(1)\n",
    "    position_ids = torch.arange(seq_length, dtype=torch.long, device=device)\n",
    "    # we could potentially also use random permutation with `torch.randperm(seq_length, device=device)`\n",
    "    ref_position_ids = torch.zeros(seq_length, dtype=torch.long, device=device)\n",
    "\n",
    "    position_ids = position_ids.unsqueeze(0).expand_as(input_ids)\n",
    "    ref_position_ids = ref_position_ids.unsqueeze(0).expand_as(input_ids)\n",
    "    return position_ids, ref_position_ids\n",
    "    \n",
    "def construct_attention_mask(input_ids):\n",
    "    return torch.ones_like(input_ids)\n",
    "\n",
    "# Summarize and vis functions\n",
    "def summarize_attributions_ig(attributions):\n",
    "    attributions = attributions.sum(dim=-1).squeeze(0)\n",
    "    attributions = attributions / torch.norm(attributions)\n",
    "    return attributions\n",
    "\n",
    "def summarize_attributions_occ(attributions):\n",
    "    return attributions.sum(axis=0)\n",
    "\n",
    "def token_to_words(attribution, tokens):\n",
    "    \n",
    "    words = []\n",
    "    attributes = []\n",
    "\n",
    "    for attribute, word in zip(attribution, tokens):\n",
    "\n",
    "        attribute = attribute.cpu().detach().numpy()\n",
    "        if word == '[CLS]' or word == '[SEP]':\n",
    "            words.append(word)\n",
    "            attributes.append([attribute])\n",
    "        elif not word.startswith('##'):\n",
    "            words.append(word)\n",
    "            attributes.append([attribute])\n",
    "        elif word.startswith('##'):\n",
    "            words[-1] += word.strip('##')\n",
    "            attributes[-1] = np.append(attributes[-1], attribute)\n",
    "\n",
    "    attribution = [np.sum(mean) for mean in attributes]\n",
    "    return attribution, words\n",
    "\n",
    "def colorize(attribution, tokens):\n",
    "    \n",
    "    template = \"\"\"  \n",
    "    <mark class=\"entity\" style=\" background: {}; padding: 0.4em 0.0em; margin: 0.0em; line-height: 2; \n",
    "    border-radius: 0.0em; \">{}<span style=\" font-size: 0.8em;  font-weight: bold;  line-height: 1; \n",
    "    border-radius: 0.0em; text-align-last:center; vertical-align: middle; margin-left: 0rem; \"></span></mark>\n",
    "    \"\"\"\n",
    "\n",
    "    colored_string = ''\n",
    "    normalized_and_mapped = matplotlib.cm.ScalarMappable(cmap=matplotlib.cm.Greens).to_rgba(attribution)\n",
    "    for idx, (word, color) in enumerate(zip(tokens, normalized_and_mapped)):\n",
    "        \n",
    "        word = word + ' '\n",
    "        color = matplotlib.colors.rgb2hex(color[:3])\n",
    "        if word.strip() == '[CLS]' or word.strip() == '[SEP]': \n",
    "            color = '#ffffff'\n",
    "        #print(color)\n",
    "        colored_string += template.format(color, word)\n",
    "\n",
    "    return colored_string\n",
    "\n",
    "def explain(word):\n",
    "    \n",
    "    data = collections.defaultdict(list)\n",
    "       \n",
    "    # tokenize\n",
    "    input_ids, ref_input_ids, sep_id = construct_input_ref_pair(word, ref_token_id, sep_token_id, cls_token_id)\n",
    "    token_type_ids, ref_token_type_ids = construct_input_ref_token_type_pair(input_ids, sep_id)\n",
    "    position_ids, ref_position_ids = construct_input_ref_pos_id_pair(input_ids)\n",
    "    attention_mask = construct_attention_mask(input_ids)\n",
    "    indices = input_ids[0].type(torch.LongTensor)\n",
    "    all_tokens = tokenizer.convert_ids_to_tokens(indices)\n",
    "    \n",
    "    #### Layer IG 20 steps\n",
    "    attribution_ig = lig.attribute(inputs=(input_ids, attention_mask),\n",
    "                                    baselines=(ref_input_ids, attention_mask),\n",
    "                                    n_steps=20,\n",
    "                                    internal_batch_size=1,\n",
    "                                    return_convergence_delta=False)\n",
    "    attributions_ig_sum = summarize_attributions_ig(attribution_ig)\n",
    "    attributions_ig_words, words = token_to_words(attributions_ig_sum, all_tokens)\n",
    "    data['Words'] = words\n",
    "    data['IG_20'] = attributions_ig_words\n",
    "    ####\n",
    "    \n",
    "    #### Layer IG 100 steps\n",
    "    attribution_ig_100 = lig.attribute(inputs=(input_ids, attention_mask),\n",
    "                                    baselines=(ref_input_ids, attention_mask),\n",
    "                                    n_steps=50,\n",
    "                                    internal_batch_size=1,\n",
    "                                    return_convergence_delta=False)\n",
    "    attribution_ig_100_sum = summarize_attributions_ig(attribution_ig_100)\n",
    "    attributions_ig_100_words, _ = token_to_words(attribution_ig_100_sum, all_tokens)\n",
    "    #print(attribution_ig_100_sum)\n",
    "    data['IG_50'] = attributions_ig_100_words\n",
    "    ####\n",
    "    \n",
    "    ### Occlusion maps \n",
    "    attribution_occ = occ.attribute(inputs=(input_ids, attention_mask),\n",
    "                                sliding_window_shapes=(tuple([1,]), tuple([1,])), \n",
    "                                baselines=(ref_input_ids, attention_mask),)\n",
    "    attributions_occ_sum = summarize_attributions_occ(attribution_occ[0])\n",
    "    attributions_occ_words, _ = token_to_words(attributions_occ_sum, all_tokens)\n",
    "    data['Occ_1-1'] = attributions_occ_words\n",
    "    #### Occlusion maps (3, 2)\n",
    "    attribution_occ2 = occ.attribute(inputs=(input_ids, attention_mask),\n",
    "                                sliding_window_shapes=(tuple([3,]), tuple([3,])), \n",
    "                                strides=(2, 2), \n",
    "                                baselines=(ref_input_ids, attention_mask),)\n",
    "    attribution_occ2_sum = summarize_attributions_occ(attribution_occ2[0])\n",
    "    attributions_occ2_words, _ = token_to_words(attribution_occ2_sum, all_tokens)\n",
    "    data['Occ_3-2'] = attributions_occ2_words\n",
    "    ####\n",
    "    \n",
    "    #### Shapley Value Sampling\n",
    "    attribution_SVS = SVS.attribute(inputs=(input_ids, attention_mask),\n",
    "                                baselines=(ref_input_ids, attention_mask),\n",
    "                                   n_samples=5)\n",
    "    attributions_SVS_sum = attribution_SVS[0][0]\n",
    "    attributions_SVS_words, _ = token_to_words(attributions_SVS_sum, all_tokens)\n",
    "    data['SVS'] = attributions_SVS_words\n",
    "    ####\n",
    "    \n",
    "    ### Layer Activation\n",
    "    attribution_la = la.attribute(inputs=(input_ids, attention_mask),)\n",
    "    attributions_la_sum = summarize_attributions_ig(attribution_la)\n",
    "    attributions_la_words, _ = token_to_words(attributions_la_sum, all_tokens)\n",
    "    data['LA'] = attributions_la_words\n",
    "    \n",
    "    attribution_lgxa = lgxa.attribute(inputs=input_ids,\n",
    "                                 additional_forward_args=attention_mask,\n",
    "                                 attribute_to_layer_input=False)\n",
    "    attributions_lgxa_sum = summarize_attributions_ig(attribution_lgxa)\n",
    "    attributions_lgxa_words, words = token_to_words(attributions_lgxa_sum, all_tokens)\n",
    "    data['LGXA'] = attributions_lgxa_words\n",
    "    \n",
    "    return data\n",
    "\n",
    "def determination(doc):\n",
    "    return \n",
    "\n",
    "def get_traits(token, doc):\n",
    "    if token.lemma_.lower() in glossary or token.text.lower() in glossary:\n",
    "        trait = token.lemma_.lower()\n",
    "        # Correct traits\n",
    "        if doc[token.i - 1].lemma_ in compounds:\n",
    "            trait = doc[token.i - 1: token.i + 1].lemma_.lower()\n",
    "        elif doc[token.i - 1].dep_ == 'compound':\n",
    "            trait = doc[token.i - 1: token.i + 1].lemma_.lower()\n",
    "        return trait\n",
    "\n",
    "def adjectives(token, doc):\n",
    "    \n",
    "    node = None\n",
    "    # Skip locations\n",
    "    if token.lemma_ in compounds or token.lemma_ in sex_determ or token.lemma_ in glossary:\n",
    "        pass\n",
    "    # Skip \n",
    "    elif token.dep_ in ['acl', 'relcl']:\n",
    "        pass\n",
    "    elif token.lemma_ in ['have', 'be']:\n",
    "        pass\n",
    "    elif token.i < doc[-1].i and doc[token.i + 1].text == '-':\n",
    "        #print(token)\n",
    "        pass\n",
    "    elif token.text == '-':\n",
    "        pass\n",
    "    elif token.pos_ == 'VERB':\n",
    "        # DO NOT LEMMATIZE VERBS\n",
    "        node = token.text\n",
    "    elif token.pos_ == 'ADJ':\n",
    "        if doc[token.i - 1].text == '-':\n",
    "            node = doc[token.i - 2 : child.i + 1].lemma_ \n",
    "        else:\n",
    "            node = token.lemma_ \n",
    "    return node\n",
    "        \n",
    "def normal_subject(token, doc):\n",
    "    \n",
    "    edge = None\n",
    "    node = None\n",
    "    # Get first parent\n",
    "    parent = next(token.ancestors)\n",
    "    if parent.lemma_ == 'be':           \n",
    "        for child in parent.children:\n",
    "            if child.dep_ == 'acomp':\n",
    "                edge = 'be'\n",
    "                if doc[child.i - 1].text == '-':\n",
    "                    node = doc[child.i - 2 : child.i + 1].text\n",
    "                else: \n",
    "                    node = child.text\n",
    "    else:\n",
    "        for child in parent.children:\n",
    "            if child.dep_ == 'advmod':\n",
    "                edge = parent.text\n",
    "                if doc[child.i - 1].text == '-':\n",
    "                    node = doc[child.i - 2 : child.i + 1].lemma_\n",
    "                else: \n",
    "                    node = child.lemma_\n",
    "            elif child.dep_ == 'auxpass':\n",
    "                edge = 'be'\n",
    "                if doc[child.i - 1].text == '-':\n",
    "                    node = doc[child.i - 2 : child.i + 1].text\n",
    "                else: \n",
    "                    node = parent.text\n",
    "    return edge, node\n",
    "\n",
    "def adjective_subject(token, doc):\n",
    "    \n",
    "    edge = None\n",
    "    node = None\n",
    "    # Get first parent\n",
    "    parent = next(token.ancestors)\n",
    "    if parent.dep_ == 'ROOT' and parent.pos_ == 'ADJ':\n",
    "        edge = 'be'\n",
    "        node = parent.lemma_\n",
    "    return edge, node \n",
    "    \n",
    "def prep_obj(token, doc):\n",
    "    \n",
    "    edge = None\n",
    "    node = None\n",
    "    parent = next(token.ancestors)\n",
    "    if parent.dep_ == 'prep':\n",
    "        parent = next(parent.ancestors)\n",
    "        if parent.pos_ == 'NOUN':\n",
    "            edge = 'have'\n",
    "            node = parent.lemma_\n",
    "    return edge, node, parent\n",
    "\n",
    "def clean_list(RDFs):\n",
    "    \n",
    "    # Drop empty\n",
    "    RDFs = [RDF for RDF in RDFs if all(RDF)]\n",
    "        \n",
    "    if len(RDFs) <= 1:\n",
    "        return None\n",
    "    \n",
    "    triples = []\n",
    "    for idx, triple in enumerate(RDFs):\n",
    "        if idx + 1 == len(RDFs) and triple[0] == 'bird':\n",
    "            continue        \n",
    "        if not triple[2]:\n",
    "            continue\n",
    "        if triple[0] == 'bird' and triple[2] not in RDFs[idx + 1][0]:\n",
    "            continue\n",
    "        if triple[0] == 'bird' and not RDFs[idx + 1][2]:\n",
    "            continue\n",
    "        else:\n",
    "            triples.append(triple)\n",
    "    return triples"
   ]
  },
  {
   "cell_type": "markdown",
   "id": "ae9fab5e-780b-4aa6-bdbd-0457dee4dac7",
   "metadata": {},
   "source": [
    "### Explanatory Methods"
   ]
  },
  {
   "cell_type": "code",
   "execution_count": 18,
   "id": "96478d57-53ad-4faa-962f-20497e4b5dd1",
   "metadata": {},
   "outputs": [],
   "source": [
    "from captum.attr import LayerActivation, LayerIntegratedGradients \n",
    "from captum.attr import configure_interpretable_embedding_layer, remove_interpretable_embedding_layer\n",
    "from captum.attr import Occlusion, FeatureAblation, ShapleyValueSampling\n",
    "from captum.attr import LayerFeatureAblation\n",
    "from captum.attr import LayerGradientXActivation"
   ]
  },
  {
   "cell_type": "code",
   "execution_count": 19,
   "id": "7eaa7313-5d0f-4f78-952a-3c19c0d41a39",
   "metadata": {},
   "outputs": [],
   "source": [
    "lig     = LayerIntegratedGradients(custom_forward, model.bert.embeddings)\n",
    "occ     = Occlusion(custom_forward)\n",
    "ablator = FeatureAblation(custom_forward)\n",
    "lfa     = LayerFeatureAblation(custom_forward, model.bert.embeddings)\n",
    "SVS     = ShapleyValueSampling(custom_forward)\n",
    "la      = LayerActivation(custom_forward, model.bert.embeddings)\n",
    "lgxa    = LayerGradientXActivation(custom_forward, model.bert.embeddings)"
   ]
  },
  {
   "cell_type": "code",
   "execution_count": 20,
   "id": "88855cad-53b8-44f2-baf8-db151d129f10",
   "metadata": {},
   "outputs": [],
   "source": [
    "# Single Example\n",
    "string = 'The bird has orange beak.'\n",
    "test_example = explain(string)"
   ]
  },
  {
   "cell_type": "code",
   "execution_count": 21,
   "id": "49f28e5e-8845-4928-a4af-920044d76dd9",
   "metadata": {},
   "outputs": [
    {
     "name": "stdout",
     "output_type": "stream",
     "text": [
      "IG_20\n"
     ]
    },
    {
     "data": {
      "text/html": [
       "  \n",
       "    <mark class=\"entity\" style=\" background: #ffffff; padding: 0.4em 0.0em; margin: 0.0em; line-height: 2; \n",
       "    border-radius: 0.0em; \">[CLS] <span style=\" font-size: 0.8em;  font-weight: bold;  line-height: 1; \n",
       "    border-radius: 0.0em; text-align-last:center; vertical-align: middle; margin-left: 0rem; \"></span></mark>\n",
       "      \n",
       "    <mark class=\"entity\" style=\" background: #3ba458; padding: 0.4em 0.0em; margin: 0.0em; line-height: 2; \n",
       "    border-radius: 0.0em; \">the <span style=\" font-size: 0.8em;  font-weight: bold;  line-height: 1; \n",
       "    border-radius: 0.0em; text-align-last:center; vertical-align: middle; margin-left: 0rem; \"></span></mark>\n",
       "      \n",
       "    <mark class=\"entity\" style=\" background: #79c67a; padding: 0.4em 0.0em; margin: 0.0em; line-height: 2; \n",
       "    border-radius: 0.0em; \">bird <span style=\" font-size: 0.8em;  font-weight: bold;  line-height: 1; \n",
       "    border-radius: 0.0em; text-align-last:center; vertical-align: middle; margin-left: 0rem; \"></span></mark>\n",
       "      \n",
       "    <mark class=\"entity\" style=\" background: #f7fcf5; padding: 0.4em 0.0em; margin: 0.0em; line-height: 2; \n",
       "    border-radius: 0.0em; \">has <span style=\" font-size: 0.8em;  font-weight: bold;  line-height: 1; \n",
       "    border-radius: 0.0em; text-align-last:center; vertical-align: middle; margin-left: 0rem; \"></span></mark>\n",
       "      \n",
       "    <mark class=\"entity\" style=\" background: #016e2d; padding: 0.4em 0.0em; margin: 0.0em; line-height: 2; \n",
       "    border-radius: 0.0em; \">orange <span style=\" font-size: 0.8em;  font-weight: bold;  line-height: 1; \n",
       "    border-radius: 0.0em; text-align-last:center; vertical-align: middle; margin-left: 0rem; \"></span></mark>\n",
       "      \n",
       "    <mark class=\"entity\" style=\" background: #00441b; padding: 0.4em 0.0em; margin: 0.0em; line-height: 2; \n",
       "    border-radius: 0.0em; \">beak <span style=\" font-size: 0.8em;  font-weight: bold;  line-height: 1; \n",
       "    border-radius: 0.0em; text-align-last:center; vertical-align: middle; margin-left: 0rem; \"></span></mark>\n",
       "      \n",
       "    <mark class=\"entity\" style=\" background: #aadda4; padding: 0.4em 0.0em; margin: 0.0em; line-height: 2; \n",
       "    border-radius: 0.0em; \">. <span style=\" font-size: 0.8em;  font-weight: bold;  line-height: 1; \n",
       "    border-radius: 0.0em; text-align-last:center; vertical-align: middle; margin-left: 0rem; \"></span></mark>\n",
       "      \n",
       "    <mark class=\"entity\" style=\" background: #ffffff; padding: 0.4em 0.0em; margin: 0.0em; line-height: 2; \n",
       "    border-radius: 0.0em; \">[SEP] <span style=\" font-size: 0.8em;  font-weight: bold;  line-height: 1; \n",
       "    border-radius: 0.0em; text-align-last:center; vertical-align: middle; margin-left: 0rem; \"></span></mark>\n",
       "    "
      ],
      "text/plain": [
       "<IPython.core.display.HTML object>"
      ]
     },
     "metadata": {},
     "output_type": "display_data"
    },
    {
     "name": "stdout",
     "output_type": "stream",
     "text": [
      "IG_50\n"
     ]
    },
    {
     "data": {
      "text/html": [
       "  \n",
       "    <mark class=\"entity\" style=\" background: #ffffff; padding: 0.4em 0.0em; margin: 0.0em; line-height: 2; \n",
       "    border-radius: 0.0em; \">[CLS] <span style=\" font-size: 0.8em;  font-weight: bold;  line-height: 1; \n",
       "    border-radius: 0.0em; text-align-last:center; vertical-align: middle; margin-left: 0rem; \"></span></mark>\n",
       "      \n",
       "    <mark class=\"entity\" style=\" background: #00441b; padding: 0.4em 0.0em; margin: 0.0em; line-height: 2; \n",
       "    border-radius: 0.0em; \">the <span style=\" font-size: 0.8em;  font-weight: bold;  line-height: 1; \n",
       "    border-radius: 0.0em; text-align-last:center; vertical-align: middle; margin-left: 0rem; \"></span></mark>\n",
       "      \n",
       "    <mark class=\"entity\" style=\" background: #bae3b3; padding: 0.4em 0.0em; margin: 0.0em; line-height: 2; \n",
       "    border-radius: 0.0em; \">bird <span style=\" font-size: 0.8em;  font-weight: bold;  line-height: 1; \n",
       "    border-radius: 0.0em; text-align-last:center; vertical-align: middle; margin-left: 0rem; \"></span></mark>\n",
       "      \n",
       "    <mark class=\"entity\" style=\" background: #03702e; padding: 0.4em 0.0em; margin: 0.0em; line-height: 2; \n",
       "    border-radius: 0.0em; \">has <span style=\" font-size: 0.8em;  font-weight: bold;  line-height: 1; \n",
       "    border-radius: 0.0em; text-align-last:center; vertical-align: middle; margin-left: 0rem; \"></span></mark>\n",
       "      \n",
       "    <mark class=\"entity\" style=\" background: #62bb6d; padding: 0.4em 0.0em; margin: 0.0em; line-height: 2; \n",
       "    border-radius: 0.0em; \">orange <span style=\" font-size: 0.8em;  font-weight: bold;  line-height: 1; \n",
       "    border-radius: 0.0em; text-align-last:center; vertical-align: middle; margin-left: 0rem; \"></span></mark>\n",
       "      \n",
       "    <mark class=\"entity\" style=\" background: #3ba458; padding: 0.4em 0.0em; margin: 0.0em; line-height: 2; \n",
       "    border-radius: 0.0em; \">beak <span style=\" font-size: 0.8em;  font-weight: bold;  line-height: 1; \n",
       "    border-radius: 0.0em; text-align-last:center; vertical-align: middle; margin-left: 0rem; \"></span></mark>\n",
       "      \n",
       "    <mark class=\"entity\" style=\" background: #f7fcf5; padding: 0.4em 0.0em; margin: 0.0em; line-height: 2; \n",
       "    border-radius: 0.0em; \">. <span style=\" font-size: 0.8em;  font-weight: bold;  line-height: 1; \n",
       "    border-radius: 0.0em; text-align-last:center; vertical-align: middle; margin-left: 0rem; \"></span></mark>\n",
       "      \n",
       "    <mark class=\"entity\" style=\" background: #ffffff; padding: 0.4em 0.0em; margin: 0.0em; line-height: 2; \n",
       "    border-radius: 0.0em; \">[SEP] <span style=\" font-size: 0.8em;  font-weight: bold;  line-height: 1; \n",
       "    border-radius: 0.0em; text-align-last:center; vertical-align: middle; margin-left: 0rem; \"></span></mark>\n",
       "    "
      ],
      "text/plain": [
       "<IPython.core.display.HTML object>"
      ]
     },
     "metadata": {},
     "output_type": "display_data"
    },
    {
     "name": "stdout",
     "output_type": "stream",
     "text": [
      "Occ_1-1\n"
     ]
    },
    {
     "data": {
      "text/html": [
       "  \n",
       "    <mark class=\"entity\" style=\" background: #ffffff; padding: 0.4em 0.0em; margin: 0.0em; line-height: 2; \n",
       "    border-radius: 0.0em; \">[CLS] <span style=\" font-size: 0.8em;  font-weight: bold;  line-height: 1; \n",
       "    border-radius: 0.0em; text-align-last:center; vertical-align: middle; margin-left: 0rem; \"></span></mark>\n",
       "      \n",
       "    <mark class=\"entity\" style=\" background: #f7fcf5; padding: 0.4em 0.0em; margin: 0.0em; line-height: 2; \n",
       "    border-radius: 0.0em; \">the <span style=\" font-size: 0.8em;  font-weight: bold;  line-height: 1; \n",
       "    border-radius: 0.0em; text-align-last:center; vertical-align: middle; margin-left: 0rem; \"></span></mark>\n",
       "      \n",
       "    <mark class=\"entity\" style=\" background: #bbe4b4; padding: 0.4em 0.0em; margin: 0.0em; line-height: 2; \n",
       "    border-radius: 0.0em; \">bird <span style=\" font-size: 0.8em;  font-weight: bold;  line-height: 1; \n",
       "    border-radius: 0.0em; text-align-last:center; vertical-align: middle; margin-left: 0rem; \"></span></mark>\n",
       "      \n",
       "    <mark class=\"entity\" style=\" background: #95d391; padding: 0.4em 0.0em; margin: 0.0em; line-height: 2; \n",
       "    border-radius: 0.0em; \">has <span style=\" font-size: 0.8em;  font-weight: bold;  line-height: 1; \n",
       "    border-radius: 0.0em; text-align-last:center; vertical-align: middle; margin-left: 0rem; \"></span></mark>\n",
       "      \n",
       "    <mark class=\"entity\" style=\" background: #00441b; padding: 0.4em 0.0em; margin: 0.0em; line-height: 2; \n",
       "    border-radius: 0.0em; \">orange <span style=\" font-size: 0.8em;  font-weight: bold;  line-height: 1; \n",
       "    border-radius: 0.0em; text-align-last:center; vertical-align: middle; margin-left: 0rem; \"></span></mark>\n",
       "      \n",
       "    <mark class=\"entity\" style=\" background: #95d391; padding: 0.4em 0.0em; margin: 0.0em; line-height: 2; \n",
       "    border-radius: 0.0em; \">beak <span style=\" font-size: 0.8em;  font-weight: bold;  line-height: 1; \n",
       "    border-radius: 0.0em; text-align-last:center; vertical-align: middle; margin-left: 0rem; \"></span></mark>\n",
       "      \n",
       "    <mark class=\"entity\" style=\" background: #3ca559; padding: 0.4em 0.0em; margin: 0.0em; line-height: 2; \n",
       "    border-radius: 0.0em; \">. <span style=\" font-size: 0.8em;  font-weight: bold;  line-height: 1; \n",
       "    border-radius: 0.0em; text-align-last:center; vertical-align: middle; margin-left: 0rem; \"></span></mark>\n",
       "      \n",
       "    <mark class=\"entity\" style=\" background: #ffffff; padding: 0.4em 0.0em; margin: 0.0em; line-height: 2; \n",
       "    border-radius: 0.0em; \">[SEP] <span style=\" font-size: 0.8em;  font-weight: bold;  line-height: 1; \n",
       "    border-radius: 0.0em; text-align-last:center; vertical-align: middle; margin-left: 0rem; \"></span></mark>\n",
       "    "
      ],
      "text/plain": [
       "<IPython.core.display.HTML object>"
      ]
     },
     "metadata": {},
     "output_type": "display_data"
    },
    {
     "name": "stdout",
     "output_type": "stream",
     "text": [
      "Occ_3-2\n"
     ]
    },
    {
     "data": {
      "text/html": [
       "  \n",
       "    <mark class=\"entity\" style=\" background: #ffffff; padding: 0.4em 0.0em; margin: 0.0em; line-height: 2; \n",
       "    border-radius: 0.0em; \">[CLS] <span style=\" font-size: 0.8em;  font-weight: bold;  line-height: 1; \n",
       "    border-radius: 0.0em; text-align-last:center; vertical-align: middle; margin-left: 0rem; \"></span></mark>\n",
       "      \n",
       "    <mark class=\"entity\" style=\" background: #40aa5d; padding: 0.4em 0.0em; margin: 0.0em; line-height: 2; \n",
       "    border-radius: 0.0em; \">the <span style=\" font-size: 0.8em;  font-weight: bold;  line-height: 1; \n",
       "    border-radius: 0.0em; text-align-last:center; vertical-align: middle; margin-left: 0rem; \"></span></mark>\n",
       "      \n",
       "    <mark class=\"entity\" style=\" background: #f7fcf5; padding: 0.4em 0.0em; margin: 0.0em; line-height: 2; \n",
       "    border-radius: 0.0em; \">bird <span style=\" font-size: 0.8em;  font-weight: bold;  line-height: 1; \n",
       "    border-radius: 0.0em; text-align-last:center; vertical-align: middle; margin-left: 0rem; \"></span></mark>\n",
       "      \n",
       "    <mark class=\"entity\" style=\" background: #00441b; padding: 0.4em 0.0em; margin: 0.0em; line-height: 2; \n",
       "    border-radius: 0.0em; \">has <span style=\" font-size: 0.8em;  font-weight: bold;  line-height: 1; \n",
       "    border-radius: 0.0em; text-align-last:center; vertical-align: middle; margin-left: 0rem; \"></span></mark>\n",
       "      \n",
       "    <mark class=\"entity\" style=\" background: #a0d99b; padding: 0.4em 0.0em; margin: 0.0em; line-height: 2; \n",
       "    border-radius: 0.0em; \">orange <span style=\" font-size: 0.8em;  font-weight: bold;  line-height: 1; \n",
       "    border-radius: 0.0em; text-align-last:center; vertical-align: middle; margin-left: 0rem; \"></span></mark>\n",
       "      \n",
       "    <mark class=\"entity\" style=\" background: #0c7735; padding: 0.4em 0.0em; margin: 0.0em; line-height: 2; \n",
       "    border-radius: 0.0em; \">beak <span style=\" font-size: 0.8em;  font-weight: bold;  line-height: 1; \n",
       "    border-radius: 0.0em; text-align-last:center; vertical-align: middle; margin-left: 0rem; \"></span></mark>\n",
       "      \n",
       "    <mark class=\"entity\" style=\" background: #e5f5e0; padding: 0.4em 0.0em; margin: 0.0em; line-height: 2; \n",
       "    border-radius: 0.0em; \">. <span style=\" font-size: 0.8em;  font-weight: bold;  line-height: 1; \n",
       "    border-radius: 0.0em; text-align-last:center; vertical-align: middle; margin-left: 0rem; \"></span></mark>\n",
       "      \n",
       "    <mark class=\"entity\" style=\" background: #ffffff; padding: 0.4em 0.0em; margin: 0.0em; line-height: 2; \n",
       "    border-radius: 0.0em; \">[SEP] <span style=\" font-size: 0.8em;  font-weight: bold;  line-height: 1; \n",
       "    border-radius: 0.0em; text-align-last:center; vertical-align: middle; margin-left: 0rem; \"></span></mark>\n",
       "    "
      ],
      "text/plain": [
       "<IPython.core.display.HTML object>"
      ]
     },
     "metadata": {},
     "output_type": "display_data"
    },
    {
     "name": "stdout",
     "output_type": "stream",
     "text": [
      "SVS\n"
     ]
    },
    {
     "data": {
      "text/html": [
       "  \n",
       "    <mark class=\"entity\" style=\" background: #ffffff; padding: 0.4em 0.0em; margin: 0.0em; line-height: 2; \n",
       "    border-radius: 0.0em; \">[CLS] <span style=\" font-size: 0.8em;  font-weight: bold;  line-height: 1; \n",
       "    border-radius: 0.0em; text-align-last:center; vertical-align: middle; margin-left: 0rem; \"></span></mark>\n",
       "      \n",
       "    <mark class=\"entity\" style=\" background: #80ca80; padding: 0.4em 0.0em; margin: 0.0em; line-height: 2; \n",
       "    border-radius: 0.0em; \">the <span style=\" font-size: 0.8em;  font-weight: bold;  line-height: 1; \n",
       "    border-radius: 0.0em; text-align-last:center; vertical-align: middle; margin-left: 0rem; \"></span></mark>\n",
       "      \n",
       "    <mark class=\"entity\" style=\" background: #72c375; padding: 0.4em 0.0em; margin: 0.0em; line-height: 2; \n",
       "    border-radius: 0.0em; \">bird <span style=\" font-size: 0.8em;  font-weight: bold;  line-height: 1; \n",
       "    border-radius: 0.0em; text-align-last:center; vertical-align: middle; margin-left: 0rem; \"></span></mark>\n",
       "      \n",
       "    <mark class=\"entity\" style=\" background: #00441b; padding: 0.4em 0.0em; margin: 0.0em; line-height: 2; \n",
       "    border-radius: 0.0em; \">has <span style=\" font-size: 0.8em;  font-weight: bold;  line-height: 1; \n",
       "    border-radius: 0.0em; text-align-last:center; vertical-align: middle; margin-left: 0rem; \"></span></mark>\n",
       "      \n",
       "    <mark class=\"entity\" style=\" background: #f7fcf5; padding: 0.4em 0.0em; margin: 0.0em; line-height: 2; \n",
       "    border-radius: 0.0em; \">orange <span style=\" font-size: 0.8em;  font-weight: bold;  line-height: 1; \n",
       "    border-radius: 0.0em; text-align-last:center; vertical-align: middle; margin-left: 0rem; \"></span></mark>\n",
       "      \n",
       "    <mark class=\"entity\" style=\" background: #7dc87e; padding: 0.4em 0.0em; margin: 0.0em; line-height: 2; \n",
       "    border-radius: 0.0em; \">beak <span style=\" font-size: 0.8em;  font-weight: bold;  line-height: 1; \n",
       "    border-radius: 0.0em; text-align-last:center; vertical-align: middle; margin-left: 0rem; \"></span></mark>\n",
       "      \n",
       "    <mark class=\"entity\" style=\" background: #7dc87e; padding: 0.4em 0.0em; margin: 0.0em; line-height: 2; \n",
       "    border-radius: 0.0em; \">. <span style=\" font-size: 0.8em;  font-weight: bold;  line-height: 1; \n",
       "    border-radius: 0.0em; text-align-last:center; vertical-align: middle; margin-left: 0rem; \"></span></mark>\n",
       "      \n",
       "    <mark class=\"entity\" style=\" background: #ffffff; padding: 0.4em 0.0em; margin: 0.0em; line-height: 2; \n",
       "    border-radius: 0.0em; \">[SEP] <span style=\" font-size: 0.8em;  font-weight: bold;  line-height: 1; \n",
       "    border-radius: 0.0em; text-align-last:center; vertical-align: middle; margin-left: 0rem; \"></span></mark>\n",
       "    "
      ],
      "text/plain": [
       "<IPython.core.display.HTML object>"
      ]
     },
     "metadata": {},
     "output_type": "display_data"
    },
    {
     "name": "stdout",
     "output_type": "stream",
     "text": [
      "LA\n"
     ]
    },
    {
     "data": {
      "text/html": [
       "  \n",
       "    <mark class=\"entity\" style=\" background: #ffffff; padding: 0.4em 0.0em; margin: 0.0em; line-height: 2; \n",
       "    border-radius: 0.0em; \">[CLS] <span style=\" font-size: 0.8em;  font-weight: bold;  line-height: 1; \n",
       "    border-radius: 0.0em; text-align-last:center; vertical-align: middle; margin-left: 0rem; \"></span></mark>\n",
       "      \n",
       "    <mark class=\"entity\" style=\" background: #00441b; padding: 0.4em 0.0em; margin: 0.0em; line-height: 2; \n",
       "    border-radius: 0.0em; \">the <span style=\" font-size: 0.8em;  font-weight: bold;  line-height: 1; \n",
       "    border-radius: 0.0em; text-align-last:center; vertical-align: middle; margin-left: 0rem; \"></span></mark>\n",
       "      \n",
       "    <mark class=\"entity\" style=\" background: #18823d; padding: 0.4em 0.0em; margin: 0.0em; line-height: 2; \n",
       "    border-radius: 0.0em; \">bird <span style=\" font-size: 0.8em;  font-weight: bold;  line-height: 1; \n",
       "    border-radius: 0.0em; text-align-last:center; vertical-align: middle; margin-left: 0rem; \"></span></mark>\n",
       "      \n",
       "    <mark class=\"entity\" style=\" background: #1a843f; padding: 0.4em 0.0em; margin: 0.0em; line-height: 2; \n",
       "    border-radius: 0.0em; \">has <span style=\" font-size: 0.8em;  font-weight: bold;  line-height: 1; \n",
       "    border-radius: 0.0em; text-align-last:center; vertical-align: middle; margin-left: 0rem; \"></span></mark>\n",
       "      \n",
       "    <mark class=\"entity\" style=\" background: #248c46; padding: 0.4em 0.0em; margin: 0.0em; line-height: 2; \n",
       "    border-radius: 0.0em; \">orange <span style=\" font-size: 0.8em;  font-weight: bold;  line-height: 1; \n",
       "    border-radius: 0.0em; text-align-last:center; vertical-align: middle; margin-left: 0rem; \"></span></mark>\n",
       "      \n",
       "    <mark class=\"entity\" style=\" background: #f7fcf5; padding: 0.4em 0.0em; margin: 0.0em; line-height: 2; \n",
       "    border-radius: 0.0em; \">beak <span style=\" font-size: 0.8em;  font-weight: bold;  line-height: 1; \n",
       "    border-radius: 0.0em; text-align-last:center; vertical-align: middle; margin-left: 0rem; \"></span></mark>\n",
       "      \n",
       "    <mark class=\"entity\" style=\" background: #006b2b; padding: 0.4em 0.0em; margin: 0.0em; line-height: 2; \n",
       "    border-radius: 0.0em; \">. <span style=\" font-size: 0.8em;  font-weight: bold;  line-height: 1; \n",
       "    border-radius: 0.0em; text-align-last:center; vertical-align: middle; margin-left: 0rem; \"></span></mark>\n",
       "      \n",
       "    <mark class=\"entity\" style=\" background: #ffffff; padding: 0.4em 0.0em; margin: 0.0em; line-height: 2; \n",
       "    border-radius: 0.0em; \">[SEP] <span style=\" font-size: 0.8em;  font-weight: bold;  line-height: 1; \n",
       "    border-radius: 0.0em; text-align-last:center; vertical-align: middle; margin-left: 0rem; \"></span></mark>\n",
       "    "
      ],
      "text/plain": [
       "<IPython.core.display.HTML object>"
      ]
     },
     "metadata": {},
     "output_type": "display_data"
    },
    {
     "name": "stdout",
     "output_type": "stream",
     "text": [
      "LGXA\n"
     ]
    },
    {
     "data": {
      "text/html": [
       "  \n",
       "    <mark class=\"entity\" style=\" background: #ffffff; padding: 0.4em 0.0em; margin: 0.0em; line-height: 2; \n",
       "    border-radius: 0.0em; \">[CLS] <span style=\" font-size: 0.8em;  font-weight: bold;  line-height: 1; \n",
       "    border-radius: 0.0em; text-align-last:center; vertical-align: middle; margin-left: 0rem; \"></span></mark>\n",
       "      \n",
       "    <mark class=\"entity\" style=\" background: #000000; padding: 0.4em 0.0em; margin: 0.0em; line-height: 2; \n",
       "    border-radius: 0.0em; \">the <span style=\" font-size: 0.8em;  font-weight: bold;  line-height: 1; \n",
       "    border-radius: 0.0em; text-align-last:center; vertical-align: middle; margin-left: 0rem; \"></span></mark>\n",
       "      \n",
       "    <mark class=\"entity\" style=\" background: #000000; padding: 0.4em 0.0em; margin: 0.0em; line-height: 2; \n",
       "    border-radius: 0.0em; \">bird <span style=\" font-size: 0.8em;  font-weight: bold;  line-height: 1; \n",
       "    border-radius: 0.0em; text-align-last:center; vertical-align: middle; margin-left: 0rem; \"></span></mark>\n",
       "      \n",
       "    <mark class=\"entity\" style=\" background: #000000; padding: 0.4em 0.0em; margin: 0.0em; line-height: 2; \n",
       "    border-radius: 0.0em; \">has <span style=\" font-size: 0.8em;  font-weight: bold;  line-height: 1; \n",
       "    border-radius: 0.0em; text-align-last:center; vertical-align: middle; margin-left: 0rem; \"></span></mark>\n",
       "      \n",
       "    <mark class=\"entity\" style=\" background: #000000; padding: 0.4em 0.0em; margin: 0.0em; line-height: 2; \n",
       "    border-radius: 0.0em; \">orange <span style=\" font-size: 0.8em;  font-weight: bold;  line-height: 1; \n",
       "    border-radius: 0.0em; text-align-last:center; vertical-align: middle; margin-left: 0rem; \"></span></mark>\n",
       "      \n",
       "    <mark class=\"entity\" style=\" background: #000000; padding: 0.4em 0.0em; margin: 0.0em; line-height: 2; \n",
       "    border-radius: 0.0em; \">beak <span style=\" font-size: 0.8em;  font-weight: bold;  line-height: 1; \n",
       "    border-radius: 0.0em; text-align-last:center; vertical-align: middle; margin-left: 0rem; \"></span></mark>\n",
       "      \n",
       "    <mark class=\"entity\" style=\" background: #000000; padding: 0.4em 0.0em; margin: 0.0em; line-height: 2; \n",
       "    border-radius: 0.0em; \">. <span style=\" font-size: 0.8em;  font-weight: bold;  line-height: 1; \n",
       "    border-radius: 0.0em; text-align-last:center; vertical-align: middle; margin-left: 0rem; \"></span></mark>\n",
       "      \n",
       "    <mark class=\"entity\" style=\" background: #ffffff; padding: 0.4em 0.0em; margin: 0.0em; line-height: 2; \n",
       "    border-radius: 0.0em; \">[SEP] <span style=\" font-size: 0.8em;  font-weight: bold;  line-height: 1; \n",
       "    border-radius: 0.0em; text-align-last:center; vertical-align: middle; margin-left: 0rem; \"></span></mark>\n",
       "    "
      ],
      "text/plain": [
       "<IPython.core.display.HTML object>"
      ]
     },
     "metadata": {},
     "output_type": "display_data"
    }
   ],
   "source": [
    "# Skip first (contains tokens)\n",
    "for attribution in list(test_example.keys())[1:]:\n",
    "    words = test_example['Words']\n",
    "    string = colorize(test_example[attribution], words)\n",
    "    print(attribution)\n",
    "    display(HTML(string))"
   ]
  },
  {
   "cell_type": "code",
   "execution_count": 35,
   "id": "73361586-c580-4d8d-835f-b29683050bf9",
   "metadata": {},
   "outputs": [
    {
     "data": {
      "text/plain": [
       "[nan, nan, nan, nan, nan, nan, nan, nan]"
      ]
     },
     "execution_count": 35,
     "metadata": {},
     "output_type": "execute_result"
    }
   ],
   "source": [
    "test_example['LGXA']"
   ]
  },
  {
   "cell_type": "code",
   "execution_count": 22,
   "id": "27d53eac-a9f2-4009-9ced-007e847c000b",
   "metadata": {},
   "outputs": [
    {
     "data": {
      "application/vnd.jupyter.widget-view+json": {
       "model_id": "accb31e7b3af44269e0301e2b567df45",
       "version_major": 2,
       "version_minor": 0
      },
      "text/plain": [
       "Bird:   0%|          | 0/200 [00:00<?, ?it/s]"
      ]
     },
     "metadata": {},
     "output_type": "display_data"
    },
    {
     "data": {
      "application/vnd.jupyter.widget-view+json": {
       "model_id": "96590a0b645a4be1a9a592ba14a07dc3",
       "version_major": 2,
       "version_minor": 0
      },
      "text/plain": [
       "Text:   0%|          | 0/104 [00:00<?, ?it/s]"
      ]
     },
     "metadata": {},
     "output_type": "display_data"
    },
    {
     "ename": "KeyboardInterrupt",
     "evalue": "",
     "output_type": "error",
     "traceback": [
      "\u001b[0;31m---------------------------------------------------------------------------\u001b[0m",
      "\u001b[0;31mKeyboardInterrupt\u001b[0m                         Traceback (most recent call last)",
      "\u001b[0;32m/var/folders/gp/hp50s5114x52591qbdhn43xm0000gn/T/ipykernel_74934/604121994.py\u001b[0m in \u001b[0;36m<module>\u001b[0;34m\u001b[0m\n\u001b[1;32m     13\u001b[0m     \u001b[0;31m# Get attribution values\u001b[0m\u001b[0;34m\u001b[0m\u001b[0;34m\u001b[0m\u001b[0;34m\u001b[0m\u001b[0m\n\u001b[1;32m     14\u001b[0m     \u001b[0;32mfor\u001b[0m \u001b[0mtext\u001b[0m \u001b[0;32min\u001b[0m \u001b[0mtqdm_notebook\u001b[0m\u001b[0;34m(\u001b[0m\u001b[0mtext_list\u001b[0m\u001b[0;34m[\u001b[0m\u001b[0;36m0\u001b[0m\u001b[0;34m:\u001b[0m\u001b[0;34m]\u001b[0m\u001b[0;34m,\u001b[0m \u001b[0mdesc\u001b[0m\u001b[0;34m=\u001b[0m\u001b[0;34m'Text'\u001b[0m\u001b[0;34m,\u001b[0m \u001b[0mleave\u001b[0m\u001b[0;34m=\u001b[0m\u001b[0;32mFalse\u001b[0m\u001b[0;34m)\u001b[0m\u001b[0;34m:\u001b[0m\u001b[0;34m\u001b[0m\u001b[0;34m\u001b[0m\u001b[0m\n\u001b[0;32m---> 15\u001b[0;31m         \u001b[0md\u001b[0m \u001b[0;34m=\u001b[0m \u001b[0mexplain\u001b[0m\u001b[0;34m(\u001b[0m\u001b[0mtext\u001b[0m\u001b[0;34m)\u001b[0m\u001b[0;34m\u001b[0m\u001b[0;34m\u001b[0m\u001b[0m\n\u001b[0m\u001b[1;32m     16\u001b[0m         \u001b[0md\u001b[0m\u001b[0;34m[\u001b[0m\u001b[0;34m'Sentence'\u001b[0m\u001b[0;34m]\u001b[0m \u001b[0;34m=\u001b[0m \u001b[0mlen\u001b[0m\u001b[0;34m(\u001b[0m\u001b[0md\u001b[0m\u001b[0;34m[\u001b[0m\u001b[0;34m'Words'\u001b[0m\u001b[0;34m]\u001b[0m\u001b[0;34m)\u001b[0m \u001b[0;34m*\u001b[0m \u001b[0;34m[\u001b[0m\u001b[0midx\u001b[0m\u001b[0;34m]\u001b[0m\u001b[0;34m\u001b[0m\u001b[0;34m\u001b[0m\u001b[0m\n\u001b[1;32m     17\u001b[0m         \u001b[0md\u001b[0m\u001b[0;34m[\u001b[0m\u001b[0;34m'Bird'\u001b[0m\u001b[0;34m]\u001b[0m \u001b[0;34m=\u001b[0m \u001b[0mlen\u001b[0m\u001b[0;34m(\u001b[0m\u001b[0md\u001b[0m\u001b[0;34m[\u001b[0m\u001b[0;34m'Words'\u001b[0m\u001b[0;34m]\u001b[0m\u001b[0;34m)\u001b[0m \u001b[0;34m*\u001b[0m \u001b[0;34m[\u001b[0m\u001b[0mbird\u001b[0m\u001b[0;34m]\u001b[0m\u001b[0;34m\u001b[0m\u001b[0;34m\u001b[0m\u001b[0m\n",
      "\u001b[0;32m/var/folders/gp/hp50s5114x52591qbdhn43xm0000gn/T/ipykernel_74934/1408126224.py\u001b[0m in \u001b[0;36mexplain\u001b[0;34m(word)\u001b[0m\n\u001b[1;32m    117\u001b[0m \u001b[0;34m\u001b[0m\u001b[0m\n\u001b[1;32m    118\u001b[0m     \u001b[0;31m#### Layer IG 100 steps\u001b[0m\u001b[0;34m\u001b[0m\u001b[0;34m\u001b[0m\u001b[0;34m\u001b[0m\u001b[0m\n\u001b[0;32m--> 119\u001b[0;31m     attribution_ig_100 = lig.attribute(inputs=(input_ids, attention_mask),\n\u001b[0m\u001b[1;32m    120\u001b[0m                                     \u001b[0mbaselines\u001b[0m\u001b[0;34m=\u001b[0m\u001b[0;34m(\u001b[0m\u001b[0mref_input_ids\u001b[0m\u001b[0;34m,\u001b[0m \u001b[0mattention_mask\u001b[0m\u001b[0;34m)\u001b[0m\u001b[0;34m,\u001b[0m\u001b[0;34m\u001b[0m\u001b[0;34m\u001b[0m\u001b[0m\n\u001b[1;32m    121\u001b[0m                                     \u001b[0mn_steps\u001b[0m\u001b[0;34m=\u001b[0m\u001b[0;36m50\u001b[0m\u001b[0;34m,\u001b[0m\u001b[0;34m\u001b[0m\u001b[0;34m\u001b[0m\u001b[0m\n",
      "\u001b[0;32m/usr/local/anaconda3/envs/DL/lib/python3.8/site-packages/captum/log/__init__.py\u001b[0m in \u001b[0;36mwrapper\u001b[0;34m(*args, **kwargs)\u001b[0m\n\u001b[1;32m     33\u001b[0m             \u001b[0;34m@\u001b[0m\u001b[0mwraps\u001b[0m\u001b[0;34m(\u001b[0m\u001b[0mfunc\u001b[0m\u001b[0;34m)\u001b[0m\u001b[0;34m\u001b[0m\u001b[0;34m\u001b[0m\u001b[0m\n\u001b[1;32m     34\u001b[0m             \u001b[0;32mdef\u001b[0m \u001b[0mwrapper\u001b[0m\u001b[0;34m(\u001b[0m\u001b[0;34m*\u001b[0m\u001b[0margs\u001b[0m\u001b[0;34m,\u001b[0m \u001b[0;34m**\u001b[0m\u001b[0mkwargs\u001b[0m\u001b[0;34m)\u001b[0m\u001b[0;34m:\u001b[0m\u001b[0;34m\u001b[0m\u001b[0;34m\u001b[0m\u001b[0m\n\u001b[0;32m---> 35\u001b[0;31m                 \u001b[0;32mreturn\u001b[0m \u001b[0mfunc\u001b[0m\u001b[0;34m(\u001b[0m\u001b[0;34m*\u001b[0m\u001b[0margs\u001b[0m\u001b[0;34m,\u001b[0m \u001b[0;34m**\u001b[0m\u001b[0mkwargs\u001b[0m\u001b[0;34m)\u001b[0m\u001b[0;34m\u001b[0m\u001b[0;34m\u001b[0m\u001b[0m\n\u001b[0m\u001b[1;32m     36\u001b[0m \u001b[0;34m\u001b[0m\u001b[0m\n\u001b[1;32m     37\u001b[0m             \u001b[0;32mreturn\u001b[0m \u001b[0mwrapper\u001b[0m\u001b[0;34m\u001b[0m\u001b[0;34m\u001b[0m\u001b[0m\n",
      "\u001b[0;32m/usr/local/anaconda3/envs/DL/lib/python3.8/site-packages/captum/attr/_core/layer/layer_integrated_gradients.py\u001b[0m in \u001b[0;36mattribute\u001b[0;34m(self, inputs, baselines, target, additional_forward_args, n_steps, method, internal_batch_size, return_convergence_delta, attribute_to_layer_input)\u001b[0m\n\u001b[1;32m    487\u001b[0m         )\n\u001b[1;32m    488\u001b[0m \u001b[0;34m\u001b[0m\u001b[0m\n\u001b[0;32m--> 489\u001b[0;31m         attributions = self.ig.attribute.__wrapped__(  # type: ignore\n\u001b[0m\u001b[1;32m    490\u001b[0m             \u001b[0mself\u001b[0m\u001b[0;34m.\u001b[0m\u001b[0mig\u001b[0m\u001b[0;34m,\u001b[0m  \u001b[0;31m# self\u001b[0m\u001b[0;34m\u001b[0m\u001b[0;34m\u001b[0m\u001b[0m\n\u001b[1;32m    491\u001b[0m             \u001b[0minputs_layer\u001b[0m\u001b[0;34m,\u001b[0m\u001b[0;34m\u001b[0m\u001b[0;34m\u001b[0m\u001b[0m\n",
      "\u001b[0;32m/usr/local/anaconda3/envs/DL/lib/python3.8/site-packages/captum/attr/_core/integrated_gradients.py\u001b[0m in \u001b[0;36mattribute\u001b[0;34m(self, inputs, baselines, target, additional_forward_args, n_steps, method, internal_batch_size, return_convergence_delta)\u001b[0m\n\u001b[1;32m    272\u001b[0m         \u001b[0;32mif\u001b[0m \u001b[0minternal_batch_size\u001b[0m \u001b[0;32mis\u001b[0m \u001b[0;32mnot\u001b[0m \u001b[0;32mNone\u001b[0m\u001b[0;34m:\u001b[0m\u001b[0;34m\u001b[0m\u001b[0;34m\u001b[0m\u001b[0m\n\u001b[1;32m    273\u001b[0m             \u001b[0mnum_examples\u001b[0m \u001b[0;34m=\u001b[0m \u001b[0minputs\u001b[0m\u001b[0;34m[\u001b[0m\u001b[0;36m0\u001b[0m\u001b[0;34m]\u001b[0m\u001b[0;34m.\u001b[0m\u001b[0mshape\u001b[0m\u001b[0;34m[\u001b[0m\u001b[0;36m0\u001b[0m\u001b[0;34m]\u001b[0m\u001b[0;34m\u001b[0m\u001b[0;34m\u001b[0m\u001b[0m\n\u001b[0;32m--> 274\u001b[0;31m             attributions = _batch_attribution(\n\u001b[0m\u001b[1;32m    275\u001b[0m                 \u001b[0mself\u001b[0m\u001b[0;34m,\u001b[0m\u001b[0;34m\u001b[0m\u001b[0;34m\u001b[0m\u001b[0m\n\u001b[1;32m    276\u001b[0m                 \u001b[0mnum_examples\u001b[0m\u001b[0;34m,\u001b[0m\u001b[0;34m\u001b[0m\u001b[0;34m\u001b[0m\u001b[0m\n",
      "\u001b[0;32m/usr/local/anaconda3/envs/DL/lib/python3.8/site-packages/captum/attr/_utils/batching.py\u001b[0m in \u001b[0;36m_batch_attribution\u001b[0;34m(attr_method, num_examples, internal_batch_size, n_steps, include_endpoint, **kwargs)\u001b[0m\n\u001b[1;32m     77\u001b[0m         \u001b[0mstep_sizes\u001b[0m \u001b[0;34m=\u001b[0m \u001b[0mfull_step_sizes\u001b[0m\u001b[0;34m[\u001b[0m\u001b[0mstart_step\u001b[0m\u001b[0;34m:\u001b[0m\u001b[0mend_step\u001b[0m\u001b[0;34m]\u001b[0m\u001b[0;34m\u001b[0m\u001b[0;34m\u001b[0m\u001b[0m\n\u001b[1;32m     78\u001b[0m         \u001b[0malphas\u001b[0m \u001b[0;34m=\u001b[0m \u001b[0mfull_alphas\u001b[0m\u001b[0;34m[\u001b[0m\u001b[0mstart_step\u001b[0m\u001b[0;34m:\u001b[0m\u001b[0mend_step\u001b[0m\u001b[0;34m]\u001b[0m\u001b[0;34m\u001b[0m\u001b[0;34m\u001b[0m\u001b[0m\n\u001b[0;32m---> 79\u001b[0;31m         current_attr = attr_method._attribute(\n\u001b[0m\u001b[1;32m     80\u001b[0m             \u001b[0;34m**\u001b[0m\u001b[0mkwargs\u001b[0m\u001b[0;34m,\u001b[0m \u001b[0mn_steps\u001b[0m\u001b[0;34m=\u001b[0m\u001b[0mbatch_steps\u001b[0m\u001b[0;34m,\u001b[0m \u001b[0mstep_sizes_and_alphas\u001b[0m\u001b[0;34m=\u001b[0m\u001b[0;34m(\u001b[0m\u001b[0mstep_sizes\u001b[0m\u001b[0;34m,\u001b[0m \u001b[0malphas\u001b[0m\u001b[0;34m)\u001b[0m\u001b[0;34m\u001b[0m\u001b[0;34m\u001b[0m\u001b[0m\n\u001b[1;32m     81\u001b[0m         )\n",
      "\u001b[0;32m/usr/local/anaconda3/envs/DL/lib/python3.8/site-packages/captum/attr/_core/integrated_gradients.py\u001b[0m in \u001b[0;36m_attribute\u001b[0;34m(self, inputs, baselines, target, additional_forward_args, n_steps, method, step_sizes_and_alphas)\u001b[0m\n\u001b[1;32m    349\u001b[0m \u001b[0;34m\u001b[0m\u001b[0m\n\u001b[1;32m    350\u001b[0m         \u001b[0;31m# grads: dim -> (bsz * #steps x inputs[0].shape[1:], ...)\u001b[0m\u001b[0;34m\u001b[0m\u001b[0;34m\u001b[0m\u001b[0;34m\u001b[0m\u001b[0m\n\u001b[0;32m--> 351\u001b[0;31m         grads = self.gradient_func(\n\u001b[0m\u001b[1;32m    352\u001b[0m             \u001b[0mforward_fn\u001b[0m\u001b[0;34m=\u001b[0m\u001b[0mself\u001b[0m\u001b[0;34m.\u001b[0m\u001b[0mforward_func\u001b[0m\u001b[0;34m,\u001b[0m\u001b[0;34m\u001b[0m\u001b[0;34m\u001b[0m\u001b[0m\n\u001b[1;32m    353\u001b[0m             \u001b[0minputs\u001b[0m\u001b[0;34m=\u001b[0m\u001b[0mscaled_features_tpl\u001b[0m\u001b[0;34m,\u001b[0m\u001b[0;34m\u001b[0m\u001b[0;34m\u001b[0m\u001b[0m\n",
      "\u001b[0;32m/usr/local/anaconda3/envs/DL/lib/python3.8/site-packages/captum/attr/_core/layer/layer_integrated_gradients.py\u001b[0m in \u001b[0;36mgradient_func\u001b[0;34m(forward_fn, inputs, target_ind, additional_forward_args)\u001b[0m\n\u001b[1;32m    463\u001b[0m                         \u001b[0mhooks\u001b[0m\u001b[0;34m.\u001b[0m\u001b[0mappend\u001b[0m\u001b[0;34m(\u001b[0m\u001b[0mhook\u001b[0m\u001b[0;34m)\u001b[0m\u001b[0;34m\u001b[0m\u001b[0;34m\u001b[0m\u001b[0m\n\u001b[1;32m    464\u001b[0m \u001b[0;34m\u001b[0m\u001b[0m\n\u001b[0;32m--> 465\u001b[0;31m                     output = _run_forward(\n\u001b[0m\u001b[1;32m    466\u001b[0m                         \u001b[0mself\u001b[0m\u001b[0;34m.\u001b[0m\u001b[0mforward_func\u001b[0m\u001b[0;34m,\u001b[0m \u001b[0mtuple\u001b[0m\u001b[0;34m(\u001b[0m\u001b[0;34m)\u001b[0m\u001b[0;34m,\u001b[0m \u001b[0mtarget_ind\u001b[0m\u001b[0;34m,\u001b[0m \u001b[0madditional_forward_args\u001b[0m\u001b[0;34m\u001b[0m\u001b[0;34m\u001b[0m\u001b[0m\n\u001b[1;32m    467\u001b[0m                     )\n",
      "\u001b[0;32m/usr/local/anaconda3/envs/DL/lib/python3.8/site-packages/captum/_utils/common.py\u001b[0m in \u001b[0;36m_run_forward\u001b[0;34m(forward_func, inputs, target, additional_forward_args)\u001b[0m\n\u001b[1;32m    448\u001b[0m     \u001b[0madditional_forward_args\u001b[0m \u001b[0;34m=\u001b[0m \u001b[0m_format_additional_forward_args\u001b[0m\u001b[0;34m(\u001b[0m\u001b[0madditional_forward_args\u001b[0m\u001b[0;34m)\u001b[0m\u001b[0;34m\u001b[0m\u001b[0;34m\u001b[0m\u001b[0m\n\u001b[1;32m    449\u001b[0m \u001b[0;34m\u001b[0m\u001b[0m\n\u001b[0;32m--> 450\u001b[0;31m     output = forward_func(\n\u001b[0m\u001b[1;32m    451\u001b[0m         \u001b[0;34m*\u001b[0m\u001b[0;34m(\u001b[0m\u001b[0;34m*\u001b[0m\u001b[0minputs\u001b[0m\u001b[0;34m,\u001b[0m \u001b[0;34m*\u001b[0m\u001b[0madditional_forward_args\u001b[0m\u001b[0;34m)\u001b[0m\u001b[0;34m\u001b[0m\u001b[0;34m\u001b[0m\u001b[0m\n\u001b[1;32m    452\u001b[0m         \u001b[0;32mif\u001b[0m \u001b[0madditional_forward_args\u001b[0m \u001b[0;32mis\u001b[0m \u001b[0;32mnot\u001b[0m \u001b[0;32mNone\u001b[0m\u001b[0;34m\u001b[0m\u001b[0;34m\u001b[0m\u001b[0m\n",
      "\u001b[0;32m/var/folders/gp/hp50s5114x52591qbdhn43xm0000gn/T/ipykernel_74934/1408126224.py\u001b[0m in \u001b[0;36mcustom_forward\u001b[0;34m(inputs, attentions)\u001b[0m\n\u001b[1;32m      8\u001b[0m \u001b[0;34m\u001b[0m\u001b[0m\n\u001b[1;32m      9\u001b[0m \u001b[0;32mdef\u001b[0m \u001b[0mcustom_forward\u001b[0m\u001b[0;34m(\u001b[0m\u001b[0minputs\u001b[0m\u001b[0;34m,\u001b[0m \u001b[0mattentions\u001b[0m\u001b[0;34m)\u001b[0m\u001b[0;34m:\u001b[0m\u001b[0;34m\u001b[0m\u001b[0;34m\u001b[0m\u001b[0m\n\u001b[0;32m---> 10\u001b[0;31m     \u001b[0mpreds\u001b[0m \u001b[0;34m=\u001b[0m \u001b[0mpredict\u001b[0m\u001b[0;34m(\u001b[0m\u001b[0minputs\u001b[0m\u001b[0;34m,\u001b[0m \u001b[0mattentions\u001b[0m\u001b[0;34m)\u001b[0m\u001b[0;34m\u001b[0m\u001b[0;34m\u001b[0m\u001b[0m\n\u001b[0m\u001b[1;32m     11\u001b[0m     \u001b[0;32mreturn\u001b[0m \u001b[0mtorch\u001b[0m\u001b[0;34m.\u001b[0m\u001b[0mexp\u001b[0m\u001b[0;34m(\u001b[0m\u001b[0mpreds\u001b[0m\u001b[0;34m)\u001b[0m\u001b[0;34m\u001b[0m\u001b[0;34m\u001b[0m\u001b[0m\n\u001b[1;32m     12\u001b[0m \u001b[0;34m\u001b[0m\u001b[0m\n",
      "\u001b[0;32m/var/folders/gp/hp50s5114x52591qbdhn43xm0000gn/T/ipykernel_74934/1408126224.py\u001b[0m in \u001b[0;36mpredict\u001b[0;34m(inputs, attentions)\u001b[0m\n\u001b[1;32m      5\u001b[0m \u001b[0;31m# Modify the prediction output and define a custom forward\u001b[0m\u001b[0;34m\u001b[0m\u001b[0;34m\u001b[0m\u001b[0;34m\u001b[0m\u001b[0m\n\u001b[1;32m      6\u001b[0m \u001b[0;32mdef\u001b[0m \u001b[0mpredict\u001b[0m\u001b[0;34m(\u001b[0m\u001b[0minputs\u001b[0m\u001b[0;34m,\u001b[0m \u001b[0mattentions\u001b[0m\u001b[0;34m)\u001b[0m\u001b[0;34m:\u001b[0m\u001b[0;34m\u001b[0m\u001b[0;34m\u001b[0m\u001b[0m\n\u001b[0;32m----> 7\u001b[0;31m     \u001b[0;32mreturn\u001b[0m \u001b[0mmodel\u001b[0m\u001b[0;34m(\u001b[0m\u001b[0minput_ids\u001b[0m\u001b[0;34m=\u001b[0m\u001b[0minputs\u001b[0m\u001b[0;34m,\u001b[0m \u001b[0mattention_mask\u001b[0m\u001b[0;34m=\u001b[0m\u001b[0mattentions\u001b[0m\u001b[0;34m)\u001b[0m\u001b[0;34m[\u001b[0m\u001b[0;36m0\u001b[0m\u001b[0;34m]\u001b[0m\u001b[0;34m\u001b[0m\u001b[0;34m\u001b[0m\u001b[0m\n\u001b[0m\u001b[1;32m      8\u001b[0m \u001b[0;34m\u001b[0m\u001b[0m\n\u001b[1;32m      9\u001b[0m \u001b[0;32mdef\u001b[0m \u001b[0mcustom_forward\u001b[0m\u001b[0;34m(\u001b[0m\u001b[0minputs\u001b[0m\u001b[0;34m,\u001b[0m \u001b[0mattentions\u001b[0m\u001b[0;34m)\u001b[0m\u001b[0;34m:\u001b[0m\u001b[0;34m\u001b[0m\u001b[0;34m\u001b[0m\u001b[0m\n",
      "\u001b[0;32m/usr/local/anaconda3/envs/DL/lib/python3.8/site-packages/torch/nn/modules/module.py\u001b[0m in \u001b[0;36m_call_impl\u001b[0;34m(self, *input, **kwargs)\u001b[0m\n\u001b[1;32m   1049\u001b[0m         if not (self._backward_hooks or self._forward_hooks or self._forward_pre_hooks or _global_backward_hooks\n\u001b[1;32m   1050\u001b[0m                 or _global_forward_hooks or _global_forward_pre_hooks):\n\u001b[0;32m-> 1051\u001b[0;31m             \u001b[0;32mreturn\u001b[0m \u001b[0mforward_call\u001b[0m\u001b[0;34m(\u001b[0m\u001b[0;34m*\u001b[0m\u001b[0minput\u001b[0m\u001b[0;34m,\u001b[0m \u001b[0;34m**\u001b[0m\u001b[0mkwargs\u001b[0m\u001b[0;34m)\u001b[0m\u001b[0;34m\u001b[0m\u001b[0;34m\u001b[0m\u001b[0m\n\u001b[0m\u001b[1;32m   1052\u001b[0m         \u001b[0;31m# Do not call functions when jit is used\u001b[0m\u001b[0;34m\u001b[0m\u001b[0;34m\u001b[0m\u001b[0;34m\u001b[0m\u001b[0m\n\u001b[1;32m   1053\u001b[0m         \u001b[0mfull_backward_hooks\u001b[0m\u001b[0;34m,\u001b[0m \u001b[0mnon_full_backward_hooks\u001b[0m \u001b[0;34m=\u001b[0m \u001b[0;34m[\u001b[0m\u001b[0;34m]\u001b[0m\u001b[0;34m,\u001b[0m \u001b[0;34m[\u001b[0m\u001b[0;34m]\u001b[0m\u001b[0;34m\u001b[0m\u001b[0;34m\u001b[0m\u001b[0m\n",
      "\u001b[0;32m~/Documents/Wageningen University/Period 1 - GRS 82000 (Thesis, eTaxonomist)/notebooks/../src/models/predict_model.py\u001b[0m in \u001b[0;36mforward\u001b[0;34m(self, **kwargs)\u001b[0m\n\u001b[1;32m    206\u001b[0m \u001b[0;34m\u001b[0m\u001b[0m\n\u001b[1;32m    207\u001b[0m             \u001b[0;31m# Pass data trough bert and extract\u001b[0m\u001b[0;34m\u001b[0m\u001b[0;34m\u001b[0m\u001b[0;34m\u001b[0m\u001b[0m\n\u001b[0;32m--> 208\u001b[0;31m             \u001b[0mcls_hs\u001b[0m \u001b[0;34m=\u001b[0m \u001b[0mself\u001b[0m\u001b[0;34m.\u001b[0m\u001b[0mbert\u001b[0m\u001b[0;34m(\u001b[0m\u001b[0;34m**\u001b[0m\u001b[0mkwargs\u001b[0m\u001b[0;34m)\u001b[0m\u001b[0;34m\u001b[0m\u001b[0;34m\u001b[0m\u001b[0m\n\u001b[0m\u001b[1;32m    209\u001b[0m             \u001b[0;31m# Extract hidden state\u001b[0m\u001b[0;34m\u001b[0m\u001b[0;34m\u001b[0m\u001b[0;34m\u001b[0m\u001b[0m\n\u001b[1;32m    210\u001b[0m             \u001b[0mhidden_state\u001b[0m \u001b[0;34m=\u001b[0m \u001b[0mcls_hs\u001b[0m\u001b[0;34m.\u001b[0m\u001b[0mlast_hidden_state\u001b[0m\u001b[0;34m\u001b[0m\u001b[0;34m\u001b[0m\u001b[0m\n",
      "\u001b[0;32m/usr/local/anaconda3/envs/DL/lib/python3.8/site-packages/torch/nn/modules/module.py\u001b[0m in \u001b[0;36m_call_impl\u001b[0;34m(self, *input, **kwargs)\u001b[0m\n\u001b[1;32m   1049\u001b[0m         if not (self._backward_hooks or self._forward_hooks or self._forward_pre_hooks or _global_backward_hooks\n\u001b[1;32m   1050\u001b[0m                 or _global_forward_hooks or _global_forward_pre_hooks):\n\u001b[0;32m-> 1051\u001b[0;31m             \u001b[0;32mreturn\u001b[0m \u001b[0mforward_call\u001b[0m\u001b[0;34m(\u001b[0m\u001b[0;34m*\u001b[0m\u001b[0minput\u001b[0m\u001b[0;34m,\u001b[0m \u001b[0;34m**\u001b[0m\u001b[0mkwargs\u001b[0m\u001b[0;34m)\u001b[0m\u001b[0;34m\u001b[0m\u001b[0;34m\u001b[0m\u001b[0m\n\u001b[0m\u001b[1;32m   1052\u001b[0m         \u001b[0;31m# Do not call functions when jit is used\u001b[0m\u001b[0;34m\u001b[0m\u001b[0;34m\u001b[0m\u001b[0;34m\u001b[0m\u001b[0m\n\u001b[1;32m   1053\u001b[0m         \u001b[0mfull_backward_hooks\u001b[0m\u001b[0;34m,\u001b[0m \u001b[0mnon_full_backward_hooks\u001b[0m \u001b[0;34m=\u001b[0m \u001b[0;34m[\u001b[0m\u001b[0;34m]\u001b[0m\u001b[0;34m,\u001b[0m \u001b[0;34m[\u001b[0m\u001b[0;34m]\u001b[0m\u001b[0;34m\u001b[0m\u001b[0;34m\u001b[0m\u001b[0m\n",
      "\u001b[0;32m/usr/local/anaconda3/envs/DL/lib/python3.8/site-packages/transformers/models/distilbert/modeling_distilbert.py\u001b[0m in \u001b[0;36mforward\u001b[0;34m(self, input_ids, attention_mask, head_mask, inputs_embeds, output_attentions, output_hidden_states, return_dict)\u001b[0m\n\u001b[1;32m    478\u001b[0m \u001b[0;34m\u001b[0m\u001b[0m\n\u001b[1;32m    479\u001b[0m         \u001b[0;32mif\u001b[0m \u001b[0minputs_embeds\u001b[0m \u001b[0;32mis\u001b[0m \u001b[0;32mNone\u001b[0m\u001b[0;34m:\u001b[0m\u001b[0;34m\u001b[0m\u001b[0;34m\u001b[0m\u001b[0m\n\u001b[0;32m--> 480\u001b[0;31m             \u001b[0minputs_embeds\u001b[0m \u001b[0;34m=\u001b[0m \u001b[0mself\u001b[0m\u001b[0;34m.\u001b[0m\u001b[0membeddings\u001b[0m\u001b[0;34m(\u001b[0m\u001b[0minput_ids\u001b[0m\u001b[0;34m)\u001b[0m  \u001b[0;31m# (bs, seq_length, dim)\u001b[0m\u001b[0;34m\u001b[0m\u001b[0;34m\u001b[0m\u001b[0m\n\u001b[0m\u001b[1;32m    481\u001b[0m         return self.transformer(\n\u001b[1;32m    482\u001b[0m             \u001b[0mx\u001b[0m\u001b[0;34m=\u001b[0m\u001b[0minputs_embeds\u001b[0m\u001b[0;34m,\u001b[0m\u001b[0;34m\u001b[0m\u001b[0;34m\u001b[0m\u001b[0m\n",
      "\u001b[0;32m/usr/local/anaconda3/envs/DL/lib/python3.8/site-packages/torch/nn/modules/module.py\u001b[0m in \u001b[0;36m_call_impl\u001b[0;34m(self, *input, **kwargs)\u001b[0m\n\u001b[1;32m   1069\u001b[0m             \u001b[0minput\u001b[0m \u001b[0;34m=\u001b[0m \u001b[0mbw_hook\u001b[0m\u001b[0;34m.\u001b[0m\u001b[0msetup_input_hook\u001b[0m\u001b[0;34m(\u001b[0m\u001b[0minput\u001b[0m\u001b[0;34m)\u001b[0m\u001b[0;34m\u001b[0m\u001b[0;34m\u001b[0m\u001b[0m\n\u001b[1;32m   1070\u001b[0m \u001b[0;34m\u001b[0m\u001b[0m\n\u001b[0;32m-> 1071\u001b[0;31m         \u001b[0mresult\u001b[0m \u001b[0;34m=\u001b[0m \u001b[0mforward_call\u001b[0m\u001b[0;34m(\u001b[0m\u001b[0;34m*\u001b[0m\u001b[0minput\u001b[0m\u001b[0;34m,\u001b[0m \u001b[0;34m**\u001b[0m\u001b[0mkwargs\u001b[0m\u001b[0;34m)\u001b[0m\u001b[0;34m\u001b[0m\u001b[0;34m\u001b[0m\u001b[0m\n\u001b[0m\u001b[1;32m   1072\u001b[0m         \u001b[0;32mif\u001b[0m \u001b[0m_global_forward_hooks\u001b[0m \u001b[0;32mor\u001b[0m \u001b[0mself\u001b[0m\u001b[0;34m.\u001b[0m\u001b[0m_forward_hooks\u001b[0m\u001b[0;34m:\u001b[0m\u001b[0;34m\u001b[0m\u001b[0;34m\u001b[0m\u001b[0m\n\u001b[1;32m   1073\u001b[0m             for hook in itertools.chain(\n",
      "\u001b[0;32m/usr/local/anaconda3/envs/DL/lib/python3.8/site-packages/transformers/models/distilbert/modeling_distilbert.py\u001b[0m in \u001b[0;36mforward\u001b[0;34m(self, input_ids)\u001b[0m\n\u001b[1;32m    109\u001b[0m \u001b[0;34m\u001b[0m\u001b[0m\n\u001b[1;32m    110\u001b[0m         \u001b[0membeddings\u001b[0m \u001b[0;34m=\u001b[0m \u001b[0mword_embeddings\u001b[0m \u001b[0;34m+\u001b[0m \u001b[0mposition_embeddings\u001b[0m  \u001b[0;31m# (bs, max_seq_length, dim)\u001b[0m\u001b[0;34m\u001b[0m\u001b[0;34m\u001b[0m\u001b[0m\n\u001b[0;32m--> 111\u001b[0;31m         \u001b[0membeddings\u001b[0m \u001b[0;34m=\u001b[0m \u001b[0mself\u001b[0m\u001b[0;34m.\u001b[0m\u001b[0mLayerNorm\u001b[0m\u001b[0;34m(\u001b[0m\u001b[0membeddings\u001b[0m\u001b[0;34m)\u001b[0m  \u001b[0;31m# (bs, max_seq_length, dim)\u001b[0m\u001b[0;34m\u001b[0m\u001b[0;34m\u001b[0m\u001b[0m\n\u001b[0m\u001b[1;32m    112\u001b[0m         \u001b[0membeddings\u001b[0m \u001b[0;34m=\u001b[0m \u001b[0mself\u001b[0m\u001b[0;34m.\u001b[0m\u001b[0mdropout\u001b[0m\u001b[0;34m(\u001b[0m\u001b[0membeddings\u001b[0m\u001b[0;34m)\u001b[0m  \u001b[0;31m# (bs, max_seq_length, dim)\u001b[0m\u001b[0;34m\u001b[0m\u001b[0;34m\u001b[0m\u001b[0m\n\u001b[1;32m    113\u001b[0m         \u001b[0;32mreturn\u001b[0m \u001b[0membeddings\u001b[0m\u001b[0;34m\u001b[0m\u001b[0;34m\u001b[0m\u001b[0m\n",
      "\u001b[0;32m/usr/local/anaconda3/envs/DL/lib/python3.8/site-packages/torch/nn/modules/module.py\u001b[0m in \u001b[0;36m_call_impl\u001b[0;34m(self, *input, **kwargs)\u001b[0m\n\u001b[1;32m   1049\u001b[0m         if not (self._backward_hooks or self._forward_hooks or self._forward_pre_hooks or _global_backward_hooks\n\u001b[1;32m   1050\u001b[0m                 or _global_forward_hooks or _global_forward_pre_hooks):\n\u001b[0;32m-> 1051\u001b[0;31m             \u001b[0;32mreturn\u001b[0m \u001b[0mforward_call\u001b[0m\u001b[0;34m(\u001b[0m\u001b[0;34m*\u001b[0m\u001b[0minput\u001b[0m\u001b[0;34m,\u001b[0m \u001b[0;34m**\u001b[0m\u001b[0mkwargs\u001b[0m\u001b[0;34m)\u001b[0m\u001b[0;34m\u001b[0m\u001b[0;34m\u001b[0m\u001b[0m\n\u001b[0m\u001b[1;32m   1052\u001b[0m         \u001b[0;31m# Do not call functions when jit is used\u001b[0m\u001b[0;34m\u001b[0m\u001b[0;34m\u001b[0m\u001b[0;34m\u001b[0m\u001b[0m\n\u001b[1;32m   1053\u001b[0m         \u001b[0mfull_backward_hooks\u001b[0m\u001b[0;34m,\u001b[0m \u001b[0mnon_full_backward_hooks\u001b[0m \u001b[0;34m=\u001b[0m \u001b[0;34m[\u001b[0m\u001b[0;34m]\u001b[0m\u001b[0;34m,\u001b[0m \u001b[0;34m[\u001b[0m\u001b[0;34m]\u001b[0m\u001b[0;34m\u001b[0m\u001b[0;34m\u001b[0m\u001b[0m\n",
      "\u001b[0;32m/usr/local/anaconda3/envs/DL/lib/python3.8/site-packages/torch/nn/modules/normalization.py\u001b[0m in \u001b[0;36mforward\u001b[0;34m(self, input)\u001b[0m\n\u001b[1;32m    171\u001b[0m \u001b[0;34m\u001b[0m\u001b[0m\n\u001b[1;32m    172\u001b[0m     \u001b[0;32mdef\u001b[0m \u001b[0mforward\u001b[0m\u001b[0;34m(\u001b[0m\u001b[0mself\u001b[0m\u001b[0;34m,\u001b[0m \u001b[0minput\u001b[0m\u001b[0;34m:\u001b[0m \u001b[0mTensor\u001b[0m\u001b[0;34m)\u001b[0m \u001b[0;34m->\u001b[0m \u001b[0mTensor\u001b[0m\u001b[0;34m:\u001b[0m\u001b[0;34m\u001b[0m\u001b[0;34m\u001b[0m\u001b[0m\n\u001b[0;32m--> 173\u001b[0;31m         return F.layer_norm(\n\u001b[0m\u001b[1;32m    174\u001b[0m             input, self.normalized_shape, self.weight, self.bias, self.eps)\n\u001b[1;32m    175\u001b[0m \u001b[0;34m\u001b[0m\u001b[0m\n",
      "\u001b[0;32m/usr/local/anaconda3/envs/DL/lib/python3.8/site-packages/torch/nn/functional.py\u001b[0m in \u001b[0;36mlayer_norm\u001b[0;34m(input, normalized_shape, weight, bias, eps)\u001b[0m\n\u001b[1;32m   2344\u001b[0m             \u001b[0mlayer_norm\u001b[0m\u001b[0;34m,\u001b[0m \u001b[0;34m(\u001b[0m\u001b[0minput\u001b[0m\u001b[0;34m,\u001b[0m\u001b[0;34m)\u001b[0m\u001b[0;34m,\u001b[0m \u001b[0minput\u001b[0m\u001b[0;34m,\u001b[0m \u001b[0mnormalized_shape\u001b[0m\u001b[0;34m,\u001b[0m \u001b[0mweight\u001b[0m\u001b[0;34m=\u001b[0m\u001b[0mweight\u001b[0m\u001b[0;34m,\u001b[0m \u001b[0mbias\u001b[0m\u001b[0;34m=\u001b[0m\u001b[0mbias\u001b[0m\u001b[0;34m,\u001b[0m \u001b[0meps\u001b[0m\u001b[0;34m=\u001b[0m\u001b[0meps\u001b[0m\u001b[0;34m\u001b[0m\u001b[0;34m\u001b[0m\u001b[0m\n\u001b[1;32m   2345\u001b[0m         )\n\u001b[0;32m-> 2346\u001b[0;31m     \u001b[0;32mreturn\u001b[0m \u001b[0mtorch\u001b[0m\u001b[0;34m.\u001b[0m\u001b[0mlayer_norm\u001b[0m\u001b[0;34m(\u001b[0m\u001b[0minput\u001b[0m\u001b[0;34m,\u001b[0m \u001b[0mnormalized_shape\u001b[0m\u001b[0;34m,\u001b[0m \u001b[0mweight\u001b[0m\u001b[0;34m,\u001b[0m \u001b[0mbias\u001b[0m\u001b[0;34m,\u001b[0m \u001b[0meps\u001b[0m\u001b[0;34m,\u001b[0m \u001b[0mtorch\u001b[0m\u001b[0;34m.\u001b[0m\u001b[0mbackends\u001b[0m\u001b[0;34m.\u001b[0m\u001b[0mcudnn\u001b[0m\u001b[0;34m.\u001b[0m\u001b[0menabled\u001b[0m\u001b[0;34m)\u001b[0m\u001b[0;34m\u001b[0m\u001b[0;34m\u001b[0m\u001b[0m\n\u001b[0m\u001b[1;32m   2347\u001b[0m \u001b[0;34m\u001b[0m\u001b[0m\n\u001b[1;32m   2348\u001b[0m \u001b[0;34m\u001b[0m\u001b[0m\n",
      "\u001b[0;32m/usr/local/anaconda3/envs/DL/lib/python3.8/site-packages/torch/backends/__init__.py\u001b[0m in \u001b[0;36m__get__\u001b[0;34m(self, obj, objtype)\u001b[0m\n\u001b[1;32m     30\u001b[0m \u001b[0;34m\u001b[0m\u001b[0m\n\u001b[1;32m     31\u001b[0m     \u001b[0;32mdef\u001b[0m \u001b[0m__get__\u001b[0m\u001b[0;34m(\u001b[0m\u001b[0mself\u001b[0m\u001b[0;34m,\u001b[0m \u001b[0mobj\u001b[0m\u001b[0;34m,\u001b[0m \u001b[0mobjtype\u001b[0m\u001b[0;34m)\u001b[0m\u001b[0;34m:\u001b[0m\u001b[0;34m\u001b[0m\u001b[0;34m\u001b[0m\u001b[0m\n\u001b[0;32m---> 32\u001b[0;31m         \u001b[0;32mreturn\u001b[0m \u001b[0mself\u001b[0m\u001b[0;34m.\u001b[0m\u001b[0mgetter\u001b[0m\u001b[0;34m(\u001b[0m\u001b[0;34m)\u001b[0m\u001b[0;34m\u001b[0m\u001b[0;34m\u001b[0m\u001b[0m\n\u001b[0m\u001b[1;32m     33\u001b[0m \u001b[0;34m\u001b[0m\u001b[0m\n\u001b[1;32m     34\u001b[0m     \u001b[0;32mdef\u001b[0m \u001b[0m__set__\u001b[0m\u001b[0;34m(\u001b[0m\u001b[0mself\u001b[0m\u001b[0;34m,\u001b[0m \u001b[0mobj\u001b[0m\u001b[0;34m,\u001b[0m \u001b[0mval\u001b[0m\u001b[0;34m)\u001b[0m\u001b[0;34m:\u001b[0m\u001b[0;34m\u001b[0m\u001b[0;34m\u001b[0m\u001b[0m\n",
      "\u001b[0;31mKeyboardInterrupt\u001b[0m: "
     ]
    }
   ],
   "source": [
    "# Create common list\n",
    "common_birds = list(CUB_dict_new.keys())\n",
    "# Init dict\n",
    "attribution = collections.defaultdict(list)\n",
    "# Init counter\n",
    "idx = 0\n",
    "\n",
    "# Loop over common birds\n",
    "#for bird in tqdm_notebook(list(data.keys())[0:2], desc='Bird'):\n",
    "for bird in tqdm_notebook(common_birds[0:], desc='Bird'):\n",
    "    # Get descriptions\n",
    "    text_list = [text for text in data[bird]]\n",
    "    # Get attribution values\n",
    "    for text in tqdm_notebook(text_list[0:], desc='Text', leave=False):\n",
    "        d = explain(text)\n",
    "        d['Sentence'] = len(d['Words']) * [idx]\n",
    "        d['Bird'] = len(d['Words']) * [bird]\n",
    "        for key in d.keys():\n",
    "            attribution[key] += d[key]\n",
    "        \n",
    "        idx += 1"
   ]
  },
  {
   "cell_type": "code",
   "execution_count": null,
   "id": "48e123f5-9e1f-4123-8d7f-bc65e97bcf18",
   "metadata": {},
   "outputs": [],
   "source": [
    "#with open('../data/processed/attribution.pkl', 'wb') as f:\n",
    "#    pickle.dump(attribution, f)"
   ]
  },
  {
   "cell_type": "markdown",
   "id": "4b6d2906-075f-45c4-bf1f-e0bb655363d3",
   "metadata": {},
   "source": [
    "### Extract the attribution for the Common birds"
   ]
  },
  {
   "cell_type": "markdown",
   "id": "a8b13f35-64c9-4183-8167-d28ff51cf68f",
   "metadata": {},
   "source": [
    "#### Open de attribution pickle "
   ]
  },
  {
   "cell_type": "code",
   "execution_count": 23,
   "id": "b6debdf4-71ff-4580-bc42-f2d79e5e44b1",
   "metadata": {},
   "outputs": [],
   "source": [
    "# Open pickle\n",
    "attributions = pickle.load(open('../data/processed/attribution.pkl', 'rb'))\n",
    "# Drop into a df\n",
    "df = pd.DataFrame.from_dict(attributions)"
   ]
  },
  {
   "cell_type": "markdown",
   "id": "0e6caf13-f929-41c6-afd9-f2160361021a",
   "metadata": {},
   "source": [
    "#### Get Birds Glossary List"
   ]
  },
  {
   "cell_type": "code",
   "execution_count": 17,
   "id": "204edf07-7916-4dfb-8b0b-c45b5ed2cc5a",
   "metadata": {},
   "outputs": [],
   "source": [
    "# URL\n",
    "URL = 'https://en.wikipedia.org/wiki/Glossary_of_bird_terms'\n",
    "# Get the page\n",
    "page = requests.get(URL, timeout=5)\n",
    "soup = BeautifulSoup(page.content, \"lxml\", from_encoding=\"iso-8859-1\")   \n",
    "# Find embedded glossary\n",
    "glossaries = soup.find_all('dt', {'class': 'glossary'})\n",
    "parts = [part.text.lower().strip() for part in glossaries]\n",
    "# Get additional anchors (\"also know as...\")\n",
    "glossaries_other = soup.find_all('span', {'class': 'anchor'})\n",
    "parts_other = [part['id'].lower().strip() for part in glossaries_other]\n",
    "# Append and drop duplicates\n",
    "parts = list(set((parts + parts_other)))\n",
    "# Replace underscore with space\n",
    "glossary = [part.replace('_', ' ') for part in parts]\n",
    "\n",
    "\n",
    "# A few helpers\n",
    "additions = [\n",
    "    'legs',\n",
    "    'beak',\n",
    "    'head',\n",
    "    'wingspan',\n",
    "    'eye',\n",
    "    'forecrown'\n",
    "]\n",
    "\n",
    "glossary += additions\n",
    "\n",
    "# Compound helpers\n",
    "compounds = [\n",
    "    'upper',\n",
    "    'lower',\n",
    "    'dorsal',\n",
    "    'central',\n",
    "    'outermost',\n",
    "    'upperwing',\n",
    "    'underwing',\n",
    "    'tail',\n",
    "    'outer',\n",
    "    'sexual',\n",
    "    'rump'\n",
    "]\n",
    "\n",
    "sex_determ = [\n",
    "    'juvenile',\n",
    "    'male',\n",
    "    'female',\n",
    "    'adult',\n",
    "]"
   ]
  },
  {
   "cell_type": "markdown",
   "id": "765f5d8f-c2f9-4b59-92a5-5b9b1aba2cfe",
   "metadata": {},
   "source": [
    "#### Compare with the Glossary\n",
    "Extract the most important word per attribution method and per trait."
   ]
  },
  {
   "cell_type": "code",
   "execution_count": 50,
   "id": "4da60070-d90c-43b4-b7b6-ba87361fb17a",
   "metadata": {},
   "outputs": [
    {
     "data": {
      "application/vnd.jupyter.widget-view+json": {
       "model_id": "7259a145a03941c9a1c6421009c9a40f",
       "version_major": 2,
       "version_minor": 0
      },
      "text/plain": [
       "  0%|          | 0/5 [00:00<?, ?it/s]"
      ]
     },
     "metadata": {},
     "output_type": "display_data"
    }
   ],
   "source": [
    "attribution_words = []\n",
    "# Extract highest attributions\n",
    "for idx in tqdm_notebook(df['Sentence'].unique()[0:5]):\n",
    "#for idx in tqdm_notebook(range(0, 500)):\n",
    "    doc = nlp(' '.join(df[df['Sentence'] == idx]['Words']))\n",
    "    if len(doc) <= 2:\n",
    "        continue\n",
    "    # Check single\n",
    "    words = [chunk.root.lemma_.lower() for chunk in doc.noun_chunks] \n",
    "    # Check multiple\n",
    "    words += [chunk.root.text.lower() for chunk in doc.noun_chunks]\n",
    "    # Drop duplicate\n",
    "    words = list(set(words))\n",
    "    traits =  set(words) & set(glossary)\n",
    "    if traits:\n",
    "        # Yield the traits\n",
    "        trait_list = list(traits)\n",
    "        #print(trait_list)\n",
    "        for trait in trait_list:\n",
    "            for column in df.columns[1:-2]:\n",
    "                #print(column)\n",
    "                index = df[df['Sentence'] == idx][column].sort_values(ascending=False)\n",
    "                bird = df.iloc[index.index[0]].Bird\n",
    "                attribution_words.append((idx, column, df.iloc[index.index[0]].Words, trait, bird))"
   ]
  },
  {
   "cell_type": "code",
   "execution_count": null,
   "id": "32765dd6-f9ea-489a-a834-b1802277cccb",
   "metadata": {},
   "outputs": [],
   "source": [
    "#with open('../data/processed/attribution_words.pkl', 'wb') as f:\n",
    "#    pickle.dump(attribution_words, f)"
   ]
  },
  {
   "cell_type": "code",
   "execution_count": 25,
   "id": "704b0219-fa8e-4437-a94c-63fbd17f1f66",
   "metadata": {},
   "outputs": [],
   "source": [
    "attribution_words = pickle.load(open('../data/processed/attribution_words.pkl', 'rb'))"
   ]
  },
  {
   "cell_type": "markdown",
   "id": "87450d64-43bb-4b25-bb0b-617f12f1cc93",
   "metadata": {},
   "source": [
    "Rewrite the CUB-200 dataset. It now contains Adjectives and Parts but still with underscore and irrelevant words. We want a single text chunk to compare the entire chunk at once with the other text chunks."
   ]
  },
  {
   "cell_type": "code",
   "execution_count": 26,
   "id": "a3891b2f-855d-4a81-9d3d-22951777b94c",
   "metadata": {},
   "outputs": [
    {
     "data": {
      "application/vnd.jupyter.widget-view+json": {
       "model_id": "f1e56f493f2448df925fb3a0c1eaba11",
       "version_major": 2,
       "version_minor": 0
      },
      "text/plain": [
       "  0%|          | 0/200 [00:00<?, ?it/s]"
      ]
     },
     "metadata": {},
     "output_type": "display_data"
    }
   ],
   "source": [
    "text_CUB = []\n",
    "# Rewrite the sentence\n",
    "for bird in tqdm_notebook(CUB_dict_new.keys()):\n",
    "    for (part, adjective) in CUB_dict_new[bird]:\n",
    "        part = part[4:].replace('_', ' ')\n",
    "        adjective = ' '.join(adjective.split('_'))\n",
    "        text_CUB.append((part, adjective, bird))"
   ]
  },
  {
   "cell_type": "code",
   "execution_count": 27,
   "id": "905bfc3c-942f-4f87-a92d-dc462a096a9d",
   "metadata": {},
   "outputs": [],
   "source": [
    "# Dump in dataframe\n",
    "df_CUB = pd.DataFrame(text_CUB, columns =['Part', 'Adjective', 'Bird'])\n",
    "# Create single text chunk\n",
    "\n",
    "df_CUB['Part'] = df_CUB['Part'].str.replace('color', '')\n",
    "df_CUB['Part'] = df_CUB['Part'].str.replace('pattern', '')\n",
    "\n",
    "#df_CUB['Trait'] = 'The bird has ' + df_CUB['Part'] + ', the ' + df_CUB['Part'] + ' is ' + df_CUB['Adjective'] + '.'\n",
    "df_CUB['Trait'] = df_CUB['Part'] + ' ' + df_CUB['Adjective']"
   ]
  },
  {
   "cell_type": "code",
   "execution_count": 28,
   "id": "d5bc1903-33fc-4587-aaaa-a7a5839eeb55",
   "metadata": {},
   "outputs": [
    {
     "data": {
      "text/html": [
       "<div>\n",
       "<style scoped>\n",
       "    .dataframe tbody tr th:only-of-type {\n",
       "        vertical-align: middle;\n",
       "    }\n",
       "\n",
       "    .dataframe tbody tr th {\n",
       "        vertical-align: top;\n",
       "    }\n",
       "\n",
       "    .dataframe thead th {\n",
       "        text-align: right;\n",
       "    }\n",
       "</style>\n",
       "<table border=\"1\" class=\"dataframe\">\n",
       "  <thead>\n",
       "    <tr style=\"text-align: right;\">\n",
       "      <th></th>\n",
       "      <th>Part</th>\n",
       "      <th>Adjective</th>\n",
       "      <th>Bird</th>\n",
       "      <th>Trait</th>\n",
       "    </tr>\n",
       "  </thead>\n",
       "  <tbody>\n",
       "    <tr>\n",
       "      <th>0</th>\n",
       "      <td>underparts</td>\n",
       "      <td>grey</td>\n",
       "      <td>House Sparrow</td>\n",
       "      <td>underparts  grey</td>\n",
       "    </tr>\n",
       "    <tr>\n",
       "      <th>1</th>\n",
       "      <td>breast</td>\n",
       "      <td>solid</td>\n",
       "      <td>House Sparrow</td>\n",
       "      <td>breast  solid</td>\n",
       "    </tr>\n",
       "    <tr>\n",
       "      <th>2</th>\n",
       "      <td>head</td>\n",
       "      <td>plain</td>\n",
       "      <td>House Sparrow</td>\n",
       "      <td>head  plain</td>\n",
       "    </tr>\n",
       "    <tr>\n",
       "      <th>3</th>\n",
       "      <td>breast</td>\n",
       "      <td>grey</td>\n",
       "      <td>House Sparrow</td>\n",
       "      <td>breast  grey</td>\n",
       "    </tr>\n",
       "    <tr>\n",
       "      <th>4</th>\n",
       "      <td>throat</td>\n",
       "      <td>grey</td>\n",
       "      <td>House Sparrow</td>\n",
       "      <td>throat  grey</td>\n",
       "    </tr>\n",
       "    <tr>\n",
       "      <th>...</th>\n",
       "      <td>...</td>\n",
       "      <td>...</td>\n",
       "      <td>...</td>\n",
       "      <td>...</td>\n",
       "    </tr>\n",
       "    <tr>\n",
       "      <th>222106</th>\n",
       "      <td>tail</td>\n",
       "      <td>solid</td>\n",
       "      <td>Brandt's Cormorant</td>\n",
       "      <td>tail  solid</td>\n",
       "    </tr>\n",
       "    <tr>\n",
       "      <th>222107</th>\n",
       "      <td>belly</td>\n",
       "      <td>solid</td>\n",
       "      <td>Brandt's Cormorant</td>\n",
       "      <td>belly  solid</td>\n",
       "    </tr>\n",
       "    <tr>\n",
       "      <th>222108</th>\n",
       "      <td>primary</td>\n",
       "      <td>black</td>\n",
       "      <td>Brandt's Cormorant</td>\n",
       "      <td>primary  black</td>\n",
       "    </tr>\n",
       "    <tr>\n",
       "      <th>222109</th>\n",
       "      <td>crown</td>\n",
       "      <td>black</td>\n",
       "      <td>Brandt's Cormorant</td>\n",
       "      <td>crown  black</td>\n",
       "    </tr>\n",
       "    <tr>\n",
       "      <th>222110</th>\n",
       "      <td>wing</td>\n",
       "      <td>striped</td>\n",
       "      <td>Brandt's Cormorant</td>\n",
       "      <td>wing  striped</td>\n",
       "    </tr>\n",
       "  </tbody>\n",
       "</table>\n",
       "<p>222111 rows × 4 columns</p>\n",
       "</div>"
      ],
      "text/plain": [
       "               Part Adjective                Bird             Trait\n",
       "0       underparts       grey       House Sparrow  underparts  grey\n",
       "1           breast      solid       House Sparrow     breast  solid\n",
       "2             head      plain       House Sparrow       head  plain\n",
       "3           breast       grey       House Sparrow      breast  grey\n",
       "4           throat       grey       House Sparrow      throat  grey\n",
       "...             ...       ...                 ...               ...\n",
       "222106        tail      solid  Brandt's Cormorant       tail  solid\n",
       "222107       belly      solid  Brandt's Cormorant      belly  solid\n",
       "222108     primary      black  Brandt's Cormorant    primary  black\n",
       "222109       crown      black  Brandt's Cormorant      crown  black\n",
       "222110        wing    striped  Brandt's Cormorant     wing  striped\n",
       "\n",
       "[222111 rows x 4 columns]"
      ]
     },
     "execution_count": 28,
     "metadata": {},
     "output_type": "execute_result"
    }
   ],
   "source": [
    "df_CUB"
   ]
  },
  {
   "cell_type": "markdown",
   "id": "5a5e72d8-e5a8-4a16-a0e4-894d6822d725",
   "metadata": {},
   "source": [
    "Also drop the most important words + parts in a dataframe for comparison."
   ]
  },
  {
   "cell_type": "code",
   "execution_count": 29,
   "id": "06021621-5d06-4561-b9e7-98613ffc1a97",
   "metadata": {},
   "outputs": [],
   "source": [
    "# Own = own data\n",
    "df_OWN = pd.DataFrame(attribution_words, columns =['Sentence', 'Attribution', 'Adjective', 'Part', 'Bird'])\n",
    "# And also create single text chunk\n",
    "df_OWN['Trait'] = df_OWN['Part'] + ' ' + df_OWN['Adjective']"
   ]
  },
  {
   "cell_type": "code",
   "execution_count": 100,
   "id": "f0bfba56-e704-4c86-bcc7-4bb5bb1775f9",
   "metadata": {},
   "outputs": [
    {
     "data": {
      "text/plain": [
       "(16244,)"
      ]
     },
     "execution_count": 100,
     "metadata": {},
     "output_type": "execute_result"
    }
   ],
   "source": [
    "df_OWN[df_OWN.Attribution == 'IG_20']['Sentence'].unique().shape"
   ]
  },
  {
   "cell_type": "code",
   "execution_count": 116,
   "id": "c902a5c0-6ae9-417c-8718-9f3f06e25462",
   "metadata": {},
   "outputs": [
    {
     "name": "stdout",
     "output_type": "stream",
     "text": [
      "Sentence missed IG_20: 0\n",
      "Sentence missed IG_50: 0\n",
      "Sentence missed Occ_1-1: 0\n",
      "Sentence missed Occ_3-2: 0\n",
      "Sentence missed SVS: 0\n",
      "Sentence missed LA: 0\n",
      "Sentence missed LGXA: 9068\n"
     ]
    }
   ],
   "source": [
    "for attr in df_OWN['Attribution'].unique():\n",
    "    #print(attr)\n",
    "\n",
    "    missed = df[df[attr].isna()]['Sentence'].unique()\n",
    "    print(f\"Sentence missed {attr}: {df_OWN[df_OWN['Sentence'].isin(missed)]['Sentence'].unique().shape[0]}\")"
   ]
  },
  {
   "cell_type": "code",
   "execution_count": 108,
   "id": "a8980794-ec22-4c5a-af8b-72ec5dfe6b92",
   "metadata": {},
   "outputs": [],
   "source": [
    "#for #column in df_OWN.columns:\n",
    "    #print(column, len(df_OWN[column].unique()))\n",
    "    #for attr in df_OWN['Attribution'].unique():\n",
    "    #    if attr in column:\n",
    "    ##        continue\n",
    "    #    print(f'Sentences for {attr}')    \n",
    "            \n",
    "            \n",
    "        #print(column, attr, len(df_OWN[df_OWN['Attribution'] == attr][column].unique()), df_OWN[df_OWN['Attribution'] == attr]['Adjective'].count())"
   ]
  },
  {
   "cell_type": "code",
   "execution_count": 36,
   "id": "845d0eae-d1bf-4bdb-87df-99df4f792a7b",
   "metadata": {},
   "outputs": [],
   "source": [
    "# Do the same for the PoS data\n",
    "data = pickle.load(open('../data/processed/PoS_descriptions_common_birds_v2.pkl', 'rb'))"
   ]
  },
  {
   "cell_type": "code",
   "execution_count": 37,
   "id": "9a894587-7ba1-4ec2-b2ef-53000db659dc",
   "metadata": {},
   "outputs": [],
   "source": [
    "df_POS = pd.DataFrame(data, columns=['Sentence', 'ADJ', 'Part', 'Bird', ])\n",
    "df_POS['Trait'] = df_POS['Part'] + ' ' + df_POS['ADJ']"
   ]
  },
  {
   "cell_type": "code",
   "execution_count": 96,
   "id": "2059452d-f08b-4b5b-859d-b4bd808a23f4",
   "metadata": {},
   "outputs": [
    {
     "data": {
      "text/plain": [
       "(208,)"
      ]
     },
     "execution_count": 96,
     "metadata": {},
     "output_type": "execute_result"
    }
   ],
   "source": [
    "df_POS['Part'].unique().shape"
   ]
  },
  {
   "cell_type": "code",
   "execution_count": 118,
   "id": "34fa8c68-a8ea-4dd0-a829-2ce3802ccda1",
   "metadata": {},
   "outputs": [
    {
     "data": {
      "text/plain": [
       "11546"
      ]
     },
     "execution_count": 118,
     "metadata": {},
     "output_type": "execute_result"
    }
   ],
   "source": [
    "len(df_POS['Sentence'].unique())"
   ]
  },
  {
   "cell_type": "code",
   "execution_count": 26,
   "id": "3b545c96-6f05-4e1b-888f-b275a731f476",
   "metadata": {},
   "outputs": [],
   "source": [
    "# Init SIMmodel\n",
    "SIMmodel = load_simBERT()"
   ]
  },
  {
   "cell_type": "code",
   "execution_count": null,
   "id": "a397fb71-9a99-4854-a7d5-71fbf5e742da",
   "metadata": {},
   "outputs": [],
   "source": [
    "comparison_list = []\n",
    "\n",
    "for bird in tqdm_notebook(df_OWN['Bird'].unique(), desc='bird'):\n",
    "    for part in tqdm_notebook(df_OWN['Part'].unique(), desc='part', leave=False):\n",
    "        # Get CUB DATA\n",
    "        CUB_subset = list(df_CUB[\n",
    "            (df_CUB['Trait'].str.startswith(part)) & \n",
    "            (df_CUB['Bird'] == bird)]\n",
    "                         ['Trait'])\n",
    "        if CUB_subset:\n",
    "            # Get the vector values\n",
    "            CUB_subset = list(set(CUB_subset))\n",
    "            vectors_CUB = vector_values(CUB_subset, model=SIMmodel)\n",
    "            # Get the attribution\n",
    "            for attribution in df_OWN['Attribution'].unique():\n",
    "                #print(bird, attribution, part)\n",
    "                RANDOM_subset = list(df_OWN[\n",
    "                    (df_OWN['Bird'] == bird) & \n",
    "                    (df_OWN['Part'] == part) &\n",
    "                    (df_OWN['Attribution'] == attribution)]\n",
    "                                    ['Trait'])\n",
    "                # Some part do not exists with birds\n",
    "                if RANDOM_subset:\n",
    "                    # Get vectors\n",
    "                    vectors_RANDOM = vector_values(RANDOM_subset, model=SIMmodel)\n",
    "                    # Compute similarity\n",
    "                    matrix = cosine_similarity(vectors_CUB, vectors_RANDOM)\n",
    "                    # Append    \n",
    "                    comparison_list.append((bird, part, attribution, matrix))\n",
    "                    #comparison_list.append((bird, part, attribution, matrix.mean(axis=0)))\n",
    "                    #comparison_list.append((bird, part, attribution, matrix.max()))\n",
    "                    #comparison_list.append((bird, part, attribution, hmean(matrix.max(axis=1))))\n",
    "                    # Clear memory \n",
    "                    del vectors_RANDOM\n",
    "            # Clear memory    \n",
    "            del vectors_CUB"
   ]
  },
  {
   "cell_type": "code",
   "execution_count": null,
   "id": "fef610c6-aedf-4c38-8606-9b6d18e0d5ac",
   "metadata": {},
   "outputs": [],
   "source": [
    "#with open('../data/processed/comparison_list.pkl', 'wb') as f:\n",
    "#    pickle.dump(comparison_list, f)"
   ]
  },
  {
   "cell_type": "markdown",
   "id": "19797f09-8310-47e1-83d2-d21ae622ab19",
   "metadata": {},
   "source": [
    "Compute the similarity for every text of chunk. This goes per bird/per attribution/per part. If computing this at a higher level the memory will explode."
   ]
  },
  {
   "cell_type": "code",
   "execution_count": 27,
   "id": "7de8eedd-7ed7-401f-90c3-381aea8b2a1f",
   "metadata": {},
   "outputs": [],
   "source": [
    "comparison_list = pickle.load(open('../data/processed/comparison_list.pkl', 'rb'))\n",
    "comparison_list_pos = pickle.load(open('../data/processed/comparison_list_pos.pkl', 'rb'))"
   ]
  },
  {
   "cell_type": "code",
   "execution_count": 28,
   "id": "b0ed54a8-f9df-44e7-8f7b-89595fb6405b",
   "metadata": {},
   "outputs": [],
   "source": [
    "df_ATB = pd.DataFrame(comparison_list,\n",
    "                              columns=['Bird', 'Part', 'Attribution', 'Value', 'CUB', 'Random'])\n",
    "df_ATB['Max'] = df_ATB['Value'].apply(np.max)\n",
    "\n",
    "\n",
    "df_POS = pd.DataFrame(comparison_list_pos,\n",
    "                              columns=['Bird', 'Part', 'Random', 'CUB', 'Value'])\n",
    "df_POS['Max'] = df_POS['Value'].apply(np.max)\n",
    "df_POS['Attribution'] = 'PoS'\n",
    "#df_POS = df_POS[df_POS['Part'] != 'underpart']\n",
    "#df_POS = df_POS[df_POS['Part'] != 'head']\n",
    "#df_POS = df_POS[df_POS['Part'] != 'leg']\n",
    "\n",
    "df_ATB = pd.concat([df_ATB, df_POS])"
   ]
  },
  {
   "cell_type": "code",
   "execution_count": 391,
   "id": "32c80f88-a4a5-41d1-ac0c-009f28d50c3b",
   "metadata": {},
   "outputs": [],
   "source": [
    "df_ATB.to_pickle('../data/processed/df_ATB.pkl')"
   ]
  },
  {
   "cell_type": "markdown",
   "id": "c5417734-cd31-498e-b8e3-fed6c1b499d6",
   "metadata": {},
   "source": [
    "# Create a New Dataset"
   ]
  },
  {
   "cell_type": "code",
   "execution_count": 29,
   "id": "a818bbd4-3c58-408c-a0e2-3e8168d2733c",
   "metadata": {},
   "outputs": [],
   "source": [
    "from sklearn.preprocessing import LabelBinarizer"
   ]
  },
  {
   "cell_type": "code",
   "execution_count": 30,
   "id": "d885b34c-e90e-4dac-82cb-04cf02c154a4",
   "metadata": {},
   "outputs": [],
   "source": [
    "# Load the data\n",
    "data = pickle.load(open('../data/description/04_TRAIN_0000000-0002000_BIRDS.pkl', 'rb'))"
   ]
  },
  {
   "cell_type": "code",
   "execution_count": 31,
   "id": "c4487b4c-2ea5-4140-88e3-4910534bbc9e",
   "metadata": {},
   "outputs": [],
   "source": [
    "def IG_50(sentence):\n",
    "    \n",
    "    # tokenize\n",
    "    input_ids, ref_input_ids, sep_id = construct_input_ref_pair(sentence, ref_token_id, sep_token_id, cls_token_id)\n",
    "    token_type_ids, ref_token_type_ids = construct_input_ref_token_type_pair(input_ids, sep_id)\n",
    "    position_ids, ref_position_ids = construct_input_ref_pos_id_pair(input_ids)\n",
    "    attention_mask = construct_attention_mask(input_ids)\n",
    "    indices = input_ids[0].type(torch.LongTensor)\n",
    "    all_tokens = tokenizer.convert_ids_to_tokens(indices)\n",
    "\n",
    "    #### Layer IG 100 steps\n",
    "    attribution_ig_100 = lig.attribute(inputs=(input_ids, attention_mask),\n",
    "                                    baselines=(ref_input_ids, attention_mask),\n",
    "                                    n_steps=50,\n",
    "                                    internal_batch_size=1,\n",
    "                                    return_convergence_delta=False)\n",
    "    attribution_ig_100_sum = summarize_attributions_ig(attribution_ig_100)\n",
    "    attributions_ig_100_words, words = token_to_words(attribution_ig_100_sum, all_tokens)\n",
    "\n",
    "    return attributions_ig_100_words, words\n",
    "\n",
    "\n",
    "def Occlude(sentence):\n",
    "    \n",
    "    # tokenize\n",
    "    input_ids, ref_input_ids, sep_id = construct_input_ref_pair(sentence, ref_token_id, sep_token_id, cls_token_id)\n",
    "    token_type_ids, ref_token_type_ids = construct_input_ref_token_type_pair(input_ids, sep_id)\n",
    "    position_ids, ref_position_ids = construct_input_ref_pos_id_pair(input_ids)\n",
    "    attention_mask = construct_attention_mask(input_ids)\n",
    "    indices = input_ids[0].type(torch.LongTensor)\n",
    "    all_tokens = tokenizer.convert_ids_to_tokens(indices)\n",
    "    \n",
    "    ### Occlusion maps \n",
    "    attribution_occ = occ.attribute(inputs=(input_ids, attention_mask),\n",
    "                                sliding_window_shapes=(tuple([1,]), tuple([1,])), \n",
    "                                baselines=(ref_input_ids, attention_mask),)\n",
    "    attributions_occ_sum = summarize_attributions_occ(attribution_occ[0])\n",
    "    attributions_occ_words, words = token_to_words(attributions_occ_sum, all_tokens)\n",
    "    return attributions_occ_words, words"
   ]
  },
  {
   "cell_type": "code",
   "execution_count": 395,
   "id": "018f1b8c-1373-454a-9c07-d6fb67e7d141",
   "metadata": {},
   "outputs": [],
   "source": [
    "strings =  data['House Sparrow']"
   ]
  },
  {
   "cell_type": "code",
   "execution_count": null,
   "id": "8829959a-bcb2-4492-a8fc-8657918f571f",
   "metadata": {},
   "outputs": [],
   "source": [
    "trait_list = collections.defaultdict(list)\n",
    "bird = 'House Sparrow'\n",
    "\n",
    "for string in tqdm_notebook(strings[3:4], desc='String'):\n",
    "    \n",
    "    doc = nlp(string)\n",
    "    # Check single\n",
    "    words = [chunk.root.lemma_.lower() for chunk in doc.noun_chunks] + [chunk.root.text.lower() for chunk in doc.noun_chunks]\n",
    "    # Drop duplicate\n",
    "    words = list(set(words))\n",
    "    traits =  set(words) & set(glossary)\n",
    "    if traits:\n",
    "        Grad50_data, Grad50_words = IG_50(doc.text)\n",
    "        for trait in traits:\n",
    "            candidates = []\n",
    "            for (d, w, t) in sorted(zip(Grad50_data[1:-1], Grad50_words[1:-1], doc), reverse=True):\n",
    "                if len(candidates) >= 1:\n",
    "                    break\n",
    "                if t.pos_ in ['VERB', 'ADJ']:\n",
    "                    if t.text == trait or t.lemma_ == trait:\n",
    "                        continue\n",
    "                    candidates.append(t.lemma_)    \n",
    "           \n",
    "            #children = [child for child in HEAD.children] + [child for child in token.children]\n",
    "            \n",
    "\n",
    "            trait_list[bird].append((trait, candidates[0]))\n",
    "                #print(f'{candidate} {token.lemma_}')\n",
    "\n",
    "print(trait_list)                "
   ]
  },
  {
   "cell_type": "code",
   "execution_count": null,
   "id": "5654dbc9-9054-469c-a65c-6a8d458ce4d7",
   "metadata": {},
   "outputs": [],
   "source": [
    "candidates"
   ]
  },
  {
   "cell_type": "code",
   "execution_count": null,
   "id": "cbf607a5-a8c0-40de-86a4-784d949906b5",
   "metadata": {},
   "outputs": [],
   "source": [
    "displacy.render(doc)"
   ]
  },
  {
   "cell_type": "code",
   "execution_count": null,
   "id": "183d8648-8826-4a51-be46-6eacefeefeaf",
   "metadata": {},
   "outputs": [],
   "source": [
    "'''\n",
    "traits_candidates = collections.defaultdict(list)\n",
    "bird = 'House Sparrow'\n",
    "\n",
    "for string in tqdm_notebook(strings[0:15], desc='String'):\n",
    "    \n",
    "    doc = nlp(string)\n",
    "    \n",
    "    if len(doc) <= 2:\n",
    "        continue\n",
    "    # Check single\n",
    "    words = [chunk.root.lemma_.lower() for chunk in doc.noun_chunks] \n",
    "    # Check multiple\n",
    "    words += [chunk.root.text.lower() for chunk in doc.noun_chunks]\n",
    "    # Drop duplicate\n",
    "    words = list(set(words))\n",
    "    traits =  set(words) & set(glossary)\n",
    "    if traits:\n",
    "        # Yield the traits\n",
    "        trait_list = list(traits)\n",
    "        #print(trait_list)\n",
    "        for trait in trait_list:    \n",
    "            # Get attribute values\n",
    "            data, words = IG_50(string)\n",
    "            # Pop SEP and CLS tokens\n",
    "            data = data[1:-1]\n",
    "            words = words[1:-1]\n",
    "            # Get POS tokens\n",
    "            tokens = [token.pos_ for token in doc if token.pos_ != 'SPACE']\n",
    "            candidates = []\n",
    "            if len(tokens) == len(words):\n",
    "                # Loop over sorted data\n",
    "                for (d, w, t) in sorted(zip(data, doc, tokens), reverse=True):\n",
    "                    if t in ['ADJ', 'NOUN', 'VERB']:\n",
    "                        if len(candidates) >= 2:\n",
    "                            continue\n",
    "                        if w.text in candidates:\n",
    "                            continue\n",
    "                        if w.text == trait or w.lemma_ == trait:\n",
    "                            continue\n",
    "                        candidates.append(w.lemma_)\n",
    "\n",
    "        traits_candidates[bird].append((' '.join(candidates), trait))\n",
    "        \n",
    "    \n",
    "'''    "
   ]
  },
  {
   "cell_type": "code",
   "execution_count": 396,
   "id": "d21955b3-a345-4bd3-ac6c-430d488f02c2",
   "metadata": {},
   "outputs": [
    {
     "ename": "NameError",
     "evalue": "name 'traits_candidates' is not defined",
     "output_type": "error",
     "traceback": [
      "\u001b[0;31m---------------------------------------------------------------------------\u001b[0m",
      "\u001b[0;31mNameError\u001b[0m                                 Traceback (most recent call last)",
      "\u001b[0;32m/var/folders/gp/hp50s5114x52591qbdhn43xm0000gn/T/ipykernel_24530/2326310739.py\u001b[0m in \u001b[0;36m<module>\u001b[0;34m\u001b[0m\n\u001b[0;32m----> 1\u001b[0;31m \u001b[0mdf_BIRD\u001b[0m \u001b[0;34m=\u001b[0m \u001b[0mpd\u001b[0m\u001b[0;34m.\u001b[0m\u001b[0mDataFrame\u001b[0m\u001b[0;34m(\u001b[0m\u001b[0mtraits_candidates\u001b[0m\u001b[0;34m[\u001b[0m\u001b[0mbird\u001b[0m\u001b[0;34m]\u001b[0m\u001b[0;34m,\u001b[0m \u001b[0mcolumns\u001b[0m\u001b[0;34m=\u001b[0m\u001b[0;34m[\u001b[0m\u001b[0;34m'ADJ'\u001b[0m\u001b[0;34m,\u001b[0m \u001b[0;34m'NOUN'\u001b[0m\u001b[0;34m]\u001b[0m\u001b[0;34m)\u001b[0m\u001b[0;34m\u001b[0m\u001b[0;34m\u001b[0m\u001b[0m\n\u001b[0m\u001b[1;32m      2\u001b[0m \u001b[0mdf_BIRD\u001b[0m\u001b[0;34m[\u001b[0m\u001b[0;34m'TRAIT'\u001b[0m\u001b[0;34m]\u001b[0m \u001b[0;34m=\u001b[0m \u001b[0mdf_BIRD\u001b[0m\u001b[0;34m[\u001b[0m\u001b[0;34m'ADJ'\u001b[0m\u001b[0;34m]\u001b[0m \u001b[0;34m+\u001b[0m \u001b[0;34m' '\u001b[0m \u001b[0;34m+\u001b[0m \u001b[0mdf_BIRD\u001b[0m\u001b[0;34m[\u001b[0m\u001b[0;34m'NOUN'\u001b[0m\u001b[0;34m]\u001b[0m\u001b[0;34m\u001b[0m\u001b[0;34m\u001b[0m\u001b[0m\n\u001b[1;32m      3\u001b[0m \u001b[0;31m#df_BIRD = pd.DataFrame(trait_list[bird], columns=['TRAIT'])\u001b[0m\u001b[0;34m\u001b[0m\u001b[0;34m\u001b[0m\u001b[0;34m\u001b[0m\u001b[0m\n",
      "\u001b[0;31mNameError\u001b[0m: name 'traits_candidates' is not defined"
     ]
    }
   ],
   "source": [
    "df_BIRD = pd.DataFrame(traits_candidates[bird], columns=['ADJ', 'NOUN'])\n",
    "df_BIRD['TRAIT'] = df_BIRD['ADJ'] + ' ' + df_BIRD['NOUN']\n",
    "#df_BIRD = pd.DataFrame(trait_list[bird], columns=['TRAIT'])\n"
   ]
  },
  {
   "cell_type": "code",
   "execution_count": null,
   "id": "c9098ea8-a1f4-4b6d-abee-57a1a8b1847a",
   "metadata": {},
   "outputs": [],
   "source": [
    "df_BIRD"
   ]
  },
  {
   "cell_type": "code",
   "execution_count": null,
   "id": "17df9f18-39ab-45f4-8804-06bbc5913f9f",
   "metadata": {},
   "outputs": [],
   "source": []
  },
  {
   "cell_type": "code",
   "execution_count": 433,
   "id": "39c99025-0db2-4d59-a6b3-bb023a8c50f0",
   "metadata": {},
   "outputs": [
    {
     "data": {
      "text/plain": [
       "5040"
      ]
     },
     "execution_count": 433,
     "metadata": {},
     "output_type": "execute_result"
    }
   ],
   "source": []
  },
  {
   "cell_type": "code",
   "execution_count": 483,
   "id": "d9fc9396-2bd7-4d19-8c85-af212bc0371b",
   "metadata": {},
   "outputs": [],
   "source": [
    "lb = LabelBinarizer()\n",
    "data = pickle.load(open('../data/description/04_TRAIN_0000000-0002000_BIRDS.pkl', 'rb'))\n",
    "keys = np.array([key for key in data.keys()])\n",
    "keys_encoded = lb.fit_transform(keys)"
   ]
  },
  {
   "cell_type": "code",
   "execution_count": 550,
   "id": "b2f0e073-6354-4731-a114-87b34176acec",
   "metadata": {},
   "outputs": [],
   "source": [
    "PoS_dict = collections.defaultdict(list)\n",
    "PoS = pickle.load(open('../data/processed/PoS_dutch_birds.pkl', 'rb'))\n",
    "\n",
    "for bird in PoS.keys():\n",
    "    try:\n",
    "        for (obj, rel, sub) in PoS[bird]:\n",
    "            if obj == 'bird':\n",
    "                continue\n",
    "            PoS_dict[bird].append(f'{sub} {obj}')\n",
    "    except:\n",
    "        continue\n",
    "for bird in PoS_dict.keys():\n",
    "    PoS_dict[bird] = list(set(PoS_dict[bird]))"
   ]
  },
  {
   "cell_type": "code",
   "execution_count": 470,
   "id": "952926fb-0b4c-48f5-8177-10b0ea2f709d",
   "metadata": {},
   "outputs": [],
   "source": [
    "def WhichBird(span, model):\n",
    "\n",
    "    \"\"\"\n",
    "    Uses a trained bert classifier to see if a span\n",
    "    belongs to a species description or otherwise.\n",
    "    \"\"\"\n",
    "        \n",
    "    with torch.no_grad():\n",
    "        # Tokenize input\n",
    "        inputs = tokenizer(span, return_tensors=\"pt\", truncation=True)\n",
    "        # Predict class\n",
    "        outputs = model(**inputs)\n",
    "        # Get prediction values\n",
    "        exps = torch.exp(outputs)\n",
    "        # Get class\n",
    "        probs = exps.detach().numpy()\n",
    "        \n",
    "        return np.squeeze(probs)\n"
   ]
  },
  {
   "cell_type": "code",
   "execution_count": 471,
   "id": "16cb85e8-ceef-4a39-81d4-e98d8b36d5b7",
   "metadata": {},
   "outputs": [],
   "source": [
    "birds = df_CUB.Bird.unique()"
   ]
  },
  {
   "cell_type": "code",
   "execution_count": 472,
   "id": "0b17c152-18a6-49a7-9cc7-b3baa2e4dc50",
   "metadata": {},
   "outputs": [
    {
     "name": "stdout",
     "output_type": "stream",
     "text": [
      "Local Success\n"
     ]
    }
   ],
   "source": [
    "model = load_CUB_Bert(\"../models/\", 'saved_weights_CUB_BIRDS_2000.pt', outputsize=2000)"
   ]
  },
  {
   "cell_type": "code",
   "execution_count": 609,
   "id": "5a98ce66-f014-47fc-bfba-9ffd08c3ec24",
   "metadata": {},
   "outputs": [
    {
     "name": "stdout",
     "output_type": "stream",
     "text": [
      "Belted Kingfisher\n"
     ]
    },
    {
     "data": {
      "application/vnd.jupyter.widget-view+json": {
       "model_id": "0e9ec792f1af42bdb8c2ac4f8189cb08",
       "version_major": 2,
       "version_minor": 0
      },
      "text/plain": [
       "  0%|          | 0/40 [00:00<?, ?it/s]"
      ]
     },
     "metadata": {},
     "output_type": "display_data"
    }
   ],
   "source": [
    "bird = list(PoS_dict.keys())[1]\n",
    "print(bird)\n",
    "\n",
    "probs_stack = np.empty((0, 2000), float)\n",
    "text_span = ''\n",
    "\n",
    "#for row in tqdm_notebook(df_CUB[df_CUB['Bird'] ==  bird]['Trait'].unique()[0:40]):\n",
    "for row in tqdm_notebook(PoS_dict[bird][0:40]):\n",
    "#for row in test2:\n",
    "    text_span += f'{row.capitalize()}. ' \n",
    "    probs = WhichBird(text_span, model=model)\n",
    "    probs_stack = np.vstack((probs_stack, probs))\n"
   ]
  },
  {
   "cell_type": "code",
   "execution_count": 605,
   "id": "f8cda536-49e8-4e61-876b-0365cbca3d15",
   "metadata": {},
   "outputs": [
    {
     "data": {
      "text/plain": [
       "'Less covert. Long wing. Finely belly. Prolonged molting. Early plumage. Distinct bill. Basic head. Basic belly. Alternate plumage. Black bar. Lateral rump. Inner secondary. Partial molt. Fuscous secondary. Marginal wing covert. Probably scapular. Fresh covert. Compared head. Whitish wing covert. New feather. White wing covert. Large covert. Blackish belly. Basic scapular. Dark marking. Gray dorsal feather. Similar chin. Gray belly. Orange-yellow bill. Reminiscent head. Defined marking. Long feather. Broad belly. Sometimes plumage. Most wing covert. Rusty bar. Banana-yellow bill. Anterior mantle. Resemble eclipse plumage. Worn feather. '"
      ]
     },
     "execution_count": 605,
     "metadata": {},
     "output_type": "execute_result"
    }
   ],
   "source": [
    "text_span"
   ]
  },
  {
   "cell_type": "code",
   "execution_count": 606,
   "id": "3dc02069-8161-49db-93c3-7f8086bb72e0",
   "metadata": {},
   "outputs": [
    {
     "data": {
      "text/plain": [
       "'Eared Grebe'"
      ]
     },
     "execution_count": 606,
     "metadata": {},
     "output_type": "execute_result"
    }
   ],
   "source": [
    "idx = np.argmax(probs_stack[-1])\n",
    "lb.classes_[idx]"
   ]
  },
  {
   "cell_type": "code",
   "execution_count": 607,
   "id": "a099ce84-f6de-467d-8633-d112cc14674f",
   "metadata": {},
   "outputs": [],
   "source": [
    "decent = [\n",
    "    'Cliff Swallow',\n",
    "    'Evening Grosbeak',\n",
    "    'Northern Cardinal',\n",
    "    'Blue Jay',\n",
    "    'Baltimore Oriole'\n",
    "]"
   ]
  },
  {
   "cell_type": "code",
   "execution_count": 610,
   "id": "4bf5fad9-c4ec-4d38-970b-f9c33403033c",
   "metadata": {},
   "outputs": [
    {
     "data": {
      "image/png": "[encoded data removed]",
      "text/plain": [
       "<Figure size 720x576 with 1 Axes>"
      ]
     },
     "metadata": {},
     "output_type": "display_data"
    }
   ],
   "source": [
    "fig, ax = plt.subplots(figsize=(10, 8))\n",
    "for i in range(0, 2000):\n",
    "    if i == np.where(lb.classes_ == bird)[0][0]:\n",
    "        ax.plot(probs_stack[:, i], color='black', alpha=1, markersize=5)\n",
    "    else:\n",
    "        ax.plot(probs_stack[:, i], color='blue', alpha=0.1)\n",
    "        \n",
    "#plt.setp([ax], ylim=(-0.0002, 0.2))"
   ]
  },
  {
   "cell_type": "code",
   "execution_count": null,
   "id": "1a897199-358a-4702-bf1e-6dc26280f204",
   "metadata": {},
   "outputs": [],
   "source": []
  },
  {
   "cell_type": "code",
   "execution_count": null,
   "id": "c18d7f4b-6260-43f9-86e1-d05dc3f0bb47",
   "metadata": {},
   "outputs": [],
   "source": []
  },
  {
   "cell_type": "code",
   "execution_count": 620,
   "id": "187132a9-41cd-4c11-9a33-da33e0057779",
   "metadata": {},
   "outputs": [
    {
     "data": {
      "text/plain": [
       "159"
      ]
     },
     "execution_count": 620,
     "metadata": {},
     "output_type": "execute_result"
    }
   ],
   "source": []
  },
  {
   "cell_type": "code",
   "execution_count": 621,
   "id": "95f69007-af59-412f-a271-c91509eb8beb",
   "metadata": {},
   "outputs": [
    {
     "data": {
      "text/plain": [
       "2.7409183e-06"
      ]
     },
     "execution_count": 621,
     "metadata": {},
     "output_type": "execute_result"
    }
   ],
   "source": [
    "WhichBird('hallo', model=model)[195]"
   ]
  },
  {
   "cell_type": "code",
   "execution_count": null,
   "id": "ae675e92-1e9d-4d3d-8414-5a8be4bba791",
   "metadata": {},
   "outputs": [],
   "source": []
  },
  {
   "cell_type": "code",
   "execution_count": 573,
   "id": "49564c43-008e-451b-a433-d973577304ae",
   "metadata": {},
   "outputs": [],
   "source": [
    "birds = df_CUB.Bird.unique()"
   ]
  },
  {
   "cell_type": "code",
   "execution_count": 626,
   "id": "5e35d183-9a3d-4e37-8d7f-5dc56874b942",
   "metadata": {},
   "outputs": [
    {
     "data": {
      "application/vnd.jupyter.widget-view+json": {
       "model_id": "9d24e3cc50464b82a42c7f042c030acc",
       "version_major": 2,
       "version_minor": 0
      },
      "text/plain": [
       "  0%|          | 0/40 [00:00<?, ?it/s]"
      ]
     },
     "metadata": {},
     "output_type": "display_data"
    }
   ],
   "source": [
    "data_birds = collections.defaultdict(list)\n",
    "\n",
    "\n",
    "for bird in tqdm_notebook(list(PoS_dict.keys())[0:40]):\n",
    "    text_span = ''\n",
    "    \n",
    "    for row in PoS_dict[bird][0:40]:\n",
    "    #for row in important_stuff:\n",
    "        text_span += f' {row}.' \n",
    "        probabilities_stacked = WhichBird(text_span, model=model)\n",
    "        idx = np.where(lb.classes_ == bird)[0][0]\n",
    "        data_birds[bird].append(probabilities_stacked[idx])"
   ]
  },
  {
   "cell_type": "code",
   "execution_count": 633,
   "id": "3bd05427-f527-4032-bef0-2365e6be5168",
   "metadata": {},
   "outputs": [
    {
     "data": {
      "image/png": "[encoded data removed]",
      "text/plain": [
       "<Figure size 720x576 with 1 Axes>"
      ]
     },
     "metadata": {},
     "output_type": "display_data"
    }
   ],
   "source": [
    "fig, ax = plt.subplots(figsize=(10, 8))\n",
    "\n",
    "for bird in data_birds.keys():\n",
    "    if data_birds[bird][-1] > 0.5:\n",
    "        ax.plot(data_birds[bird], alpha=0.5, label=bird)\n",
    "    else:\n",
    "        ax.plot(data_birds[bird], alpha=0.5, color='black')\n",
    "plt.legend()\n",
    "plt.show()"
   ]
  },
  {
   "cell_type": "code",
   "execution_count": 616,
   "id": "2b6beec3-3c96-4d89-8a02-bb2a75cb3d45",
   "metadata": {},
   "outputs": [
    {
     "data": {
      "text/plain": [
       "(40, 2000)"
      ]
     },
     "execution_count": 616,
     "metadata": {},
     "output_type": "execute_result"
    }
   ],
   "source": [
    "data_birds['Belted Kingfisher'].shape"
   ]
  },
  {
   "cell_type": "code",
   "execution_count": null,
   "id": "fc7f3e5b-efc9-40d1-bcf7-1d0665a738bc",
   "metadata": {},
   "outputs": [],
   "source": []
  },
  {
   "cell_type": "code",
   "execution_count": null,
   "id": "39eb2232-c2a1-42c4-a755-b246e91c8af6",
   "metadata": {},
   "outputs": [],
   "source": []
  },
  {
   "cell_type": "code",
   "execution_count": null,
   "id": "1fd7f9de-f91c-489d-8852-6efc8fac32c9",
   "metadata": {},
   "outputs": [],
   "source": [
    "lb.classes_[np.argmax(probs_stack[-1])]"
   ]
  },
  {
   "cell_type": "code",
   "execution_count": null,
   "id": "fbd5a5dd-bb1c-4d7e-b315-280091f7ef7a",
   "metadata": {},
   "outputs": [],
   "source": [
    "birds = df_CUB['Bird'].unique()"
   ]
  },
  {
   "cell_type": "code",
   "execution_count": null,
   "id": "a8acd4eb-6a2a-4cb8-92fc-ebd48773fa25",
   "metadata": {},
   "outputs": [],
   "source": [
    "data_birds['House Sparrow'].shape"
   ]
  },
  {
   "cell_type": "code",
   "execution_count": null,
   "id": "fb955142-8a58-4bbd-9ec5-90383b400bfe",
   "metadata": {},
   "outputs": [],
   "source": [
    "probs_stack[:, 1]"
   ]
  },
  {
   "cell_type": "code",
   "execution_count": null,
   "id": "f0fb75d6-4f75-4656-a547-e831b2b5a80f",
   "metadata": {},
   "outputs": [],
   "source": [
    "np.where(lb.classes_ == bird)[0][0]"
   ]
  },
  {
   "cell_type": "code",
   "execution_count": null,
   "id": "7c63aab2-9a3d-46ea-9712-2f7e58af17a8",
   "metadata": {},
   "outputs": [],
   "source": [
    "data_birds['House Sparrow'][:, 1]"
   ]
  },
  {
   "cell_type": "code",
   "execution_count": null,
   "id": "6822b0f0-0afb-4dba-8d38-d92b0888784a",
   "metadata": {},
   "outputs": [],
   "source": []
  }
 ],
 "metadata": {
  "kernelspec": {
   "display_name": "Python [conda env:DL]",
   "language": "python",
   "name": "conda-env-DL-py"
  },
  "language_info": {
   "codemirror_mode": {
    "name": "ipython",
    "version": 3
   },
   "file_extension": ".py",
   "mimetype": "text/x-python",
   "name": "python",
   "nbconvert_exporter": "python",
   "pygments_lexer": "ipython3",
   "version": "3.8.10"
  }
 },
 "nbformat": 4,
 "nbformat_minor": 5
}
