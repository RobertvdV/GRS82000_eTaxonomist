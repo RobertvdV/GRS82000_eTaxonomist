{
 "cells": [
  {
   "cell_type": "code",
   "execution_count": 1,
   "id": "6f31c5f6-207b-4247-8cf1-5cf1dcd848d2",
   "metadata": {},
   "outputs": [],
   "source": [
    "import pandas as pd\n",
    "import numpy as np\n",
    "import sys\n",
    "from tqdm.notebook import tqdm as tqdm_notebook\n",
    "from transformers import DistilBertTokenizer, logging\n",
    "import spacy\n",
    "from spacy import displacy\n",
    "import torch\n",
    "import pickle\n",
    "from sklearn.metrics.pairwise import cosine_similarity\n",
    "\n",
    "nlp = spacy.load('en_core_web_lg')\n",
    "sys.path.insert(0, '../src/models/')\n",
    "sys.path.insert(0, '../src/features/')"
   ]
  },
  {
   "cell_type": "code",
   "execution_count": 2,
   "id": "8ac337b2-3e89-4fde-be76-9e12bbee8f08",
   "metadata": {},
   "outputs": [],
   "source": [
    "logging.set_verbosity_error()\n",
    "tokenizer = DistilBertTokenizer.from_pretrained('distilbert-base-uncased')\n",
    "device = torch.device(\"cuda:0\" if torch.cuda.is_available() else \"cpu\")\n",
    "\n",
    "from predict_model import load_simBERT\n",
    "from build_features import similarity_matrix as vector_values\n",
    "\n",
    "model = load_simBERT()"
   ]
  },
  {
   "cell_type": "code",
   "execution_count": 3,
   "id": "0262a712-b7cb-46bf-a2bc-7371152ccc9c",
   "metadata": {},
   "outputs": [],
   "source": [
    "df = pd.read_csv('../data/external/PalmTraits_1.0.txt', \n",
    "                 sep='\\t', encoding='Latin-1')\n",
    "\n",
    "df.set_index('SpecName', inplace=True)"
   ]
  },
  {
   "cell_type": "code",
   "execution_count": 41,
   "id": "9bf3702e-642b-4aee-8b55-7a602a38997b",
   "metadata": {},
   "outputs": [],
   "source": [
    "string1 = 'The stem is erect.'\n",
    "string2 = 'The stem is erect. Erect slender. The stem is ringed. Ringed scar.'\n",
    "string3 = 'The stem is erect. The stem diameter is 9 centimeter. The stem height is 9 meter. The stem is solitary. The stem is not armed. The stem is not climbing.'"
   ]
  },
  {
   "cell_type": "code",
   "execution_count": 42,
   "id": "0b02c0a0-f520-4760-b501-fd8b7aa9103d",
   "metadata": {},
   "outputs": [],
   "source": [
    "doc1_tok = vector_values([string1, string2, string3], model=model)\n",
    "matrix = cosine_similarity(doc1_tok, doc1_tok)"
   ]
  },
  {
   "cell_type": "code",
   "execution_count": 43,
   "id": "4bfbed62-fbe4-41ff-b12b-79d14b5bb33b",
   "metadata": {},
   "outputs": [
    {
     "data": {
      "text/plain": [
       "array([[0.99999976, 0.90476704, 0.9101722 ],\n",
       "       [0.90476704, 1.0000001 , 0.9194746 ],\n",
       "       [0.9101722 , 0.9194746 , 0.9999999 ]], dtype=float32)"
      ]
     },
     "execution_count": 43,
     "metadata": {},
     "output_type": "execute_result"
    }
   ],
   "source": [
    "matrix"
   ]
  },
  {
   "cell_type": "code",
   "execution_count": 15,
   "id": "bbd2f71e-06b3-4c8f-94f0-75e7f5ffed8e",
   "metadata": {},
   "outputs": [],
   "source": [
    "triples_dict = pickle.load(open(f'../data/description/triples_palm_dataset.pkl', 'rb'))"
   ]
  },
  {
   "cell_type": "code",
   "execution_count": 16,
   "id": "a3d59d90-87cf-4f71-9700-e61660e7a3f2",
   "metadata": {},
   "outputs": [],
   "source": [
    "palm_list = list(triples_dict.keys())"
   ]
  },
  {
   "cell_type": "code",
   "execution_count": 17,
   "id": "bc5a36b2-a64f-437f-840c-c025682a6c90",
   "metadata": {},
   "outputs": [],
   "source": [
    "palm = palm_list[0]"
   ]
  },
  {
   "cell_type": "code",
   "execution_count": 18,
   "id": "ee427bc4-f242-49f9-aa5e-1c657b6624a2",
   "metadata": {},
   "outputs": [
    {
     "data": {
      "text/plain": [
       "'Actinokentia divaricata'"
      ]
     },
     "execution_count": 18,
     "metadata": {},
     "output_type": "execute_result"
    }
   ],
   "source": [
    "palm_list[0]"
   ]
  },
  {
   "cell_type": "code",
   "execution_count": 19,
   "id": "161f6076-e19e-4aaf-ad76-e97af7ec3205",
   "metadata": {},
   "outputs": [
    {
     "data": {
      "text/plain": [
       "accGenus                       Actinokentia\n",
       "accSpecies                       divaricata\n",
       "PalmTribe                           Areceae\n",
       "PalmSubfamily                    Arecoideae\n",
       "Climbing                                  0\n",
       "Acaulescent                               0\n",
       "Erect                                     1\n",
       "StemSolitary                              1\n",
       "StemArmed                                 0\n",
       "LeavesArmed                               0\n",
       "MaxStemHeight_m                           9\n",
       "MaxStemDia_cm                             9\n",
       "UnderstoreyCanopy                    canopy\n",
       "MaxLeafNumber                             7\n",
       "Max_Blade_Length_m                     2.35\n",
       "Max_Rachis_Length_m                     2.1\n",
       "Max_Petiole_length_m                    1.3\n",
       "AverageFruitLength_cm                   2.6\n",
       "MinFruitLength_cm                       1.8\n",
       "MaxFruitLength_cm                       3.4\n",
       "AverageFruitWidth_cm                    1.1\n",
       "MinFruitWidth_cm                        0.8\n",
       "MaxFruitWidth_cm                        1.4\n",
       "FruitSizeCategorical                  small\n",
       "FruitShape                          globose\n",
       "FruitColorDescription    red to dark purple\n",
       "MainFruitColors                 red; purple\n",
       "Conspicuousness                 conspicuous\n",
       "Name: Actinokentia divaricata, dtype: object"
      ]
     },
     "execution_count": 19,
     "metadata": {},
     "output_type": "execute_result"
    }
   ],
   "source": [
    "df.loc[palm]"
   ]
  },
  {
   "cell_type": "code",
   "execution_count": 44,
   "id": "8460aa5b-06d7-435a-8ef2-943c18e842f6",
   "metadata": {},
   "outputs": [],
   "source": [
    "#triples_dict[palm]"
   ]
  },
  {
   "cell_type": "code",
   "execution_count": 51,
   "id": "2728eaf7-789e-4439-94ea-62e413d13ed6",
   "metadata": {},
   "outputs": [],
   "source": [
    "d= {\n",
    "   'a1': {\n",
    "         'b1': 'c1',\n",
    "         'b2': 'c2'\n",
    "         },\n",
    "   'a2': {\n",
    "         'b1': 'c1',\n",
    "         'b2': 'c2'\n",
    "         },\n",
    "}"
   ]
  },
  {
   "cell_type": "code",
   "execution_count": 52,
   "id": "adea5ce7-0c88-447b-9efc-11a011823de5",
   "metadata": {},
   "outputs": [
    {
     "data": {
      "text/plain": [
       "'c1'"
      ]
     },
     "execution_count": 52,
     "metadata": {},
     "output_type": "execute_result"
    }
   ],
   "source": [
    "d['a1'].get('b1')"
   ]
  },
  {
   "cell_type": "code",
   "execution_count": 53,
   "id": "502efa48-c254-4998-83af-a532d490e457",
   "metadata": {},
   "outputs": [],
   "source": [
    "for k in [k for k in d if d[k].get('b1')]:\n",
    "    k"
   ]
  },
  {
   "cell_type": "code",
   "execution_count": null,
   "id": "bc5fc506-40f2-4ec7-9d96-6b92bafc5796",
   "metadata": {},
   "outputs": [],
   "source": []
  }
 ],
 "metadata": {
  "kernelspec": {
   "display_name": "Python [conda env:DL]",
   "language": "python",
   "name": "conda-env-DL-py"
  },
  "language_info": {
   "codemirror_mode": {
    "name": "ipython",
    "version": 3
   },
   "file_extension": ".py",
   "mimetype": "text/x-python",
   "name": "python",
   "nbconvert_exporter": "python",
   "pygments_lexer": "ipython3",
   "version": "3.8.10"
  }
 },
 "nbformat": 4,
 "nbformat_minor": 5
}
