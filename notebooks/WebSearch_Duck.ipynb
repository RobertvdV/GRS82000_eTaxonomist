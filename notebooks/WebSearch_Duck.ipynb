{
 "cells": [
  {
   "cell_type": "code",
   "execution_count": 3,
   "id": "23cbed3e-7145-4a0c-8bc3-df8e0669ca0d",
   "metadata": {},
   "outputs": [],
   "source": [
    "import glob\n",
    "from bs4 import BeautifulSoup\n",
    "import requests\n",
    "from selenium import webdriver\n",
    "import time\n",
    "import pickle\n",
    "import numpy as np\n",
    "import collections\n",
    "import random\n",
    "import sys\n",
    "from tqdm.notebook import tqdm as tqdm_notebook\n",
    "sys.path.insert(0, '../src/models/')\n",
    "sys.path.insert(0, '../src/features/')\n",
    "from build_features import text_cleaner, DuckDuckGo_Java, Bing_HTML"
   ]
  },
  {
   "cell_type": "code",
   "execution_count": 2,
   "id": "16324ac1-923e-4b04-a410-39f6ccd6b39d",
   "metadata": {},
   "outputs": [],
   "source": [
    "# Species\n",
    "PlantNET_species = pickle.load(open('../data/PlantNet/species.pkl', 'rb'))"
   ]
  },
  {
   "cell_type": "code",
   "execution_count": 5,
   "id": "33e230db-0756-47e7-bf90-12b39b575f2a",
   "metadata": {},
   "outputs": [
    {
     "data": {
      "text/plain": [
       "229"
      ]
     },
     "execution_count": 5,
     "metadata": {},
     "output_type": "execute_result"
    }
   ],
   "source": [
    "len(PlantNET_species)"
   ]
  },
  {
   "cell_type": "code",
   "execution_count": 7,
   "id": "b71e1902-8b1a-4deb-8cd5-b12db2170116",
   "metadata": {},
   "outputs": [
    {
     "data": {
      "application/vnd.jupyter.widget-view+json": {
       "model_id": "d6d320bf296544b496bc417aa030e93e",
       "version_major": 2,
       "version_minor": 0
      },
      "text/plain": [
       "  0%|          | 0/229 [00:00<?, ?it/s]"
      ]
     },
     "metadata": {},
     "output_type": "display_data"
    }
   ],
   "source": [
    "# SPecies already done\n",
    "species_urls = glob.glob('../data/PlantNet/duck_results/*')\n",
    "species_done = [species[30:-4].replace('_', ' ') for species in species_urls]\n",
    "\n",
    "\n",
    "# Init driver\n",
    "driver = webdriver.Safari()\n",
    "queries = ['description', 'diagnosis', '', 'attributes']\n",
    "time.sleep(2)\n",
    "\n",
    "for species in tqdm_notebook(PlantNET_species[0:]):\n",
    "    \n",
    "    if species in species_done:\n",
    "        #print('check', species)\n",
    "        continue\n",
    "    # Empty list\n",
    "    results = []\n",
    "    for query in queries:\n",
    "        time.sleep(random.uniform(2, 6))\n",
    "        species_q = species.replace(' ', '+')\n",
    "        species_q = f'\"{species_q}\"+{query}'\n",
    "        try:\n",
    "            results += DuckDuckGo_Java(species_q,  driver=driver)\n",
    "            results += Bing_HTML(species_q)\n",
    "         # Skip connection timeout\n",
    "        except:\n",
    "            continue\n",
    "    # Drop duplicates\n",
    "    results = list(set(results))\n",
    "    species = species.replace(' ', '_')\n",
    "    with open(f'../data/PlantNet/duck_results/{species}.pkl', 'wb') as f:\n",
    "        pickle.dump(results, f)  \n",
    "    time.sleep(random.randint(2, 4))\n",
    "    \n",
    "driver.close()"
   ]
  },
  {
   "cell_type": "code",
   "execution_count": null,
   "id": "05937a42-f6df-4b4f-9989-ad57ed116c5e",
   "metadata": {},
   "outputs": [],
   "source": []
  }
 ],
 "metadata": {
  "kernelspec": {
   "display_name": "Python [conda env:DL]",
   "language": "python",
   "name": "conda-env-DL-py"
  },
  "language_info": {
   "codemirror_mode": {
    "name": "ipython",
    "version": 3
   },
   "file_extension": ".py",
   "mimetype": "text/x-python",
   "name": "python",
   "nbconvert_exporter": "python",
   "pygments_lexer": "ipython3",
   "version": "3.8.10"
  }
 },
 "nbformat": 4,
 "nbformat_minor": 5
}
