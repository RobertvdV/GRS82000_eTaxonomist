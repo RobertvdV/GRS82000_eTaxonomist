{
 "cells": [
  {
   "cell_type": "code",
   "execution_count": 1,
   "id": "d442f103-8bfc-4b87-9459-2293e08b9cb1",
   "metadata": {},
   "outputs": [],
   "source": [
    "import glob\n",
    "import pandas as pd\n",
    "import numpy as np\n",
    "import pickle\n",
    "import re\n",
    "from bs4 import BeautifulSoup\n",
    "import collections\n",
    "import requests\n",
    "from itertools import chain\n",
    "from tqdm import tqdm\n",
    "import string"
   ]
  },
  {
   "cell_type": "code",
   "execution_count": 2,
   "id": "27f1aa3c-0cb2-40aa-b83b-02518c3c311a",
   "metadata": {},
   "outputs": [
    {
     "name": "stderr",
     "output_type": "stream",
     "text": [
      "100%|███████████████████████████████████████████| 26/26 [00:09<00:00,  2.78it/s]\n"
     ]
    }
   ],
   "source": [
    "# Init\n",
    "agro_list = []\n",
    "\n",
    "for letter in tqdm(list(string.ascii_uppercase)):\n",
    "    # Get URL\n",
    "    URL = 'http://apps.worldagroforestry.org/treedb2/index.php?letter={0}'.format(letter)\n",
    "    page = requests.get(URL, timeout=5)\n",
    "    soup = BeautifulSoup(page.content, 'html.parser')\n",
    "    \n",
    "    # Extract search table\n",
    "    for tree in soup.find_all('table')[2].find_all('a'):\n",
    "        agro_list.append(tree.text)"
   ]
  },
  {
   "cell_type": "code",
   "execution_count": 3,
   "id": "976d8232-3ff3-471a-b2cd-b587dfb0c9c1",
   "metadata": {},
   "outputs": [
    {
     "name": "stderr",
     "output_type": "stream",
     "text": [
      "100%|█████████████████████████████████████████| 617/617 [05:44<00:00,  1.79it/s]\n"
     ]
    }
   ],
   "source": [
    "agro_urls = ['http://db.worldagroforestry.org//species/properties/' + '_'.join(tree.split(' ')) for tree in agro_list]\n",
    "\n",
    "agro_data = collections.defaultdict(list)\n",
    "\n",
    "# Loop over URL\n",
    "for URL, name in zip(tqdm(agro_urls), agro_list):\n",
    "    page = requests.get(URL, timeout=5)\n",
    "    soup = BeautifulSoup(page.content, 'html.parser')\n",
    "    for text in soup.find_all('div'):\n",
    "        try:\n",
    "            if text.find_previous_sibling().text.strip() == 'Botanic':\n",
    "                agro_data[name].append(tuple([1, text.text.strip()]))\n",
    "            else:\n",
    "                agro_data[name].append(tuple([0, text.text.strip()]))\n",
    "        except:\n",
    "            continue"
   ]
  },
  {
   "cell_type": "code",
   "execution_count": 4,
   "id": "f39da68c-9740-479d-ad7c-cd5f62a66247",
   "metadata": {},
   "outputs": [],
   "source": [
    "with open('../../data/processed/descriptions_web_agroforestry.pkl', 'wb') as f:\n",
    "    pickle.dump(agro_data, f)    "
   ]
  },
  {
   "cell_type": "code",
   "execution_count": null,
   "id": "647f1260-8ebb-4300-b8a5-14c90102922a",
   "metadata": {},
   "outputs": [],
   "source": []
  }
 ],
 "metadata": {
  "kernelspec": {
   "display_name": "Python [conda env:DL]",
   "language": "python",
   "name": "conda-env-DL-py"
  },
  "language_info": {
   "codemirror_mode": {
    "name": "ipython",
    "version": 3
   },
   "file_extension": ".py",
   "mimetype": "text/x-python",
   "name": "python",
   "nbconvert_exporter": "python",
   "pygments_lexer": "ipython3",
   "version": "3.8.10"
  }
 },
 "nbformat": 4,
 "nbformat_minor": 5
}
