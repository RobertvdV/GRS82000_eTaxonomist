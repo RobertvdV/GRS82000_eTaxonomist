{
 "cells": [
  {
   "cell_type": "code",
   "execution_count": 1,
   "id": "5d364341-b3ec-41c7-84a1-5c696fde676e",
   "metadata": {},
   "outputs": [],
   "source": [
    "import glob\n",
    "import pandas as pd\n",
    "import numpy as np\n",
    "import pickle\n",
    "import re\n",
    "from bs4 import BeautifulSoup\n",
    "import collections\n",
    "import requests\n",
    "from itertools import chain\n",
    "from tqdm import tqdm\n",
    "import string"
   ]
  },
  {
   "cell_type": "code",
   "execution_count": 2,
   "id": "34e04d92-e44e-4630-a9a4-4d6a32d696a4",
   "metadata": {},
   "outputs": [
    {
     "name": "stderr",
     "output_type": "stream",
     "text": [
      "100%|█████████████████████████████████████████████| 7/7 [00:04<00:00,  1.72it/s]\n"
     ]
    }
   ],
   "source": [
    "# init index list\n",
    "tree_links_index = []\n",
    "# Extract index pages\n",
    "for i in range(1, 8):\n",
    "    tree_links_index.append('http://www.llifle.com/Encyclopedia/TREES/Species/all/{0}/100/'.format(i))\n",
    "\n",
    "# Init empty list\n",
    "tree_links = []\n",
    "\n",
    "for index_pages in tqdm(tree_links_index):\n",
    "    # Extract XML\n",
    "    URL = index_pages\n",
    "    page = requests.get(URL)\n",
    "    soup = BeautifulSoup(page.content, 'html.parser')\n",
    "    # Extract links incomplete\n",
    "    tree_links_half = soup.find_all('a')\n",
    "\n",
    "    # Complete the links\n",
    "    tree_links_temp = ['http://www.llifle.com' + pages.get('href') for pages in tree_links_half\n",
    "                           if pages.get('href') != None \n",
    "                           if pages.get('href').startswith('/Encyclopedia/TREES/Family/')]\n",
    "    # Add to all trees\n",
    "    tree_links += tree_links_temp"
   ]
  },
  {
   "cell_type": "code",
   "execution_count": 5,
   "id": "dece7989-3257-4680-a7a0-08055a6136d8",
   "metadata": {},
   "outputs": [],
   "source": [
    "with open('../../data/processed/intermediate_web_llifle_treelist.pkl', 'wb') as f:\n",
    "    pickle.dump(tree_links, f)"
   ]
  },
  {
   "cell_type": "code",
   "execution_count": null,
   "id": "d4a9b88e-cefe-447c-88d6-7ed5e328b38c",
   "metadata": {},
   "outputs": [],
   "source": [
    "# Init empty dict\n",
    "data = collections.defaultdict(list)\n",
    "\n",
    "for URL in tqdm(tree_links):\n",
    "\n",
    "    # Get Page\n",
    "    page = requests.get(URL)\n",
    "    # Structure page\n",
    "    soup = BeautifulSoup(page.content, 'html.parser')\n",
    "    # Name\n",
    "    name = soup.title.text.replace('\\n', '')\n",
    "    # Loop over text\n",
    "    for text in soup.find_all('p'):\n",
    "        try:\n",
    "            if text.find('b').text.strip().startswith('Description'):\n",
    "                data[name].append(tuple([1, text.text]))\n",
    "            else:\n",
    "                data[name].append(tuple([0, text.text]))\n",
    "        except:\n",
    "            continue"
   ]
  },
  {
   "cell_type": "code",
   "execution_count": null,
   "id": "9fc6cd07-5c17-4375-b054-141beb82bef1",
   "metadata": {},
   "outputs": [],
   "source": [
    "with open('../../data/processed/descriptions_web_trees_llifle.pkl', 'wb') as f:\n",
    "    pickle.dump(data, f)"
   ]
  }
 ],
 "metadata": {
  "kernelspec": {
   "display_name": "Python [conda env:DL]",
   "language": "python",
   "name": "conda-env-DL-py"
  },
  "language_info": {
   "codemirror_mode": {
    "name": "ipython",
    "version": 3
   },
   "file_extension": ".py",
   "mimetype": "text/x-python",
   "name": "python",
   "nbconvert_exporter": "python",
   "pygments_lexer": "ipython3",
   "version": "3.8.10"
  }
 },
 "nbformat": 4,
 "nbformat_minor": 5
}
