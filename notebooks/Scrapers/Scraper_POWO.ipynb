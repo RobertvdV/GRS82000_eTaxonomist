{
 "cells": [
  {
   "cell_type": "code",
   "execution_count": 1,
   "id": "fa95c6a2-4bdc-4f0e-8420-b1af47ac6590",
   "metadata": {},
   "outputs": [],
   "source": [
    "import glob\n",
    "import pandas as pd\n",
    "import numpy as np\n",
    "import pickle\n",
    "import re\n",
    "from bs4 import BeautifulSoup\n",
    "import collections\n",
    "import requests\n",
    "from itertools import chain\n",
    "from tqdm import tqdm"
   ]
  },
  {
   "cell_type": "code",
   "execution_count": 3,
   "id": "5146e615-93cc-4370-9dae-4fcc0e7ce13d",
   "metadata": {},
   "outputs": [],
   "source": [
    "# Load POWO\n",
    "powo = pickle.load(open('../data/processed/description_web_powo.pkl', 'rb'))\n",
    "# Load all powo data\n",
    "ipni_data = pd.read_csv('../data/external/ipni.csv', header=None)\n",
    "ipni_data.columns = ['link', 'species', 'subname', \n",
    "                     'x4',    'x5',     'x6',\n",
    "                     'x7',    'x8',     'x9', \n",
    "                     'x10',   'x11',    'x12',]\n",
    "\n",
    "# List species\n",
    "powo_list = list(powo.keys())\n",
    "# Drop species without description\n",
    "inpi_df = ipni_data[ipni_data['species'].isin(powo_list)]"
   ]
  },
  {
   "cell_type": "code",
   "execution_count": 5,
   "id": "aa385e56-1593-446a-a892-6eb191d5a1d8",
   "metadata": {},
   "outputs": [
    {
     "name": "stderr",
     "output_type": "stream",
     "text": [
      "100%|███████████████████████████████████| 41713/41713 [5:00:32<00:00,  2.31it/s]\n"
     ]
    }
   ],
   "source": [
    "#ipni_data = inpi_df.iloc[0:20, :]\n",
    "\n",
    "# loop over URLs\n",
    "for ipni_link, species, subname in zip(tqdm(inpi_df.link), inpi_df.species, inpi_df.subname):\n",
    "    \n",
    "    #print(species)\n",
    "    \n",
    "    URL = 'http://powo.science.kew.org/taxon/' + ipni_link\n",
    "    #print(URL)\n",
    "    \n",
    "    try:\n",
    "        page = requests.get(URL, timeout=5)\n",
    "        soup = BeautifulSoup(page.content, 'html.parser')\n",
    "        # Create folder\n",
    "        # Dump the HTML file\n",
    "        with open('../data/raw/POWO/' + species + ' - ' + subname + '.html', \"w\") as f:\n",
    "              f.write(str(soup))\n",
    "    except:\n",
    "        continue"
   ]
  },
  {
   "cell_type": "code",
   "execution_count": 108,
   "id": "273c34a8-67dd-4ebe-bf8c-3c599917f259",
   "metadata": {
    "tags": []
   },
   "outputs": [
    {
     "name": "stderr",
     "output_type": "stream",
     "text": [
      "100%|█████████████████████████████████████| 40187/40187 [15:10<00:00, 44.15it/s]\n"
     ]
    }
   ],
   "source": [
    "# Read files\n",
    "html_list = glob.glob('../data/raw/POWO/*')\n",
    "# Open dict\n",
    "data_powo = collections.defaultdict(list)\n",
    "\n",
    "for html in tqdm(html_list):\n",
    "    # Open HTML file\n",
    "    with open(html) as f:\n",
    "        soup = BeautifulSoup(f, 'html.parser')\n",
    "\n",
    "        # Extract title\n",
    "        name = html.lstrip('../data/raw/POWO/').split(' - ')[0]\n",
    "        \n",
    "        # Loop over text\n",
    "        for text in soup.find_all('dd'):\n",
    "            try:\n",
    "                if text.find_previous_sibling().span.text == 'Morphology':\n",
    "                    data_powo[name].append(text.text.strip())\n",
    "            except:\n",
    "                continue\n",
    "    \n",
    "with open('../data/processed/train_dataPOWO.pkl', 'wb') as f:\n",
    "    pickle.dump(data_powo, f)    "
   ]
  },
  {
   "cell_type": "code",
   "execution_count": null,
   "id": "9890c531-eb59-4271-8be3-0904d555a2f9",
   "metadata": {},
   "outputs": [],
   "source": []
  }
 ],
 "metadata": {
  "kernelspec": {
   "display_name": "Python [conda env:DL]",
   "language": "python",
   "name": "conda-env-DL-py"
  },
  "language_info": {
   "codemirror_mode": {
    "name": "ipython",
    "version": 3
   },
   "file_extension": ".py",
   "mimetype": "text/x-python",
   "name": "python",
   "nbconvert_exporter": "python",
   "pygments_lexer": "ipython3",
   "version": "3.8.10"
  }
 },
 "nbformat": 4,
 "nbformat_minor": 5
}
