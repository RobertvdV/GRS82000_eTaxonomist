{
 "cells": [
  {
   "cell_type": "code",
   "execution_count": 1,
   "id": "c837feda-533a-4a54-89b8-7ca05809b15d",
   "metadata": {},
   "outputs": [],
   "source": [
    "import pandas as pd\n",
    "import numpy as np\n",
    "import pickle\n",
    "import collections\n",
    "from tqdm.notebook import tqdm as tqdm_notebook\n"
   ]
  },
  {
   "cell_type": "code",
   "execution_count": 6,
   "id": "bc3c5048-f82b-4930-9972-b6e1cb86597b",
   "metadata": {},
   "outputs": [],
   "source": [
    "df_CUB = pickle.load(open('Hackathon/CUB_dataset.pkl', 'rb'))"
   ]
  },
  {
   "cell_type": "code",
   "execution_count": 7,
   "id": "239a30f8-1d8e-4818-b394-4810b8da6776",
   "metadata": {},
   "outputs": [],
   "source": [
    "df = pd.read_csv('bird_traits_1.2.csv')"
   ]
  },
  {
   "cell_type": "code",
   "execution_count": 8,
   "id": "ab4fc3d5-250e-4ad5-8335-0c6172f428e5",
   "metadata": {},
   "outputs": [],
   "source": [
    "birds = list(df_CUB.keys())\n",
    "birds.sort()"
   ]
  },
  {
   "cell_type": "code",
   "execution_count": 9,
   "id": "3f8c2c71-b427-4467-9d22-2f5b5e376fba",
   "metadata": {},
   "outputs": [],
   "source": [
    "CUB_list = []\n",
    "\n",
    "for bird_id, bird in enumerate(birds):\n",
    "    for trait_id, (part, info) in enumerate(df_CUB[bird]):\n",
    "        CUB_list.append((bird_id, bird, trait_id, f'{part.capitalize()} {info}.'))"
   ]
  },
  {
   "cell_type": "code",
   "execution_count": 11,
   "id": "d5ef294a-c63f-44d3-8476-5e7da573bd9e",
   "metadata": {},
   "outputs": [],
   "source": [
    "df_CUB = pd.DataFrame(CUB_list, columns=['bird_id', 'bird', 'trait_id', 'trait'])"
   ]
  },
  {
   "cell_type": "code",
   "execution_count": 15,
   "id": "09861157-95a3-44f9-877a-c622c9a1bf41",
   "metadata": {},
   "outputs": [],
   "source": [
    "df = df.T\n",
    "new_header = df.iloc[0] #grab the first row for the header\n",
    "df = df[1:] #take the data less the header row\n",
    "df.columns = new_header #set the header row as the df header"
   ]
  },
  {
   "cell_type": "code",
   "execution_count": 52,
   "id": "506ed08b-9795-4ff8-ae3e-4d047a060d0c",
   "metadata": {},
   "outputs": [],
   "source": [
    "random_list = []\n",
    "\n",
    "for bird_id, bird in enumerate(birds):\n",
    "    traits  = df[df[bird].notnull()][bird]\n",
    "    for trait_id, trait in enumerate(traits):\n",
    "        random_list.append((bird_id, bird, trait_id, trait))"
   ]
  },
  {
   "cell_type": "code",
   "execution_count": 56,
   "id": "d40db49b-4c4f-48c9-a32d-0975582d36d5",
   "metadata": {},
   "outputs": [],
   "source": [
    "df_random = pd.DataFrame(random_list, columns=['bird_id', 'bird', 'trait_id', 'trait'])"
   ]
  },
  {
   "cell_type": "code",
   "execution_count": 59,
   "id": "d82e7d2e-a014-449f-801b-6f5eede395f5",
   "metadata": {},
   "outputs": [],
   "source": [
    "df_CUB.to_csv('CUB200_dataset_1.1.csv')\n",
    "df_random.to_csv('bird_traits_1.4.csv')"
   ]
  },
  {
   "cell_type": "markdown",
   "id": "84b9163b-0056-47b6-a837-cecb3081892a",
   "metadata": {},
   "source": [
    "# OLD"
   ]
  },
  {
   "cell_type": "code",
   "execution_count": null,
   "id": "72f1bb51-de50-45f8-a517-6439d3fd3de9",
   "metadata": {},
   "outputs": [],
   "source": [
    "df_CUB = pickle.load(open('Hackathon/CUB_dataset.pkl', 'rb'))"
   ]
  },
  {
   "cell_type": "code",
   "execution_count": null,
   "id": "84f9801b-51c5-4606-a767-5c0495a04d6c",
   "metadata": {},
   "outputs": [],
   "source": [
    "df = pd.read_csv('bird_traits_1.2.csv')"
   ]
  },
  {
   "cell_type": "code",
   "execution_count": null,
   "id": "fac9e1e4-7ed4-4908-ae55-393ca371630e",
   "metadata": {},
   "outputs": [],
   "source": [
    "%%capture\n",
    "\n",
    "df.rename(columns={df.columns[0]: \"Bird\" }, inplace=True)\n",
    "df = df.sort_values(by=['Bird'], ascending=True)\n",
    "df['ID'] = np.arange(len(df))\n",
    "\n",
    "col = df.pop(\"ID\")\n",
    "df.insert(0, col.name, col)\n",
    "df.drop(df.columns[2], axis=1, inplace=True)\n",
    "#df.set_index('Bird', inplace=True)\n",
    "#df.sort_index(inplace=True)\n",
    "df.reset_index(inplace=True)\n",
    "df.pop('index')\n",
    "df.pop('ID')"
   ]
  },
  {
   "cell_type": "code",
   "execution_count": null,
   "id": "1e228adf-60d4-415c-b61c-4d858c3c3364",
   "metadata": {},
   "outputs": [],
   "source": [
    "#df"
   ]
  },
  {
   "cell_type": "code",
   "execution_count": null,
   "id": "f3c21816-8cb3-4b0f-ae24-02a780c5c470",
   "metadata": {},
   "outputs": [],
   "source": [
    "CUB_list = []\n",
    "\n",
    "for bird in df_CUB.keys():\n",
    "    temp = []\n",
    "    temp.append(bird)\n",
    "    for (part, info) in df_CUB[bird]:\n",
    "        temp.append(f'{part.capitalize()} {info}.')\n",
    "    CUB_list.append(temp)"
   ]
  },
  {
   "cell_type": "code",
   "execution_count": null,
   "id": "1f927c61-3777-4dc2-97e9-b07266146e28",
   "metadata": {},
   "outputs": [],
   "source": [
    "df_CUB = pd.DataFrame(CUB_list)"
   ]
  },
  {
   "cell_type": "code",
   "execution_count": null,
   "id": "00f14df7-2497-4a4f-9ac7-8c5314e6a37f",
   "metadata": {},
   "outputs": [],
   "source": [
    "%%capture\n",
    "\n",
    "df_CUB.rename(columns={df_CUB.columns[0]: \"Bird\" }, inplace=True)\n",
    "df_CUB = df_CUB.sort_values(by=['Bird'], ascending=True)\n",
    "df_CUB['ID'] = np.arange(len(df_CUB))\n",
    "\n",
    "col = df_CUB.pop(\"ID\")\n",
    "df_CUB.insert(0, col.name, col)\n",
    "\n",
    "df_CUB.reset_index(inplace=True)\n",
    "df_CUB.pop('index')\n",
    "df_CUB.pop('ID')"
   ]
  },
  {
   "cell_type": "code",
   "execution_count": null,
   "id": "5b1dfb32-29ef-402b-9aa4-b9c4451b86e6",
   "metadata": {},
   "outputs": [],
   "source": [
    "df_CUB.to_csv('CUB200_dataset.csv')\n",
    "df_CUB.to_csv('bird_traits_1.3.csv')"
   ]
  },
  {
   "cell_type": "code",
   "execution_count": null,
   "id": "0e57e245-1741-49d8-b3c7-e7d58285a27b",
   "metadata": {},
   "outputs": [],
   "source": []
  },
  {
   "cell_type": "code",
   "execution_count": null,
   "id": "188375d2-728f-481d-a836-93913fb29b78",
   "metadata": {},
   "outputs": [],
   "source": [
    "df_CUB"
   ]
  },
  {
   "cell_type": "code",
   "execution_count": null,
   "id": "a48eeaed-4840-4095-93a0-8997dd08459d",
   "metadata": {},
   "outputs": [],
   "source": []
  }
 ],
 "metadata": {
  "kernelspec": {
   "display_name": "Python [conda env:DL]",
   "language": "python",
   "name": "conda-env-DL-py"
  },
  "language_info": {
   "codemirror_mode": {
    "name": "ipython",
    "version": 3
   },
   "file_extension": ".py",
   "mimetype": "text/x-python",
   "name": "python",
   "nbconvert_exporter": "python",
   "pygments_lexer": "ipython3",
   "version": "3.8.10"
  }
 },
 "nbformat": 4,
 "nbformat_minor": 5
}
