{
 "cells": [
  {
   "cell_type": "code",
   "execution_count": 1,
   "id": "7b3dacfc-39c4-4772-ae74-9a03f1a7d3ca",
   "metadata": {},
   "outputs": [
    {
     "name": "stderr",
     "output_type": "stream",
     "text": [
      "Some weights of the model checkpoint at distilbert-base-uncased were not used when initializing DistilBertModel: ['vocab_projector.bias', 'vocab_layer_norm.weight', 'vocab_transform.bias', 'vocab_layer_norm.bias', 'vocab_transform.weight', 'vocab_projector.weight']\n",
      "- This IS expected if you are initializing DistilBertModel from the checkpoint of a model trained on another task or with another architecture (e.g. initializing a BertForSequenceClassification model from a BertForPreTraining model).\n",
      "- This IS NOT expected if you are initializing DistilBertModel from the checkpoint of a model that you expect to be exactly identical (initializing a BertForSequenceClassification model from a BertForSequenceClassification model).\n",
      "Some weights of the model checkpoint at distilbert-base-uncased were not used when initializing DistilBertModel: ['vocab_projector.bias', 'vocab_layer_norm.weight', 'vocab_transform.bias', 'vocab_layer_norm.bias', 'vocab_transform.weight', 'vocab_projector.weight']\n",
      "- This IS expected if you are initializing DistilBertModel from the checkpoint of a model trained on another task or with another architecture (e.g. initializing a BertForSequenceClassification model from a BertForPreTraining model).\n",
      "- This IS NOT expected if you are initializing DistilBertModel from the checkpoint of a model that you expect to be exactly identical (initializing a BertForSequenceClassification model from a BertForSequenceClassification model).\n"
     ]
    }
   ],
   "source": [
    "import numpy as np\n",
    "import pandas as pd\n",
    "import torch\n",
    "import pickle\n",
    "import re\n",
    "from itertools import chain\n",
    "from collections import Counter\n",
    "import collections\n",
    "import torch.nn as nn\n",
    "from bs4 import BeautifulSoup\n",
    "import requests\n",
    "from bs4.element import Comment\n",
    "import glob\n",
    "import random\n",
    "import matplotlib.pyplot as plt\n",
    "import seaborn as sns\n",
    "from transformers import DistilBertTokenizer, DistilBertModel, logging\n",
    "from torch.utils.data import TensorDataset, DataLoader, RandomSampler, SequentialSampler, Dataset, random_split\n",
    "from tqdm import tqdm\n",
    "import time\n",
    "import sys\n",
    "import spacy\n",
    "from selenium import webdriver\n",
    "\n",
    "#nlp = spacy.load(\"en_core_web_trf\") # does not work with .oov_\n",
    "nlp = spacy.load(\"en_core_web_lg\")\n",
    "\n",
    "sys.path.insert(0, '../src/models/')\n",
    "sys.path.insert(0, '../src/features/')\n",
    "\n",
    "from predict_model import loadBERT\n",
    "from predict_model import SpanPredictor as classify\n",
    "from build_features import text_cleaner, DuckDuckGo_Java, Bing_HTML, colorize_prediction\n",
    "\n",
    "\n",
    "logging.set_verbosity_warning()\n",
    "\n",
    "%matplotlib inline"
   ]
  },
  {
   "cell_type": "code",
   "execution_count": 2,
   "id": "cd85b951-68b9-4c9a-8a72-563908f9519c",
   "metadata": {},
   "outputs": [
    {
     "name": "stdout",
     "output_type": "stream",
     "text": [
      "CPU Success\n"
     ]
    },
    {
     "name": "stderr",
     "output_type": "stream",
     "text": [
      "Some weights of the model checkpoint at distilbert-base-uncased were not used when initializing DistilBertModel: ['vocab_projector.bias', 'vocab_layer_norm.weight', 'vocab_transform.bias', 'vocab_layer_norm.bias', 'vocab_transform.weight', 'vocab_projector.weight']\n",
      "- This IS expected if you are initializing DistilBertModel from the checkpoint of a model trained on another task or with another architecture (e.g. initializing a BertForSequenceClassification model from a BertForPreTraining model).\n",
      "- This IS NOT expected if you are initializing DistilBertModel from the checkpoint of a model that you expect to be exactly identical (initializing a BertForSequenceClassification model from a BertForSequenceClassification model).\n"
     ]
    }
   ],
   "source": [
    "model = loadBERT(\"../models/\", 'saved_weights_inf_FIXED_boot_beta80.pt')\n",
    "tokenizer = DistilBertTokenizer.from_pretrained('distilbert-base-uncased')\n",
    "bert = DistilBertModel.from_pretrained('distilbert-base-uncased')"
   ]
  },
  {
   "cell_type": "code",
   "execution_count": 3,
   "id": "5aa9f7fd-4314-4e40-b7d9-5ccb739e1baf",
   "metadata": {},
   "outputs": [],
   "source": [
    "from torch import cuda\n",
    "device = 'cuda' if cuda.is_available() else 'cpu'"
   ]
  },
  {
   "cell_type": "markdown",
   "id": "05a969d0-bf3f-4695-b1b0-7cd0f82699f1",
   "metadata": {},
   "source": [
    "# Preprocessing"
   ]
  },
  {
   "cell_type": "markdown",
   "id": "929b4df4-31ab-41d2-9286-69ef2b2c26b5",
   "metadata": {},
   "source": [
    "### Birds used in the CUB dataset"
   ]
  },
  {
   "cell_type": "code",
   "execution_count": 4,
   "id": "c7f811a9-70f9-43d4-bcc9-9faa62890748",
   "metadata": {},
   "outputs": [],
   "source": [
    "# Open the text file\n",
    "location = \"../data/external/CUB_200_2011/CUB_200_2011/classes.txt\"\n",
    "with open(location) as f:\n",
    "    lines = f.readlines()"
   ]
  },
  {
   "cell_type": "code",
   "execution_count": 5,
   "id": "60b54b5a-a45f-4299-b566-dd99959567e4",
   "metadata": {},
   "outputs": [],
   "source": [
    "# Init regex\n",
    "regex = r'\\d+\\s\\d+\\.'\n",
    "# Clean the list\n",
    "CUB = [re.sub(regex, '', line).rstrip().replace('_', ' ') for line in lines]"
   ]
  },
  {
   "cell_type": "code",
   "execution_count": 6,
   "id": "54969c93-65f1-414b-9ce5-173ab2c49248",
   "metadata": {},
   "outputs": [],
   "source": [
    "# Read the BOWO list to compare names\n",
    "# Read all html locations\n",
    "BOWO_folder_list = glob.glob('../data/raw/BOW/*')\n",
    "# Create BOW list with large descriptions\n",
    "BOWO_folder_list_large = [birds for birds in BOWO_folder_list if len(glob.glob(birds + '/*')) > 1]\n",
    "# Clean the lists\n",
    "BOW_all = [bird[16:] for bird in BOWO_folder_list]\n",
    "BOW_large = [bird[16:] for bird in BOWO_folder_list_large]"
   ]
  },
  {
   "cell_type": "code",
   "execution_count": 7,
   "id": "681c5860-0b0d-43cd-ab33-c3760ee192d3",
   "metadata": {},
   "outputs": [],
   "source": [
    "# Intersect common names\n",
    "common_birds = list(set(CUB) & set(BOW_all))\n",
    "# Random sample so the CUB is about 5%\n",
    "birds_list = list(set(BOW_large + common_birds))"
   ]
  },
  {
   "cell_type": "markdown",
   "id": "c04743be-1f37-4d26-857d-69452d8336f0",
   "metadata": {},
   "source": [
    "### Birds Glossary"
   ]
  },
  {
   "cell_type": "code",
   "execution_count": 8,
   "id": "2ae90ee0-83cb-44fe-85f9-0c169e4feecc",
   "metadata": {},
   "outputs": [],
   "source": [
    "# URL\n",
    "URL = 'https://en.wikipedia.org/wiki/Glossary_of_bird_terms'\n",
    "# Get the page\n",
    "page = requests.get(URL, timeout=5)\n",
    "soup = BeautifulSoup(page.content, \"lxml\", from_encoding=\"iso-8859-1\")   \n",
    "# Find embedded glossary\n",
    "glossaries = soup.find_all('dt', {'class': 'glossary'})\n",
    "parts = [part.text.lower().strip() for part in glossaries]\n",
    "# Get additional anchors (\"also know as...\")\n",
    "glossaries_other = soup.find_all('span', {'class': 'anchor'})\n",
    "parts_other = [part['id'].lower().strip() for part in glossaries_other]\n",
    "# Append and drop duplicates\n",
    "parts = list(set((parts + parts_other)))\n",
    "# Replace underscore with space\n",
    "parts = [part.replace('_', ' ') for part in parts]"
   ]
  },
  {
   "cell_type": "code",
   "execution_count": 9,
   "id": "c9069361-a8fe-4737-85e4-d8f376511784",
   "metadata": {},
   "outputs": [
    {
     "data": {
      "text/plain": [
       "768"
      ]
     },
     "execution_count": 9,
     "metadata": {},
     "output_type": "execute_result"
    }
   ],
   "source": [
    "parts.index('wind eggs')"
   ]
  },
  {
   "cell_type": "markdown",
   "id": "598b23e9-c53c-448f-9846-1c4dfc855fdd",
   "metadata": {},
   "source": [
    "### BOW HTMLS\n",
    "Open the Birds of the Worlds HTMLS that correspond to the UCB dataset and get the descriptions out using the trained classifier."
   ]
  },
  {
   "cell_type": "code",
   "execution_count": null,
   "id": "d17a7329-e7ae-4788-8597-3e8838e18ca0",
   "metadata": {},
   "outputs": [],
   "source": [
    "# Rejoin the location\n",
    "birds_location = ['../data/raw/BOW/' + bird for bird in birds_list]"
   ]
  },
  {
   "cell_type": "code",
   "execution_count": null,
   "id": "e97c5133-1f34-4345-afd6-63c87ca560c0",
   "metadata": {},
   "outputs": [],
   "source": [
    "# Init dict for storage\n",
    "birds_dict = collections.defaultdict(list)\n",
    "\n",
    "for bird_loc in tqdm(birds_location[0:]):\n",
    "    # Get the name\n",
    "    BIRD = bird_loc[16:]\n",
    "    # Check the amount of account\n",
    "    if len(glob.glob(bird_loc + '/*')) > 1:\n",
    "        # Construct the HTML\n",
    "        HTML = bird_loc + '/Appearance.html'\n",
    "    else:\n",
    "        HTML = bird_loc + '/Introduction.html'\n",
    "    # Open the HTML\n",
    "    with open(HTML) as f:\n",
    "        # Structure it\n",
    "        soup = BeautifulSoup(f, 'html.parser')\n",
    "        # Get all spans\n",
    "        spans = [span for span in soup.find_all('p') \n",
    "                 if not 'fig' in span.text]\n",
    "        for span in spans:\n",
    "            # Remove double whitespace\n",
    "            # Clean citations with a nested expression\n",
    "            text = re.sub(r\"\\s+\", \" \", span.text)\n",
    "            text = re.sub(r'\\(\\d+?\\w\\)', '###', text)\n",
    "            text = re.sub(r'\\([^)]*\\)', '', text)\n",
    "            # Replace ; with . to help the sentecizer\n",
    "            text = text.replace(';', '.')\n",
    "            # NLP\n",
    "            doc = nlp(text)\n",
    "            for sent in doc.sents:    \n",
    "                # Skip short sents\n",
    "                if len(sent) <= 4:\n",
    "                    continue\n",
    "                # Check amount of non-english\n",
    "                non_eng = [token.is_oov for token in sent].count(True)\n",
    "                # Skip if the ratio is above .2\n",
    "                if non_eng > 0 and non_eng / len(sent) > .2:\n",
    "                    continue\n",
    "                # Also skip if the non-eng is large\n",
    "                if non_eng > 8:\n",
    "                    continue\n",
    "                # Check classification\n",
    "                if classify(sent.text, model=model):\n",
    "                    birds_dict[BIRD].append(sent.text)"
   ]
  },
  {
   "cell_type": "code",
   "execution_count": null,
   "id": "f2b87fc3-35ad-470e-b334-8143f5cff23b",
   "metadata": {},
   "outputs": [],
   "source": [
    "print(len(birds_dict.values()))"
   ]
  },
  {
   "cell_type": "code",
   "execution_count": null,
   "id": "ed2c79dc-e454-47fb-8c84-148d22859d3a",
   "metadata": {},
   "outputs": [],
   "source": [
    "# Dump the file into a pickle\n",
    "with open('../data/description/04_TRAIN_0-1881_BIRDS.pkl', 'wb') as f:\n",
    "    pickle.dump(birds_dict, f)"
   ]
  },
  {
   "cell_type": "markdown",
   "id": "17580032-30fa-4c74-9d8b-26853bddac0d",
   "metadata": {},
   "source": [
    "## Select Trait sentences\n",
    "Split the sentence on the comma to create cleaner chunk for comparison"
   ]
  },
  {
   "cell_type": "code",
   "execution_count": 10,
   "id": "5529d4f1-1365-4aa4-a347-8b1ce2680d68",
   "metadata": {},
   "outputs": [],
   "source": [
    "bird_descriptions_random_dict = pickle.load(open('../data/description/03_DESC_0000000-0001881_BIRDS.pkl', 'rb'))\n",
    "bird_descriptions_BOW_dict = pickle.load(open('../data/description/03_BOW_0000000-0001881_BIRDS.pkl', 'rb'))"
   ]
  },
  {
   "cell_type": "code",
   "execution_count": 11,
   "id": "a180e1e8-c53b-443f-8274-8665b4630598",
   "metadata": {},
   "outputs": [
    {
     "name": "stderr",
     "output_type": "stream",
     "text": [
      "100%|████████████████████████████████████| 1881/1881 [00:00<00:00, 67178.86it/s]\n",
      "100%|███████████████████████████████████| 1674/1674 [00:00<00:00, 125693.97it/s]\n"
     ]
    }
   ],
   "source": [
    "# Init dict for storage\n",
    "bird_dict = collections.defaultdict(list)\n",
    "for bird in tqdm(bird_descriptions_BOW_dict.keys()):\n",
    "    for sentence in bird_descriptions_BOW_dict[bird]:\n",
    "        bird_dict[bird].append(sentence)\n",
    "for bird in tqdm(bird_descriptions_random_dict.keys()):\n",
    "    for sentence in bird_descriptions_random_dict[bird]:\n",
    "        bird_dict[bird].append(sentence)    "
   ]
  },
  {
   "cell_type": "code",
   "execution_count": null,
   "id": "22dad9fa-23cd-470c-8327-43ddcaa37a24",
   "metadata": {},
   "outputs": [],
   "source": [
    "# Dump the file into a pickle\n",
    "with open('../data/description/04_TRAIN_0000000-0001881_BIRDS.pkl', 'wb') as f:\n",
    "    pickle.dump(bird_dict, f)"
   ]
  },
  {
   "cell_type": "code",
   "execution_count": null,
   "id": "767e5ffb-cb18-4748-b1b8-e32242007f4d",
   "metadata": {},
   "outputs": [],
   "source": [
    "# Init dict for storage\n",
    "bird_traits_dict = collections.defaultdict(list)\n",
    "bird_traits_chunk_dict = collections.defaultdict(list)\n",
    "\n",
    "\n",
    "for bird in tqdm(bird_dict.keys()):\n",
    "    for sentence in bird_dict[bird]:\n",
    "        doc = nlp(sentence)\n",
    "        # Check single\n",
    "        words = [chunk.root.lemma_.lower() for chunk in doc.noun_chunks] \n",
    "        # Check multiple\n",
    "        words += [chunk.root.text.lower() for chunk in doc.noun_chunks]\n",
    "        # Drop duplicate\n",
    "        words = list(set(words))\n",
    "        # Intersect\n",
    "        traits =  set(words) & set(parts)\n",
    "        if traits:\n",
    "            bird_traits_dict[bird].append(sentence)\n",
    "            \n",
    "        # Also create chunks to see if this works better\n",
    "        for part in sentence.split(','):\n",
    "            # Clean\n",
    "            part = part.strip()\n",
    "            # Skip single words\n",
    "            if len(part.split()) <= 2:\n",
    "                continue\n",
    "            doc = nlp(part)\n",
    "            # Check single\n",
    "            words = [chunk.root.lemma_.lower() for chunk in doc.noun_chunks] \n",
    "            # Check multiple\n",
    "            words += [chunk.root.text.lower() for chunk in doc.noun_chunks]\n",
    "            # Drop duplicate\n",
    "            words = list(set(words))\n",
    "            # Intersect\n",
    "            traits =  set(words) & set(parts)\n",
    "            if traits:\n",
    "                bird_traits_chunk_dict[bird].append(part)            "
   ]
  },
  {
   "cell_type": "code",
   "execution_count": null,
   "id": "30437fc8-6bb8-41ae-8cc0-e124f6f48328",
   "metadata": {},
   "outputs": [],
   "source": [
    "# Dump the file into a pickle\n",
    "with open('../data/description/04_TRAIN_0000000-0001881_TRAITS_BIRDS.pkl', 'wb') as f:\n",
    "    pickle.dump(bird_traits_dict, f)\n",
    "# Dump the file into a pickle\n",
    "with open('../data/description/04_TRAIN_0000000-0001881_TRAITS_CHUNK_BIRDS.pkl', 'wb') as f:\n",
    "    pickle.dump(bird_traits_chunk_dict, f)"
   ]
  },
  {
   "cell_type": "markdown",
   "id": "eab03018-8fcf-4415-845c-8c814e938377",
   "metadata": {},
   "source": [
    "Plot some additional statistics: comparison between all description data and data in the glossary"
   ]
  },
  {
   "cell_type": "code",
   "execution_count": 12,
   "id": "7d1939c8-3cc4-41d4-bff9-4c4dde427b46",
   "metadata": {},
   "outputs": [],
   "source": [
    "bird_descriptions_dict = pickle.load(open('../data/description/04_TRAIN_0000000-0001881_BIRDS.pkl', 'rb'))\n",
    "bird_traits_dict = pickle.load(open('../data/description/04_TRAIN_0000000-0001881_TRAITS_BIRDS.pkl', 'rb'))\n",
    "bird_traits_chunk_dict = pickle.load(open('../data/description/04_TRAIN_0000000-0001881_TRAITS_CHUNK_BIRDS.pkl', 'rb'))"
   ]
  },
  {
   "cell_type": "code",
   "execution_count": 13,
   "id": "9605018c-b3c2-4096-9811-f059e2003d51",
   "metadata": {},
   "outputs": [],
   "source": [
    "# Count\n",
    "description_count = [len(values) for values in bird_dict.values()]\n",
    "trait_count = [len(values) for values in bird_traits_dict.values()]\n",
    "trait_chunk_count = [len(values) for values in bird_traits_chunk_dict.values()]\n",
    "\n",
    "\n",
    "# Zip the lists\n",
    "data_tuples = list(zip(description_count, trait_count, trait_chunk_count))\n",
    "# And put in a df\n",
    "df = pd.DataFrame(data_tuples, columns=['Description','Trait', 'Trait_chunk'])\n",
    "# Melt the df\n",
    "df_melt = df.melt(value_vars=['Description', 'Trait', 'Trait_chunk'])"
   ]
  },
  {
   "cell_type": "code",
   "execution_count": 15,
   "id": "ee5aef5c-7853-44e3-bb99-87e5488bb5fa",
   "metadata": {},
   "outputs": [
    {
     "data": {
      "text/plain": [
       "<AxesSubplot:ylabel='Frequency'>"
      ]
     },
     "execution_count": 15,
     "metadata": {},
     "output_type": "execute_result"
    },
    {
     "data": {
      "image/png": "[encoded data removed]",
      "text/plain": [
       "<Figure size 432x288 with 1 Axes>"
      ]
     },
     "metadata": {
      "needs_background": "light"
     },
     "output_type": "display_data"
    }
   ],
   "source": [
    "df.plot.hist(bins=50, alpha=0.5,)"
   ]
  },
  {
   "cell_type": "markdown",
   "id": "c7ec0396-d4e0-4bf2-a323-8f908dc9aa48",
   "metadata": {},
   "source": [
    "# Train a Model"
   ]
  },
  {
   "cell_type": "code",
   "execution_count": null,
   "id": "7a47d8b6-72f4-4a42-b860-28b9c57a69b9",
   "metadata": {},
   "outputs": [],
   "source": [
    "#data = pickle.load(open('../data/description/04_TRAIN_0000000-0001881_TRAITS_BIRDS.pkl', 'rb'))"
   ]
  },
  {
   "cell_type": "code",
   "execution_count": 16,
   "id": "4217a965-090d-4e6f-9bf6-a50ce7737fa8",
   "metadata": {},
   "outputs": [],
   "source": [
    "# Define the model\n",
    "class BERT(nn.Module):\n",
    "    def __init__(self, bert):\n",
    "        super(BERT, self).__init__()\n",
    "\n",
    "        # Distil Bert model\n",
    "        self.bert = bert\n",
    "        ## Additional layers\n",
    "        # Dropout layer\n",
    "        self.dropout = nn.Dropout(0.1)\n",
    "        # Relu \n",
    "        self.relu =  nn.ReLU()\n",
    "        # Linear I \n",
    "        self.fc1 = nn.Linear(768, 512)\n",
    "        # Linear II (Out)\n",
    "        self.fc2 = nn.Linear(512, 1881) # Some species where lost\n",
    "        # Softmax\n",
    "        self.softmax = nn.LogSoftmax(dim=1)\n",
    "\n",
    "\n",
    "    # Forward pass\n",
    "    def forward(self, **kwargs):\n",
    "        # Pass data trough bert and extract \n",
    "        cls_hs = self.bert(**kwargs)\n",
    "        # Extract hidden state\n",
    "        hidden_state = cls_hs.last_hidden_state\n",
    "        # Only first is needed for classification\n",
    "        pooler = hidden_state[:, 0]\n",
    "        # Dense layer 1        \n",
    "        x = self.fc1(pooler)\n",
    "        # ReLU activation\n",
    "        x = self.relu(x)\n",
    "        # Drop out\n",
    "        x = self.dropout(x)\n",
    "        # Dense layer 2\n",
    "        x = self.fc2(x)\n",
    "        # Activation\n",
    "        x = self.softmax(x)\n",
    "\n",
    "        return x"
   ]
  },
  {
   "cell_type": "code",
   "execution_count": 17,
   "id": "5bc4dbbc-6486-478d-9506-0bddd4390f4b",
   "metadata": {},
   "outputs": [
    {
     "name": "stdout",
     "output_type": "stream",
     "text": [
      "Local Success\n"
     ]
    }
   ],
   "source": [
    "# Load the entire model\n",
    "model = BERT(bert)\n",
    "\n",
    "# Load pretrained model (colab)\n",
    "try:\n",
    "    try:\n",
    "        #model_save_name = 'saved_weights_CUB.pt'\n",
    "        model_save_name = 'saved_weights_CUB_CHUNKS.pt'\n",
    "        path = F\"/content/gdrive/My Drive/{model_save_name}\"\n",
    "        model.load_state_dict(torch.load(path))\n",
    "        print('Google Success')\n",
    "\n",
    "    except:\n",
    "        #model_save_name = 'saved_weights_CUB.pt'\n",
    "        model_save_name = 'saved_weights_CUB_CHUNKS.pt'\n",
    "        path = \"../models/\" + model_save_name\n",
    "        model.load_state_dict(torch.load(path, map_location=torch.device('cpu')))\n",
    "        print('Local Success')\n",
    "except:\n",
    "    print('No pretrained model found.')\n",
    "\n",
    "# Push the model to GPU (if available)\n",
    "model = model.to(device)\n",
    "model.eval()\n",
    "model.zero_grad()"
   ]
  },
  {
   "cell_type": "markdown",
   "id": "ec9153db-23c8-4d4e-9b09-2f602ef1cfa7",
   "metadata": {},
   "source": [
    "# Interpretability"
   ]
  },
  {
   "cell_type": "code",
   "execution_count": 18,
   "id": "6bd88919-7122-49a4-8d15-77a199f804c4",
   "metadata": {},
   "outputs": [],
   "source": [
    "from IPython.display import display, HTML\n",
    "import matplotlib\n",
    "import matplotlib.pyplot as plt\n",
    "import seaborn as sns\n",
    "from captum.attr import visualization as viz\n",
    "from captum.attr import IntegratedGradients, LayerConductance, LayerIntegratedGradients\n",
    "from captum.attr import configure_interpretable_embedding_layer, remove_interpretable_embedding_layer\n",
    "from captum.attr import Occlusion\n",
    "from spacy import displacy\n",
    "# Load transformer module\n",
    "nlp = spacy.load(\"en_core_web_trf\")"
   ]
  },
  {
   "cell_type": "code",
   "execution_count": 19,
   "id": "6bc123e5-57ac-4821-af5a-11da430e0e86",
   "metadata": {},
   "outputs": [],
   "source": [
    "# Set seeds\n",
    "torch.manual_seed(333)\n",
    "np.random.seed(333)"
   ]
  },
  {
   "cell_type": "markdown",
   "id": "c5d7a65d-0694-411c-819d-2f8b75a53f78",
   "metadata": {},
   "source": [
    "### Functions used for determining interpretability"
   ]
  },
  {
   "cell_type": "code",
   "execution_count": 20,
   "id": "54468130-16aa-42b7-ac0a-0c9feb3ebafc",
   "metadata": {},
   "outputs": [],
   "source": [
    "# Modify the prediction output and define a custom forward\n",
    "def predict(inputs):\n",
    "    return model(input_ids=inputs, attention_mask=attention_mask)[0]\n",
    "\n",
    "def custom_forward(inputs):\n",
    "    preds = predict(inputs)\n",
    "    return torch.exp(preds)\n",
    "\n",
    "# Tokenize functions\n",
    "def construct_input_ref_pair(text, ref_token_id, sep_token_id, cls_token_id):\n",
    "\n",
    "    text_ids = tokenizer.encode(text, add_special_tokens=False)\n",
    "    # construct input token ids\n",
    "    input_ids = [cls_token_id] + text_ids + [sep_token_id]\n",
    "    # construct reference token ids \n",
    "    ref_input_ids = [cls_token_id] + [ref_token_id] * len(text_ids) + [sep_token_id]\n",
    "\n",
    "    return torch.tensor([input_ids], device=device), torch.tensor([ref_input_ids], device=device), len(text_ids)\n",
    "\n",
    "def construct_input_ref_token_type_pair(input_ids, sep_ind=0):\n",
    "    seq_len = input_ids.size(1)\n",
    "    token_type_ids = torch.tensor([[0 if i <= sep_ind else 1 for i in range(seq_len)]], device=device)\n",
    "    ref_token_type_ids = torch.zeros_like(token_type_ids, device=device)# * -1\n",
    "    return token_type_ids, ref_token_type_ids\n",
    "\n",
    "def construct_input_ref_pos_id_pair(input_ids):\n",
    "    seq_length = input_ids.size(1)\n",
    "    position_ids = torch.arange(seq_length, dtype=torch.long, device=device)\n",
    "    # we could potentially also use random permutation with `torch.randperm(seq_length, device=device)`\n",
    "    ref_position_ids = torch.zeros(seq_length, dtype=torch.long, device=device)\n",
    "\n",
    "    position_ids = position_ids.unsqueeze(0).expand_as(input_ids)\n",
    "    ref_position_ids = ref_position_ids.unsqueeze(0).expand_as(input_ids)\n",
    "    return position_ids, ref_position_ids\n",
    "    \n",
    "def construct_attention_mask(input_ids):\n",
    "    return torch.ones_like(input_ids)\n",
    "\n",
    "# Summarize and vis functions\n",
    "def summarize_attributions_ig(attributions):\n",
    "    attributions = attributions.sum(dim=-1).squeeze(0)\n",
    "    attributions = attributions / torch.norm(attributions)\n",
    "    return attributions\n",
    "\n",
    "def summarize_attributions_occ(attributions):\n",
    "    return attributions.sum(axis=0)\n",
    "\n",
    "def token_to_words(attribution, tokens):\n",
    "    \n",
    "    words = []\n",
    "    attributes = []\n",
    "\n",
    "    for attribute, word in zip(attribution, tokens):\n",
    "\n",
    "        attribute = attribute.cpu().detach().numpy()\n",
    "        if word == '[CLS]' or word == '[SEP]':\n",
    "            words.append(word)\n",
    "            attributes.append([attribute])\n",
    "        elif not word.startswith('##'):\n",
    "            words.append(word)\n",
    "            attributes.append([attribute])\n",
    "        elif word.startswith('##'):\n",
    "            words[-1] += word.strip('##')\n",
    "            attributes[-1] = np.append(attributes[-1], attribute)\n",
    "\n",
    "    attribution = [np.sum(mean) for mean in attributes]\n",
    "    return attribution, words\n",
    "\n",
    "def colorize(attribution, tokens):\n",
    "    \n",
    "    template = \"\"\"  \n",
    "    <mark class=\"entity\" style=\"\n",
    "    background: {}; \n",
    "    padding: 0.4em 0.0em; \n",
    "    margin: 0.0em; \n",
    "    line-height: 2; \n",
    "    border-radius: 0.0em;\n",
    "    \">{}<span style=\"\n",
    "    font-size: 0.8em; \n",
    "    font-weight: bold; \n",
    "    line-height: 1; \n",
    "    border-radius: 0.0em;   \n",
    "    text-align-last:center;\n",
    "    vertical-align: middle;\n",
    "    margin-left: 0rem;\n",
    "    \"></span></mark>\n",
    "    \"\"\"\n",
    "\n",
    "    colored_string = ''\n",
    "    normalized_and_mapped = matplotlib.cm.ScalarMappable(cmap=matplotlib.cm.Greens).to_rgba(attribution)\n",
    "    for idx, (word, color) in enumerate(zip(tokens, normalized_and_mapped)):\n",
    "        \n",
    "        word = word + ' '\n",
    "        color = matplotlib.colors.rgb2hex(color[:3])\n",
    "        if word.strip() == '[CLS]' or word.strip() == '[SEP]': \n",
    "            color = '#ffffff'\n",
    "        #print(color)\n",
    "        colored_string += template.format(color, word)\n",
    "\n",
    "    return colored_string"
   ]
  },
  {
   "cell_type": "code",
   "execution_count": 21,
   "id": "86a8fa54-a67e-4cc9-abdc-4f0b170f4131",
   "metadata": {},
   "outputs": [],
   "source": [
    "ref_token_id = tokenizer.pad_token_id # A token used for generating token reference\n",
    "sep_token_id = tokenizer.sep_token_id # A token used as a separator between question and text and it is also added to the end of the text.\n",
    "cls_token_id = tokenizer.cls_token_id # A token used for prepending to the concatenated question-text word sequence"
   ]
  },
  {
   "cell_type": "code",
   "execution_count": 22,
   "id": "afcca46e-fe01-4a1f-9234-20d0be2bda17",
   "metadata": {},
   "outputs": [],
   "source": [
    "# Methods\n",
    "lig = LayerIntegratedGradients(custom_forward, model.bert.embeddings)\n",
    "occ = Occlusion(custom_forward)"
   ]
  },
  {
   "cell_type": "markdown",
   "id": "d8ade933-187c-49ba-b2c1-cb519de8656f",
   "metadata": {},
   "source": [
    "### Single Test Example"
   ]
  },
  {
   "cell_type": "code",
   "execution_count": 23,
   "id": "3e9afaab-2507-4080-ba3e-5fafa1d46772",
   "metadata": {},
   "outputs": [],
   "source": [
    "text = 'The winter plumage is dark.'"
   ]
  },
  {
   "cell_type": "code",
   "execution_count": 24,
   "id": "e00058fd-c234-4411-895c-4a8d5e79a240",
   "metadata": {},
   "outputs": [],
   "source": [
    "input_ids, ref_input_ids, sep_id = construct_input_ref_pair(text, ref_token_id, sep_token_id, cls_token_id)\n",
    "token_type_ids, ref_token_type_ids = construct_input_ref_token_type_pair(input_ids, sep_id)\n",
    "position_ids, ref_position_ids = construct_input_ref_pos_id_pair(input_ids)\n",
    "attention_mask = construct_attention_mask(input_ids)\n",
    "\n",
    "indices = input_ids[0].detach().tolist()\n",
    "all_tokens = tokenizer.convert_ids_to_tokens(indices)"
   ]
  },
  {
   "cell_type": "code",
   "execution_count": 25,
   "id": "f9197e20-096b-452e-8c7b-cdc3dfbffef7",
   "metadata": {},
   "outputs": [],
   "source": [
    "attribution_occ = occ.attribute(inputs=input_ids, \n",
    "                                sliding_window_shapes=(5,), \n",
    "                                strides=3, \n",
    "                                baselines=None, \n",
    "                                target=None, \n",
    "                                additional_forward_args=None, \n",
    "                                perturbations_per_eval=1, \n",
    "                                show_progress=False)"
   ]
  },
  {
   "cell_type": "code",
   "execution_count": 26,
   "id": "b3323d1a-0845-4f4c-aabf-07ee78bb4e9d",
   "metadata": {},
   "outputs": [],
   "source": [
    "# Sum the matrices\n",
    "attributions_occ_sum = summarize_attributions_occ(attribution_occ)\n",
    "# Token to words\n",
    "# Words are the same in this case\n",
    "attributions_occ_words, words = token_to_words(attributions_occ_sum, all_tokens)"
   ]
  },
  {
   "cell_type": "code",
   "execution_count": 27,
   "id": "17ea4b2f-f9c7-4247-91ab-28d1d6858dd8",
   "metadata": {},
   "outputs": [
    {
     "data": {
      "text/html": [
       "  \n",
       "    <mark class=\"entity\" style=\"\n",
       "    background: #ffffff; \n",
       "    padding: 0.4em 0.0em; \n",
       "    margin: 0.0em; \n",
       "    line-height: 2; \n",
       "    border-radius: 0.0em;\n",
       "    \">[CLS] <span style=\"\n",
       "    font-size: 0.8em; \n",
       "    font-weight: bold; \n",
       "    line-height: 1; \n",
       "    border-radius: 0.0em;   \n",
       "    text-align-last:center;\n",
       "    vertical-align: middle;\n",
       "    margin-left: 0rem;\n",
       "    \"></span></mark>\n",
       "      \n",
       "    <mark class=\"entity\" style=\"\n",
       "    background: #00441b; \n",
       "    padding: 0.4em 0.0em; \n",
       "    margin: 0.0em; \n",
       "    line-height: 2; \n",
       "    border-radius: 0.0em;\n",
       "    \">the <span style=\"\n",
       "    font-size: 0.8em; \n",
       "    font-weight: bold; \n",
       "    line-height: 1; \n",
       "    border-radius: 0.0em;   \n",
       "    text-align-last:center;\n",
       "    vertical-align: middle;\n",
       "    margin-left: 0rem;\n",
       "    \"></span></mark>\n",
       "      \n",
       "    <mark class=\"entity\" style=\"\n",
       "    background: #00441b; \n",
       "    padding: 0.4em 0.0em; \n",
       "    margin: 0.0em; \n",
       "    line-height: 2; \n",
       "    border-radius: 0.0em;\n",
       "    \">winter <span style=\"\n",
       "    font-size: 0.8em; \n",
       "    font-weight: bold; \n",
       "    line-height: 1; \n",
       "    border-radius: 0.0em;   \n",
       "    text-align-last:center;\n",
       "    vertical-align: middle;\n",
       "    margin-left: 0rem;\n",
       "    \"></span></mark>\n",
       "      \n",
       "    <mark class=\"entity\" style=\"\n",
       "    background: #6bc072; \n",
       "    padding: 0.4em 0.0em; \n",
       "    margin: 0.0em; \n",
       "    line-height: 2; \n",
       "    border-radius: 0.0em;\n",
       "    \">plumage <span style=\"\n",
       "    font-size: 0.8em; \n",
       "    font-weight: bold; \n",
       "    line-height: 1; \n",
       "    border-radius: 0.0em;   \n",
       "    text-align-last:center;\n",
       "    vertical-align: middle;\n",
       "    margin-left: 0rem;\n",
       "    \"></span></mark>\n",
       "      \n",
       "    <mark class=\"entity\" style=\"\n",
       "    background: #6bc072; \n",
       "    padding: 0.4em 0.0em; \n",
       "    margin: 0.0em; \n",
       "    line-height: 2; \n",
       "    border-radius: 0.0em;\n",
       "    \">is <span style=\"\n",
       "    font-size: 0.8em; \n",
       "    font-weight: bold; \n",
       "    line-height: 1; \n",
       "    border-radius: 0.0em;   \n",
       "    text-align-last:center;\n",
       "    vertical-align: middle;\n",
       "    margin-left: 0rem;\n",
       "    \"></span></mark>\n",
       "      \n",
       "    <mark class=\"entity\" style=\"\n",
       "    background: #f7fcf5; \n",
       "    padding: 0.4em 0.0em; \n",
       "    margin: 0.0em; \n",
       "    line-height: 2; \n",
       "    border-radius: 0.0em;\n",
       "    \">dark <span style=\"\n",
       "    font-size: 0.8em; \n",
       "    font-weight: bold; \n",
       "    line-height: 1; \n",
       "    border-radius: 0.0em;   \n",
       "    text-align-last:center;\n",
       "    vertical-align: middle;\n",
       "    margin-left: 0rem;\n",
       "    \"></span></mark>\n",
       "      \n",
       "    <mark class=\"entity\" style=\"\n",
       "    background: #f7fcf5; \n",
       "    padding: 0.4em 0.0em; \n",
       "    margin: 0.0em; \n",
       "    line-height: 2; \n",
       "    border-radius: 0.0em;\n",
       "    \">. <span style=\"\n",
       "    font-size: 0.8em; \n",
       "    font-weight: bold; \n",
       "    line-height: 1; \n",
       "    border-radius: 0.0em;   \n",
       "    text-align-last:center;\n",
       "    vertical-align: middle;\n",
       "    margin-left: 0rem;\n",
       "    \"></span></mark>\n",
       "      \n",
       "    <mark class=\"entity\" style=\"\n",
       "    background: #ffffff; \n",
       "    padding: 0.4em 0.0em; \n",
       "    margin: 0.0em; \n",
       "    line-height: 2; \n",
       "    border-radius: 0.0em;\n",
       "    \">[SEP] <span style=\"\n",
       "    font-size: 0.8em; \n",
       "    font-weight: bold; \n",
       "    line-height: 1; \n",
       "    border-radius: 0.0em;   \n",
       "    text-align-last:center;\n",
       "    vertical-align: middle;\n",
       "    margin-left: 0rem;\n",
       "    \"></span></mark>\n",
       "    "
      ],
      "text/plain": [
       "<IPython.core.display.HTML object>"
      ]
     },
     "metadata": {},
     "output_type": "display_data"
    }
   ],
   "source": [
    "# OCC\n",
    "string = colorize(attributions_occ_words, words)\n",
    "display(HTML(string))"
   ]
  },
  {
   "cell_type": "code",
   "execution_count": 28,
   "id": "50e62f15-e9b7-4706-bfb9-643b862867d8",
   "metadata": {},
   "outputs": [
    {
     "data": {
      "text/plain": [
       "[<matplotlib.lines.Line2D at 0x7f95c08d9640>]"
      ]
     },
     "execution_count": 28,
     "metadata": {},
     "output_type": "execute_result"
    },
    {
     "data": {
      "image/png": "[encoded data removed]",
      "text/plain": [
       "<Figure size 432x288 with 1 Axes>"
      ]
     },
     "metadata": {
      "needs_background": "light"
     },
     "output_type": "display_data"
    }
   ],
   "source": [
    "plt.plot(attributions_occ_words[1:-1])"
   ]
  },
  {
   "cell_type": "code",
   "execution_count": null,
   "id": "038b0551-98f8-4b77-9403-ed07cd3b7b83",
   "metadata": {},
   "outputs": [],
   "source": [
    "def occlude(text):\n",
    "    # Global BERT mask\n",
    "    global attention_mask\n",
    "    # Tokenize and prepare \n",
    "    input_ids, ref_input_ids, sep_id = construct_input_ref_pair(text, ref_token_id, sep_token_id, cls_token_id)\n",
    "    token_type_ids, ref_token_type_ids = construct_input_ref_token_type_pair(input_ids, sep_id)\n",
    "    position_ids, ref_position_ids = construct_input_ref_pos_id_pair(input_ids)\n",
    "    attention_mask = construct_attention_mask(input_ids)\n",
    "    # Detach in case the model is on GPU\n",
    "    indices = input_ids[0].detach().tolist()\n",
    "    all_tokens = tokenizer.convert_ids_to_tokens(indices)\n",
    "    # Get occlusion values\n",
    "    attributions_occ = occ.attribute(inputs=input_ids, \n",
    "                                    sliding_window_shapes=tuple([4,]), \n",
    "                                    strides=3, \n",
    "                                    baselines=None, \n",
    "                                    target=None, \n",
    "                                    additional_forward_args=None, \n",
    "                                    perturbations_per_eval=1, \n",
    "                                    show_progress=False)\n",
    "    # Sum the matrices\n",
    "    attributions_occ_sum = summarize_attributions_occ(attributions_occ)\n",
    "    # Extract the words\n",
    "    attributions_occ_words, words = token_to_words(attributions_occ_sum, all_tokens)\n",
    "    # NLP (Skip tokens)\n",
    "    doc = nlp(' '.join(words[1:-1]))\n",
    "    # Init list\n",
    "    PoS = []\n",
    "    # Loop over the tokens\n",
    "    for token, occ_att in zip(doc, attributions_occ_words[1:-1]):\n",
    "        # Append to list\n",
    "        PoS.append((token.text, token.pos_, token.dep_,  occ_att))\n",
    "    \n",
    "    return PoS"
   ]
  },
  {
   "cell_type": "markdown",
   "id": "3ba47691-f11e-436e-b2a6-dc12fdd28244",
   "metadata": {},
   "source": [
    "### Part of Speech"
   ]
  },
  {
   "cell_type": "code",
   "execution_count": null,
   "id": "90f8246a-2900-41c2-a00f-c2998dc2a143",
   "metadata": {},
   "outputs": [],
   "source": [
    "text_list = bird_traits_dict[common_birds[0]]\n",
    "#text_list = bird_traits__dict[common_birds[0]]"
   ]
  },
  {
   "cell_type": "code",
   "execution_count": null,
   "id": "e4a8b0ee-3a2e-4225-9465-16f0e2fcfb4a",
   "metadata": {},
   "outputs": [],
   "source": [
    "Pos_list = [occlude(text) for text in tqdm(text_list)]"
   ]
  },
  {
   "cell_type": "code",
   "execution_count": null,
   "id": "8bc66114-6850-4417-804b-77f5ce968cf0",
   "metadata": {},
   "outputs": [],
   "source": [
    "for sentence in Pos_list[0:10]:\n",
    "    words = [item[0] for item in sentence]\n",
    "    attribution_occlus = [item[3] for item in sentence]\n",
    "    string = colorize(attribution_occlus, words)\n",
    "    display(HTML(string))\n",
    "    print('\\n')"
   ]
  },
  {
   "cell_type": "code",
   "execution_count": null,
   "id": "749ab3c6-30cd-4faf-8630-20983df44f51",
   "metadata": {},
   "outputs": [],
   "source": [
    "# Flatten the list\n",
    "flat_list = []\n",
    "for idx, sublist in enumerate(Pos_list):\n",
    "    for item in sublist:\n",
    "        flat_list.append((idx, item[0], item[1], item[2], item[3]))\n",
    "# Create DF        \n",
    "df = pd.DataFrame(flat_list, columns=['Sentence', 'Word', 'PoS', 'Dep', 'Occlusion'])\n",
    "# Melt the DF\n",
    "df_melt = df.melt(id_vars=['PoS'], value_vars=['Occlusion'])"
   ]
  },
  {
   "cell_type": "code",
   "execution_count": null,
   "id": "d215ac08-add7-469f-826d-594dfa3e6bb3",
   "metadata": {},
   "outputs": [],
   "source": [
    "with sns.axes_style(\"whitegrid\"):\n",
    "    f, ax = plt.subplots(figsize=(8, 4))\n",
    "    sns.despine(bottom=True, left=True)\n",
    "\n",
    "    sns.stripplot(x=\"value\", y=\"PoS\",\n",
    "                  data=df_melt, dodge=True, alpha=.25, zorder=1)\n",
    "\n",
    "    sns.pointplot(x=\"value\", y=\"PoS\",\n",
    "                  data=df_melt, dodge=.4,\n",
    "                  join=False, palette=\"dark\",\n",
    "                  markers=\"d\", scale=.75, ci=None)"
   ]
  },
  {
   "cell_type": "code",
   "execution_count": null,
   "id": "76c1e050-6fbe-4d4a-b938-58157fd646e0",
   "metadata": {},
   "outputs": [],
   "source": [
    "#df[(df['Sentence'] == 23)]"
   ]
  },
  {
   "cell_type": "code",
   "execution_count": null,
   "id": "fd51aeee-dbf5-4f69-b77a-f2816f70b02e",
   "metadata": {},
   "outputs": [],
   "source": [
    "'''\n",
    "#### VERSION I\n",
    "species = common_birds[0]\n",
    "\n",
    "species_focus = collections.defaultdict(list)\n",
    "\n",
    "for idx in tqdm(df['Sentence'].unique()):\n",
    "#for idx in range(22, 24):\n",
    "    doc = nlp(text_list[idx])\n",
    "    #print(doc)\n",
    "    # Check single\n",
    "    words = [chunk.root.lemma_.lower() for chunk in doc.noun_chunks] \n",
    "    # Check multiple\n",
    "    words += [chunk.root.text.lower() for chunk in doc.noun_chunks]\n",
    "    # Drop duplicate\n",
    "    words = list(set(words))\n",
    "    #print(words)\n",
    "    #print(words)\n",
    "    traits =  set(words) & set(parts)\n",
    "    #print(traits)\n",
    "    if traits:\n",
    "        # Yield the traits\n",
    "        trait_list = list(traits)\n",
    "        #print(trait_list)\n",
    "        for trait in trait_list:\n",
    "            for token in doc:\n",
    "                if token.lemma_.lower() == trait or token.text.lower() == trait:\n",
    "                    # Reconstruct compounds:\n",
    "                    if doc[token.i - 1].dep_ == 'compound':\n",
    "                        span = doc[token.i - 1 : token.i + 1]\n",
    "                    elif doc[token.i - 2].dep_ == 'compound':\n",
    "                        span = doc[token.i - 2 : token.i + 1]\n",
    "                    else:\n",
    "                        span = doc[token.i]\n",
    "            \n",
    "            #print(span, )\n",
    "            \n",
    "            if len((span.text.split())) > 1:\n",
    "                # Use the root of the span in case of compounds\n",
    "                children = [child.text.lower() for child in span[-1].subtree if child != span[-1]]\n",
    "            else:\n",
    "                # Get the subtree of the found span\n",
    "                children = [child.text.lower() for child in span.subtree if child != span]\n",
    "        \n",
    "            #print(children)\n",
    "            # Get the indices\n",
    "            indices = df[(df['Sentence'] == idx) & \n",
    "                         (df['Word'].isin(children)) & \n",
    "                         (df['PoS'].isin(['ADJ', 'ADV', 'VERB']))]\\\n",
    "                        ['Occlusion'].sort_values(ascending=False)\n",
    "\n",
    "            # Init list\n",
    "            candidates = []\n",
    "            for df_idx in indices.index:\n",
    "                # Get the adjective of the trait\n",
    "                candidates.append(df.iloc[df_idx].Word)\n",
    "            # Append\n",
    "            species_focus[species].append((idx, span.lemma_.lower(), tuple(candidates)))\n",
    "            # extract data from whole frase to get some information\n",
    "            if not candidates:\n",
    "                #print('asd')\n",
    "                # Get the indices\n",
    "                indices = df[(df['Sentence'] == idx) & \n",
    "                             (df['PoS'].isin(['ADJ', 'ADV', 'VERB']))]\\\n",
    "                            ['Occlusion'].sort_values(ascending=False)\n",
    "                # Init list\n",
    "                candidates = []\n",
    "                for df_idx in indices.index:\n",
    "                    # Get the adjective of the trait\n",
    "                    candidates.append(df.iloc[df_idx].Word)\n",
    "                # Append\n",
    "                species_focus[species].append((idx, span.lemma_.lower(), tuple(candidates)))\n",
    "        #except:\n",
    "            #print(text_list[idx])\n",
    "'''"
   ]
  },
  {
   "cell_type": "code",
   "execution_count": null,
   "id": "02ffae3f-12a2-4eb9-90e9-b5131caf0923",
   "metadata": {},
   "outputs": [],
   "source": [
    "text_list[50]"
   ]
  },
  {
   "cell_type": "code",
   "execution_count": null,
   "id": "b9534925-68ae-47aa-8f92-35d9779854a7",
   "metadata": {},
   "outputs": [],
   "source": [
    "### VERSION II\n",
    "species = common_birds[0]\n",
    "\n",
    "species_focus = collections.defaultdict(list)\n",
    "\n",
    "for idx in tqdm(df['Sentence'].unique()):\n",
    "#for idx in range(50, 51):\n",
    "    doc = nlp(text_list[idx])\n",
    "    if len(doc) <= 3:\n",
    "        continue\n",
    "    # Check single\n",
    "    words = [chunk.root.lemma_.lower() for chunk in doc.noun_chunks] \n",
    "    # Check multiple\n",
    "    words += [chunk.root.text.lower() for chunk in doc.noun_chunks]\n",
    "    # Drop duplicate\n",
    "    words = list(set(words))\n",
    "    #print(words)\n",
    "    #print(words)\n",
    "    traits =  set(words) & set(parts)\n",
    "    #print(traits)\n",
    "    if traits:\n",
    "        # Yield the traits\n",
    "        trait_list = list(traits)\n",
    "        #print(trait_list)\n",
    "        for trait in trait_list:\n",
    "            for token in doc:\n",
    "                if token.lemma_.lower() == trait or token.text.lower() == trait:\n",
    "                    # Reconstruct compounds:\n",
    "                    if doc[token.i - 1].dep_ == 'compound':\n",
    "                        span = doc[token.i - 1 : token.i + 1]\n",
    "                    elif doc[token.i - 2].dep_ == 'compound':\n",
    "                        span = doc[token.i - 2 : token.i + 1]\n",
    "                    else:\n",
    "                        span = doc[token.i]           \n",
    "            \n",
    "        if len((span.text.split())) > 1:\n",
    "            # Use the root of the span in case of compounds\n",
    "            children = [child for child in span[-1].children if child != span[-1]]\n",
    "        else:\n",
    "            # Get the subtree of the found span\n",
    "            children = [child for child in span.children if child != span]\n",
    "            \n",
    "            \n",
    "        #print(len(children))\n",
    "        if len(children) <= 1:\n",
    "            if len((span.text.split())) > 1:\n",
    "                # Use the root of the span in case of compounds\n",
    "                parent = next(child for child in span[-1].ancestors if child != span[-1])\n",
    "                \n",
    "            else:\n",
    "                # Get the subtree of the found span\n",
    "                parent = next(child for child in span.ancestors if child != span)\n",
    "            root = next(token for token in doc if token.dep_ == 'ROOT')\n",
    "            children = [child for child in root.children]\n",
    "            #children = [child for child in parent.children]\n",
    "            \n",
    "        # Reconstruct the subtrees:\n",
    "        subtree_current_sum = float('-inf')\n",
    "        subtree_current_text = ''\n",
    "        for child in children:\n",
    "            #print(child)\n",
    "            # QUICK FIX\n",
    "            # Skips compound children for now\n",
    "            if child.dep_ == 'compound':\n",
    "                continue\n",
    "            subtree = doc[child.left_edge.i : child.right_edge.i + 1]\n",
    "            #print(subtree)\n",
    "            subtree_sum = df[(df['Sentence'] == idx) & (df['Word'].isin([t.text for t in subtree]))]['Occlusion'].mean()\n",
    "            #print(subtree_sum)\n",
    "            if subtree[-1].is_punct:\n",
    "                continue\n",
    "            if subtree[-1].pos_ == 'CCONJ':\n",
    "                continue\n",
    "            if subtree_sum > subtree_current_sum:\n",
    "                subtree_current_sum = subtree_sum\n",
    "                subtree_current_text = subtree.text\n",
    "                #print(subtree, subtree_sum)\n",
    "\n",
    "        species_focus[species].append((idx, span.lemma_.lower(), subtree_current_text.lower()))\n",
    "            "
   ]
  },
  {
   "cell_type": "code",
   "execution_count": null,
   "id": "389a5e18-72a8-4540-9023-8a1a098a0140",
   "metadata": {},
   "outputs": [],
   "source": [
    "children"
   ]
  },
  {
   "cell_type": "code",
   "execution_count": null,
   "id": "a0345e08-296f-43cf-b9ca-3dd41edaf8b5",
   "metadata": {},
   "outputs": [],
   "source": [
    "species_focus"
   ]
  },
  {
   "cell_type": "code",
   "execution_count": null,
   "id": "bbb1d840-f96a-44d8-961e-7df17dcd3f21",
   "metadata": {},
   "outputs": [],
   "source": [
    "displacy.render(doc)"
   ]
  },
  {
   "cell_type": "code",
   "execution_count": null,
   "id": "52f73b70-71d0-4cb7-8527-84c29f011e0f",
   "metadata": {},
   "outputs": [],
   "source": [
    "description_BOW_dict = collections.defaultdict(list)\n",
    "\n",
    "for bird in species_focus.keys():\n",
    "    for focus in species_focus[bird]:\n",
    "        try:\n",
    "            #description_BOW_dict[bird].append((focus[1], focus[2][0]))\n",
    "            description_BOW_dict[bird].append((focus[1], focus[2]))\n",
    "        except:\n",
    "            continue"
   ]
  },
  {
   "cell_type": "code",
   "execution_count": null,
   "id": "ea834cf6-699c-4ffb-bd89-8ea39a5e0e86",
   "metadata": {},
   "outputs": [],
   "source": [
    "import networkx as nx\n",
    "from networkx.drawing.nx_agraph import graphviz_layout"
   ]
  },
  {
   "cell_type": "code",
   "execution_count": null,
   "id": "1029b1de-9392-4bb4-9ceb-6569c077a0a0",
   "metadata": {},
   "outputs": [],
   "source": [
    "source   = []\n",
    "relation = []\n",
    "target   = []\n",
    "\n",
    "test = list(set(description_BOW_dict[common_birds[0]]))\n",
    "\n",
    "for triple in test:\n",
    "    if not all(triple):\n",
    "        continue\n",
    "    # Quick FIX\n",
    "    source.append(common_birds[0])\n",
    "    relation.append('has part')\n",
    "    target.append(triple[0])\n",
    "    \n",
    "    \n",
    "    source.append(triple[0])\n",
    "    relation.append('be')\n",
    "    target.append(triple[1])\n",
    "    \n",
    "kg_df = pd.DataFrame({'source':source, 'target':target, 'edge':relation})"
   ]
  },
  {
   "cell_type": "code",
   "execution_count": null,
   "id": "68a83505-706d-4f60-876c-d668e2509d46",
   "metadata": {},
   "outputs": [],
   "source": [
    "G=nx.from_pandas_edgelist(kg_df, \"source\", \"target\", \n",
    "                          edge_attr=True, create_using=nx.MultiDiGraph())\n",
    "\n",
    "plt.figure(figsize=(25, 25))\n",
    "labels = dict(zip(list(zip(kg_df.source, kg_df.target)),\n",
    "                  kg_df['edge'].tolist()))\n",
    "pos = nx.spring_layout(G, k = 1)\n",
    "nx.draw(G, with_labels=True, node_size=2500, pos=graphviz_layout(G))\n",
    "nx.draw_networkx_edge_labels(G, pos=graphviz_layout(G), edge_labels=labels,\n",
    "                                 font_color='red')\n",
    "plt.show()\n",
    "#plt.savefig('plot.pdf', format='pdf', dpi=1200, bbox_inches='tight')"
   ]
  },
  {
   "cell_type": "markdown",
   "id": "b09091ed-f949-454f-bad8-4aa712212962",
   "metadata": {},
   "source": [
    "# Get Annotations"
   ]
  },
  {
   "cell_type": "code",
   "execution_count": null,
   "id": "e4609704-167d-442a-9a72-091771ac1b3b",
   "metadata": {},
   "outputs": [],
   "source": [
    "# Open the text file\n",
    "location = \"../data/external/CUB_200_2011/attributes.txt\"\n",
    "with open(location) as f:\n",
    "    lines = f.readlines()"
   ]
  },
  {
   "cell_type": "code",
   "execution_count": null,
   "id": "1ae22ff8-7bac-496f-b0e5-90288419260d",
   "metadata": {},
   "outputs": [],
   "source": [
    "attribute_list = []\n",
    "\n",
    "# Create a DF with attributes\n",
    "for line in lines:\n",
    "    line = line.strip()\n",
    "    attributes = line.split()[1].split('::')\n",
    "    part = attributes[0]\n",
    "    adjective = attributes[1]\n",
    "    attribute_list.append((part, adjective))\n",
    "    \n",
    "# Create DF        \n",
    "df_attributes = pd.DataFrame(attribute_list, columns=['Part', 'Adj'])\n",
    "# Reset the index\n",
    "df_attributes.index = np.arange(1, len(df_attributes)+1)"
   ]
  },
  {
   "cell_type": "code",
   "execution_count": null,
   "id": "aaddaa61-5ca0-454d-8d94-c6d89525bb28",
   "metadata": {},
   "outputs": [],
   "source": [
    "# Open the text file\n",
    "location = \"../data/external/CUB_200_2011/CUB_200_2011/attributes/image_attribute_labels.txt\"\n",
    "with open(location) as f:\n",
    "    lines = f.readlines()\n",
    "# Open the text file\n",
    "location = \"../data/external/CUB_200_2011/CUB_200_2011/images.txt\"\n",
    "with open(location) as f:\n",
    "    img_ids = f.readlines()"
   ]
  },
  {
   "cell_type": "code",
   "execution_count": null,
   "id": "e51da922-e6f6-4bf8-8ef4-84900552dc0c",
   "metadata": {},
   "outputs": [],
   "source": [
    "# Create DF will all present parts\n",
    "CUB_dict = collections.defaultdict(list)\n",
    "# Loop over lines\n",
    "for line in tqdm(lines):\n",
    "    data = line.split()\n",
    "    # Skip non present\n",
    "    if not int(data[2]):\n",
    "        continue\n",
    "    # Skip uncertain things\n",
    "    if int(data[3]) < 3:\n",
    "        continue\n",
    "    # Otherwise append\n",
    "    #print(CUB[int(img_ids[int(data[0])].split()[1][0:3]) - 1], data)\n",
    "    CUB_dict[CUB[int(img_ids[int(data[0])-1].split()[1][0:3]) - 1]].append((df_attributes.loc[int(data[1]), ][0], df_attributes.loc[int(data[1]), ][1]))"
   ]
  },
  {
   "cell_type": "code",
   "execution_count": null,
   "id": "1120cd17-df0c-4892-9252-7b1f6866d342",
   "metadata": {},
   "outputs": [],
   "source": [
    "# Drop duplicates\n",
    "for bird in CUB_dict.keys():\n",
    "    CUB_dict[bird] = list(set(CUB_dict[bird]))"
   ]
  },
  {
   "cell_type": "code",
   "execution_count": null,
   "id": "7fc6f3ce-c943-4822-9f88-06c3a712b69c",
   "metadata": {},
   "outputs": [],
   "source": [
    "description_CUB_dict = collections.defaultdict(list)\n",
    "# Rewrite the sentence\n",
    "for (part, adjective) in CUB_dict[common_birds[0]]:\n",
    "    part = part[4:].replace('_', ' ')\n",
    "\n",
    "    description_CUB_dict[common_birds[0]].append((part, adjective))"
   ]
  },
  {
   "cell_type": "code",
   "execution_count": null,
   "id": "154d58de-1078-4f71-8832-3a38319b79bf",
   "metadata": {},
   "outputs": [],
   "source": [
    "for (part, adjective) in description_CUB_dict[common_birds[0]]:\n",
    "    if part.startswith('crown'):\n",
    "        print(part, adjective)"
   ]
  },
  {
   "cell_type": "code",
   "execution_count": null,
   "id": "f829c1f3-020d-4692-adb4-c635d81487c0",
   "metadata": {},
   "outputs": [],
   "source": [
    "CUB_dict[common_birds[2]]"
   ]
  },
  {
   "cell_type": "markdown",
   "id": "11b8b9ec-596f-46c4-b5c3-49f7709a5967",
   "metadata": {},
   "source": [
    "# Similarity"
   ]
  },
  {
   "cell_type": "code",
   "execution_count": null,
   "id": "ac7b3fda-b1f4-4f22-93f6-0711fe2626dc",
   "metadata": {},
   "outputs": [],
   "source": [
    "from build_features import similarity_matrix as vector_values\n",
    "from sklearn.metrics.pairwise import cosine_similarity"
   ]
  },
  {
   "cell_type": "code",
   "execution_count": null,
   "id": "0302009e-f4aa-4c2a-9de0-9d0b98da606e",
   "metadata": {},
   "outputs": [],
   "source": [
    "description_BOW_dict[common_birds[0]].sort()\n",
    "description_CUB_dict[common_birds[0]].sort()"
   ]
  },
  {
   "cell_type": "code",
   "execution_count": null,
   "id": "c691c995-0963-4bf1-9558-3f584e8a2421",
   "metadata": {},
   "outputs": [],
   "source": [
    "#description_BOW_dict"
   ]
  },
  {
   "cell_type": "code",
   "execution_count": null,
   "id": "36520c8f-b2a8-421b-b6b2-23ad3e4686b5",
   "metadata": {},
   "outputs": [],
   "source": [
    "# Comparison\n",
    "CUB_part = []\n",
    "BOW_part = []\n",
    "for (part, adjective) in description_CUB_dict[common_birds[0]]:\n",
    "    part = part.replace('color', '').strip()\n",
    "    if part.startswith('crown'):\n",
    "        CUB_part.append(adjective)\n",
    "for (part, adjective) in description_BOW_dict[common_birds[0]]:\n",
    "    if part.startswith('crown'):\n",
    "        BOW_part.append(adjective)"
   ]
  },
  {
   "cell_type": "code",
   "execution_count": null,
   "id": "d02b613a-4457-4bc6-b2ff-30799035e076",
   "metadata": {},
   "outputs": [],
   "source": [
    "vv_BOW = vector_values(CUB_part)"
   ]
  },
  {
   "cell_type": "code",
   "execution_count": null,
   "id": "d481b7ab-db7d-4b3f-9041-24379abfddc9",
   "metadata": {},
   "outputs": [],
   "source": [
    "vv_CUB = vector_values(BOW_part)"
   ]
  },
  {
   "cell_type": "code",
   "execution_count": null,
   "id": "b41f40d9-b8af-4e01-b6ee-84d672beff03",
   "metadata": {},
   "outputs": [],
   "source": [
    "matrix = cosine_similarity(vv_BOW, vv_CUB)"
   ]
  },
  {
   "cell_type": "code",
   "execution_count": null,
   "id": "87924131-26fa-4c96-9b6c-b91543a6dc55",
   "metadata": {},
   "outputs": [],
   "source": [
    "# Generate a custom diverging colormap\n",
    "cmap = sns.diverging_palette(230, 20, as_cmap=True)\n",
    "\n",
    "with sns.axes_style(\"white\"):\n",
    "    f, ax = plt.subplots(figsize=(len(BOW_part), len(CUB_part)))\n",
    "    ax = sns.heatmap(matrix, \n",
    "                     #mask=mask, \n",
    "                     square=True,\n",
    "                     annot=True,\n",
    "                     cbar=False,\n",
    "                     cmap=cmap,\n",
    "                     linewidths=.5,)\n",
    "    \n",
    "#ax.set_xticklabels(ax.get_xticklabels(), rotation=30, ha=\"right\", fontsize=11)\n",
    "#ax.set_yticklabels(ax.get_yticklabels(), rotation=0, ha=\"right\", fontsize=11)\n",
    "\n",
    "\n",
    "#f.suptitle('Similarity Matrix', fontsize=13)\n",
    "#f.savefig('similarity_matrix.pdf', format='pdf', dpi=1200, bbox_inches='tight')"
   ]
  },
  {
   "cell_type": "code",
   "execution_count": null,
   "id": "b9b46f60-471f-4493-bc64-f08555b7cbad",
   "metadata": {},
   "outputs": [],
   "source": [
    "print(CUB_part[0])\n",
    "print(BOW_part[5])"
   ]
  },
  {
   "cell_type": "code",
   "execution_count": null,
   "id": "8373ae43-b3cf-4ccc-a0df-25d7eae6fdf4",
   "metadata": {},
   "outputs": [],
   "source": [
    "print(CUB_part)\n",
    "print(BOW_part)"
   ]
  },
  {
   "cell_type": "code",
   "execution_count": null,
   "id": "fbb28642-51b0-4575-a832-ddabbefecc84",
   "metadata": {},
   "outputs": [],
   "source": [
    "sents[36]"
   ]
  },
  {
   "cell_type": "code",
   "execution_count": null,
   "id": "ccfecf68-b0d4-4612-a8a5-96ce8289cac5",
   "metadata": {},
   "outputs": [],
   "source": [
    "matrix"
   ]
  },
  {
   "cell_type": "code",
   "execution_count": null,
   "id": "4870dcc8-5cf9-4a66-9eaf-0a0046c90d80",
   "metadata": {},
   "outputs": [],
   "source": [
    "description_BOW_dict[birds_list[0]][0:15]"
   ]
  },
  {
   "cell_type": "code",
   "execution_count": null,
   "id": "d032faf5-5d08-4218-9e4e-fe91c55cdb6e",
   "metadata": {},
   "outputs": [],
   "source": [
    "birds_list"
   ]
  },
  {
   "cell_type": "code",
   "execution_count": null,
   "id": "af113321-73c2-4056-803b-2ec4f5c12475",
   "metadata": {},
   "outputs": [],
   "source": []
  }
 ],
 "metadata": {
  "kernelspec": {
   "display_name": "Python [conda env:DL]",
   "language": "python",
   "name": "conda-env-DL-py"
  },
  "language_info": {
   "codemirror_mode": {
    "name": "ipython",
    "version": 3
   },
   "file_extension": ".py",
   "mimetype": "text/x-python",
   "name": "python",
   "nbconvert_exporter": "python",
   "pygments_lexer": "ipython3",
   "version": "3.8.10"
  }
 },
 "nbformat": 4,
 "nbformat_minor": 5
}
