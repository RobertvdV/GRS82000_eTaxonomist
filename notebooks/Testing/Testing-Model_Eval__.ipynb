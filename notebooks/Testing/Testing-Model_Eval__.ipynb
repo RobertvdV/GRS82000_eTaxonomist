{
 "cells": [
  {
   "cell_type": "code",
   "execution_count": 1,
   "id": "60b2389b-7977-452d-8304-56e677237dab",
   "metadata": {},
   "outputs": [],
   "source": [
    "import numpy as np\n",
    "import torch\n",
    "import torch.nn as nn\n",
    "from IPython.display import display, HTML\n",
    "from transformers import DistilBertModel, DistilBertTokenizer, logging\n",
    "import matplotlib\n",
    "import matplotlib.pyplot as plt\n",
    "from matplotlib.lines import Line2D\n",
    "from tqdm.notebook import tqdm as tqdm_notebook\n",
    "import seaborn as sns\n",
    "import pandas as pd\n",
    "import numpy as np\n",
    "import collections\n",
    "from collections import Counter\n",
    "import glob\n",
    "import pickle\n",
    "import random\n",
    "from scipy.special import softmax\n",
    "from scipy import stats\n",
    "from sklearn.metrics.pairwise import cosine_similarity\n",
    "import sys\n",
    "from sklearn.preprocessing import LabelBinarizer"
   ]
  },
  {
   "cell_type": "code",
   "execution_count": 2,
   "id": "0bc7e586-b2e3-4685-ba60-6715d349ecbe",
   "metadata": {},
   "outputs": [],
   "source": [
    "logging.set_verbosity_error()\n",
    "tokenizer = DistilBertTokenizer.from_pretrained('distilbert-base-uncased')\n",
    "device = torch.device(\"cuda:0\" if torch.cuda.is_available() else \"cpu\")\n",
    "\n",
    "sys.path.insert(0, '../src/models/')\n",
    "sys.path.insert(0, '../src/features/')"
   ]
  },
  {
   "cell_type": "code",
   "execution_count": 3,
   "id": "b4c06f4e-33b5-4135-bd28-9b405ce51119",
   "metadata": {},
   "outputs": [],
   "source": [
    "# Own Functions\n",
    "from build_features import similarity_matrix as vector_values\n",
    "from predict_model import load_CUB_Bert, load_simBERT, loadBERT\n",
    "from predict_model import SpanPredictor as classify"
   ]
  },
  {
   "cell_type": "code",
   "execution_count": 4,
   "id": "eda4161d-ddce-47e6-bf0f-27dccf7335c4",
   "metadata": {},
   "outputs": [],
   "source": [
    "output = 549"
   ]
  },
  {
   "cell_type": "code",
   "execution_count": 5,
   "id": "0a56a6ea-b5c0-4553-9c24-d08586ba37a9",
   "metadata": {},
   "outputs": [
    {
     "name": "stdout",
     "output_type": "stream",
     "text": [
      "Local Success\n"
     ]
    }
   ],
   "source": [
    "model = load_CUB_Bert(\"../models/\", 'saved_weights_PlantSpecies_549.pt', outputsize=output)"
   ]
  },
  {
   "cell_type": "code",
   "execution_count": 33,
   "id": "243c9a5a-90b5-4f9c-84b3-6efdfa82c8e9",
   "metadata": {},
   "outputs": [],
   "source": [
    "TRAIN = pickle.load(open('../data/processed/RDF_TEXT_TRAIN_V2_SET_554.pkl', 'rb'))\n",
    "TEST = pickle.load(open('../data/processed/RDF_TEXT_TEST_V2_SET_554.pkl', 'rb'))"
   ]
  },
  {
   "cell_type": "code",
   "execution_count": 34,
   "id": "e3f54317-61ff-4bf8-aa0c-4c493526b0e9",
   "metadata": {},
   "outputs": [],
   "source": [
    "lb = LabelBinarizer()\n",
    "keys = np.array([key for key in TRAIN.keys()])\n",
    "keys_encoded = lb.fit_transform(keys)"
   ]
  },
  {
   "cell_type": "code",
   "execution_count": 35,
   "id": "5f1ff4af-0d7d-4a2a-b1ff-5799be04fa52",
   "metadata": {},
   "outputs": [],
   "source": [
    "def WhichPlant(span, model):\n",
    "    \n",
    "    with torch.no_grad():\n",
    "        # Tokenize input\n",
    "        inputs = tokenizer(span, return_tensors=\"pt\", truncation=True )\n",
    "        # Predict class\n",
    "        outputs = model(**inputs)\n",
    "        # Get prediction values\n",
    "        exps = torch.exp(outputs)\n",
    "        # Get class\n",
    "        probs = exps.detach().numpy()\n",
    "        \n",
    "        #return np.squeeze(probs)\n",
    "        \n",
    "        # TESTING\n",
    "        outputs = outputs.detach().numpy()\n",
    "    return np.squeeze(outputs)"
   ]
  },
  {
   "cell_type": "code",
   "execution_count": 36,
   "id": "1da57aed-2151-4652-9880-30ab53788046",
   "metadata": {},
   "outputs": [],
   "source": [
    "#WhichPlant('this is a test ', model=model)"
   ]
  },
  {
   "cell_type": "code",
   "execution_count": 75,
   "id": "ea4bbfa5-c3bd-41ac-832d-99cb31c478a9",
   "metadata": {},
   "outputs": [
    {
     "name": "stdout",
     "output_type": "stream",
     "text": [
      "NAME: moringa stenopetala\n"
     ]
    }
   ],
   "source": [
    "plant_idx = 80\n",
    "species = list(TEST.keys())\n",
    "plant = species[plant_idx]\n",
    "print('NAME:', plant)"
   ]
  },
  {
   "cell_type": "code",
   "execution_count": 76,
   "id": "78fa3667-2156-4dda-8f0d-a454f9f78d2d",
   "metadata": {},
   "outputs": [
    {
     "name": "stdout",
     "output_type": "stream",
     "text": [
      "moringa stenopetala\n"
     ]
    },
    {
     "data": {
      "application/vnd.jupyter.widget-view+json": {
       "model_id": "b6967a83a16a454c84ebcd53460c0dd9",
       "version_major": 2,
       "version_minor": 0
      },
      "text/plain": [
       "  0%|          | 0/39 [00:00<?, ?it/s]"
      ]
     },
     "metadata": {},
     "output_type": "display_data"
    }
   ],
   "source": [
    "#plant = list(data.keys())[1]\n",
    "print(plant)\n",
    "\n",
    "h, w = (len(TEST[plant]), output)\n",
    "\n",
    "logstack = np.empty((h, w), float)\n",
    "probstack = np.empty((h, w), float)\n",
    "logstack_raw = np.empty((h, w), float)\n",
    "\n",
    "for idx, text in enumerate(tqdm_notebook(TEST[plant][0:])):\n",
    "    \n",
    "\n",
    "    probs = WhichPlant(text, model=model)\n",
    "    if idx == 0:\n",
    "        logstack[idx] = probs\n",
    "        probstack[idx] = softmax(probs)\n",
    "        logstack_raw[idx] = probs\n",
    "    else:\n",
    "        logstack[idx] = logstack[idx-1] + probs\n",
    "        probstack[idx] = softmax(logstack[idx-1] + probs)\n",
    "        logstack_raw[idx] = probs"
   ]
  },
  {
   "cell_type": "code",
   "execution_count": 77,
   "id": "70d901cd-0ae5-4add-b8c8-0f1788f69eb9",
   "metadata": {},
   "outputs": [
    {
     "data": {
      "image/png": "[encoded data removed]",
      "text/plain": [
       "<Figure size 720x288 with 1 Axes>"
      ]
     },
     "metadata": {
      "needs_background": "light"
     },
     "output_type": "display_data"
    }
   ],
   "source": [
    "fig, ax = plt.subplots(figsize=(10, 4))\n",
    "for i in range(0, output):\n",
    "    if i == np.where(lb.classes_ == plant)[0][0]:\n",
    "        ax.plot(np.exp(logstack_raw[:, i]), color='blue', alpha=1, markersize=5, zorder=2)\n",
    "    else:\n",
    "        \n",
    "        ax.plot(np.exp(logstack_raw[:, i]), color='red', alpha=0.1, zorder=1)\n",
    "plt.grid()"
   ]
  },
  {
   "cell_type": "code",
   "execution_count": 78,
   "id": "2c7405a9-32d0-4daa-b54c-7dbac5997972",
   "metadata": {},
   "outputs": [
    {
     "data": {
      "image/png": "[encoded data removed]",
      "text/plain": [
       "<Figure size 720x288 with 1 Axes>"
      ]
     },
     "metadata": {
      "needs_background": "light"
     },
     "output_type": "display_data"
    }
   ],
   "source": [
    "fig, ax = plt.subplots(figsize=(10, 4))\n",
    "for i in range(0, output):\n",
    "    if i == np.where(lb.classes_ == plant)[0][0]:\n",
    "        ax.plot(logstack[:, i], color='blue', alpha=1, markersize=5, zorder=2)\n",
    "    else:\n",
    "        \n",
    "        ax.plot(logstack[:, i], color='red', alpha=0.1, zorder=1)\n",
    "plt.grid()"
   ]
  },
  {
   "cell_type": "code",
   "execution_count": 79,
   "id": "288aff7a-e47f-481a-a3f0-951b53954bea",
   "metadata": {},
   "outputs": [
    {
     "data": {
      "application/vnd.jupyter.widget-view+json": {
       "model_id": "90142f19c6f24e75a55999d88085847b",
       "version_major": 2,
       "version_minor": 0
      },
      "text/plain": [
       "  0%|          | 0/227 [00:00<?, ?it/s]"
      ]
     },
     "metadata": {},
     "output_type": "display_data"
    },
    {
     "ename": "IndexError",
     "evalue": "index 0 is out of bounds for axis 0 with size 0",
     "output_type": "error",
     "traceback": [
      "\u001b[0;31m---------------------------------------------------------------------------\u001b[0m",
      "\u001b[0;31mIndexError\u001b[0m                                Traceback (most recent call last)",
      "\u001b[0;32m/var/folders/gp/hp50s5114x52591qbdhn43xm0000gn/T/ipykernel_60670/1037901279.py\u001b[0m in \u001b[0;36m<module>\u001b[0;34m\u001b[0m\n\u001b[1;32m     13\u001b[0m     \u001b[0mprobstack\u001b[0m \u001b[0;34m=\u001b[0m \u001b[0mnp\u001b[0m\u001b[0;34m.\u001b[0m\u001b[0mzeros\u001b[0m\u001b[0;34m(\u001b[0m\u001b[0;34m(\u001b[0m\u001b[0mh\u001b[0m\u001b[0;34m,\u001b[0m \u001b[0mw\u001b[0m\u001b[0;34m)\u001b[0m\u001b[0;34m,\u001b[0m \u001b[0mfloat\u001b[0m\u001b[0;34m)\u001b[0m\u001b[0;34m\u001b[0m\u001b[0;34m\u001b[0m\u001b[0m\n\u001b[1;32m     14\u001b[0m     \u001b[0;31m# Plant index\u001b[0m\u001b[0;34m\u001b[0m\u001b[0;34m\u001b[0m\u001b[0;34m\u001b[0m\u001b[0m\n\u001b[0;32m---> 15\u001b[0;31m     \u001b[0mplantID\u001b[0m \u001b[0;34m=\u001b[0m \u001b[0mnp\u001b[0m\u001b[0;34m.\u001b[0m\u001b[0mwhere\u001b[0m\u001b[0;34m(\u001b[0m\u001b[0mlb\u001b[0m\u001b[0;34m.\u001b[0m\u001b[0mclasses_\u001b[0m \u001b[0;34m==\u001b[0m \u001b[0mplant\u001b[0m\u001b[0;34m)\u001b[0m\u001b[0;34m[\u001b[0m\u001b[0;36m0\u001b[0m\u001b[0;34m]\u001b[0m\u001b[0;34m[\u001b[0m\u001b[0;36m0\u001b[0m\u001b[0;34m]\u001b[0m\u001b[0;34m\u001b[0m\u001b[0;34m\u001b[0m\u001b[0m\n\u001b[0m\u001b[1;32m     16\u001b[0m     \u001b[0;32mtry\u001b[0m\u001b[0;34m:\u001b[0m\u001b[0;34m\u001b[0m\u001b[0;34m\u001b[0m\u001b[0m\n\u001b[1;32m     17\u001b[0m         \u001b[0;32mfor\u001b[0m \u001b[0midx\u001b[0m\u001b[0;34m,\u001b[0m \u001b[0mtext\u001b[0m \u001b[0;32min\u001b[0m \u001b[0menumerate\u001b[0m\u001b[0;34m(\u001b[0m\u001b[0;34m(\u001b[0m\u001b[0mTEST\u001b[0m\u001b[0;34m[\u001b[0m\u001b[0mplant\u001b[0m\u001b[0;34m]\u001b[0m\u001b[0;34m[\u001b[0m\u001b[0;36m0\u001b[0m\u001b[0;34m:\u001b[0m\u001b[0;34m]\u001b[0m\u001b[0;34m)\u001b[0m\u001b[0;34m)\u001b[0m\u001b[0;34m:\u001b[0m\u001b[0;34m\u001b[0m\u001b[0;34m\u001b[0m\u001b[0m\n",
      "\u001b[0;31mIndexError\u001b[0m: index 0 is out of bounds for axis 0 with size 0"
     ]
    }
   ],
   "source": [
    "correct = []\n",
    "incorrect = []\n",
    "\n",
    "\n",
    "for plant in tqdm_notebook(species[0:]):\n",
    "    \n",
    "    h, w = (len(TEST[plant]), output)\n",
    "    \n",
    "    if h < 0:\n",
    "        continue\n",
    "    \n",
    "    logstack = np.zeros((h, w), float)\n",
    "    probstack = np.zeros((h, w), float)\n",
    "    # Plant index\n",
    "    plantID = np.where(lb.classes_ == plant)[0][0]\n",
    "    try:\n",
    "        for idx, text in enumerate((TEST[plant][0:])):\n",
    "\n",
    "            probs = WhichPlant(text, model=model)\n",
    "            if idx == 0:\n",
    "                logstack[idx] = probs\n",
    "                probstack[idx] = softmax(probs)\n",
    "\n",
    "            else:\n",
    "                logstack[idx] = logstack[idx-1] + probs\n",
    "                probstack[idx] = softmax(logstack[idx-1] + probs)\n",
    "            \n",
    "        correct.append(logstack[-1][plantID])\n",
    "        incorrect += list(np.delete(logstack[-1], plantID).mean())\n",
    "    except:\n",
    "        continue\n",
    "    "
   ]
  },
  {
   "cell_type": "code",
   "execution_count": 82,
   "id": "22e7a407-64e8-4b7d-97fd-ab3a4dfe6424",
   "metadata": {},
   "outputs": [
    {
     "data": {
      "text/plain": [
       "'Capparis decidua'"
      ]
     },
     "execution_count": 82,
     "metadata": {},
     "output_type": "execute_result"
    }
   ],
   "source": [
    "'Capparis decidua'"
   ]
  },
  {
   "cell_type": "code",
   "execution_count": 70,
   "id": "cfd7a69a-1c55-4fd5-883e-4cd381e73ce7",
   "metadata": {},
   "outputs": [
    {
     "data": {
      "text/plain": [
       "-2220.4449184015393"
      ]
     },
     "execution_count": 70,
     "metadata": {},
     "output_type": "execute_result"
    }
   ],
   "source": [
    "logstack[-1][plantID]"
   ]
  },
  {
   "cell_type": "code",
   "execution_count": 88,
   "id": "3ab801b0-458a-4ceb-9eb0-86540b070836",
   "metadata": {},
   "outputs": [],
   "source": [
    "correct = np.array(correct)\n",
    "incorrect = np.array(incorrect)"
   ]
  },
  {
   "cell_type": "code",
   "execution_count": 89,
   "id": "9d06e24b-1bd1-4eee-ab6d-93eed53c355c",
   "metadata": {},
   "outputs": [],
   "source": [
    "np.save('../data/plotting/model_pred_correct', correct)\n",
    "np.save('../data/plotting/model_pred_incorrect', incorrect)"
   ]
  },
  {
   "cell_type": "code",
   "execution_count": 70,
   "id": "4fb8fcc2-434f-4b52-ad75-87bfefab41c4",
   "metadata": {},
   "outputs": [],
   "source": [
    "d = {'Yes': correct, 'No': incorrect}\n",
    "df = pd.DataFrame(dict([ (k, pd.Series(v)) for k, v in d.items() ]))\n",
    "df_m = df.melt()"
   ]
  },
  {
   "cell_type": "code",
   "execution_count": 71,
   "id": "31926205-0ca7-4e23-ad06-9a9cc568dcd6",
   "metadata": {},
   "outputs": [
    {
     "data": {
      "text/plain": [
       "MannwhitneyuResult(statistic=14363649.0, pvalue=0.008610153265594446)"
      ]
     },
     "execution_count": 71,
     "metadata": {},
     "output_type": "execute_result"
    }
   ],
   "source": [
    "stats.mannwhitneyu(correct, incorrect, alternative='greater')"
   ]
  },
  {
   "cell_type": "code",
   "execution_count": null,
   "id": "adab04d3-be5d-4e58-9dee-3c9bfe32bf09",
   "metadata": {},
   "outputs": [],
   "source": [
    "stats.wilcoxon(correct, incorrect, alternative='greater')"
   ]
  },
  {
   "cell_type": "code",
   "execution_count": 72,
   "id": "a83ddbb8-8569-4424-9aaf-c7f346a963d3",
   "metadata": {},
   "outputs": [
    {
     "data": {
      "text/plain": [
       "Ttest_indResult(statistic=-0.6572026223352551, pvalue=0.7444740511434962)"
      ]
     },
     "execution_count": 72,
     "metadata": {},
     "output_type": "execute_result"
    }
   ],
   "source": [
    "stats.ttest_ind(correct, incorrect, alternative='greater', equal_var=True)"
   ]
  },
  {
   "cell_type": "code",
   "execution_count": 73,
   "id": "7d13d05a-2bb5-43b7-a78b-65142f5ddb42",
   "metadata": {},
   "outputs": [
    {
     "data": {
      "text/plain": [
       "<AxesSubplot:xlabel='variable', ylabel='value'>"
      ]
     },
     "execution_count": 73,
     "metadata": {},
     "output_type": "execute_result"
    },
    {
     "data": {
      "image/png": "[encoded data removed]",
      "text/plain": [
       "<Figure size 432x288 with 1 Axes>"
      ]
     },
     "metadata": {
      "needs_background": "light"
     },
     "output_type": "display_data"
    }
   ],
   "source": [
    "sns.boxplot(x=\"variable\", y=\"value\", data=df_m, showfliers=False)"
   ]
  },
  {
   "cell_type": "code",
   "execution_count": 74,
   "id": "ebd0b53f-b8d9-479e-8bf9-08ad3198b66e",
   "metadata": {},
   "outputs": [
    {
     "data": {
      "text/plain": [
       "<AxesSubplot:xlabel='value', ylabel='variable'>"
      ]
     },
     "execution_count": 74,
     "metadata": {},
     "output_type": "execute_result"
    },
    {
     "data": {
      "image/png": "[encoded data removed]",
      "text/plain": [
       "<Figure size 720x360 with 1 Axes>"
      ]
     },
     "metadata": {
      "needs_background": "light"
     },
     "output_type": "display_data"
    }
   ],
   "source": [
    "fig, ax = plt.subplots(figsize=(10, 5))\n",
    "\n",
    "sns.boxenplot(x=\"value\", y=\"variable\", data=df_m[df_m['value'] > -3000],\n",
    "             scale='exponential', showfliers=False)"
   ]
  },
  {
   "cell_type": "code",
   "execution_count": null,
   "id": "c8301032-fd1f-44fc-b3eb-1be89e5ac466",
   "metadata": {},
   "outputs": [],
   "source": [
    "df_m[df_m['value'] > -3000]"
   ]
  },
  {
   "cell_type": "code",
   "execution_count": null,
   "id": "dd6ab3cf-d3fc-4670-a5ad-1d5a2515de3d",
   "metadata": {},
   "outputs": [],
   "source": []
  },
  {
   "cell_type": "code",
   "execution_count": null,
   "id": "a8eb6fab-78cc-44df-a008-982424b00b09",
   "metadata": {},
   "outputs": [],
   "source": []
  }
 ],
 "metadata": {
  "kernelspec": {
   "display_name": "Python [conda env:DL]",
   "language": "python",
   "name": "conda-env-DL-py"
  },
  "language_info": {
   "codemirror_mode": {
    "name": "ipython",
    "version": 3
   },
   "file_extension": ".py",
   "mimetype": "text/x-python",
   "name": "python",
   "nbconvert_exporter": "python",
   "pygments_lexer": "ipython3",
   "version": "3.8.10"
  }
 },
 "nbformat": 4,
 "nbformat_minor": 5
}
