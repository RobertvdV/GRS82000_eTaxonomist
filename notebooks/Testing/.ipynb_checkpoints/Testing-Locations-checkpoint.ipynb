{
 "cells": [
  {
   "cell_type": "code",
   "execution_count": 1,
   "id": "94626428-8a20-46e2-b265-3ff556fb1e4e",
   "metadata": {},
   "outputs": [],
   "source": [
    "import numpy as np\n",
    "import pandas as pd\n",
    "import geopandas as gpd\n",
    "import glob\n",
    "from tqdm.notebook import tqdm\n",
    "from bs4 import BeautifulSoup\n",
    "import requests\n",
    "import random\n",
    "import collections\n",
    "import folium"
   ]
  },
  {
   "cell_type": "code",
   "execution_count": 2,
   "id": "8ab580ae-b035-4972-9717-8de8af567874",
   "metadata": {},
   "outputs": [],
   "source": [
    "# Read files\n",
    "HTML_locations = glob.glob('../../data/raw/POWO/*')"
   ]
  },
  {
   "cell_type": "code",
   "execution_count": 3,
   "id": "0918cf7d-886e-41d6-bf2f-e81df2f79b85",
   "metadata": {},
   "outputs": [
    {
     "data": {
      "application/vnd.jupyter.widget-view+json": {
       "model_id": "841c24a844c94bd58ba7195c8e34f156",
       "version_major": 2,
       "version_minor": 0
      },
      "text/plain": [
       "  0%|          | 0/40187 [00:00<?, ?it/s]"
      ]
     },
     "metadata": {},
     "output_type": "display_data"
    },
    {
     "ename": "KeyboardInterrupt",
     "evalue": "",
     "output_type": "error",
     "traceback": [
      "\u001b[0;31m---------------------------------------------------------------------------\u001b[0m",
      "\u001b[0;31mKeyboardInterrupt\u001b[0m                         Traceback (most recent call last)",
      "\u001b[0;32m/var/folders/gp/hp50s5114x52591qbdhn43xm0000gn/T/ipykernel_11272/2398072995.py\u001b[0m in \u001b[0;36m<module>\u001b[0;34m\u001b[0m\n\u001b[1;32m      2\u001b[0m \u001b[0;32mfor\u001b[0m \u001b[0mHTML\u001b[0m \u001b[0;32min\u001b[0m \u001b[0mtqdm\u001b[0m\u001b[0;34m(\u001b[0m\u001b[0mHTML_locations\u001b[0m\u001b[0;34m[\u001b[0m\u001b[0;36m0\u001b[0m\u001b[0;34m:\u001b[0m\u001b[0;34m]\u001b[0m\u001b[0;34m)\u001b[0m\u001b[0;34m:\u001b[0m\u001b[0;34m\u001b[0m\u001b[0;34m\u001b[0m\u001b[0m\n\u001b[1;32m      3\u001b[0m     \u001b[0;32mwith\u001b[0m \u001b[0mopen\u001b[0m\u001b[0;34m(\u001b[0m\u001b[0mHTML\u001b[0m\u001b[0;34m)\u001b[0m \u001b[0;32mas\u001b[0m \u001b[0mf\u001b[0m\u001b[0;34m:\u001b[0m\u001b[0;34m\u001b[0m\u001b[0;34m\u001b[0m\u001b[0m\n\u001b[0;32m----> 4\u001b[0;31m         \u001b[0msoup\u001b[0m \u001b[0;34m=\u001b[0m \u001b[0mBeautifulSoup\u001b[0m\u001b[0;34m(\u001b[0m\u001b[0mf\u001b[0m\u001b[0;34m,\u001b[0m \u001b[0;34m'html.parser'\u001b[0m\u001b[0;34m)\u001b[0m\u001b[0;34m\u001b[0m\u001b[0;34m\u001b[0m\u001b[0m\n\u001b[0m\u001b[1;32m      5\u001b[0m         \u001b[0mspecies\u001b[0m \u001b[0;34m=\u001b[0m \u001b[0mHTML\u001b[0m\u001b[0;34m[\u001b[0m\u001b[0;36m20\u001b[0m\u001b[0;34m:\u001b[0m\u001b[0;34m]\u001b[0m\u001b[0;34m.\u001b[0m\u001b[0msplit\u001b[0m\u001b[0;34m(\u001b[0m\u001b[0;34m' - '\u001b[0m\u001b[0;34m)\u001b[0m\u001b[0;34m[\u001b[0m\u001b[0;36m0\u001b[0m\u001b[0;34m]\u001b[0m\u001b[0;34m\u001b[0m\u001b[0;34m\u001b[0m\u001b[0m\n\u001b[1;32m      6\u001b[0m         \u001b[0mchapters\u001b[0m \u001b[0;34m=\u001b[0m \u001b[0msoup\u001b[0m\u001b[0;34m.\u001b[0m\u001b[0mfind_all\u001b[0m\u001b[0;34m(\u001b[0m\u001b[0;34m'h3'\u001b[0m\u001b[0;34m)\u001b[0m\u001b[0;34m\u001b[0m\u001b[0;34m\u001b[0m\u001b[0m\n",
      "\u001b[0;32m/usr/local/anaconda3/envs/GIS/lib/python3.9/site-packages/bs4/__init__.py\u001b[0m in \u001b[0;36m__init__\u001b[0;34m(self, markup, features, builder, parse_only, from_encoding, exclude_encodings, element_classes, **kwargs)\u001b[0m\n\u001b[1;32m    346\u001b[0m             \u001b[0mself\u001b[0m\u001b[0;34m.\u001b[0m\u001b[0mreset\u001b[0m\u001b[0;34m(\u001b[0m\u001b[0;34m)\u001b[0m\u001b[0;34m\u001b[0m\u001b[0;34m\u001b[0m\u001b[0m\n\u001b[1;32m    347\u001b[0m             \u001b[0;32mtry\u001b[0m\u001b[0;34m:\u001b[0m\u001b[0;34m\u001b[0m\u001b[0;34m\u001b[0m\u001b[0m\n\u001b[0;32m--> 348\u001b[0;31m                 \u001b[0mself\u001b[0m\u001b[0;34m.\u001b[0m\u001b[0m_feed\u001b[0m\u001b[0;34m(\u001b[0m\u001b[0;34m)\u001b[0m\u001b[0;34m\u001b[0m\u001b[0;34m\u001b[0m\u001b[0m\n\u001b[0m\u001b[1;32m    349\u001b[0m                 \u001b[0msuccess\u001b[0m \u001b[0;34m=\u001b[0m \u001b[0;32mTrue\u001b[0m\u001b[0;34m\u001b[0m\u001b[0;34m\u001b[0m\u001b[0m\n\u001b[1;32m    350\u001b[0m                 \u001b[0;32mbreak\u001b[0m\u001b[0;34m\u001b[0m\u001b[0;34m\u001b[0m\u001b[0m\n",
      "\u001b[0;32m/usr/local/anaconda3/envs/GIS/lib/python3.9/site-packages/bs4/__init__.py\u001b[0m in \u001b[0;36m_feed\u001b[0;34m(self)\u001b[0m\n\u001b[1;32m    432\u001b[0m         \u001b[0mself\u001b[0m\u001b[0;34m.\u001b[0m\u001b[0mbuilder\u001b[0m\u001b[0;34m.\u001b[0m\u001b[0mreset\u001b[0m\u001b[0;34m(\u001b[0m\u001b[0;34m)\u001b[0m\u001b[0;34m\u001b[0m\u001b[0;34m\u001b[0m\u001b[0m\n\u001b[1;32m    433\u001b[0m \u001b[0;34m\u001b[0m\u001b[0m\n\u001b[0;32m--> 434\u001b[0;31m         \u001b[0mself\u001b[0m\u001b[0;34m.\u001b[0m\u001b[0mbuilder\u001b[0m\u001b[0;34m.\u001b[0m\u001b[0mfeed\u001b[0m\u001b[0;34m(\u001b[0m\u001b[0mself\u001b[0m\u001b[0;34m.\u001b[0m\u001b[0mmarkup\u001b[0m\u001b[0;34m)\u001b[0m\u001b[0;34m\u001b[0m\u001b[0;34m\u001b[0m\u001b[0m\n\u001b[0m\u001b[1;32m    435\u001b[0m         \u001b[0;31m# Close out any unfinished strings and close all the open tags.\u001b[0m\u001b[0;34m\u001b[0m\u001b[0;34m\u001b[0m\u001b[0m\n\u001b[1;32m    436\u001b[0m         \u001b[0mself\u001b[0m\u001b[0;34m.\u001b[0m\u001b[0mendData\u001b[0m\u001b[0;34m(\u001b[0m\u001b[0;34m)\u001b[0m\u001b[0;34m\u001b[0m\u001b[0;34m\u001b[0m\u001b[0m\n",
      "\u001b[0;32m/usr/local/anaconda3/envs/GIS/lib/python3.9/site-packages/bs4/builder/_htmlparser.py\u001b[0m in \u001b[0;36mfeed\u001b[0;34m(self, markup)\u001b[0m\n\u001b[1;32m    375\u001b[0m         \u001b[0mparser\u001b[0m\u001b[0;34m.\u001b[0m\u001b[0msoup\u001b[0m \u001b[0;34m=\u001b[0m \u001b[0mself\u001b[0m\u001b[0;34m.\u001b[0m\u001b[0msoup\u001b[0m\u001b[0;34m\u001b[0m\u001b[0;34m\u001b[0m\u001b[0m\n\u001b[1;32m    376\u001b[0m         \u001b[0;32mtry\u001b[0m\u001b[0;34m:\u001b[0m\u001b[0;34m\u001b[0m\u001b[0;34m\u001b[0m\u001b[0m\n\u001b[0;32m--> 377\u001b[0;31m             \u001b[0mparser\u001b[0m\u001b[0;34m.\u001b[0m\u001b[0mfeed\u001b[0m\u001b[0;34m(\u001b[0m\u001b[0mmarkup\u001b[0m\u001b[0;34m)\u001b[0m\u001b[0;34m\u001b[0m\u001b[0;34m\u001b[0m\u001b[0m\n\u001b[0m\u001b[1;32m    378\u001b[0m             \u001b[0mparser\u001b[0m\u001b[0;34m.\u001b[0m\u001b[0mclose\u001b[0m\u001b[0;34m(\u001b[0m\u001b[0;34m)\u001b[0m\u001b[0;34m\u001b[0m\u001b[0;34m\u001b[0m\u001b[0m\n\u001b[1;32m    379\u001b[0m         \u001b[0;32mexcept\u001b[0m \u001b[0mHTMLParseError\u001b[0m \u001b[0;32mas\u001b[0m \u001b[0me\u001b[0m\u001b[0;34m:\u001b[0m\u001b[0;34m\u001b[0m\u001b[0;34m\u001b[0m\u001b[0m\n",
      "\u001b[0;32m/usr/local/anaconda3/envs/GIS/lib/python3.9/html/parser.py\u001b[0m in \u001b[0;36mfeed\u001b[0;34m(self, data)\u001b[0m\n\u001b[1;32m    108\u001b[0m         \"\"\"\n\u001b[1;32m    109\u001b[0m         \u001b[0mself\u001b[0m\u001b[0;34m.\u001b[0m\u001b[0mrawdata\u001b[0m \u001b[0;34m=\u001b[0m \u001b[0mself\u001b[0m\u001b[0;34m.\u001b[0m\u001b[0mrawdata\u001b[0m \u001b[0;34m+\u001b[0m \u001b[0mdata\u001b[0m\u001b[0;34m\u001b[0m\u001b[0;34m\u001b[0m\u001b[0m\n\u001b[0;32m--> 110\u001b[0;31m         \u001b[0mself\u001b[0m\u001b[0;34m.\u001b[0m\u001b[0mgoahead\u001b[0m\u001b[0;34m(\u001b[0m\u001b[0;36m0\u001b[0m\u001b[0;34m)\u001b[0m\u001b[0;34m\u001b[0m\u001b[0;34m\u001b[0m\u001b[0m\n\u001b[0m\u001b[1;32m    111\u001b[0m \u001b[0;34m\u001b[0m\u001b[0m\n\u001b[1;32m    112\u001b[0m     \u001b[0;32mdef\u001b[0m \u001b[0mclose\u001b[0m\u001b[0;34m(\u001b[0m\u001b[0mself\u001b[0m\u001b[0;34m)\u001b[0m\u001b[0;34m:\u001b[0m\u001b[0;34m\u001b[0m\u001b[0;34m\u001b[0m\u001b[0m\n",
      "\u001b[0;32m/usr/local/anaconda3/envs/GIS/lib/python3.9/html/parser.py\u001b[0m in \u001b[0;36mgoahead\u001b[0;34m(self, end)\u001b[0m\n\u001b[1;32m    168\u001b[0m             \u001b[0;32mif\u001b[0m \u001b[0mstartswith\u001b[0m\u001b[0;34m(\u001b[0m\u001b[0;34m'<'\u001b[0m\u001b[0;34m,\u001b[0m \u001b[0mi\u001b[0m\u001b[0;34m)\u001b[0m\u001b[0;34m:\u001b[0m\u001b[0;34m\u001b[0m\u001b[0;34m\u001b[0m\u001b[0m\n\u001b[1;32m    169\u001b[0m                 \u001b[0;32mif\u001b[0m \u001b[0mstarttagopen\u001b[0m\u001b[0;34m.\u001b[0m\u001b[0mmatch\u001b[0m\u001b[0;34m(\u001b[0m\u001b[0mrawdata\u001b[0m\u001b[0;34m,\u001b[0m \u001b[0mi\u001b[0m\u001b[0;34m)\u001b[0m\u001b[0;34m:\u001b[0m \u001b[0;31m# < + letter\u001b[0m\u001b[0;34m\u001b[0m\u001b[0;34m\u001b[0m\u001b[0m\n\u001b[0;32m--> 170\u001b[0;31m                     \u001b[0mk\u001b[0m \u001b[0;34m=\u001b[0m \u001b[0mself\u001b[0m\u001b[0;34m.\u001b[0m\u001b[0mparse_starttag\u001b[0m\u001b[0;34m(\u001b[0m\u001b[0mi\u001b[0m\u001b[0;34m)\u001b[0m\u001b[0;34m\u001b[0m\u001b[0;34m\u001b[0m\u001b[0m\n\u001b[0m\u001b[1;32m    171\u001b[0m                 \u001b[0;32melif\u001b[0m \u001b[0mstartswith\u001b[0m\u001b[0;34m(\u001b[0m\u001b[0;34m\"</\"\u001b[0m\u001b[0;34m,\u001b[0m \u001b[0mi\u001b[0m\u001b[0;34m)\u001b[0m\u001b[0;34m:\u001b[0m\u001b[0;34m\u001b[0m\u001b[0;34m\u001b[0m\u001b[0m\n\u001b[1;32m    172\u001b[0m                     \u001b[0mk\u001b[0m \u001b[0;34m=\u001b[0m \u001b[0mself\u001b[0m\u001b[0;34m.\u001b[0m\u001b[0mparse_endtag\u001b[0m\u001b[0;34m(\u001b[0m\u001b[0mi\u001b[0m\u001b[0;34m)\u001b[0m\u001b[0;34m\u001b[0m\u001b[0;34m\u001b[0m\u001b[0m\n",
      "\u001b[0;32m/usr/local/anaconda3/envs/GIS/lib/python3.9/html/parser.py\u001b[0m in \u001b[0;36mparse_starttag\u001b[0;34m(self, i)\u001b[0m\n\u001b[1;32m    342\u001b[0m             \u001b[0mself\u001b[0m\u001b[0;34m.\u001b[0m\u001b[0mhandle_startendtag\u001b[0m\u001b[0;34m(\u001b[0m\u001b[0mtag\u001b[0m\u001b[0;34m,\u001b[0m \u001b[0mattrs\u001b[0m\u001b[0;34m)\u001b[0m\u001b[0;34m\u001b[0m\u001b[0;34m\u001b[0m\u001b[0m\n\u001b[1;32m    343\u001b[0m         \u001b[0;32melse\u001b[0m\u001b[0;34m:\u001b[0m\u001b[0;34m\u001b[0m\u001b[0;34m\u001b[0m\u001b[0m\n\u001b[0;32m--> 344\u001b[0;31m             \u001b[0mself\u001b[0m\u001b[0;34m.\u001b[0m\u001b[0mhandle_starttag\u001b[0m\u001b[0;34m(\u001b[0m\u001b[0mtag\u001b[0m\u001b[0;34m,\u001b[0m \u001b[0mattrs\u001b[0m\u001b[0;34m)\u001b[0m\u001b[0;34m\u001b[0m\u001b[0;34m\u001b[0m\u001b[0m\n\u001b[0m\u001b[1;32m    345\u001b[0m             \u001b[0;32mif\u001b[0m \u001b[0mtag\u001b[0m \u001b[0;32min\u001b[0m \u001b[0mself\u001b[0m\u001b[0;34m.\u001b[0m\u001b[0mCDATA_CONTENT_ELEMENTS\u001b[0m\u001b[0;34m:\u001b[0m\u001b[0;34m\u001b[0m\u001b[0;34m\u001b[0m\u001b[0m\n\u001b[1;32m    346\u001b[0m                 \u001b[0mself\u001b[0m\u001b[0;34m.\u001b[0m\u001b[0mset_cdata_mode\u001b[0m\u001b[0;34m(\u001b[0m\u001b[0mtag\u001b[0m\u001b[0;34m)\u001b[0m\u001b[0;34m\u001b[0m\u001b[0;34m\u001b[0m\u001b[0m\n",
      "\u001b[0;32m/usr/local/anaconda3/envs/GIS/lib/python3.9/site-packages/bs4/builder/_htmlparser.py\u001b[0m in \u001b[0;36mhandle_starttag\u001b[0;34m(self, name, attrs, handle_empty_element)\u001b[0m\n\u001b[1;32m    145\u001b[0m                     \u001b[0mon_dupe\u001b[0m\u001b[0;34m(\u001b[0m\u001b[0mattr_dict\u001b[0m\u001b[0;34m,\u001b[0m \u001b[0mkey\u001b[0m\u001b[0;34m,\u001b[0m \u001b[0mvalue\u001b[0m\u001b[0;34m)\u001b[0m\u001b[0;34m\u001b[0m\u001b[0;34m\u001b[0m\u001b[0m\n\u001b[1;32m    146\u001b[0m             \u001b[0;32melse\u001b[0m\u001b[0;34m:\u001b[0m\u001b[0;34m\u001b[0m\u001b[0;34m\u001b[0m\u001b[0m\n\u001b[0;32m--> 147\u001b[0;31m                 \u001b[0mattr_dict\u001b[0m\u001b[0;34m[\u001b[0m\u001b[0mkey\u001b[0m\u001b[0;34m]\u001b[0m \u001b[0;34m=\u001b[0m \u001b[0mvalue\u001b[0m\u001b[0;34m\u001b[0m\u001b[0;34m\u001b[0m\u001b[0m\n\u001b[0m\u001b[1;32m    148\u001b[0m             \u001b[0mattrvalue\u001b[0m \u001b[0;34m=\u001b[0m \u001b[0;34m'\"\"'\u001b[0m\u001b[0;34m\u001b[0m\u001b[0;34m\u001b[0m\u001b[0m\n\u001b[1;32m    149\u001b[0m         \u001b[0;31m#print(\"START\", name)\u001b[0m\u001b[0;34m\u001b[0m\u001b[0;34m\u001b[0m\u001b[0m\n",
      "\u001b[0;31mKeyboardInterrupt\u001b[0m: "
     ]
    }
   ],
   "source": [
    "plant_locations = collections.defaultdict(list)\n",
    "for HTML in tqdm(HTML_locations[0:]):\n",
    "    with open(HTML) as f:\n",
    "        soup = BeautifulSoup(f, 'html.parser')\n",
    "        species = HTML[20:].split(' - ')[0]\n",
    "        chapters = soup.find_all('h3')\n",
    "        for chapter in chapters:\n",
    "            if chapter.text == 'Native to:' or chapter.text == 'Introduced into:':\n",
    "                tag = chapter\n",
    "                location_tag = list(tag.next_sibling.next_sibling)[0]\n",
    "                location_candidates = location_tag.split('\\n')\n",
    "                for candidate in location_candidates:\n",
    "                    candidate = candidate.strip().replace(',', '')\n",
    "                    if candidate:\n",
    "                        plant_locations[species].append(candidate)\n",
    " "
   ]
  },
  {
   "cell_type": "code",
   "execution_count": null,
   "id": "251459be-dd34-49e8-b47e-3dd6d021bc69",
   "metadata": {},
   "outputs": [],
   "source": [
    "colours = [ \"red\", \"blue\", \"green\", \"yellow\", \"purple\", \"orange\", \"white\",]"
   ]
  },
  {
   "cell_type": "code",
   "execution_count": null,
   "id": "17f362bd-cc43-427c-afa5-1cfb4745fc92",
   "metadata": {},
   "outputs": [],
   "source": [
    "plant_traits = collections.defaultdict(list)\n",
    "for species in plant_locations.keys():\n",
    "    colour = random.choice(colours)\n",
    "    plant_traits[species] = colour\n"
   ]
  },
  {
   "cell_type": "code",
   "execution_count": null,
   "id": "c44dfd20-3856-4aa2-a274-df4375de7bc6",
   "metadata": {},
   "outputs": [],
   "source": [
    "country_traits = collections.defaultdict(list)\n",
    "\n",
    "for species in plant_locations.keys():\n",
    "    for country in plant_locations[species]:\n",
    "        country_traits[country].append(plant_traits[species])"
   ]
  },
  {
   "cell_type": "code",
   "execution_count": null,
   "id": "59c4d5b6-dc30-48fe-91d6-807bc4f272f7",
   "metadata": {},
   "outputs": [],
   "source": [
    "df = pd.DataFrame.from_dict(country_traits, orient='index')\n",
    "df = df.T"
   ]
  },
  {
   "cell_type": "code",
   "execution_count": null,
   "id": "135f493f-98bf-4a17-804e-45d06f433f69",
   "metadata": {},
   "outputs": [],
   "source": [
    "country_list = []\n",
    "for column in df.columns:\n",
    "    series = df[column].value_counts()\n",
    "    trait = series.index[0:1]\n",
    "    amount = series[0]\n",
    "    country_list.append((column, trait))"
   ]
  },
  {
   "cell_type": "code",
   "execution_count": null,
   "id": "9d446076-d118-4e54-9f41-3e28ca0e70be",
   "metadata": {},
   "outputs": [],
   "source": [
    "url = \"https://raw.githubusercontent.com/tdwg/wgsrpd/master/geojson/level3.geojson\"\n",
    "gdf = gpd.read_file(url)\n",
    "\n",
    "gdf.columns = ['Region',\n",
    "              'ISO',\n",
    "              'x2', 'x3',\n",
    "              'geometry']\n",
    "\n",
    "gdf = gdf.drop(columns=['x2', 'x3'])"
   ]
  },
  {
   "cell_type": "code",
   "execution_count": null,
   "id": "f4255d23-2bf0-4514-a13a-a8b9099d5325",
   "metadata": {},
   "outputs": [],
   "source": [
    "gdf.insert(loc=2, column='Trait', value='black')\n",
    "\n",
    "for (country, trait) in country_list:\n",
    "    gdf.at[gdf.loc[gdf['Region'] == country].index, 'Trait'] = trait\n",
    "    "
   ]
  },
  {
   "cell_type": "code",
   "execution_count": null,
   "id": "1be7118e-3f32-467b-af47-ac7a0fbaffe3",
   "metadata": {},
   "outputs": [],
   "source": [
    "gdf"
   ]
  },
  {
   "cell_type": "code",
   "execution_count": null,
   "id": "798637ba-02d8-4059-9011-58deafa44bf8",
   "metadata": {},
   "outputs": [],
   "source": [
    "world = gpd.read_file(gpd.datasets.get_path('naturalearth_lowres'))"
   ]
  },
  {
   "cell_type": "code",
   "execution_count": null,
   "id": "9676ce16-9624-4058-9349-9fad3efa8619",
   "metadata": {},
   "outputs": [],
   "source": [
    "world[world['continent'] == 'South America'].plot()"
   ]
  },
  {
   "cell_type": "code",
   "execution_count": null,
   "id": "aa611488-1077-43a5-934f-cea21d00008d",
   "metadata": {},
   "outputs": [],
   "source": [
    "#SA = gdf.intersection(world[world['continent'] == 'South America'], align=True)\n",
    "\n",
    "\n",
    "SA = gdf.overlay(world[world['continent'] == 'South America'], how='intersection')"
   ]
  },
  {
   "cell_type": "code",
   "execution_count": null,
   "id": "9a015fe8-4019-4bfa-a506-bf4f23b34d38",
   "metadata": {},
   "outputs": [],
   "source": [
    "SA.plot(color=SA[\"Trait\"],\n",
    "           legend=False,\n",
    "           figsize=(15, 10),\n",
    "           missing_kwds={\n",
    "               \"color\": \"lightgrey\",\n",
    "               \"edgecolor\": \"red\",\n",
    "               \"hatch\": \"///\",\n",
    "               \"label\": \"Missing values\",\n",
    "           },\n",
    "          )"
   ]
  },
  {
   "cell_type": "code",
   "execution_count": null,
   "id": "5bec5a21-6a51-4faf-8a9b-8820e1a3ac81",
   "metadata": {},
   "outputs": [],
   "source": [
    "SA = SA.dissolve(by='Region', aggfunc='first')\n",
    "SA['Region'] = SA.index"
   ]
  },
  {
   "cell_type": "code",
   "execution_count": null,
   "id": "de5508d6-ce44-4ad5-8e1d-974cc0879bbf",
   "metadata": {},
   "outputs": [],
   "source": [
    "ax = SA.boundary.plot(figsize=(20, 16))\n",
    "SA.apply(lambda x: ax.annotate(text=x['Trait'], xy=x.geometry.centroid.coords[0], ha='center'), axis=1);"
   ]
  },
  {
   "cell_type": "code",
   "execution_count": null,
   "id": "e7e2bc41-fdf8-4e7a-99ab-01bcd54005a0",
   "metadata": {},
   "outputs": [],
   "source": [
    "m = folium.Map(location=[51.973, 5.655], zoom_start=4, tiles='CartoDB positron')"
   ]
  },
  {
   "cell_type": "code",
   "execution_count": null,
   "id": "e4b6bf17-3120-4069-a509-e7b5beaa3787",
   "metadata": {},
   "outputs": [],
   "source": [
    "for _, r in gdf.iterrows():\n",
    "    sim_geo = gpd.GeoSeries(r['geometry']).simplify(tolerance=0.001)\n",
    "    geo_j = sim_geo.to_json()\n",
    "    geo_j = folium.GeoJson(data=geo_j,\n",
    "                           style_function=lambda x: {'fillColor': 'orange'})\n",
    "    folium.Popup(r['Trait']).add_to(geo_j)\n",
    "    geo_j.add_to(m)\n",
    "\n"
   ]
  },
  {
   "cell_type": "code",
   "execution_count": null,
   "id": "c3cd9c34-86a5-4d5c-8faa-674514cf93d5",
   "metadata": {},
   "outputs": [],
   "source": []
  },
  {
   "cell_type": "code",
   "execution_count": null,
   "id": "6ce8e342-2c41-4e1b-8f8b-78026dc4e2e9",
   "metadata": {},
   "outputs": [],
   "source": []
  },
  {
   "cell_type": "markdown",
   "id": "973badc0-d6f8-4c80-9d92-81b1d253729d",
   "metadata": {},
   "source": [
    "# Word Clouds"
   ]
  },
  {
   "cell_type": "code",
   "execution_count": null,
   "id": "909c6077-d733-42a1-9320-3978281a58f8",
   "metadata": {},
   "outputs": [],
   "source": [
    "import numpy as np\n",
    "import pandas as pd\n",
    "from os import path\n",
    "import cv2\n",
    "from PIL import Image\n",
    "from wordcloud import WordCloud, STOPWORDS, ImageColorGenerator\n",
    "import matplotlib.pyplot as plt\n",
    "%matplotlib inline"
   ]
  },
  {
   "cell_type": "code",
   "execution_count": null,
   "id": "e4766b6e-8b46-4b24-a23f-434138325aa5",
   "metadata": {},
   "outputs": [],
   "source": [
    "text = \"\"\"\n",
    "The European robin was described by Carl Linnaeus in 1758 in the 10th edition of his Systema Naturae under the binomial name Motacilla rubecula.[2] Its specific epithet rubecula is a diminutive derived from the Latin ruber 'red'.[3][4] The genus Erithacus was introduced by French naturalist Georges Cuvier in 1800, giving the bird its current binomial name E. rubecula.[5][6] The genus name Erithacus is from Ancient Greek[7] and refers to an unknown bird, now usually identified as robin.[8]\n",
    "\n",
    "The distinctive orange breast of both sexes contributed to the European robin's original name of \"redbreast\", orange as a colour name being unknown in English until the 16th century, by which time the fruit had been introduced. In the 15th century, when it became popular to give human names to familiar species, the bird came to be known as robin redbreast, which was eventually shortened to robin.[9] As a given name, Robin is originally a diminutive of Robert. Other older English names for the bird include ruddock and robinet. In American literature of the late 19th century, this robin was frequently called the English robin.[10] Dutch roodborstje, French rouge-gorge, German Rotkehlchen, Italian pettirosso, Spanish petirrojo and Portuguese pisco-de-peito-ruivo all refer to the distinctively coloured front.[11]\n",
    "\n",
    "The genus Erithacus previously included the Japanese robin and the Ryukyu robin. These east Asian species were shown in molecular phylogenetic studies to be more similar to a group of other Asian species than to the European robin.[12][13] In a reorganisation of the genera, the Japanese and the Ryukyu robins were moved to the resurrected genus Larvivora leaving the European robin as the sole member of Erithacus.[14] The phylogenetic analysis placed Erithacus in the subfamily Erithacinae, which otherwise contained only African species, but its exact position with respect to the other genera was not resolved.[13]\n",
    "\n",
    "The genus Erithacus was formerly classified as a member of the thrush family (Turdidae) but is now considered to belong to the Old World flycatcher family (Muscicapidae), specifically to the chats (subfamily Saxicolinae) which also include the common nightingale.[15]\n",
    "Subspecies\n",
    "\n",
    "In their large continental Eurasian range, robins vary somewhat, but do not form discrete populations that might be considered subspecies.[16][17] Robin subspecies are mainly distinguished by forming resident populations on islands and in mountainous areas. The robin found in the British Isles and much of western Europe, Erithacus rubecula melophilus, occurs as a vagrant in adjacent regions. E. r. witherbyi from northwest Africa, Corsica, and Sardinia closely resembles melophilus but has shorter wings.[18] The northeasternmost birds, large and fairly washed-out in colour, are E. r. tataricus. In the southeast of its range, E. r. valens of the Crimean Peninsula, E. r. caucasicus of the Caucasus and northern Transcaucasia, and E. r. hyrcanus southeastwards into Iran are generally accepted as significantly distinct.[18] \n",
    "\"\"\""
   ]
  },
  {
   "cell_type": "code",
   "execution_count": null,
   "id": "959ae57c-9772-46b3-8ad9-583205c53b42",
   "metadata": {},
   "outputs": [],
   "source": [
    "# Create and generate a word cloud image:\n",
    "wordcloud = WordCloud(background_color=\"white\").generate(text)\n",
    "\n",
    "# Display the generated image:\n",
    "plt.imshow(wordcloud, interpolation='bilinear')\n",
    "plt.axis(\"off\")\n",
    "#plt.show()\n",
    "plt.savefig(\"output.png\")\n",
    "image = plt.imread(\"output.png\")"
   ]
  },
  {
   "cell_type": "code",
   "execution_count": null,
   "id": "187d4954-37a8-4706-93e4-7c0212e2462b",
   "metadata": {},
   "outputs": [],
   "source": [
    "plot = SA[SA.Region == 'Argentina Northeast'].plot()"
   ]
  },
  {
   "cell_type": "code",
   "execution_count": null,
   "id": "06bf84f6-5efd-4b75-8e1a-98ac03622cce",
   "metadata": {},
   "outputs": [],
   "source": [
    "plot.set_axis_off()\n",
    "fig = plot.get_figure()\n",
    "fig.savefig(\"mask.png\", bbox_inches='tight')\n",
    "mask = plt.imread(\"mask.png\")\n",
    "mask = 255 * mask\n",
    "mask = mask.astype(np.uint8)"
   ]
  },
  {
   "cell_type": "code",
   "execution_count": null,
   "id": "d9fb7131-433e-4778-bffd-3b502acdaa0d",
   "metadata": {},
   "outputs": [],
   "source": [
    "plot = gdf[gdf.Region == 'Netherlands'].plot()\n",
    "plot.set_axis_off()\n",
    "fig = plot.get_figure()\n",
    "fig.savefig(\"mask.png\", bbox_inches='tight')\n",
    "mask = plt.imread(\"mask.png\")\n",
    "mask = 255 * mask\n",
    "mask = mask.astype(np.uint8)"
   ]
  },
  {
   "cell_type": "code",
   "execution_count": null,
   "id": "cdefe791-1db3-4d09-9b36-d46cacec3cff",
   "metadata": {},
   "outputs": [],
   "source": [
    "scale_percent = 500 # percent of original size\n",
    "width = int(mask.shape[1] * scale_percent / 100)\n",
    "height = int(mask.shape[0] * scale_percent / 100)\n",
    "dim = (width, height)\n",
    "\n",
    "\n",
    "mask = cv2.resize(mask, dim, interpolation = cv2.INTER_AREA)"
   ]
  },
  {
   "cell_type": "code",
   "execution_count": null,
   "id": "566d4c66-a1c3-41bd-b3ad-696ac9478f60",
   "metadata": {},
   "outputs": [],
   "source": [
    "wordcloud = WordCloud(max_font_size=100, \n",
    "                      max_words=100,\n",
    "                      width=1600, height=800,\n",
    "                      background_color=\"black\",\n",
    "                     mask=mask).generate(text)\n",
    "\n",
    "# Display the generated image:\n",
    "plt.figure( figsize=(10, 10), facecolor='k' )\n",
    "\n",
    "plt.imshow(wordcloud, interpolation='bilinear')\n",
    "plt.tight_layout(pad=0)\n",
    "plt.axis(\"off\")\n",
    "plt.savefig('wordcloud.png', facecolor='k', bbox_inches='tight',)\n",
    "#plt.show()"
   ]
  },
  {
   "cell_type": "code",
   "execution_count": null,
   "id": "33e01c54-b1fd-41d0-83bf-94eeae63fcc8",
   "metadata": {},
   "outputs": [],
   "source": []
  }
 ],
 "metadata": {
  "kernelspec": {
   "display_name": "Python [conda env:GIS]",
   "language": "python",
   "name": "conda-env-GIS-py"
  },
  "language_info": {
   "codemirror_mode": {
    "name": "ipython",
    "version": 3
   },
   "file_extension": ".py",
   "mimetype": "text/x-python",
   "name": "python",
   "nbconvert_exporter": "python",
   "pygments_lexer": "ipython3",
   "version": "3.9.7"
  }
 },
 "nbformat": 4,
 "nbformat_minor": 5
}
