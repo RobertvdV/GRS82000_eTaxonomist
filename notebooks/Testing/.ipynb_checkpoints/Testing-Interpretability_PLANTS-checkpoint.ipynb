{
 "cells": [
  {
   "cell_type": "code",
   "execution_count": 1,
   "id": "df29250a-0f6b-4dd4-8a60-ad598a844905",
   "metadata": {},
   "outputs": [],
   "source": [
    "import numpy as np\n",
    "import torch\n",
    "import torch.nn as nn\n",
    "from IPython.display import display, HTML\n",
    "from transformers import DistilBertModel, DistilBertTokenizer, logging\n",
    "import matplotlib\n",
    "import matplotlib.pyplot as plt\n",
    "from tqdm.notebook import tqdm as tqdm_notebook\n",
    "import spacy\n",
    "from spacy import displacy\n",
    "import seaborn as sns\n",
    "import pandas as pd\n",
    "import numpy as np\n",
    "import collections\n",
    "import glob\n",
    "import pickle\n",
    "import re\n",
    "from bs4 import BeautifulSoup\n",
    "import requests\n",
    "from sklearn.metrics.pairwise import cosine_similarity\n",
    "nlp = spacy.load('en_core_web_trf')\n",
    "logging.set_verbosity_error()\n",
    "\n",
    "import sys\n",
    "sys.path.insert(0, '../../src/models/')\n",
    "sys.path.insert(0, '../../src/features/')\n",
    "\n",
    "from build_features import similarity_matrix as vector_values\n",
    "from predict_model import load_PLANT_Bert, load_simBERT\n",
    "\n",
    "%matplotlib inline"
   ]
  },
  {
   "cell_type": "code",
   "execution_count": 2,
   "id": "ac758039-851a-4b2f-bdd8-222ca761432e",
   "metadata": {},
   "outputs": [],
   "source": [
    "device = torch.device(\"cuda:0\" if torch.cuda.is_available() else \"cpu\")"
   ]
  },
  {
   "cell_type": "code",
   "execution_count": 3,
   "id": "b83449d7-7f0a-476f-bca1-8b991faa5f3c",
   "metadata": {},
   "outputs": [
    {
     "name": "stdout",
     "output_type": "stream",
     "text": [
      "Local Success\n"
     ]
    }
   ],
   "source": [
    "model = load_PLANT_Bert(\"../../models/\", 'saved_weights_CUB_PLANTS_7584.pt')\n",
    "#SIMmodel = load_simBERT()\n",
    "tokenizer = DistilBertTokenizer.from_pretrained('distilbert-base-uncased')"
   ]
  },
  {
   "cell_type": "code",
   "execution_count": 35,
   "id": "5d50367d-7c72-4d97-a7a6-6e33e9664650",
   "metadata": {},
   "outputs": [],
   "source": [
    "ref_token_id = tokenizer.pad_token_id # A token used for generating token reference\n",
    "sep_token_id = tokenizer.sep_token_id # A token used as a separator between question and text and it is also added to the end of the text.\n",
    "cls_token_id = tokenizer.cls_token_id # A token used for prepending to the concatenated question-text word sequence\n",
    "\n",
    "# Modify the prediction output and define a custom forward\n",
    "def predict(inputs, attentions):\n",
    "    return model(input_ids=inputs, attention_mask=attentions)[0]\n",
    "\n",
    "def custom_forward(inputs, attentions):\n",
    "    preds = predict(inputs, attentions)\n",
    "    return torch.exp(preds)\n",
    "\n",
    "# Tokenize functions\n",
    "def construct_input_ref_pair(text, ref_token_id, sep_token_id, cls_token_id):\n",
    "\n",
    "    text_ids = tokenizer.encode(text, add_special_tokens=False)\n",
    "    # construct input token ids\n",
    "    input_ids = [cls_token_id] + text_ids + [sep_token_id]\n",
    "    # construct reference token ids \n",
    "    ref_input_ids = [cls_token_id] + [ref_token_id] * len(text_ids) + [sep_token_id]\n",
    "\n",
    "    return torch.tensor([input_ids], device=device), torch.tensor([ref_input_ids], device=device), len(text_ids)\n",
    "\n",
    "def construct_input_ref_token_type_pair(input_ids, sep_ind=0):\n",
    "    seq_len = input_ids.size(1)\n",
    "    token_type_ids = torch.tensor([[0 if i <= sep_ind else 1 for i in range(seq_len)]], device=device)\n",
    "    ref_token_type_ids = torch.zeros_like(token_type_ids, device=device)# * -1\n",
    "    return token_type_ids, ref_token_type_ids\n",
    "\n",
    "def construct_input_ref_pos_id_pair(input_ids):\n",
    "    seq_length = input_ids.size(1)\n",
    "    position_ids = torch.arange(seq_length, dtype=torch.long, device=device)\n",
    "    # we could potentially also use random permutation with `torch.randperm(seq_length, device=device)`\n",
    "    ref_position_ids = torch.zeros(seq_length, dtype=torch.long, device=device)\n",
    "\n",
    "    position_ids = position_ids.unsqueeze(0).expand_as(input_ids)\n",
    "    ref_position_ids = ref_position_ids.unsqueeze(0).expand_as(input_ids)\n",
    "    return position_ids, ref_position_ids\n",
    "    \n",
    "def construct_attention_mask(input_ids):\n",
    "    return torch.ones_like(input_ids)\n",
    "\n",
    "# Summarize and vis functions\n",
    "def summarize_attributions_ig(attributions):\n",
    "    attributions = attributions.sum(dim=-1).squeeze(0)\n",
    "    attributions = attributions / torch.norm(attributions)\n",
    "    return attributions\n",
    "\n",
    "def summarize_attributions_occ(attributions):\n",
    "    return attributions.sum(axis=0)\n",
    "\n",
    "def token_to_words(attribution, tokens):\n",
    "    \n",
    "    words = []\n",
    "    attributes = []\n",
    "\n",
    "    for attribute, word in zip(attribution, tokens):\n",
    "\n",
    "        attribute = attribute.cpu().detach().numpy()\n",
    "        if word == '[CLS]' or word == '[SEP]':\n",
    "            words.append(word)\n",
    "            attributes.append([attribute])\n",
    "        elif not word.startswith('##'):\n",
    "            words.append(word)\n",
    "            attributes.append([attribute])\n",
    "        elif word.startswith('##'):\n",
    "            words[-1] += word.strip('##')\n",
    "            attributes[-1] = np.append(attributes[-1], attribute)\n",
    "\n",
    "    attribution = [np.sum(mean) for mean in attributes]\n",
    "    return attribution, words\n",
    "\n",
    "def colorize(attribution, tokens):\n",
    "    \n",
    "    template = \"\"\"  \n",
    "    <mark class=\"entity\" style=\" background: {}; padding: 0.4em 0.0em; margin: 0.0em; line-height: 2; \n",
    "    border-radius: 0.0em; \">{}<span style=\" font-size: 0.8em;  font-weight: bold;  line-height: 1; \n",
    "    border-radius: 0.0em; text-align-last:center; vertical-align: middle; margin-left: 0rem; \"></span></mark>\n",
    "    \"\"\"\n",
    "\n",
    "    colored_string = ''\n",
    "    normalized_and_mapped = matplotlib.cm.ScalarMappable(cmap=matplotlib.cm.Greens).to_rgba(attribution)\n",
    "    for idx, (word, color) in enumerate(zip(tokens, normalized_and_mapped)):\n",
    "        \n",
    "        word = word + ' '\n",
    "        color = matplotlib.colors.rgb2hex(color[:3])\n",
    "        if word.strip() == '[CLS]' or word.strip() == '[SEP]': \n",
    "            color = '#ffffff'\n",
    "        #print(color)\n",
    "        colored_string += template.format(color, word)\n",
    "\n",
    "    return colored_string\n",
    "\n",
    "def explain(word):\n",
    "    \n",
    "    data = collections.defaultdict(list)\n",
    "       \n",
    "    # tokenize\n",
    "    input_ids, ref_input_ids, sep_id = construct_input_ref_pair(word, ref_token_id, sep_token_id, cls_token_id)\n",
    "    token_type_ids, ref_token_type_ids = construct_input_ref_token_type_pair(input_ids, sep_id)\n",
    "    position_ids, ref_position_ids = construct_input_ref_pos_id_pair(input_ids)\n",
    "    attention_mask = construct_attention_mask(input_ids)\n",
    "    indices = input_ids[0].type(torch.LongTensor)\n",
    "    all_tokens = tokenizer.convert_ids_to_tokens(indices)\n",
    "    \n",
    "    #### Occlusion maps (3, 2)\n",
    "    attribution_occ2 = occ.attribute(inputs=(input_ids, attention_mask),\n",
    "                                sliding_window_shapes=(tuple([3,]), tuple([3,])), \n",
    "                                strides=(2, 2), \n",
    "                                baselines=(ref_input_ids, attention_mask),)\n",
    "    attribution_occ2_sum = summarize_attributions_occ(attribution_occ2[0])\n",
    "    attributions_occ2_words, words = token_to_words(attribution_occ2_sum, all_tokens)\n",
    "    data['Occlusion'] = attributions_occ2_words\n",
    "    data['Words'] = words\n",
    "    ####\n",
    "    \n",
    "    return data"
   ]
  },
  {
   "cell_type": "code",
   "execution_count": 36,
   "id": "ec4b5ed7-5071-443a-977f-272d6d0727a7",
   "metadata": {},
   "outputs": [],
   "source": [
    "from captum.attr import Occlusion\n",
    "occ = Occlusion(custom_forward)"
   ]
  },
  {
   "cell_type": "code",
   "execution_count": 37,
   "id": "6e1b5e41-e479-438c-a7d4-b8807024c453",
   "metadata": {},
   "outputs": [],
   "source": [
    "# Single Example\n",
    "string = 'Green leaves with spikelets.'\n",
    "data = explain(string)"
   ]
  },
  {
   "cell_type": "code",
   "execution_count": 39,
   "id": "e7527ab8-e3a0-420a-9796-9d3eb092cffe",
   "metadata": {},
   "outputs": [
    {
     "data": {
      "text/plain": [
       "defaultdict(list,\n",
       "            {'Occlusion': [-3.5762787e-07,\n",
       "              -3.5762787e-07,\n",
       "              1.937151e-07,\n",
       "              7.4505806e-08,\n",
       "              -5.9604645e-07,\n",
       "              -2.8312206e-07,\n",
       "              -3.7252903e-07],\n",
       "             'Words': ['[CLS]',\n",
       "              'green',\n",
       "              'leaves',\n",
       "              'with',\n",
       "              'spikelets',\n",
       "              '.',\n",
       "              '[SEP]']})"
      ]
     },
     "execution_count": 39,
     "metadata": {},
     "output_type": "execute_result"
    }
   ],
   "source": [
    "data"
   ]
  },
  {
   "cell_type": "code",
   "execution_count": 41,
   "id": "5da00d80-7602-4bf8-9c08-fe0d2bf60654",
   "metadata": {},
   "outputs": [
    {
     "data": {
      "text/html": [
       "  \n",
       "    <mark class=\"entity\" style=\" background: #ffffff; padding: 0.4em 0.0em; margin: 0.0em; line-height: 2; \n",
       "    border-radius: 0.0em; \">[CLS] <span style=\" font-size: 0.8em;  font-weight: bold;  line-height: 1; \n",
       "    border-radius: 0.0em; text-align-last:center; vertical-align: middle; margin-left: 0rem; \"></span></mark>\n",
       "      \n",
       "    <mark class=\"entity\" style=\" background: #b7e2b1; padding: 0.4em 0.0em; margin: 0.0em; line-height: 2; \n",
       "    border-radius: 0.0em; \">green <span style=\" font-size: 0.8em;  font-weight: bold;  line-height: 1; \n",
       "    border-radius: 0.0em; text-align-last:center; vertical-align: middle; margin-left: 0rem; \"></span></mark>\n",
       "      \n",
       "    <mark class=\"entity\" style=\" background: #00441b; padding: 0.4em 0.0em; margin: 0.0em; line-height: 2; \n",
       "    border-radius: 0.0em; \">leaves <span style=\" font-size: 0.8em;  font-weight: bold;  line-height: 1; \n",
       "    border-radius: 0.0em; text-align-last:center; vertical-align: middle; margin-left: 0rem; \"></span></mark>\n",
       "      \n",
       "    <mark class=\"entity\" style=\" background: #077331; padding: 0.4em 0.0em; margin: 0.0em; line-height: 2; \n",
       "    border-radius: 0.0em; \">with <span style=\" font-size: 0.8em;  font-weight: bold;  line-height: 1; \n",
       "    border-radius: 0.0em; text-align-last:center; vertical-align: middle; margin-left: 0rem; \"></span></mark>\n",
       "      \n",
       "    <mark class=\"entity\" style=\" background: #f7fcf5; padding: 0.4em 0.0em; margin: 0.0em; line-height: 2; \n",
       "    border-radius: 0.0em; \">spikelets <span style=\" font-size: 0.8em;  font-weight: bold;  line-height: 1; \n",
       "    border-radius: 0.0em; text-align-last:center; vertical-align: middle; margin-left: 0rem; \"></span></mark>\n",
       "      \n",
       "    <mark class=\"entity\" style=\" background: #99d595; padding: 0.4em 0.0em; margin: 0.0em; line-height: 2; \n",
       "    border-radius: 0.0em; \">. <span style=\" font-size: 0.8em;  font-weight: bold;  line-height: 1; \n",
       "    border-radius: 0.0em; text-align-last:center; vertical-align: middle; margin-left: 0rem; \"></span></mark>\n",
       "      \n",
       "    <mark class=\"entity\" style=\" background: #ffffff; padding: 0.4em 0.0em; margin: 0.0em; line-height: 2; \n",
       "    border-radius: 0.0em; \">[SEP] <span style=\" font-size: 0.8em;  font-weight: bold;  line-height: 1; \n",
       "    border-radius: 0.0em; text-align-last:center; vertical-align: middle; margin-left: 0rem; \"></span></mark>\n",
       "    "
      ],
      "text/plain": [
       "<IPython.core.display.HTML object>"
      ]
     },
     "metadata": {},
     "output_type": "display_data"
    }
   ],
   "source": [
    "string = colorize(data['Occlusion'], words)\n",
    "display(HTML(string))"
   ]
  },
  {
   "cell_type": "code",
   "execution_count": 19,
   "id": "4669048e-bd8b-442f-b3de-6c055900589e",
   "metadata": {},
   "outputs": [],
   "source": [
    "# URL\n",
    "URL = 'https://en.wikipedia.org/wiki/Glossary_of_botanical_terms'\n",
    "# Get the page\n",
    "page = requests.get(URL, timeout=5)\n",
    "soup = BeautifulSoup(page.content, \"lxml\", from_encoding=\"iso-8859-1\")   \n",
    "# Find embedded glossary\n",
    "glossaries = soup.find_all('dt', {'class': 'glossary'})\n",
    "parts = [part.text.lower().strip() for part in glossaries]\n",
    "# Get additional anchors (\"also know as...\")\n",
    "glossaries_other = soup.find_all('span', {'class': 'anchor'})\n",
    "parts_other = [part['id'].lower().strip() for part in glossaries_other]\n",
    "# Append and drop duplicates\n",
    "parts = list(set((parts + parts_other)))\n",
    "# Replace underscore with space\n",
    "parts = [part.replace('_', ' ') for part in parts]"
   ]
  },
  {
   "cell_type": "code",
   "execution_count": 23,
   "id": "5ad702dc-c315-4909-83d1-e3f79bfed020",
   "metadata": {},
   "outputs": [
    {
     "data": {
      "text/plain": [
       "1064"
      ]
     },
     "execution_count": 23,
     "metadata": {},
     "output_type": "execute_result"
    }
   ],
   "source": [
    "parts.index('leaf')"
   ]
  },
  {
   "cell_type": "code",
   "execution_count": 25,
   "id": "4b8fa3c5-c2c6-4a16-8e13-b1f15d720373",
   "metadata": {},
   "outputs": [],
   "source": [
    "PLANTS_dict = pickle.load(open('../../data/description/04_TRAIN_0000000-0007584_PLANTS.pkl', 'rb'))"
   ]
  },
  {
   "cell_type": "code",
   "execution_count": 29,
   "id": "d8548e2e-5330-444a-9b32-893c468ce946",
   "metadata": {},
   "outputs": [],
   "source": [
    "PLANTS_list = list(PLANTS_dict.keys())"
   ]
  },
  {
   "cell_type": "code",
   "execution_count": 32,
   "id": "96bf50e0-e3e5-45f3-9bc7-74ae15c84531",
   "metadata": {},
   "outputs": [
    {
     "data": {
      "text/plain": [
       "['Rhachilla internodes elongated below proximal fertile floret.',\n",
       " 'Culms 30-60 cm long, 3-6 -noded.',\n",
       " 'Ligule a fringe of hairs, 0.5 mm long.',\n",
       " 'Fertile spikelets pedicelled, 2 in the cluster.',\n",
       " 'Leaf-blades flat, or conduplicate, 6-11 cm long, 3-4 mm wide.',\n",
       " 'Caryopsis with adherent pericarp, ellipsoid, 1.5-1.75 mm long, dark brown.',\n",
       " 'Upper glume lateral veins ribbed.',\n",
       " 'Upper glume oblong, 1 length of spikelet, membranous, without keels, 5-7 -veined.',\n",
       " 'Lemma of lower sterile floret similar to upper glume, ovate, 1 length of spikelet, scarious, 5 -veined, sulcate, glabrous, or hispid, acuminate.',\n",
       " 'Lower glume apex acute, muticous, or mucronate.']"
      ]
     },
     "execution_count": 32,
     "metadata": {},
     "output_type": "execute_result"
    }
   ],
   "source": [
    "PLANTS_dict['hiteochloa semitonsa'][0:10]"
   ]
  },
  {
   "cell_type": "code",
   "execution_count": 43,
   "id": "37f801ed-d932-4537-8882-008014532570",
   "metadata": {},
   "outputs": [
    {
     "data": {
      "application/vnd.jupyter.widget-view+json": {
       "model_id": "0c9b3069283140b38a968732ed8ec414",
       "version_major": 2,
       "version_minor": 0
      },
      "text/plain": [
       "Plant:   0%|          | 0/3 [00:00<?, ?it/s]"
      ]
     },
     "metadata": {},
     "output_type": "display_data"
    },
    {
     "data": {
      "application/vnd.jupyter.widget-view+json": {
       "model_id": "",
       "version_major": 2,
       "version_minor": 0
      },
      "text/plain": [
       "Sentences:   0%|          | 0/5 [00:00<?, ?it/s]"
      ]
     },
     "metadata": {},
     "output_type": "display_data"
    },
    {
     "data": {
      "application/vnd.jupyter.widget-view+json": {
       "model_id": "",
       "version_major": 2,
       "version_minor": 0
      },
      "text/plain": [
       "Sentences:   0%|          | 0/5 [00:00<?, ?it/s]"
      ]
     },
     "metadata": {},
     "output_type": "display_data"
    },
    {
     "data": {
      "application/vnd.jupyter.widget-view+json": {
       "model_id": "",
       "version_major": 2,
       "version_minor": 0
      },
      "text/plain": [
       "Sentences:   0%|          | 0/5 [00:00<?, ?it/s]"
      ]
     },
     "metadata": {},
     "output_type": "display_data"
    }
   ],
   "source": [
    "attribution = collections.defaultdict(list)\n",
    "idx = 0\n",
    "\n",
    "# Loop over common birds\n",
    "for plant in tqdm_notebook(PLANTS_list[0:3], desc='Plant'):\n",
    "    # Get descriptions\n",
    "    text_list = [data for data in PLANTS_dict[plant]]\n",
    "    # Get attribution values\n",
    "    for text in tqdm_notebook(text_list[0:5], desc='Sentences', leave=False):\n",
    "        d = explain(text)\n",
    "        d['Sentence'] = len(d['Words']) * [idx]\n",
    "        d['Plant'] = len(d['Words']) * [plant]\n",
    "        for key in d.keys():\n",
    "            attribution[key] += d[key]\n",
    "        \n",
    "        idx += 1"
   ]
  },
  {
   "cell_type": "code",
   "execution_count": 60,
   "id": "561b0e42-0f17-4538-a8b6-9c2d4033fb06",
   "metadata": {},
   "outputs": [
    {
     "data": {
      "application/vnd.jupyter.widget-view+json": {
       "model_id": "ed7287a22f134c22a96350f45d920019",
       "version_major": 2,
       "version_minor": 0
      },
      "text/plain": [
       "  0%|          | 0/15 [00:00<?, ?it/s]"
      ]
     },
     "metadata": {},
     "output_type": "display_data"
    }
   ],
   "source": [
    "# Drop into a df\n",
    "df_attribution = pd.DataFrame.from_dict(attribution)\n",
    "\n",
    "data_random = []\n",
    "# Extract highest attributions\n",
    "for idx in tqdm_notebook(df_attribution['Sentence'].unique()):\n",
    "#for idx in range(50, 51):\n",
    "    #doc = nlp(text_list[idx])\n",
    "    doc = nlp(' '.join(df_attribution[df_attribution['Sentence'] == idx]['Words']))\n",
    "    if len(doc) <= 3:\n",
    "        continue\n",
    "    # Check single\n",
    "    words = [chunk.root.lemma_.lower() for chunk in doc.noun_chunks] \n",
    "    # Check multiple\n",
    "    words += [chunk.root.text.lower() for chunk in doc.noun_chunks]\n",
    "    # Drop duplicate\n",
    "    words = list(set(words))\n",
    "    #print(words)\n",
    "    #print(words)\n",
    "    traits =  set(words) & set(parts)\n",
    "    #print(traits)\n",
    "    if traits:\n",
    "        # Yield the traits\n",
    "        trait_list = list(traits)\n",
    "        #print(trait_list)\n",
    "        \n",
    "        for trait in trait_list[0:1]:\n",
    "            #for column in df_attribution.columns[1:-2]:\n",
    "                #print(column)\n",
    "            index = df_attribution[df_attribution['Sentence'] == idx]['Occlusion'].sort_values(ascending=False)\n",
    "            data_random.append((idx, df_attribution.iloc[index.index[0]].Words, trait, df_attribution.iloc[index.index[0]].Plant))"
   ]
  },
  {
   "cell_type": "code",
   "execution_count": 62,
   "id": "d7ca4246-e217-4fdb-b5be-ee9deb8d2d9f",
   "metadata": {},
   "outputs": [
    {
     "data": {
      "text/plain": [
       "[(0, 'internodes', 'floret', 'hiteochloa semitonsa'),\n",
       " (2, 'ligule', 'hair', 'hiteochloa semitonsa'),\n",
       " (3, 'pedicelled', 'spikelet', 'hiteochloa semitonsa'),\n",
       " (4, ',', 'blade', 'hiteochloa semitonsa'),\n",
       " (6, ',', 'glumes', 'Iseilema arguta'),\n",
       " (7, 'awn', 'column', 'Iseilema arguta'),\n",
       " (8, ',', 'spikelet', 'Iseilema arguta'),\n",
       " (9, 'elliptic', 'spikelet', 'Iseilema arguta'),\n",
       " (10, 'aristida', 'kingdom', 'Aristida pubescens'),\n",
       " (12, 'florets', 'floret', 'Aristida pubescens'),\n",
       " (13, 'scabrous', 'vein', 'Aristida pubescens'),\n",
       " (14, 'principal', 'awn', 'Aristida pubescens')]"
      ]
     },
     "execution_count": 62,
     "metadata": {},
     "output_type": "execute_result"
    }
   ],
   "source": [
    "data_random"
   ]
  },
  {
   "cell_type": "code",
   "execution_count": 63,
   "id": "57ba4a31-3c3a-484a-a018-14221c1dc399",
   "metadata": {},
   "outputs": [],
   "source": [
    "df_random = pd.DataFrame(data_random, columns =['Sentence', 'Adjective', 'Part', 'Plant'])"
   ]
  },
  {
   "cell_type": "code",
   "execution_count": 67,
   "id": "4b5c35bc-07ff-4982-95d8-acc1e3f058bc",
   "metadata": {},
   "outputs": [
    {
     "data": {
      "text/html": [
       "<div>\n",
       "<style scoped>\n",
       "    .dataframe tbody tr th:only-of-type {\n",
       "        vertical-align: middle;\n",
       "    }\n",
       "\n",
       "    .dataframe tbody tr th {\n",
       "        vertical-align: top;\n",
       "    }\n",
       "\n",
       "    .dataframe thead th {\n",
       "        text-align: right;\n",
       "    }\n",
       "</style>\n",
       "<table border=\"1\" class=\"dataframe\">\n",
       "  <thead>\n",
       "    <tr style=\"text-align: right;\">\n",
       "      <th></th>\n",
       "      <th>Occlusion</th>\n",
       "      <th>Words</th>\n",
       "      <th>Sentence</th>\n",
       "      <th>Plant</th>\n",
       "    </tr>\n",
       "  </thead>\n",
       "  <tbody>\n",
       "    <tr>\n",
       "      <th>215</th>\n",
       "      <td>8.381903e-09</td>\n",
       "      <td>[CLS]</td>\n",
       "      <td>13</td>\n",
       "      <td>Aristida pubescens</td>\n",
       "    </tr>\n",
       "    <tr>\n",
       "      <th>216</th>\n",
       "      <td>8.381903e-09</td>\n",
       "      <td>upper</td>\n",
       "      <td>13</td>\n",
       "      <td>Aristida pubescens</td>\n",
       "    </tr>\n",
       "    <tr>\n",
       "      <th>217</th>\n",
       "      <td>5.587935e-09</td>\n",
       "      <td>glume</td>\n",
       "      <td>13</td>\n",
       "      <td>Aristida pubescens</td>\n",
       "    </tr>\n",
       "    <tr>\n",
       "      <th>218</th>\n",
       "      <td>1.229346e-07</td>\n",
       "      <td>primary</td>\n",
       "      <td>13</td>\n",
       "      <td>Aristida pubescens</td>\n",
       "    </tr>\n",
       "    <tr>\n",
       "      <th>219</th>\n",
       "      <td>2.328306e-07</td>\n",
       "      <td>vein</td>\n",
       "      <td>13</td>\n",
       "      <td>Aristida pubescens</td>\n",
       "    </tr>\n",
       "    <tr>\n",
       "      <th>220</th>\n",
       "      <td>1.016539e-06</td>\n",
       "      <td>scabrous</td>\n",
       "      <td>13</td>\n",
       "      <td>Aristida pubescens</td>\n",
       "    </tr>\n",
       "    <tr>\n",
       "      <th>221</th>\n",
       "      <td>1.869630e-07</td>\n",
       "      <td>.</td>\n",
       "      <td>13</td>\n",
       "      <td>Aristida pubescens</td>\n",
       "    </tr>\n",
       "    <tr>\n",
       "      <th>222</th>\n",
       "      <td>3.367313e-08</td>\n",
       "      <td>[SEP]</td>\n",
       "      <td>13</td>\n",
       "      <td>Aristida pubescens</td>\n",
       "    </tr>\n",
       "  </tbody>\n",
       "</table>\n",
       "</div>"
      ],
      "text/plain": [
       "        Occlusion     Words  Sentence               Plant\n",
       "215  8.381903e-09     [CLS]        13  Aristida pubescens\n",
       "216  8.381903e-09     upper        13  Aristida pubescens\n",
       "217  5.587935e-09     glume        13  Aristida pubescens\n",
       "218  1.229346e-07   primary        13  Aristida pubescens\n",
       "219  2.328306e-07      vein        13  Aristida pubescens\n",
       "220  1.016539e-06  scabrous        13  Aristida pubescens\n",
       "221  1.869630e-07         .        13  Aristida pubescens\n",
       "222  3.367313e-08     [SEP]        13  Aristida pubescens"
      ]
     },
     "execution_count": 67,
     "metadata": {},
     "output_type": "execute_result"
    }
   ],
   "source": [
    "df_attribution[df_attribution['Sentence'] == 13]"
   ]
  },
  {
   "cell_type": "code",
   "execution_count": 66,
   "id": "a1e87320-4d7b-40af-8fd1-30926b542247",
   "metadata": {},
   "outputs": [
    {
     "data": {
      "text/html": [
       "<div>\n",
       "<style scoped>\n",
       "    .dataframe tbody tr th:only-of-type {\n",
       "        vertical-align: middle;\n",
       "    }\n",
       "\n",
       "    .dataframe tbody tr th {\n",
       "        vertical-align: top;\n",
       "    }\n",
       "\n",
       "    .dataframe thead th {\n",
       "        text-align: right;\n",
       "    }\n",
       "</style>\n",
       "<table border=\"1\" class=\"dataframe\">\n",
       "  <thead>\n",
       "    <tr style=\"text-align: right;\">\n",
       "      <th></th>\n",
       "      <th>Sentence</th>\n",
       "      <th>Adjective</th>\n",
       "      <th>Part</th>\n",
       "      <th>Plant</th>\n",
       "    </tr>\n",
       "  </thead>\n",
       "  <tbody>\n",
       "    <tr>\n",
       "      <th>0</th>\n",
       "      <td>0</td>\n",
       "      <td>internodes</td>\n",
       "      <td>floret</td>\n",
       "      <td>hiteochloa semitonsa</td>\n",
       "    </tr>\n",
       "    <tr>\n",
       "      <th>1</th>\n",
       "      <td>2</td>\n",
       "      <td>ligule</td>\n",
       "      <td>hair</td>\n",
       "      <td>hiteochloa semitonsa</td>\n",
       "    </tr>\n",
       "    <tr>\n",
       "      <th>2</th>\n",
       "      <td>3</td>\n",
       "      <td>pedicelled</td>\n",
       "      <td>spikelet</td>\n",
       "      <td>hiteochloa semitonsa</td>\n",
       "    </tr>\n",
       "    <tr>\n",
       "      <th>3</th>\n",
       "      <td>4</td>\n",
       "      <td>,</td>\n",
       "      <td>blade</td>\n",
       "      <td>hiteochloa semitonsa</td>\n",
       "    </tr>\n",
       "    <tr>\n",
       "      <th>4</th>\n",
       "      <td>6</td>\n",
       "      <td>,</td>\n",
       "      <td>glumes</td>\n",
       "      <td>Iseilema arguta</td>\n",
       "    </tr>\n",
       "    <tr>\n",
       "      <th>5</th>\n",
       "      <td>7</td>\n",
       "      <td>awn</td>\n",
       "      <td>column</td>\n",
       "      <td>Iseilema arguta</td>\n",
       "    </tr>\n",
       "    <tr>\n",
       "      <th>6</th>\n",
       "      <td>8</td>\n",
       "      <td>,</td>\n",
       "      <td>spikelet</td>\n",
       "      <td>Iseilema arguta</td>\n",
       "    </tr>\n",
       "    <tr>\n",
       "      <th>7</th>\n",
       "      <td>9</td>\n",
       "      <td>elliptic</td>\n",
       "      <td>spikelet</td>\n",
       "      <td>Iseilema arguta</td>\n",
       "    </tr>\n",
       "    <tr>\n",
       "      <th>8</th>\n",
       "      <td>10</td>\n",
       "      <td>aristida</td>\n",
       "      <td>kingdom</td>\n",
       "      <td>Aristida pubescens</td>\n",
       "    </tr>\n",
       "    <tr>\n",
       "      <th>9</th>\n",
       "      <td>12</td>\n",
       "      <td>florets</td>\n",
       "      <td>floret</td>\n",
       "      <td>Aristida pubescens</td>\n",
       "    </tr>\n",
       "    <tr>\n",
       "      <th>10</th>\n",
       "      <td>13</td>\n",
       "      <td>scabrous</td>\n",
       "      <td>vein</td>\n",
       "      <td>Aristida pubescens</td>\n",
       "    </tr>\n",
       "    <tr>\n",
       "      <th>11</th>\n",
       "      <td>14</td>\n",
       "      <td>principal</td>\n",
       "      <td>awn</td>\n",
       "      <td>Aristida pubescens</td>\n",
       "    </tr>\n",
       "  </tbody>\n",
       "</table>\n",
       "</div>"
      ],
      "text/plain": [
       "    Sentence   Adjective      Part                 Plant\n",
       "0          0  internodes    floret  hiteochloa semitonsa\n",
       "1          2      ligule      hair  hiteochloa semitonsa\n",
       "2          3  pedicelled  spikelet  hiteochloa semitonsa\n",
       "3          4           ,     blade  hiteochloa semitonsa\n",
       "4          6           ,    glumes       Iseilema arguta\n",
       "5          7         awn    column       Iseilema arguta\n",
       "6          8           ,  spikelet       Iseilema arguta\n",
       "7          9    elliptic  spikelet       Iseilema arguta\n",
       "8         10    aristida   kingdom    Aristida pubescens\n",
       "9         12     florets    floret    Aristida pubescens\n",
       "10        13    scabrous      vein    Aristida pubescens\n",
       "11        14   principal       awn    Aristida pubescens"
      ]
     },
     "execution_count": 66,
     "metadata": {},
     "output_type": "execute_result"
    }
   ],
   "source": [
    "df_random"
   ]
  },
  {
   "cell_type": "code",
   "execution_count": null,
   "id": "51a160b2-f4ec-4cb1-aad7-e3fb6f4d0ccc",
   "metadata": {},
   "outputs": [],
   "source": []
  }
 ],
 "metadata": {
  "kernelspec": {
   "display_name": "Python [conda env:DL]",
   "language": "python",
   "name": "conda-env-DL-py"
  },
  "language_info": {
   "codemirror_mode": {
    "name": "ipython",
    "version": 3
   },
   "file_extension": ".py",
   "mimetype": "text/x-python",
   "name": "python",
   "nbconvert_exporter": "python",
   "pygments_lexer": "ipython3",
   "version": "3.8.10"
  }
 },
 "nbformat": 4,
 "nbformat_minor": 5
}
