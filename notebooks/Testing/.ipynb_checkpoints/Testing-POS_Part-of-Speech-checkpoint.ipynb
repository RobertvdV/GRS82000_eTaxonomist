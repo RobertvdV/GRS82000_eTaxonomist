{
 "cells": [
  {
   "cell_type": "code",
   "execution_count": 1,
   "id": "64101143-27e2-4a19-8803-728239392d87",
   "metadata": {},
   "outputs": [],
   "source": [
    "import spacy\n",
    "import pickle\n",
    "from spacy import displacy\n",
    "nlp = spacy.load('en_core_web_trf')\n",
    "from bs4 import BeautifulSoup\n",
    "import requests\n",
    "from tqdm.notebook import tqdm as tqdm_notebook\n",
    "import collections\n",
    "import re\n",
    "import pandas as pd\n",
    "import numpy as np\n",
    "import networkx as nx\n",
    "from networkx.drawing.nx_agraph import graphviz_layout\n",
    "import matplotlib.pyplot as plt\n",
    "import matplotlib.colors as mcolors\n",
    "%matplotlib inline"
   ]
  },
  {
   "cell_type": "code",
   "execution_count": 2,
   "id": "58a8fd77-80d9-4fed-8296-b05529f3faa9",
   "metadata": {},
   "outputs": [],
   "source": [
    "colors = list(mcolors.CSS4_COLORS.keys())"
   ]
  },
  {
   "cell_type": "markdown",
   "id": "8a014546-3861-4b52-8802-8c3acef885b4",
   "metadata": {},
   "source": [
    "### Get Plant Glossary List"
   ]
  },
  {
   "cell_type": "code",
   "execution_count": 3,
   "id": "6d5f684b-b42b-4a93-bced-ab9b855ba1f4",
   "metadata": {},
   "outputs": [],
   "source": [
    "# URL\n",
    "URL = 'https://en.wikipedia.org/wiki/Glossary_of_plant_morphology'\n",
    "# Get the page\n",
    "page = requests.get(URL, timeout=5)\n",
    "soup = BeautifulSoup(page.content, \"lxml\", from_encoding=\"iso-8859-1\")   \n",
    "\n",
    "glossary = collections.defaultdict(list)\n",
    "# Find all H4 \n",
    "for chapter in soup.find_all('h4')[0:]:\n",
    "    # Clean\n",
    "    chapter_text = chapter.text.rstrip('[edit]')\n",
    "    # Find all siblings\n",
    "    for sibling in chapter.find_next_siblings():\n",
    "        # Find the parent\n",
    "        for parent in sibling.find_previous_sibling('h4'):\n",
    "            # Only append if correspond to current chapter\n",
    "            if parent.text == chapter_text:\n",
    "                if 'â' in sibling.text:\n",
    "                    for tag in sibling.find_all('li'):\n",
    "                        candidates = tag.text.split('â')[0]\n",
    "                        candidates = candidates.split('/')\n",
    "                        for candidate in candidates:\n",
    "                            glossary[chapter_text.lower()].append(candidate.strip().lower())"
   ]
  },
  {
   "cell_type": "code",
   "execution_count": 4,
   "id": "ea3fcf4d-eaed-4534-86bb-6b9ca39af19c",
   "metadata": {},
   "outputs": [
    {
     "data": {
      "text/plain": [
       "dict_keys(['morphology', 'roots', 'stems', 'buds', 'leaves', 'basic flower parts', 'inflorescences', 'insertion of floral parts', 'union of flower parts', 'flower sexuality and presence of floral parts', 'flower symmetry', 'terms for fruits', 'fruit types', 'pteridophytes', 'bryophytes'])"
      ]
     },
     "execution_count": 4,
     "metadata": {},
     "output_type": "execute_result"
    }
   ],
   "source": [
    "glossary.keys()"
   ]
  },
  {
   "cell_type": "code",
   "execution_count": 5,
   "id": "2a7788b3-f551-45a3-a15a-fa1184f82f03",
   "metadata": {},
   "outputs": [],
   "source": [
    "glossary['leaves'] += [\n",
    "    'glume',\n",
    "    'surface',\n",
    "    'margin'\n",
    "]\n",
    "glossary['basic flower parts'] +=[\n",
    "    'floret'\n",
    "]\n",
    "glossary['inflorescences'] += [\n",
    "    'spikelets',\n",
    "    'lemma',\n",
    "    'racemes',\n",
    "    'axis'\n",
    "]\n",
    "glossary['leaves'] += [\n",
    "    'rhachilla'\n",
    "]"
   ]
  },
  {
   "cell_type": "markdown",
   "id": "7b8a5e4a-4b26-40c4-8519-1d6f71771737",
   "metadata": {},
   "source": [
    "### Load the data"
   ]
  },
  {
   "cell_type": "code",
   "execution_count": 6,
   "id": "036540dd-c2e2-411f-bf3f-456ed01f0b71",
   "metadata": {},
   "outputs": [],
   "source": [
    "data = pickle.load(open('../data/description/04_TRAIN_0000000-0014557_PLANTS.pkl', 'rb'))"
   ]
  },
  {
   "cell_type": "markdown",
   "id": "867ccd0e-5f07-45d7-bb57-ab4ac63eccc5",
   "metadata": {},
   "source": [
    "### Define Functions"
   ]
  },
  {
   "cell_type": "markdown",
   "id": "28e7931c-5a85-429b-a6b8-abbe6daeed12",
   "metadata": {},
   "source": [
    "### Extract data"
   ]
  },
  {
   "cell_type": "code",
   "execution_count": 249,
   "id": "99c5d76a-6804-4585-a869-bc41e074bb0f",
   "metadata": {},
   "outputs": [
    {
     "data": {
      "application/vnd.jupyter.widget-view+json": {
       "model_id": "8a4527f1e3fa4c878f290bad2d5ac733",
       "version_major": 2,
       "version_minor": 0
      },
      "text/plain": [
       "  0%|          | 0/1 [00:00<?, ?it/s]"
      ]
     },
     "metadata": {},
     "output_type": "display_data"
    }
   ],
   "source": [
    "descriptions = collections.defaultdict(list)\n",
    "\n",
    "compounds = [\n",
    "    'upper', 'lower',\n",
    "    'dorsal', 'central',\n",
    "]\n",
    "\n",
    "for species in tqdm_notebook(list(data.keys())[0:1]):\n",
    "    for idx, text in enumerate(data[species][0:5]):\n",
    "        doc = nlp(text.lower().capitalize())\n",
    "        \n",
    "        for token in doc:            \n",
    "            # Skip compounds\n",
    "            if token.dep_ == 'compound':\n",
    "                continue\n",
    "            # Only (proper) NOUNS\n",
    "            if token.pos_ not in ['NOUN', 'PROPN']:\n",
    "                continue\n",
    "            #else:\n",
    "            #    print(token.lemma_.lower())\n",
    "            #    print(token.lemma_.lower() in glossary['inflorescences'])\n",
    "            for headlist, sublist in glossary.items():\n",
    "\n",
    "                if token.lemma_.lower() in sublist or token.text.lower() in sublist:\n",
    "                    \n",
    "                    descriptions[species].append((species, 'base part', headlist))\n",
    "                    \n",
    "                    ### RECONSTRUCT COMPOUNDS ###\n",
    "                    if token.i == 0:\n",
    "                        trait = token\n",
    "                    elif doc[token.i - 3].dep_ == 'compound':\n",
    "                        trait = doc[token.i - 3: token.i + 1]\n",
    "                    elif doc[token.i - 3].dep_ in compounds:\n",
    "                        trait = doc[token.i - 3: token.i + 1]\n",
    "                    elif doc[token.i - 2].dep_ == 'compound':\n",
    "                        trait = doc[token.i - 2: token.i + 1]\n",
    "                    elif doc[token.i - 1].dep_ == 'compound':\n",
    "                        trait = doc[token.i - 1: token.i + 1]\n",
    "                    elif doc[token.i - 1].text.lower() in compounds:\n",
    "                        trait = doc[token.i - 1: token.i + 1]\n",
    "                    else:\n",
    "                        trait = token\n",
    "                    descriptions[species].append((headlist, 'part', trait.lemma_))\n",
    "                    \n",
    "                    ### NORMAL SUBJECT TOKENS ###\n",
    "                    if token.dep_ in ['nsubj', 'nsubjpass']:\n",
    "                        parent = next(token.ancestors)\n",
    "                        # Adjectival complement\n",
    "                        if parent.lemma_ == 'be':\n",
    "                            for child in parent.children:\n",
    "                                if child.dep_ == 'acomp':\n",
    "                                    if child.lemma_.lower() in ['long', 'wide']:\n",
    "                                        descriptions[species].append((trait.lemma_, 'be', child.lemma_.lower()))\n",
    "                                        tree = [t.text for t in list(child.subtree)[:-1]]\n",
    "                                        tree = ' '.join(tree)\n",
    "                                        descriptions[species].append((child.lemma_, 'be', tree))\n",
    "                                    else:\n",
    "                                        tree = [t.text for t in list(child.children) if t.dep_ == 'npadvmod']\n",
    "                                        tree = ' '.join(tree) + ' ' +  child.text\n",
    "                                        descriptions[species].append((trait.lemma_, 'be', tree))\n",
    "                            #print('Do Something', idx)\n",
    "                        # VERB ADJECTIVES\n",
    "                        else:\n",
    "                            descriptions[species].append((trait.lemma_, 'be', parent.text))\n",
    "                            \n",
    "                    ### ADJECTIVES TOKENS ###\n",
    "                    for child in token.children:\n",
    "                        ## NORMAL ADJECTIVES ##\n",
    "                        if child.pos_ == 'ADJ':\n",
    "                            if child.text.lower() in compounds:\n",
    "                                continue\n",
    "                            descriptions[species].append((trait.lemma_, 'be', child.lemma_))\n",
    "                            for grandchild in child.children:\n",
    "                                if grandchild.dep_ == 'nummod':\n",
    "                                    tree = [t.lemma_ for t in list(grandchild.subtree)]\n",
    "                                    tree = ' '.join(tree)\n",
    "                                    descriptions[species].append((child.lemma_, 'NUM', tree))\n",
    "                                elif grandchild.dep_ == 'npadvmod':\n",
    "                                    tree = [t.lemma_ for t in list(grandchild.subtree)]\n",
    "                                    tree = ' '.join(tree)\n",
    "                                    descriptions[species].append((child.lemma_, 'NUM', tree))\n",
    "                            ## conjunction ##\n",
    "                            for grandchild in child.subtree:\n",
    "                                #print(grandchild.dep_)\n",
    "                                if grandchild.dep_ == 'conj' and grandchild.pos_ == 'ADJ':\n",
    "                                    descriptions[species].append((trait.lemma_, 'be', grandchild.lemma_))\n",
    "                        ## APPOS ADJECTIVES ##\n",
    "                        if child.dep_ == 'appos' and child.pos_ == 'NOUN':\n",
    "                            #print(333)\n",
    "                            if child.text in colors:\n",
    "                                descriptions[species].append((trait.lemma_, 'be', child.lemma_))\n",
    "                            else:\n",
    "                                descriptions[species].append((trait.lemma_, 'has', child.lemma_))\n",
    "                            for grandchild in child.children:\n",
    "                                if grandchild.dep_ == 'amod':\n",
    "                                    descriptions[species].append((child.lemma_, 'be', grandchild.lemma_))                                \n",
    "                                if grandchild.dep_ == 'nummod':\n",
    "                                    tree = [t.lemma_ for t in list(grandchild.subtree)]\n",
    "                                    tree = ' '.join(tree)\n",
    "                                    descriptions[species].append((child.lemma_, 'NUM', tree))\n",
    "                                elif grandchild.dep_ == 'npadvmod':\n",
    "                                    tree = [t.lemma_ for t in list(grandchild.subtree)]\n",
    "                                    tree = ' '.join(tree)\n",
    "                                for grandgrandchild in grandchild.children:\n",
    "                                    if grandgrandchild.dep_ == 'nummod':\n",
    "                                        tree = [t.lemma_ for t in list(grandgrandchild.subtree)]\n",
    "                                        tree = ' '.join(tree)\n",
    "                                        descriptions[species].append((grandchild.lemma_, 'NUM', tree))\n",
    "                                    elif grandgrandchild.dep_ == 'npadvmod':\n",
    "                                        tree = [t.lemma_ for t in list(grandgrandchild.subtree)]\n",
    "                                        tree = ' '.join(tree)\n",
    "                                        descriptions[species].append((grandchild.lemma_, 'NUM', tree))\n",
    "                    ## PARENT ADJECTIVES ##\n",
    "                    if token.dep_ != 'ROOT':\n",
    "                        parent = next(token.ancestors)\n",
    "                        if parent.pos_ == 'ADJ':\n",
    "                            descriptions[species].append((trait.lemma_, 'be', parent.lemma_))\n",
    "\n",
    "                        \n",
    "                \n"
   ]
  },
  {
   "cell_type": "code",
   "execution_count": 8,
   "id": "2edc34dd-24ac-4e80-a109-289d682a51cc",
   "metadata": {},
   "outputs": [],
   "source": [
    "#with open('../../data/processed/PoS_plants_100.pkl', 'wb') as f:\n",
    "#    pickle.dump(descriptions, f)      "
   ]
  },
  {
   "cell_type": "code",
   "execution_count": 280,
   "id": "4920f43b-499c-4617-9ca8-a01164a633a7",
   "metadata": {},
   "outputs": [
    {
     "data": {
      "text/plain": [
       "defaultdict(list,\n",
       "            {'hiteochloa semitonsa': [('hiteochloa semitonsa',\n",
       "               'base part',\n",
       "               'stems'),\n",
       "              ('stems', 'part', 'rhachilla internode'),\n",
       "              ('rhachilla internode', 'be', 'elongated'),\n",
       "              ('hiteochloa semitonsa', 'base part', 'basic flower parts'),\n",
       "              ('basic flower parts', 'part', 'floret'),\n",
       "              ('floret', 'be', 'proximal'),\n",
       "              ('floret', 'be', 'fertile'),\n",
       "              ('hiteochloa semitonsa', 'base part', 'leaves'),\n",
       "              ('leaves', 'part', 'ligule'),\n",
       "              ('ligule', 'has', 'fringe'),\n",
       "              ('fringe', 'be', 'long'),\n",
       "              ('long', 'NUM', '0.5 mm'),\n",
       "              ('hiteochloa semitonsa', 'base part', 'inflorescences'),\n",
       "              ('inflorescences', 'part', 'spikelet'),\n",
       "              ('spikelet', 'be', 'fertile'),\n",
       "              ('hiteochloa semitonsa', 'base part', 'leaves'),\n",
       "              ('leaves', 'part', 'leaf-blade'),\n",
       "              ('leaf-blade', 'be', 'flat'),\n",
       "              ('leaf-blade', 'be', 'conduplicate'),\n",
       "              ('leaf-blade', 'be', 'wide'),\n",
       "              ('wide', 'NUM', '6 - 11 cm'),\n",
       "              ('wide', 'NUM', '3 - 4 mm')]})"
      ]
     },
     "execution_count": 280,
     "metadata": {},
     "output_type": "execute_result"
    }
   ],
   "source": [
    "descriptions"
   ]
  },
  {
   "cell_type": "code",
   "execution_count": 281,
   "id": "bc9aed9d-c089-4381-9e61-06c17bc66616",
   "metadata": {},
   "outputs": [
    {
     "data": {
      "text/plain": [
       "Leaf-blades flat, or conduplicate, 6-11 cm long, 3-4 mm wide."
      ]
     },
     "execution_count": 281,
     "metadata": {},
     "output_type": "execute_result"
    }
   ],
   "source": [
    "doc"
   ]
  },
  {
   "cell_type": "code",
   "execution_count": 282,
   "id": "7c2e4ce1-9fa0-48dc-90ce-b5aaaecd055b",
   "metadata": {},
   "outputs": [
    {
     "data": {
      "text/html": [
       "<span class=\"tex2jax_ignore\"><svg xmlns=\"http://www.w3.org/2000/svg\" xmlns:xlink=\"http://www.w3.org/1999/xlink\" xml:lang=\"en\" id=\"3103143ca8324ba7949c616dc496dd04-0\" class=\"displacy\" width=\"2325\" height=\"574.5\" direction=\"ltr\" style=\"max-width: none; height: 574.5px; color: #000000; background: #ffffff; font-family: Arial; direction: ltr\">\n",
       "<text class=\"displacy-token\" fill=\"currentColor\" text-anchor=\"middle\" y=\"484.5\">\n",
       "    <tspan class=\"displacy-word\" fill=\"currentColor\" x=\"50\">Leaf-</tspan>\n",
       "    <tspan class=\"displacy-tag\" dy=\"2em\" fill=\"currentColor\" x=\"50\">NOUN</tspan>\n",
       "</text>\n",
       "\n",
       "<text class=\"displacy-token\" fill=\"currentColor\" text-anchor=\"middle\" y=\"484.5\">\n",
       "    <tspan class=\"displacy-word\" fill=\"currentColor\" x=\"225\">blades</tspan>\n",
       "    <tspan class=\"displacy-tag\" dy=\"2em\" fill=\"currentColor\" x=\"225\">NOUN</tspan>\n",
       "</text>\n",
       "\n",
       "<text class=\"displacy-token\" fill=\"currentColor\" text-anchor=\"middle\" y=\"484.5\">\n",
       "    <tspan class=\"displacy-word\" fill=\"currentColor\" x=\"400\">flat,</tspan>\n",
       "    <tspan class=\"displacy-tag\" dy=\"2em\" fill=\"currentColor\" x=\"400\">ADJ</tspan>\n",
       "</text>\n",
       "\n",
       "<text class=\"displacy-token\" fill=\"currentColor\" text-anchor=\"middle\" y=\"484.5\">\n",
       "    <tspan class=\"displacy-word\" fill=\"currentColor\" x=\"575\">or</tspan>\n",
       "    <tspan class=\"displacy-tag\" dy=\"2em\" fill=\"currentColor\" x=\"575\">CCONJ</tspan>\n",
       "</text>\n",
       "\n",
       "<text class=\"displacy-token\" fill=\"currentColor\" text-anchor=\"middle\" y=\"484.5\">\n",
       "    <tspan class=\"displacy-word\" fill=\"currentColor\" x=\"750\">conduplicate,</tspan>\n",
       "    <tspan class=\"displacy-tag\" dy=\"2em\" fill=\"currentColor\" x=\"750\">ADJ</tspan>\n",
       "</text>\n",
       "\n",
       "<text class=\"displacy-token\" fill=\"currentColor\" text-anchor=\"middle\" y=\"484.5\">\n",
       "    <tspan class=\"displacy-word\" fill=\"currentColor\" x=\"925\">6-</tspan>\n",
       "    <tspan class=\"displacy-tag\" dy=\"2em\" fill=\"currentColor\" x=\"925\">NUM</tspan>\n",
       "</text>\n",
       "\n",
       "<text class=\"displacy-token\" fill=\"currentColor\" text-anchor=\"middle\" y=\"484.5\">\n",
       "    <tspan class=\"displacy-word\" fill=\"currentColor\" x=\"1100\">11</tspan>\n",
       "    <tspan class=\"displacy-tag\" dy=\"2em\" fill=\"currentColor\" x=\"1100\">NUM</tspan>\n",
       "</text>\n",
       "\n",
       "<text class=\"displacy-token\" fill=\"currentColor\" text-anchor=\"middle\" y=\"484.5\">\n",
       "    <tspan class=\"displacy-word\" fill=\"currentColor\" x=\"1275\">cm</tspan>\n",
       "    <tspan class=\"displacy-tag\" dy=\"2em\" fill=\"currentColor\" x=\"1275\">NOUN</tspan>\n",
       "</text>\n",
       "\n",
       "<text class=\"displacy-token\" fill=\"currentColor\" text-anchor=\"middle\" y=\"484.5\">\n",
       "    <tspan class=\"displacy-word\" fill=\"currentColor\" x=\"1450\">long,</tspan>\n",
       "    <tspan class=\"displacy-tag\" dy=\"2em\" fill=\"currentColor\" x=\"1450\">ADJ</tspan>\n",
       "</text>\n",
       "\n",
       "<text class=\"displacy-token\" fill=\"currentColor\" text-anchor=\"middle\" y=\"484.5\">\n",
       "    <tspan class=\"displacy-word\" fill=\"currentColor\" x=\"1625\">3-</tspan>\n",
       "    <tspan class=\"displacy-tag\" dy=\"2em\" fill=\"currentColor\" x=\"1625\">NUM</tspan>\n",
       "</text>\n",
       "\n",
       "<text class=\"displacy-token\" fill=\"currentColor\" text-anchor=\"middle\" y=\"484.5\">\n",
       "    <tspan class=\"displacy-word\" fill=\"currentColor\" x=\"1800\">4</tspan>\n",
       "    <tspan class=\"displacy-tag\" dy=\"2em\" fill=\"currentColor\" x=\"1800\">NUM</tspan>\n",
       "</text>\n",
       "\n",
       "<text class=\"displacy-token\" fill=\"currentColor\" text-anchor=\"middle\" y=\"484.5\">\n",
       "    <tspan class=\"displacy-word\" fill=\"currentColor\" x=\"1975\">mm</tspan>\n",
       "    <tspan class=\"displacy-tag\" dy=\"2em\" fill=\"currentColor\" x=\"1975\">NOUN</tspan>\n",
       "</text>\n",
       "\n",
       "<text class=\"displacy-token\" fill=\"currentColor\" text-anchor=\"middle\" y=\"484.5\">\n",
       "    <tspan class=\"displacy-word\" fill=\"currentColor\" x=\"2150\">wide.</tspan>\n",
       "    <tspan class=\"displacy-tag\" dy=\"2em\" fill=\"currentColor\" x=\"2150\">ADJ</tspan>\n",
       "</text>\n",
       "\n",
       "<g class=\"displacy-arrow\">\n",
       "    <path class=\"displacy-arc\" id=\"arrow-3103143ca8324ba7949c616dc496dd04-0-0\" stroke-width=\"2px\" d=\"M70,439.5 C70,352.0 205.0,352.0 205.0,439.5\" fill=\"none\" stroke=\"currentColor\"/>\n",
       "    <text dy=\"1.25em\" style=\"font-size: 0.8em; letter-spacing: 1px\">\n",
       "        <textPath xlink:href=\"#arrow-3103143ca8324ba7949c616dc496dd04-0-0\" class=\"displacy-label\" startOffset=\"50%\" side=\"left\" fill=\"currentColor\" text-anchor=\"middle\">compound</textPath>\n",
       "    </text>\n",
       "    <path class=\"displacy-arrowhead\" d=\"M70,441.5 L62,429.5 78,429.5\" fill=\"currentColor\"/>\n",
       "</g>\n",
       "\n",
       "<g class=\"displacy-arrow\">\n",
       "    <path class=\"displacy-arc\" id=\"arrow-3103143ca8324ba7949c616dc496dd04-0-1\" stroke-width=\"2px\" d=\"M245,439.5 C245,352.0 380.0,352.0 380.0,439.5\" fill=\"none\" stroke=\"currentColor\"/>\n",
       "    <text dy=\"1.25em\" style=\"font-size: 0.8em; letter-spacing: 1px\">\n",
       "        <textPath xlink:href=\"#arrow-3103143ca8324ba7949c616dc496dd04-0-1\" class=\"displacy-label\" startOffset=\"50%\" side=\"left\" fill=\"currentColor\" text-anchor=\"middle\">amod</textPath>\n",
       "    </text>\n",
       "    <path class=\"displacy-arrowhead\" d=\"M380.0,441.5 L388.0,429.5 372.0,429.5\" fill=\"currentColor\"/>\n",
       "</g>\n",
       "\n",
       "<g class=\"displacy-arrow\">\n",
       "    <path class=\"displacy-arc\" id=\"arrow-3103143ca8324ba7949c616dc496dd04-0-2\" stroke-width=\"2px\" d=\"M420,439.5 C420,352.0 555.0,352.0 555.0,439.5\" fill=\"none\" stroke=\"currentColor\"/>\n",
       "    <text dy=\"1.25em\" style=\"font-size: 0.8em; letter-spacing: 1px\">\n",
       "        <textPath xlink:href=\"#arrow-3103143ca8324ba7949c616dc496dd04-0-2\" class=\"displacy-label\" startOffset=\"50%\" side=\"left\" fill=\"currentColor\" text-anchor=\"middle\">cc</textPath>\n",
       "    </text>\n",
       "    <path class=\"displacy-arrowhead\" d=\"M555.0,441.5 L563.0,429.5 547.0,429.5\" fill=\"currentColor\"/>\n",
       "</g>\n",
       "\n",
       "<g class=\"displacy-arrow\">\n",
       "    <path class=\"displacy-arc\" id=\"arrow-3103143ca8324ba7949c616dc496dd04-0-3\" stroke-width=\"2px\" d=\"M420,439.5 C420,264.5 735.0,264.5 735.0,439.5\" fill=\"none\" stroke=\"currentColor\"/>\n",
       "    <text dy=\"1.25em\" style=\"font-size: 0.8em; letter-spacing: 1px\">\n",
       "        <textPath xlink:href=\"#arrow-3103143ca8324ba7949c616dc496dd04-0-3\" class=\"displacy-label\" startOffset=\"50%\" side=\"left\" fill=\"currentColor\" text-anchor=\"middle\">conj</textPath>\n",
       "    </text>\n",
       "    <path class=\"displacy-arrowhead\" d=\"M735.0,441.5 L743.0,429.5 727.0,429.5\" fill=\"currentColor\"/>\n",
       "</g>\n",
       "\n",
       "<g class=\"displacy-arrow\">\n",
       "    <path class=\"displacy-arc\" id=\"arrow-3103143ca8324ba7949c616dc496dd04-0-4\" stroke-width=\"2px\" d=\"M945,439.5 C945,352.0 1080.0,352.0 1080.0,439.5\" fill=\"none\" stroke=\"currentColor\"/>\n",
       "    <text dy=\"1.25em\" style=\"font-size: 0.8em; letter-spacing: 1px\">\n",
       "        <textPath xlink:href=\"#arrow-3103143ca8324ba7949c616dc496dd04-0-4\" class=\"displacy-label\" startOffset=\"50%\" side=\"left\" fill=\"currentColor\" text-anchor=\"middle\">quantmod</textPath>\n",
       "    </text>\n",
       "    <path class=\"displacy-arrowhead\" d=\"M945,441.5 L937,429.5 953,429.5\" fill=\"currentColor\"/>\n",
       "</g>\n",
       "\n",
       "<g class=\"displacy-arrow\">\n",
       "    <path class=\"displacy-arc\" id=\"arrow-3103143ca8324ba7949c616dc496dd04-0-5\" stroke-width=\"2px\" d=\"M1120,439.5 C1120,352.0 1255.0,352.0 1255.0,439.5\" fill=\"none\" stroke=\"currentColor\"/>\n",
       "    <text dy=\"1.25em\" style=\"font-size: 0.8em; letter-spacing: 1px\">\n",
       "        <textPath xlink:href=\"#arrow-3103143ca8324ba7949c616dc496dd04-0-5\" class=\"displacy-label\" startOffset=\"50%\" side=\"left\" fill=\"currentColor\" text-anchor=\"middle\">nummod</textPath>\n",
       "    </text>\n",
       "    <path class=\"displacy-arrowhead\" d=\"M1120,441.5 L1112,429.5 1128,429.5\" fill=\"currentColor\"/>\n",
       "</g>\n",
       "\n",
       "<g class=\"displacy-arrow\">\n",
       "    <path class=\"displacy-arc\" id=\"arrow-3103143ca8324ba7949c616dc496dd04-0-6\" stroke-width=\"2px\" d=\"M1295,439.5 C1295,89.5 2145.0,89.5 2145.0,439.5\" fill=\"none\" stroke=\"currentColor\"/>\n",
       "    <text dy=\"1.25em\" style=\"font-size: 0.8em; letter-spacing: 1px\">\n",
       "        <textPath xlink:href=\"#arrow-3103143ca8324ba7949c616dc496dd04-0-6\" class=\"displacy-label\" startOffset=\"50%\" side=\"left\" fill=\"currentColor\" text-anchor=\"middle\">npadvmod</textPath>\n",
       "    </text>\n",
       "    <path class=\"displacy-arrowhead\" d=\"M1295,441.5 L1287,429.5 1303,429.5\" fill=\"currentColor\"/>\n",
       "</g>\n",
       "\n",
       "<g class=\"displacy-arrow\">\n",
       "    <path class=\"displacy-arc\" id=\"arrow-3103143ca8324ba7949c616dc496dd04-0-7\" stroke-width=\"2px\" d=\"M1470,439.5 C1470,177.0 2140.0,177.0 2140.0,439.5\" fill=\"none\" stroke=\"currentColor\"/>\n",
       "    <text dy=\"1.25em\" style=\"font-size: 0.8em; letter-spacing: 1px\">\n",
       "        <textPath xlink:href=\"#arrow-3103143ca8324ba7949c616dc496dd04-0-7\" class=\"displacy-label\" startOffset=\"50%\" side=\"left\" fill=\"currentColor\" text-anchor=\"middle\">amod</textPath>\n",
       "    </text>\n",
       "    <path class=\"displacy-arrowhead\" d=\"M1470,441.5 L1462,429.5 1478,429.5\" fill=\"currentColor\"/>\n",
       "</g>\n",
       "\n",
       "<g class=\"displacy-arrow\">\n",
       "    <path class=\"displacy-arc\" id=\"arrow-3103143ca8324ba7949c616dc496dd04-0-8\" stroke-width=\"2px\" d=\"M1645,439.5 C1645,352.0 1780.0,352.0 1780.0,439.5\" fill=\"none\" stroke=\"currentColor\"/>\n",
       "    <text dy=\"1.25em\" style=\"font-size: 0.8em; letter-spacing: 1px\">\n",
       "        <textPath xlink:href=\"#arrow-3103143ca8324ba7949c616dc496dd04-0-8\" class=\"displacy-label\" startOffset=\"50%\" side=\"left\" fill=\"currentColor\" text-anchor=\"middle\">quantmod</textPath>\n",
       "    </text>\n",
       "    <path class=\"displacy-arrowhead\" d=\"M1645,441.5 L1637,429.5 1653,429.5\" fill=\"currentColor\"/>\n",
       "</g>\n",
       "\n",
       "<g class=\"displacy-arrow\">\n",
       "    <path class=\"displacy-arc\" id=\"arrow-3103143ca8324ba7949c616dc496dd04-0-9\" stroke-width=\"2px\" d=\"M1820,439.5 C1820,352.0 1955.0,352.0 1955.0,439.5\" fill=\"none\" stroke=\"currentColor\"/>\n",
       "    <text dy=\"1.25em\" style=\"font-size: 0.8em; letter-spacing: 1px\">\n",
       "        <textPath xlink:href=\"#arrow-3103143ca8324ba7949c616dc496dd04-0-9\" class=\"displacy-label\" startOffset=\"50%\" side=\"left\" fill=\"currentColor\" text-anchor=\"middle\">nummod</textPath>\n",
       "    </text>\n",
       "    <path class=\"displacy-arrowhead\" d=\"M1820,441.5 L1812,429.5 1828,429.5\" fill=\"currentColor\"/>\n",
       "</g>\n",
       "\n",
       "<g class=\"displacy-arrow\">\n",
       "    <path class=\"displacy-arc\" id=\"arrow-3103143ca8324ba7949c616dc496dd04-0-10\" stroke-width=\"2px\" d=\"M1995,439.5 C1995,352.0 2130.0,352.0 2130.0,439.5\" fill=\"none\" stroke=\"currentColor\"/>\n",
       "    <text dy=\"1.25em\" style=\"font-size: 0.8em; letter-spacing: 1px\">\n",
       "        <textPath xlink:href=\"#arrow-3103143ca8324ba7949c616dc496dd04-0-10\" class=\"displacy-label\" startOffset=\"50%\" side=\"left\" fill=\"currentColor\" text-anchor=\"middle\">npadvmod</textPath>\n",
       "    </text>\n",
       "    <path class=\"displacy-arrowhead\" d=\"M1995,441.5 L1987,429.5 2003,429.5\" fill=\"currentColor\"/>\n",
       "</g>\n",
       "\n",
       "<g class=\"displacy-arrow\">\n",
       "    <path class=\"displacy-arc\" id=\"arrow-3103143ca8324ba7949c616dc496dd04-0-11\" stroke-width=\"2px\" d=\"M245,439.5 C245,2.0 2150.0,2.0 2150.0,439.5\" fill=\"none\" stroke=\"currentColor\"/>\n",
       "    <text dy=\"1.25em\" style=\"font-size: 0.8em; letter-spacing: 1px\">\n",
       "        <textPath xlink:href=\"#arrow-3103143ca8324ba7949c616dc496dd04-0-11\" class=\"displacy-label\" startOffset=\"50%\" side=\"left\" fill=\"currentColor\" text-anchor=\"middle\">amod</textPath>\n",
       "    </text>\n",
       "    <path class=\"displacy-arrowhead\" d=\"M2150.0,441.5 L2158.0,429.5 2142.0,429.5\" fill=\"currentColor\"/>\n",
       "</g>\n",
       "</svg></span>"
      ],
      "text/plain": [
       "<IPython.core.display.HTML object>"
      ]
     },
     "metadata": {},
     "output_type": "display_data"
    }
   ],
   "source": [
    "displacy.render(doc)"
   ]
  },
  {
   "cell_type": "code",
   "execution_count": null,
   "id": "c85bd510-cdb1-4a96-849c-87105523de1c",
   "metadata": {},
   "outputs": [],
   "source": []
  },
  {
   "cell_type": "code",
   "execution_count": 250,
   "id": "ed31d29c-dfdf-43b2-a281-4c07e5099a0f",
   "metadata": {},
   "outputs": [],
   "source": [
    "source   = []\n",
    "relation = []\n",
    "target   = []\n",
    "\n",
    "for bird in descriptions.keys():\n",
    "    for triple in descriptions[bird]:\n",
    "        if not all(triple):\n",
    "            continue\n",
    "\n",
    "        source.append(triple[0])\n",
    "        relation.append(triple[1])\n",
    "        target.append(triple[2])\n",
    "    \n",
    "kg_df = pd.DataFrame({'source':source, 'target':target, 'edge':relation})"
   ]
  },
  {
   "cell_type": "code",
   "execution_count": 251,
   "id": "1b8e939c-890b-490f-a2da-a345739fd6d6",
   "metadata": {},
   "outputs": [
    {
     "data": {
      "text/plain": [
       "'\\nG=nx.from_pandas_edgelist(kg_df, \"source\", \"target\", \\n                          edge_attr=True, create_using=nx.MultiDiGraph())\\n\\nplt.figure(figsize=(25, 25))\\nlabels = dict(zip(list(zip(kg_df.source, kg_df.target)),\\n                  kg_df[\\'edge\\'].tolist()))\\npos = nx.spring_layout(G, k = 0.3*1/np.sqrt(len(G.nodes())))\\n\\nnx.draw(G,\\n        #node_color=color_map,\\n        with_labels=True, \\n        node_size=2500, \\n        pos=graphviz_layout(G, prog=\"dot\"), )\\nnx.draw_networkx_edge_labels(G,\\n                             pos=graphviz_layout(G, prog=\"dot\"), \\n                             edge_labels=labels,\\n                             font_color=\\'red\\', )\\n#plt.savefig(\\'plot.pdf\\', format=\\'pdf\\', dpi=1200, bbox_inches=\\'tight\\')\\nplt.show()\\n'"
      ]
     },
     "execution_count": 251,
     "metadata": {},
     "output_type": "execute_result"
    }
   ],
   "source": [
    "'''\n",
    "G=nx.from_pandas_edgelist(kg_df, \"source\", \"target\", \n",
    "                          edge_attr=True, create_using=nx.MultiDiGraph())\n",
    "\n",
    "plt.figure(figsize=(25, 25))\n",
    "labels = dict(zip(list(zip(kg_df.source, kg_df.target)),\n",
    "                  kg_df['edge'].tolist()))\n",
    "pos = nx.spring_layout(G, k = 0.3*1/np.sqrt(len(G.nodes())))\n",
    "\n",
    "nx.draw(G,\n",
    "        #node_color=color_map,\n",
    "        with_labels=True, \n",
    "        node_size=2500, \n",
    "        pos=graphviz_layout(G, prog=\"dot\"), )\n",
    "nx.draw_networkx_edge_labels(G,\n",
    "                             pos=graphviz_layout(G, prog=\"dot\"), \n",
    "                             edge_labels=labels,\n",
    "                             font_color='red', )\n",
    "#plt.savefig('plot.pdf', format='pdf', dpi=1200, bbox_inches='tight')\n",
    "plt.show()\n",
    "'''"
   ]
  },
  {
   "cell_type": "code",
   "execution_count": 285,
   "id": "55271306-6c3b-495b-8145-0813043ffe57",
   "metadata": {},
   "outputs": [
    {
     "ename": "ValueError",
     "evalue": "too many values to unpack (expected 2)",
     "output_type": "error",
     "traceback": [
      "\u001b[0;31m---------------------------------------------------------------------------\u001b[0m",
      "\u001b[0;31mValueError\u001b[0m                                Traceback (most recent call last)",
      "\u001b[0;32m/var/folders/gp/hp50s5114x52591qbdhn43xm0000gn/T/ipykernel_5549/1530216144.py\u001b[0m in \u001b[0;36m<module>\u001b[0;34m\u001b[0m\n\u001b[1;32m     37\u001b[0m         \u001b[0medge_labels\u001b[0m\u001b[0;34m[\u001b[0m\u001b[0mkey\u001b[0m\u001b[0;34m]\u001b[0m \u001b[0;34m=\u001b[0m \u001b[0;34m'other'\u001b[0m\u001b[0;34m\u001b[0m\u001b[0;34m\u001b[0m\u001b[0m\n\u001b[1;32m     38\u001b[0m \u001b[0;34m\u001b[0m\u001b[0m\n\u001b[0;32m---> 39\u001b[0;31m Graph(G, node_layout='dot', edge_layout='curved', node_size=node_size, node_labels=labels, edge_labels=_labels, node_label_offset=(0.00, -0.04),\n\u001b[0m\u001b[1;32m     40\u001b[0m       \u001b[0medge_width\u001b[0m\u001b[0;34m=\u001b[0m\u001b[0;36m0.4\u001b[0m\u001b[0;34m,\u001b[0m \u001b[0marrows\u001b[0m\u001b[0;34m=\u001b[0m\u001b[0;32mTrue\u001b[0m\u001b[0;34m,\u001b[0m\u001b[0;34m\u001b[0m\u001b[0;34m\u001b[0m\u001b[0m\n\u001b[1;32m     41\u001b[0m       \u001b[0mnode_label_fontdict\u001b[0m\u001b[0;34m=\u001b[0m\u001b[0mdict\u001b[0m\u001b[0;34m(\u001b[0m\u001b[0msize\u001b[0m\u001b[0;34m=\u001b[0m\u001b[0;36m8\u001b[0m\u001b[0;34m)\u001b[0m\u001b[0;34m,\u001b[0m\u001b[0;34m\u001b[0m\u001b[0;34m\u001b[0m\u001b[0m\n",
      "\u001b[0;32m/usr/local/anaconda3/envs/DL/lib/python3.8/site-packages/netgraph/_main.py\u001b[0m in \u001b[0;36m__init__\u001b[0;34m(self, graph, edge_cmap, *args, **kwargs)\u001b[0m\n\u001b[1;32m   2111\u001b[0m             \u001b[0mkwargs\u001b[0m\u001b[0;34m.\u001b[0m\u001b[0msetdefault\u001b[0m\u001b[0;34m(\u001b[0m\u001b[0;34m'node_zorder'\u001b[0m\u001b[0;34m,\u001b[0m \u001b[0mnode_zorder\u001b[0m\u001b[0;34m)\u001b[0m\u001b[0;34m\u001b[0m\u001b[0;34m\u001b[0m\u001b[0m\n\u001b[1;32m   2112\u001b[0m \u001b[0;34m\u001b[0m\u001b[0m\n\u001b[0;32m-> 2113\u001b[0;31m         \u001b[0msuper\u001b[0m\u001b[0;34m(\u001b[0m\u001b[0;34m)\u001b[0m\u001b[0;34m.\u001b[0m\u001b[0m__init__\u001b[0m\u001b[0;34m(\u001b[0m\u001b[0medges\u001b[0m\u001b[0;34m,\u001b[0m \u001b[0;34m*\u001b[0m\u001b[0margs\u001b[0m\u001b[0;34m,\u001b[0m \u001b[0;34m**\u001b[0m\u001b[0mkwargs\u001b[0m\u001b[0;34m)\u001b[0m\u001b[0;34m\u001b[0m\u001b[0;34m\u001b[0m\u001b[0m\n\u001b[0m\u001b[1;32m   2114\u001b[0m \u001b[0;34m\u001b[0m\u001b[0m\n\u001b[1;32m   2115\u001b[0m \u001b[0;34m\u001b[0m\u001b[0m\n",
      "\u001b[0;32m/usr/local/anaconda3/envs/DL/lib/python3.8/site-packages/netgraph/_main.py\u001b[0m in \u001b[0;36m__init__\u001b[0;34m(self, edges, nodes, node_layout, node_layout_kwargs, node_shape, node_size, node_edge_width, node_color, node_edge_color, node_alpha, node_zorder, node_labels, node_label_offset, node_label_fontdict, edge_width, edge_color, edge_alpha, edge_zorder, arrows, edge_layout, edge_layout_kwargs, edge_labels, edge_label_position, edge_label_rotate, edge_label_fontdict, origin, scale, prettify, ax, *args, **kwargs)\u001b[0m\n\u001b[1;32m   1043\u001b[0m                  \u001b[0;34m*\u001b[0m\u001b[0margs\u001b[0m\u001b[0;34m,\u001b[0m \u001b[0;34m**\u001b[0m\u001b[0mkwargs\u001b[0m\u001b[0;34m\u001b[0m\u001b[0;34m\u001b[0m\u001b[0m\n\u001b[1;32m   1044\u001b[0m     ):\n\u001b[0;32m-> 1045\u001b[0;31m         \u001b[0mself\u001b[0m\u001b[0;34m.\u001b[0m\u001b[0medges\u001b[0m \u001b[0;34m=\u001b[0m \u001b[0m_parse_edge_list\u001b[0m\u001b[0;34m(\u001b[0m\u001b[0medges\u001b[0m\u001b[0;34m)\u001b[0m\u001b[0;34m\u001b[0m\u001b[0;34m\u001b[0m\u001b[0m\n\u001b[0m\u001b[1;32m   1046\u001b[0m \u001b[0;34m\u001b[0m\u001b[0m\n\u001b[1;32m   1047\u001b[0m         \u001b[0mself\u001b[0m\u001b[0;34m.\u001b[0m\u001b[0mnodes\u001b[0m \u001b[0;34m=\u001b[0m \u001b[0mself\u001b[0m\u001b[0;34m.\u001b[0m\u001b[0m_initialize_nodes\u001b[0m\u001b[0;34m(\u001b[0m\u001b[0mnodes\u001b[0m\u001b[0;34m)\u001b[0m\u001b[0;34m\u001b[0m\u001b[0;34m\u001b[0m\u001b[0m\n",
      "\u001b[0;32m/usr/local/anaconda3/envs/DL/lib/python3.8/site-packages/netgraph/_parser.py\u001b[0m in \u001b[0;36m_parse_edge_list\u001b[0;34m(edges)\u001b[0m\n\u001b[1;32m    132\u001b[0m \u001b[0;32mdef\u001b[0m \u001b[0m_parse_edge_list\u001b[0m\u001b[0;34m(\u001b[0m\u001b[0medges\u001b[0m\u001b[0;34m)\u001b[0m\u001b[0;34m:\u001b[0m\u001b[0;34m\u001b[0m\u001b[0;34m\u001b[0m\u001b[0m\n\u001b[1;32m    133\u001b[0m     \u001b[0;31m# Edge list may be an array, or a list of lists. We want a list of tuples.\u001b[0m\u001b[0;34m\u001b[0m\u001b[0;34m\u001b[0m\u001b[0;34m\u001b[0m\u001b[0m\n\u001b[0;32m--> 134\u001b[0;31m     \u001b[0;32mreturn\u001b[0m \u001b[0;34m[\u001b[0m\u001b[0;34m(\u001b[0m\u001b[0msource\u001b[0m\u001b[0;34m,\u001b[0m \u001b[0mtarget\u001b[0m\u001b[0;34m)\u001b[0m \u001b[0;32mfor\u001b[0m \u001b[0;34m(\u001b[0m\u001b[0msource\u001b[0m\u001b[0;34m,\u001b[0m \u001b[0mtarget\u001b[0m\u001b[0;34m)\u001b[0m \u001b[0;32min\u001b[0m \u001b[0medges\u001b[0m\u001b[0;34m]\u001b[0m\u001b[0;34m\u001b[0m\u001b[0;34m\u001b[0m\u001b[0m\n\u001b[0m\u001b[1;32m    135\u001b[0m \u001b[0;34m\u001b[0m\u001b[0m\n\u001b[1;32m    136\u001b[0m \u001b[0;34m\u001b[0m\u001b[0m\n",
      "\u001b[0;32m/usr/local/anaconda3/envs/DL/lib/python3.8/site-packages/netgraph/_parser.py\u001b[0m in \u001b[0;36m<listcomp>\u001b[0;34m(.0)\u001b[0m\n\u001b[1;32m    132\u001b[0m \u001b[0;32mdef\u001b[0m \u001b[0m_parse_edge_list\u001b[0m\u001b[0;34m(\u001b[0m\u001b[0medges\u001b[0m\u001b[0;34m)\u001b[0m\u001b[0;34m:\u001b[0m\u001b[0;34m\u001b[0m\u001b[0;34m\u001b[0m\u001b[0m\n\u001b[1;32m    133\u001b[0m     \u001b[0;31m# Edge list may be an array, or a list of lists. We want a list of tuples.\u001b[0m\u001b[0;34m\u001b[0m\u001b[0;34m\u001b[0m\u001b[0;34m\u001b[0m\u001b[0m\n\u001b[0;32m--> 134\u001b[0;31m     \u001b[0;32mreturn\u001b[0m \u001b[0;34m[\u001b[0m\u001b[0;34m(\u001b[0m\u001b[0msource\u001b[0m\u001b[0;34m,\u001b[0m \u001b[0mtarget\u001b[0m\u001b[0;34m)\u001b[0m \u001b[0;32mfor\u001b[0m \u001b[0;34m(\u001b[0m\u001b[0msource\u001b[0m\u001b[0;34m,\u001b[0m \u001b[0mtarget\u001b[0m\u001b[0;34m)\u001b[0m \u001b[0;32min\u001b[0m \u001b[0medges\u001b[0m\u001b[0;34m]\u001b[0m\u001b[0;34m\u001b[0m\u001b[0;34m\u001b[0m\u001b[0m\n\u001b[0m\u001b[1;32m    135\u001b[0m \u001b[0;34m\u001b[0m\u001b[0m\n\u001b[1;32m    136\u001b[0m \u001b[0;34m\u001b[0m\u001b[0m\n",
      "\u001b[0;31mValueError\u001b[0m: too many values to unpack (expected 2)"
     ]
    },
    {
     "data": {
      "text/plain": [
       "<Figure size 720x720 with 0 Axes>"
      ]
     },
     "metadata": {},
     "output_type": "display_data"
    }
   ],
   "source": [
    "species = list(data.keys())\n",
    "baseparts = list(glossary.keys())\n",
    "parts = list(glossary.values())\n",
    "\n",
    "G=nx.from_pandas_edgelist(kg_df, \"source\", \"target\", \n",
    "                          edge_attr=True, create_using=nx.MultiGraph())\n",
    "\n",
    "plt.figure(figsize=(10, 10))\n",
    "_labels = dict(zip(list(zip(kg_df.source, kg_df.target)),\n",
    "                  kg_df['edge'].tolist()))\n",
    "\n",
    "node_size = {}\n",
    "for (subject, object_), edge in _labels.items():\n",
    "    if subject in species:\n",
    "        node_size[subject] = 10/3\n",
    "    elif subject in baseparts:\n",
    "        node_size[subject] = 8/3\n",
    "    elif subject in parts:\n",
    "        node_size[subject] = 4/3\n",
    "    else:\n",
    "        node_size[subject] = 4/3\n",
    "    if object_ in species:\n",
    "        node_size[object_] = 10/3\n",
    "    elif object_ in baseparts:\n",
    "        node_size[object_] = 8/3\n",
    "    elif object_ in parts:\n",
    "        node_size[object_] = 4/3\n",
    "    else:\n",
    "        node_size[object_] = 4/3\n",
    "        \n",
    "labels = {node : node for idx, node in enumerate(G)}\n",
    "edge_labels = {}\n",
    "for key in labels.keys():\n",
    "    if key in baseparts:\n",
    "        edge_labels[key] = 'basepart'\n",
    "    else:\n",
    "        edge_labels[key] = 'other'\n",
    "\n",
    "Graph(G, node_layout='dot', edge_layout='curved', node_size=node_size, node_labels=labels, edge_labels=_labels, node_label_offset=(0.00, -0.04),\n",
    "      edge_width=0.4, arrows=True,\n",
    "      node_label_fontdict=dict(size=8),\n",
    "      edge_label_fontdict=dict(size=6))\n",
    "\n",
    "\n",
    "#plt.savefig('plot.pdf', format='pdf', dpi=1200, bbox_inches='tight')\n",
    "plt.show()"
   ]
  },
  {
   "cell_type": "code",
   "execution_count": 277,
   "id": "77f895bc-6d6f-4c07-bdb3-015607fdc0a1",
   "metadata": {},
   "outputs": [
    {
     "data": {
      "text/plain": [
       "{'hiteochloa semitonsa': 'hiteochloa semitonsa0',\n",
       " 'stems': 'stems1',\n",
       " 'rhachilla internode': 'rhachilla internode2',\n",
       " 'elongated': 'elongated3',\n",
       " 'basic flower parts': 'basic flower parts4',\n",
       " 'floret': 'floret5',\n",
       " 'proximal': 'proximal6',\n",
       " 'fertile': 'fertile7',\n",
       " 'leaves': 'leaves8',\n",
       " 'ligule': 'ligule9',\n",
       " 'fringe': 'fringe10',\n",
       " 'long': 'long11',\n",
       " '0.5 mm': '0.5 mm12',\n",
       " 'inflorescences': 'inflorescences13',\n",
       " 'spikelet': 'spikelet14',\n",
       " 'leaf-blade': 'leaf-blade15',\n",
       " 'flat': 'flat16',\n",
       " 'conduplicate': 'conduplicate17',\n",
       " 'wide': 'wide18',\n",
       " '6 - 11 cm': '6 - 11 cm19',\n",
       " '3 - 4 mm': '3 - 4 mm20'}"
      ]
     },
     "execution_count": 277,
     "metadata": {},
     "output_type": "execute_result"
    }
   ],
   "source": [
    "labels"
   ]
  },
  {
   "cell_type": "code",
   "execution_count": 286,
   "id": "9d4fa834-085e-4a49-8fd2-90ffb6bf947a",
   "metadata": {},
   "outputs": [
    {
     "data": {
      "text/plain": [
       "AdjacencyView({'inflorescences': {0: {'edge': 'part'}}, 'fertile': {0: {'edge': 'be'}}})"
      ]
     },
     "execution_count": 286,
     "metadata": {},
     "output_type": "execute_result"
    }
   ],
   "source": [
    "G['spikelet']"
   ]
  },
  {
   "cell_type": "code",
   "execution_count": 278,
   "id": "8bab7ee1-8064-481e-bfb9-223854a5fe6a",
   "metadata": {},
   "outputs": [
    {
     "ename": "SyntaxError",
     "evalue": "invalid syntax (804705552.py, line 1)",
     "output_type": "error",
     "traceback": [
      "\u001b[0;36m  File \u001b[0;32m\"/var/folders/gp/hp50s5114x52591qbdhn43xm0000gn/T/ipykernel_5549/804705552.py\"\u001b[0;36m, line \u001b[0;32m1\u001b[0m\n\u001b[0;31m    **G\u001b[0m\n\u001b[0m    ^\u001b[0m\n\u001b[0;31mSyntaxError\u001b[0m\u001b[0;31m:\u001b[0m invalid syntax\n"
     ]
    }
   ],
   "source": []
  },
  {
   "cell_type": "code",
   "execution_count": null,
   "id": "960bfa09-25b4-441a-bc20-724630a5afed",
   "metadata": {},
   "outputs": [],
   "source": []
  }
 ],
 "metadata": {
  "kernelspec": {
   "display_name": "Python [conda env:DL]",
   "language": "python",
   "name": "conda-env-DL-py"
  },
  "language_info": {
   "codemirror_mode": {
    "name": "ipython",
    "version": 3
   },
   "file_extension": ".py",
   "mimetype": "text/x-python",
   "name": "python",
   "nbconvert_exporter": "python",
   "pygments_lexer": "ipython3",
   "version": "3.8.10"
  }
 },
 "nbformat": 4,
 "nbformat_minor": 5
}
