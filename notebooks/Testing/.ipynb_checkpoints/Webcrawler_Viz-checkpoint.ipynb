{
 "cells": [
  {
   "cell_type": "code",
   "execution_count": 1,
   "id": "98d8c621-da83-4acb-a503-f3fe96e331c8",
   "metadata": {},
   "outputs": [
    {
     "name": "stderr",
     "output_type": "stream",
     "text": [
      "Some weights of the model checkpoint at distilbert-base-uncased were not used when initializing DistilBertModel: ['vocab_projector.weight', 'vocab_transform.weight', 'vocab_layer_norm.bias', 'vocab_layer_norm.weight', 'vocab_transform.bias', 'vocab_projector.bias']\n",
      "- This IS expected if you are initializing DistilBertModel from the checkpoint of a model trained on another task or with another architecture (e.g. initializing a BertForSequenceClassification model from a BertForPreTraining model).\n",
      "- This IS NOT expected if you are initializing DistilBertModel from the checkpoint of a model that you expect to be exactly identical (initializing a BertForSequenceClassification model from a BertForSequenceClassification model).\n"
     ]
    }
   ],
   "source": [
    "import numpy as np\n",
    "import pickle\n",
    "from tqdm import tqdm\n",
    "import re\n",
    "import collections\n",
    "import glob\n",
    "from transformers import DistilBertTokenizer, DistilBertModel\n",
    "import sys\n",
    "import time\n",
    "import requests\n",
    "from IPython.display import display, HTML\n",
    "from selenium import webdriver\n",
    "from selenium.webdriver.support.ui import WebDriverWait\n",
    "from selenium.webdriver.support import expected_conditions as EC\n",
    "from bs4 import BeautifulSoup\n",
    "\n",
    "sys.path.insert(0, '../src/models/')\n",
    "sys.path.insert(0, '../src/features/')\n",
    "\n",
    "from predict_model import loadBERT\n",
    "from predict_model import SpanPredictor as classify\n",
    "from build_features import text_cleaner, DuckDuckGo_Java, Bing_HTML, colorize_prediction\n",
    "\n",
    "%matplotlib inline"
   ]
  },
  {
   "cell_type": "markdown",
   "id": "8269ebad-b36b-47cd-a3c3-6f0576657f7b",
   "metadata": {},
   "source": [
    "## Load models"
   ]
  },
  {
   "cell_type": "code",
   "execution_count": 2,
   "id": "b47e5a37-6744-4ca8-9e51-886632e68513",
   "metadata": {},
   "outputs": [
    {
     "name": "stdout",
     "output_type": "stream",
     "text": [
      "CPU Success\n"
     ]
    }
   ],
   "source": [
    "model = loadBERT(\"../models/\", 'saved_weights_inf_FIXED_boot_beta80.pt')\n",
    "tokenizer = DistilBertTokenizer.from_pretrained('distilbert-base-uncased')"
   ]
  },
  {
   "cell_type": "markdown",
   "id": "b212f514-bb18-4ecc-a65e-bc924bc893ab",
   "metadata": {},
   "source": [
    "## Load the species list"
   ]
  },
  {
   "cell_type": "code",
   "execution_count": 3,
   "id": "6466d2fe-9540-4eb2-89f2-dd496273c518",
   "metadata": {},
   "outputs": [],
   "source": [
    "# Load POWO\n",
    "#plants_list = pickle.load(open('../data/external/species_plants.pkl', 'rb'))\n",
    "plants_dict = pickle.load(open('../data/processed/descriptions_powo_PLANTS.pkl', 'rb'))\n",
    "#plants_list =[key for key in plants_dict.keys()]"
   ]
  },
  {
   "cell_type": "code",
   "execution_count": 4,
   "id": "927fd4fd-83be-461f-9ab1-5639c8d070db",
   "metadata": {},
   "outputs": [],
   "source": [
    "# Order the dictionary based on the list length\n",
    "plants_dict = collections.OrderedDict(sorted(plants_dict.items(), key= lambda x: len(x[1]), reverse=True))"
   ]
  },
  {
   "cell_type": "code",
   "execution_count": 5,
   "id": "1f66c3bf-8568-44c8-8316-36b1643d9166",
   "metadata": {},
   "outputs": [],
   "source": [
    "plants = [key for key in plants_dict.keys()]"
   ]
  },
  {
   "cell_type": "markdown",
   "id": "3052353f-ee0d-4b11-b822-07caaee3b6b8",
   "metadata": {},
   "source": [
    "## Iterate Species"
   ]
  },
  {
   "cell_type": "code",
   "execution_count": 23,
   "id": "6ed355eb-5194-404f-b6d8-724048698ea7",
   "metadata": {},
   "outputs": [
    {
     "name": "stderr",
     "output_type": "stream",
     "text": [
      "  0%|                                                   | 0/800 [00:00<?, ?it/s]Some characters could not be decoded, and were replaced with REPLACEMENT CHARACTER.\n",
      "  2%|▌                                     | 13/800 [24:16<24:42:09, 113.00s/it]Some characters could not be decoded, and were replaced with REPLACEMENT CHARACTER.\n",
      "  2%|▉                                      | 20/800 [34:00<18:27:51, 85.22s/it]Some characters could not be decoded, and were replaced with REPLACEMENT CHARACTER.\n",
      "  3%|▉                                     | 21/800 [36:28<22:30:38, 104.03s/it]Some characters could not be decoded, and were replaced with REPLACEMENT CHARACTER.\n",
      "  3%|█▏                                    | 24/800 [42:42<24:36:43, 114.18s/it]Some characters could not be decoded, and were replaced with REPLACEMENT CHARACTER.\n",
      "  3%|█▏                                    | 25/800 [44:23<23:45:34, 110.37s/it]Some characters could not be decoded, and were replaced with REPLACEMENT CHARACTER.\n",
      "  6%|██                                  | 45/800 [1:31:59<32:11:59, 153.54s/it]Some characters could not be decoded, and were replaced with REPLACEMENT CHARACTER.\n",
      "  6%|██▏                                 | 48/800 [1:39:19<29:29:42, 141.20s/it]Some characters could not be decoded, and were replaced with REPLACEMENT CHARACTER.\n",
      "  7%|██▍                                  | 53/800 [1:47:19<18:23:24, 88.63s/it]Some characters could not be decoded, and were replaced with REPLACEMENT CHARACTER.\n",
      "  8%|███                                 | 67/800 [2:18:38<22:31:36, 110.64s/it]Some characters could not be decoded, and were replaced with REPLACEMENT CHARACTER.\n",
      "  8%|███                                 | 68/800 [2:21:17<25:26:49, 125.15s/it]Some characters could not be decoded, and were replaced with REPLACEMENT CHARACTER.\n",
      " 11%|███▊                                | 86/800 [2:56:26<19:59:04, 100.76s/it]Some characters could not be decoded, and were replaced with REPLACEMENT CHARACTER.\n",
      " 13%|████▋                              | 107/800 [3:45:45<20:54:42, 108.63s/it]Some characters could not be decoded, and were replaced with REPLACEMENT CHARACTER.\n",
      " 15%|█████▏                             | 118/800 [4:08:58<21:05:12, 111.31s/it]Some characters could not be decoded, and were replaced with REPLACEMENT CHARACTER.\n",
      " 15%|█████▏                             | 119/800 [4:11:15<22:33:20, 119.24s/it]Some characters could not be decoded, and were replaced with REPLACEMENT CHARACTER.\n",
      " 17%|█████▉                             | 136/800 [4:45:22<26:42:48, 144.83s/it]Some characters could not be decoded, and were replaced with REPLACEMENT CHARACTER.\n",
      " 17%|██████▎                             | 139/800 [4:49:37<18:20:51, 99.93s/it]Some characters could not be decoded, and were replaced with REPLACEMENT CHARACTER.\n",
      " 19%|██████▋                            | 153/800 [5:17:12<20:06:17, 111.87s/it]Some characters could not be decoded, and were replaced with REPLACEMENT CHARACTER.\n",
      " 20%|███████                            | 161/800 [5:31:51<18:18:10, 103.11s/it]Some characters could not be decoded, and were replaced with REPLACEMENT CHARACTER.\n",
      " 21%|███████▏                           | 165/800 [5:43:59<24:23:56, 138.33s/it]Some characters could not be decoded, and were replaced with REPLACEMENT CHARACTER.\n",
      " 21%|███████▋                            | 170/800 [5:52:02<16:34:52, 94.75s/it]Some characters could not be decoded, and were replaced with REPLACEMENT CHARACTER.\n",
      " 22%|███████▊                            | 174/800 [5:57:52<13:18:01, 76.49s/it]Some characters could not be decoded, and were replaced with REPLACEMENT CHARACTER.\n",
      "Some characters could not be decoded, and were replaced with REPLACEMENT CHARACTER.\n",
      "Some characters could not be decoded, and were replaced with REPLACEMENT CHARACTER.\n",
      "Some characters could not be decoded, and were replaced with REPLACEMENT CHARACTER.\n",
      " 24%|████████▋                           | 194/800 [6:35:07<16:29:36, 97.98s/it]Some characters could not be decoded, and were replaced with REPLACEMENT CHARACTER.\n",
      " 26%|█████████▍                          | 210/800 [7:01:56<13:17:17, 81.08s/it]Some characters could not be decoded, and were replaced with REPLACEMENT CHARACTER.\n",
      " 27%|█████████▋                          | 215/800 [7:09:52<15:17:44, 94.13s/it]Some characters could not be decoded, and were replaced with REPLACEMENT CHARACTER.\n",
      " 27%|█████████▍                         | 216/800 [7:12:44<19:02:22, 117.37s/it]Some characters could not be decoded, and were replaced with REPLACEMENT CHARACTER.\n",
      " 28%|█████████▋                         | 221/800 [7:24:38<21:30:18, 133.71s/it]Some characters could not be decoded, and were replaced with REPLACEMENT CHARACTER.\n",
      "Some characters could not be decoded, and were replaced with REPLACEMENT CHARACTER.\n",
      "Some characters could not be decoded, and were replaced with REPLACEMENT CHARACTER.\n",
      " 28%|█████████▊                         | 223/800 [7:29:35<21:36:27, 134.81s/it]Some characters could not be decoded, and were replaced with REPLACEMENT CHARACTER.\n",
      " 28%|█████████▊                         | 225/800 [7:34:40<22:58:00, 143.79s/it]Some characters could not be decoded, and were replaced with REPLACEMENT CHARACTER.\n",
      " 29%|██████████▏                        | 233/800 [7:51:18<18:50:02, 119.58s/it]Some characters could not be decoded, and were replaced with REPLACEMENT CHARACTER.\n",
      "Some characters could not be decoded, and were replaced with REPLACEMENT CHARACTER.\n",
      " 30%|██████████▌                        | 242/800 [8:11:06<20:59:53, 135.47s/it]Some characters could not be decoded, and were replaced with REPLACEMENT CHARACTER.\n",
      " 31%|██████████▊                        | 247/800 [8:20:48<20:57:36, 136.45s/it]Some characters could not be decoded, and were replaced with REPLACEMENT CHARACTER.\n",
      "Some characters could not be decoded, and were replaced with REPLACEMENT CHARACTER.\n",
      " 31%|███████████▎                        | 250/800 [8:24:55<14:58:33, 98.02s/it]Some characters could not be decoded, and were replaced with REPLACEMENT CHARACTER.\n",
      " 32%|███████████▏                       | 256/800 [8:38:11<19:16:47, 127.59s/it]Some characters could not be decoded, and were replaced with REPLACEMENT CHARACTER.\n",
      " 32%|███████████▎                       | 259/800 [8:44:05<18:31:05, 123.23s/it]Some characters could not be decoded, and were replaced with REPLACEMENT CHARACTER.\n",
      " 32%|███████████▍                       | 260/800 [8:46:11<18:36:06, 124.01s/it]Some characters could not be decoded, and were replaced with REPLACEMENT CHARACTER.\n",
      "Some characters could not be decoded, and were replaced with REPLACEMENT CHARACTER.\n",
      "Some characters could not be decoded, and were replaced with REPLACEMENT CHARACTER.\n",
      "Some characters could not be decoded, and were replaced with REPLACEMENT CHARACTER.\n",
      " 33%|███████████▉                        | 264/800 [8:52:27<14:49:53, 99.61s/it]Some characters could not be decoded, and were replaced with REPLACEMENT CHARACTER.\n",
      "Some characters could not be decoded, and were replaced with REPLACEMENT CHARACTER.\n",
      " 34%|████████████▎                       | 273/800 [9:07:21<13:55:48, 95.16s/it]Some characters could not be decoded, and were replaced with REPLACEMENT CHARACTER.\n",
      " 34%|████████████▎                       | 274/800 [9:08:34<12:54:52, 88.39s/it]Some characters could not be decoded, and were replaced with REPLACEMENT CHARACTER.\n",
      "Some characters could not be decoded, and were replaced with REPLACEMENT CHARACTER.\n",
      " 37%|█████████████▏                      | 293/800 [9:41:02<13:12:55, 93.84s/it]Some characters could not be decoded, and were replaced with REPLACEMENT CHARACTER.\n",
      " 38%|█████████████▏                     | 301/800 [9:57:05<16:05:49, 116.13s/it]Some characters could not be decoded, and were replaced with REPLACEMENT CHARACTER.\n",
      " 38%|█████████████▍                     | 306/800 [10:05:56<13:18:27, 96.98s/it]Some characters could not be decoded, and were replaced with REPLACEMENT CHARACTER.\n",
      "Some characters could not be decoded, and were replaced with REPLACEMENT CHARACTER.\n",
      " 39%|█████████████▋                     | 314/800 [10:16:34<11:45:08, 87.05s/it]Some characters could not be decoded, and were replaced with REPLACEMENT CHARACTER.\n",
      "Some characters could not be decoded, and were replaced with REPLACEMENT CHARACTER.\n",
      " 40%|█████████████▍                    | 316/800 [10:22:31<17:54:36, 133.21s/it]Some characters could not be decoded, and were replaced with REPLACEMENT CHARACTER.\n",
      "Some characters could not be decoded, and were replaced with REPLACEMENT CHARACTER.\n",
      " 40%|██████████████                     | 320/800 [10:28:29<12:47:44, 95.97s/it]Some characters could not be decoded, and were replaced with REPLACEMENT CHARACTER.\n",
      " 41%|██████████████▏                    | 325/800 [10:36:38<12:49:24, 97.19s/it]Some characters could not be decoded, and were replaced with REPLACEMENT CHARACTER.\n",
      " 41%|██████████████▍                    | 329/800 [10:43:28<11:52:43, 90.79s/it]Some characters could not be decoded, and were replaced with REPLACEMENT CHARACTER.\n",
      "Some characters could not be decoded, and were replaced with REPLACEMENT CHARACTER.\n",
      " 42%|██████████████                    | 332/800 [10:51:26<17:33:59, 135.13s/it]Some characters could not be decoded, and were replaced with REPLACEMENT CHARACTER.\n",
      "Some characters could not be decoded, and were replaced with REPLACEMENT CHARACTER.\n",
      " 42%|██████████████▋                    | 337/800 [10:59:08<11:46:14, 91.52s/it]Some characters could not be decoded, and were replaced with REPLACEMENT CHARACTER.\n",
      " 45%|███████████████▌                   | 357/800 [11:31:30<10:37:20, 86.32s/it]Some characters could not be decoded, and were replaced with REPLACEMENT CHARACTER.\n",
      "Some characters could not be decoded, and were replaced with REPLACEMENT CHARACTER.\n",
      " 46%|███████████████▍                  | 364/800 [11:46:49<16:02:59, 132.52s/it]Some characters could not be decoded, and were replaced with REPLACEMENT CHARACTER.\n",
      "Some characters could not be decoded, and were replaced with REPLACEMENT CHARACTER.\n",
      " 46%|███████████████▌                  | 365/800 [11:51:43<21:51:03, 180.84s/it]Some characters could not be decoded, and were replaced with REPLACEMENT CHARACTER.\n",
      " 47%|███████████████▉                  | 374/800 [12:09:26<14:43:56, 124.50s/it]Some characters could not be decoded, and were replaced with REPLACEMENT CHARACTER.\n",
      " 47%|████████████████▌                  | 379/800 [12:17:26<11:30:34, 98.42s/it]Some characters could not be decoded, and were replaced with REPLACEMENT CHARACTER.\n",
      "Some characters could not be decoded, and were replaced with REPLACEMENT CHARACTER.\n",
      "Some characters could not be decoded, and were replaced with REPLACEMENT CHARACTER.\n",
      " 48%|████████████████▎                 | 385/800 [12:30:37<13:34:38, 117.78s/it]Some characters could not be decoded, and were replaced with REPLACEMENT CHARACTER.\n",
      " 51%|█████████████████▎                | 406/800 [13:05:53<14:14:32, 130.13s/it]Some characters could not be decoded, and were replaced with REPLACEMENT CHARACTER.\n",
      " 52%|█████████████████▋                | 417/800 [13:30:03<12:18:34, 115.70s/it]Some characters could not be decoded, and were replaced with REPLACEMENT CHARACTER.\n",
      " 52%|█████████████████▊                | 418/800 [13:34:23<16:53:05, 159.12s/it]Some characters could not be decoded, and were replaced with REPLACEMENT CHARACTER.\n",
      " 54%|██████████████████▎               | 432/800 [13:59:56<10:56:17, 107.00s/it]Some characters could not be decoded, and were replaced with REPLACEMENT CHARACTER.\n",
      " 55%|██████████████████▌               | 438/800 [14:12:09<12:32:50, 124.78s/it]Some characters could not be decoded, and were replaced with REPLACEMENT CHARACTER.\n",
      " 55%|██████████████████▋               | 441/800 [14:19:26<14:21:20, 143.96s/it]Some characters could not be decoded, and were replaced with REPLACEMENT CHARACTER.\n",
      " 56%|██████████████████▉               | 447/800 [14:29:15<10:17:52, 105.02s/it]Some characters could not be decoded, and were replaced with REPLACEMENT CHARACTER.\n",
      "Some characters could not be decoded, and were replaced with REPLACEMENT CHARACTER.\n",
      " 57%|███████████████████▎              | 455/800 [14:42:17<10:16:20, 107.19s/it]Some characters could not be decoded, and were replaced with REPLACEMENT CHARACTER.\n",
      " 57%|███████████████████▍              | 456/800 [14:44:26<10:52:21, 113.78s/it]Some characters could not be decoded, and were replaced with REPLACEMENT CHARACTER.\n",
      " 58%|████████████████████▊               | 462/800 [14:53:27<8:21:02, 88.94s/it]Some characters could not be decoded, and were replaced with REPLACEMENT CHARACTER.\n",
      " 59%|████████████████████▌              | 469/800 [15:06:17<9:57:29, 108.31s/it]Some characters could not be decoded, and were replaced with REPLACEMENT CHARACTER.\n",
      " 59%|███████████████████▉              | 470/800 [15:08:25<10:29:32, 114.46s/it]Some characters could not be decoded, and were replaced with REPLACEMENT CHARACTER.\n",
      "Some characters could not be decoded, and were replaced with REPLACEMENT CHARACTER.\n",
      "Some characters could not be decoded, and were replaced with REPLACEMENT CHARACTER.\n",
      " 60%|█████████████████████▍              | 477/800 [15:20:26<6:20:58, 70.77s/it]Some characters could not be decoded, and were replaced with REPLACEMENT CHARACTER.\n",
      " 61%|█████████████████████▉              | 487/800 [15:37:38<7:12:37, 82.93s/it]Some characters could not be decoded, and were replaced with REPLACEMENT CHARACTER.\n",
      " 62%|█████████████████████▊             | 498/800 [15:57:51<8:51:47, 105.65s/it]Some characters could not be decoded, and were replaced with REPLACEMENT CHARACTER.\n",
      " 64%|██████████████████████▍            | 512/800 [16:26:23<9:42:20, 121.32s/it]Some characters could not be decoded, and were replaced with REPLACEMENT CHARACTER.\n",
      " 65%|██████████████████████            | 518/800 [16:43:24<14:38:17, 186.87s/it]Some characters could not be decoded, and were replaced with REPLACEMENT CHARACTER.\n",
      "Some characters could not be decoded, and were replaced with REPLACEMENT CHARACTER.\n",
      " 68%|███████████████████████▋           | 542/800 [17:16:23<7:58:05, 111.18s/it]Some characters could not be decoded, and were replaced with REPLACEMENT CHARACTER.\n",
      "Some characters could not be decoded, and were replaced with REPLACEMENT CHARACTER.\n",
      " 68%|███████████████████████▊           | 543/800 [17:19:30<9:34:39, 134.16s/it]Some characters could not be decoded, and were replaced with REPLACEMENT CHARACTER.\n",
      " 68%|████████████████████████▋           | 548/800 [17:25:53<4:52:44, 69.70s/it]Some characters could not be decoded, and were replaced with REPLACEMENT CHARACTER.\n",
      "Some characters could not be decoded, and were replaced with REPLACEMENT CHARACTER.\n",
      " 69%|████████████████████████▉           | 554/800 [17:37:17<6:23:14, 93.47s/it]Some characters could not be decoded, and were replaced with REPLACEMENT CHARACTER.\n",
      " 70%|█████████████████████████▏          | 559/800 [17:42:56<5:11:53, 77.65s/it]Some characters could not be decoded, and were replaced with REPLACEMENT CHARACTER.\n",
      "Some characters could not be decoded, and were replaced with REPLACEMENT CHARACTER.\n",
      "Some characters could not be decoded, and were replaced with REPLACEMENT CHARACTER.\n",
      " 74%|██████████████████████████▋         | 592/800 [18:38:06<4:37:51, 80.15s/it]Some characters could not be decoded, and were replaced with REPLACEMENT CHARACTER.\n",
      "Some characters could not be decoded, and were replaced with REPLACEMENT CHARACTER.\n",
      "Some characters could not be decoded, and were replaced with REPLACEMENT CHARACTER.\n",
      "Some characters could not be decoded, and were replaced with REPLACEMENT CHARACTER.\n",
      " 75%|███████████████████████████         | 600/800 [18:53:00<5:14:13, 94.27s/it]Some characters could not be decoded, and were replaced with REPLACEMENT CHARACTER.\n",
      "Some characters could not be decoded, and were replaced with REPLACEMENT CHARACTER.\n",
      " 76%|██████████████████████████▋        | 611/800 [19:11:42<5:23:41, 102.76s/it]Some characters could not be decoded, and were replaced with REPLACEMENT CHARACTER.\n",
      " 77%|██████████████████████████▉        | 616/800 [19:20:43<5:42:07, 111.56s/it]Some characters could not be decoded, and were replaced with REPLACEMENT CHARACTER.\n",
      " 78%|████████████████████████████▎       | 628/800 [19:37:48<3:24:31, 71.35s/it]Some characters could not be decoded, and were replaced with REPLACEMENT CHARACTER.\n",
      " 79%|███████████████████████████▌       | 631/800 [19:43:14<4:45:35, 101.39s/it]Some characters could not be decoded, and were replaced with REPLACEMENT CHARACTER.\n",
      " 82%|█████████████████████████████▍      | 653/800 [20:31:59<3:51:33, 94.52s/it]Some characters could not be decoded, and were replaced with REPLACEMENT CHARACTER.\n",
      " 82%|████████████████████████████▊      | 659/800 [20:46:04<5:20:21, 136.32s/it]Some characters could not be decoded, and were replaced with REPLACEMENT CHARACTER.\n",
      " 83%|█████████████████████████████▏     | 666/800 [20:58:43<4:28:28, 120.21s/it]Some characters could not be decoded, and were replaced with REPLACEMENT CHARACTER.\n",
      " 83%|█████████████████████████████▏     | 667/800 [21:01:27<4:55:31, 133.32s/it]Some characters could not be decoded, and were replaced with REPLACEMENT CHARACTER.\n",
      " 85%|█████████████████████████████▋     | 679/800 [21:21:30<3:55:02, 116.55s/it]Some characters could not be decoded, and were replaced with REPLACEMENT CHARACTER.\n",
      " 86%|██████████████████████████████▊     | 684/800 [21:30:08<3:09:18, 97.92s/it]Some characters could not be decoded, and were replaced with REPLACEMENT CHARACTER.\n",
      " 88%|██████████████████████████████▉    | 707/800 [22:16:26<3:05:42, 119.81s/it]Some characters could not be decoded, and were replaced with REPLACEMENT CHARACTER.\n",
      " 89%|███████████████████████████████▉    | 710/800 [22:21:00<2:27:46, 98.52s/it]Some characters could not be decoded, and were replaced with REPLACEMENT CHARACTER.\n",
      "Some characters could not be decoded, and were replaced with REPLACEMENT CHARACTER.\n",
      "Some characters could not be decoded, and were replaced with REPLACEMENT CHARACTER.\n",
      " 89%|███████████████████████████████▏   | 714/800 [22:28:22<2:35:38, 108.58s/it]Some characters could not be decoded, and were replaced with REPLACEMENT CHARACTER.\n",
      "Some characters could not be decoded, and were replaced with REPLACEMENT CHARACTER.\n",
      " 91%|████████████████████████████████▋   | 725/800 [22:47:46<1:54:04, 91.26s/it]Some characters could not be decoded, and were replaced with REPLACEMENT CHARACTER.\n",
      " 92%|████████████████████████████████▉   | 733/800 [23:00:40<1:47:04, 95.89s/it]Some characters could not be decoded, and were replaced with REPLACEMENT CHARACTER.\n",
      "Some characters could not be decoded, and were replaced with REPLACEMENT CHARACTER.\n",
      "Some characters could not be decoded, and were replaced with REPLACEMENT CHARACTER.\n",
      "Some characters could not be decoded, and were replaced with REPLACEMENT CHARACTER.\n",
      "Some characters could not be decoded, and were replaced with REPLACEMENT CHARACTER.\n",
      " 92%|████████████████████████████████   | 734/800 [23:06:01<3:00:01, 163.66s/it]Some characters could not be decoded, and were replaced with REPLACEMENT CHARACTER.\n",
      " 93%|████████████████████████████████▍  | 741/800 [23:19:29<2:02:26, 124.52s/it]Some characters could not be decoded, and were replaced with REPLACEMENT CHARACTER.\n",
      " 96%|████████████████████████████████████▍ | 767/800 [24:14:31<52:12, 94.94s/it]Some characters could not be decoded, and were replaced with REPLACEMENT CHARACTER.\n",
      " 96%|███████████████████████████████████▋ | 771/800 [24:22:38<55:34, 114.98s/it]Some characters could not be decoded, and were replaced with REPLACEMENT CHARACTER.\n",
      " 97%|████████████████████████████████████▋ | 773/800 [24:25:33<44:16, 98.40s/it]Some characters could not be decoded, and were replaced with REPLACEMENT CHARACTER.\n",
      " 98%|█████████████████████████████████████▏| 783/800 [24:37:29<18:22, 64.85s/it]Some characters could not be decoded, and were replaced with REPLACEMENT CHARACTER.\n",
      " 98%|█████████████████████████████████████▍| 788/800 [24:46:42<19:23, 96.99s/it]Some characters could not be decoded, and were replaced with REPLACEMENT CHARACTER.\n",
      "100%|████████████████████████████████████▉| 798/800 [25:04:54<03:28, 104.22s/it]Some characters could not be decoded, and were replaced with REPLACEMENT CHARACTER.\n",
      "100%|█████████████████████████████████████| 800/800 [25:08:44<00:00, 113.16s/it]\n"
     ]
    }
   ],
   "source": [
    "# Init dict\n",
    "data = collections.defaultdict(list)\n",
    "#data.update(plants_dict)\n",
    "# DEBUGGING\n",
    "data_links = collections.defaultdict(list)\n",
    "# Init driver\n",
    "driver = webdriver.Safari()\n",
    "\n",
    "\n",
    "queries = ['description', 'diagnosis', '', 'attributes', 'captions']\n",
    "\n",
    "for species in tqdm(plants[100:900]):\n",
    "    # Empty list\n",
    "    search_links = []\n",
    "    \n",
    "    for query in queries:\n",
    "        # create query\n",
    "        species_q = species.replace(' ', '+')\n",
    "        species_q = f'\"{species_q}\"+{query}'\n",
    "        try:\n",
    "            search_links += DuckDuckGo_Java(species_q, \n",
    "                                            driver=driver)\n",
    "            search_links += Bing_HTML(species_q)\n",
    "         # Skip connection timeout\n",
    "        except:\n",
    "            continue\n",
    "    # Drop duplicates\n",
    "    search_links = list(set(search_links))\n",
    "    # DEBUGGING\n",
    "    data_links[species] += search_links\n",
    "    # Loop over the URLs\n",
    "    for URL in search_links:\n",
    "        # Skip google archives\n",
    "        if 'google' in URL:\n",
    "            continue\n",
    "        # PDF and TXT\n",
    "        if URL.endswith('txt') or URL.endswith('pdf'):\n",
    "            continue\n",
    "        try:\n",
    "            page = requests.get(URL, timeout=5)\n",
    "            # Skip PDF files for now\n",
    "            if page.headers['Content-Type'].startswith('application/pdf'):\n",
    "                continue\n",
    "            # Soup the result\n",
    "            soup = BeautifulSoup(page.content, 'html.parser')    \n",
    "            # Skip Embedded PDF's\n",
    "            if 'pdf' in soup.title.text.lower():\n",
    "                continue\n",
    "            # Check if species exists somewhere within title\n",
    "            if bool(set(species.split()).intersection(soup.title.text.split())):\n",
    "                # Get text\n",
    "                #dirty_text = soup.get_text(\". \", strip=True)\n",
    "                dirty_text = soup.get_text(\" \", strip=False).replace('\\n', '.')\n",
    "                # Clean and break into sents\n",
    "                sentences = text_cleaner(dirty_text)\n",
    "                # Loop over the individual sentences\n",
    "                for sentence in sentences:                    \n",
    "                    # Create string object\n",
    "                    sentence_str = str(sentence)\n",
    "                    # Check if description\n",
    "                    if classify(sentence_str, model=model):\n",
    "                        if sentence_str not in data[species]:\n",
    "                            data[species].append((sentence_str, URL))                            \n",
    "        except: \n",
    "            continue\n",
    "            \n",
    "driver.quit()"
   ]
  },
  {
   "cell_type": "code",
   "execution_count": 24,
   "id": "475018a1-fa0b-4f31-a175-083464b99650",
   "metadata": {},
   "outputs": [],
   "source": [
    "# Dump pickle into file\n",
    "with open('../data/description/descriptions_100-900.pkl', 'wb') as f:\n",
    "    pickle.dump(data, f)"
   ]
  },
  {
   "cell_type": "code",
   "execution_count": 25,
   "id": "38b3eeb9-fe55-408c-b345-ce69934542d9",
   "metadata": {},
   "outputs": [],
   "source": [
    "import matplotlib.pyplot as plt\n",
    "import seaborn as sns"
   ]
  },
  {
   "cell_type": "code",
   "execution_count": 26,
   "id": "aa45fd34-2ef2-4f2c-83ef-4e8507b819f7",
   "metadata": {},
   "outputs": [],
   "source": [
    "# Change this to the dissimilar in future\n",
    "counts = [len(sents) for key, sents in data.items()]"
   ]
  },
  {
   "cell_type": "code",
   "execution_count": 27,
   "id": "7177684c-5fd8-4f14-a176-687ffc111398",
   "metadata": {},
   "outputs": [
    {
     "data": {
      "text/plain": [
       "757"
      ]
     },
     "execution_count": 27,
     "metadata": {},
     "output_type": "execute_result"
    }
   ],
   "source": [
    "len(counts)"
   ]
  },
  {
   "cell_type": "code",
   "execution_count": 29,
   "id": "8a13de5e-aa3f-4044-ae13-b9943897f277",
   "metadata": {},
   "outputs": [
    {
     "data": {
      "text/plain": [
       "Text(0.5, 1.0, 'Histogram')"
      ]
     },
     "execution_count": 29,
     "metadata": {},
     "output_type": "execute_result"
    },
    {
     "data": {
      "image/png": "[encoded data removed]",
      "text/plain": [
       "<Figure size 720x432 with 1 Axes>"
      ]
     },
     "metadata": {},
     "output_type": "display_data"
    }
   ],
   "source": [
    "fig, ax = plt.subplots(figsize=(10, 6))\n",
    "sns.set_style('whitegrid')\n",
    "ax = sns.histplot(counts, bins=50)\n",
    "ax.set_title('Histogram')\n",
    "#plt.xlim(0, 300)"
   ]
  },
  {
   "cell_type": "code",
   "execution_count": null,
   "id": "93a7739d-0de4-4298-8a64-ff5fbbf71afb",
   "metadata": {},
   "outputs": [],
   "source": []
  },
  {
   "cell_type": "code",
   "execution_count": null,
   "id": "c4c916cb-4bf7-44e5-924a-d20c019c7b08",
   "metadata": {},
   "outputs": [],
   "source": [
    "html = colorize_prediction(\n",
    "    ['Something about a bird or plant',\n",
    "     'The bill and the legs are both black.',\n",
    "     'The house is large with enormous windows.',\n",
    "     'This is something random, but the sexes are similar.',\n",
    "     'Nuclear power might solve the energy power.',\n",
    "     'The tree has a brown bark and the leaves are pointed',\n",
    "     'By growing in shaded places, the plant reduces evaporation.',\n",
    "     '3 cm seeds.'],\n",
    "model=model)"
   ]
  },
  {
   "cell_type": "code",
   "execution_count": null,
   "id": "82266e27-d158-4f84-8ae4-e8b112e81afa",
   "metadata": {},
   "outputs": [],
   "source": [
    "display(HTML(html))"
   ]
  },
  {
   "cell_type": "code",
   "execution_count": null,
   "id": "3fe23cc7-8515-4521-b012-72a8107fd12d",
   "metadata": {},
   "outputs": [],
   "source": [
    "Html_file= open(\"test\",\"w\")\n",
    "Html_file.write(xxx)\n",
    "Html_file.close()"
   ]
  },
  {
   "cell_type": "code",
   "execution_count": null,
   "id": "b7182328-f35b-4bbf-9b5e-2bac7ef23b4f",
   "metadata": {},
   "outputs": [],
   "source": [
    "xxx= html.replace('\\n', '')"
   ]
  },
  {
   "cell_type": "code",
   "execution_count": null,
   "id": "6c72844a-c3c2-4f20-b352-9ca7d391f57b",
   "metadata": {},
   "outputs": [],
   "source": [
    "URL = \"https://www.beautyofbirds.com/europeanrobins.html\"\n",
    "page = requests.get(URL, timeout=5)\n",
    "soup = BeautifulSoup(page.content, 'html.parser')  \n",
    "dirty_text = soup.get_text(\" \", strip=False).replace('\\n', '.')\n",
    "sents = text_cleaner(dirty_text)"
   ]
  },
  {
   "cell_type": "code",
   "execution_count": null,
   "id": "10aa2194-889a-4cdb-87cb-050a1243d738",
   "metadata": {},
   "outputs": [],
   "source": [
    "html = colorize_prediction(sents[0:5], model=model)"
   ]
  },
  {
   "cell_type": "code",
   "execution_count": 10,
   "id": "245fb1cc-84dd-4eb2-bc39-040addcd2312",
   "metadata": {},
   "outputs": [],
   "source": [
    "dirty_text = \"\"\"\n",
    "The red cotton tree (Bombax ceiba) is a medium- to large-sized tropical tree that usually grows to an average of 20-25 meters, with old trees up to 60 meters in wet tropical weather. It has a straight tall trunk buttressed at base that bears conical spines to deter animal attacks. Its leaves are deciduous in winter. Crimson red flowers with five petals appear in the spring before the new foliage and are one reason that the tree is widely planted. It produces a capsule which, when ripe, contains white fibres, like cotton, which has been used as a substitute for cotton (hence its common name). \n",
    "\"\"\""
   ]
  },
  {
   "cell_type": "code",
   "execution_count": 14,
   "id": "1d39866a-199e-4337-99cf-532201a78218",
   "metadata": {},
   "outputs": [
    {
     "name": "stdout",
     "output_type": "stream",
     "text": [
      "Copy paste this in the .tex file\n",
      "\\definecolor{color1}{HTML}{00441b}\n",
      "\\definecolor{color2}{HTML}{aadfd3}\n",
      "\\definecolor{color3}{HTML}{f7fcfd}\n",
      "\\definecolor{color4}{HTML}{d5efed}\n",
      "\\definecolor{color5}{HTML}{1f8742}\n",
      "\\sethlcolor{color1}\\hl{The red cotton tree is a medium- to large-sized tropical tree that usually grows to an average of 20-25 meters, with old trees up to 60 meters in wet tropical weather. < 0.870 >}\n",
      "\\sethlcolor{color2}\\hl{Its leaves are deciduous in winter. < 0.396 >}\n",
      "\\sethlcolor{color3}\\hl{It produces a capsule which, when ripe, contains white fibres, like cotton, which has been used as a substitute for cotton. < 0.158 >}\n",
      "\\sethlcolor{color4}\\hl{Crimson red flowers with five petals appear in the spring before the new foliage and are one reason that the tree is widely planted. < 0.303 >}\n",
      "\\sethlcolor{color5}\\hl{It has a straight tall trunk buttressed at base that bears conical spines to deter animal attacks. < 0.701 >}\n"
     ]
    },
    {
     "data": {
      "text/html": [
       "  <mark class=\"entity\" style=\"\n",
       "    background: #00441b; \n",
       "    padding: 0.4em 0.0em; \n",
       "    margin: 0.0em; \n",
       "    line-height: 2; \n",
       "    border-radius: 0.75em;\n",
       "    \">The red cotton tree is a medium- to large-sized tropical tree that usually grows to an average of 20-25 meters, with old trees up to 60 meters in wet tropical weather. < 0.870 >    \n",
       "    <span style=\"\n",
       "    font-size: 0.8em; \n",
       "    font-weight: bold;\n",
       "    font-color: #538b01;\n",
       "    font color: #538b01;\n",
       "    line-height: 1; \n",
       "    border-radius: 0.75em;\n",
       "    text-align: justify;\n",
       "    text-align-last:center;\n",
       "    vertical-align: middle;\n",
       "    margin-left: 0rem\">\n",
       "    </span>\n",
       "</mark>  <mark class=\"entity\" style=\"\n",
       "    background: #aadfd3; \n",
       "    padding: 0.4em 0.0em; \n",
       "    margin: 0.0em; \n",
       "    line-height: 2; \n",
       "    border-radius: 0.75em;\n",
       "    \">Its leaves are deciduous in winter. < 0.396 >    \n",
       "    <span style=\"\n",
       "    font-size: 0.8em; \n",
       "    font-weight: bold;\n",
       "    font-color: #538b01;\n",
       "    font color: #538b01;\n",
       "    line-height: 1; \n",
       "    border-radius: 0.75em;\n",
       "    text-align: justify;\n",
       "    text-align-last:center;\n",
       "    vertical-align: middle;\n",
       "    margin-left: 0rem\">\n",
       "    </span>\n",
       "</mark>  <mark class=\"entity\" style=\"\n",
       "    background: #f7fcfd; \n",
       "    padding: 0.4em 0.0em; \n",
       "    margin: 0.0em; \n",
       "    line-height: 2; \n",
       "    border-radius: 0.75em;\n",
       "    \">It produces a capsule which, when ripe, contains white fibres, like cotton, which has been used as a substitute for cotton. < 0.158 >    \n",
       "    <span style=\"\n",
       "    font-size: 0.8em; \n",
       "    font-weight: bold;\n",
       "    font-color: #538b01;\n",
       "    font color: #538b01;\n",
       "    line-height: 1; \n",
       "    border-radius: 0.75em;\n",
       "    text-align: justify;\n",
       "    text-align-last:center;\n",
       "    vertical-align: middle;\n",
       "    margin-left: 0rem\">\n",
       "    </span>\n",
       "</mark>  <mark class=\"entity\" style=\"\n",
       "    background: #d5efed; \n",
       "    padding: 0.4em 0.0em; \n",
       "    margin: 0.0em; \n",
       "    line-height: 2; \n",
       "    border-radius: 0.75em;\n",
       "    \">Crimson red flowers with five petals appear in the spring before the new foliage and are one reason that the tree is widely planted. < 0.303 >    \n",
       "    <span style=\"\n",
       "    font-size: 0.8em; \n",
       "    font-weight: bold;\n",
       "    font-color: #538b01;\n",
       "    font color: #538b01;\n",
       "    line-height: 1; \n",
       "    border-radius: 0.75em;\n",
       "    text-align: justify;\n",
       "    text-align-last:center;\n",
       "    vertical-align: middle;\n",
       "    margin-left: 0rem\">\n",
       "    </span>\n",
       "</mark>  <mark class=\"entity\" style=\"\n",
       "    background: #1f8742; \n",
       "    padding: 0.4em 0.0em; \n",
       "    margin: 0.0em; \n",
       "    line-height: 2; \n",
       "    border-radius: 0.75em;\n",
       "    \">It has a straight tall trunk buttressed at base that bears conical spines to deter animal attacks. < 0.701 >    \n",
       "    <span style=\"\n",
       "    font-size: 0.8em; \n",
       "    font-weight: bold;\n",
       "    font-color: #538b01;\n",
       "    font color: #538b01;\n",
       "    line-height: 1; \n",
       "    border-radius: 0.75em;\n",
       "    text-align: justify;\n",
       "    text-align-last:center;\n",
       "    vertical-align: middle;\n",
       "    margin-left: 0rem\">\n",
       "    </span>\n",
       "</mark>"
      ],
      "text/plain": [
       "<IPython.core.display.HTML object>"
      ]
     },
     "metadata": {},
     "output_type": "display_data"
    }
   ],
   "source": [
    "sents = text_cleaner(dirty_text)\n",
    "html = colorize_prediction(sents, model=model, tex=True)\n",
    "display(HTML(html))"
   ]
  },
  {
   "cell_type": "code",
   "execution_count": 12,
   "id": "f0fc764c-d7eb-40eb-9e15-cd89ee0f28ab",
   "metadata": {},
   "outputs": [],
   "source": [
    "html = html.replace('\\n', '')"
   ]
  },
  {
   "cell_type": "code",
   "execution_count": 13,
   "id": "225be396-aa4e-4493-8390-8f97048a3534",
   "metadata": {},
   "outputs": [],
   "source": [
    "Html_file = open(\"web_crawler_example\",\"w\")\n",
    "Html_file.write(html)\n",
    "Html_file.close()"
   ]
  },
  {
   "cell_type": "code",
   "execution_count": 13,
   "id": "7266f9df-bf65-49aa-8281-46cd58c7112f",
   "metadata": {},
   "outputs": [],
   "source": [
    "test = \"\"\"\n",
    "Large-billed Flycatcher is most similar to Hill Blue Flycatcher in plumage coloration, but has paler orange throat more contrasting with breast (16). Structural differences include the larger, strongly hook-tipped and broader bill, slightly larger size (11), longer primary projection (10), paler legs, and proportionally shorter tail and legs than Hill Blue Flycatcher (9, 17). Juvenile Large Blue Flycatcher is said to have more colorful upperparts (18). Males of most Chinese Blue Flycatchers and some Blue-throated Flycatcher have distinctly narrower orange-rufous wedge extending up to the dark blue throat and blue across upper throat below jaw-level (7), but the orange notch on throat is often wide and extending up to chin (17).\n",
    "\n",
    "Male Tickell’s Blue Flycatcher (C. tickelliae) and Indochinese Blue Flycatcher (C. tickelliae) are slightly paler overall, with blue of upperparts not as deep (11) and much less contrasting bright frontal band and carpus edge. Females of both species differ in having bluish-tinged upperparts, albeit often barely perceivable in northern subspecies of Indochinese Blue Flycatcher (C. t. indochina), and markedly blue rump and uppertail, not strongly rufescent as in Hill Blue Flycatcher (19). Note that female Hill Blue Flycatcher occasionally possesses bluish upperparts and rump (19, 7), but it still features more intense rufous orange throat and breast. Indochinese Blue Flycatcher is diagnostic in having a consistently sharp demarcation between orange upper breast and clean white rest of underparts, without any orange on flanks (20, 21, 19).\n",
    "\"\"\""
   ]
  },
  {
   "cell_type": "code",
   "execution_count": 14,
   "id": "5ea545df-e831-4525-9e55-74be049e1b8f",
   "metadata": {},
   "outputs": [
    {
     "data": {
      "text/plain": [
       "['Juvenile Large Blue Flycatcher is said to have more colorful upperparts.',\n",
       " 'Structural differences include the larger, strongly hook-tipped and broader bill, slightly larger size , longer primary projection , paler legs, and proportionally shorter tail and legs than Hill Blue Flycatcher.',\n",
       " 'Females of both species differ in having bluish-tinged upperparts, albeit often barely perceivable in northern subspecies of Indochinese Blue Flycatcher , and markedly blue rump and uppertail, not strongly rufescent as in Hill Blue Flycatcher.',\n",
       " 'Tickell’s Blue Flycatcher and Indochinese Blue Flycatcher are slightly paler overall, with blue of upperparts not as deep and much less contrasting bright frontal band and carpus edge.',\n",
       " 'Indochinese Blue Flycatcher is diagnostic in having a consistently sharp demarcation between orange upper breast and clean white rest of underparts, without any orange on flanks.',\n",
       " 'Large-billed Flycatcher is most similar to Hill Blue Flycatcher in plumage coloration, but has paler orange throat more contrasting with breast.',\n",
       " 'Note that female Hill Blue Flycatcher occasionally possesses bluish upperparts and rump , but it still features more intense rufous orange throat and breast.',\n",
       " 'Males of most Chinese Blue Flycatchers and some Blue-throated Flycatcher have distinctly narrower orange-rufous wedge extending up to the dark blue throat and blue across upper throat below jaw-level , but the orange notch on throat is often wide and extending up to chin.Male']"
      ]
     },
     "execution_count": 14,
     "metadata": {},
     "output_type": "execute_result"
    }
   ],
   "source": [
    "text_cleaner(test)"
   ]
  },
  {
   "cell_type": "code",
   "execution_count": null,
   "id": "cafb338f-f9d3-42f4-9014-57f797027866",
   "metadata": {},
   "outputs": [],
   "source": []
  }
 ],
 "metadata": {
  "kernelspec": {
   "display_name": "Python [conda env:DL]",
   "language": "python",
   "name": "conda-env-DL-py"
  },
  "language_info": {
   "codemirror_mode": {
    "name": "ipython",
    "version": 3
   },
   "file_extension": ".py",
   "mimetype": "text/x-python",
   "name": "python",
   "nbconvert_exporter": "python",
   "pygments_lexer": "ipython3",
   "version": "3.8.10"
  }
 },
 "nbformat": 4,
 "nbformat_minor": 5
}
