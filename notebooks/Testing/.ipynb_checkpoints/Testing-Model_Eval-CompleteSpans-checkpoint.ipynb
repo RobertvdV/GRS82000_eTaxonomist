{
 "cells": [
  {
   "cell_type": "code",
   "execution_count": 1,
   "id": "60b2389b-7977-452d-8304-56e677237dab",
   "metadata": {},
   "outputs": [],
   "source": [
    "import numpy as np\n",
    "import torch\n",
    "import torch.nn as nn\n",
    "from IPython.display import display, HTML\n",
    "from transformers import DistilBertModel, DistilBertTokenizer, logging\n",
    "import matplotlib\n",
    "import matplotlib.pyplot as plt\n",
    "from matplotlib.lines import Line2D\n",
    "from tqdm.notebook import tqdm as tqdm_notebook\n",
    "import seaborn as sns\n",
    "import pandas as pd\n",
    "import numpy as np\n",
    "import collections\n",
    "from collections import Counter\n",
    "import glob\n",
    "import pickle\n",
    "import random\n",
    "from sklearn.metrics.pairwise import cosine_similarity\n",
    "import sys\n",
    "from sklearn.preprocessing import LabelBinarizer"
   ]
  },
  {
   "cell_type": "code",
   "execution_count": 2,
   "id": "0bc7e586-b2e3-4685-ba60-6715d349ecbe",
   "metadata": {},
   "outputs": [],
   "source": [
    "logging.set_verbosity_error()\n",
    "tokenizer = DistilBertTokenizer.from_pretrained('distilbert-base-uncased')\n",
    "device = torch.device(\"cuda:0\" if torch.cuda.is_available() else \"cpu\")\n",
    "\n",
    "sys.path.insert(0, '../src/models/')\n",
    "sys.path.insert(0, '../src/features/')"
   ]
  },
  {
   "cell_type": "code",
   "execution_count": 3,
   "id": "b4c06f4e-33b5-4135-bd28-9b405ce51119",
   "metadata": {},
   "outputs": [],
   "source": [
    "# Own Functions\n",
    "from build_features import similarity_matrix as vector_values\n",
    "from predict_model import load_CUB_Bert, load_simBERT, loadBERT\n",
    "from predict_model import SpanPredictor as classify"
   ]
  },
  {
   "cell_type": "code",
   "execution_count": 4,
   "id": "eda4161d-ddce-47e6-bf0f-27dccf7335c4",
   "metadata": {},
   "outputs": [],
   "source": [
    "output = 233"
   ]
  },
  {
   "cell_type": "code",
   "execution_count": 5,
   "id": "0a56a6ea-b5c0-4553-9c24-d08586ba37a9",
   "metadata": {},
   "outputs": [
    {
     "name": "stdout",
     "output_type": "stream",
     "text": [
      "Local Success\n"
     ]
    }
   ],
   "source": [
    "model = load_CUB_Bert(\"../models/\", 'saved_weights_SPECIES_PLANT_233.pt', outputsize=output)"
   ]
  },
  {
   "cell_type": "code",
   "execution_count": 6,
   "id": "243c9a5a-90b5-4f9c-84b3-6efdfa82c8e9",
   "metadata": {},
   "outputs": [],
   "source": [
    "POWO = pickle.load(open('../data/processed/RDF_text_POWOSET.pkl', 'rb'))\n",
    "TEST = pickle.load(open('../data/processed/RDF_text_TESTSET.pkl', 'rb'))"
   ]
  },
  {
   "cell_type": "code",
   "execution_count": 7,
   "id": "e3f54317-61ff-4bf8-aa0c-4c493526b0e9",
   "metadata": {},
   "outputs": [],
   "source": [
    "lb = LabelBinarizer()\n",
    "keys = np.array([key for key in POWO.keys()])\n",
    "keys_encoded = lb.fit_transform(keys)"
   ]
  },
  {
   "cell_type": "code",
   "execution_count": 84,
   "id": "5f1ff4af-0d7d-4a2a-b1ff-5799be04fa52",
   "metadata": {},
   "outputs": [],
   "source": [
    "def WhichPlant(span, model):\n",
    "\n",
    "    \"\"\"\n",
    "    Uses a trained bert classifier to see if a span\n",
    "    belongs to a species description or otherwise.\n",
    "    \"\"\"\n",
    "        \n",
    "    with torch.no_grad():\n",
    "        # Tokenize input\n",
    "        inputs = tokenizer(span, return_tensors=\"pt\", truncation='only_first', )\n",
    "        # Predict class\n",
    "        outputs = model(**inputs)\n",
    "        # Get prediction values\n",
    "        exps = torch.exp(outputs)\n",
    "        # Get class\n",
    "        probs = exps.detach().numpy()\n",
    "        \n",
    "        #return np.squeeze(probs)\n",
    "        \n",
    "        # TESTING\n",
    "        outputs = outputs.detach().numpy()\n",
    "        return np.squeeze(outputs)"
   ]
  },
  {
   "cell_type": "code",
   "execution_count": 86,
   "id": "1da57aed-2151-4652-9880-30ab53788046",
   "metadata": {},
   "outputs": [],
   "source": [
    "#WhichPlant('this is a test ', model=model)"
   ]
  },
  {
   "cell_type": "code",
   "execution_count": 117,
   "id": "ea4bbfa5-c3bd-41ac-832d-99cb31c478a9",
   "metadata": {},
   "outputs": [
    {
     "name": "stdout",
     "output_type": "stream",
     "text": [
      "NAME: Sesbania macrantha\n"
     ]
    }
   ],
   "source": [
    "plant_idx = 66\n",
    "species = list(POWO.keys())\n",
    "plant = species[plant_idx]\n",
    "print('NAME:', plant)"
   ]
  },
  {
   "cell_type": "code",
   "execution_count": 118,
   "id": "78fa3667-2156-4dda-8f0d-a454f9f78d2d",
   "metadata": {},
   "outputs": [
    {
     "name": "stdout",
     "output_type": "stream",
     "text": [
      "Sesbania macrantha\n"
     ]
    },
    {
     "data": {
      "application/vnd.jupyter.widget-view+json": {
       "model_id": "483e2db9401446ccbc9e478e2d6747fe",
       "version_major": 2,
       "version_minor": 0
      },
      "text/plain": [
       "  0%|          | 0/59 [00:00<?, ?it/s]"
      ]
     },
     "metadata": {},
     "output_type": "display_data"
    }
   ],
   "source": [
    "#plant = list(data.keys())[1]\n",
    "print(plant)\n",
    "\n",
    "probs_stack = np.empty((0, output), float)\n",
    "text_span = ''\n",
    "\n",
    "for text in tqdm_notebook(POWO[plant][0:]):\n",
    "    text_span += f'{text} ' \n",
    "    probs = WhichPlant(text_span, model=model)\n",
    "    #probs = WhichPlant(text, model=model)\n",
    "    probs_stack = np.vstack((probs_stack, probs))"
   ]
  },
  {
   "cell_type": "code",
   "execution_count": 115,
   "id": "3a86ffcb-551a-48ae-889d-ebe04512a6c8",
   "metadata": {},
   "outputs": [
    {
     "data": {
      "text/plain": [
       "'Spine fleshy. Species has main part basic flower parts. Fruit cylindrical. Basic flower parts has sub part fruit. Stems has sub part spine. Species has main part stems. Fruit syncarpous. Fruit globose. Fruit indehiscent. Fruit fleshy. '"
      ]
     },
     "execution_count": 115,
     "metadata": {},
     "output_type": "execute_result"
    }
   ],
   "source": [
    "text_span"
   ]
  },
  {
   "cell_type": "code",
   "execution_count": 116,
   "id": "5275790e-ac2a-4127-9f1b-5f37d2b75a52",
   "metadata": {},
   "outputs": [
    {
     "data": {
      "image/png": "[encoded data removed]",
      "text/plain": [
       "<Figure size 720x576 with 1 Axes>"
      ]
     },
     "metadata": {
      "needs_background": "light"
     },
     "output_type": "display_data"
    }
   ],
   "source": [
    "fig, ax = plt.subplots(figsize=(10, 8))\n",
    "for i in range(0, output):\n",
    "    if i == np.where(lb.classes_ == plant)[0][0]:\n",
    "        ax.plot(probs_stack[:, i], color='blue', alpha=1, markersize=5, zorder=2)\n",
    "    else:\n",
    "        \n",
    "        ax.plot(probs_stack[:, i], color='red', alpha=0.1, zorder=1)\n",
    "plt.grid()"
   ]
  },
  {
   "cell_type": "code",
   "execution_count": 18,
   "id": "855777c8-95a0-4fa8-b6b9-449be708450e",
   "metadata": {},
   "outputs": [],
   "source": [
    "correct =  probs_stack[:, i]\n",
    "uncorrect = np.delete(probs_stack, i, axis=1)"
   ]
  },
  {
   "cell_type": "code",
   "execution_count": 19,
   "id": "f50ff595-86a9-43bb-8f6c-ffae66b1cbeb",
   "metadata": {},
   "outputs": [],
   "source": [
    "#uncorrect[0]"
   ]
  },
  {
   "cell_type": "code",
   "execution_count": 90,
   "id": "97aa5bb4-ada6-485e-bdc2-c2c3c65f36d2",
   "metadata": {},
   "outputs": [
    {
     "data": {
      "application/vnd.jupyter.widget-view+json": {
       "model_id": "342388a6400c458c9719803401ef8fe4",
       "version_major": 2,
       "version_minor": 0
      },
      "text/plain": [
       "  0%|          | 0/20 [00:00<?, ?it/s]"
      ]
     },
     "metadata": {},
     "output_type": "display_data"
    }
   ],
   "source": [
    "correct     = []\n",
    "not_correct = []\n",
    "\n",
    "for plant in tqdm_notebook(species[0:20]):\n",
    "    # Index plant\n",
    "    idx = np.where(lb.classes_ == plant)[0][0]\n",
    "    for text in TEST[plant]:\n",
    "        probabilities = WhichPlant(text, model=model)\n",
    "        correct.append(probabilities[idx])\n",
    "        not_correct += list(np.delete(probabilities, idx))"
   ]
  },
  {
   "cell_type": "code",
   "execution_count": 21,
   "id": "07466994-f65b-4658-bae3-89b26f013da8",
   "metadata": {},
   "outputs": [],
   "source": [
    "from scipy import stats"
   ]
  },
  {
   "cell_type": "code",
   "execution_count": 27,
   "id": "18591221-f8f6-4b1d-87bc-1318aaef8f3a",
   "metadata": {},
   "outputs": [],
   "source": [
    "correct = np.array(correct)"
   ]
  },
  {
   "cell_type": "code",
   "execution_count": 31,
   "id": "d15f6183-9ee0-4500-bac2-853427482a3a",
   "metadata": {},
   "outputs": [],
   "source": [
    "not_correct = np.array(not_correct)"
   ]
  },
  {
   "cell_type": "code",
   "execution_count": 48,
   "id": "6b7e31d2-2114-41b3-bee6-c06d067035e5",
   "metadata": {},
   "outputs": [
    {
     "data": {
      "text/plain": [
       "(2697232,)"
      ]
     },
     "execution_count": 48,
     "metadata": {},
     "output_type": "execute_result"
    }
   ],
   "source": [
    "not_correct.shape"
   ]
  },
  {
   "cell_type": "code",
   "execution_count": null,
   "id": "5349187a-7df5-4260-a6a0-3f75d4c6b45b",
   "metadata": {},
   "outputs": [],
   "source": []
  },
  {
   "cell_type": "code",
   "execution_count": 49,
   "id": "322987cf-6d16-4314-ae62-bc0ff461fec0",
   "metadata": {},
   "outputs": [
    {
     "data": {
      "text/plain": [
       "0.004242892"
      ]
     },
     "execution_count": 49,
     "metadata": {},
     "output_type": "execute_result"
    }
   ],
   "source": [
    "not_correct.mean()"
   ]
  },
  {
   "cell_type": "code",
   "execution_count": 95,
   "id": "b735b308-3188-4f2f-a1c6-81320d9127c4",
   "metadata": {},
   "outputs": [
    {
     "data": {
      "text/plain": [
       "Ttest_indResult(statistic=21.50270960117851, pvalue=2.8752799121436165e-84)"
      ]
     },
     "execution_count": 95,
     "metadata": {},
     "output_type": "execute_result"
    }
   ],
   "source": [
    "stats.ttest_ind(correct, not_correct, alternative='greater', equal_var=False)"
   ]
  },
  {
   "cell_type": "code",
   "execution_count": 98,
   "id": "ad44fade-d1f9-46bc-90c4-751c0f0fe9a3",
   "metadata": {},
   "outputs": [
    {
     "data": {
      "text/plain": [
       "<AxesSubplot:>"
      ]
     },
     "execution_count": 98,
     "metadata": {},
     "output_type": "execute_result"
    },
    {
     "data": {
      "image/png": "[encoded data removed]",
      "text/plain": [
       "<Figure size 432x288 with 1 Axes>"
      ]
     },
     "metadata": {
      "needs_background": "light"
     },
     "output_type": "display_data"
    }
   ],
   "source": [
    "sns.boxplot(correct, showfliers=False)"
   ]
  },
  {
   "cell_type": "code",
   "execution_count": 92,
   "id": "3d22f6ec-4df9-43e0-8cb8-c991956e33c0",
   "metadata": {},
   "outputs": [
    {
     "data": {
      "text/plain": [
       "<AxesSubplot:>"
      ]
     },
     "execution_count": 92,
     "metadata": {},
     "output_type": "execute_result"
    },
    {
     "data": {
      "image/png": "[encoded data removed]",
      "text/plain": [
       "<Figure size 432x288 with 1 Axes>"
      ]
     },
     "metadata": {
      "needs_background": "light"
     },
     "output_type": "display_data"
    }
   ],
   "source": [
    "sns.boxplot(not_correct, showfliers=False)"
   ]
  },
  {
   "cell_type": "code",
   "execution_count": 96,
   "id": "168812ae-4fd0-4b90-b7cc-5b8187f642cb",
   "metadata": {},
   "outputs": [
    {
     "data": {
      "text/plain": [
       "<seaborn.axisgrid.FacetGrid at 0x7fd819dd0b50>"
      ]
     },
     "execution_count": 96,
     "metadata": {},
     "output_type": "execute_result"
    },
    {
     "data": {
      "image/png": "[encoded data removed]",
      "text/plain": [
       "<Figure size 402.375x360 with 1 Axes>"
      ]
     },
     "metadata": {
      "needs_background": "light"
     },
     "output_type": "display_data"
    }
   ],
   "source": [
    "sns.displot([not_correct, correct], kind=\"kde\", cut=0)"
   ]
  },
  {
   "cell_type": "code",
   "execution_count": null,
   "id": "ea629d4d-7b62-419d-af88-18010995b4b5",
   "metadata": {},
   "outputs": [],
   "source": [
    "#pos_array = np.array(data[plant][0:])\n",
    "#idx = np.where(lb.classes_ == plant)[0][0]\n",
    "#pos_array[probs_stack[:, idx] > .9]"
   ]
  },
  {
   "cell_type": "code",
   "execution_count": null,
   "id": "1c4ce228-3c19-4b26-958a-6668b005e922",
   "metadata": {},
   "outputs": [],
   "source": [
    "\n",
    "data_plants = collections.defaultdict(list)\n",
    "data_plants_all = collections.defaultdict(list)\n",
    "\n",
    "for plant in tqdm_notebook(species[0:]):\n",
    "    \n",
    "    for text in TEST[plant]:\n",
    "    #for row in important_stuff:\n",
    "        #text_span += f' {row}.' \n",
    "        probabilities_stacked = WhichPlant(text, model=model)\n",
    "        \n",
    "        idx = np.where(lb.classes_ == plant)[0][0]\n",
    "        data_plants[plant].append(probabilities_stacked[idx])"
   ]
  },
  {
   "cell_type": "code",
   "execution_count": null,
   "id": "9bbe9d51-fd43-433d-8f97-fe4621222eea",
   "metadata": {},
   "outputs": [],
   "source": [
    "len(data_plants_all['Boswellia sacra'])"
   ]
  },
  {
   "cell_type": "code",
   "execution_count": null,
   "id": "5fd3b9cd-a96f-4e78-95e5-a6a1fcca4c90",
   "metadata": {},
   "outputs": [],
   "source": [
    "pred_correct   = []\n",
    "pred_uncorrect = []\n",
    "\n",
    "for plant in species[0:1]:\n",
    "    for values in data_plants_all[plant]:\n",
    "        values"
   ]
  },
  {
   "cell_type": "code",
   "execution_count": null,
   "id": "bde88681-f3f4-4f95-b8db-07fe5894ce16",
   "metadata": {},
   "outputs": [],
   "source": [
    "idx = np.where(lb.classes_ == plant)[0][0]"
   ]
  },
  {
   "cell_type": "code",
   "execution_count": null,
   "id": "3d778719-2c40-47b3-a8f0-02d8a11d8ae9",
   "metadata": {},
   "outputs": [],
   "source": [
    "values.shape"
   ]
  },
  {
   "cell_type": "code",
   "execution_count": null,
   "id": "daf1d219-ce3c-40ef-9e3d-7bec57177b17",
   "metadata": {},
   "outputs": [],
   "source": [
    "total = []\n",
    "for plant in species:\n",
    "    total += data_plants[plant]\n",
    "    \n",
    "total = np.array(total)"
   ]
  },
  {
   "cell_type": "code",
   "execution_count": null,
   "id": "8e026a86-2a17-4d74-8410-450ab3236c37",
   "metadata": {},
   "outputs": [],
   "source": [
    "sns.displot(total[total < 0.4], kind=\"ecdf\")"
   ]
  },
  {
   "cell_type": "code",
   "execution_count": null,
   "id": "f5628c8f-e1d6-47e1-9131-9ac2b3636235",
   "metadata": {},
   "outputs": [],
   "source": [
    "\n",
    "fig, ax = plt.subplots(figsize=(10, 8))\n",
    "\n",
    "for plant in species:\n",
    "    ax.plot(data_plants[plant], alpha=0.3, color='blue')\n",
    "plt.grid()\n",
    "#plt.legend()\n",
    "plt.show()\n",
    "\n"
   ]
  },
  {
   "cell_type": "code",
   "execution_count": null,
   "id": "fcb2822f-1a35-42fa-b0ee-aa29b8042644",
   "metadata": {},
   "outputs": [],
   "source": []
  },
  {
   "cell_type": "code",
   "execution_count": null,
   "id": "eeb0d20d-7d2a-4c3b-93ec-29332873a097",
   "metadata": {},
   "outputs": [],
   "source": []
  },
  {
   "cell_type": "code",
   "execution_count": null,
   "id": "bbe43439-9bdf-46c0-8d26-81e590efe8cc",
   "metadata": {},
   "outputs": [],
   "source": [
    "def check_values(sents):\n",
    "    \n",
    "    count = 0\n",
    "    # Check other combinations\n",
    "    for species in data.keys():\n",
    "        length = len(set(sents).intersection(data[species]))\n",
    "        if length == len(sents):\n",
    "            count += 1\n",
    "        \n",
    "    return count"
   ]
  },
  {
   "cell_type": "code",
   "execution_count": null,
   "id": "ccb8d45b-0f92-4857-8b43-a8b965781211",
   "metadata": {},
   "outputs": [],
   "source": [
    "text_list = []\n",
    "pred_sing = []\n",
    "pred_mult = []\n",
    "single_other = []\n",
    "multip_other = []\n",
    "\n",
    "for idx, (row, value) in enumerate(tqdm_notebook(plant_list[0:])):\n",
    "    text_list.append(row)\n",
    "    pred_sing.append(output / value / output)\n",
    "    if idx != 0 and pred_mult[-1] == 1:\n",
    "        pred_mult.append(1)\n",
    "    else:\n",
    "        pred_mult.append(output / check_values(text_list) / output)\n",
    "            "
   ]
  },
  {
   "cell_type": "code",
   "execution_count": null,
   "id": "f3a6f4de-45b5-455d-b5e5-830866249f2d",
   "metadata": {},
   "outputs": [],
   "source": [
    "pred_sing = []\n",
    "pred_all_single = np.zeros(shape=(len(plant_list[0:]), output))\n",
    "\n",
    "for idx, (row, value) in enumerate(tqdm_notebook(plant_list[0:])):\n",
    "    temp_s = []\n",
    "    for x in data.keys():\n",
    "        if row in data[x]:\n",
    "            temp_s.append(output / value / output)\n",
    "        else:\n",
    "            temp_s.append(0)\n",
    "    pred_all_single[idx] = temp_s\n"
   ]
  },
  {
   "cell_type": "code",
   "execution_count": null,
   "id": "7758498d-a2e8-41b2-ab4f-30466a10a88a",
   "metadata": {},
   "outputs": [],
   "source": [
    "#len(species)"
   ]
  },
  {
   "cell_type": "code",
   "execution_count": null,
   "id": "a0bb763d-5b9b-421c-b48e-080ad7d56a7e",
   "metadata": {},
   "outputs": [],
   "source": [
    "fig, ax = plt.subplots(figsize=(10, 8))\n",
    "for i in range(0, output):\n",
    "    if i == plant_idx:\n",
    "        ax.plot(pred_all_single[:, i], color='blue', alpha=1, markersize=5, zorder=2, )\n",
    "    else:\n",
    "        ax.plot(pred_all_single[:, i], color='red', alpha=0.05, zorder=1,)\n",
    "plt.plot(pred_mult, color='orange')\n",
    "plt.grid()"
   ]
  },
  {
   "cell_type": "code",
   "execution_count": null,
   "id": "eb4319b1-4ce7-419f-971a-659921c54c93",
   "metadata": {},
   "outputs": [],
   "source": [
    "text_list[0:np.array(pred_mult).argmax()]"
   ]
  },
  {
   "cell_type": "code",
   "execution_count": null,
   "id": "a8eb6fab-78cc-44df-a008-982424b00b09",
   "metadata": {},
   "outputs": [],
   "source": []
  }
 ],
 "metadata": {
  "kernelspec": {
   "display_name": "Python [conda env:DL]",
   "language": "python",
   "name": "conda-env-DL-py"
  },
  "language_info": {
   "codemirror_mode": {
    "name": "ipython",
    "version": 3
   },
   "file_extension": ".py",
   "mimetype": "text/x-python",
   "name": "python",
   "nbconvert_exporter": "python",
   "pygments_lexer": "ipython3",
   "version": "3.8.10"
  }
 },
 "nbformat": 4,
 "nbformat_minor": 5
}
