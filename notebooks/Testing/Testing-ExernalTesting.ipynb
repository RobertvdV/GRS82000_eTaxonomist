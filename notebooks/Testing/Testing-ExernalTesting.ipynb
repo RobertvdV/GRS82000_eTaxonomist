{
 "cells": [
  {
   "cell_type": "code",
   "execution_count": 1,
   "id": "40add63c-a2e1-49d1-9e2b-09804b1ae865",
   "metadata": {},
   "outputs": [
    {
     "name": "stderr",
     "output_type": "stream",
     "text": [
      "Some weights of the model checkpoint at distilbert-base-uncased were not used when initializing DistilBertModel: ['vocab_transform.bias', 'vocab_layer_norm.weight', 'vocab_layer_norm.bias', 'vocab_projector.bias', 'vocab_transform.weight', 'vocab_projector.weight']\n",
      "- This IS expected if you are initializing DistilBertModel from the checkpoint of a model trained on another task or with another architecture (e.g. initializing a BertForSequenceClassification model from a BertForPreTraining model).\n",
      "- This IS NOT expected if you are initializing DistilBertModel from the checkpoint of a model that you expect to be exactly identical (initializing a BertForSequenceClassification model from a BertForSequenceClassification model).\n",
      "Some weights of the model checkpoint at distilbert-base-uncased were not used when initializing DistilBertModel: ['vocab_transform.bias', 'vocab_layer_norm.weight', 'vocab_layer_norm.bias', 'vocab_projector.bias', 'vocab_transform.weight', 'vocab_projector.weight']\n",
      "- This IS expected if you are initializing DistilBertModel from the checkpoint of a model trained on another task or with another architecture (e.g. initializing a BertForSequenceClassification model from a BertForPreTraining model).\n",
      "- This IS NOT expected if you are initializing DistilBertModel from the checkpoint of a model that you expect to be exactly identical (initializing a BertForSequenceClassification model from a BertForSequenceClassification model).\n"
     ]
    }
   ],
   "source": [
    "import random\n",
    "from tqdm import tqdm\n",
    "import time\n",
    "import pickle\n",
    "import numpy as np\n",
    "from itertools import chain\n",
    "from collections import Counter\n",
    "from tqdm import tqdm\n",
    "from sklearn.metrics import PrecisionRecallDisplay\n",
    "from sklearn.metrics import roc_auc_score\n",
    "from sklearn.metrics import roc_curve, auc\n",
    "import matplotlib.pyplot as plt\n",
    "from transformers import DistilBertTokenizer, DistilBertModel\n",
    "\n",
    "import sys\n",
    "sys.path.insert(0, '../src/models/')\n",
    "sys.path.insert(0, '../src/features/')\n",
    "#sys.path.insert(0, '../src/visualization/')\n",
    "\n",
    "from predict_model import loadBERT\n",
    "from predict_model import SpanPredictor as classify\n",
    "from build_features import text_cleaner\n",
    "from build_features import get_prediction_results\n",
    "#import visualize as vis\n",
    "#%matplotlib inline"
   ]
  },
  {
   "cell_type": "markdown",
   "id": "b4bf47cf-e08e-4a54-b4df-fc00eb87d364",
   "metadata": {},
   "source": [
    "## Load the model, tokenizer and external datasets"
   ]
  },
  {
   "cell_type": "code",
   "execution_count": 2,
   "id": "8c9ac59d-0ee2-496b-9f3c-48ffbf2f87de",
   "metadata": {},
   "outputs": [
    {
     "name": "stdout",
     "output_type": "stream",
     "text": [
      "CPU Success\n"
     ]
    }
   ],
   "source": [
    "model = loadBERT(\"../models/\", 'saved_weights_inf_FIXED_boot_beta80.pt')\n",
    "tokenizer = DistilBertTokenizer.from_pretrained('distilbert-base-uncased')"
   ]
  },
  {
   "cell_type": "code",
   "execution_count": 3,
   "id": "83111455-1e9a-4426-b34d-98f0d4279a59",
   "metadata": {},
   "outputs": [],
   "source": [
    "test_agro = pickle.load(open('../data/processed/testing_web_trees_agroforestry.pkl', 'rb'))\n",
    "test_llifle = pickle.load(open('../data/processed/testing_web_trees_llifle.pkl', 'rb'))\n",
    "\n",
    "data = dict(test_agro) \n",
    "data.update(test_llifle)"
   ]
  },
  {
   "cell_type": "markdown",
   "id": "32435b54-73e1-4acd-a867-f4160d5674f1",
   "metadata": {},
   "source": [
    "## Get uncertain labels"
   ]
  },
  {
   "cell_type": "code",
   "execution_count": 4,
   "id": "9053240a-47b3-4e8f-9473-eb71af4107f6",
   "metadata": {},
   "outputs": [],
   "source": [
    "# Undict the data\n",
    "external_data = (list(chain.from_iterable(data.values())))"
   ]
  },
  {
   "cell_type": "code",
   "execution_count": 5,
   "id": "b68dd92d-f169-4a49-9687-6f611e274b85",
   "metadata": {},
   "outputs": [
    {
     "name": "stderr",
     "output_type": "stream",
     "text": [
      "100%|████████████████████████████████| 17204/17204 [00:00<00:00, 1233547.12it/s]\n",
      "100%|████████████████████████████████| 17204/17204 [00:00<00:00, 1888924.53it/s]"
     ]
    },
    {
     "name": "stdout",
     "output_type": "stream",
     "text": [
      "17204 samples.\n",
      "771 labels with 1 (true).\n",
      "16433 labels with 0 (false).\n"
     ]
    },
    {
     "name": "stderr",
     "output_type": "stream",
     "text": [
      "\n"
     ]
    }
   ],
   "source": [
    "ones = Counter(ones[0] for ones in tqdm(external_data) if ones[0] == 1)\n",
    "zeros = Counter(ones[0] for ones in tqdm(external_data) if ones[0] == 0)\n",
    "\n",
    "print('{0} samples.'. format(len(external_data)))\n",
    "print('{0} labels with 1 (true).'.format(ones[1]))\n",
    "print('{0} labels with 0 (false).'.format(zeros[0]))"
   ]
  },
  {
   "cell_type": "code",
   "execution_count": 10,
   "id": "d0343bbd-5ce9-4d38-90e1-416bd903a2ac",
   "metadata": {},
   "outputs": [
    {
     "name": "stderr",
     "output_type": "stream",
     "text": [
      "100%|███████████████████████████████████| 17204/17204 [1:12:03<00:00,  3.98it/s]\n"
     ]
    }
   ],
   "source": [
    "# Init emmty_list:\n",
    "uncertain_list = []\n",
    "# Arrays for plotting\n",
    "yhat = np.array([]).reshape(0, 2)\n",
    "y_onecold = np.array([])\n",
    "# Sentence list\n",
    "sentence_list = []\n",
    "\n",
    "# loop over the values of the list\n",
    "for (label, span) in tqdm(external_data):\n",
    "    # Clean the sentence\n",
    "    sentences = text_cleaner(span)\n",
    "    # Loop over the sentences\n",
    "    for sent in sentences:\n",
    "        # Store for plotting\n",
    "        sentence_list.append((label, sent))\n",
    "        # Get predictions\n",
    "        (pred_label, pred_value) = classify(sent, model=model, pred_values=True)\n",
    "        # Store for plotting\n",
    "        yhat = np.vstack([yhat, pred_value.numpy()])\n",
    "        y_onecold = np.hstack([y_onecold, label])\n",
    "        # Detach\n",
    "        pred_value = pred_value[1].numpy().item()\n",
    "        if  0.45 < pred_value < 0.55:\n",
    "            # Append to list\n",
    "            uncertain_list.append((pred_label, pred_value, sent))\n",
    "            #print(pred_value, sent)\n",
    "\n",
    "uncertain_list = list(set(uncertain_list))            "
   ]
  },
  {
   "cell_type": "code",
   "execution_count": null,
   "id": "6d3a4975-bdb5-459f-a4ae-d263731c74cc",
   "metadata": {},
   "outputs": [],
   "source": [
    "with open('../data/processed/uncertain_sentences.pkl', 'wb') as f:\n",
    "    pickle.dump(uncertain_list, f)\n",
    "with open('../data/processed/external_testing_sentences.pkl', 'wb') as f:\n",
    "    pickle.dump(sentence_list, f)"
   ]
  },
  {
   "cell_type": "code",
   "execution_count": null,
   "id": "e38c07de-80c6-4598-8957-85fd84f3fd6e",
   "metadata": {},
   "outputs": [],
   "source": []
  },
  {
   "cell_type": "code",
   "execution_count": 4,
   "id": "9723e2b5-fa11-43a7-b4d2-15ffa9005cc3",
   "metadata": {},
   "outputs": [],
   "source": [
    "uncertain_list = pickle.load(open('../data/processed/uncertain_sentences.pkl', 'rb'))"
   ]
  },
  {
   "cell_type": "code",
   "execution_count": 9,
   "id": "4c134b74-7283-40df-b8a7-52c044106e60",
   "metadata": {},
   "outputs": [],
   "source": [
    "for (label, prediction, sent) in uncertain_list:\n",
    "    if prediction <= 0.5 and label == 0:\n",
    "        continue\n",
    "    elif prediction > 0.5 and label == 1:\n",
    "        continue\n",
    "    else:\n",
    "        print(sent)\n"
   ]
  },
  {
   "cell_type": "markdown",
   "id": "ec0d150e-b0f8-48ac-9606-69dccf7c2244",
   "metadata": {},
   "source": [
    "## Prediction on external dataset and Plotting"
   ]
  },
  {
   "cell_type": "code",
   "execution_count": 40,
   "id": "63bf5a77-b9b0-4cc1-b344-0cd86568d38e",
   "metadata": {},
   "outputs": [
    {
     "name": "stderr",
     "output_type": "stream",
     "text": [
      "100%|█████████████████████████████████| 17204/17204 [52:58<00:00,  5.41it/s]\n"
     ]
    }
   ],
   "source": [
    "#sentence_list = pickle.load(open('../data/processed/external_testing_sentences.pkl', 'rb'))\n",
    "test_agro = pickle.load(open('../data/processed/testing_web_trees_agroforestry.pkl', 'rb'))\n",
    "test_llifle = pickle.load(open('../data/processed/testing_web_trees_llifle.pkl', 'rb'))\n",
    "\n",
    "data = dict(test_agro) \n",
    "data.update(test_llifle)\n",
    "\n",
    "# Undict the data\n",
    "sentence_list = (list(chain.from_iterable(data.values())))\n",
    "\n",
    "report, misclassified_sents, y_onehot = get_prediction_results(sentence_list, \n",
    "                                                                 model=model,\n",
    "                                                                 soft_error=True, \n",
    "                                                                 beta=0.80)"
   ]
  },
  {
   "cell_type": "code",
   "execution_count": 41,
   "id": "66a1d58b-bc21-44f1-b5e0-335c96efced1",
   "metadata": {},
   "outputs": [
    {
     "name": "stdout",
     "output_type": "stream",
     "text": [
      "              precision    recall  f1-score   support\n",
      "\n",
      "         0.0       0.99      0.94      0.97     15958\n",
      "         1.0       0.54      0.90      0.68      1246\n",
      "\n",
      "    accuracy                           0.94     17204\n",
      "   macro avg       0.77      0.92      0.82     17204\n",
      "weighted avg       0.96      0.94      0.95     17204\n",
      "\n"
     ]
    }
   ],
   "source": [
    "print(report)"
   ]
  },
  {
   "cell_type": "markdown",
   "id": "720c80c1-941e-4108-82cd-d15e15671219",
   "metadata": {},
   "source": [
    "### ROC"
   ]
  },
  {
   "cell_type": "code",
   "execution_count": 11,
   "id": "62a721f6-65e5-462c-8a67-4615e26f0b4c",
   "metadata": {},
   "outputs": [
    {
     "data": {
      "image/png": "[encoded data removed]",
      "text/plain": [
       "<Figure size 360x360 with 1 Axes>"
      ]
     },
     "metadata": {
      "needs_background": "light"
     },
     "output_type": "display_data"
    }
   ],
   "source": [
    "# Compute ROC curve and ROC area for each class\n",
    "fpr = dict()\n",
    "tpr = dict()\n",
    "roc_auc = dict()\n",
    "for i in range(2):\n",
    "    fpr[i], tpr[i], _ = roc_curve(y_onehot[:, i], yhat[:, i])\n",
    "    roc_auc[i] = auc(fpr[i], tpr[i])\n",
    "\n",
    "# Compute micro-average ROC curve and ROC area\n",
    "fpr[\"micro\"], tpr[\"micro\"], _ = roc_curve(y_onehot.ravel(), yhat.ravel())\n",
    "roc_auc[\"micro\"] = auc(fpr[\"micro\"], tpr[\"micro\"])\n",
    "\n",
    "fig, ax = plt.subplots(figsize=(5, 5))\n",
    "#plt.figure()\n",
    "lw = 2\n",
    "ax.plot(fpr[1], tpr[1], color='darkorange',\n",
    "         lw=lw, label='ROC curve (area = %0.2f)' % roc_auc[1])\n",
    "ax.plot([0, 1], [0, 1], color='navy', lw=lw, linestyle='--')\n",
    "plt.xlim([-0.01, 1.0])\n",
    "plt.ylim([0.0, 1.01])\n",
    "plt.xlabel('False Positive Rate')\n",
    "plt.ylabel('True Positive Rate')\n",
    "plt.title('Receiver Operating Characteristic')\n",
    "plt.legend(loc=\"lower right\")\n",
    "plt.show()\n",
    "fig.savefig('AUC-ROC_external.svg', format='svg', dpi=1200, bbox_inches='tight')"
   ]
  },
  {
   "cell_type": "markdown",
   "id": "92b70f6b-c5be-4d59-88c2-25d832ee437e",
   "metadata": {},
   "source": [
    "## Precision-recall curve"
   ]
  },
  {
   "cell_type": "code",
   "execution_count": 5,
   "id": "3d79e5bd-1cb2-417f-bb7a-3f58f115c506",
   "metadata": {},
   "outputs": [],
   "source": [
    "y_onecold = pickle.load(open('../data/processed/external_y_onecold.pkl', 'rb'))\n",
    "yhat = pickle.load(open('../data/processed/external_yhat.pkl', 'rb'))"
   ]
  },
  {
   "cell_type": "code",
   "execution_count": 36,
   "id": "df4c9e8c-a1a9-450b-8385-585bd0ddc113",
   "metadata": {},
   "outputs": [
    {
     "name": "stderr",
     "output_type": "stream",
     "text": [
      "100%|██████████████████████████████| 74836/74836 [00:02<00:00, 36740.53it/s]\n"
     ]
    }
   ],
   "source": [
    "# Correct for beta\n",
    "y_onecold_corrected = np.array([])\n",
    "for label, prediction in zip(tqdm(y_onecold), yhat):\n",
    "    if prediction[0] > 0.865:\n",
    "        y_onecold_corrected = np.hstack([y_onecold_corrected, 0])\n",
    "    elif prediction[1] > 0.865:\n",
    "        y_onecold_corrected = np.hstack([y_onecold_corrected, 1])\n",
    "    else:\n",
    "        y_onecold_corrected = np.hstack([y_onecold_corrected, label])"
   ]
  },
  {
   "cell_type": "code",
   "execution_count": 44,
   "id": "36cde437-bb4a-4ee5-91b5-6d1f74832ada",
   "metadata": {},
   "outputs": [
    {
     "ename": "ValueError",
     "evalue": "Found input variables with inconsistent numbers of samples: [17204, 74836]",
     "output_type": "error",
     "traceback": [
      "\u001b[0;31m---------------------------------------------------------------------------\u001b[0m",
      "\u001b[0;31mValueError\u001b[0m                                Traceback (most recent call last)",
      "\u001b[0;32m/var/folders/gp/hp50s5114x52591qbdhn43xm0000gn/T/ipykernel_65678/1625086354.py\u001b[0m in \u001b[0;36m<module>\u001b[0;34m\u001b[0m\n\u001b[1;32m      1\u001b[0m \u001b[0mfig\u001b[0m\u001b[0;34m,\u001b[0m \u001b[0max\u001b[0m \u001b[0;34m=\u001b[0m \u001b[0mplt\u001b[0m\u001b[0;34m.\u001b[0m\u001b[0msubplots\u001b[0m\u001b[0;34m(\u001b[0m\u001b[0mfigsize\u001b[0m\u001b[0;34m=\u001b[0m\u001b[0;34m(\u001b[0m\u001b[0;36m5\u001b[0m\u001b[0;34m,\u001b[0m \u001b[0;36m5\u001b[0m\u001b[0;34m)\u001b[0m\u001b[0;34m)\u001b[0m\u001b[0;34m\u001b[0m\u001b[0;34m\u001b[0m\u001b[0m\n\u001b[0;32m----> 2\u001b[0;31m \u001b[0mdisplay\u001b[0m \u001b[0;34m=\u001b[0m \u001b[0mPrecisionRecallDisplay\u001b[0m\u001b[0;34m.\u001b[0m\u001b[0mfrom_predictions\u001b[0m\u001b[0;34m(\u001b[0m\u001b[0my_onehot\u001b[0m\u001b[0;34m,\u001b[0m \u001b[0myhat\u001b[0m\u001b[0;34m[\u001b[0m\u001b[0;34m:\u001b[0m\u001b[0;34m,\u001b[0m \u001b[0;36m1\u001b[0m\u001b[0;34m]\u001b[0m\u001b[0;34m,\u001b[0m \u001b[0mname\u001b[0m\u001b[0;34m=\u001b[0m\u001b[0;34m\"Description Text Classifier\"\u001b[0m\u001b[0;34m)\u001b[0m\u001b[0;34m\u001b[0m\u001b[0;34m\u001b[0m\u001b[0m\n\u001b[0m\u001b[1;32m      3\u001b[0m \u001b[0m_\u001b[0m \u001b[0;34m=\u001b[0m \u001b[0mdisplay\u001b[0m\u001b[0;34m.\u001b[0m\u001b[0max_\u001b[0m\u001b[0;34m.\u001b[0m\u001b[0mset_title\u001b[0m\u001b[0;34m(\u001b[0m\u001b[0;34m\"2-class Precision-Recall Curve\"\u001b[0m\u001b[0;34m)\u001b[0m\u001b[0;34m\u001b[0m\u001b[0;34m\u001b[0m\u001b[0m\n\u001b[1;32m      4\u001b[0m \u001b[0;31m#display.plot(ax=ax)\u001b[0m\u001b[0;34m\u001b[0m\u001b[0;34m\u001b[0m\u001b[0;34m\u001b[0m\u001b[0m\n\u001b[1;32m      5\u001b[0m \u001b[0mdisplay\u001b[0m\u001b[0;34m.\u001b[0m\u001b[0max_\u001b[0m\u001b[0;34m.\u001b[0m\u001b[0mset_xlim\u001b[0m\u001b[0;34m(\u001b[0m\u001b[0;34m[\u001b[0m\u001b[0;34m-\u001b[0m\u001b[0;36m0.01\u001b[0m\u001b[0;34m,\u001b[0m \u001b[0;36m1.01\u001b[0m\u001b[0;34m]\u001b[0m\u001b[0;34m)\u001b[0m\u001b[0;34m\u001b[0m\u001b[0;34m\u001b[0m\u001b[0m\n",
      "\u001b[0;32m/usr/local/anaconda3/envs/DL/lib/python3.8/site-packages/sklearn/metrics/_plot/precision_recall_curve.py\u001b[0m in \u001b[0;36mfrom_predictions\u001b[0;34m(cls, y_true, y_pred, sample_weight, pos_label, name, ax, **kwargs)\u001b[0m\n\u001b[1;32m    326\u001b[0m         \u001b[0mcheck_matplotlib_support\u001b[0m\u001b[0;34m(\u001b[0m\u001b[0;34mf\"{cls.__name__}.from_predictions\"\u001b[0m\u001b[0;34m)\u001b[0m\u001b[0;34m\u001b[0m\u001b[0;34m\u001b[0m\u001b[0m\n\u001b[1;32m    327\u001b[0m \u001b[0;34m\u001b[0m\u001b[0m\n\u001b[0;32m--> 328\u001b[0;31m         \u001b[0mcheck_consistent_length\u001b[0m\u001b[0;34m(\u001b[0m\u001b[0my_true\u001b[0m\u001b[0;34m,\u001b[0m \u001b[0my_pred\u001b[0m\u001b[0;34m,\u001b[0m \u001b[0msample_weight\u001b[0m\u001b[0;34m)\u001b[0m\u001b[0;34m\u001b[0m\u001b[0;34m\u001b[0m\u001b[0m\n\u001b[0m\u001b[1;32m    329\u001b[0m         \u001b[0mpos_label\u001b[0m \u001b[0;34m=\u001b[0m \u001b[0m_check_pos_label_consistency\u001b[0m\u001b[0;34m(\u001b[0m\u001b[0mpos_label\u001b[0m\u001b[0;34m,\u001b[0m \u001b[0my_true\u001b[0m\u001b[0;34m)\u001b[0m\u001b[0;34m\u001b[0m\u001b[0;34m\u001b[0m\u001b[0m\n\u001b[1;32m    330\u001b[0m \u001b[0;34m\u001b[0m\u001b[0m\n",
      "\u001b[0;32m/usr/local/anaconda3/envs/DL/lib/python3.8/site-packages/sklearn/utils/validation.py\u001b[0m in \u001b[0;36mcheck_consistent_length\u001b[0;34m(*arrays)\u001b[0m\n\u001b[1;32m    329\u001b[0m     \u001b[0muniques\u001b[0m \u001b[0;34m=\u001b[0m \u001b[0mnp\u001b[0m\u001b[0;34m.\u001b[0m\u001b[0munique\u001b[0m\u001b[0;34m(\u001b[0m\u001b[0mlengths\u001b[0m\u001b[0;34m)\u001b[0m\u001b[0;34m\u001b[0m\u001b[0;34m\u001b[0m\u001b[0m\n\u001b[1;32m    330\u001b[0m     \u001b[0;32mif\u001b[0m \u001b[0mlen\u001b[0m\u001b[0;34m(\u001b[0m\u001b[0muniques\u001b[0m\u001b[0;34m)\u001b[0m \u001b[0;34m>\u001b[0m \u001b[0;36m1\u001b[0m\u001b[0;34m:\u001b[0m\u001b[0;34m\u001b[0m\u001b[0;34m\u001b[0m\u001b[0m\n\u001b[0;32m--> 331\u001b[0;31m         raise ValueError(\n\u001b[0m\u001b[1;32m    332\u001b[0m             \u001b[0;34m\"Found input variables with inconsistent numbers of samples: %r\"\u001b[0m\u001b[0;34m\u001b[0m\u001b[0;34m\u001b[0m\u001b[0m\n\u001b[1;32m    333\u001b[0m             \u001b[0;34m%\u001b[0m \u001b[0;34m[\u001b[0m\u001b[0mint\u001b[0m\u001b[0;34m(\u001b[0m\u001b[0ml\u001b[0m\u001b[0;34m)\u001b[0m \u001b[0;32mfor\u001b[0m \u001b[0ml\u001b[0m \u001b[0;32min\u001b[0m \u001b[0mlengths\u001b[0m\u001b[0;34m]\u001b[0m\u001b[0;34m\u001b[0m\u001b[0;34m\u001b[0m\u001b[0m\n",
      "\u001b[0;31mValueError\u001b[0m: Found input variables with inconsistent numbers of samples: [17204, 74836]"
     ]
    },
    {
     "data": {
      "image/png": "[encoded data removed]",
      "text/plain": [
       "<Figure size 360x360 with 1 Axes>"
      ]
     },
     "metadata": {
      "needs_background": "light"
     },
     "output_type": "display_data"
    }
   ],
   "source": [
    "fig, ax = plt.subplots(figsize=(5, 5))\n",
    "display = PrecisionRecallDisplay.from_predictions(y_onecold_corrected, yhat[:, 1], name=\"Description Text Classifier\")\n",
    "_ = display.ax_.set_title(\"2-class Precision-Recall Curve\")\n",
    "#display.plot(ax=ax)\n",
    "display.ax_.set_xlim([-0.01, 1.01])\n",
    "display.ax_.set_ylim([-0.01, 1.01])\n",
    "ax.set_xlim([-0.01, 1.01])\n",
    "ax.set_ylim([-0.01, 1.01])\n",
    "ax.plot([0, 1], [0.5, 0.5], color='navy', linestyle='--')\n",
    "display.plot(ax=ax)\n",
    "\n",
    "f_scores = np.linspace(0.4, .9, num=3)\n",
    "lines, labels = [], []\n",
    "for f_score in f_scores:\n",
    "    x = np.linspace(0.01, 1.01)\n",
    "    y = f_score * x / (2 * x - f_score)\n",
    "    (l,) = ax.plot(x[y >= 0], y[y >= 0], color=\"gray\", alpha=0.2)\n",
    "    #ax.annotate(\"{0:0.1f}\".format(f_score), xy=(0.9, y[45] + 0.02))\n",
    "\n",
    "f_scores = np.linspace(0.86, 0.8601, num=1)\n",
    "lines, labels = [], []\n",
    "for f_score in f_scores:\n",
    "    x = np.linspace(0.01, 1.01)\n",
    "    y = f_score * x / (2 * x - f_score)\n",
    "    (l,) = ax.plot(x[y >= 0], y[y >= 0], color=\"gray\", alpha=0.8)\n",
    "    ax.annotate(\"f1={0:0.2f}\".format(f_score), xy=(0.9, y[45] + 0.02))\n",
    "\n",
    "#ax.set_title(\"2-class Precision-Recall Curve\")\n",
    "#plt.show()\n",
    "#fig.savefig('precision_recall_plot_extern.pdf', format='pdf', dpi=1200, bbox_inches='tight')"
   ]
  },
  {
   "cell_type": "code",
   "execution_count": 13,
   "id": "aedab7d3-94a4-451a-b943-0db25ac8a8e5",
   "metadata": {},
   "outputs": [
    {
     "data": {
      "text/plain": [
       "array([0.5   , 0.6225, 0.745 , 0.8675, 0.99  ])"
      ]
     },
     "execution_count": 13,
     "metadata": {},
     "output_type": "execute_result"
    }
   ],
   "source": [
    "f_scores"
   ]
  },
  {
   "cell_type": "code",
   "execution_count": null,
   "id": "1d473100-d2ef-4fa5-9d6c-424b5da9bbab",
   "metadata": {},
   "outputs": [],
   "source": []
  }
 ],
 "metadata": {
  "kernelspec": {
   "display_name": "Python [conda env:DL]",
   "language": "python",
   "name": "conda-env-DL-py"
  },
  "language_info": {
   "codemirror_mode": {
    "name": "ipython",
    "version": 3
   },
   "file_extension": ".py",
   "mimetype": "text/x-python",
   "name": "python",
   "nbconvert_exporter": "python",
   "pygments_lexer": "ipython3",
   "version": "3.8.10"
  }
 },
 "nbformat": 4,
 "nbformat_minor": 5
}
