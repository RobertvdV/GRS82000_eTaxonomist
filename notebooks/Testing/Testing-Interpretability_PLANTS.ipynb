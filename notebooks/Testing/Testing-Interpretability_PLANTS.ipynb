{
 "cells": [
  {
   "cell_type": "code",
   "execution_count": 1,
   "id": "df29250a-0f6b-4dd4-8a60-ad598a844905",
   "metadata": {},
   "outputs": [],
   "source": [
    "import numpy as np\n",
    "import torch\n",
    "import torch.nn as nn\n",
    "from IPython.display import display, HTML\n",
    "from transformers import DistilBertModel, DistilBertTokenizer, logging\n",
    "import matplotlib\n",
    "import matplotlib.pyplot as plt\n",
    "from tqdm.notebook import tqdm as tqdm_notebook\n",
    "from tqdm import tqdm\n",
    "tqdm.pandas()\n",
    "import spacy\n",
    "from spacy import displacy\n",
    "import seaborn as sns\n",
    "import pandas as pd\n",
    "import numpy as np\n",
    "import collections\n",
    "import glob\n",
    "import pickle\n",
    "import re\n",
    "from bs4 import BeautifulSoup\n",
    "import requests\n",
    "from sklearn.metrics.pairwise import cosine_similarity\n",
    "nlp = spacy.load('en_core_web_trf')\n",
    "logging.set_verbosity_error()\n",
    "\n",
    "import sys\n",
    "sys.path.insert(0, '../../src/models/')\n",
    "sys.path.insert(0, '../../src/features/')\n",
    "\n",
    "from build_features import similarity_matrix as vector_values\n",
    "from predict_model import load_PLANT_Bert, load_simBERT\n",
    "\n",
    "%matplotlib inline"
   ]
  },
  {
   "cell_type": "code",
   "execution_count": 2,
   "id": "ac758039-851a-4b2f-bdd8-222ca761432e",
   "metadata": {},
   "outputs": [],
   "source": [
    "device = torch.device(\"cuda:0\" if torch.cuda.is_available() else \"cpu\")"
   ]
  },
  {
   "cell_type": "code",
   "execution_count": 3,
   "id": "b83449d7-7f0a-476f-bca1-8b991faa5f3c",
   "metadata": {},
   "outputs": [
    {
     "name": "stdout",
     "output_type": "stream",
     "text": [
      "Local Success\n"
     ]
    }
   ],
   "source": [
    "model = load_PLANT_Bert(\"../../models/\", 'saved_weights_CUB_PLANTS_14557.pt')\n",
    "#SIMmodel = load_simBERT()\n",
    "tokenizer = DistilBertTokenizer.from_pretrained('distilbert-base-uncased')"
   ]
  },
  {
   "cell_type": "code",
   "execution_count": 4,
   "id": "5d50367d-7c72-4d97-a7a6-6e33e9664650",
   "metadata": {},
   "outputs": [],
   "source": [
    "ref_token_id = tokenizer.pad_token_id # A token used for generating token reference\n",
    "sep_token_id = tokenizer.sep_token_id # A token used as a separator between question and text and it is also added to the end of the text.\n",
    "cls_token_id = tokenizer.cls_token_id # A token used for prepending to the concatenated question-text word sequence\n",
    "\n",
    "# Modify the prediction output and define a custom forward\n",
    "def predict(inputs, attentions):\n",
    "    return model(input_ids=inputs, attention_mask=attentions)[0]\n",
    "\n",
    "def custom_forward(inputs, attentions):\n",
    "    preds = predict(inputs, attentions)\n",
    "    return torch.exp(preds)\n",
    "\n",
    "# Tokenize functions\n",
    "def construct_input_ref_pair(text, ref_token_id, sep_token_id, cls_token_id):\n",
    "\n",
    "    text_ids = tokenizer.encode(text, add_special_tokens=False)\n",
    "    # construct input token ids\n",
    "    input_ids = [cls_token_id] + text_ids + [sep_token_id]\n",
    "    # construct reference token ids \n",
    "    ref_input_ids = [cls_token_id] + [ref_token_id] * len(text_ids) + [sep_token_id]\n",
    "\n",
    "    return torch.tensor([input_ids], device=device), torch.tensor([ref_input_ids], device=device), len(text_ids)\n",
    "\n",
    "def construct_input_ref_token_type_pair(input_ids, sep_ind=0):\n",
    "    seq_len = input_ids.size(1)\n",
    "    token_type_ids = torch.tensor([[0 if i <= sep_ind else 1 for i in range(seq_len)]], device=device)\n",
    "    ref_token_type_ids = torch.zeros_like(token_type_ids, device=device)# * -1\n",
    "    return token_type_ids, ref_token_type_ids\n",
    "\n",
    "def construct_input_ref_pos_id_pair(input_ids):\n",
    "    seq_length = input_ids.size(1)\n",
    "    position_ids = torch.arange(seq_length, dtype=torch.long, device=device)\n",
    "    # we could potentially also use random permutation with `torch.randperm(seq_length, device=device)`\n",
    "    ref_position_ids = torch.zeros(seq_length, dtype=torch.long, device=device)\n",
    "\n",
    "    position_ids = position_ids.unsqueeze(0).expand_as(input_ids)\n",
    "    ref_position_ids = ref_position_ids.unsqueeze(0).expand_as(input_ids)\n",
    "    return position_ids, ref_position_ids\n",
    "    \n",
    "def construct_attention_mask(input_ids):\n",
    "    return torch.ones_like(input_ids)\n",
    "\n",
    "# Summarize and vis functions\n",
    "def summarize_attributions_ig(attributions):\n",
    "    attributions = attributions.sum(dim=-1).squeeze(0)\n",
    "    attributions = attributions / torch.norm(attributions)\n",
    "    return attributions\n",
    "\n",
    "def summarize_attributions_occ(attributions):\n",
    "    return attributions.sum(axis=0)\n",
    "\n",
    "def token_to_words(attribution, tokens):\n",
    "    \n",
    "    words = []\n",
    "    attributes = []\n",
    "\n",
    "    for attribute, word in zip(attribution, tokens):\n",
    "\n",
    "        attribute = attribute.cpu().detach().numpy()\n",
    "        if word == '[CLS]' or word == '[SEP]':\n",
    "            words.append(word)\n",
    "            attributes.append([attribute])\n",
    "        elif not word.startswith('##'):\n",
    "            words.append(word)\n",
    "            attributes.append([attribute])\n",
    "        elif word.startswith('##'):\n",
    "            words[-1] += word.strip('##')\n",
    "            attributes[-1] = np.append(attributes[-1], attribute)\n",
    "\n",
    "    attribution = [np.sum(mean) for mean in attributes]\n",
    "    return attribution, words\n",
    "\n",
    "def colorize(attribution, tokens):\n",
    "    \n",
    "    template = \"\"\"  \n",
    "    <mark class=\"entity\" style=\" background: {}; padding: 0.4em 0.0em; margin: 0.0em; line-height: 2; \n",
    "    border-radius: 0.0em; \">{}<span style=\" font-size: 0.8em;  font-weight: bold;  line-height: 1; \n",
    "    border-radius: 0.0em; text-align-last:center; vertical-align: middle; margin-left: 0rem; \"></span></mark>\n",
    "    \"\"\"\n",
    "\n",
    "    colored_string = ''\n",
    "    normalized_and_mapped = matplotlib.cm.ScalarMappable(cmap=matplotlib.cm.Greens).to_rgba(attribution)\n",
    "    for idx, (word, color) in enumerate(zip(tokens, normalized_and_mapped)):\n",
    "        \n",
    "        word = word + ' '\n",
    "        color = matplotlib.colors.rgb2hex(color[:3])\n",
    "        if word.strip() == '[CLS]' or word.strip() == '[SEP]': \n",
    "            color = '#ffffff'\n",
    "        #print(color)\n",
    "        colored_string += template.format(color, word)\n",
    "\n",
    "    return colored_string\n",
    "\n",
    "def explain(word):\n",
    "    \n",
    "    data = collections.defaultdict(list)\n",
    "       \n",
    "    # tokenize\n",
    "    input_ids, ref_input_ids, sep_id = construct_input_ref_pair(word, ref_token_id, sep_token_id, cls_token_id)\n",
    "    token_type_ids, ref_token_type_ids = construct_input_ref_token_type_pair(input_ids, sep_id)\n",
    "    position_ids, ref_position_ids = construct_input_ref_pos_id_pair(input_ids)\n",
    "    attention_mask = construct_attention_mask(input_ids)\n",
    "    indices = input_ids[0].type(torch.LongTensor)\n",
    "    all_tokens = tokenizer.convert_ids_to_tokens(indices)\n",
    "    \n",
    "    #### Occlusion maps (3, 2)\n",
    "    attribution_occ2 = occ.attribute(inputs=(input_ids, attention_mask),\n",
    "                                sliding_window_shapes=(tuple([3,]), tuple([3,])), \n",
    "                                strides=(2, 2), \n",
    "                                baselines=(ref_input_ids, attention_mask),)\n",
    "    attribution_occ2_sum = summarize_attributions_occ(attribution_occ2[0])\n",
    "    attributions_occ2_words, words = token_to_words(attribution_occ2_sum, all_tokens)\n",
    "    data['Occlusion'] = attributions_occ2_words\n",
    "    data['Words'] = words\n",
    "    ####\n",
    "    \n",
    "    return data"
   ]
  },
  {
   "cell_type": "code",
   "execution_count": 5,
   "id": "ec4b5ed7-5071-443a-977f-272d6d0727a7",
   "metadata": {},
   "outputs": [],
   "source": [
    "from captum.attr import Occlusion\n",
    "occ = Occlusion(custom_forward)"
   ]
  },
  {
   "cell_type": "code",
   "execution_count": 6,
   "id": "6e1b5e41-e479-438c-a7d4-b8807024c453",
   "metadata": {},
   "outputs": [],
   "source": [
    "# Single Example\n",
    "string = 'leaf with spikelets.'\n",
    "data = explain(string)"
   ]
  },
  {
   "cell_type": "code",
   "execution_count": 7,
   "id": "5da00d80-7602-4bf8-9c08-fe0d2bf60654",
   "metadata": {},
   "outputs": [
    {
     "data": {
      "text/html": [
       "  \n",
       "    <mark class=\"entity\" style=\" background: #ffffff; padding: 0.4em 0.0em; margin: 0.0em; line-height: 2; \n",
       "    border-radius: 0.0em; \">[CLS] <span style=\" font-size: 0.8em;  font-weight: bold;  line-height: 1; \n",
       "    border-radius: 0.0em; text-align-last:center; vertical-align: middle; margin-left: 0rem; \"></span></mark>\n",
       "      \n",
       "    <mark class=\"entity\" style=\" background: #f7fcf5; padding: 0.4em 0.0em; margin: 0.0em; line-height: 2; \n",
       "    border-radius: 0.0em; \">leaf <span style=\" font-size: 0.8em;  font-weight: bold;  line-height: 1; \n",
       "    border-radius: 0.0em; text-align-last:center; vertical-align: middle; margin-left: 0rem; \"></span></mark>\n",
       "      \n",
       "    <mark class=\"entity\" style=\" background: #d2edcc; padding: 0.4em 0.0em; margin: 0.0em; line-height: 2; \n",
       "    border-radius: 0.0em; \">with <span style=\" font-size: 0.8em;  font-weight: bold;  line-height: 1; \n",
       "    border-radius: 0.0em; text-align-last:center; vertical-align: middle; margin-left: 0rem; \"></span></mark>\n",
       "      \n",
       "    <mark class=\"entity\" style=\" background: #00441b; padding: 0.4em 0.0em; margin: 0.0em; line-height: 2; \n",
       "    border-radius: 0.0em; \">spikelets <span style=\" font-size: 0.8em;  font-weight: bold;  line-height: 1; \n",
       "    border-radius: 0.0em; text-align-last:center; vertical-align: middle; margin-left: 0rem; \"></span></mark>\n",
       "      \n",
       "    <mark class=\"entity\" style=\" background: #aedea7; padding: 0.4em 0.0em; margin: 0.0em; line-height: 2; \n",
       "    border-radius: 0.0em; \">. <span style=\" font-size: 0.8em;  font-weight: bold;  line-height: 1; \n",
       "    border-radius: 0.0em; text-align-last:center; vertical-align: middle; margin-left: 0rem; \"></span></mark>\n",
       "      \n",
       "    <mark class=\"entity\" style=\" background: #ffffff; padding: 0.4em 0.0em; margin: 0.0em; line-height: 2; \n",
       "    border-radius: 0.0em; \">[SEP] <span style=\" font-size: 0.8em;  font-weight: bold;  line-height: 1; \n",
       "    border-radius: 0.0em; text-align-last:center; vertical-align: middle; margin-left: 0rem; \"></span></mark>\n",
       "    "
      ],
      "text/plain": [
       "<IPython.core.display.HTML object>"
      ]
     },
     "metadata": {},
     "output_type": "display_data"
    }
   ],
   "source": [
    "string = colorize(data['Occlusion'], data['Words'])\n",
    "display(HTML(string))"
   ]
  },
  {
   "cell_type": "code",
   "execution_count": 8,
   "id": "4669048e-bd8b-442f-b3de-6c055900589e",
   "metadata": {},
   "outputs": [],
   "source": [
    "# URL\n",
    "URL = 'https://en.wikipedia.org/wiki/Glossary_of_botanical_terms'\n",
    "# Get the page\n",
    "page = requests.get(URL, timeout=5)\n",
    "soup = BeautifulSoup(page.content, \"lxml\", from_encoding=\"iso-8859-1\")   \n",
    "# Find embedded glossary\n",
    "glossaries = soup.find_all('dt', {'class': 'glossary'})\n",
    "parts = [part.text.lower().strip() for part in glossaries]\n",
    "# Get additional anchors (\"also know as...\")\n",
    "glossaries_other = soup.find_all('span', {'class': 'anchor'})\n",
    "parts_other = [part['id'].lower().strip() for part in glossaries_other]\n",
    "# Append and drop duplicates\n",
    "parts = list(set((parts + parts_other)))\n",
    "# Replace underscore with space\n",
    "parts = [part.replace('_', ' ') for part in parts]"
   ]
  },
  {
   "cell_type": "code",
   "execution_count": 9,
   "id": "5ad702dc-c315-4909-83d1-e3f79bfed020",
   "metadata": {},
   "outputs": [
    {
     "data": {
      "text/plain": [
       "809"
      ]
     },
     "execution_count": 9,
     "metadata": {},
     "output_type": "execute_result"
    }
   ],
   "source": [
    "parts.index('leaf')"
   ]
  },
  {
   "cell_type": "code",
   "execution_count": 10,
   "id": "4b8fa3c5-c2c6-4a16-8e13-b1f15d720373",
   "metadata": {},
   "outputs": [],
   "source": [
    "PLANTS_dict = pickle.load(open('../../data/description/04_TRAIN_0000000-0007584_PLANTS.pkl', 'rb'))"
   ]
  },
  {
   "cell_type": "code",
   "execution_count": 11,
   "id": "d8548e2e-5330-444a-9b32-893c468ce946",
   "metadata": {},
   "outputs": [],
   "source": [
    "PLANTS_list = list(PLANTS_dict.keys())"
   ]
  },
  {
   "cell_type": "code",
   "execution_count": 12,
   "id": "96bf50e0-e3e5-45f3-9bc7-74ae15c84531",
   "metadata": {},
   "outputs": [
    {
     "data": {
      "text/plain": [
       "['Rhachilla internodes elongated below proximal fertile floret.',\n",
       " 'Culms 30-60 cm long, 3-6 -noded.',\n",
       " 'Ligule a fringe of hairs, 0.5 mm long.',\n",
       " 'Fertile spikelets pedicelled, 2 in the cluster.',\n",
       " 'Leaf-blades flat, or conduplicate, 6-11 cm long, 3-4 mm wide.',\n",
       " 'Caryopsis with adherent pericarp, ellipsoid, 1.5-1.75 mm long, dark brown.',\n",
       " 'Upper glume lateral veins ribbed.',\n",
       " 'Upper glume oblong, 1 length of spikelet, membranous, without keels, 5-7 -veined.',\n",
       " 'Lemma of lower sterile floret similar to upper glume, ovate, 1 length of spikelet, scarious, 5 -veined, sulcate, glabrous, or hispid, acuminate.',\n",
       " 'Lower glume apex acute, muticous, or mucronate.']"
      ]
     },
     "execution_count": 12,
     "metadata": {},
     "output_type": "execute_result"
    }
   ],
   "source": [
    "PLANTS_dict['hiteochloa semitonsa'][0:100]"
   ]
  },
  {
   "cell_type": "code",
   "execution_count": 26,
   "id": "c8e0cc60-ae75-495f-a0ac-01b980a1cf5c",
   "metadata": {},
   "outputs": [
    {
     "data": {
      "application/vnd.jupyter.widget-view+json": {
       "model_id": "7fd08328bf3f4c59bb5d18c5e7a81926",
       "version_major": 2,
       "version_minor": 0
      },
      "text/plain": [
       "  0%|          | 0/100 [00:00<?, ?it/s]"
      ]
     },
     "metadata": {},
     "output_type": "display_data"
    }
   ],
   "source": [
    "# Init dict for storage\n",
    "PLANT_traits_dict = collections.defaultdict(list)\n",
    "PLANT_traits_chunk_dict = collections.defaultdict(list)\n",
    "\n",
    "\n",
    "for plant in tqdm_notebook(PLANTS_list[0:100]):\n",
    "    for sentence in PLANTS_dict[plant]:\n",
    "        doc = nlp(sentence)\n",
    "        # Check single\n",
    "        words = [chunk.root.lemma_.lower() for chunk in doc.noun_chunks] \n",
    "        # Check multiple\n",
    "        words += [chunk.root.text.lower() for chunk in doc.noun_chunks]\n",
    "        # Drop duplicate\n",
    "        words = list(set(words))\n",
    "        # Intersect\n",
    "        traits =  set(words) & set(parts)\n",
    "        if traits:\n",
    "            PLANT_traits_dict[plant].append(sentence)\n",
    "            \n",
    "        # Also create chunks to see if this works better\n",
    "        for part in sentence.split(','):\n",
    "            # Clean\n",
    "            part = part.strip()\n",
    "            # Skip single words\n",
    "            if len(part.split()) <= 2:\n",
    "                continue\n",
    "            doc = nlp(part)\n",
    "            # Check single\n",
    "            words = [chunk.root.lemma_.lower() for chunk in doc.noun_chunks] \n",
    "            # Check multiple\n",
    "            words += [chunk.root.text.lower() for chunk in doc.noun_chunks]\n",
    "            # Drop duplicate\n",
    "            words = list(set(words))\n",
    "            # Intersect\n",
    "            traits =  set(words) & set(parts)\n",
    "            if traits:\n",
    "                PLANT_traits_chunk_dict[plant].append(part)    "
   ]
  },
  {
   "cell_type": "code",
   "execution_count": 27,
   "id": "37f801ed-d932-4537-8882-008014532570",
   "metadata": {},
   "outputs": [
    {
     "data": {
      "application/vnd.jupyter.widget-view+json": {
       "model_id": "c10ce1ff65364b69a882224b8ed8c42b",
       "version_major": 2,
       "version_minor": 0
      },
      "text/plain": [
       "Plant:   0%|          | 0/100 [00:00<?, ?it/s]"
      ]
     },
     "metadata": {},
     "output_type": "display_data"
    }
   ],
   "source": [
    "attribution = collections.defaultdict(list)\n",
    "idx = 0\n",
    "\n",
    "# Loop over common birds\n",
    "for plant in tqdm_notebook(PLANTS_list[0:100], desc='Plant'):\n",
    "    # Get descriptions\n",
    "    text_list = [data for data in PLANT_traits_chunk_dict[plant]]\n",
    "    # Get attribution values\n",
    "    for text in text_list:\n",
    "        d = explain(text)\n",
    "        d['Sentence'] = len(d['Words']) * [idx]\n",
    "        d['Plant'] = len(d['Words']) * [plant]\n",
    "        for key in d.keys():\n",
    "            attribution[key] += d[key]\n",
    "        \n",
    "        idx += 1"
   ]
  },
  {
   "cell_type": "code",
   "execution_count": 28,
   "id": "561b0e42-0f17-4538-a8b6-9c2d4033fb06",
   "metadata": {},
   "outputs": [
    {
     "data": {
      "application/vnd.jupyter.widget-view+json": {
       "model_id": "f133cac36b424c40a49e105a48a6aba1",
       "version_major": 2,
       "version_minor": 0
      },
      "text/plain": [
       "  0%|          | 0/4396 [00:00<?, ?it/s]"
      ]
     },
     "metadata": {},
     "output_type": "display_data"
    }
   ],
   "source": [
    "# Drop into a df\n",
    "df_attribution = pd.DataFrame.from_dict(attribution)\n",
    "\n",
    "data_random = []\n",
    "# Extract highest attributions\n",
    "for idx in tqdm_notebook(df_attribution['Sentence'].unique()):\n",
    "#for idx in range(50, 51):\n",
    "    #doc = nlp(text_list[idx])\n",
    "    doc = nlp(' '.join(df_attribution[df_attribution['Sentence'] == idx]['Words']))\n",
    "    if len(doc) <= 3:\n",
    "        continue\n",
    "    # Check single\n",
    "    words = [chunk.root.lemma_.lower() for chunk in doc.noun_chunks] \n",
    "    # Check multiple\n",
    "    words += [chunk.root.text.lower() for chunk in doc.noun_chunks]\n",
    "    # Drop duplicate\n",
    "    words = list(set(words))\n",
    "    #print(words)\n",
    "    #print(words)\n",
    "    traits =  set(words) & set(parts)\n",
    "    #print(traits)\n",
    "    if traits:\n",
    "        # Yield the traits\n",
    "        trait_list = list(traits)\n",
    "        #print(trait_list)\n",
    "        \n",
    "        for trait in trait_list:\n",
    "            #for column in df_attribution.columns[1:-2]:\n",
    "                #print(column)\n",
    "            index = df_attribution[df_attribution['Sentence'] == idx]['Occlusion'].sort_values(ascending=False)\n",
    "            data_random.append((idx, df_attribution.iloc[index.index[0]].Words, trait, df_attribution.iloc[index.index[0]].Plant))"
   ]
  },
  {
   "cell_type": "code",
   "execution_count": 29,
   "id": "57ba4a31-3c3a-484a-a018-14221c1dc399",
   "metadata": {},
   "outputs": [],
   "source": [
    "df_random = pd.DataFrame(data_random, columns =['Sentence', 'Adjective', 'Part', 'Plant'])"
   ]
  },
  {
   "cell_type": "code",
   "execution_count": 30,
   "id": "4b5c35bc-07ff-4982-95d8-acc1e3f058bc",
   "metadata": {},
   "outputs": [
    {
     "data": {
      "text/html": [
       "<div>\n",
       "<style scoped>\n",
       "    .dataframe tbody tr th:only-of-type {\n",
       "        vertical-align: middle;\n",
       "    }\n",
       "\n",
       "    .dataframe tbody tr th {\n",
       "        vertical-align: top;\n",
       "    }\n",
       "\n",
       "    .dataframe thead th {\n",
       "        text-align: right;\n",
       "    }\n",
       "</style>\n",
       "<table border=\"1\" class=\"dataframe\">\n",
       "  <thead>\n",
       "    <tr style=\"text-align: right;\">\n",
       "      <th></th>\n",
       "      <th>Occlusion</th>\n",
       "      <th>Words</th>\n",
       "      <th>Sentence</th>\n",
       "      <th>Plant</th>\n",
       "    </tr>\n",
       "  </thead>\n",
       "  <tbody>\n",
       "    <tr>\n",
       "      <th>30</th>\n",
       "      <td>2.179295e-07</td>\n",
       "      <td>[CLS]</td>\n",
       "      <td>4</td>\n",
       "      <td>hiteochloa semitonsa</td>\n",
       "    </tr>\n",
       "    <tr>\n",
       "      <th>31</th>\n",
       "      <td>2.812594e-07</td>\n",
       "      <td>caryopsis</td>\n",
       "      <td>4</td>\n",
       "      <td>hiteochloa semitonsa</td>\n",
       "    </tr>\n",
       "    <tr>\n",
       "      <th>32</th>\n",
       "      <td>-5.587935e-08</td>\n",
       "      <td>with</td>\n",
       "      <td>4</td>\n",
       "      <td>hiteochloa semitonsa</td>\n",
       "    </tr>\n",
       "    <tr>\n",
       "      <th>33</th>\n",
       "      <td>1.364388e-07</td>\n",
       "      <td>adherent</td>\n",
       "      <td>4</td>\n",
       "      <td>hiteochloa semitonsa</td>\n",
       "    </tr>\n",
       "    <tr>\n",
       "      <th>34</th>\n",
       "      <td>-5.066395e-07</td>\n",
       "      <td>pericarp</td>\n",
       "      <td>4</td>\n",
       "      <td>hiteochloa semitonsa</td>\n",
       "    </tr>\n",
       "    <tr>\n",
       "      <th>35</th>\n",
       "      <td>3.811438e-07</td>\n",
       "      <td>[SEP]</td>\n",
       "      <td>4</td>\n",
       "      <td>hiteochloa semitonsa</td>\n",
       "    </tr>\n",
       "  </tbody>\n",
       "</table>\n",
       "</div>"
      ],
      "text/plain": [
       "       Occlusion      Words  Sentence                 Plant\n",
       "30  2.179295e-07      [CLS]         4  hiteochloa semitonsa\n",
       "31  2.812594e-07  caryopsis         4  hiteochloa semitonsa\n",
       "32 -5.587935e-08       with         4  hiteochloa semitonsa\n",
       "33  1.364388e-07   adherent         4  hiteochloa semitonsa\n",
       "34 -5.066395e-07   pericarp         4  hiteochloa semitonsa\n",
       "35  3.811438e-07      [SEP]         4  hiteochloa semitonsa"
      ]
     },
     "execution_count": 30,
     "metadata": {},
     "output_type": "execute_result"
    }
   ],
   "source": [
    "df_attribution[df_attribution['Sentence'] == 4]"
   ]
  },
  {
   "cell_type": "code",
   "execution_count": 31,
   "id": "a1e87320-4d7b-40af-8fd1-30926b542247",
   "metadata": {},
   "outputs": [
    {
     "name": "stderr",
     "output_type": "stream",
     "text": [
      "100%|███████████████████████████████████████| 5196/5196 [05:14<00:00, 16.50it/s]\n"
     ]
    }
   ],
   "source": [
    "# Apply POS\n",
    "df_random['NLP'] = df_random['Adjective'].progress_apply(lambda x: nlp(x)[0].pos_)"
   ]
  },
  {
   "cell_type": "code",
   "execution_count": 32,
   "id": "51a160b2-f4ec-4cb1-aad7-e3fb6f4d0ccc",
   "metadata": {},
   "outputs": [],
   "source": [
    "df_filtered = df_random[df_random['NLP'].isin(['ADJ', 'NUM', 'VERB'])]"
   ]
  },
  {
   "cell_type": "code",
   "execution_count": 33,
   "id": "f697021a-d317-4e85-a42e-f880c79b2a2b",
   "metadata": {},
   "outputs": [],
   "source": [
    "df_filtered['Trait'] = df_filtered['Adjective'] + ' ' + df_filtered['Part']"
   ]
  },
  {
   "cell_type": "code",
   "execution_count": 34,
   "id": "c586fe1a-9603-49b5-b7c7-a7322efc9e43",
   "metadata": {},
   "outputs": [
    {
     "data": {
      "text/html": [
       "<div>\n",
       "<style scoped>\n",
       "    .dataframe tbody tr th:only-of-type {\n",
       "        vertical-align: middle;\n",
       "    }\n",
       "\n",
       "    .dataframe tbody tr th {\n",
       "        vertical-align: top;\n",
       "    }\n",
       "\n",
       "    .dataframe thead th {\n",
       "        text-align: right;\n",
       "    }\n",
       "</style>\n",
       "<table border=\"1\" class=\"dataframe\">\n",
       "  <thead>\n",
       "    <tr style=\"text-align: right;\">\n",
       "      <th></th>\n",
       "      <th>Sentence</th>\n",
       "      <th>Adjective</th>\n",
       "      <th>Part</th>\n",
       "      <th>Plant</th>\n",
       "      <th>NLP</th>\n",
       "      <th>Trait</th>\n",
       "    </tr>\n",
       "  </thead>\n",
       "  <tbody>\n",
       "    <tr>\n",
       "      <th>0</th>\n",
       "      <td>0</td>\n",
       "      <td>proximal</td>\n",
       "      <td>internode</td>\n",
       "      <td>hiteochloa semitonsa</td>\n",
       "      <td>ADJ</td>\n",
       "      <td>proximal internode</td>\n",
       "    </tr>\n",
       "    <tr>\n",
       "      <th>1</th>\n",
       "      <td>0</td>\n",
       "      <td>proximal</td>\n",
       "      <td>floret</td>\n",
       "      <td>hiteochloa semitonsa</td>\n",
       "      <td>ADJ</td>\n",
       "      <td>proximal floret</td>\n",
       "    </tr>\n",
       "    <tr>\n",
       "      <th>7</th>\n",
       "      <td>5</td>\n",
       "      <td>ribbed</td>\n",
       "      <td>vein</td>\n",
       "      <td>hiteochloa semitonsa</td>\n",
       "      <td>VERB</td>\n",
       "      <td>ribbed vein</td>\n",
       "    </tr>\n",
       "    <tr>\n",
       "      <th>19</th>\n",
       "      <td>16</td>\n",
       "      <td>1</td>\n",
       "      <td>floret</td>\n",
       "      <td>hiteochloa semitonsa</td>\n",
       "      <td>NUM</td>\n",
       "      <td>1 floret</td>\n",
       "    </tr>\n",
       "    <tr>\n",
       "      <th>25</th>\n",
       "      <td>21</td>\n",
       "      <td>33</td>\n",
       "      <td>spikelet</td>\n",
       "      <td>hiteochloa semitonsa</td>\n",
       "      <td>NUM</td>\n",
       "      <td>33 spikelet</td>\n",
       "    </tr>\n",
       "    <tr>\n",
       "      <th>...</th>\n",
       "      <td>...</td>\n",
       "      <td>...</td>\n",
       "      <td>...</td>\n",
       "      <td>...</td>\n",
       "      <td>...</td>\n",
       "      <td>...</td>\n",
       "    </tr>\n",
       "    <tr>\n",
       "      <th>5152</th>\n",
       "      <td>4357</td>\n",
       "      <td>glabrous</td>\n",
       "      <td>node</td>\n",
       "      <td>Dichanthium caricosum</td>\n",
       "      <td>ADJ</td>\n",
       "      <td>glabrous node</td>\n",
       "    </tr>\n",
       "    <tr>\n",
       "      <th>5157</th>\n",
       "      <td>4362</td>\n",
       "      <td>flat</td>\n",
       "      <td>blade</td>\n",
       "      <td>Dichanthium caricosum</td>\n",
       "      <td>ADJ</td>\n",
       "      <td>flat blade</td>\n",
       "    </tr>\n",
       "    <tr>\n",
       "      <th>5165</th>\n",
       "      <td>4369</td>\n",
       "      <td>fragile</td>\n",
       "      <td>rhachis</td>\n",
       "      <td>Dichanthium caricosum</td>\n",
       "      <td>ADJ</td>\n",
       "      <td>fragile rhachis</td>\n",
       "    </tr>\n",
       "    <tr>\n",
       "      <th>5166</th>\n",
       "      <td>4369</td>\n",
       "      <td>fragile</td>\n",
       "      <td>node</td>\n",
       "      <td>Dichanthium caricosum</td>\n",
       "      <td>ADJ</td>\n",
       "      <td>fragile node</td>\n",
       "    </tr>\n",
       "    <tr>\n",
       "      <th>5182</th>\n",
       "      <td>4384</td>\n",
       "      <td>1</td>\n",
       "      <td>floret</td>\n",
       "      <td>Dichanthium caricosum</td>\n",
       "      <td>NUM</td>\n",
       "      <td>1 floret</td>\n",
       "    </tr>\n",
       "  </tbody>\n",
       "</table>\n",
       "<p>879 rows × 6 columns</p>\n",
       "</div>"
      ],
      "text/plain": [
       "      Sentence Adjective       Part                  Plant   NLP  \\\n",
       "0            0  proximal  internode   hiteochloa semitonsa   ADJ   \n",
       "1            0  proximal     floret   hiteochloa semitonsa   ADJ   \n",
       "7            5    ribbed       vein   hiteochloa semitonsa  VERB   \n",
       "19          16         1     floret   hiteochloa semitonsa   NUM   \n",
       "25          21        33   spikelet   hiteochloa semitonsa   NUM   \n",
       "...        ...       ...        ...                    ...   ...   \n",
       "5152      4357  glabrous       node  Dichanthium caricosum   ADJ   \n",
       "5157      4362      flat      blade  Dichanthium caricosum   ADJ   \n",
       "5165      4369   fragile    rhachis  Dichanthium caricosum   ADJ   \n",
       "5166      4369   fragile       node  Dichanthium caricosum   ADJ   \n",
       "5182      4384         1     floret  Dichanthium caricosum   NUM   \n",
       "\n",
       "                   Trait  \n",
       "0     proximal internode  \n",
       "1        proximal floret  \n",
       "7            ribbed vein  \n",
       "19              1 floret  \n",
       "25           33 spikelet  \n",
       "...                  ...  \n",
       "5152       glabrous node  \n",
       "5157          flat blade  \n",
       "5165     fragile rhachis  \n",
       "5166        fragile node  \n",
       "5182            1 floret  \n",
       "\n",
       "[879 rows x 6 columns]"
      ]
     },
     "execution_count": 34,
     "metadata": {},
     "output_type": "execute_result"
    }
   ],
   "source": [
    "df_filtered"
   ]
  },
  {
   "cell_type": "code",
   "execution_count": 36,
   "id": "ff161d63-618a-49b3-bcd4-248f3e040ad3",
   "metadata": {},
   "outputs": [
    {
     "data": {
      "text/html": [
       "<div>\n",
       "<style scoped>\n",
       "    .dataframe tbody tr th:only-of-type {\n",
       "        vertical-align: middle;\n",
       "    }\n",
       "\n",
       "    .dataframe tbody tr th {\n",
       "        vertical-align: top;\n",
       "    }\n",
       "\n",
       "    .dataframe thead th {\n",
       "        text-align: right;\n",
       "    }\n",
       "</style>\n",
       "<table border=\"1\" class=\"dataframe\">\n",
       "  <thead>\n",
       "    <tr style=\"text-align: right;\">\n",
       "      <th></th>\n",
       "      <th>Sentence</th>\n",
       "      <th>Adjective</th>\n",
       "      <th>Part</th>\n",
       "      <th>Plant</th>\n",
       "      <th>NLP</th>\n",
       "      <th>Trait</th>\n",
       "    </tr>\n",
       "  </thead>\n",
       "  <tbody>\n",
       "    <tr>\n",
       "      <th>0</th>\n",
       "      <td>0</td>\n",
       "      <td>proximal</td>\n",
       "      <td>internode</td>\n",
       "      <td>hiteochloa semitonsa</td>\n",
       "      <td>ADJ</td>\n",
       "      <td>proximal internode</td>\n",
       "    </tr>\n",
       "    <tr>\n",
       "      <th>1</th>\n",
       "      <td>0</td>\n",
       "      <td>proximal</td>\n",
       "      <td>floret</td>\n",
       "      <td>hiteochloa semitonsa</td>\n",
       "      <td>ADJ</td>\n",
       "      <td>proximal floret</td>\n",
       "    </tr>\n",
       "    <tr>\n",
       "      <th>7</th>\n",
       "      <td>5</td>\n",
       "      <td>ribbed</td>\n",
       "      <td>vein</td>\n",
       "      <td>hiteochloa semitonsa</td>\n",
       "      <td>VERB</td>\n",
       "      <td>ribbed vein</td>\n",
       "    </tr>\n",
       "    <tr>\n",
       "      <th>19</th>\n",
       "      <td>16</td>\n",
       "      <td>1</td>\n",
       "      <td>floret</td>\n",
       "      <td>hiteochloa semitonsa</td>\n",
       "      <td>NUM</td>\n",
       "      <td>1 floret</td>\n",
       "    </tr>\n",
       "    <tr>\n",
       "      <th>25</th>\n",
       "      <td>21</td>\n",
       "      <td>33</td>\n",
       "      <td>spikelet</td>\n",
       "      <td>hiteochloa semitonsa</td>\n",
       "      <td>NUM</td>\n",
       "      <td>33 spikelet</td>\n",
       "    </tr>\n",
       "    <tr>\n",
       "      <th>...</th>\n",
       "      <td>...</td>\n",
       "      <td>...</td>\n",
       "      <td>...</td>\n",
       "      <td>...</td>\n",
       "      <td>...</td>\n",
       "      <td>...</td>\n",
       "    </tr>\n",
       "    <tr>\n",
       "      <th>5152</th>\n",
       "      <td>4357</td>\n",
       "      <td>glabrous</td>\n",
       "      <td>node</td>\n",
       "      <td>Dichanthium caricosum</td>\n",
       "      <td>ADJ</td>\n",
       "      <td>glabrous node</td>\n",
       "    </tr>\n",
       "    <tr>\n",
       "      <th>5157</th>\n",
       "      <td>4362</td>\n",
       "      <td>flat</td>\n",
       "      <td>blade</td>\n",
       "      <td>Dichanthium caricosum</td>\n",
       "      <td>ADJ</td>\n",
       "      <td>flat blade</td>\n",
       "    </tr>\n",
       "    <tr>\n",
       "      <th>5165</th>\n",
       "      <td>4369</td>\n",
       "      <td>fragile</td>\n",
       "      <td>rhachis</td>\n",
       "      <td>Dichanthium caricosum</td>\n",
       "      <td>ADJ</td>\n",
       "      <td>fragile rhachis</td>\n",
       "    </tr>\n",
       "    <tr>\n",
       "      <th>5166</th>\n",
       "      <td>4369</td>\n",
       "      <td>fragile</td>\n",
       "      <td>node</td>\n",
       "      <td>Dichanthium caricosum</td>\n",
       "      <td>ADJ</td>\n",
       "      <td>fragile node</td>\n",
       "    </tr>\n",
       "    <tr>\n",
       "      <th>5182</th>\n",
       "      <td>4384</td>\n",
       "      <td>1</td>\n",
       "      <td>floret</td>\n",
       "      <td>Dichanthium caricosum</td>\n",
       "      <td>NUM</td>\n",
       "      <td>1 floret</td>\n",
       "    </tr>\n",
       "  </tbody>\n",
       "</table>\n",
       "<p>879 rows × 6 columns</p>\n",
       "</div>"
      ],
      "text/plain": [
       "      Sentence Adjective       Part                  Plant   NLP  \\\n",
       "0            0  proximal  internode   hiteochloa semitonsa   ADJ   \n",
       "1            0  proximal     floret   hiteochloa semitonsa   ADJ   \n",
       "7            5    ribbed       vein   hiteochloa semitonsa  VERB   \n",
       "19          16         1     floret   hiteochloa semitonsa   NUM   \n",
       "25          21        33   spikelet   hiteochloa semitonsa   NUM   \n",
       "...        ...       ...        ...                    ...   ...   \n",
       "5152      4357  glabrous       node  Dichanthium caricosum   ADJ   \n",
       "5157      4362      flat      blade  Dichanthium caricosum   ADJ   \n",
       "5165      4369   fragile    rhachis  Dichanthium caricosum   ADJ   \n",
       "5166      4369   fragile       node  Dichanthium caricosum   ADJ   \n",
       "5182      4384         1     floret  Dichanthium caricosum   NUM   \n",
       "\n",
       "                   Trait  \n",
       "0     proximal internode  \n",
       "1        proximal floret  \n",
       "7            ribbed vein  \n",
       "19              1 floret  \n",
       "25           33 spikelet  \n",
       "...                  ...  \n",
       "5152       glabrous node  \n",
       "5157          flat blade  \n",
       "5165     fragile rhachis  \n",
       "5166        fragile node  \n",
       "5182            1 floret  \n",
       "\n",
       "[879 rows x 6 columns]"
      ]
     },
     "execution_count": 36,
     "metadata": {},
     "output_type": "execute_result"
    }
   ],
   "source": [
    "df_filtered"
   ]
  },
  {
   "cell_type": "code",
   "execution_count": 38,
   "id": "55ab9eae-7f80-439d-938b-c2b62ba82fa3",
   "metadata": {},
   "outputs": [],
   "source": [
    "df_filtered.to_pickle('plant_traits')"
   ]
  },
  {
   "cell_type": "code",
   "execution_count": null,
   "id": "0aa07d38-0c67-4b2b-876d-2a4e4a810954",
   "metadata": {},
   "outputs": [],
   "source": []
  },
  {
   "cell_type": "code",
   "execution_count": 35,
   "id": "ee83681f-5342-4fca-a325-3bc7a761ecbe",
   "metadata": {},
   "outputs": [
    {
     "data": {
      "application/vnd.jupyter.widget-view+json": {
       "model_id": "d6870efa9251463d8d1b04b8c2fcca45",
       "version_major": 2,
       "version_minor": 0
      },
      "text/plain": [
       "Plant:   0%|          | 0/10 [00:00<?, ?it/s]"
      ]
     },
     "metadata": {},
     "output_type": "display_data"
    }
   ],
   "source": [
    "plant_traits = collections.defaultdict(list)\n",
    "for plant in tqdm_notebook(PLANTS_list[0:10], desc='Plant'):\n",
    "    df_subset = df_filtered[df_filtered['Plant'] == plant]\n",
    "\n",
    "    traits = df_subset.groupby(['Trait']).count().sort_values('Sentence').index[-5:]\n",
    "    #traits = traits)\n",
    "    traits.reverse()\n",
    "    \n",
    "    plant_traits[plant].append(traits)"
   ]
  },
  {
   "cell_type": "code",
   "execution_count": 37,
   "id": "e2accf56-ece2-40a6-aae1-87ca0917cb1c",
   "metadata": {},
   "outputs": [
    {
     "data": {
      "text/plain": [
       "defaultdict(list,\n",
       "            {'hiteochloa semitonsa': [['tubercle hair',\n",
       "               'ribbed vein',\n",
       "               'proximal internode',\n",
       "               'proximal floret',\n",
       "               'central axis']],\n",
       "             'Iseilema arguta': [['fertile spikelet',\n",
       "               'fertile lemma',\n",
       "               'chartaceous glumes',\n",
       "               '1 floret']],\n",
       "             'Aristida pubescens': [['scabrous vein',\n",
       "               'lower vein',\n",
       "               '2 lemma',\n",
       "               '1 lemma']],\n",
       "             'Rhytachne glabra': [['glabrous margin',\n",
       "               '1 floret',\n",
       "               'glabrous sheath',\n",
       "               'fragile rhachis',\n",
       "               'fragile node']],\n",
       "             'Anadelphia funerea': [['sterile oblong',\n",
       "               'sterile lemma',\n",
       "               'lower vein',\n",
       "               'fertile spikelet',\n",
       "               '1 floret']],\n",
       "             'Aristida hygrometrica': [['abscissing lemma',\n",
       "               '53 lemma',\n",
       "               '53 column']],\n",
       "             'Elionurus euchaetus': [['chartaceous glumes',\n",
       "               '20 awn',\n",
       "               '1 floret']],\n",
       "             'Chionochloa acicularis': [['glabrous inflorescence',\n",
       "               'glabrous hair',\n",
       "               'smooth margin',\n",
       "               'ligule ligule',\n",
       "               'ligule blade']],\n",
       "             'Aristida amplexifolia': [['lanceolate lanceolate',\n",
       "               'dense raceme',\n",
       "               'dense panicle',\n",
       "               'articulated glumes',\n",
       "               '3 awn']],\n",
       "             'Lasiacis scabrior': [['pubescent sheath',\n",
       "               'pubescent axil',\n",
       "               'hairy apex',\n",
       "               '1 floret']]})"
      ]
     },
     "execution_count": 37,
     "metadata": {},
     "output_type": "execute_result"
    }
   ],
   "source": [
    "plant_traits"
   ]
  },
  {
   "cell_type": "code",
   "execution_count": null,
   "id": "a7b9e308-1973-46eb-9600-f094db9cf1d9",
   "metadata": {},
   "outputs": [],
   "source": [
    "traits"
   ]
  },
  {
   "cell_type": "code",
   "execution_count": null,
   "id": "2b259c47-ce1a-431d-9f78-8b70fef2d5e6",
   "metadata": {},
   "outputs": [],
   "source": []
  }
 ],
 "metadata": {
  "kernelspec": {
   "display_name": "Python [conda env:DL]",
   "language": "python",
   "name": "conda-env-DL-py"
  },
  "language_info": {
   "codemirror_mode": {
    "name": "ipython",
    "version": 3
   },
   "file_extension": ".py",
   "mimetype": "text/x-python",
   "name": "python",
   "nbconvert_exporter": "python",
   "pygments_lexer": "ipython3",
   "version": "3.8.10"
  }
 },
 "nbformat": 4,
 "nbformat_minor": 5
}
