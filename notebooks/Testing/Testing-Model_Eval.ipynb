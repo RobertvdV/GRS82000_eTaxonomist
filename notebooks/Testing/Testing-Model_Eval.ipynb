{
 "cells": [
  {
   "cell_type": "code",
   "execution_count": 1,
   "id": "60b2389b-7977-452d-8304-56e677237dab",
   "metadata": {},
   "outputs": [],
   "source": [
    "import numpy as np\n",
    "import torch\n",
    "import torch.nn as nn\n",
    "from IPython.display import display, HTML\n",
    "from transformers import DistilBertModel, DistilBertTokenizer, logging\n",
    "import matplotlib\n",
    "import matplotlib.pyplot as plt\n",
    "from matplotlib.lines import Line2D\n",
    "from tqdm.notebook import tqdm as tqdm_notebook\n",
    "import seaborn as sns\n",
    "import pandas as pd\n",
    "import numpy as np\n",
    "import collections\n",
    "from collections import Counter\n",
    "import glob\n",
    "import pickle\n",
    "import random\n",
    "from sklearn.metrics.pairwise import cosine_similarity\n",
    "import sys\n",
    "from sklearn.preprocessing import LabelBinarizer"
   ]
  },
  {
   "cell_type": "code",
   "execution_count": 4,
   "id": "0bc7e586-b2e3-4685-ba60-6715d349ecbe",
   "metadata": {},
   "outputs": [],
   "source": [
    "logging.set_verbosity_error()\n",
    "tokenizer = DistilBertTokenizer.from_pretrained('distilbert-base-uncased')\n",
    "device = torch.device(\"cuda:0\" if torch.cuda.is_available() else \"cpu\")\n",
    "\n",
    "sys.path.insert(0, '../../src/models/')\n",
    "sys.path.insert(0, '../../src/features/')"
   ]
  },
  {
   "cell_type": "code",
   "execution_count": 5,
   "id": "b4c06f4e-33b5-4135-bd28-9b405ce51119",
   "metadata": {},
   "outputs": [],
   "source": [
    "# Own Functions\n",
    "from build_features import similarity_matrix as vector_values\n",
    "from predict_model import load_CUB_Bert, load_simBERT, loadBERT\n",
    "from predict_model import SpanPredictor as classify"
   ]
  },
  {
   "cell_type": "code",
   "execution_count": 7,
   "id": "eda4161d-ddce-47e6-bf0f-27dccf7335c4",
   "metadata": {},
   "outputs": [],
   "source": [
    "output = 233"
   ]
  },
  {
   "cell_type": "code",
   "execution_count": 8,
   "id": "0a56a6ea-b5c0-4553-9c24-d08586ba37a9",
   "metadata": {},
   "outputs": [
    {
     "name": "stdout",
     "output_type": "stream",
     "text": [
      "Local Success\n"
     ]
    }
   ],
   "source": [
    "model = load_CUB_Bert(\"../../models/\", 'saved_weights_SPECIES_PLANT_233.pt', outputsize=output)"
   ]
  },
  {
   "cell_type": "code",
   "execution_count": 9,
   "id": "243c9a5a-90b5-4f9c-84b3-6efdfa82c8e9",
   "metadata": {},
   "outputs": [],
   "source": [
    "POWO = pickle.load(open('../../data/processed/RDF_text_POWOSET.pkl', 'rb'))\n",
    "TEST = pickle.load(open('../../data/processed/RDF_text_TESTSET.pkl', 'rb'))"
   ]
  },
  {
   "cell_type": "code",
   "execution_count": 12,
   "id": "d1013439-9617-479e-9226-8c4488e211cb",
   "metadata": {},
   "outputs": [],
   "source": [
    "data_list = []\n",
    "for key in POWO.keys():\n",
    "    data_list += POWO[key]\n",
    "\n",
    "count = Counter(data_list)"
   ]
  },
  {
   "cell_type": "code",
   "execution_count": 14,
   "id": "0c6c6ec3-6336-48b2-982b-2b6dce01e898",
   "metadata": {},
   "outputs": [],
   "source": [
    "#count"
   ]
  },
  {
   "cell_type": "code",
   "execution_count": 15,
   "id": "e3f54317-61ff-4bf8-aa0c-4c493526b0e9",
   "metadata": {},
   "outputs": [],
   "source": [
    "lb = LabelBinarizer()\n",
    "keys = np.array([key for key in POWO.keys()])\n",
    "keys_encoded = lb.fit_transform(keys)"
   ]
  },
  {
   "cell_type": "code",
   "execution_count": 16,
   "id": "5f1ff4af-0d7d-4a2a-b1ff-5799be04fa52",
   "metadata": {},
   "outputs": [],
   "source": [
    "def WhichPlant(span, model):\n",
    "\n",
    "    \"\"\"\n",
    "    Uses a trained bert classifier to see if a span\n",
    "    belongs to a species description or otherwise.\n",
    "    \"\"\"\n",
    "        \n",
    "    with torch.no_grad():\n",
    "        # Tokenize input\n",
    "        inputs = tokenizer(span, return_tensors=\"pt\", truncation='only_first', )\n",
    "        # Predict class\n",
    "        outputs = model(**inputs)\n",
    "        # Get prediction values\n",
    "        exps = torch.exp(outputs)\n",
    "        # Get class\n",
    "        probs = exps.detach().numpy()\n",
    "        \n",
    "        return np.squeeze(probs)"
   ]
  },
  {
   "cell_type": "code",
   "execution_count": 17,
   "id": "ea4bbfa5-c3bd-41ac-832d-99cb31c478a9",
   "metadata": {},
   "outputs": [
    {
     "name": "stdout",
     "output_type": "stream",
     "text": [
      "NAME: Annona muricata\n"
     ]
    }
   ],
   "source": [
    "plant_idx = 33\n",
    "plant = list(POWO.keys())[plant_idx]\n",
    "print('NAME:', plant)\n",
    "plant_list = []\n",
    "for triples in POWO[plant][0:]:\n",
    "    rank = count[triples]\n",
    "    # TESTING\n",
    "    if 'sub parts' in triples:\n",
    "        continue\n",
    "    if 'main parts'  in triples:\n",
    "        continue\n",
    "        \n",
    "    plant_list.append((triples, rank))\n",
    "    \n",
    "plant_list = list(set(plant_list))   \n",
    "plant_list = sorted(plant_list, key=lambda x: x[1], reverse=True)"
   ]
  },
  {
   "cell_type": "code",
   "execution_count": 18,
   "id": "78fa3667-2156-4dda-8f0d-a454f9f78d2d",
   "metadata": {},
   "outputs": [
    {
     "name": "stdout",
     "output_type": "stream",
     "text": [
      "Annona muricata\n"
     ]
    },
    {
     "data": {
      "application/vnd.jupyter.widget-view+json": {
       "model_id": "cc6ea28bd1874c148c586d343f67ed40",
       "version_major": 2,
       "version_minor": 0
      },
      "text/plain": [
       "  0%|          | 0/10 [00:00<?, ?it/s]"
      ]
     },
     "metadata": {},
     "output_type": "display_data"
    }
   ],
   "source": [
    "#plant = list(data.keys())[1]\n",
    "print(plant)\n",
    "\n",
    "probs_stack = np.empty((0, output), float)\n",
    "text_span = []\n",
    "\n",
    "#for row in tqdm_notebook(data_text[plant]):\n",
    "#for (row, _) in tqdm_notebook(reversed(plant_list)):\n",
    "for (row, _) in tqdm_notebook(plant_list[0:]):\n",
    "    \n",
    "    \n",
    "    #if count[row] == 1:\n",
    "    #    continue\n",
    "    \n",
    "    if len(text_span) < 50:\n",
    "        text_span.append(row)\n",
    "    else:\n",
    "        del text_span[0]\n",
    "        text_span.append(row)\n",
    "    span = ' '.join(text_span)\n",
    "    \n",
    "    #probs = WhichPlant(span, model=model)\n",
    "    probs = WhichPlant(row, model=model)\n",
    "    probs_stack = np.vstack((probs_stack, probs))"
   ]
  },
  {
   "cell_type": "code",
   "execution_count": 19,
   "id": "22f3eeec-16fc-4e58-8cca-4fa699532218",
   "metadata": {},
   "outputs": [
    {
     "data": {
      "image/png": "[encoded data removed]",
      "text/plain": [
       "<Figure size 720x576 with 1 Axes>"
      ]
     },
     "metadata": {
      "needs_background": "light"
     },
     "output_type": "display_data"
    }
   ],
   "source": [
    "fig, ax = plt.subplots(figsize=(10, 8))\n",
    "for i in range(0, output):\n",
    "    if i == np.where(lb.classes_ == plant)[0][0]:\n",
    "        ax.plot(probs_stack[:, i], color='blue', alpha=1, markersize=5, zorder=2)\n",
    "    else:\n",
    "        \n",
    "        ax.plot(probs_stack[:, i], color='red', alpha=0.05, zorder=1)\n",
    "plt.grid()"
   ]
  },
  {
   "cell_type": "code",
   "execution_count": 27,
   "id": "ea629d4d-7b62-419d-af88-18010995b4b5",
   "metadata": {},
   "outputs": [],
   "source": [
    "#pos_array = np.array(data[plant][0:])\n",
    "#idx = np.where(lb.classes_ == plant)[0][0]\n",
    "#pos_array[probs_stack[:, idx] > .9]"
   ]
  },
  {
   "cell_type": "code",
   "execution_count": null,
   "id": "e8abea14-5f71-416f-b48b-2e8ead34d066",
   "metadata": {},
   "outputs": [],
   "source": []
  },
  {
   "cell_type": "code",
   "execution_count": null,
   "id": "1c4ce228-3c19-4b26-958a-6668b005e922",
   "metadata": {},
   "outputs": [],
   "source": [
    "'''\n",
    "data_plants = collections.defaultdict(list)\n",
    "\n",
    "for plant in tqdm_notebook(list(data.keys())[0:10]):\n",
    "    text_span = ''\n",
    "    \n",
    "    plant_list = []\n",
    "    for triples in data[plant][0:]:\n",
    "        rank = count[triples]\n",
    "        plant_list.append((triples, rank))\n",
    "\n",
    "    plant_list = list(set(plant_list))   \n",
    "    plant_list = sorted(plant_list, key=lambda x: x[1], reverse=True)    \n",
    "    \n",
    "    \n",
    "    for (row, _) in tqdm_notebook(plant_list, leave=False):\n",
    "    #for row in important_stuff:\n",
    "        text_span += f' {row}.' \n",
    "        probabilities_stacked = WhichPlant(row, model=model)\n",
    "        idx = np.where(lb.classes_ == plant)[0][0]\n",
    "        data_plants[plant].append(probabilities_stacked[idx])\n",
    "'''"
   ]
  },
  {
   "cell_type": "code",
   "execution_count": 28,
   "id": "f5628c8f-e1d6-47e1-9131-9ac2b3636235",
   "metadata": {},
   "outputs": [
    {
     "data": {
      "text/plain": [
       "'\\nfig, ax = plt.subplots(figsize=(10, 8))\\n\\nfor plant in data_plants.keys():\\n    ax.plot(data_plants[plant], alpha=,)\\n#plt.legend()\\nplt.show()\\n'"
      ]
     },
     "execution_count": 28,
     "metadata": {},
     "output_type": "execute_result"
    }
   ],
   "source": [
    "'''\n",
    "fig, ax = plt.subplots(figsize=(10, 8))\n",
    "\n",
    "for plant in data_plants.keys():\n",
    "    ax.plot(data_plants[plant], alpha=,)\n",
    "#plt.legend()\n",
    "plt.show()\n",
    "'''"
   ]
  },
  {
   "cell_type": "code",
   "execution_count": null,
   "id": "fcb2822f-1a35-42fa-b0ee-aa29b8042644",
   "metadata": {},
   "outputs": [],
   "source": []
  },
  {
   "cell_type": "code",
   "execution_count": null,
   "id": "eeb0d20d-7d2a-4c3b-93ec-29332873a097",
   "metadata": {},
   "outputs": [],
   "source": []
  },
  {
   "cell_type": "code",
   "execution_count": 24,
   "id": "bbe43439-9bdf-46c0-8d26-81e590efe8cc",
   "metadata": {},
   "outputs": [],
   "source": [
    "def check_values(sents):\n",
    "    \n",
    "    count = 0\n",
    "    # Check other combinations\n",
    "    for species in POWO.keys():\n",
    "        length = len(set(sents).intersection(POWO[species]))\n",
    "        if length == len(sents):\n",
    "            count += 1\n",
    "        \n",
    "    return count"
   ]
  },
  {
   "cell_type": "code",
   "execution_count": 25,
   "id": "ccb8d45b-0f92-4857-8b43-a8b965781211",
   "metadata": {},
   "outputs": [
    {
     "data": {
      "application/vnd.jupyter.widget-view+json": {
       "model_id": "dc1e4e54fd3b4206a10c586729c39f18",
       "version_major": 2,
       "version_minor": 0
      },
      "text/plain": [
       "  0%|          | 0/10 [00:00<?, ?it/s]"
      ]
     },
     "metadata": {},
     "output_type": "display_data"
    }
   ],
   "source": [
    "text_list = []\n",
    "pred_sing = []\n",
    "pred_mult = []\n",
    "single_other = []\n",
    "multip_other = []\n",
    "\n",
    "for idx, (row, value) in enumerate(tqdm_notebook(plant_list[0:])):\n",
    "    text_list.append(row)\n",
    "    pred_sing.append(output / value / output)\n",
    "    if idx != 0 and pred_mult[-1] == 1:\n",
    "        pred_mult.append(1)\n",
    "    else:\n",
    "        pred_mult.append(output / check_values(text_list) / output)\n",
    "            "
   ]
  },
  {
   "cell_type": "code",
   "execution_count": 27,
   "id": "f3a6f4de-45b5-455d-b5e5-830866249f2d",
   "metadata": {},
   "outputs": [
    {
     "data": {
      "application/vnd.jupyter.widget-view+json": {
       "model_id": "be6b87d441c44e61b13d3cc5fc4dfbcf",
       "version_major": 2,
       "version_minor": 0
      },
      "text/plain": [
       "  0%|          | 0/10 [00:00<?, ?it/s]"
      ]
     },
     "metadata": {},
     "output_type": "display_data"
    }
   ],
   "source": [
    "pred_sing = []\n",
    "pred_all_single = np.zeros(shape=(len(plant_list[0:]), output))\n",
    "\n",
    "for idx, (row, value) in enumerate(tqdm_notebook(plant_list[0:])):\n",
    "    temp_s = []\n",
    "    for x in POWO.keys():\n",
    "        if row in POWO[x]:\n",
    "            temp_s.append(output / value / output)\n",
    "        else:\n",
    "            temp_s.append(0)\n",
    "    pred_all_single[idx] = temp_s\n"
   ]
  },
  {
   "cell_type": "code",
   "execution_count": 28,
   "id": "7758498d-a2e8-41b2-ab4f-30466a10a88a",
   "metadata": {},
   "outputs": [],
   "source": [
    "#len(species)"
   ]
  },
  {
   "cell_type": "code",
   "execution_count": 29,
   "id": "a0bb763d-5b9b-421c-b48e-080ad7d56a7e",
   "metadata": {},
   "outputs": [
    {
     "data": {
      "image/png": "[encoded data removed]",
      "text/plain": [
       "<Figure size 720x576 with 1 Axes>"
      ]
     },
     "metadata": {
      "needs_background": "light"
     },
     "output_type": "display_data"
    }
   ],
   "source": [
    "fig, ax = plt.subplots(figsize=(10, 8))\n",
    "for i in range(0, output):\n",
    "    if i == plant_idx:\n",
    "        ax.plot(pred_all_single[:, i], color='blue', alpha=1, markersize=5, zorder=2, )\n",
    "    else:\n",
    "        ax.plot(pred_all_single[:, i], color='red', alpha=0.05, zorder=1,)\n",
    "plt.plot(pred_mult, color='orange')\n",
    "plt.grid()"
   ]
  },
  {
   "cell_type": "code",
   "execution_count": 46,
   "id": "eb4319b1-4ce7-419f-971a-659921c54c93",
   "metadata": {},
   "outputs": [
    {
     "data": {
      "text/plain": [
       "['Spikelet disarticulating below floret.',\n",
       " 'Spikelet comprising florets.',\n",
       " 'Glume is similar.',\n",
       " 'Glume is thinner than fertile lemma.',\n",
       " 'Spikelet is dorsally compressed.',\n",
       " 'Fertile lemma is lanceolate.',\n",
       " 'Spikelet is elliptic.']"
      ]
     },
     "execution_count": 46,
     "metadata": {},
     "output_type": "execute_result"
    }
   ],
   "source": [
    "text_list[0:np.array(pred_mult).argmax()]"
   ]
  },
  {
   "cell_type": "code",
   "execution_count": null,
   "id": "a8eb6fab-78cc-44df-a008-982424b00b09",
   "metadata": {},
   "outputs": [],
   "source": []
  }
 ],
 "metadata": {
  "kernelspec": {
   "display_name": "Python [conda env:DL]",
   "language": "python",
   "name": "conda-env-DL-py"
  },
  "language_info": {
   "codemirror_mode": {
    "name": "ipython",
    "version": 3
   },
   "file_extension": ".py",
   "mimetype": "text/x-python",
   "name": "python",
   "nbconvert_exporter": "python",
   "pygments_lexer": "ipython3",
   "version": "3.8.10"
  }
 },
 "nbformat": 4,
 "nbformat_minor": 5
}
