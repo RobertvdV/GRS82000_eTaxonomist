{
 "cells": [
  {
   "cell_type": "code",
   "execution_count": 1,
   "id": "78fe4881-cd47-4d55-82c7-2a05b8806af1",
   "metadata": {},
   "outputs": [],
   "source": [
    "import numpy as np\n",
    "import pandas as pd\n",
    "import torch\n",
    "import pickle\n",
    "import re\n",
    "import matplotlib.pyplot as plt\n",
    "from itertools import chain\n",
    "from collections import Counter\n",
    "import torch.nn as nn\n",
    "import glob\n",
    "import random\n",
    "from sklearn.metrics.pairwise import cosine_similarity\n",
    "from transformers import DistilBertTokenizer, DistilBertModel\n",
    "from tqdm import tqdm\n",
    "import time\n",
    "import seaborn as sns\n",
    "\n",
    "import sys\n",
    "sys.path.insert(0, '../../src/models/')\n",
    "sys.path.insert(0, '../../src/features/')\n",
    "#sys.path.insert(0, '../src/visualization/')\n",
    "\n",
    "from predict_model import loadBERT\n",
    "from predict_model import SpanPredictor as classify\n",
    "from build_features import text_cleaner\n",
    "from build_features import get_prediction_results\n",
    "#import visualize as vis\n",
    "\n",
    "%matplotlib inline"
   ]
  },
  {
   "cell_type": "code",
   "execution_count": 2,
   "id": "d3b7ffa1-534b-4585-8ae3-dba809552345",
   "metadata": {},
   "outputs": [
    {
     "name": "stderr",
     "output_type": "stream",
     "text": [
      "Some weights of the model checkpoint at distilbert-base-uncased were not used when initializing DistilBertModel: ['vocab_projector.weight', 'vocab_projector.bias', 'vocab_layer_norm.weight', 'vocab_layer_norm.bias', 'vocab_transform.weight', 'vocab_transform.bias']\n",
      "- This IS expected if you are initializing DistilBertModel from the checkpoint of a model trained on another task or with another architecture (e.g. initializing a BertForSequenceClassification model from a BertForPreTraining model).\n",
      "- This IS NOT expected if you are initializing DistilBertModel from the checkpoint of a model that you expect to be exactly identical (initializing a BertForSequenceClassification model from a BertForSequenceClassification model).\n"
     ]
    }
   ],
   "source": [
    "# specify device\n",
    "from torch import cuda\n",
    "device = 'cuda' if cuda.is_available() else 'cpu'\n",
    "\n",
    "# Load the BERT tokenizer\n",
    "tokenizer = DistilBertTokenizer.from_pretrained('distilbert-base-uncased')\n",
    "\n",
    "# Bert mode\n",
    "bert = DistilBertModel.from_pretrained('distilbert-base-uncased')"
   ]
  },
  {
   "cell_type": "code",
   "execution_count": null,
   "id": "dcc10054-a2bf-4980-a22d-6b68119e02d3",
   "metadata": {},
   "outputs": [],
   "source": []
  },
  {
   "cell_type": "code",
   "execution_count": 3,
   "id": "74115517-055d-4432-937a-e5c4cd5937bf",
   "metadata": {},
   "outputs": [],
   "source": [
    "class BERT(nn.Module):\n",
    "    def __init__(self, bert):\n",
    "\n",
    "        super(BERT, self).__init__()\n",
    "\n",
    "        # Distil Bert model\n",
    "        self.bert = bert\n",
    "\n",
    "    #define the forward pass\n",
    "    def forward(self, **kwargs):\n",
    "\n",
    "        #pass the inputs to the model BERT  \n",
    "        cls_hs = self.bert(**kwargs)\n",
    "        hidden_state = cls_hs.last_hidden_state\n",
    "\n",
    "        return hidden_state"
   ]
  },
  {
   "cell_type": "code",
   "execution_count": 4,
   "id": "9817867a-fa4c-4873-99b5-12c1fd70e99d",
   "metadata": {},
   "outputs": [],
   "source": [
    "model = BERT(bert)"
   ]
  },
  {
   "cell_type": "code",
   "execution_count": 97,
   "id": "26622c87-5dce-4bf1-961d-aa7260b24972",
   "metadata": {},
   "outputs": [],
   "source": [
    "def similarity_matrix(sentence_list):\n",
    "    \n",
    "    \"\"\"\n",
    "    Calculates a similarity cosine matrix based on a list of\n",
    "    sentences.\n",
    "    \"\"\"\n",
    "    \n",
    "    # Initialize dictionary to store tokenized sentences\n",
    "    tokens = {'input_ids': [], 'attention_mask': []}\n",
    "\n",
    "    for sentence in sentence_list:\n",
    "        # encode each sentence and append to dictionary\n",
    "        new_tokens = tokenizer.encode_plus(sentence, max_length=512,\n",
    "                                           truncation=True, \n",
    "                                           padding='max_length',\n",
    "                                           return_tensors='pt')\n",
    "        # Drop the batch dimension\n",
    "        tokens['input_ids'].append(new_tokens['input_ids'][0])\n",
    "        tokens['attention_mask'].append(new_tokens['attention_mask'][0])\n",
    "    \n",
    "    # Reformat list of tensors into single tensor\n",
    "    tokens['input_ids'] = torch.stack(tokens['input_ids'])\n",
    "    tokens['attention_mask'] = torch.stack(tokens['attention_mask'])\n",
    "    \n",
    "    # Get vectors\n",
    "    hiddenstates = model(**tokens)\n",
    "    # Sum along first axis\n",
    "    summed_hs = torch.sum(hiddenstates, 1)\n",
    "    # Detach\n",
    "    summed_hs_np = summed_hs.detach().numpy()\n",
    "    # Get the matrix\n",
    "    return cosine_similarity(summed_hs_np, summed_hs_np).round(5)"
   ]
  },
  {
   "cell_type": "code",
   "execution_count": 38,
   "id": "4e3e0bf1-e91a-4130-9c92-ecec375d4dd8",
   "metadata": {},
   "outputs": [],
   "source": [
    "text= \"\"\"\n",
    "The brown bear (Ursus arctos) is a large bear species found across Eurasia and North America.[1][2] In North America, the populations of brown bears are called grizzly bears, while the subspecies that inhabits the Kodiak Islands of Alaska is known as the Kodiak bear. It is one of the largest living terrestrial members of the order Carnivora, rivaled in size only by its closest relative, the polar bear (Ursus maritimus), which is much less variable in size and slightly bigger on average.[3][4][5][6][7] The brown bear's range includes parts of Russia, Central Asia, China, Canada, the United States, Hokkaido, Scandinavia, Finland, the Balkans, the Picos de Europa and the Carpathian region (especially Romania), Iran, Anatolia, and the Caucasus.[1][8] The brown bear is recognized as a national and state animal in several European countries.[9]\n",
    "\"\"\""
   ]
  },
  {
   "cell_type": "code",
   "execution_count": 98,
   "id": "81d48cb7-c506-4b31-8b89-04d05124a99c",
   "metadata": {},
   "outputs": [],
   "source": [
    "sents = ['Plants bloom in the spring and summer with five to ten 7.5 cm wide flowers.',\n",
    " 'Male thorax and scutellar dorsum with a mixture of long and short hairs, varying from completely yellowish to a large portion of dark hairs.',\n",
    " 'by the form of their antennae: the first segments are thin and form a stalk, the third segment is shorter than it is wide.',\n",
    " 'Criorhina. , the face projects downwards, in contrast to.',\n",
    " 'Female thoracic dorsum with long, erect black to grey hairs.',\n",
    " 'There are two forms one with the pubescence more or less extensively blackish, one in which it is entirely yellow or tawny.',\n",
    " 'The body has uniformly long dense pubescence, obscuring the ground-colour.',\n",
    " 'From a distance though, they are yellowish-black coloured, and look like a bumble bee.',\n",
    " 'Face broad: width of the head/width of the face under the antennae: 1.91–2.08.',\n",
    " 'The species are brownish-white from a close up, and look like a wasp.',\n",
    " 'Perennial forb and prairies; leaves alternate, long and narrow; flowers green, borne in axillary clusters.',\n",
    " ' perennial forb  of savannas and prairies leaves alternate long and narrow, flowers green, borne in axillary clusters.',\n",
    " 'Male thorax and scutellar dorsum with a mixture of long and short hairs, varying from completely yellowish to a large portion of dark hairs.',\n",
    " 'Face broad: width of the head/width of the face under the antennae: 1.91–2.08.',\n",
    " 'Plants with slightly hairy leaves or spikelets ….',]"
   ]
  },
  {
   "cell_type": "code",
   "execution_count": 100,
   "id": "98c2f72c-590a-466d-a307-cb6dfb4a0c37",
   "metadata": {},
   "outputs": [],
   "source": [
    "matrix = similarity_matrix(sents)"
   ]
  },
  {
   "cell_type": "code",
   "execution_count": 78,
   "id": "fa1a37ba-f49b-4fd1-9846-3a0cc003c911",
   "metadata": {},
   "outputs": [],
   "source": [
    "indices = np.transpose((matrix>0.98).nonzero())"
   ]
  },
  {
   "cell_type": "code",
   "execution_count": 83,
   "id": "fb348e6a-8987-42cb-b813-dc22185e490c",
   "metadata": {},
   "outputs": [
    {
     "data": {
      "text/plain": [
       "21"
      ]
     },
     "execution_count": 83,
     "metadata": {},
     "output_type": "execute_result"
    }
   ],
   "source": [
    "doubles = [sents[idx_y] for (idx_x, idx_y) in indices if idx_x != idx_y]\n",
    "doubles = doubles[len(doubles)//2:]\n",
    "item_list = [sent for sent in sents if sent not in doubles]"
   ]
  },
  {
   "cell_type": "code",
   "execution_count": 90,
   "id": "a6fe3a78-f7e1-449b-bbd8-5f8f5cce7fb9",
   "metadata": {},
   "outputs": [],
   "source": [
    "doubles = [sents[idx_y] for (idx_x, idx_y) in indices if idx_x != idx_y]"
   ]
  },
  {
   "cell_type": "code",
   "execution_count": 91,
   "id": "d96a382d-2cb5-4553-88b9-1228f236fa9c",
   "metadata": {},
   "outputs": [
    {
     "data": {
      "text/plain": [
       "['Male thorax and scutellar dorsum with a mixture of long and short hairs, varying from completely yellowish to a large portion of dark hairs.',\n",
       " 'Face broad: width of the head/width of the face under the antennae: 1.91–2.08.',\n",
       " ' perennial forb  of savannas and prairies leaves alternate long and narrow, flowers green, borne in axillary clusters.',\n",
       " 'Perennial forb and prairies; leaves alternate, long and narrow; flowers green, borne in axillary clusters.',\n",
       " 'Male thorax and scutellar dorsum with a mixture of long and short hairs, varying from completely yellowish to a large portion of dark hairs.',\n",
       " 'Face broad: width of the head/width of the face under the antennae: 1.91–2.08.']"
      ]
     },
     "execution_count": 91,
     "metadata": {},
     "output_type": "execute_result"
    }
   ],
   "source": [
    "doubles"
   ]
  },
  {
   "cell_type": "code",
   "execution_count": 92,
   "id": "aaceee6e-872b-4453-8235-087074ef58d3",
   "metadata": {},
   "outputs": [],
   "source": [
    "doubles = doubles[len(doubles)//2:]"
   ]
  },
  {
   "cell_type": "code",
   "execution_count": 95,
   "id": "0bcabde6-8ef0-4420-8982-fc5bf30fd8ac",
   "metadata": {},
   "outputs": [],
   "source": [
    "item_list = [sent for sent in sents if sent not in doubles]"
   ]
  },
  {
   "cell_type": "code",
   "execution_count": 96,
   "id": "30487d98-03c2-42aa-a72d-6f155d6ac4e8",
   "metadata": {},
   "outputs": [
    {
     "data": {
      "text/plain": [
       "['Plants bloom in the spring and summer with five to ten 7.5 cm wide flowers.',\n",
       " 'by the form of their antennae: the first segments are thin and form a stalk, the third segment is shorter than it is wide.',\n",
       " 'Criorhina. , the face projects downwards, in contrast to.',\n",
       " 'Female thoracic dorsum with long, erect black to grey hairs.',\n",
       " 'There are two forms one with the pubescence more or less extensively blackish, one in which it is entirely yellow or tawny.',\n",
       " 'The body has uniformly long dense pubescence, obscuring the ground-colour.',\n",
       " 'From a distance though, they are yellowish-black coloured, and look like a bumble bee.',\n",
       " 'The species are brownish-white from a close up, and look like a wasp.',\n",
       " ' perennial forb  of savannas and prairies leaves alternate long and narrow, flowers green, borne in axillary clusters.',\n",
       " 'Plants with slightly hairy leaves or spikelets ….']"
      ]
     },
     "execution_count": 96,
     "metadata": {},
     "output_type": "execute_result"
    }
   ],
   "source": [
    "item_list"
   ]
  },
  {
   "cell_type": "code",
   "execution_count": 62,
   "id": "1a3be1ea-be34-4b0a-86a5-4f8ef4b880fc",
   "metadata": {},
   "outputs": [
    {
     "name": "stdout",
     "output_type": "stream",
     "text": [
      "Face broad: width of the head/width of the face under the antennae: 1.91–2.08.\n",
      "Face broad: width of the head/width of the face under the antennae: 1.91–2.08.\n"
     ]
    }
   ],
   "source": [
    "print(sents[13])\n",
    "print(sents[8])"
   ]
  },
  {
   "cell_type": "code",
   "execution_count": 80,
   "id": "7bb1ad86-7792-4674-a5c1-cbcc68a71de5",
   "metadata": {},
   "outputs": [
    {
     "data": {
      "text/plain": [
       "Text(0.5, 1.0, 'Similarity Matrix')"
      ]
     },
     "execution_count": 80,
     "metadata": {},
     "output_type": "execute_result"
    },
    {
     "data": {
      "image/png": "[encoded data removed]",
      "text/plain": [
       "<Figure size 720x720 with 1 Axes>"
      ]
     },
     "metadata": {
      "needs_background": "light"
     },
     "output_type": "display_data"
    }
   ],
   "source": [
    "mask = np.zeros_like(matrix)\n",
    "mask[np.triu_indices_from(mask)] = True\n",
    "\n",
    "#plt.figure(figsize=(16, 16),)\n",
    "fig, ax = plt.subplots(figsize=(10, 10))\n",
    "ax = sns.heatmap(matrix, \n",
    "                 linewidths=.5, \n",
    "                 square=True, annot=True, \n",
    "                 cmap='Spectral', \n",
    "                 mask=mask, \n",
    "                 cbar=False)\n",
    "ax.set_title('Similarity Matrix')\n",
    "#fig.savefig('test.svg', format='svg', dpi=1200)"
   ]
  },
  {
   "cell_type": "code",
   "execution_count": 81,
   "id": "d20fcf74-ad62-4d7b-9774-5170890b9609",
   "metadata": {},
   "outputs": [
    {
     "data": {
      "text/plain": [
       "('Perennial forb and prairies; leaves alternate, long and narrow; flowers green, borne in axillary clusters.',\n",
       " 'Face broad: width of the head/width of the face under the antennae: 1.91–2.08.')"
      ]
     },
     "execution_count": 81,
     "metadata": {},
     "output_type": "execute_result"
    }
   ],
   "source": [
    "sents[10], sents[13]"
   ]
  },
  {
   "cell_type": "code",
   "execution_count": 29,
   "id": "dad09839-ae5a-4e62-a987-3752d70cc2a1",
   "metadata": {},
   "outputs": [
    {
     "data": {
      "text/plain": [
       "('Female thoracic dorsum with long, erect black to grey hairs.',\n",
       " 'Male thorax and scutellar dorsum with a mixture of long and short hairs, varying from completely yellowish to a large portion of dark hairs.')"
      ]
     },
     "execution_count": 29,
     "metadata": {},
     "output_type": "execute_result"
    }
   ],
   "source": [
    "sents[4], sents[1]"
   ]
  },
  {
   "cell_type": "code",
   "execution_count": 26,
   "id": "405b2e32-45b6-466e-b529-0a9697da0557",
   "metadata": {},
   "outputs": [],
   "source": []
  },
  {
   "cell_type": "code",
   "execution_count": 75,
   "id": "c8606cc3-c335-4bad-b6c9-a76def10b54c",
   "metadata": {},
   "outputs": [
    {
     "data": {
      "text/plain": [
       "20.51213"
      ]
     },
     "execution_count": 75,
     "metadata": {},
     "output_type": "execute_result"
    }
   ],
   "source": [
    "np.sum(matrix, axis=1)[15]"
   ]
  },
  {
   "cell_type": "code",
   "execution_count": 99,
   "id": "be0b52d8-283f-4eff-89ca-05ed7654addd",
   "metadata": {},
   "outputs": [
    {
     "data": {
      "text/plain": [
       "'Symbol Key HIRTE Common Name hirtella'"
      ]
     },
     "execution_count": 99,
     "metadata": {},
     "output_type": "execute_result"
    }
   ],
   "source": [
    "sents[16]"
   ]
  },
  {
   "cell_type": "code",
   "execution_count": null,
   "id": "b0239cfe-bde9-4cfc-b4e6-aca1d1fbf65c",
   "metadata": {},
   "outputs": [],
   "source": []
  }
 ],
 "metadata": {
  "kernelspec": {
   "display_name": "Python [conda env:DL]",
   "language": "python",
   "name": "conda-env-DL-py"
  },
  "language_info": {
   "codemirror_mode": {
    "name": "ipython",
    "version": 3
   },
   "file_extension": ".py",
   "mimetype": "text/x-python",
   "name": "python",
   "nbconvert_exporter": "python",
   "pygments_lexer": "ipython3",
   "version": "3.8.10"
  }
 },
 "nbformat": 4,
 "nbformat_minor": 5
}
