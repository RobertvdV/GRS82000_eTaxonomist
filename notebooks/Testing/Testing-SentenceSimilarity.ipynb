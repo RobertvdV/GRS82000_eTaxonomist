{
 "cells": [
  {
   "cell_type": "code",
   "execution_count": 1,
   "id": "78fe4881-cd47-4d55-82c7-2a05b8806af1",
   "metadata": {},
   "outputs": [],
   "source": [
    "import numpy as np\n",
    "import pandas as pd\n",
    "import torch\n",
    "import pickle\n",
    "import re\n",
    "import matplotlib.pyplot as plt\n",
    "from itertools import chain\n",
    "from collections import Counter\n",
    "import torch.nn as nn\n",
    "import glob\n",
    "import random\n",
    "from sklearn.metrics.pairwise import cosine_similarity\n",
    "from transformers import DistilBertTokenizer, DistilBertModel\n",
    "from tqdm import tqdm\n",
    "import time\n",
    "\n",
    "import sys\n",
    "sys.path.insert(0, '../../src/models/')\n",
    "sys.path.insert(0, '../../src/features/')\n",
    "#sys.path.insert(0, '../src/visualization/')\n",
    "\n",
    "from predict_model import loadBERT\n",
    "from predict_model import SpanPredictor as classify\n",
    "from build_features import text_cleaner\n",
    "from build_features import get_prediction_results\n",
    "#import visualize as vis\n",
    "\n",
    "%matplotlib inline"
   ]
  },
  {
   "cell_type": "code",
   "execution_count": 2,
   "id": "d3b7ffa1-534b-4585-8ae3-dba809552345",
   "metadata": {},
   "outputs": [
    {
     "name": "stderr",
     "output_type": "stream",
     "text": [
      "Some weights of the model checkpoint at distilbert-base-uncased were not used when initializing DistilBertModel: ['vocab_projector.bias', 'vocab_transform.weight', 'vocab_layer_norm.bias', 'vocab_projector.weight', 'vocab_layer_norm.weight', 'vocab_transform.bias']\n",
      "- This IS expected if you are initializing DistilBertModel from the checkpoint of a model trained on another task or with another architecture (e.g. initializing a BertForSequenceClassification model from a BertForPreTraining model).\n",
      "- This IS NOT expected if you are initializing DistilBertModel from the checkpoint of a model that you expect to be exactly identical (initializing a BertForSequenceClassification model from a BertForSequenceClassification model).\n"
     ]
    }
   ],
   "source": [
    "# specify device\n",
    "from torch import cuda\n",
    "device = 'cuda' if cuda.is_available() else 'cpu'\n",
    "\n",
    "# Load the BERT tokenizer\n",
    "tokenizer = DistilBertTokenizer.from_pretrained('distilbert-base-uncased')\n",
    "\n",
    "# Bert mode\n",
    "bert = DistilBertModel.from_pretrained('distilbert-base-uncased')"
   ]
  },
  {
   "cell_type": "code",
   "execution_count": 3,
   "id": "dcc10054-a2bf-4980-a22d-6b68119e02d3",
   "metadata": {},
   "outputs": [],
   "source": [
    "sents = ['The birds has a black bill.',\n",
    "         'The bill of the bird is black.', \n",
    "         'This is something else.',\n",
    "         'The European has a orange bill.']"
   ]
  },
  {
   "cell_type": "code",
   "execution_count": 4,
   "id": "74115517-055d-4432-937a-e5c4cd5937bf",
   "metadata": {},
   "outputs": [],
   "source": [
    "class BERT(nn.Module):\n",
    "    def __init__(self, bert):\n",
    "\n",
    "        super(BERT, self).__init__()\n",
    "\n",
    "        # Distil Bert model\n",
    "        self.bert = bert\n",
    "\n",
    "    #define the forward pass\n",
    "    def forward(self, **kwargs):\n",
    "\n",
    "        #pass the inputs to the model BERT  \n",
    "        cls_hs = self.bert(**kwargs)\n",
    "        hidden_state = cls_hs.last_hidden_state\n",
    "\n",
    "        return hidden_state"
   ]
  },
  {
   "cell_type": "code",
   "execution_count": 5,
   "id": "9817867a-fa4c-4873-99b5-12c1fd70e99d",
   "metadata": {},
   "outputs": [],
   "source": [
    "model = BERT(bert)"
   ]
  },
  {
   "cell_type": "code",
   "execution_count": 6,
   "id": "26622c87-5dce-4bf1-961d-aa7260b24972",
   "metadata": {},
   "outputs": [],
   "source": [
    "def similarity_matrix(sentence_list):\n",
    "    \n",
    "    \"\"\"\n",
    "    Calculates a similarity cosine matrix based on a list of\n",
    "    sentences.\n",
    "    \"\"\"\n",
    "    # Initialize dictionary to store tokenized sentences\n",
    "    tokens = {'input_ids': [], 'attention_mask': []}\n",
    "\n",
    "    for sentence in sentence_list:\n",
    "        # encode each sentence and append to dictionary\n",
    "        new_tokens = tokenizer.encode_plus(sentence, max_length=128,\n",
    "                                           truncation=True, padding='max_length',\n",
    "                                           return_tensors='pt')\n",
    "        # Drop the batch dimension\n",
    "        tokens['input_ids'].append(new_tokens['input_ids'][0])\n",
    "        tokens['attention_mask'].append(new_tokens['attention_mask'][0])\n",
    "    \n",
    "    # Reformat list of tensors into single tensor\n",
    "    tokens['input_ids'] = torch.stack(tokens['input_ids'])\n",
    "    tokens['attention_mask'] = torch.stack(tokens['attention_mask'])\n",
    "    \n",
    "    # Get vectors\n",
    "    hiddenstates = model(**tokens)\n",
    "    # Sum along first axis\n",
    "    summed_hs = torch.sum(hiddenstates, 1)\n",
    "    # Detach\n",
    "    summed_hs_np = summed_hs.detach().numpy()\n",
    "    # Get the matrix\n",
    "    return cosine_similarity(summed_hs_np, summed_hs_np).round(5)"
   ]
  },
  {
   "cell_type": "code",
   "execution_count": 7,
   "id": "4e3e0bf1-e91a-4130-9c92-ecec375d4dd8",
   "metadata": {},
   "outputs": [],
   "source": [
    "text= \"\"\"\n",
    "The brown bear (Ursus arctos) is a large bear species found across Eurasia and North America.[1][2] In North America, the populations of brown bears are called grizzly bears, while the subspecies that inhabits the Kodiak Islands of Alaska is known as the Kodiak bear. It is one of the largest living terrestrial members of the order Carnivora, rivaled in size only by its closest relative, the polar bear (Ursus maritimus), which is much less variable in size and slightly bigger on average.[3][4][5][6][7] The brown bear's range includes parts of Russia, Central Asia, China, Canada, the United States, Hokkaido, Scandinavia, Finland, the Balkans, the Picos de Europa and the Carpathian region (especially Romania), Iran, Anatolia, and the Caucasus.[1][8] The brown bear is recognized as a national and state animal in several European countries.[9]\n",
    "\"\"\""
   ]
  },
  {
   "cell_type": "code",
   "execution_count": 8,
   "id": "81d48cb7-c506-4b31-8b89-04d05124a99c",
   "metadata": {},
   "outputs": [],
   "source": [
    "textlist = text_cleaner(text)"
   ]
  },
  {
   "cell_type": "code",
   "execution_count": 11,
   "id": "98c2f72c-590a-466d-a307-cb6dfb4a0c37",
   "metadata": {},
   "outputs": [
    {
     "data": {
      "text/plain": [
       "array([[1.     , 0.84999, 0.77776, 0.84397, 0.76749],\n",
       "       [0.84999, 1.     , 0.84509, 0.88701, 0.81679],\n",
       "       [0.77776, 0.84509, 1.     , 0.86323, 0.75792],\n",
       "       [0.84397, 0.88701, 0.86323, 1.     , 0.84067],\n",
       "       [0.76749, 0.81679, 0.75792, 0.84067, 1.     ]], dtype=float32)"
      ]
     },
     "execution_count": 11,
     "metadata": {},
     "output_type": "execute_result"
    }
   ],
   "source": [
    "similarity_matrix(textlist)"
   ]
  },
  {
   "cell_type": "code",
   "execution_count": 10,
   "id": "697fc460-2450-4c8a-87f4-8fd1e9ebaa9e",
   "metadata": {},
   "outputs": [
    {
     "data": {
      "text/plain": [
       "['It is one of the largest living terrestrial members of the order Carnivora, rivaled in size only by its closest relative, the polar bear , which is much less variable in size and slightly bigger on average.',\n",
       " 'In North America, the populations of brown bears are called grizzly bears, while the subspecies that inhabits the Kodiak Islands of Alaska is known as the Kodiak bear.',\n",
       " \"The brown bear's range includes parts of Russia, Central Asia, China, Canada, the United States, Hokkaido, Scandinavia, Finland, the Balkans, the Picos de Europa and the Carpathian region , Iran, Anatolia, and the Caucasus.\",\n",
       " 'The brown bear  is a large bear species found across Eurasia and North America.',\n",
       " 'The brown bear is recognized as a national and state animal in several European countries.']"
      ]
     },
     "execution_count": 10,
     "metadata": {},
     "output_type": "execute_result"
    }
   ],
   "source": [
    "textlist"
   ]
  },
  {
   "cell_type": "code",
   "execution_count": null,
   "id": "7052d2dd-656a-44d6-a993-548a51682f6d",
   "metadata": {},
   "outputs": [],
   "source": []
  }
 ],
 "metadata": {
  "kernelspec": {
   "display_name": "Python [conda env:DL]",
   "language": "python",
   "name": "conda-env-DL-py"
  },
  "language_info": {
   "codemirror_mode": {
    "name": "ipython",
    "version": 3
   },
   "file_extension": ".py",
   "mimetype": "text/x-python",
   "name": "python",
   "nbconvert_exporter": "python",
   "pygments_lexer": "ipython3",
   "version": "3.8.10"
  }
 },
 "nbformat": 4,
 "nbformat_minor": 5
}
