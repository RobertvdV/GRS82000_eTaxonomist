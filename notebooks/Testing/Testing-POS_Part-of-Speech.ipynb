{
 "cells": [
  {
   "cell_type": "code",
   "execution_count": 1,
   "id": "64101143-27e2-4a19-8803-728239392d87",
   "metadata": {},
   "outputs": [],
   "source": [
    "import spacy\n",
    "import pickle\n",
    "from spacy import displacy\n",
    "nlp = spacy.load('en_core_web_trf')\n",
    "from bs4 import BeautifulSoup\n",
    "import requests\n",
    "from tqdm.notebook import tqdm as tqdm_notebook\n",
    "import collections\n",
    "import re\n",
    "import pandas as pd\n",
    "import numpy as np\n",
    "import networkx as nx\n",
    "from networkx.drawing.nx_agraph import graphviz_layout\n",
    "from netgraph import Graph\n",
    "import matplotlib.pyplot as plt\n",
    "import matplotlib.colors as mcolors\n",
    "%matplotlib inline"
   ]
  },
  {
   "cell_type": "code",
   "execution_count": 2,
   "id": "58a8fd77-80d9-4fed-8296-b05529f3faa9",
   "metadata": {},
   "outputs": [],
   "source": [
    "colors = list(mcolors.CSS4_COLORS.keys())"
   ]
  },
  {
   "cell_type": "markdown",
   "id": "8a014546-3861-4b52-8802-8c3acef885b4",
   "metadata": {},
   "source": [
    "### Get Plant Glossary List"
   ]
  },
  {
   "cell_type": "code",
   "execution_count": 3,
   "id": "6d5f684b-b42b-4a93-bced-ab9b855ba1f4",
   "metadata": {},
   "outputs": [],
   "source": [
    "# URL\n",
    "URL = 'https://en.wikipedia.org/wiki/Glossary_of_plant_morphology'\n",
    "# Get the page\n",
    "page = requests.get(URL, timeout=5)\n",
    "soup = BeautifulSoup(page.content, \"lxml\", from_encoding=\"iso-8859-1\")   \n",
    "\n",
    "glossary = collections.defaultdict(list)\n",
    "# Find all H4 \n",
    "for chapter in soup.find_all('h4')[0:]:\n",
    "    # Clean\n",
    "    chapter_text = chapter.text.rstrip('[edit]')\n",
    "    # Find all siblings\n",
    "    for sibling in chapter.find_next_siblings():\n",
    "        # Find the parent\n",
    "        for parent in sibling.find_previous_sibling('h4'):\n",
    "            # Only append if correspond to current chapter\n",
    "            if parent.text == chapter_text:\n",
    "                if 'â' in sibling.text:\n",
    "                    for tag in sibling.find_all('li'):\n",
    "                        candidates = tag.text.split('â')[0]\n",
    "                        candidates = candidates.split('/')\n",
    "                        for candidate in candidates:\n",
    "                            glossary[chapter_text.lower()].append(candidate.strip().lower())"
   ]
  },
  {
   "cell_type": "code",
   "execution_count": 4,
   "id": "ea3fcf4d-eaed-4534-86bb-6b9ca39af19c",
   "metadata": {},
   "outputs": [
    {
     "data": {
      "text/plain": [
       "dict_keys(['morphology', 'roots', 'stems', 'buds', 'leaves', 'basic flower parts', 'inflorescences', 'insertion of floral parts', 'union of flower parts', 'flower sexuality and presence of floral parts', 'flower symmetry', 'terms for fruits', 'fruit types', 'pteridophytes', 'bryophytes'])"
      ]
     },
     "execution_count": 4,
     "metadata": {},
     "output_type": "execute_result"
    }
   ],
   "source": [
    "glossary.keys()"
   ]
  },
  {
   "cell_type": "code",
   "execution_count": 5,
   "id": "2a7788b3-f551-45a3-a15a-fa1184f82f03",
   "metadata": {},
   "outputs": [],
   "source": [
    "glossary['leaves'] += [\n",
    "    'glume',\n",
    "    'surface',\n",
    "    'margin'\n",
    "]\n",
    "glossary['basic flower parts'] +=[\n",
    "    'floret'\n",
    "]\n",
    "glossary['inflorescences'] += [\n",
    "    'spikelets',\n",
    "    'lemma',\n",
    "    'racemes',\n",
    "    'axis'\n",
    "]\n",
    "glossary['leaves'] += [\n",
    "    'rhachilla'\n",
    "]"
   ]
  },
  {
   "cell_type": "markdown",
   "id": "7b8a5e4a-4b26-40c4-8519-1d6f71771737",
   "metadata": {},
   "source": [
    "### Load the data"
   ]
  },
  {
   "cell_type": "code",
   "execution_count": 6,
   "id": "036540dd-c2e2-411f-bf3f-456ed01f0b71",
   "metadata": {},
   "outputs": [],
   "source": [
    "data = pickle.load(open('../data/description/04_TRAIN_0000000-0014557_PLANTS.pkl', 'rb'))"
   ]
  },
  {
   "cell_type": "markdown",
   "id": "867ccd0e-5f07-45d7-bb57-ab4ac63eccc5",
   "metadata": {},
   "source": [
    "### Define Functions"
   ]
  },
  {
   "cell_type": "markdown",
   "id": "28e7931c-5a85-429b-a6b8-abbe6daeed12",
   "metadata": {},
   "source": [
    "### Extract data"
   ]
  },
  {
   "cell_type": "code",
   "execution_count": 267,
   "id": "99c5d76a-6804-4585-a869-bc41e074bb0f",
   "metadata": {},
   "outputs": [
    {
     "data": {
      "application/vnd.jupyter.widget-view+json": {
       "model_id": "fc70db2cb648481ebb35b14a81a0eac4",
       "version_major": 2,
       "version_minor": 0
      },
      "text/plain": [
       "  0%|          | 0/1 [00:00<?, ?it/s]"
      ]
     },
     "metadata": {},
     "output_type": "display_data"
    }
   ],
   "source": [
    "descriptions = collections.defaultdict(list)\n",
    "descriptions_text = collections.defaultdict(list)\n",
    "\n",
    "### PLOTTING ###\n",
    "parts = []\n",
    "### PLOTTING ###\n",
    "\n",
    "compounds = [\n",
    "    'upper', 'lower',\n",
    "    'dorsal', 'central',\n",
    "]\n",
    "\n",
    "for species in tqdm_notebook(list(data.keys())[0:1]):\n",
    "    for idx, text in enumerate(data[species][12:13]):\n",
    "        doc = nlp(text.lower().capitalize())\n",
    "        \n",
    "        for token in doc:            \n",
    "            # Skip compounds\n",
    "            if token.dep_ == 'compound':\n",
    "                continue\n",
    "            # Only (proper) NOUNS\n",
    "            if token.pos_ not in ['NOUN', 'PROPN']:\n",
    "                continue\n",
    "            #else:\n",
    "            #    print(token.lemma_.lower())\n",
    "            #    print(token.lemma_.lower() in glossary['inflorescences'])\n",
    "            for headlist, sublist in glossary.items():\n",
    "\n",
    "                if token.lemma_.lower() in sublist or token.text.lower() in sublist:\n",
    "                    \n",
    "                    descriptions[species].append(('species', 'base part', headlist))\n",
    "                    \n",
    "                    ### RECONSTRUCT COMPOUNDS ###\n",
    "                    if token.i == 0:\n",
    "                        trait = token\n",
    "                    elif doc[token.i - 3].dep_ == 'compound':\n",
    "                        trait = doc[token.i - 3: token.i + 1]\n",
    "                    elif doc[token.i - 3].dep_ in compounds:\n",
    "                        trait = doc[token.i - 3: token.i + 1]\n",
    "                    elif doc[token.i - 2].dep_ == 'compound':\n",
    "                        trait = doc[token.i - 2: token.i + 1]\n",
    "                    elif doc[token.i - 1].dep_ == 'compound':\n",
    "                        trait = doc[token.i - 1: token.i + 1]\n",
    "                    elif doc[token.i - 1].text.lower() in compounds:\n",
    "                        trait = doc[token.i - 1: token.i + 1]\n",
    "                    else:\n",
    "                        trait = token\n",
    "                    descriptions[species].append((headlist, 'part', trait.lemma_))\n",
    "                    ### PLOTTING ###\n",
    "                    parts.append(trait.lemma_)\n",
    "                    \n",
    "                    #print(token)\n",
    "                    \n",
    "                    ### NORMAL SUBJECT TOKENS ###\n",
    "                    if token.dep_ in ['nsubj', 'nsubjpass']:\n",
    "                        parent = next(token.ancestors)\n",
    "                        # Adjectival complement\n",
    "                        if parent.lemma_ == 'be':\n",
    "                            for child in parent.children:\n",
    "                                if child.dep_ == 'acomp':\n",
    "                                    if child.lemma_.lower() in ['long', 'wide']:\n",
    "                                        descriptions[species].append((trait.lemma_, 'be', child.lemma_.lower()))\n",
    "                                        tree = [t.text for t in list(child.subtree)[:-1]]\n",
    "                                        tree = ' '.join(tree)\n",
    "                                        descriptions[species].append((child.lemma_, 'be', tree))\n",
    "                                    else:\n",
    "                                        tree = [t.text for t in list(child.children) if t.dep_ == 'npadvmod']\n",
    "                                        tree = ' '.join(tree) + ' ' +  child.text\n",
    "                                        descriptions[species].append((trait.lemma_, 'be', tree))\n",
    "\n",
    "                        # VERB ADJECTIVES\n",
    "                        else:\n",
    "                            descriptions[species].append((trait.lemma_, 'be', parent.text))\n",
    "                            for child in parent.children:\n",
    "                                ## adposition ##\n",
    "                                if child.pos_ == 'ADP' and child.dep_ == 'prep':\n",
    "                                    loc = next(grandchild for grandchild in child.children if grandchild.dep_ == 'pobj')\n",
    "                                    descriptions[species].append(('location', child.lemma_, loc.lemma_)) ###\n",
    "                            \n",
    "                    ### ADJECTIVES TOKENS ###\n",
    "                    for child in token.children:\n",
    "                        ## NORMAL ADJECTIVES ##\n",
    "                        if child.pos_ == 'ADJ':\n",
    "                            #print(child)\n",
    "                            if child.text.lower() in compounds:\n",
    "                                continue\n",
    "                            descriptions[species].append((trait.lemma_, 'be', child.lemma_))\n",
    "                            for grandchild in child.children:\n",
    "                                if grandchild.dep_ == 'nummod':\n",
    "                                    tree = [t.lemma_ for t in list(grandchild.subtree)]\n",
    "                                    tree = ' '.join(tree)\n",
    "                                    descriptions[species].append((child.lemma_, 'number', tree))\n",
    "                                elif grandchild.dep_ == 'npadvmod':\n",
    "                                    tree = [t.lemma_ for t in list(grandchild.subtree)]\n",
    "                                    tree = ' '.join(tree)\n",
    "                                    descriptions[species].append((child.lemma_, 'number', tree))\n",
    "                            ## conjunction ##\n",
    "                            for grandchild in child.subtree:\n",
    "                                #print(grandchild.dep_)\n",
    "                                if grandchild.dep_ == 'conj' and grandchild.pos_ == 'ADJ':\n",
    "                                    descriptions[species].append((trait.lemma_, 'be', grandchild.lemma_))\n",
    "                        elif child.dep_ == 'amod' and child.pos_ == 'VERB':\n",
    "                            descriptions[species].append((trait.lemma_, 'be', child.text))\n",
    "                        ## APPOS ADJECTIVES ##\n",
    "                        if child.dep_ == 'appos' and child.pos_ == 'NOUN':\n",
    "                            #print(333)\n",
    "                            if child.text in colors:\n",
    "                                descriptions[species].append((trait.lemma_, 'be', child.lemma_))\n",
    "                            else:\n",
    "                                descriptions[species].append((trait.lemma_, 'has', child.lemma_))\n",
    "                            for grandchild in child.children:\n",
    "                                if grandchild.dep_ == 'amod':\n",
    "                                    descriptions[species].append((child.lemma_, 'be', grandchild.lemma_))                                \n",
    "                                if grandchild.dep_ == 'nummod':\n",
    "                                    tree = [t.lemma_ for t in list(grandchild.subtree)]\n",
    "                                    tree = ' '.join(tree)\n",
    "                                    descriptions[species].append((child.lemma_, 'number', tree))\n",
    "                                elif grandchild.dep_ == 'npadvmod':\n",
    "                                    tree = [t.lemma_ for t in list(grandchild.subtree)]\n",
    "                                    tree = ' '.join(tree)\n",
    "                                ## adposition ##\n",
    "                                if grandchild.pos_ == 'ADP' and grandchild.dep_ == 'prep':\n",
    "                                    loc = next(grandgrandchild for grandgrandchild in grandchild.children if grandgrandchild.dep_ == 'pobj')\n",
    "                                    descriptions[species].append(('location', grandchild.lemma_, loc.lemma_))\n",
    "                                ## numbers ##\n",
    "                                for grandgrandchild in grandchild.children:\n",
    "                                    if grandgrandchild.dep_ == 'nummod':\n",
    "                                        tree = [t.lemma_ for t in list(grandgrandchild.subtree)]\n",
    "                                        tree = ' '.join(tree)\n",
    "                                        descriptions[species].append((grandchild.lemma_, 'number', tree))\n",
    "                                    elif grandgrandchild.dep_ == 'npadvmod':\n",
    "                                        tree = [t.lemma_ for t in list(grandgrandchild.subtree)]\n",
    "                                        tree = ' '.join(tree)\n",
    "                                        descriptions[species].append((grandchild.lemma_, 'number', tree))\n",
    "                    ## PARENT ADJECTIVES ##\n",
    "                    if token.dep_ != 'ROOT':\n",
    "                        parent = next(token.ancestors)\n",
    "                        if parent.pos_ == 'ADJ':\n",
    "                            descriptions[species].append((trait.lemma_, 'be', parent.lemma_))\n",
    "    ### SMALL TEST\n",
    "    for (obj, rel, sub) in descriptions[species]:\n",
    "        if rel == 'number':\n",
    "            continue\n",
    "            text = f'{memory} {obj} {rel}: {sub}.'.capitalize()\n",
    "        else:\n",
    "            text = f'{obj} {rel}: {sub}.'.capitalize()\n",
    "            memory = text\n",
    "        descriptions_text[species].append(text)\n"
   ]
  },
  {
   "cell_type": "code",
   "execution_count": 268,
   "id": "2edc34dd-24ac-4e80-a109-289d682a51cc",
   "metadata": {},
   "outputs": [],
   "source": [
    "#with open('../data/processed/PoS_plants_100.pkl', 'wb') as f:\n",
    "#    pickle.dump(descriptions, f)\n",
    "#with open('../data/processed/PoS_plants_text_100.pkl', 'wb') as f:\n",
    "#    pickle.dump(descriptions_text, f)    "
   ]
  },
  {
   "cell_type": "code",
   "execution_count": 269,
   "id": "202a20db-f398-4007-b007-f021f3677712",
   "metadata": {},
   "outputs": [
    {
     "name": "stdout",
     "output_type": "stream",
     "text": [
      "The species has inflorescences as a base part.\n",
      "The inflorescences have a part called spikelet.\n",
      "The spikelet is elliptic.\n",
      "The spikelet is compressed.\n",
      "The spikelet is acute.\n",
      "The spikelet has a mm.\n",
      "The spikelet is 2.5 - 3 mm.\n",
      "The mm is long.\n"
     ]
    }
   ],
   "source": [
    "for idx, (obj, rel, sub) in enumerate(descriptions[species]):\n",
    "    text = ''\n",
    "    if rel == 'base part':\n",
    "        text = f'The {obj} has {sub} as a {rel}.'\n",
    "    elif rel == 'part':\n",
    "        text = f'The {obj} have a {rel} called {sub}.'\n",
    "    elif rel == 'has':\n",
    "        text = f'The {obj} has a {sub}.'\n",
    "    elif rel == 'be':\n",
    "        text = f'The {obj} is {sub}.'\n",
    "    elif obj == 'location':\n",
    "        text = f'The {memory[0]} is {memory[2]} {rel} {sub}.' \n",
    "    elif rel == 'number':\n",
    "        text = f'The {memory[0]} is {sub} {obj}.' \n",
    "    print(text)\n",
    "    if rel == 'number' or obj == 'location':\n",
    "        continue\n",
    "    if memory[0] == obj:\n",
    "        continue\n",
    "    memory = (obj, rel, sub)\n"
   ]
  },
  {
   "cell_type": "code",
   "execution_count": 270,
   "id": "73d14334-cda6-49fd-8171-0b62c661c556",
   "metadata": {},
   "outputs": [
    {
     "data": {
      "text/plain": [
       "defaultdict(list,\n",
       "            {'hiteochloa semitonsa': [('species',\n",
       "               'base part',\n",
       "               'inflorescences'),\n",
       "              ('inflorescences', 'part', 'spikelet'),\n",
       "              ('spikelet', 'be', 'elliptic'),\n",
       "              ('spikelet', 'be', 'compressed'),\n",
       "              ('spikelet', 'be', 'acute'),\n",
       "              ('spikelet', 'has', 'mm'),\n",
       "              ('mm', 'number', '2.5 - 3'),\n",
       "              ('mm', 'be', 'long')]})"
      ]
     },
     "execution_count": 270,
     "metadata": {},
     "output_type": "execute_result"
    }
   ],
   "source": [
    "descriptions"
   ]
  },
  {
   "cell_type": "code",
   "execution_count": 229,
   "id": "bc9aed9d-c089-4381-9e61-06c17bc66616",
   "metadata": {},
   "outputs": [
    {
     "data": {
      "text/plain": [
       "Lower glume primary vein tuberculate, ciliate."
      ]
     },
     "execution_count": 229,
     "metadata": {},
     "output_type": "execute_result"
    }
   ],
   "source": [
    "doc"
   ]
  },
  {
   "cell_type": "code",
   "execution_count": 271,
   "id": "bdcab023-670b-47fa-a5a8-75830a4e9b0a",
   "metadata": {},
   "outputs": [
    {
     "name": "stdout",
     "output_type": "stream",
     "text": [
      "Spikelets NOUN ROOT NNS\n",
      "elliptic ADJ amod JJ\n",
      ", PUNCT punct ,\n",
      "laterally ADV advmod RB\n",
      "compressed VERB amod VBN\n",
      ", PUNCT punct ,\n",
      "compressed VERB acl VBN\n",
      "slightly ADV advmod RB\n",
      ", PUNCT punct ,\n",
      "acute ADJ amod JJ\n",
      ", PUNCT punct ,\n",
      "2.5 NUM quantmod CD\n",
      "- SYM punct SYM\n",
      "3 NUM nummod CD\n",
      "mm NOUN appos NNS\n",
      "long ADJ amod JJ\n",
      ", PUNCT punct ,\n",
      "falling VERB acl VBG\n",
      "entire ADJ oprd JJ\n",
      ". PUNCT punct .\n"
     ]
    }
   ],
   "source": [
    "for token in doc:\n",
    "    print(token, token.pos_, token.dep_, token.tag_)"
   ]
  },
  {
   "cell_type": "code",
   "execution_count": 272,
   "id": "7c2e4ce1-9fa0-48dc-90ce-b5aaaecd055b",
   "metadata": {},
   "outputs": [
    {
     "data": {
      "text/html": [
       "<span class=\"tex2jax_ignore\"><svg xmlns=\"http://www.w3.org/2000/svg\" xmlns:xlink=\"http://www.w3.org/1999/xlink\" xml:lang=\"en\" id=\"2cac1f3d03384ea682d485a98b2dcf8a-0\" class=\"displacy\" width=\"2325\" height=\"662.0\" direction=\"ltr\" style=\"max-width: none; height: 662.0px; color: #000000; background: #ffffff; font-family: Arial; direction: ltr\">\n",
       "<text class=\"displacy-token\" fill=\"currentColor\" text-anchor=\"middle\" y=\"572.0\">\n",
       "    <tspan class=\"displacy-word\" fill=\"currentColor\" x=\"50\">Spikelets</tspan>\n",
       "    <tspan class=\"displacy-tag\" dy=\"2em\" fill=\"currentColor\" x=\"50\">NOUN</tspan>\n",
       "</text>\n",
       "\n",
       "<text class=\"displacy-token\" fill=\"currentColor\" text-anchor=\"middle\" y=\"572.0\">\n",
       "    <tspan class=\"displacy-word\" fill=\"currentColor\" x=\"225\">elliptic,</tspan>\n",
       "    <tspan class=\"displacy-tag\" dy=\"2em\" fill=\"currentColor\" x=\"225\">ADJ</tspan>\n",
       "</text>\n",
       "\n",
       "<text class=\"displacy-token\" fill=\"currentColor\" text-anchor=\"middle\" y=\"572.0\">\n",
       "    <tspan class=\"displacy-word\" fill=\"currentColor\" x=\"400\">laterally</tspan>\n",
       "    <tspan class=\"displacy-tag\" dy=\"2em\" fill=\"currentColor\" x=\"400\">ADV</tspan>\n",
       "</text>\n",
       "\n",
       "<text class=\"displacy-token\" fill=\"currentColor\" text-anchor=\"middle\" y=\"572.0\">\n",
       "    <tspan class=\"displacy-word\" fill=\"currentColor\" x=\"575\">compressed,</tspan>\n",
       "    <tspan class=\"displacy-tag\" dy=\"2em\" fill=\"currentColor\" x=\"575\">VERB</tspan>\n",
       "</text>\n",
       "\n",
       "<text class=\"displacy-token\" fill=\"currentColor\" text-anchor=\"middle\" y=\"572.0\">\n",
       "    <tspan class=\"displacy-word\" fill=\"currentColor\" x=\"750\">compressed</tspan>\n",
       "    <tspan class=\"displacy-tag\" dy=\"2em\" fill=\"currentColor\" x=\"750\">VERB</tspan>\n",
       "</text>\n",
       "\n",
       "<text class=\"displacy-token\" fill=\"currentColor\" text-anchor=\"middle\" y=\"572.0\">\n",
       "    <tspan class=\"displacy-word\" fill=\"currentColor\" x=\"925\">slightly,</tspan>\n",
       "    <tspan class=\"displacy-tag\" dy=\"2em\" fill=\"currentColor\" x=\"925\">ADV</tspan>\n",
       "</text>\n",
       "\n",
       "<text class=\"displacy-token\" fill=\"currentColor\" text-anchor=\"middle\" y=\"572.0\">\n",
       "    <tspan class=\"displacy-word\" fill=\"currentColor\" x=\"1100\">acute,</tspan>\n",
       "    <tspan class=\"displacy-tag\" dy=\"2em\" fill=\"currentColor\" x=\"1100\">ADJ</tspan>\n",
       "</text>\n",
       "\n",
       "<text class=\"displacy-token\" fill=\"currentColor\" text-anchor=\"middle\" y=\"572.0\">\n",
       "    <tspan class=\"displacy-word\" fill=\"currentColor\" x=\"1275\">2.5-</tspan>\n",
       "    <tspan class=\"displacy-tag\" dy=\"2em\" fill=\"currentColor\" x=\"1275\">NUM</tspan>\n",
       "</text>\n",
       "\n",
       "<text class=\"displacy-token\" fill=\"currentColor\" text-anchor=\"middle\" y=\"572.0\">\n",
       "    <tspan class=\"displacy-word\" fill=\"currentColor\" x=\"1450\">3</tspan>\n",
       "    <tspan class=\"displacy-tag\" dy=\"2em\" fill=\"currentColor\" x=\"1450\">NUM</tspan>\n",
       "</text>\n",
       "\n",
       "<text class=\"displacy-token\" fill=\"currentColor\" text-anchor=\"middle\" y=\"572.0\">\n",
       "    <tspan class=\"displacy-word\" fill=\"currentColor\" x=\"1625\">mm</tspan>\n",
       "    <tspan class=\"displacy-tag\" dy=\"2em\" fill=\"currentColor\" x=\"1625\">NOUN</tspan>\n",
       "</text>\n",
       "\n",
       "<text class=\"displacy-token\" fill=\"currentColor\" text-anchor=\"middle\" y=\"572.0\">\n",
       "    <tspan class=\"displacy-word\" fill=\"currentColor\" x=\"1800\">long,</tspan>\n",
       "    <tspan class=\"displacy-tag\" dy=\"2em\" fill=\"currentColor\" x=\"1800\">ADJ</tspan>\n",
       "</text>\n",
       "\n",
       "<text class=\"displacy-token\" fill=\"currentColor\" text-anchor=\"middle\" y=\"572.0\">\n",
       "    <tspan class=\"displacy-word\" fill=\"currentColor\" x=\"1975\">falling</tspan>\n",
       "    <tspan class=\"displacy-tag\" dy=\"2em\" fill=\"currentColor\" x=\"1975\">VERB</tspan>\n",
       "</text>\n",
       "\n",
       "<text class=\"displacy-token\" fill=\"currentColor\" text-anchor=\"middle\" y=\"572.0\">\n",
       "    <tspan class=\"displacy-word\" fill=\"currentColor\" x=\"2150\">entire.</tspan>\n",
       "    <tspan class=\"displacy-tag\" dy=\"2em\" fill=\"currentColor\" x=\"2150\">ADJ</tspan>\n",
       "</text>\n",
       "\n",
       "<g class=\"displacy-arrow\">\n",
       "    <path class=\"displacy-arc\" id=\"arrow-2cac1f3d03384ea682d485a98b2dcf8a-0-0\" stroke-width=\"2px\" d=\"M70,527.0 C70,439.5 200.0,439.5 200.0,527.0\" fill=\"none\" stroke=\"currentColor\"/>\n",
       "    <text dy=\"1.25em\" style=\"font-size: 0.8em; letter-spacing: 1px\">\n",
       "        <textPath xlink:href=\"#arrow-2cac1f3d03384ea682d485a98b2dcf8a-0-0\" class=\"displacy-label\" startOffset=\"50%\" side=\"left\" fill=\"currentColor\" text-anchor=\"middle\">amod</textPath>\n",
       "    </text>\n",
       "    <path class=\"displacy-arrowhead\" d=\"M200.0,529.0 L208.0,517.0 192.0,517.0\" fill=\"currentColor\"/>\n",
       "</g>\n",
       "\n",
       "<g class=\"displacy-arrow\">\n",
       "    <path class=\"displacy-arc\" id=\"arrow-2cac1f3d03384ea682d485a98b2dcf8a-0-1\" stroke-width=\"2px\" d=\"M420,527.0 C420,439.5 550.0,439.5 550.0,527.0\" fill=\"none\" stroke=\"currentColor\"/>\n",
       "    <text dy=\"1.25em\" style=\"font-size: 0.8em; letter-spacing: 1px\">\n",
       "        <textPath xlink:href=\"#arrow-2cac1f3d03384ea682d485a98b2dcf8a-0-1\" class=\"displacy-label\" startOffset=\"50%\" side=\"left\" fill=\"currentColor\" text-anchor=\"middle\">advmod</textPath>\n",
       "    </text>\n",
       "    <path class=\"displacy-arrowhead\" d=\"M420,529.0 L412,517.0 428,517.0\" fill=\"currentColor\"/>\n",
       "</g>\n",
       "\n",
       "<g class=\"displacy-arrow\">\n",
       "    <path class=\"displacy-arc\" id=\"arrow-2cac1f3d03384ea682d485a98b2dcf8a-0-2\" stroke-width=\"2px\" d=\"M70,527.0 C70,264.5 560.0,264.5 560.0,527.0\" fill=\"none\" stroke=\"currentColor\"/>\n",
       "    <text dy=\"1.25em\" style=\"font-size: 0.8em; letter-spacing: 1px\">\n",
       "        <textPath xlink:href=\"#arrow-2cac1f3d03384ea682d485a98b2dcf8a-0-2\" class=\"displacy-label\" startOffset=\"50%\" side=\"left\" fill=\"currentColor\" text-anchor=\"middle\">amod</textPath>\n",
       "    </text>\n",
       "    <path class=\"displacy-arrowhead\" d=\"M560.0,529.0 L568.0,517.0 552.0,517.0\" fill=\"currentColor\"/>\n",
       "</g>\n",
       "\n",
       "<g class=\"displacy-arrow\">\n",
       "    <path class=\"displacy-arc\" id=\"arrow-2cac1f3d03384ea682d485a98b2dcf8a-0-3\" stroke-width=\"2px\" d=\"M70,527.0 C70,177.0 740.0,177.0 740.0,527.0\" fill=\"none\" stroke=\"currentColor\"/>\n",
       "    <text dy=\"1.25em\" style=\"font-size: 0.8em; letter-spacing: 1px\">\n",
       "        <textPath xlink:href=\"#arrow-2cac1f3d03384ea682d485a98b2dcf8a-0-3\" class=\"displacy-label\" startOffset=\"50%\" side=\"left\" fill=\"currentColor\" text-anchor=\"middle\">acl</textPath>\n",
       "    </text>\n",
       "    <path class=\"displacy-arrowhead\" d=\"M740.0,529.0 L748.0,517.0 732.0,517.0\" fill=\"currentColor\"/>\n",
       "</g>\n",
       "\n",
       "<g class=\"displacy-arrow\">\n",
       "    <path class=\"displacy-arc\" id=\"arrow-2cac1f3d03384ea682d485a98b2dcf8a-0-4\" stroke-width=\"2px\" d=\"M770,527.0 C770,439.5 900.0,439.5 900.0,527.0\" fill=\"none\" stroke=\"currentColor\"/>\n",
       "    <text dy=\"1.25em\" style=\"font-size: 0.8em; letter-spacing: 1px\">\n",
       "        <textPath xlink:href=\"#arrow-2cac1f3d03384ea682d485a98b2dcf8a-0-4\" class=\"displacy-label\" startOffset=\"50%\" side=\"left\" fill=\"currentColor\" text-anchor=\"middle\">advmod</textPath>\n",
       "    </text>\n",
       "    <path class=\"displacy-arrowhead\" d=\"M900.0,529.0 L908.0,517.0 892.0,517.0\" fill=\"currentColor\"/>\n",
       "</g>\n",
       "\n",
       "<g class=\"displacy-arrow\">\n",
       "    <path class=\"displacy-arc\" id=\"arrow-2cac1f3d03384ea682d485a98b2dcf8a-0-5\" stroke-width=\"2px\" d=\"M70,527.0 C70,89.5 1095.0,89.5 1095.0,527.0\" fill=\"none\" stroke=\"currentColor\"/>\n",
       "    <text dy=\"1.25em\" style=\"font-size: 0.8em; letter-spacing: 1px\">\n",
       "        <textPath xlink:href=\"#arrow-2cac1f3d03384ea682d485a98b2dcf8a-0-5\" class=\"displacy-label\" startOffset=\"50%\" side=\"left\" fill=\"currentColor\" text-anchor=\"middle\">amod</textPath>\n",
       "    </text>\n",
       "    <path class=\"displacy-arrowhead\" d=\"M1095.0,529.0 L1103.0,517.0 1087.0,517.0\" fill=\"currentColor\"/>\n",
       "</g>\n",
       "\n",
       "<g class=\"displacy-arrow\">\n",
       "    <path class=\"displacy-arc\" id=\"arrow-2cac1f3d03384ea682d485a98b2dcf8a-0-6\" stroke-width=\"2px\" d=\"M1295,527.0 C1295,439.5 1425.0,439.5 1425.0,527.0\" fill=\"none\" stroke=\"currentColor\"/>\n",
       "    <text dy=\"1.25em\" style=\"font-size: 0.8em; letter-spacing: 1px\">\n",
       "        <textPath xlink:href=\"#arrow-2cac1f3d03384ea682d485a98b2dcf8a-0-6\" class=\"displacy-label\" startOffset=\"50%\" side=\"left\" fill=\"currentColor\" text-anchor=\"middle\">quantmod</textPath>\n",
       "    </text>\n",
       "    <path class=\"displacy-arrowhead\" d=\"M1295,529.0 L1287,517.0 1303,517.0\" fill=\"currentColor\"/>\n",
       "</g>\n",
       "\n",
       "<g class=\"displacy-arrow\">\n",
       "    <path class=\"displacy-arc\" id=\"arrow-2cac1f3d03384ea682d485a98b2dcf8a-0-7\" stroke-width=\"2px\" d=\"M1470,527.0 C1470,439.5 1600.0,439.5 1600.0,527.0\" fill=\"none\" stroke=\"currentColor\"/>\n",
       "    <text dy=\"1.25em\" style=\"font-size: 0.8em; letter-spacing: 1px\">\n",
       "        <textPath xlink:href=\"#arrow-2cac1f3d03384ea682d485a98b2dcf8a-0-7\" class=\"displacy-label\" startOffset=\"50%\" side=\"left\" fill=\"currentColor\" text-anchor=\"middle\">nummod</textPath>\n",
       "    </text>\n",
       "    <path class=\"displacy-arrowhead\" d=\"M1470,529.0 L1462,517.0 1478,517.0\" fill=\"currentColor\"/>\n",
       "</g>\n",
       "\n",
       "<g class=\"displacy-arrow\">\n",
       "    <path class=\"displacy-arc\" id=\"arrow-2cac1f3d03384ea682d485a98b2dcf8a-0-8\" stroke-width=\"2px\" d=\"M70,527.0 C70,2.0 1625.0,2.0 1625.0,527.0\" fill=\"none\" stroke=\"currentColor\"/>\n",
       "    <text dy=\"1.25em\" style=\"font-size: 0.8em; letter-spacing: 1px\">\n",
       "        <textPath xlink:href=\"#arrow-2cac1f3d03384ea682d485a98b2dcf8a-0-8\" class=\"displacy-label\" startOffset=\"50%\" side=\"left\" fill=\"currentColor\" text-anchor=\"middle\">appos</textPath>\n",
       "    </text>\n",
       "    <path class=\"displacy-arrowhead\" d=\"M1625.0,529.0 L1633.0,517.0 1617.0,517.0\" fill=\"currentColor\"/>\n",
       "</g>\n",
       "\n",
       "<g class=\"displacy-arrow\">\n",
       "    <path class=\"displacy-arc\" id=\"arrow-2cac1f3d03384ea682d485a98b2dcf8a-0-9\" stroke-width=\"2px\" d=\"M1645,527.0 C1645,439.5 1775.0,439.5 1775.0,527.0\" fill=\"none\" stroke=\"currentColor\"/>\n",
       "    <text dy=\"1.25em\" style=\"font-size: 0.8em; letter-spacing: 1px\">\n",
       "        <textPath xlink:href=\"#arrow-2cac1f3d03384ea682d485a98b2dcf8a-0-9\" class=\"displacy-label\" startOffset=\"50%\" side=\"left\" fill=\"currentColor\" text-anchor=\"middle\">amod</textPath>\n",
       "    </text>\n",
       "    <path class=\"displacy-arrowhead\" d=\"M1775.0,529.0 L1783.0,517.0 1767.0,517.0\" fill=\"currentColor\"/>\n",
       "</g>\n",
       "\n",
       "<g class=\"displacy-arrow\">\n",
       "    <path class=\"displacy-arc\" id=\"arrow-2cac1f3d03384ea682d485a98b2dcf8a-0-10\" stroke-width=\"2px\" d=\"M1645,527.0 C1645,352.0 1955.0,352.0 1955.0,527.0\" fill=\"none\" stroke=\"currentColor\"/>\n",
       "    <text dy=\"1.25em\" style=\"font-size: 0.8em; letter-spacing: 1px\">\n",
       "        <textPath xlink:href=\"#arrow-2cac1f3d03384ea682d485a98b2dcf8a-0-10\" class=\"displacy-label\" startOffset=\"50%\" side=\"left\" fill=\"currentColor\" text-anchor=\"middle\">acl</textPath>\n",
       "    </text>\n",
       "    <path class=\"displacy-arrowhead\" d=\"M1955.0,529.0 L1963.0,517.0 1947.0,517.0\" fill=\"currentColor\"/>\n",
       "</g>\n",
       "\n",
       "<g class=\"displacy-arrow\">\n",
       "    <path class=\"displacy-arc\" id=\"arrow-2cac1f3d03384ea682d485a98b2dcf8a-0-11\" stroke-width=\"2px\" d=\"M1995,527.0 C1995,439.5 2125.0,439.5 2125.0,527.0\" fill=\"none\" stroke=\"currentColor\"/>\n",
       "    <text dy=\"1.25em\" style=\"font-size: 0.8em; letter-spacing: 1px\">\n",
       "        <textPath xlink:href=\"#arrow-2cac1f3d03384ea682d485a98b2dcf8a-0-11\" class=\"displacy-label\" startOffset=\"50%\" side=\"left\" fill=\"currentColor\" text-anchor=\"middle\">oprd</textPath>\n",
       "    </text>\n",
       "    <path class=\"displacy-arrowhead\" d=\"M2125.0,529.0 L2133.0,517.0 2117.0,517.0\" fill=\"currentColor\"/>\n",
       "</g>\n",
       "</svg></span>"
      ],
      "text/plain": [
       "<IPython.core.display.HTML object>"
      ]
     },
     "metadata": {},
     "output_type": "display_data"
    }
   ],
   "source": [
    "displacy.render(doc)"
   ]
  },
  {
   "cell_type": "code",
   "execution_count": null,
   "id": "c85bd510-cdb1-4a96-849c-87105523de1c",
   "metadata": {},
   "outputs": [],
   "source": []
  },
  {
   "cell_type": "code",
   "execution_count": 65,
   "id": "ed31d29c-dfdf-43b2-a281-4c07e5099a0f",
   "metadata": {},
   "outputs": [],
   "source": [
    "source   = []\n",
    "relation = []\n",
    "target   = []\n",
    "\n",
    "for bird in descriptions.keys():\n",
    "    for triple in descriptions[bird]:\n",
    "        if not all(triple):\n",
    "            continue\n",
    "\n",
    "        source.append(triple[0])\n",
    "        relation.append(triple[1])\n",
    "        target.append(triple[2])\n",
    "    \n",
    "kg_df = pd.DataFrame({'source':source, 'target':target, 'edge':relation})"
   ]
  },
  {
   "cell_type": "code",
   "execution_count": 66,
   "id": "861b475c-153d-4a8d-956a-f868038d071a",
   "metadata": {},
   "outputs": [],
   "source": [
    "species = list(data.keys())\n",
    "baseparts = list(glossary.keys())\n",
    "\n",
    "nodes = [(source, target) for source, target in zip(kg_df['source'].values, kg_df['target'].values)]\n",
    "G=nx.from_pandas_edgelist(kg_df, \"source\", \"target\", \n",
    "                          edge_attr=True, create_using=nx.Graph())\n",
    "node_labels = {node : node for idx, node in enumerate(G)}\n",
    "node_size = {}\n",
    "node_color = {}\n",
    "node_labels_large = {}\n",
    "\n",
    "edge_labels = dict(zip(list(zip(kg_df.source, kg_df.target)),\n",
    "                  kg_df['edge'].tolist()))\n",
    "\n",
    "for node in node_labels:\n",
    "    if node == 'species':\n",
    "        node_size[node] = 2.2\n",
    "        node_color[node] = 'darkgreen'\n",
    "        node_labels_large[node] = node\n",
    "    elif node in baseparts:\n",
    "        node_size[node] = 2\n",
    "        node_color[node] = 'green'\n",
    "        node_labels_large[node] = node\n",
    "    elif node in parts:\n",
    "        node_size[node] = 1.5\n",
    "        node_color[node] = 'lightgreen'\n",
    "        node_labels_large[node] = ''\n",
    "    else:\n",
    "        node_size[node] = 1.\n",
    "        node_color[node] = 'white'\n",
    "        node_labels_large[node] = ''\n",
    "\n"
   ]
  },
  {
   "cell_type": "code",
   "execution_count": 67,
   "id": "1fbff224-ad56-4f83-b3c1-8cb4a57bfe20",
   "metadata": {},
   "outputs": [
    {
     "name": "stderr",
     "output_type": "stream",
     "text": [
      "/usr/local/anaconda3/envs/DL/lib/python3.8/site-packages/netgraph/_parser.py:19: UserWarning: Multi-graphs are not properly supported. Removing duplicate edges before plotting.\n",
      "  warnings.warn(msg)\n"
     ]
    },
    {
     "data": {
      "text/plain": [
       "<netgraph._main.Graph at 0x7f7f9a1fcbb0>"
      ]
     },
     "execution_count": 67,
     "metadata": {},
     "output_type": "execute_result"
    },
    {
     "data": {
      "image/png": "[encoded data removed]",
      "text/plain": [
       "<Figure size 720x720 with 1 Axes>"
      ]
     },
     "metadata": {},
     "output_type": "display_data"
    }
   ],
   "source": [
    "plt.figure(figsize=(10, 10))\n",
    "Graph(nodes, node_layout='dot', edge_layout='curved', arrows=True,\n",
    "      node_labels=node_labels, node_label_offset=(0.00, -0.03), node_size=node_size, node_label_fontdict=dict(size=8), node_color=node_color,\n",
    "      edge_labels=edge_labels, edge_width=0.4, edge_label_fontdict=dict(size=7))\n",
    "\n",
    "#plt.savefig('plot.pdf', format='pdf', dpi=1200, bbox_inches='tight')\n"
   ]
  },
  {
   "cell_type": "code",
   "execution_count": null,
   "id": "4a860fac-4aa6-4660-9e45-89a4dcf3364d",
   "metadata": {},
   "outputs": [],
   "source": [
    "node_size"
   ]
  },
  {
   "cell_type": "code",
   "execution_count": null,
   "id": "511d134f-d62e-458c-b83f-0867168de43c",
   "metadata": {},
   "outputs": [],
   "source": [
    "'''\n",
    "G=nx.from_pandas_edgelist(kg_df, \"source\", \"target\", \n",
    "                          edge_attr=True, create_using=nx.MultiDiGraph())\n",
    "\n",
    "plt.figure(figsize=(25, 25))\n",
    "labels = dict(zip(list(zip(kg_df.source, kg_df.target)),\n",
    "                  kg_df['edge'].tolist()))\n",
    "pos = nx.spring_layout(G, k = 0.3*1/np.sqrt(len(G.nodes())))\n",
    "\n",
    "nx.draw(G,\n",
    "        #node_color=color_map,\n",
    "        with_labels=True, \n",
    "        node_size=2500, \n",
    "        pos=graphviz_layout(G, prog=\"dot\"), )\n",
    "nx.draw_networkx_edge_labels(G,\n",
    "                             pos=graphviz_layout(G, prog=\"dot\"), \n",
    "                             edge_labels=labels,\n",
    "                             font_color='red', )\n",
    "#plt.savefig('plot.pdf', format='pdf', dpi=1200, bbox_inches='tight')\n",
    "plt.show()\n",
    "\n",
    "species = list(data.keys())\n",
    "baseparts = list(glossary.keys())\n",
    "parts = list(glossary.values())\n",
    "\n",
    "G=nx.from_pandas_edgelist(kg_df, \"source\", \"target\", \n",
    "                          edge_attr=True, create_using=nx.Graph())\n",
    "\n",
    "plt.figure(figsize=(10, 10))\n",
    "_labels = dict(zip(list(zip(kg_df.source, kg_df.target)),\n",
    "                  kg_df['edge'].tolist()))\n",
    "\n",
    "node_size = {}\n",
    "for (subject, object_), edge in _labels.items():\n",
    "    if subject in species:\n",
    "        node_size[subject] = 10/3\n",
    "    elif subject in baseparts:\n",
    "        node_size[subject] = 8/3\n",
    "    elif subject in parts:\n",
    "        node_size[subject] = 4/3\n",
    "    else:\n",
    "        node_size[subject] = 4/3\n",
    "    if object_ in species:\n",
    "        node_size[object_] = 10/3\n",
    "    elif object_ in baseparts:\n",
    "        node_size[object_] = 8/3\n",
    "    elif object_ in parts:\n",
    "        node_size[object_] = 4/3\n",
    "    else:\n",
    "        node_size[object_] = 4/3\n",
    "        \n",
    "labels = {node : node for idx, node in enumerate(G)}\n",
    "edge_labels = {}\n",
    "for key in labels.keys():\n",
    "    if key in baseparts:\n",
    "        edge_labels[key] = 'basepart'\n",
    "    else:\n",
    "        edge_labels[key] = 'other'\n",
    "\n",
    "Graph(G, node_layout='dot', edge_layout='curved', node_size=node_size, node_labels=labels, node_label_offset=(0.00, -0.04),\n",
    "      edge_width=0.4, arrows=True,\n",
    "      node_label_fontdict=dict(size=8),\n",
    "      edge_label_fontdict=dict(size=6))\n",
    "\n",
    "\n",
    "#plt.savefig('plot.pdf', format='pdf', dpi=1200, bbox_inches='tight')\n",
    "plt.show()\n",
    "'''"
   ]
  },
  {
   "cell_type": "code",
   "execution_count": null,
   "id": "4a84ac03-0eb6-4a7b-91c2-52b15a196cee",
   "metadata": {},
   "outputs": [],
   "source": []
  }
 ],
 "metadata": {
  "kernelspec": {
   "display_name": "Python [conda env:DL]",
   "language": "python",
   "name": "conda-env-DL-py"
  },
  "language_info": {
   "codemirror_mode": {
    "name": "ipython",
    "version": 3
   },
   "file_extension": ".py",
   "mimetype": "text/x-python",
   "name": "python",
   "nbconvert_exporter": "python",
   "pygments_lexer": "ipython3",
   "version": "3.8.10"
  }
 },
 "nbformat": 4,
 "nbformat_minor": 5
}
