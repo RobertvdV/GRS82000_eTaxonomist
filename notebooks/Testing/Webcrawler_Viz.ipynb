{
 "cells": [
  {
   "cell_type": "code",
   "execution_count": 3,
   "id": "98d8c621-da83-4acb-a503-f3fe96e331c8",
   "metadata": {},
   "outputs": [],
   "source": [
    "import numpy as np\n",
    "import pickle\n",
    "from tqdm import tqdm\n",
    "import re\n",
    "import collections\n",
    "import glob\n",
    "from transformers import DistilBertTokenizer, DistilBertModel\n",
    "import sys\n",
    "import time\n",
    "import requests\n",
    "from IPython.display import display, HTML\n",
    "from selenium import webdriver\n",
    "import matplotlib.pyplot as plt\n",
    "import seaborn as sns\n",
    "from selenium.webdriver.support.ui import WebDriverWait\n",
    "from selenium.webdriver.support import expected_conditions as EC\n",
    "from bs4 import BeautifulSoup\n",
    "\n",
    "sys.path.insert(0, '../src/models/')\n",
    "sys.path.insert(0, '../src/features/')\n",
    "\n",
    "from predict_model import loadBERT\n",
    "from predict_model import SpanPredictor as classify\n",
    "from build_features import text_cleaner, DuckDuckGo_Java, Bing_HTML, colorize_prediction\n",
    "\n",
    "%matplotlib inline"
   ]
  },
  {
   "cell_type": "markdown",
   "id": "8269ebad-b36b-47cd-a3c3-6f0576657f7b",
   "metadata": {},
   "source": [
    "## Load models"
   ]
  },
  {
   "cell_type": "code",
   "execution_count": 2,
   "id": "b47e5a37-6744-4ca8-9e51-886632e68513",
   "metadata": {},
   "outputs": [
    {
     "name": "stdout",
     "output_type": "stream",
     "text": [
      "CPU Success\n"
     ]
    }
   ],
   "source": [
    "model = loadBERT(\"../models/\", 'saved_weights_inf_FIXED_boot_beta80.pt')\n",
    "tokenizer = DistilBertTokenizer.from_pretrained('distilbert-base-uncased')"
   ]
  },
  {
   "cell_type": "code",
   "execution_count": null,
   "id": "93a7739d-0de4-4298-8a64-ff5fbbf71afb",
   "metadata": {},
   "outputs": [],
   "source": []
  },
  {
   "cell_type": "code",
   "execution_count": 17,
   "id": "c4c916cb-4bf7-44e5-924a-d20c019c7b08",
   "metadata": {},
   "outputs": [],
   "source": [
    "html = colorize_prediction(\n",
    "    ['Plumage, legs and beak orange.',\n",
    "     'The bill and the legs are both black.',\n",
    "     'The house is large with enormous windows.',\n",
    "     'This is something random, but the sexes are similar.',\n",
    "     'Nuclear power might solve the energy power.',\n",
    "     'The tree has a brown bark and the leaves are pointed',\n",
    "     'The trunk bears conical spines to deter animal attacks.',\n",
    "     'By growing in shaded places, the plant reduces evaporation.',\n",
    "     'Seeds are 3 cm.',\n",
    "     'Branches usually in whorls of 3.'],\n",
    "model=model, tex=False)"
   ]
  },
  {
   "cell_type": "code",
   "execution_count": 18,
   "id": "82266e27-d158-4f84-8ae4-e8b112e81afa",
   "metadata": {},
   "outputs": [
    {
     "data": {
      "text/html": [
       "  <mark class=\"entity\" style=\"\n",
       "    background: #4fb688; \n",
       "    padding: 0.4em 0.0em; \n",
       "    margin: 0.0em; \n",
       "    line-height: 2; \n",
       "    border-radius: 0.75em;\n",
       "    \">Plumage, legs and beak orange. < 0.585 >    \n",
       "    <span style=\"\n",
       "    font-size: 0.8em; \n",
       "    font-weight: bold;\n",
       "    font-color: #538b01;\n",
       "    font color: #538b01;\n",
       "    line-height: 1; \n",
       "    border-radius: 0.75em;\n",
       "    text-align: justify;\n",
       "    text-align-last:center;\n",
       "    vertical-align: middle;\n",
       "    margin-left: 0rem\">\n",
       "    </span>\n",
       "</mark>  <mark class=\"entity\" style=\"\n",
       "    background: #005622; \n",
       "    padding: 0.4em 0.0em; \n",
       "    margin: 0.0em; \n",
       "    line-height: 2; \n",
       "    border-radius: 0.75em;\n",
       "    \">The bill and the legs are both black. < 0.943 >    \n",
       "    <span style=\"\n",
       "    font-size: 0.8em; \n",
       "    font-weight: bold;\n",
       "    font-color: #538b01;\n",
       "    font color: #538b01;\n",
       "    line-height: 1; \n",
       "    border-radius: 0.75em;\n",
       "    text-align: justify;\n",
       "    text-align-last:center;\n",
       "    vertical-align: middle;\n",
       "    margin-left: 0rem\">\n",
       "    </span>\n",
       "</mark>  <mark class=\"entity\" style=\"\n",
       "    background: #f4fbfc; \n",
       "    padding: 0.4em 0.0em; \n",
       "    margin: 0.0em; \n",
       "    line-height: 2; \n",
       "    border-radius: 0.75em;\n",
       "    \">The house is large with enormous windows. < 0.045 >    \n",
       "    <span style=\"\n",
       "    font-size: 0.8em; \n",
       "    font-weight: bold;\n",
       "    font-color: #538b01;\n",
       "    font color: #538b01;\n",
       "    line-height: 1; \n",
       "    border-radius: 0.75em;\n",
       "    text-align: justify;\n",
       "    text-align-last:center;\n",
       "    vertical-align: middle;\n",
       "    margin-left: 0rem\">\n",
       "    </span>\n",
       "</mark>  <mark class=\"entity\" style=\"\n",
       "    background: #70c6ac; \n",
       "    padding: 0.4em 0.0em; \n",
       "    margin: 0.0em; \n",
       "    line-height: 2; \n",
       "    border-radius: 0.75em;\n",
       "    \">This is something random, but the sexes are similar. < 0.486 >    \n",
       "    <span style=\"\n",
       "    font-size: 0.8em; \n",
       "    font-weight: bold;\n",
       "    font-color: #538b01;\n",
       "    font color: #538b01;\n",
       "    line-height: 1; \n",
       "    border-radius: 0.75em;\n",
       "    text-align: justify;\n",
       "    text-align-last:center;\n",
       "    vertical-align: middle;\n",
       "    margin-left: 0rem\">\n",
       "    </span>\n",
       "</mark>  <mark class=\"entity\" style=\"\n",
       "    background: #f7fcfd; \n",
       "    padding: 0.4em 0.0em; \n",
       "    margin: 0.0em; \n",
       "    line-height: 2; \n",
       "    border-radius: 0.75em;\n",
       "    \">Nuclear power might solve the energy power. < 0.026 >    \n",
       "    <span style=\"\n",
       "    font-size: 0.8em; \n",
       "    font-weight: bold;\n",
       "    font-color: #538b01;\n",
       "    font color: #538b01;\n",
       "    line-height: 1; \n",
       "    border-radius: 0.75em;\n",
       "    text-align: justify;\n",
       "    text-align-last:center;\n",
       "    vertical-align: middle;\n",
       "    margin-left: 0rem\">\n",
       "    </span>\n",
       "</mark>  <mark class=\"entity\" style=\"\n",
       "    background: #2b9452; \n",
       "    padding: 0.4em 0.0em; \n",
       "    margin: 0.0em; \n",
       "    line-height: 2; \n",
       "    border-radius: 0.75em;\n",
       "    \">The tree has a brown bark and the leaves are pointed < 0.722 >    \n",
       "    <span style=\"\n",
       "    font-size: 0.8em; \n",
       "    font-weight: bold;\n",
       "    font-color: #538b01;\n",
       "    font color: #538b01;\n",
       "    line-height: 1; \n",
       "    border-radius: 0.75em;\n",
       "    text-align: justify;\n",
       "    text-align-last:center;\n",
       "    vertical-align: middle;\n",
       "    margin-left: 0rem\">\n",
       "    </span>\n",
       "</mark>  <mark class=\"entity\" style=\"\n",
       "    background: #61bf9e; \n",
       "    padding: 0.4em 0.0em; \n",
       "    margin: 0.0em; \n",
       "    line-height: 2; \n",
       "    border-radius: 0.75em;\n",
       "    \">The trunk bears conical spines to deter animal attacks. < 0.530 >    \n",
       "    <span style=\"\n",
       "    font-size: 0.8em; \n",
       "    font-weight: bold;\n",
       "    font-color: #538b01;\n",
       "    font color: #538b01;\n",
       "    line-height: 1; \n",
       "    border-radius: 0.75em;\n",
       "    text-align: justify;\n",
       "    text-align-last:center;\n",
       "    vertical-align: middle;\n",
       "    margin-left: 0rem\">\n",
       "    </span>\n",
       "</mark>  <mark class=\"entity\" style=\"\n",
       "    background: #e3f4f7; \n",
       "    padding: 0.4em 0.0em; \n",
       "    margin: 0.0em; \n",
       "    line-height: 2; \n",
       "    border-radius: 0.75em;\n",
       "    \">By growing in shaded places, the plant reduces evaporation. < 0.162 >    \n",
       "    <span style=\"\n",
       "    font-size: 0.8em; \n",
       "    font-weight: bold;\n",
       "    font-color: #538b01;\n",
       "    font color: #538b01;\n",
       "    line-height: 1; \n",
       "    border-radius: 0.75em;\n",
       "    text-align: justify;\n",
       "    text-align-last:center;\n",
       "    vertical-align: middle;\n",
       "    margin-left: 0rem\">\n",
       "    </span>\n",
       "</mark>  <mark class=\"entity\" style=\"\n",
       "    background: #005020; \n",
       "    padding: 0.4em 0.0em; \n",
       "    margin: 0.0em; \n",
       "    line-height: 2; \n",
       "    border-radius: 0.75em;\n",
       "    \">Seeds are 3 cm. < 0.964 >    \n",
       "    <span style=\"\n",
       "    font-size: 0.8em; \n",
       "    font-weight: bold;\n",
       "    font-color: #538b01;\n",
       "    font color: #538b01;\n",
       "    line-height: 1; \n",
       "    border-radius: 0.75em;\n",
       "    text-align: justify;\n",
       "    text-align-last:center;\n",
       "    vertical-align: middle;\n",
       "    margin-left: 0rem\">\n",
       "    </span>\n",
       "</mark>  <mark class=\"entity\" style=\"\n",
       "    background: #00441b; \n",
       "    padding: 0.4em 0.0em; \n",
       "    margin: 0.0em; \n",
       "    line-height: 2; \n",
       "    border-radius: 0.75em;\n",
       "    \">Branches usually in whorls of 3. < 0.999 >    \n",
       "    <span style=\"\n",
       "    font-size: 0.8em; \n",
       "    font-weight: bold;\n",
       "    font-color: #538b01;\n",
       "    font color: #538b01;\n",
       "    line-height: 1; \n",
       "    border-radius: 0.75em;\n",
       "    text-align: justify;\n",
       "    text-align-last:center;\n",
       "    vertical-align: middle;\n",
       "    margin-left: 0rem\">\n",
       "    </span>\n",
       "</mark>"
      ],
      "text/plain": [
       "<IPython.core.display.HTML object>"
      ]
     },
     "metadata": {},
     "output_type": "display_data"
    }
   ],
   "source": [
    "display(HTML(html))"
   ]
  },
  {
   "cell_type": "code",
   "execution_count": null,
   "id": "3fe23cc7-8515-4521-b012-72a8107fd12d",
   "metadata": {},
   "outputs": [],
   "source": [
    "Html_file= open(\"test\",\"w\")\n",
    "Html_file.write(xxx)\n",
    "Html_file.close()"
   ]
  },
  {
   "cell_type": "code",
   "execution_count": null,
   "id": "b7182328-f35b-4bbf-9b5e-2bac7ef23b4f",
   "metadata": {},
   "outputs": [],
   "source": [
    "xxx= html.replace('\\n', '')"
   ]
  },
  {
   "cell_type": "code",
   "execution_count": null,
   "id": "6c72844a-c3c2-4f20-b352-9ca7d391f57b",
   "metadata": {},
   "outputs": [],
   "source": [
    "URL = \"https://www.beautyofbirds.com/europeanrobins.html\"\n",
    "page = requests.get(URL, timeout=5)\n",
    "soup = BeautifulSoup(page.content, 'html.parser')  \n",
    "dirty_text = soup.get_text(\" \", strip=False).replace('\\n', '.')\n",
    "sents = text_cleaner(dirty_text)"
   ]
  },
  {
   "cell_type": "code",
   "execution_count": null,
   "id": "10aa2194-889a-4cdb-87cb-050a1243d738",
   "metadata": {},
   "outputs": [],
   "source": [
    "html = colorize_prediction(sents[0:5], model=model)"
   ]
  },
  {
   "cell_type": "code",
   "execution_count": 4,
   "id": "245fb1cc-84dd-4eb2-bc39-040addcd2312",
   "metadata": {},
   "outputs": [],
   "source": [
    "dirty_text = \"\"\"\n",
    "The red cotton tree (Bombax ceiba) is a medium- to large-sized tropical tree that usually grows to an average of 20-25 meters, with old trees up to 60 meters in wet tropical weather. It has a straight tall trunk buttressed at base that bears conical spines to deter animal attacks. Its leaves are deciduous in winter. Crimson red flowers with five petals appear in the spring before the new foliage and are one reason that the tree is widely planted. It produces a capsule which, when ripe, contains white fibres, like cotton, which has been used as a substitute for cotton (hence its common name). \n",
    "Trunk, very straight, bole up to 35 m tall, usually cylindrical, 2-3 m in diameter, usually with large plank-like buttresses up to 3(-8) m high extending 1-2 m from the bole and with more or less horizontal main branches and often bracketed below to the stem. Branches usually in whorls of 3. The trunk and many of the larger branches are often crowded with large conical thorns 1-1.5 cm long, at least when young; bark smooth pale grey; young branches glabrous or pubescent.\n",
    "\"\"\""
   ]
  },
  {
   "cell_type": "code",
   "execution_count": 5,
   "id": "1d39866a-199e-4337-99cf-532201a78218",
   "metadata": {},
   "outputs": [
    {
     "data": {
      "text/html": [
       "  <mark class=\"entity\" style=\"    background: #dbf2f2;     padding: 0.4em 0.0em;     margin: 0.0em;     line-height: 2;     border-radius: 0.75em;    \">Crimson red flowers with five petals appear in the spring before the new foliage and are one reason that the tree is widely planted. < 0.303 >        <span style=\"    font-size: 0.8em;     font-weight: bold;    font-color: #538b01;    font color: #538b01;    line-height: 1;     border-radius: 0.75em;    text-align: justify;    text-align-last:center;    vertical-align: middle;    margin-left: 0rem\">    </span></mark>  <mark class=\"entity\" style=\"    background: #00441b;     padding: 0.4em 0.0em;     margin: 0.0em;     line-height: 2;     border-radius: 0.75em;    \">Branches usually in whorls of 3. < 0.999 >        <span style=\"    font-size: 0.8em;     font-weight: bold;    font-color: #538b01;    font color: #538b01;    line-height: 1;     border-radius: 0.75em;    text-align: justify;    text-align-last:center;    vertical-align: middle;    margin-left: 0rem\">    </span></mark>  <mark class=\"entity\" style=\"    background: #00441b;     padding: 0.4em 0.0em;     margin: 0.0em;     line-height: 2;     border-radius: 0.75em;    \">The trunk and many of the larger branches are often crowded with large conical thorns 1-1.5 cm long, at least when young, bark smooth pale grey, young branches glabrous or pubescent. < 0.997 >        <span style=\"    font-size: 0.8em;     font-weight: bold;    font-color: #538b01;    font color: #538b01;    line-height: 1;     border-radius: 0.75em;    text-align: justify;    text-align-last:center;    vertical-align: middle;    margin-left: 0rem\">    </span></mark>  <mark class=\"entity\" style=\"    background: #3ca86d;     padding: 0.4em 0.0em;     margin: 0.0em;     line-height: 2;     border-radius: 0.75em;    \">It has a straight tall trunk buttressed at base that bears conical spines to deter animal attacks. < 0.701 >        <span style=\"    font-size: 0.8em;     font-weight: bold;    font-color: #538b01;    font color: #538b01;    line-height: 1;     border-radius: 0.75em;    text-align: justify;    text-align-last:center;    vertical-align: middle;    margin-left: 0rem\">    </span></mark>  <mark class=\"entity\" style=\"    background: #f7fcfd;     padding: 0.4em 0.0em;     margin: 0.0em;     line-height: 2;     border-radius: 0.75em;    \">It produces a capsule which, when ripe, contains white fibres, like cotton, which has been used as a substitute for cotton. < 0.158 >        <span style=\"    font-size: 0.8em;     font-weight: bold;    font-color: #538b01;    font color: #538b01;    line-height: 1;     border-radius: 0.75em;    text-align: justify;    text-align-last:center;    vertical-align: middle;    margin-left: 0rem\">    </span></mark>  <mark class=\"entity\" style=\"    background: #087432;     padding: 0.4em 0.0em;     margin: 0.0em;     line-height: 2;     border-radius: 0.75em;    \">The red cotton tree is a medium- to large-sized tropical tree that usually grows to an average of 20-25 meters, with old trees up to 60 meters in wet tropical weather. < 0.870 >        <span style=\"    font-size: 0.8em;     font-weight: bold;    font-color: #538b01;    font color: #538b01;    line-height: 1;     border-radius: 0.75em;    text-align: justify;    text-align-last:center;    vertical-align: middle;    margin-left: 0rem\">    </span></mark>  <mark class=\"entity\" style=\"    background: #00441b;     padding: 0.4em 0.0em;     margin: 0.0em;     line-height: 2;     border-radius: 0.75em;    \">Trunk, very straight, bole up to 35 m tall, usually cylindrical, 2-3 m in diameter, usually with large plank-like buttresses up to 3 m high extending 1-2 m from the bole and with more or less horizontal main branches and often bracketed below to the stem. < 0.998 >        <span style=\"    font-size: 0.8em;     font-weight: bold;    font-color: #538b01;    font color: #538b01;    line-height: 1;     border-radius: 0.75em;    text-align: justify;    text-align-last:center;    vertical-align: middle;    margin-left: 0rem\">    </span></mark>  <mark class=\"entity\" style=\"    background: #bfe7de;     padding: 0.4em 0.0em;     margin: 0.0em;     line-height: 2;     border-radius: 0.75em;    \">Its leaves are deciduous in winter. < 0.396 >        <span style=\"    font-size: 0.8em;     font-weight: bold;    font-color: #538b01;    font color: #538b01;    line-height: 1;     border-radius: 0.75em;    text-align: justify;    text-align-last:center;    vertical-align: middle;    margin-left: 0rem\">    </span></mark>"
      ],
      "text/plain": [
       "<IPython.core.display.HTML object>"
      ]
     },
     "metadata": {},
     "output_type": "display_data"
    }
   ],
   "source": [
    "sents = text_cleaner(dirty_text)\n",
    "html = colorize_prediction(sents, model=model, tex=False)\n",
    "html = html.replace('\\n', '')\n",
    "display(HTML(html))"
   ]
  },
  {
   "cell_type": "code",
   "execution_count": null,
   "id": "cafb338f-f9d3-42f4-9014-57f797027866",
   "metadata": {},
   "outputs": [],
   "source": []
  }
 ],
 "metadata": {
  "kernelspec": {
   "display_name": "Python [conda env:DL]",
   "language": "python",
   "name": "conda-env-DL-py"
  },
  "language_info": {
   "codemirror_mode": {
    "name": "ipython",
    "version": 3
   },
   "file_extension": ".py",
   "mimetype": "text/x-python",
   "name": "python",
   "nbconvert_exporter": "python",
   "pygments_lexer": "ipython3",
   "version": "3.8.10"
  }
 },
 "nbformat": 4,
 "nbformat_minor": 5
}
