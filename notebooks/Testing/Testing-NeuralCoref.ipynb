{
 "cells": [
  {
   "cell_type": "code",
   "execution_count": 2,
   "id": "c1f9002d-1cd1-40d7-b333-c3c487112488",
   "metadata": {},
   "outputs": [
    {
     "data": {
      "text/plain": [
       "<spacy.lang.en.English at 0x7fa1b8774750>"
      ]
     },
     "execution_count": 2,
     "metadata": {},
     "output_type": "execute_result"
    }
   ],
   "source": [
    "import spacy\n",
    "from spacy.matcher import Matcher \n",
    "from spacy.tokens import Span\n",
    "from spacy.tokenizer import Tokenizer\n",
    "import neuralcoref\n",
    "import pickle\n",
    "import urllib\n",
    "from string import punctuation\n",
    "import nltk\n",
    "import json\n",
    "import re\n",
    "import pandas as pd\n",
    "from tqdm import tqdm\n",
    "\n",
    "# Load SpaCy\n",
    "nlp = spacy.load('en_core_web_sm')\n",
    "#nlp = spacy.load('en')\n",
    "# Add neural coref to SpaCy's pipe\n",
    "neuralcoref.add_to_pipe(nlp, greedyness=0.55, max_dist=10, max_dist_match=10)"
   ]
  },
  {
   "cell_type": "code",
   "execution_count": 4,
   "id": "5adda697-a735-4052-82a1-2d17dd538c58",
   "metadata": {},
   "outputs": [
    {
     "name": "stdout",
     "output_type": "stream",
     "text": [
      "Brown bears are often not fully brown. They have long, thick fur, with a moderately long mane at the back of the neck which varies somewhat across the types. In India, brown bears can be reddish with silver-tipped hairs, while in China brown bears are bicolored, with a yellowish-brown or whitish collar across the neck, chest and shoulders. Even within well-defined subspecies, individuals may show highly variable hues of brown. North American grizzlies can be dark brown (almost black) to cream (almost white) or yellowish-brown and often have darker-colored legs. The common name \"grizzly\" stems from their typical coloration, with the hairs on their back usually being brownish-black at the base and whitish-cream at the tips, giving them their distinctive \"grizzled\" color. Apart from the cinnamon subspecies of the American black bear (U. americanus cinnamonum), the brown bear is the only modern bear species to typically appear truly brown. The winter fur is very thick and long, especially in northern subspecies, and can reach 11 to 12 centimetres (4 to 5 in) at the withers. The winter hairs are thin, yet rough to the touch. The summer fur is much shorter and sparser and its length and density varies geographically.\n",
      "\n"
     ]
    }
   ],
   "source": [
    "pickle_in = open(\"../data/processed/dataWiki_animals.pkl\", \"rb\")\n",
    "#pickle_in = open(\"../data/processed/dataBOW.pkl\", \"rb\")\n",
    "\n",
    "data = pickle.load(pickle_in)\n",
    "\n",
    "key = 'Brown bear'\n",
    "#key = 'European Robin'\n",
    "\n",
    "data = data[key]\n",
    "\n",
    "data = list(set(data))\n",
    "\n",
    "data = [i[1] for i in data if i[0] == 1]\n",
    "\n",
    "#data = ' '.join(data)\n",
    "#data = 'The ' + key + ' is an animal. ' + key + ' is the subject of the coming sentences. ' + 'This text is about the ' + key + '. ' + data\n",
    "\n",
    "doc = nlp(data[0])\n",
    "\n",
    "print(doc)\n"
   ]
  },
  {
   "cell_type": "code",
   "execution_count": 6,
   "id": "80a77eca-fb4b-4e26-a08a-0b810ed7fc10",
   "metadata": {},
   "outputs": [
    {
     "data": {
      "text/plain": [
       "'Brown bears are often not fully brown. Brown bears have long, thick fur, with a moderately long mane at the back of the neck which varies somewhat across the types. In India, Brown bears can be reddish with silver-tipped hairs, while in China brown bears are bicolored, with a yellowish-brown or whitish collar across the neck, chest and shoulders. Even within well-defined subspecies, individuals may show highly variable hues of brown. North American grizzlies can be dark brown (almost black) to cream (almost white) or yellowish-brown and often have darker-colored legs. The common name \"grizzly\" stems from North American grizzlies typical coloration, with the hairs on North American grizzlies back usually being brownish-black at the base and whitish-cream at the tips, giving North American grizzlies North American grizzlies distinctive \"grizzled\" color. Apart from the cinnamon subspecies of the American black bear (U. americanus cinnamonum), the American black bear is the only modern bear species to typically appear truly brown. The winter fur is very thick and long, especially in northern subspecies, and can reach 11 to 12 centimetres (4 to 5\\xa0in) at the withers. The winter hairs are thin, yet rough to the touch. The winter fur is much shorter and sparser and The winter fur length and density varies geographically.\\n'"
      ]
     },
     "execution_count": 6,
     "metadata": {},
     "output_type": "execute_result"
    }
   ],
   "source": [
    "doc._.coref_resolved"
   ]
  },
  {
   "cell_type": "code",
   "execution_count": 7,
   "id": "bff3fc19-d1aa-4539-b149-b2626397eaee",
   "metadata": {},
   "outputs": [],
   "source": [
    "test = nlp(\"\"\"Brown bears have long claws. The Brown bear has a brown fur. \n",
    "The Brown bear has a black nose.\n",
    "he has a black nose.\n",
    "The bear has a purple belly.\n",
    "Their feet are orange.\n",
    "The brown bear is similar to the black bear.\n",
    "\"\"\")"
   ]
  },
  {
   "cell_type": "code",
   "execution_count": 8,
   "id": "2dfbed2d-0266-4026-8792-9d0186517a66",
   "metadata": {},
   "outputs": [
    {
     "data": {
      "text/plain": [
       "'Brown bears have long claws. Brown bears has a brown fur. \\nBrown bears has a black nose.\\nBrown bears has a black nose.\\nBrown bears has a purple belly.\\nBrown bears feet are orange.\\nBrown bears is similar to Brown bears.\\n'"
      ]
     },
     "execution_count": 8,
     "metadata": {},
     "output_type": "execute_result"
    }
   ],
   "source": [
    "test._.coref_resolved"
   ]
  },
  {
   "cell_type": "code",
   "execution_count": null,
   "id": "9ffb16a3-1502-490e-9166-16f86b1ba814",
   "metadata": {},
   "outputs": [],
   "source": [
    "for sent in doc[0:5]:\n",
    "    print(sent)"
   ]
  },
  {
   "cell_type": "code",
   "execution_count": null,
   "id": "f04ff504-3c0d-4a28-b431-1011217a9789",
   "metadata": {},
   "outputs": [],
   "source": [
    "doc = nlp('Adults have massive, heavily built concave skulls, which are large in proportion to the body. They are quite big.')"
   ]
  },
  {
   "cell_type": "code",
   "execution_count": null,
   "id": "7488ba44-20bb-46c0-ad88-a9035887ea06",
   "metadata": {},
   "outputs": [],
   "source": [
    "doc._.coref_resolved"
   ]
  },
  {
   "cell_type": "code",
   "execution_count": null,
   "id": "8dd2ab7a-ad91-4cee-95ec-f6eb7070e9b9",
   "metadata": {},
   "outputs": [],
   "source": [
    "for token in doc:\n",
    "    token._.coref_clusters"
   ]
  },
  {
   "cell_type": "code",
   "execution_count": null,
   "id": "6c3affcb-678c-4a25-b2a5-d05c40bba3ea",
   "metadata": {},
   "outputs": [],
   "source": [
    "def coreferences(text):\n",
    "    \n",
    "    \"\"\"\n",
    "    Function that executes coreference resolution on a given text\n",
    "    \"\"\"\n",
    "    \n",
    "    doc = nlp(text)\n",
    "    \n",
    "    # Fetches tokens with whitespaces from spacy document\n",
    "    tok_list = list(token.text_with_ws for token in doc)\n",
    "    \n",
    "    # Loop over the Coref clusters\n",
    "    for cluster in doc._.coref_clusters:\n",
    "        \n",
    "        # Get tokens from representative cluster name\n",
    "        cluster_main_words = set(cluster.main.text.split(' '))\n",
    "        \n",
    "        for coref in cluster:\n",
    "            \n",
    "            # if coreference element is not the representative element of that cluster\n",
    "            if coref != cluster.main:  \n",
    "                \n",
    "                if coref.text != cluster.main.text and bool(set(coref.text.split(' ')).intersection(cluster_main_words)) == False:\n",
    "                    \n",
    "                    # if coreference element text and representative element text are not equal and none of the coreference element words are in representative element. This was done to handle nested coreference scenarios\n",
    "                    tok_list[coref.start] = cluster.main.text + \\\n",
    "                        doc[coref.end-1].whitespace_\n",
    "                    \n",
    "                    for i in range(coref.start+1, coref.end):\n",
    "                        tok_list[i] = \"\"\n",
    "\n",
    "    return \"\".join(tok_list)"
   ]
  },
  {
   "cell_type": "code",
   "execution_count": null,
   "id": "e18bebd5-5bdc-4616-9b9c-a052b3a72db7",
   "metadata": {},
   "outputs": [],
   "source": [
    "cleanedData = coreferences(coreferences(data[2]))\n",
    "cleanedData"
   ]
  }
 ],
 "metadata": {
  "kernelspec": {
   "display_name": "Python 3",
   "language": "python",
   "name": "python3"
  },
  "language_info": {
   "codemirror_mode": {
    "name": "ipython",
    "version": 3
   },
   "file_extension": ".py",
   "mimetype": "text/x-python",
   "name": "python",
   "nbconvert_exporter": "python",
   "pygments_lexer": "ipython3",
   "version": "3.8.8"
  }
 },
 "nbformat": 4,
 "nbformat_minor": 5
}
