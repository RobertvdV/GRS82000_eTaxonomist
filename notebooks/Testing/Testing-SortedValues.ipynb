{
 "cells": [
  {
   "cell_type": "code",
   "execution_count": 1,
   "id": "0f7f4d49-2feb-4147-8910-819b21f5b4db",
   "metadata": {},
   "outputs": [],
   "source": [
    "import seaborn as sns\n",
    "import pandas as pd\n",
    "import numpy as np\n",
    "import collections\n",
    "from collections import Counter\n",
    "import glob\n",
    "import pickle\n",
    "import random"
   ]
  },
  {
   "cell_type": "code",
   "execution_count": 2,
   "id": "f1275f79-7b86-45aa-83e6-75bd455cbd1b",
   "metadata": {},
   "outputs": [],
   "source": [
    "data = pickle.load(open('../../data/processed/RDF_TEXT_POWO_SET_554.pkl', 'rb'))"
   ]
  },
  {
   "cell_type": "code",
   "execution_count": 3,
   "id": "4c4b1545-85a4-4bec-984f-f27b9b094683",
   "metadata": {},
   "outputs": [],
   "source": [
    "def sort_dict(data):\n",
    "    \n",
    "    data_list = []\n",
    "    for key in data.keys():\n",
    "        data_list += data[key]\n",
    "\n",
    "    count = Counter(data_list)\n",
    "    \n",
    "    data_sorted = collections.defaultdict(list)\n",
    "    for plant in data.keys():\n",
    "        plant_list = []\n",
    "        for text in data[plant]:\n",
    "            rank = count[text]\n",
    "            plant_list.append((text, rank))\n",
    "            plant_list = list(set(plant_list))\n",
    "            plant_list = sorted(plant_list, key=lambda x: x[1], reverse=True)\n",
    "        for (text, _) in plant_list:\n",
    "            data_sorted[plant].append(text)\n",
    "    \n",
    "    return data_sorted"
   ]
  },
  {
   "cell_type": "code",
   "execution_count": 8,
   "id": "3e2069a1-cdd0-41d7-945a-60ff9bd999e1",
   "metadata": {},
   "outputs": [],
   "source": [
    "def create_spans(data_sorted):\n",
    "    \n",
    "    data = collections.defaultdict(list)\n",
    "    \n",
    "    for key in data_sorted.keys():\n",
    "        text_list = []\n",
    "        span_list = []\n",
    "\n",
    "        for text in data_sorted[key]:\n",
    "            span = ''\n",
    "            text_list.append(text)\n",
    "            random.shuffle(text_list)\n",
    "            span = ' '.join(text_list)\n",
    "            span_list.append(span)\n",
    "        \n",
    "        data[key] = span_list\n",
    "        \n",
    "    return data"
   ]
  },
  {
   "cell_type": "code",
   "execution_count": 9,
   "id": "65e817ae-6f2d-45ac-9ac0-31282585a53b",
   "metadata": {},
   "outputs": [],
   "source": [
    "data_sorted = sort_dict(data)"
   ]
  },
  {
   "cell_type": "code",
   "execution_count": 10,
   "id": "288e0e5b-b728-410a-9a42-105ff8f0e195",
   "metadata": {},
   "outputs": [],
   "source": [
    "spandict = create_spans(data_sorted)"
   ]
  },
  {
   "cell_type": "code",
   "execution_count": 13,
   "id": "9bb9e22c-5f5f-4b24-870e-20a5afe29b37",
   "metadata": {},
   "outputs": [],
   "source": [
    "with open('../../data/processed/DELETEIFNOTWORKING_TRAIN.pkl', 'wb') as f:\n",
    "    pickle.dump(spandict, f)   "
   ]
  },
  {
   "cell_type": "code",
   "execution_count": null,
   "id": "e06b491a-2228-4cf2-9132-c09915d5232f",
   "metadata": {},
   "outputs": [],
   "source": []
  }
 ],
 "metadata": {
  "kernelspec": {
   "display_name": "Python [conda env:DL]",
   "language": "python",
   "name": "conda-env-DL-py"
  },
  "language_info": {
   "codemirror_mode": {
    "name": "ipython",
    "version": 3
   },
   "file_extension": ".py",
   "mimetype": "text/x-python",
   "name": "python",
   "nbconvert_exporter": "python",
   "pygments_lexer": "ipython3",
   "version": "3.8.10"
  }
 },
 "nbformat": 4,
 "nbformat_minor": 5
}
