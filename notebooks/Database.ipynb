{
 "cells": [
  {
   "cell_type": "code",
   "execution_count": 1,
   "id": "b3d36b1f-b649-4b61-aff3-26c4bc393de2",
   "metadata": {},
   "outputs": [],
   "source": [
    "import glob\n",
    "import pandas as pd\n",
    "import numpy as np\n",
    "import pickle\n",
    "import re\n",
    "from bs4 import BeautifulSoup\n",
    "import collections\n",
    "from itertools import chain\n",
    "from tqdm import tqdm"
   ]
  },
  {
   "cell_type": "markdown",
   "id": "66c80b7d-5ad4-49da-b87d-4519d2b288eb",
   "metadata": {},
   "source": [
    "# Database"
   ]
  },
  {
   "cell_type": "code",
   "execution_count": 2,
   "id": "2b08a2e8-b3a6-4006-b83c-100a676d1288",
   "metadata": {},
   "outputs": [],
   "source": [
    "powo1 = pickle.load(open('../data/processed/description_web_powo_part1.pkl', 'rb'))\n",
    "powo2 = pickle.load(open('../data/processed/description_web_powo_part2.pkl', 'rb'))\n",
    "powo3 = pickle.load(open('../data/processed/description_web_powo_part3.pkl', 'rb'))\n",
    "powo4 = pickle.load(open('../data/processed/description_web_powo_part4.pkl', 'rb'))\n",
    "powo5 = pickle.load(open('../data/processed/description_web_powo_part5.pkl', 'rb'))\n",
    "powo6 = pickle.load(open('../data/processed/description_web_powo_part6.pkl', 'rb'))\n",
    "powo7 = pickle.load(open('../data/processed/description_web_powo_part7.pkl', 'rb'))\n",
    "powo8 = pickle.load(open('../data/processed/description_web_powo_part8.pkl', 'rb'))\n",
    "powo9 = pickle.load(open('../data/processed/description_web_powo_part9.pkl', 'rb'))\n",
    "powo10 = pickle.load(open('../data/processed/description_web_powo_part10.pkl', 'rb'))\n",
    "powo11 = pickle.load(open('../data/processed/description_web_powo_part11.pkl', 'rb'))\n",
    "\n"
   ]
  },
  {
   "cell_type": "code",
   "execution_count": 3,
   "id": "11dbd8f3-c5b4-4023-8adc-587d2f0d8d76",
   "metadata": {},
   "outputs": [],
   "source": [
    "powo = {**powo1, **powo2, **powo3, **powo4, **powo5, **powo6, **powo7, **powo8, **powo9, **powo10, **powo11}"
   ]
  },
  {
   "cell_type": "code",
   "execution_count": 4,
   "id": "166b89e2-eebe-4c27-a657-c307af6900d8",
   "metadata": {},
   "outputs": [
    {
     "data": {
      "text/plain": [
       "36316"
      ]
     },
     "execution_count": 4,
     "metadata": {},
     "output_type": "execute_result"
    }
   ],
   "source": [
    "len(powo.keys())"
   ]
  },
  {
   "cell_type": "code",
   "execution_count": 5,
   "id": "67de3937-f965-46e2-a8a7-2a55da85f6ae",
   "metadata": {},
   "outputs": [],
   "source": [
    "with open('../data/processed/description_web_powo.pkl', 'wb') as f:\n",
    "    pickle.dump(powo, f)  "
   ]
  },
  {
   "cell_type": "code",
   "execution_count": 58,
   "id": "052388f8-ef11-4dd2-9628-317a84bc4f97",
   "metadata": {},
   "outputs": [
    {
     "data": {
      "text/plain": [
       "21628"
      ]
     },
     "execution_count": 58,
     "metadata": {},
     "output_type": "execute_result"
    }
   ],
   "source": [
    "len(powo.keys())"
   ]
  },
  {
   "cell_type": "code",
   "execution_count": 3,
   "id": "6550fbe6-2626-4511-8750-40b704f2a447",
   "metadata": {},
   "outputs": [],
   "source": [
    "powo2 = pickle.load(open('../data/processed/description_web_powo_part2.pkl', 'rb'))\n",
    "bow = pickle.load(open('../data/processed/descriptions_web_birds_bow.pkl', 'rb'))"
   ]
  },
  {
   "cell_type": "code",
   "execution_count": 47,
   "id": "f8071b0e-8171-465d-937e-55f54b4d3a6e",
   "metadata": {},
   "outputs": [],
   "source": [
    "data_dict = collections.defaultdict(list)"
   ]
  },
  {
   "cell_type": "code",
   "execution_count": 48,
   "id": "95033a83-b670-448b-bbf3-553df577256f",
   "metadata": {},
   "outputs": [
    {
     "data": {
      "text/plain": [
       "['14 cm.',\n",
       " '14–25 g.',\n",
       " 'Nominate race.',\n",
       " 'Is olive-brown above.',\n",
       " 'With orange face.',\n",
       " 'And breast fringed by band of pale blue-grey on neck side to breast side.',\n",
       " 'Buff lower flanks and white belly to vent.',\n",
       " 'Bill blackish.',\n",
       " 'Legs pinkish-brown.',\n",
       " 'Sexes similar.',\n",
       " 'Juvenile is extensively mottled brown and buff.',\n",
       " 'Race melo\\xadphilus is warmer and darker above.',\n",
       " 'Deeper orange-rufous on face and breast.',\n",
       " 'Darker buff flanks.',\n",
       " 'Witherbyi is like previous but smaller.',\n",
       " 'Superbus is dark greyish-olive above.',\n",
       " 'Wider ash-grey band from crown side to breast side.',\n",
       " 'Still deeper orange-rufous below.',\n",
       " 'Belly and vent whiter.',\n",
       " 'With somewhat different wing shape.',\n",
       " 'Valens is slightly paler than nominate.',\n",
       " 'With rufous uppertail-coverts and tail base.',\n",
       " 'Caucasicus is like nominate but slightly browner above.',\n",
       " 'With rufous uppertail-coverts and tail base.',\n",
       " 'Hyrcanus is longer-billed.',\n",
       " 'Browner above.',\n",
       " 'Rufous-orange below.',\n",
       " 'With rufous-chestnut uppertail-coverts.',\n",
       " 'Tataricus is paler and greyer above.',\n",
       " 'Paler orange below..']"
      ]
     },
     "execution_count": 48,
     "metadata": {},
     "output_type": "execute_result"
    }
   ],
   "source": [
    "bird = bow['Erithacus rubecula']\n",
    "string_splitted = re.split(';|,|\\s{2}|\\. ', bird)\n",
    "\n",
    "string_cleaned = string_splitted = [span.strip().capitalize() +'.' for span in string_splitted \n",
    "                   if len(span) > 2 ]\n",
    "\n",
    "[data_dict['Erithacus rubecula'].append(sentence) for sentence in string_cleaned]\n",
    "#data_dict['Erithacus rubecula'].append(string_cleaned)\n",
    "\n",
    "string_cleaned"
   ]
  },
  {
   "cell_type": "code",
   "execution_count": 49,
   "id": "ce4b7f66-36c1-42b2-af5d-a2c1081d5f30",
   "metadata": {},
   "outputs": [
    {
     "data": {
      "text/plain": [
       "['Erect or straggling suffruticose perennial.',\n",
       " '(15)45–200 cm tall.',\n",
       " 'Few- to much-branched from a woody rootstock.',\n",
       " 'Stems 6-angular.',\n",
       " 'With or without prominent pale ridges.',\n",
       " 'Hispid on ridges and nodal line or glabrous..',\n",
       " 'Leaves often immature or absent at flowering.',\n",
       " 'Lanceolate or linear-lanceolate.',\n",
       " '(2)4.5–15 × 0.3–3 cm.',\n",
       " 'Base shortly attenuate.',\n",
       " 'Apex acute to acuminate.',\n",
       " 'Apiculate.',\n",
       " 'Shortly hispid particularly on margin and veins beneath.',\n",
       " 'Or largely glabrous.',\n",
       " 'Lateral veins 3–7 pairs.',\n",
       " 'Pale and prominent beneath.',\n",
       " 'Petiole 1–8 mm long..',\n",
       " 'Inflorescences axillary and terminal.',\n",
       " 'Lax or rather congested.',\n",
       " '1–2 umbels of (2)3–4 cymules per axil.',\n",
       " 'Often compounded into terminal pseudopanicles on largely leafless branches.',\n",
       " 'Umbel peduncles wiry.',\n",
       " '(1)4–55 mm long.',\n",
       " 'Glabrous or sparsely antrorse-hispid.',\n",
       " 'Main axis bracts linear-lanceolate.',\n",
       " '(2)3.5–8(14) mm long.',\n",
       " 'Cymules subsessile or peduncles to 25(40) mm long.',\n",
       " 'Sometimes with scattered subsessile glands.',\n",
       " 'Cymule bracts green.',\n",
       " 'Pairs ± unequal or rarely subequal.',\n",
       " 'Ratio (1.05)1.2–1.55(1.85) : 1.',\n",
       " 'Larger bract linear-lanceolate.',\n",
       " '5.5–24 × 0.8–2 mm.',\n",
       " 'Apex attenuate to acuminate.',\n",
       " 'Apiculate.',\n",
       " 'Surface usually with scattered short-stalked or subsessile glands.',\n",
       " 'Sometimes also sparsely eglandular-puberulous.',\n",
       " 'Midrib prominent.',\n",
       " 'Sometimes antrorsely hispid.',\n",
       " 'Margin hyaline towards base.',\n",
       " 'Bracteoles as bracts but 4.5–15 mm long.',\n",
       " 'Margin hyaline..',\n",
       " 'Calyx lobes 3–8 mm long.',\n",
       " 'Ciliate and with occasional minute glandular hairs externally.',\n",
       " 'Margin hyaline..',\n",
       " 'Corolla 15.5–30 mm long.',\n",
       " 'Pink to purple or rarely white.',\n",
       " 'With purple guidelines.',\n",
       " 'Eglandular-pubescent and often with scattered short glandular hairs externally.',\n",
       " 'Tube 7–11 mm long.',\n",
       " 'Lip held in upper position oblong.',\n",
       " '8.5–19 × 3–5 mm.',\n",
       " 'Puberulous towards mouth.',\n",
       " 'Lip held in lower position (oblong-)elliptic.',\n",
       " '8–20 × 4–7.5 mm..',\n",
       " 'Staminal filaments 6.5–14.5 mm long.',\n",
       " 'With short hairs particularly above.',\n",
       " 'Anther thecae 0.8–1 mm long.',\n",
       " 'Superposed and somewhat oblique..',\n",
       " 'Style sparsely strigulose..',\n",
       " 'Capsule 9.5–14(16) mm long.',\n",
       " 'With sparse mixed short eglandular and glandular hairs at least towards apex.',\n",
       " 'Sometimes glabrescent.',\n",
       " 'Placental base inelastic..',\n",
       " 'Seeds 1.5–2.5 mm in diameter.',\n",
       " 'Tuberculate.',\n",
       " 'Tubercles short.',\n",
       " 'Somewhat clavate..']"
      ]
     },
     "execution_count": 49,
     "metadata": {},
     "output_type": "execute_result"
    }
   ],
   "source": [
    "plant = powo2['Dicliptera aculeata']\n",
    "plant = [re.split(';|,|\\s{2}|\\. ', part) for part in plant]\n",
    "\n",
    "string_cleaned = [sentence.strip().capitalize() +'.' for sentence_list in plant for sentence in sentence_list]\n",
    "\n",
    "[data_dict['Dicliptera aculeata'].append(sentence) for sentence in string_cleaned]\n",
    "#data_dict['Dicliptera aculeata'].append(string_cleaned)\n",
    "\n",
    "string_cleaned"
   ]
  },
  {
   "cell_type": "code",
   "execution_count": 50,
   "id": "43684bc3-32d6-4b06-a59d-f26fa7301488",
   "metadata": {},
   "outputs": [],
   "source": [
    "df = pd.DataFrame.from_dict(data_dict, orient='index')"
   ]
  },
  {
   "cell_type": "code",
   "execution_count": 51,
   "id": "59238623-0c63-4b61-8be9-5befc8e93698",
   "metadata": {},
   "outputs": [
    {
     "data": {
      "text/html": [
       "<div>\n",
       "<style scoped>\n",
       "    .dataframe tbody tr th:only-of-type {\n",
       "        vertical-align: middle;\n",
       "    }\n",
       "\n",
       "    .dataframe tbody tr th {\n",
       "        vertical-align: top;\n",
       "    }\n",
       "\n",
       "    .dataframe thead th {\n",
       "        text-align: right;\n",
       "    }\n",
       "</style>\n",
       "<table border=\"1\" class=\"dataframe\">\n",
       "  <thead>\n",
       "    <tr style=\"text-align: right;\">\n",
       "      <th></th>\n",
       "      <th>0</th>\n",
       "      <th>1</th>\n",
       "      <th>2</th>\n",
       "      <th>3</th>\n",
       "      <th>4</th>\n",
       "      <th>5</th>\n",
       "      <th>6</th>\n",
       "      <th>7</th>\n",
       "      <th>8</th>\n",
       "      <th>9</th>\n",
       "      <th>...</th>\n",
       "      <th>58</th>\n",
       "      <th>59</th>\n",
       "      <th>60</th>\n",
       "      <th>61</th>\n",
       "      <th>62</th>\n",
       "      <th>63</th>\n",
       "      <th>64</th>\n",
       "      <th>65</th>\n",
       "      <th>66</th>\n",
       "      <th>67</th>\n",
       "    </tr>\n",
       "  </thead>\n",
       "  <tbody>\n",
       "    <tr>\n",
       "      <th>Erithacus rubecula</th>\n",
       "      <td>14 cm.</td>\n",
       "      <td>14–25 g.</td>\n",
       "      <td>Nominate race.</td>\n",
       "      <td>Is olive-brown above.</td>\n",
       "      <td>With orange face.</td>\n",
       "      <td>And breast fringed by band of pale blue-grey o...</td>\n",
       "      <td>Buff lower flanks and white belly to vent.</td>\n",
       "      <td>Bill blackish.</td>\n",
       "      <td>Legs pinkish-brown.</td>\n",
       "      <td>Sexes similar.</td>\n",
       "      <td>...</td>\n",
       "      <td>None</td>\n",
       "      <td>None</td>\n",
       "      <td>None</td>\n",
       "      <td>None</td>\n",
       "      <td>None</td>\n",
       "      <td>None</td>\n",
       "      <td>None</td>\n",
       "      <td>None</td>\n",
       "      <td>None</td>\n",
       "      <td>None</td>\n",
       "    </tr>\n",
       "    <tr>\n",
       "      <th>Dicliptera aculeata</th>\n",
       "      <td>Erect or straggling suffruticose perennial.</td>\n",
       "      <td>(15)45–200 cm tall.</td>\n",
       "      <td>Few- to much-branched from a woody rootstock.</td>\n",
       "      <td>Stems 6-angular.</td>\n",
       "      <td>With or without prominent pale ridges.</td>\n",
       "      <td>Hispid on ridges and nodal line or glabrous..</td>\n",
       "      <td>Leaves often immature or absent at flowering.</td>\n",
       "      <td>Lanceolate or linear-lanceolate.</td>\n",
       "      <td>(2)4.5–15 × 0.3–3 cm.</td>\n",
       "      <td>Base shortly attenuate.</td>\n",
       "      <td>...</td>\n",
       "      <td>Superposed and somewhat oblique..</td>\n",
       "      <td>Style sparsely strigulose..</td>\n",
       "      <td>Capsule 9.5–14(16) mm long.</td>\n",
       "      <td>With sparse mixed short eglandular and glandul...</td>\n",
       "      <td>Sometimes glabrescent.</td>\n",
       "      <td>Placental base inelastic..</td>\n",
       "      <td>Seeds 1.5–2.5 mm in diameter.</td>\n",
       "      <td>Tuberculate.</td>\n",
       "      <td>Tubercles short.</td>\n",
       "      <td>Somewhat clavate..</td>\n",
       "    </tr>\n",
       "  </tbody>\n",
       "</table>\n",
       "<p>2 rows × 68 columns</p>\n",
       "</div>"
      ],
      "text/plain": [
       "                                                              0   \\\n",
       "Erithacus rubecula                                        14 cm.   \n",
       "Dicliptera aculeata  Erect or straggling suffruticose perennial.   \n",
       "\n",
       "                                      1   \\\n",
       "Erithacus rubecula              14–25 g.   \n",
       "Dicliptera aculeata  (15)45–200 cm tall.   \n",
       "\n",
       "                                                                2   \\\n",
       "Erithacus rubecula                                  Nominate race.   \n",
       "Dicliptera aculeata  Few- to much-branched from a woody rootstock.   \n",
       "\n",
       "                                        3   \\\n",
       "Erithacus rubecula   Is olive-brown above.   \n",
       "Dicliptera aculeata       Stems 6-angular.   \n",
       "\n",
       "                                                         4   \\\n",
       "Erithacus rubecula                        With orange face.   \n",
       "Dicliptera aculeata  With or without prominent pale ridges.   \n",
       "\n",
       "                                                                    5   \\\n",
       "Erithacus rubecula   And breast fringed by band of pale blue-grey o...   \n",
       "Dicliptera aculeata      Hispid on ridges and nodal line or glabrous..   \n",
       "\n",
       "                                                                6   \\\n",
       "Erithacus rubecula      Buff lower flanks and white belly to vent.   \n",
       "Dicliptera aculeata  Leaves often immature or absent at flowering.   \n",
       "\n",
       "                                                   7                      8   \\\n",
       "Erithacus rubecula                     Bill blackish.    Legs pinkish-brown.   \n",
       "Dicliptera aculeata  Lanceolate or linear-lanceolate.  (2)4.5–15 × 0.3–3 cm.   \n",
       "\n",
       "                                          9   ...  \\\n",
       "Erithacus rubecula            Sexes similar.  ...   \n",
       "Dicliptera aculeata  Base shortly attenuate.  ...   \n",
       "\n",
       "                                                    58  \\\n",
       "Erithacus rubecula                                None   \n",
       "Dicliptera aculeata  Superposed and somewhat oblique..   \n",
       "\n",
       "                                              59                           60  \\\n",
       "Erithacus rubecula                          None                         None   \n",
       "Dicliptera aculeata  Style sparsely strigulose..  Capsule 9.5–14(16) mm long.   \n",
       "\n",
       "                                                                    61  \\\n",
       "Erithacus rubecula                                                None   \n",
       "Dicliptera aculeata  With sparse mixed short eglandular and glandul...   \n",
       "\n",
       "                                         62                          63  \\\n",
       "Erithacus rubecula                     None                        None   \n",
       "Dicliptera aculeata  Sometimes glabrescent.  Placental base inelastic..   \n",
       "\n",
       "                                                64            65  \\\n",
       "Erithacus rubecula                            None          None   \n",
       "Dicliptera aculeata  Seeds 1.5–2.5 mm in diameter.  Tuberculate.   \n",
       "\n",
       "                                   66                  67  \n",
       "Erithacus rubecula               None                None  \n",
       "Dicliptera aculeata  Tubercles short.  Somewhat clavate..  \n",
       "\n",
       "[2 rows x 68 columns]"
      ]
     },
     "execution_count": 51,
     "metadata": {},
     "output_type": "execute_result"
    }
   ],
   "source": [
    "df"
   ]
  },
  {
   "cell_type": "code",
   "execution_count": null,
   "id": "7fe031c9-e9b6-48df-9d8b-4a65945e12c8",
   "metadata": {},
   "outputs": [],
   "source": []
  }
 ],
 "metadata": {
  "kernelspec": {
   "display_name": "Python [conda env:DL]",
   "language": "python",
   "name": "conda-env-DL-py"
  },
  "language_info": {
   "codemirror_mode": {
    "name": "ipython",
    "version": 3
   },
   "file_extension": ".py",
   "mimetype": "text/x-python",
   "name": "python",
   "nbconvert_exporter": "python",
   "pygments_lexer": "ipython3",
   "version": "3.8.10"
  }
 },
 "nbformat": 4,
 "nbformat_minor": 5
}
