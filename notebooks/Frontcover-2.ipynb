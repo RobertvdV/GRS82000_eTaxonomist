{
 "cells": [
  {
   "cell_type": "code",
   "execution_count": 1,
   "id": "9664b8e8-a8df-4872-89e4-412b81e674cb",
   "metadata": {},
   "outputs": [],
   "source": [
    "import numpy as np\n",
    "import pandas as pd\n",
    "from os import path\n",
    "import cv2\n",
    "from PIL import Image\n",
    "from wordcloud import WordCloud, STOPWORDS, ImageColorGenerator\n",
    "import matplotlib.pyplot as plt\n",
    "import numpy as np\n",
    "import pandas as pd\n",
    "import geopandas as gpd\n",
    "import glob\n",
    "from tqdm.notebook import tqdm\n",
    "from bs4 import BeautifulSoup\n",
    "import requests\n",
    "import random\n",
    "import pickle\n",
    "import re\n",
    "import collections\n",
    "from collections import Counter\n",
    "from tqdm.notebook import tqdm as tqdm_notebook\n",
    "from matplotlib.backends.backend_agg import FigureCanvasAgg as FigureCanvas\n",
    "from matplotlib.figure import Figure\n",
    "from matplotlib import cm\n",
    "import matplotlib.colors as colors\n",
    "import folium\n",
    "%matplotlib inline"
   ]
  },
  {
   "cell_type": "code",
   "execution_count": 2,
   "id": "db7279e2-8f91-48c8-b231-f808b2bb54a2",
   "metadata": {},
   "outputs": [],
   "source": [
    "# Get Dutch region\n",
    "url = \"https://raw.githubusercontent.com/tdwg/wgsrpd/master/geojson/level3.geojson\"\n",
    "gdf = gpd.read_file(url)\n",
    "\n",
    "gdf.columns = ['Region',\n",
    "              'ISO',\n",
    "              'x2', 'x3',\n",
    "              'geometry']\n",
    "\n",
    "gdf = gdf.drop(columns=['x2', 'x3'])\n",
    "\n",
    "NLD = gdf[ gdf.Region == 'Netherlands' ]"
   ]
  },
  {
   "cell_type": "code",
   "execution_count": 3,
   "id": "344637f6-cdc8-462e-bfb2-e51f3c3a13fa",
   "metadata": {},
   "outputs": [
    {
     "data": {
      "image/png": "[encoded data removed]",
      "text/plain": [
       "<Figure size 432x288 with 1 Axes>"
      ]
     },
     "metadata": {
      "needs_background": "light"
     },
     "output_type": "display_data"
    }
   ],
   "source": [
    "plot = NLD.plot()\n",
    "plot.set_axis_off()\n",
    "fig = plot.get_figure()\n",
    "fig.savefig(\"mask.png\", bbox_inches='tight')\n",
    "mask = plt.imread(\"mask.png\")\n",
    "mask = 255 * mask\n",
    "mask = mask.astype(np.uint8)"
   ]
  },
  {
   "cell_type": "code",
   "execution_count": 4,
   "id": "9c20d241-cedb-4eb3-b4ee-43d6b7ba506e",
   "metadata": {},
   "outputs": [],
   "source": [
    "scale_percent = 500 # percent of original size\n",
    "width = int(mask.shape[1] * scale_percent / 100)\n",
    "height = int(mask.shape[0] * scale_percent / 100)\n",
    "dim = (width, height)\n",
    "mask = cv2.resize(mask, dim, interpolation = cv2.INTER_AREA)"
   ]
  },
  {
   "cell_type": "code",
   "execution_count": 25,
   "id": "ca3c0f1d-ecda-4741-bf3c-740b9e65e683",
   "metadata": {},
   "outputs": [],
   "source": [
    "descriptions = pickle.load(open('../data/processed/dutch_birdv2_clean.pkl', 'rb'))"
   ]
  },
  {
   "cell_type": "code",
   "execution_count": 29,
   "id": "ff1c2173-0487-4b37-a3ef-64fc1c8960af",
   "metadata": {},
   "outputs": [],
   "source": [
    "data = []\n",
    "for bird in descriptions.keys():\n",
    "    data += list(set(descriptions[bird]))"
   ]
  },
  {
   "cell_type": "code",
   "execution_count": 30,
   "id": "61546120-fb2b-4fed-adf5-d25731d9cc00",
   "metadata": {},
   "outputs": [],
   "source": [
    "count = Counter(data)"
   ]
  },
  {
   "cell_type": "code",
   "execution_count": 32,
   "id": "de4b5a37-9aba-4772-b673-ab226c2892a0",
   "metadata": {},
   "outputs": [],
   "source": [
    "#count"
   ]
  },
  {
   "cell_type": "code",
   "execution_count": 33,
   "id": "62483da9-fb74-40b6-8f87-1c38606f1d7c",
   "metadata": {},
   "outputs": [],
   "source": [
    "mapping = range(4, 20)\n",
    "normalized_and_mapped = cm.ScalarMappable(cmap=cm.viridis).to_rgba(mapping)"
   ]
  },
  {
   "cell_type": "code",
   "execution_count": 34,
   "id": "1e258fea-927e-45eb-a6b3-9394a9cc70a2",
   "metadata": {},
   "outputs": [
    {
     "data": {
      "text/plain": [
       "'hsl(0.8012824265655186, 0.98520407388856%, 0.329415%)'"
      ]
     },
     "execution_count": 34,
     "metadata": {},
     "output_type": "execute_result"
    }
   ],
   "source": [
    "cmap = cm.viridis\n",
    "norm = plt.Normalize(4, 20)\n",
    "\n",
    "color = cmap(norm(4.))\n",
    "\n",
    "color = colors.rgb_to_hsv((color[0], color[1], color[2]))\n",
    "f'hsl({color[0]}, {color[1]}%, {color[2]}%)'"
   ]
  },
  {
   "cell_type": "code",
   "execution_count": 35,
   "id": "6eb7aad4-4993-4969-b828-b0eb0042b949",
   "metadata": {},
   "outputs": [],
   "source": [
    "cmap = cm.viridis\n",
    "norm = plt.Normalize(4, 100)\n",
    "color = cmap(norm(4.))\n",
    "def grey_color_func(word, font_size, position, orientation, random_state=None,\n",
    "                    **kwargs):\n",
    "    r, g, b, _ = cmap(norm(font_size))\n",
    "    color =  colors.rgb_to_hsv((r, g, b))\n",
    "    return f'hsl({color[0] * 100}, {color[1] * 100}%, {color[2] * 100}%)'"
   ]
  },
  {
   "cell_type": "code",
   "execution_count": 36,
   "id": "76b37caa-4d43-43ee-b93e-c7be1804173a",
   "metadata": {},
   "outputs": [],
   "source": [
    "wordcloud = WordCloud(max_font_size=100, \n",
    "                      max_words=200,\n",
    "                      width=width, height=height,\n",
    "                      background_color=None,\n",
    "                      mode='RGBA',\n",
    "                      collocations=False,\n",
    "                      contour_width=3, \n",
    "                      contour_color='steelblue',\n",
    "                      #color_func=grey_color_func,\n",
    "                      repeat=False,\n",
    "                      mask=mask).generate_from_frequencies(count)"
   ]
  },
  {
   "cell_type": "code",
   "execution_count": null,
   "id": "81805157-256a-4978-afd6-f695c19d1a3f",
   "metadata": {},
   "outputs": [],
   "source": []
  },
  {
   "cell_type": "code",
   "execution_count": 37,
   "id": "a0e157c3-624a-4954-a394-525f7a4b2242",
   "metadata": {},
   "outputs": [],
   "source": [
    "#default_colors = wordcloud.to_array()\n",
    "#plt.title(\"Custom colors\")\n",
    "#wordcloud = wordcloud.recolor(color_func=grey_color_func, random_state=3)"
   ]
  },
  {
   "cell_type": "code",
   "execution_count": 38,
   "id": "fe9c63df-c66d-4b1a-b005-9dcdc491a075",
   "metadata": {},
   "outputs": [],
   "source": [
    "#plt.imshow(wordcloud)"
   ]
  },
  {
   "cell_type": "code",
   "execution_count": 39,
   "id": "19ebf545-8ade-4750-b84f-c5faf4c315da",
   "metadata": {},
   "outputs": [],
   "source": [
    "svg = wordcloud.to_svg('frontcover.svg')\n",
    "\n",
    "with open('frontcover.svg', 'w+') as f:\n",
    "    f.write(svg)"
   ]
  },
  {
   "cell_type": "code",
   "execution_count": null,
   "id": "3696bc72-fd32-4fbb-83bf-a9ff570eb671",
   "metadata": {},
   "outputs": [],
   "source": [
    "default_colors[600][500]"
   ]
  },
  {
   "cell_type": "code",
   "execution_count": null,
   "id": "f9b18cbf-5917-4847-9a49-c3e6126af71b",
   "metadata": {},
   "outputs": [],
   "source": [
    "\"hsl(0, 0%%, %d%%)\" % random.randint(60, 100)"
   ]
  },
  {
   "cell_type": "code",
   "execution_count": null,
   "id": "0a88f76b-5705-4fd3-bc0b-ef2d1f5adeab",
   "metadata": {},
   "outputs": [],
   "source": []
  }
 ],
 "metadata": {
  "kernelspec": {
   "display_name": "Python [conda env:GIS]",
   "language": "python",
   "name": "conda-env-GIS-py"
  },
  "language_info": {
   "codemirror_mode": {
    "name": "ipython",
    "version": 3
   },
   "file_extension": ".py",
   "mimetype": "text/x-python",
   "name": "python",
   "nbconvert_exporter": "python",
   "pygments_lexer": "ipython3",
   "version": "3.9.7"
  }
 },
 "nbformat": 4,
 "nbformat_minor": 5
}
