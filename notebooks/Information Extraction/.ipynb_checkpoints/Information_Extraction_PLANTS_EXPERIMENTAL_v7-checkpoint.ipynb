{
 "cells": [
  {
   "cell_type": "code",
   "execution_count": 83,
   "id": "30c838a5-be6b-4ef9-9611-ba3840147e54",
   "metadata": {},
   "outputs": [],
   "source": [
    "import numpy as np\n",
    "import pandas as pd\n",
    "from os import path\n",
    "from PIL import Image\n",
    "import matplotlib.pyplot as plt\n",
    "import numpy as np\n",
    "import pandas as pd\n",
    "import glob\n",
    "from tqdm.notebook import tqdm\n",
    "from bs4 import BeautifulSoup\n",
    "import requests\n",
    "import random\n",
    "import pickle\n",
    "import re\n",
    "import spacy\n",
    "import json\n",
    "from spacy import displacy\n",
    "import collections\n",
    "from collections import Counter\n",
    "from tqdm.notebook import tqdm as tqdm_notebook\n",
    "from itertools import islice\n",
    "\n",
    "nlp = spacy.load('en_core_web_trf')"
   ]
  },
  {
   "cell_type": "code",
   "execution_count": 2,
   "id": "50981800-673a-408a-9bff-4a5c95e292a6",
   "metadata": {},
   "outputs": [],
   "source": [
    "glossary = pickle.load(open('../../data/glossaries/FNA_glossary.pkl', 'rb'))\n",
    "glossary['leaf'] += ['leave']"
   ]
  },
  {
   "cell_type": "code",
   "execution_count": 3,
   "id": "fdcbd31b-187b-41ad-9589-91c2fa500b29",
   "metadata": {},
   "outputs": [],
   "source": [
    "#glossary_FNA['Flower']"
   ]
  },
  {
   "cell_type": "code",
   "execution_count": 4,
   "id": "6534cd43-64ab-45fb-8a95-4135f7879b38",
   "metadata": {},
   "outputs": [],
   "source": [
    "compound_list = [\n",
    "    'fertile', 'sterile',\n",
    "    'male', 'female', 'bisexual', 'hermaphroditic', \n",
    "    'basal', 'developed', \n",
    "    'primary', 'secondary', 'main',\n",
    "    'upper', 'lower', 'greater', 'dorsal', 'alternate', 'lesser', 'apex', 'outer',\n",
    "    'central', 'outermost', 'outer', 'inner', 'uppermost', 'median', 'dorsal', 'central', 'lateral',\n",
    "    'young', 'mature', 'individual', \n",
    "    'opposite', 'single', 'paired',\n",
    "]\n",
    "\n",
    "rubbish_list = [\n",
    "    '.', ',', '-', '..', '...', '', \n",
    "]\n"
   ]
  },
  {
   "cell_type": "code",
   "execution_count": 53,
   "id": "cba98d50-e81f-4457-a286-5950ecc0f5f2",
   "metadata": {},
   "outputs": [],
   "source": [
    "data = pickle.load(open('../../data/PlantNet/descriptions_raw.pkl', 'rb'))\n",
    "#data = pickle.load(open('../../data/description/04_TRAIN_0000000-0014557_PLANTS.pkl', 'rb'))"
   ]
  },
  {
   "cell_type": "code",
   "execution_count": null,
   "id": "e860339e-8d1b-4a93-b5af-60f489798c34",
   "metadata": {},
   "outputs": [],
   "source": []
  },
  {
   "cell_type": "code",
   "execution_count": 54,
   "id": "861c7c47-631f-440f-bbda-5d7f4cd92bef",
   "metadata": {},
   "outputs": [],
   "source": [
    "measurements_list = [\n",
    "    'mm', 'cm', 'm', 'km',\n",
    "    'milimeter', 'centimeter', 'meter', 'kilometer',\n",
    "    'milimetre', 'centimetre', 'metre', 'kilometre',\n",
    "    'inch', 'foot', 'yard', 'mile',\n",
    "    'wide', 'long', 'broad', 'tall',\n",
    "    'length', 'form',\n",
    "]"
   ]
  },
  {
   "cell_type": "code",
   "execution_count": 94,
   "id": "a5fab287-5b56-4fc6-aedb-a31ec3326538",
   "metadata": {},
   "outputs": [],
   "source": [
    "def text_preparation(species, text):\n",
    "    cleaners = [(r'(?<!\\d)\\.(?!\\d)', ' '),\n",
    "                (r'\\s×\\s', ' times '),\n",
    "                #(r'\\xa0', ' '),\n",
    "                (r'\\s+c\\s+', ' '),\n",
    "                (r'â\\x80\\x93', ' to '),\n",
    "                (r'\\xa0', ' '),\n",
    "                (r'\\x97', ''),\n",
    "                (r'\\s{2,}', ' '),\n",
    "                #(r'\\.', ' ')\n",
    "               ]\n",
    "    \n",
    "    species_parts = species.split()\n",
    "    candidates = [' '.join(species_parts[:idx+1]) for idx, _ in enumerate(species_parts)]\n",
    "    candidates += [\n",
    "        f'{species_parts[0][0]}. {species_parts[1]}'\n",
    "    ]\n",
    "    candidates.reverse()\n",
    "    for candidate in candidates:\n",
    "        try:\n",
    "            text = re.sub(candidate, 'the species', text)\n",
    "        except:\n",
    "            continue # Skip species with brackets for now\n",
    "    for (cleaner, replacement) in cleaners:\n",
    "        text = re.sub(cleaner, replacement, text)    \n",
    "    text = f'{text.strip()}.'\n",
    "    return text.capitalize()\n",
    "\n",
    "\n",
    "def dict_sentence(t):\n",
    "    sentence_dict = {}\n",
    "    for child in t.children:\n",
    "        # Exceptions\n",
    "        if (\n",
    "            child.lemma_ not in rubbish_list\n",
    "            #and child.lemma_ not in compound_list\n",
    "            #and child.dep_ != 'compound'\n",
    "            and child.dep_ not in [\n",
    "                'det', 'cc', 'poss',\n",
    "                'punct', 'ccomp',\n",
    "                'relcl', \n",
    "            ]\n",
    "            and child.pos_ not in [\n",
    "                'PART', 'SYM', 'DET',\n",
    "            ]\n",
    "        ):\n",
    "            items = dict_sentence(child)\n",
    "            sentence_dict[child] = items \n",
    "    return sentence_dict\n",
    "\n",
    "def undict_to_tuples(d, acc = []):\n",
    "    if d == {}:\n",
    "        yield acc\n",
    "    else:\n",
    "        for k, v in d.items():\n",
    "            yield from undict_to_tuples(v, acc + [k,])\n",
    "            \n",
    "def undict_to_pairs(d):\n",
    "    for k,v in d.items():\n",
    "        for subk in v:\n",
    "            yield (k, subk)\n",
    "        yield from undict_to_pairs(v)\n",
    "\n",
    "def dict_sentence_parent(t):\n",
    "    if t.dep_ in [\n",
    "        'nsubj',\n",
    "    ]:\n",
    "        parent = next(tok for tok in t.ancestors)\n",
    "        parent_dict = dict_sentence(parent)\n",
    "        del parent_dict[t]\n",
    "        return parent_dict\n",
    "\n",
    "def update_nested_dict(main_dict, new_dict):\n",
    "    for name, rc_dict in new_dict.items():\n",
    "        main_dict.setdefault(name, {}).update(rc_dict)\n",
    "    return main_dict       \n",
    "\n",
    "def extract_compounds(t, doc):\n",
    "    head = None\n",
    "    if t.dep_ == 'compound':\n",
    "        t = next(t.ancestors)\n",
    "    indices = [child.i for child in t.children\n",
    "               if child.dep_ == 'compound'\n",
    "               or child.lemma_ in compound_list\n",
    "               and child.i < t.i]\n",
    "    indices.append(t.i)\n",
    "    indices.sort(reverse=True)\n",
    "    compounds  = []\n",
    "    for idx in indices:\n",
    "        compounds.append(doc[idx : t.i + 1])\n",
    "    return compounds    \n",
    "            \n",
    "            \n",
    "def check_existance(t):\n",
    "    item = None\n",
    "    for mainpart in glossary.keys():\n",
    "        if t.lemma_ in compound_list:\n",
    "            item = None\n",
    "        #elif t.pos_ != 'NOUN':\n",
    "        elif t.pos_ not in ['NOUN', 'PROPN']:\n",
    "            item = None\n",
    "        elif t.lemma_.lower().strip() in glossary[mainpart]:\n",
    "            item = mainpart            \n",
    "    return item\n",
    "\n",
    "\n",
    "def clean_compounds(item_list, doc):\n",
    "    new_item_list = []\n",
    "    new_item_list.append(item_list[0])\n",
    "    for item in item_list[1:]:\n",
    "        if (\n",
    "            item.lemma_ in compound_list \n",
    "            or item.dep_ == 'compound'\n",
    "        ):\n",
    "            continue\n",
    "        elif item.pos_ == 'NOUN':\n",
    "            compound = extract_compounds(item, doc)[-1]\n",
    "            if len(compound) == 1:\n",
    "                compound = compound.root\n",
    "            new_item_list.append(compound)\n",
    "            #print(len(compound))\n",
    "        else:\n",
    "            new_item_list.append(item)\n",
    "    return new_item_list\n",
    "    \n",
    "def clean_prepositions(item_list):\n",
    "    new_item_list = []\n",
    "    #new_item_list.append(item_list[0])\n",
    "    future_list = iter(item_list[1:] + [item_list[-1]])\n",
    "    item_list = iter(item_list)\n",
    "    for item, future in zip(item_list, future_list):\n",
    "        #print(item)\n",
    "        if future.lemma_ == 'of':\n",
    "            of_items = list(islice(item_list, 2))\n",
    "            new_item_list.append(f'{of_items[1].lemma_} {item.lemma_}')\n",
    "        elif type(item) == spacy.tokens.token.Token:\n",
    "            if item.dep_ == 'prep': # Add more?\n",
    "                if item.lemma_  in ['with', 'to']:\n",
    "                        continue\n",
    "                else:\n",
    "                    break\n",
    "            else:\n",
    "                new_item_list.append(item)\n",
    "        else:\n",
    "            new_item_list.append(item)\n",
    "    return new_item_list\n",
    "\n",
    "def clean_conjunctions(info_lists):\n",
    "    new_info_lists = []\n",
    "    passed = []\n",
    "    for info_list in info_lists:\n",
    "        temp = []\n",
    "        for item in info_list:\n",
    "            if type(item) == spacy.tokens.span.Span:\n",
    "                temp.append(item)\n",
    "            else:\n",
    "                if item not in passed:\n",
    "                    temp.append(item)\n",
    "                if item.dep_ == 'conj' or item.dep_ == 'acomp':\n",
    "                    passed.append(item)\n",
    "        new_info_lists.append(temp)\n",
    "    return new_info_lists\n",
    "        \n",
    "        \n",
    "    \n",
    "def clean_measurements(item_list):\n",
    "    \n",
    "    dep_list =  [t.dep_ for t in item_list if type(t) == spacy.tokens.token.Token]\n",
    "    dep_list += [t.root.dep_ for t in item_list if type(t) == spacy.tokens.span.Span]\n",
    "    #print(dep_list, item_list, [type(t) for t in item_list])\n",
    "    new_item_list = []\n",
    "    new_item_list.append(item_list[0])\n",
    "    \n",
    "    high = 0 \n",
    "    low  = 0 \n",
    "    unit = ''\n",
    "    # Measurement check\n",
    "    if (\n",
    "        'npadvmod' in dep_list\n",
    "        and 'nummod' in dep_list\n",
    "        and 'quantmod' in dep_list\n",
    "    ):\n",
    "        amod = next(t for t in item_list[1:])\n",
    "        if (\n",
    "            amod.lemma_ == 'long' \n",
    "            or amod.lemma_ == 'length' \n",
    "            or amod.lemma_ == 'tall'\n",
    "        ):\n",
    "            new_item_list.append('length')\n",
    "        elif (\n",
    "            amod.lemma_ == 'width'\n",
    "            or amod.lemma_ == 'wide'\n",
    "        ):\n",
    "            new_item_list.append('width')\n",
    "        # Find high and low\n",
    "        high = next(t.lemma_ for t in item_list[1:] if t.dep_ == 'nummod')\n",
    "        low  = next((t.lemma_ for t in item_list[1:] \n",
    "                     if t.dep_ == 'quantmod' \n",
    "                     and t.pos_ == 'NUM'), \n",
    "                    False)\n",
    "        unit = next(t.lemma_ for t in item_list[1:] if t.dep_ == 'npadvmod')\n",
    "        # Define new node if all are true\n",
    "        if all((high, low, unit)):\n",
    "            new_item_list.append(f'{low} - {high} {unit}')\n",
    "        elif all((high, unit)):\n",
    "            new_item_list.append(f'{high} {unit}')\n",
    "        return new_item_list\n",
    "    else:\n",
    "        return item_list\n",
    "\n",
    "def create_relation(item_list):\n",
    "    \n",
    "    subjects = item_list[:-1]\n",
    "    objects  = item_list[1:]\n",
    "    relation = None\n",
    "    triples = []\n",
    "    \n",
    "    for sub, obj in zip(subjects, objects):\n",
    "        relation = 'temp'\n",
    "        triples.append((sub, relation, obj))\n",
    "\n",
    "    return triples\n",
    "\n",
    "def extract_triples(doc):\n",
    "    # Speed up the extraction\n",
    "    previous = []\n",
    "    \n",
    "    triples = []\n",
    "    for t in doc:\n",
    "        part = check_existance(t)\n",
    "        #print(part, t)\n",
    "        if part:\n",
    "            triples.append(('species', 'has_main_part', part.capitalize()))\n",
    "            compound = part.capitalize()\n",
    "            for new_compound in extract_compounds(t, doc):\n",
    "                if type(compound) == str:\n",
    "                    triples.append((compound, 'has_sub_part', new_compound.lemma_))\n",
    "                else:\n",
    "                    triples.append((compound.lemma_, 'has_sub_part', new_compound.lemma_))\n",
    "                compound = new_compound\n",
    "                #print(compound)\n",
    "            # Reset T\n",
    "            t = compound.root\n",
    "            # Get child dict\n",
    "            child_dict = {compound: dict_sentence(t)}\n",
    "            # Get parent dict\n",
    "            parent_dict = {compound: dict_sentence_parent(t)}\n",
    "            if parent_dict[compound]:\n",
    "                #print(parent_dict)\n",
    "                # Add dicts together\n",
    "                sentence_dict = update_nested_dict(child_dict, parent_dict)\n",
    "                #print(sentence_dict)\n",
    "            else:\n",
    "                sentence_dict = child_dict\n",
    "            # List dict into tuples\n",
    "            info_lists = list(undict_to_tuples(sentence_dict))\n",
    "            #print('start', t, info_lists)\n",
    "            # shift conjuncttions\n",
    "            info_lists = clean_conjunctions(info_lists)\n",
    "            print(t, info_lists)\n",
    "            for info in info_lists:\n",
    "                #previous.append(info)\n",
    "                #print(previous)\n",
    "                info = clean_compounds(info, doc)\n",
    "                #print(info)\n",
    "                info = clean_prepositions(info)\n",
    "                #print(info)\n",
    "                info = clean_measurements(info)\n",
    "                #print(info)\n",
    "                #print(t, info)\n",
    "                triples.extend(create_relation(info))\n",
    "            \n",
    "    return triples"
   ]
  },
  {
   "cell_type": "code",
   "execution_count": 234,
   "id": "c31f0489-5cc9-485a-825c-e7cedfa06275",
   "metadata": {},
   "outputs": [
    {
     "name": "stdout",
     "output_type": "stream",
     "text": [
      "leaves [[leaves, leathery, alternate], [leaves, compound, paripinnate], [leaves, with, pairs, five, six], [leaves, with, pairs, of, leaflets, green, deep]]\n",
      "leaflets [[leaflets, green, deep]]\n"
     ]
    },
    {
     "data": {
      "text/plain": [
       "[('species', 'has_main_part', 'Leaf'),\n",
       " ('Leaf', 'has_sub_part', 'leave'),\n",
       " (leaves, 'temp', leathery),\n",
       " (leaves, 'temp', compound),\n",
       " (compound, 'temp', paripinnate),\n",
       " (leaves, 'temp', pairs),\n",
       " (pairs, 'temp', five),\n",
       " (five, 'temp', six),\n",
       " (leaves, 'temp', 'leaflet pair'),\n",
       " ('leaflet pair', 'temp', green),\n",
       " (green, 'temp', deep),\n",
       " ('species', 'has_main_part', 'Leaflet'),\n",
       " ('Leaflet', 'has_sub_part', 'leaflet'),\n",
       " (leaflets, 'temp', green),\n",
       " (green, 'temp', deep)]"
      ]
     },
     "execution_count": 234,
     "metadata": {},
     "output_type": "execute_result"
    }
   ],
   "source": [
    "string = 'The leaves are alternate, leathery, and compound paripinnate with five or six pairs of deep-green leaflets.'\n",
    "#string = 'Branch, small and green and dark, with spikes.'\n",
    "doc = nlp(string)\n",
    "extract_triples(doc)"
   ]
  },
  {
   "cell_type": "code",
   "execution_count": 189,
   "id": "86f75186-cd38-48a2-bd90-4c85f67dbf4e",
   "metadata": {},
   "outputs": [
    {
     "data": {
      "text/plain": [
       "The leaves are alternate, leathery, and compound paripinnate with five or six pairs of deep-green leaflets."
      ]
     },
     "execution_count": 189,
     "metadata": {},
     "output_type": "execute_result"
    }
   ],
   "source": [
    "doc"
   ]
  },
  {
   "cell_type": "code",
   "execution_count": null,
   "id": "0d51b680-63bb-405f-9ed7-8ca952a093e0",
   "metadata": {},
   "outputs": [],
   "source": []
  },
  {
   "cell_type": "code",
   "execution_count": 226,
   "id": "f82b4ef9-0e41-47ef-bb06-533891e51739",
   "metadata": {},
   "outputs": [
    {
     "data": {
      "text/html": [
       "<span class=\"tex2jax_ignore\"><svg xmlns=\"http://www.w3.org/2000/svg\" xmlns:xlink=\"http://www.w3.org/1999/xlink\" xml:lang=\"en\" id=\"f043d86d7609437796c7718fe67e2731-0\" class=\"displacy\" width=\"1450\" height=\"399.5\" direction=\"ltr\" style=\"max-width: none; height: 399.5px; color: #000000; background: #ffffff; font-family: Arial; direction: ltr\">\n",
       "<text class=\"displacy-token\" fill=\"currentColor\" text-anchor=\"middle\" y=\"309.5\">\n",
       "    <tspan class=\"displacy-word\" fill=\"currentColor\" x=\"50\">Branch,</tspan>\n",
       "    <tspan class=\"displacy-tag\" dy=\"2em\" fill=\"currentColor\" x=\"50\">NOUN</tspan>\n",
       "</text>\n",
       "\n",
       "<text class=\"displacy-token\" fill=\"currentColor\" text-anchor=\"middle\" y=\"309.5\">\n",
       "    <tspan class=\"displacy-word\" fill=\"currentColor\" x=\"225\">small</tspan>\n",
       "    <tspan class=\"displacy-tag\" dy=\"2em\" fill=\"currentColor\" x=\"225\">ADJ</tspan>\n",
       "</text>\n",
       "\n",
       "<text class=\"displacy-token\" fill=\"currentColor\" text-anchor=\"middle\" y=\"309.5\">\n",
       "    <tspan class=\"displacy-word\" fill=\"currentColor\" x=\"400\">and</tspan>\n",
       "    <tspan class=\"displacy-tag\" dy=\"2em\" fill=\"currentColor\" x=\"400\">CCONJ</tspan>\n",
       "</text>\n",
       "\n",
       "<text class=\"displacy-token\" fill=\"currentColor\" text-anchor=\"middle\" y=\"309.5\">\n",
       "    <tspan class=\"displacy-word\" fill=\"currentColor\" x=\"575\">green</tspan>\n",
       "    <tspan class=\"displacy-tag\" dy=\"2em\" fill=\"currentColor\" x=\"575\">ADJ</tspan>\n",
       "</text>\n",
       "\n",
       "<text class=\"displacy-token\" fill=\"currentColor\" text-anchor=\"middle\" y=\"309.5\">\n",
       "    <tspan class=\"displacy-word\" fill=\"currentColor\" x=\"750\">and</tspan>\n",
       "    <tspan class=\"displacy-tag\" dy=\"2em\" fill=\"currentColor\" x=\"750\">CCONJ</tspan>\n",
       "</text>\n",
       "\n",
       "<text class=\"displacy-token\" fill=\"currentColor\" text-anchor=\"middle\" y=\"309.5\">\n",
       "    <tspan class=\"displacy-word\" fill=\"currentColor\" x=\"925\">dark,</tspan>\n",
       "    <tspan class=\"displacy-tag\" dy=\"2em\" fill=\"currentColor\" x=\"925\">ADJ</tspan>\n",
       "</text>\n",
       "\n",
       "<text class=\"displacy-token\" fill=\"currentColor\" text-anchor=\"middle\" y=\"309.5\">\n",
       "    <tspan class=\"displacy-word\" fill=\"currentColor\" x=\"1100\">with</tspan>\n",
       "    <tspan class=\"displacy-tag\" dy=\"2em\" fill=\"currentColor\" x=\"1100\">ADP</tspan>\n",
       "</text>\n",
       "\n",
       "<text class=\"displacy-token\" fill=\"currentColor\" text-anchor=\"middle\" y=\"309.5\">\n",
       "    <tspan class=\"displacy-word\" fill=\"currentColor\" x=\"1275\">spikes.</tspan>\n",
       "    <tspan class=\"displacy-tag\" dy=\"2em\" fill=\"currentColor\" x=\"1275\">NOUN</tspan>\n",
       "</text>\n",
       "\n",
       "<g class=\"displacy-arrow\">\n",
       "    <path class=\"displacy-arc\" id=\"arrow-f043d86d7609437796c7718fe67e2731-0-0\" stroke-width=\"2px\" d=\"M70,264.5 C70,177.0 215.0,177.0 215.0,264.5\" fill=\"none\" stroke=\"currentColor\"/>\n",
       "    <text dy=\"1.25em\" style=\"font-size: 0.8em; letter-spacing: 1px\">\n",
       "        <textPath xlink:href=\"#arrow-f043d86d7609437796c7718fe67e2731-0-0\" class=\"displacy-label\" startOffset=\"50%\" side=\"left\" fill=\"currentColor\" text-anchor=\"middle\">amod</textPath>\n",
       "    </text>\n",
       "    <path class=\"displacy-arrowhead\" d=\"M215.0,266.5 L223.0,254.5 207.0,254.5\" fill=\"currentColor\"/>\n",
       "</g>\n",
       "\n",
       "<g class=\"displacy-arrow\">\n",
       "    <path class=\"displacy-arc\" id=\"arrow-f043d86d7609437796c7718fe67e2731-0-1\" stroke-width=\"2px\" d=\"M245,264.5 C245,177.0 390.0,177.0 390.0,264.5\" fill=\"none\" stroke=\"currentColor\"/>\n",
       "    <text dy=\"1.25em\" style=\"font-size: 0.8em; letter-spacing: 1px\">\n",
       "        <textPath xlink:href=\"#arrow-f043d86d7609437796c7718fe67e2731-0-1\" class=\"displacy-label\" startOffset=\"50%\" side=\"left\" fill=\"currentColor\" text-anchor=\"middle\">cc</textPath>\n",
       "    </text>\n",
       "    <path class=\"displacy-arrowhead\" d=\"M390.0,266.5 L398.0,254.5 382.0,254.5\" fill=\"currentColor\"/>\n",
       "</g>\n",
       "\n",
       "<g class=\"displacy-arrow\">\n",
       "    <path class=\"displacy-arc\" id=\"arrow-f043d86d7609437796c7718fe67e2731-0-2\" stroke-width=\"2px\" d=\"M245,264.5 C245,89.5 570.0,89.5 570.0,264.5\" fill=\"none\" stroke=\"currentColor\"/>\n",
       "    <text dy=\"1.25em\" style=\"font-size: 0.8em; letter-spacing: 1px\">\n",
       "        <textPath xlink:href=\"#arrow-f043d86d7609437796c7718fe67e2731-0-2\" class=\"displacy-label\" startOffset=\"50%\" side=\"left\" fill=\"currentColor\" text-anchor=\"middle\">conj</textPath>\n",
       "    </text>\n",
       "    <path class=\"displacy-arrowhead\" d=\"M570.0,266.5 L578.0,254.5 562.0,254.5\" fill=\"currentColor\"/>\n",
       "</g>\n",
       "\n",
       "<g class=\"displacy-arrow\">\n",
       "    <path class=\"displacy-arc\" id=\"arrow-f043d86d7609437796c7718fe67e2731-0-3\" stroke-width=\"2px\" d=\"M595,264.5 C595,177.0 740.0,177.0 740.0,264.5\" fill=\"none\" stroke=\"currentColor\"/>\n",
       "    <text dy=\"1.25em\" style=\"font-size: 0.8em; letter-spacing: 1px\">\n",
       "        <textPath xlink:href=\"#arrow-f043d86d7609437796c7718fe67e2731-0-3\" class=\"displacy-label\" startOffset=\"50%\" side=\"left\" fill=\"currentColor\" text-anchor=\"middle\">cc</textPath>\n",
       "    </text>\n",
       "    <path class=\"displacy-arrowhead\" d=\"M740.0,266.5 L748.0,254.5 732.0,254.5\" fill=\"currentColor\"/>\n",
       "</g>\n",
       "\n",
       "<g class=\"displacy-arrow\">\n",
       "    <path class=\"displacy-arc\" id=\"arrow-f043d86d7609437796c7718fe67e2731-0-4\" stroke-width=\"2px\" d=\"M595,264.5 C595,89.5 920.0,89.5 920.0,264.5\" fill=\"none\" stroke=\"currentColor\"/>\n",
       "    <text dy=\"1.25em\" style=\"font-size: 0.8em; letter-spacing: 1px\">\n",
       "        <textPath xlink:href=\"#arrow-f043d86d7609437796c7718fe67e2731-0-4\" class=\"displacy-label\" startOffset=\"50%\" side=\"left\" fill=\"currentColor\" text-anchor=\"middle\">conj</textPath>\n",
       "    </text>\n",
       "    <path class=\"displacy-arrowhead\" d=\"M920.0,266.5 L928.0,254.5 912.0,254.5\" fill=\"currentColor\"/>\n",
       "</g>\n",
       "\n",
       "<g class=\"displacy-arrow\">\n",
       "    <path class=\"displacy-arc\" id=\"arrow-f043d86d7609437796c7718fe67e2731-0-5\" stroke-width=\"2px\" d=\"M70,264.5 C70,2.0 1100.0,2.0 1100.0,264.5\" fill=\"none\" stroke=\"currentColor\"/>\n",
       "    <text dy=\"1.25em\" style=\"font-size: 0.8em; letter-spacing: 1px\">\n",
       "        <textPath xlink:href=\"#arrow-f043d86d7609437796c7718fe67e2731-0-5\" class=\"displacy-label\" startOffset=\"50%\" side=\"left\" fill=\"currentColor\" text-anchor=\"middle\">prep</textPath>\n",
       "    </text>\n",
       "    <path class=\"displacy-arrowhead\" d=\"M1100.0,266.5 L1108.0,254.5 1092.0,254.5\" fill=\"currentColor\"/>\n",
       "</g>\n",
       "\n",
       "<g class=\"displacy-arrow\">\n",
       "    <path class=\"displacy-arc\" id=\"arrow-f043d86d7609437796c7718fe67e2731-0-6\" stroke-width=\"2px\" d=\"M1120,264.5 C1120,177.0 1265.0,177.0 1265.0,264.5\" fill=\"none\" stroke=\"currentColor\"/>\n",
       "    <text dy=\"1.25em\" style=\"font-size: 0.8em; letter-spacing: 1px\">\n",
       "        <textPath xlink:href=\"#arrow-f043d86d7609437796c7718fe67e2731-0-6\" class=\"displacy-label\" startOffset=\"50%\" side=\"left\" fill=\"currentColor\" text-anchor=\"middle\">pobj</textPath>\n",
       "    </text>\n",
       "    <path class=\"displacy-arrowhead\" d=\"M1265.0,266.5 L1273.0,254.5 1257.0,254.5\" fill=\"currentColor\"/>\n",
       "</g>\n",
       "</svg></span>"
      ],
      "text/plain": [
       "<IPython.core.display.HTML object>"
      ]
     },
     "metadata": {},
     "output_type": "display_data"
    }
   ],
   "source": [
    "displacy.render(doc)"
   ]
  },
  {
   "cell_type": "code",
   "execution_count": 39,
   "id": "0f46053f-588c-4624-9c8a-72fbee22de7c",
   "metadata": {},
   "outputs": [],
   "source": [
    "species_list = list(data.keys())\n",
    "species = species_list[100]"
   ]
  },
  {
   "cell_type": "code",
   "execution_count": 41,
   "id": "993084ab-35c8-4003-a5c1-3a8d4d62d14d",
   "metadata": {},
   "outputs": [
    {
     "data": {
      "application/vnd.jupyter.widget-view+json": {
       "model_id": "f9dfd753610d48838dc59e4b68d4b5a0",
       "version_major": 2,
       "version_minor": 0
      },
      "text/plain": [
       "  0%|          | 0/1 [00:00<?, ?it/s]"
      ]
     },
     "metadata": {},
     "output_type": "display_data"
    },
    {
     "name": "stdout",
     "output_type": "stream",
     "text": [
      "apex [[Lower glume apex, Lower], [Lower glume apex, glume], [Lower glume apex, acute, muticous, mucronate]]\n"
     ]
    }
   ],
   "source": [
    "kn_data = []\n",
    "for text in tqdm_notebook(data[species][18:19]):\n",
    "    text = text_preparation(species, text)\n",
    "    doc = nlp(text)\n",
    "    kn_data.extend(extract_triples(doc))"
   ]
  },
  {
   "cell_type": "code",
   "execution_count": 42,
   "id": "9d6af1c3-bd12-45c1-921e-0570ef9a0316",
   "metadata": {},
   "outputs": [
    {
     "data": {
      "text/plain": [
       "[('species', 'has_main_part', 'Spikelet'),\n",
       " ('Spikelet', 'has_sub_part', 'apex'),\n",
       " ('apex', 'has_sub_part', 'glume apex'),\n",
       " ('glume apex', 'has_sub_part', 'lower glume apex'),\n",
       " (Lower glume apex, 'temp', acute),\n",
       " (acute, 'temp', muticous),\n",
       " (muticous, 'temp', mucronate)]"
      ]
     },
     "execution_count": 42,
     "metadata": {},
     "output_type": "execute_result"
    }
   ],
   "source": [
    "kn_data"
   ]
  },
  {
   "cell_type": "code",
   "execution_count": 228,
   "id": "f0459083-b539-4eae-92f0-0a3b69206cb4",
   "metadata": {},
   "outputs": [
    {
     "data": {
      "text/html": [
       "<span class=\"tex2jax_ignore\"><svg xmlns=\"http://www.w3.org/2000/svg\" xmlns:xlink=\"http://www.w3.org/1999/xlink\" xml:lang=\"en\" id=\"2962ab2759214c8e9d91c30d8e21299e-0\" class=\"displacy\" width=\"1450\" height=\"399.5\" direction=\"ltr\" style=\"max-width: none; height: 399.5px; color: #000000; background: #ffffff; font-family: Arial; direction: ltr\">\n",
       "<text class=\"displacy-token\" fill=\"currentColor\" text-anchor=\"middle\" y=\"309.5\">\n",
       "    <tspan class=\"displacy-word\" fill=\"currentColor\" x=\"50\">Branch,</tspan>\n",
       "    <tspan class=\"displacy-tag\" dy=\"2em\" fill=\"currentColor\" x=\"50\">NOUN</tspan>\n",
       "</text>\n",
       "\n",
       "<text class=\"displacy-token\" fill=\"currentColor\" text-anchor=\"middle\" y=\"309.5\">\n",
       "    <tspan class=\"displacy-word\" fill=\"currentColor\" x=\"225\">small</tspan>\n",
       "    <tspan class=\"displacy-tag\" dy=\"2em\" fill=\"currentColor\" x=\"225\">ADJ</tspan>\n",
       "</text>\n",
       "\n",
       "<text class=\"displacy-token\" fill=\"currentColor\" text-anchor=\"middle\" y=\"309.5\">\n",
       "    <tspan class=\"displacy-word\" fill=\"currentColor\" x=\"400\">and</tspan>\n",
       "    <tspan class=\"displacy-tag\" dy=\"2em\" fill=\"currentColor\" x=\"400\">CCONJ</tspan>\n",
       "</text>\n",
       "\n",
       "<text class=\"displacy-token\" fill=\"currentColor\" text-anchor=\"middle\" y=\"309.5\">\n",
       "    <tspan class=\"displacy-word\" fill=\"currentColor\" x=\"575\">green</tspan>\n",
       "    <tspan class=\"displacy-tag\" dy=\"2em\" fill=\"currentColor\" x=\"575\">ADJ</tspan>\n",
       "</text>\n",
       "\n",
       "<text class=\"displacy-token\" fill=\"currentColor\" text-anchor=\"middle\" y=\"309.5\">\n",
       "    <tspan class=\"displacy-word\" fill=\"currentColor\" x=\"750\">and</tspan>\n",
       "    <tspan class=\"displacy-tag\" dy=\"2em\" fill=\"currentColor\" x=\"750\">CCONJ</tspan>\n",
       "</text>\n",
       "\n",
       "<text class=\"displacy-token\" fill=\"currentColor\" text-anchor=\"middle\" y=\"309.5\">\n",
       "    <tspan class=\"displacy-word\" fill=\"currentColor\" x=\"925\">dark,</tspan>\n",
       "    <tspan class=\"displacy-tag\" dy=\"2em\" fill=\"currentColor\" x=\"925\">ADJ</tspan>\n",
       "</text>\n",
       "\n",
       "<text class=\"displacy-token\" fill=\"currentColor\" text-anchor=\"middle\" y=\"309.5\">\n",
       "    <tspan class=\"displacy-word\" fill=\"currentColor\" x=\"1100\">with</tspan>\n",
       "    <tspan class=\"displacy-tag\" dy=\"2em\" fill=\"currentColor\" x=\"1100\">ADP</tspan>\n",
       "</text>\n",
       "\n",
       "<text class=\"displacy-token\" fill=\"currentColor\" text-anchor=\"middle\" y=\"309.5\">\n",
       "    <tspan class=\"displacy-word\" fill=\"currentColor\" x=\"1275\">spikes.</tspan>\n",
       "    <tspan class=\"displacy-tag\" dy=\"2em\" fill=\"currentColor\" x=\"1275\">NOUN</tspan>\n",
       "</text>\n",
       "\n",
       "<g class=\"displacy-arrow\">\n",
       "    <path class=\"displacy-arc\" id=\"arrow-2962ab2759214c8e9d91c30d8e21299e-0-0\" stroke-width=\"2px\" d=\"M70,264.5 C70,177.0 215.0,177.0 215.0,264.5\" fill=\"none\" stroke=\"currentColor\"/>\n",
       "    <text dy=\"1.25em\" style=\"font-size: 0.8em; letter-spacing: 1px\">\n",
       "        <textPath xlink:href=\"#arrow-2962ab2759214c8e9d91c30d8e21299e-0-0\" class=\"displacy-label\" startOffset=\"50%\" side=\"left\" fill=\"currentColor\" text-anchor=\"middle\">amod</textPath>\n",
       "    </text>\n",
       "    <path class=\"displacy-arrowhead\" d=\"M215.0,266.5 L223.0,254.5 207.0,254.5\" fill=\"currentColor\"/>\n",
       "</g>\n",
       "\n",
       "<g class=\"displacy-arrow\">\n",
       "    <path class=\"displacy-arc\" id=\"arrow-2962ab2759214c8e9d91c30d8e21299e-0-1\" stroke-width=\"2px\" d=\"M245,264.5 C245,177.0 390.0,177.0 390.0,264.5\" fill=\"none\" stroke=\"currentColor\"/>\n",
       "    <text dy=\"1.25em\" style=\"font-size: 0.8em; letter-spacing: 1px\">\n",
       "        <textPath xlink:href=\"#arrow-2962ab2759214c8e9d91c30d8e21299e-0-1\" class=\"displacy-label\" startOffset=\"50%\" side=\"left\" fill=\"currentColor\" text-anchor=\"middle\">cc</textPath>\n",
       "    </text>\n",
       "    <path class=\"displacy-arrowhead\" d=\"M390.0,266.5 L398.0,254.5 382.0,254.5\" fill=\"currentColor\"/>\n",
       "</g>\n",
       "\n",
       "<g class=\"displacy-arrow\">\n",
       "    <path class=\"displacy-arc\" id=\"arrow-2962ab2759214c8e9d91c30d8e21299e-0-2\" stroke-width=\"2px\" d=\"M245,264.5 C245,89.5 570.0,89.5 570.0,264.5\" fill=\"none\" stroke=\"currentColor\"/>\n",
       "    <text dy=\"1.25em\" style=\"font-size: 0.8em; letter-spacing: 1px\">\n",
       "        <textPath xlink:href=\"#arrow-2962ab2759214c8e9d91c30d8e21299e-0-2\" class=\"displacy-label\" startOffset=\"50%\" side=\"left\" fill=\"currentColor\" text-anchor=\"middle\">conj</textPath>\n",
       "    </text>\n",
       "    <path class=\"displacy-arrowhead\" d=\"M570.0,266.5 L578.0,254.5 562.0,254.5\" fill=\"currentColor\"/>\n",
       "</g>\n",
       "\n",
       "<g class=\"displacy-arrow\">\n",
       "    <path class=\"displacy-arc\" id=\"arrow-2962ab2759214c8e9d91c30d8e21299e-0-3\" stroke-width=\"2px\" d=\"M595,264.5 C595,177.0 740.0,177.0 740.0,264.5\" fill=\"none\" stroke=\"currentColor\"/>\n",
       "    <text dy=\"1.25em\" style=\"font-size: 0.8em; letter-spacing: 1px\">\n",
       "        <textPath xlink:href=\"#arrow-2962ab2759214c8e9d91c30d8e21299e-0-3\" class=\"displacy-label\" startOffset=\"50%\" side=\"left\" fill=\"currentColor\" text-anchor=\"middle\">cc</textPath>\n",
       "    </text>\n",
       "    <path class=\"displacy-arrowhead\" d=\"M740.0,266.5 L748.0,254.5 732.0,254.5\" fill=\"currentColor\"/>\n",
       "</g>\n",
       "\n",
       "<g class=\"displacy-arrow\">\n",
       "    <path class=\"displacy-arc\" id=\"arrow-2962ab2759214c8e9d91c30d8e21299e-0-4\" stroke-width=\"2px\" d=\"M595,264.5 C595,89.5 920.0,89.5 920.0,264.5\" fill=\"none\" stroke=\"currentColor\"/>\n",
       "    <text dy=\"1.25em\" style=\"font-size: 0.8em; letter-spacing: 1px\">\n",
       "        <textPath xlink:href=\"#arrow-2962ab2759214c8e9d91c30d8e21299e-0-4\" class=\"displacy-label\" startOffset=\"50%\" side=\"left\" fill=\"currentColor\" text-anchor=\"middle\">conj</textPath>\n",
       "    </text>\n",
       "    <path class=\"displacy-arrowhead\" d=\"M920.0,266.5 L928.0,254.5 912.0,254.5\" fill=\"currentColor\"/>\n",
       "</g>\n",
       "\n",
       "<g class=\"displacy-arrow\">\n",
       "    <path class=\"displacy-arc\" id=\"arrow-2962ab2759214c8e9d91c30d8e21299e-0-5\" stroke-width=\"2px\" d=\"M70,264.5 C70,2.0 1100.0,2.0 1100.0,264.5\" fill=\"none\" stroke=\"currentColor\"/>\n",
       "    <text dy=\"1.25em\" style=\"font-size: 0.8em; letter-spacing: 1px\">\n",
       "        <textPath xlink:href=\"#arrow-2962ab2759214c8e9d91c30d8e21299e-0-5\" class=\"displacy-label\" startOffset=\"50%\" side=\"left\" fill=\"currentColor\" text-anchor=\"middle\">prep</textPath>\n",
       "    </text>\n",
       "    <path class=\"displacy-arrowhead\" d=\"M1100.0,266.5 L1108.0,254.5 1092.0,254.5\" fill=\"currentColor\"/>\n",
       "</g>\n",
       "\n",
       "<g class=\"displacy-arrow\">\n",
       "    <path class=\"displacy-arc\" id=\"arrow-2962ab2759214c8e9d91c30d8e21299e-0-6\" stroke-width=\"2px\" d=\"M1120,264.5 C1120,177.0 1265.0,177.0 1265.0,264.5\" fill=\"none\" stroke=\"currentColor\"/>\n",
       "    <text dy=\"1.25em\" style=\"font-size: 0.8em; letter-spacing: 1px\">\n",
       "        <textPath xlink:href=\"#arrow-2962ab2759214c8e9d91c30d8e21299e-0-6\" class=\"displacy-label\" startOffset=\"50%\" side=\"left\" fill=\"currentColor\" text-anchor=\"middle\">pobj</textPath>\n",
       "    </text>\n",
       "    <path class=\"displacy-arrowhead\" d=\"M1265.0,266.5 L1273.0,254.5 1257.0,254.5\" fill=\"currentColor\"/>\n",
       "</g>\n",
       "</svg></span>"
      ],
      "text/plain": [
       "<IPython.core.display.HTML object>"
      ]
     },
     "metadata": {},
     "output_type": "display_data"
    }
   ],
   "source": [
    "displacy.render(doc)"
   ]
  },
  {
   "cell_type": "code",
   "execution_count": 229,
   "id": "72ec00e3-6957-485e-96da-0922155570f9",
   "metadata": {},
   "outputs": [],
   "source": [
    "def dict_sentence(t):\n",
    "    sentence_dict = {}\n",
    "    for child in t.children:\n",
    "        # Exceptions\n",
    "        if (\n",
    "            child.lemma_ not in rubbish_list\n",
    "            #and child.lemma_ not in compound_list\n",
    "            #and child.dep_ != 'compound'\n",
    "            and child.dep_ not in [\n",
    "                'det', 'cc', 'poss',\n",
    "                'punct', 'ccomp',\n",
    "                'relcl', \n",
    "            ]\n",
    "            and child.pos_ not in [\n",
    "                'PART', 'SYM', 'DET',\n",
    "            ]\n",
    "        ):\n",
    "            items = dict_sentence(child)\n",
    "            sentence_dict[child] = items \n",
    "    return sentence_dict\n",
    "\n",
    "def undict_to_tuples(d, acc = []):\n",
    "    if d == {}:\n",
    "        yield acc\n",
    "    else:\n",
    "        for k, v in d.items():\n",
    "            yield from undict_to_tuples(v, acc + [k,])"
   ]
  },
  {
   "cell_type": "code",
   "execution_count": 235,
   "id": "4b653336-3e25-4790-861c-19b6340149f5",
   "metadata": {},
   "outputs": [],
   "source": [
    "infos = list(undict_to_tuples({doc[2]: dict_sentence(doc[2])}))"
   ]
  },
  {
   "cell_type": "code",
   "execution_count": 236,
   "id": "7bc61050-6d73-4e5a-92b0-4a81425043d9",
   "metadata": {},
   "outputs": [
    {
     "data": {
      "text/plain": [
       "[[are, leaves],\n",
       " [are, leathery, alternate],\n",
       " [are, leathery, compound, paripinnate],\n",
       " [are, leathery, compound, with, pairs, five, six],\n",
       " [are, leathery, compound, with, pairs, of, leaflets, green, deep]]"
      ]
     },
     "execution_count": 236,
     "metadata": {},
     "output_type": "execute_result"
    }
   ],
   "source": [
    "infos"
   ]
  },
  {
   "cell_type": "code",
   "execution_count": 237,
   "id": "ca659258-fec4-468f-9a9d-32bc3d9d56af",
   "metadata": {},
   "outputs": [
    {
     "name": "stdout",
     "output_type": "stream",
     "text": [
      "[leathery, compound]\n"
     ]
    },
    {
     "data": {
      "text/plain": [
       "[[are, leaves],\n",
       " [leathery, alternate],\n",
       " [are, with, pairs, six],\n",
       " [are, with, pairs, five]]"
      ]
     },
     "execution_count": 237,
     "metadata": {},
     "output_type": "execute_result"
    }
   ],
   "source": [
    "new_info = []\n",
    "for info in infos:\n",
    "    ccs = [t for t in info if t.dep_ == 'conj' or t.dep_ =='acomp']   \n",
    "    \n",
    "    if ccs:\n",
    "        #print(ccs)\n",
    "        # Middle conjunctions\n",
    "        if len(ccs) == 1 and ccs[0] != info[-1]:\n",
    "            parent = next(t for t in ccs[0].ancestors)\n",
    "            new_info.append([t for t in info if t != parent])\n",
    "        # End Conjunctions\n",
    "        elif ccs[-1] == info[-1]:\n",
    "            old = ccs[0:-1]\n",
    "            print(old)\n",
    "            parent = next(t for t in ccs[-1].ancestors)\n",
    "            new_info.append([t for t in info if t != parent and t not in old])\n",
    "            new_info.append([t for t in info if t != ccs[-1] and t not in old])\n",
    "\n",
    "    else:\n",
    "        new_info.append(info)\n",
    "        \n",
    "new_info"
   ]
  },
  {
   "cell_type": "code",
   "execution_count": 238,
   "id": "083fc13a-ebcb-4a98-b048-53c6abc2df6f",
   "metadata": {},
   "outputs": [
    {
     "name": "stdout",
     "output_type": "stream",
     "text": [
      "[]\n",
      "[]\n",
      "[compound]\n",
      "[compound, six]\n",
      "[compound]\n"
     ]
    }
   ],
   "source": [
    "new_info = []\n",
    "for info in infos:\n",
    "    ccs = [t for t in info if t.dep_ == 'conj']\n",
    "    print(ccs)\n",
    "    used_ccs = []\n",
    "    if ccs:\n",
    "        for cc in ccs:\n",
    "            idx_new = len([t for t in cc.ancestors if t.dep_ == 'conj']) + 1\n",
    "            idx_old = info.index(cc)\n",
    "            new_info.append(info[: idx_old - idx_new] + [cc])\n",
    "            \n",
    "            used_ccs.append(cc)\n",
    "        cc_filter = set(used_ccs)\n",
    "        new_info.append([t for t in info if t not in cc_filter])\n",
    "    else:\n",
    "        new_info.append(info)"
   ]
  },
  {
   "cell_type": "code",
   "execution_count": 233,
   "id": "6dd0fa31-11a4-4fd0-891a-e9566f480460",
   "metadata": {},
   "outputs": [
    {
     "data": {
      "text/plain": [
       "[[Branch, green], [Branch, dark], [Branch, small], [Branch, with, spikes]]"
      ]
     },
     "execution_count": 233,
     "metadata": {},
     "output_type": "execute_result"
    }
   ],
   "source": [
    "new_info"
   ]
  },
  {
   "cell_type": "markdown",
   "id": "a7fd952b-efb6-48ec-9691-b6fd96592b20",
   "metadata": {},
   "source": [
    "# VIZ"
   ]
  },
  {
   "cell_type": "code",
   "execution_count": null,
   "id": "5cda96c7-7e1c-4a08-bd5f-07e994625bcf",
   "metadata": {},
   "outputs": [],
   "source": [
    "import networkx as nx\n",
    "from networkx.drawing.nx_agraph import graphviz_layout\n",
    "from netgraph import Graph\n",
    "import matplotlib.pyplot as plt\n",
    "import matplotlib.colors as mcolors"
   ]
  },
  {
   "cell_type": "code",
   "execution_count": null,
   "id": "29154af6-f4ec-4408-8904-207e7a34ebed",
   "metadata": {},
   "outputs": [],
   "source": [
    "#descriptions"
   ]
  },
  {
   "cell_type": "code",
   "execution_count": null,
   "id": "3348fc33-e829-403b-b811-e7f6fb7ba9a6",
   "metadata": {},
   "outputs": [],
   "source": [
    "source   = []\n",
    "relation = []\n",
    "target   = []\n",
    "\n",
    "\n",
    "for (sub, rel, obj) in kn_data:\n",
    "    if type(sub) != str:\n",
    "        sub = sub.lemma_\n",
    "    if type(obj) != str:\n",
    "        obj = obj.lemma_\n",
    "    if sub ==  obj:\n",
    "        continue\n",
    "    source.append(sub)\n",
    "    relation.append(rel)\n",
    "    target.append(obj)\n",
    "\n",
    "kg_df = pd.DataFrame({'source':source, 'target':target, 'edge':relation})"
   ]
  },
  {
   "cell_type": "code",
   "execution_count": null,
   "id": "eef4975c-30de-4a84-9a5a-47645f170177",
   "metadata": {},
   "outputs": [],
   "source": [
    "#kn_data"
   ]
  },
  {
   "cell_type": "code",
   "execution_count": null,
   "id": "2f304656-f6e8-4fd5-8c56-447cde861402",
   "metadata": {},
   "outputs": [],
   "source": [
    "nodes = [(source, target) for source, target in zip(kg_df['source'].values, kg_df['target'].values)]\n",
    "G=nx.from_pandas_edgelist(kg_df, \"source\", \"target\", \n",
    "                          edge_attr=True, create_using=nx.Graph())\n",
    "\n",
    "\n",
    "node_labels = {node : node for idx, node in enumerate(G)}\n",
    "edge_labels = dict(zip(list(zip(kg_df.source, kg_df.target)),\n",
    "                  kg_df['edge'].tolist()))\n",
    "\n",
    "node_size = {}\n",
    "node_color = {}\n",
    "\n",
    "size = 1.5\n",
    "\n",
    "for node in node_labels:\n",
    "    if node == 'species':\n",
    "        node_size[node] = 3.5/size\n",
    "        node_color[node] = 'darkgreen'\n",
    "    elif node[0].isupper():\n",
    "        node_size[node] = 2/size\n",
    "        node_color[node] = 'white'\n",
    "    else:\n",
    "        node_size[node] = 1./size\n",
    "        node_color[node] = 'white'\n",
    "        \n",
    "pos = nx.spring_layout(G, k = 0.08, iterations=5000, seed=3, scale=0.3, center=(0,0), dim=2)"
   ]
  },
  {
   "cell_type": "code",
   "execution_count": null,
   "id": "927df6cf-661d-45e6-8f50-d817a4664c38",
   "metadata": {},
   "outputs": [],
   "source": [
    "fig, ax = plt.subplots(figsize=(25, 25))\n",
    "Graph(nodes, \n",
    "      #node_layout='spring', edge_layout='curved', \n",
    "      node_layout=pos, edge_layout='straight', \n",
    "      arrows=True, node_zorder=3, #edge_zorder=1,\n",
    "      node_labels=node_labels, \n",
    "      node_label_offset=0.02, \n",
    "      #edge_labels=edge_labels,\n",
    "      node_label_fontdict=dict(size=18, rotation=0, ha='center', clip_on=False), node_edge_width=0.2,\n",
    "      node_size=node_size,  node_color=node_color, #edge_labels=edge_labels,\n",
    "      edge_width=0.2, edge_label_fontdict=dict(size=10,),\n",
    "      #node_layout_kwargs=dict(node_size=1, total_iterations=20),\n",
    "      ax=ax)"
   ]
  },
  {
   "cell_type": "code",
   "execution_count": null,
   "id": "d45d513f-9410-4417-8e9e-0aa2e5a62544",
   "metadata": {},
   "outputs": [],
   "source": [
    "\"Robert\"[0].isupper() "
   ]
  },
  {
   "cell_type": "code",
   "execution_count": null,
   "id": "a1fcaf5f-6232-4d70-9e0e-71be53023642",
   "metadata": {},
   "outputs": [],
   "source": []
  }
 ],
 "metadata": {
  "kernelspec": {
   "display_name": "Python [conda env:DL]",
   "language": "python",
   "name": "conda-env-DL-py"
  },
  "language_info": {
   "codemirror_mode": {
    "name": "ipython",
    "version": 3
   },
   "file_extension": ".py",
   "mimetype": "text/x-python",
   "name": "python",
   "nbconvert_exporter": "python",
   "pygments_lexer": "ipython3",
   "version": "3.8.10"
  }
 },
 "nbformat": 4,
 "nbformat_minor": 5
}
