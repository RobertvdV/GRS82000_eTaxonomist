{
 "cells": [
  {
   "cell_type": "code",
   "execution_count": 76,
   "id": "f645fe24-23c8-4414-8537-5b18047712cb",
   "metadata": {},
   "outputs": [],
   "source": [
    "import os\n",
    "from bs4 import BeautifulSoup\n",
    "import glob\n",
    "import re\n",
    "import collections\n"
   ]
  },
  {
   "cell_type": "markdown",
   "id": "37ec9347-c015-4047-bd3d-dca2bc0cf3fa",
   "metadata": {},
   "source": [
    "# Single Line Parser"
   ]
  },
  {
   "cell_type": "code",
   "execution_count": 7,
   "id": "f243ebf6-09b4-4756-b266-105db1db921c",
   "metadata": {},
   "outputs": [],
   "source": [
    "SpeciesList = glob.glob('../data/raw/*')"
   ]
  },
  {
   "cell_type": "code",
   "execution_count": 14,
   "id": "2e2e96b2-6f72-454a-ba8d-5467e10e29b5",
   "metadata": {},
   "outputs": [],
   "source": [
    "SingleList = [Species + '/Introduction.html' for Species in SpeciesList if len(glob.glob(Species + '/*')) == 1]"
   ]
  },
  {
   "cell_type": "code",
   "execution_count": 24,
   "id": "82c2f366-1d31-4605-bb6e-88e9ceeac7b2",
   "metadata": {},
   "outputs": [
    {
     "data": {
      "text/plain": [
       "'../data/raw/Rwenzori Turaco/Introduction.html'"
      ]
     },
     "execution_count": 24,
     "metadata": {},
     "output_type": "execute_result"
    }
   ],
   "source": [
    "SingleList[0]."
   ]
  },
  {
   "cell_type": "code",
   "execution_count": 81,
   "id": "9cc1061f-0b8f-48c0-8368-a62dae26df62",
   "metadata": {},
   "outputs": [],
   "source": [
    "DataBOW = collections.defaultdict(list)\n",
    "\n",
    "SourceRemover = [\n",
    "    ' \\(\\d+.+?Close\\n\\t\\n\\)'\n",
    "]\n",
    "\n",
    "for BirdXML in SingleList[0:]:\n",
    "    with open(BirdXML) as f:\n",
    "        soup = BeautifulSoup(f, 'html.parser')\n",
    "    \n",
    "    # Birdname\n",
    "    BirdName = soup.title.text.split(' - ')[0].lstrip()\n",
    "    \n",
    "    # Chapters\n",
    "    Paragraphs = soup.find_all('p')\n",
    "    \n",
    "    for Para in Paragraphs:\n",
    "        try:\n",
    "            Chapter = Para.find_previous_sibling().find('h2').text\n",
    "            \n",
    "            # Clean text                  \n",
    "            for Remover in SourceRemover:\n",
    "                TextCleaned = re.sub(Remover, '', Para.text, flags=re.DOTALL)\n",
    "            TextCleaned = TextCleaned.replace('\\n', '') \n",
    "            \n",
    "            if Chapter == 'Identification':\n",
    "                DataBOW[BirdName].append(tuple([1, TextCleaned]))\n",
    "            else:\n",
    "                DataBOW[BirdName].append(tuple([0, TextCleaned]))\n",
    "        except:\n",
    "            continue"
   ]
  },
  {
   "cell_type": "code",
   "execution_count": 82,
   "id": "197ce4e8-c28a-4634-968d-de5d52a98327",
   "metadata": {},
   "outputs": [
    {
     "data": {
      "text/plain": [
       "825"
      ]
     },
     "execution_count": 82,
     "metadata": {},
     "output_type": "execute_result"
    }
   ],
   "source": [
    "len(DataBOW.keys())"
   ]
  },
  {
   "cell_type": "code",
   "execution_count": null,
   "id": "c443fe9f-955f-406c-9005-60c1e04c5716",
   "metadata": {},
   "outputs": [],
   "source": []
  }
 ],
 "metadata": {
  "kernelspec": {
   "display_name": "Python [conda env:eTaxonomist]",
   "language": "python",
   "name": "conda-env-eTaxonomist-py"
  },
  "language_info": {
   "codemirror_mode": {
    "name": "ipython",
    "version": 3
   },
   "file_extension": ".py",
   "mimetype": "text/x-python",
   "name": "python",
   "nbconvert_exporter": "python",
   "pygments_lexer": "ipython3",
   "version": "3.9.4"
  }
 },
 "nbformat": 4,
 "nbformat_minor": 5
}
