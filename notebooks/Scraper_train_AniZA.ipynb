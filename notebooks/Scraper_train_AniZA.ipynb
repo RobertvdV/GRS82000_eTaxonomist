{
 "cells": [
  {
   "cell_type": "code",
   "execution_count": 1,
   "id": "81530565-19c5-46e3-8a35-7a3e1ab842f8",
   "metadata": {},
   "outputs": [],
   "source": [
    "from bs4 import BeautifulSoup\n",
    "import requests\n",
    "import re\n",
    "import collections\n",
    "import pickle\n",
    "import time"
   ]
  },
  {
   "cell_type": "code",
   "execution_count": 25,
   "id": "edd79668-57ce-4b9d-b3b9-38330512659b",
   "metadata": {},
   "outputs": [],
   "source": [
    "# init dict\n",
    "Data = collections.defaultdict(list)"
   ]
  },
  {
   "cell_type": "code",
   "execution_count": 3,
   "id": "c3551733-1de6-40f2-98d8-333a2ee6ea0d",
   "metadata": {},
   "outputs": [],
   "source": [
    "URL = 'https://a-z-animals.com/animals/'\n",
    "page = requests.get(URL)\n",
    "soup = BeautifulSoup(page.content, 'html.parser')\n",
    "\n",
    "# Finds all links\n",
    "Animals = soup.find_all('a')\n",
    "\n",
    "# Create a list with links\n",
    "AnimalsA_Zpages = [pages.get('href') for pages in Animals \n",
    "                   if pages.get('href') != None\n",
    "                   if pages.get('href').startswith('https://a-z-animals.com')]"
   ]
  },
  {
   "cell_type": "code",
   "execution_count": 4,
   "id": "7d7023fc-ce7d-492f-8cc6-4ce6cdee9c6a",
   "metadata": {},
   "outputs": [
    {
     "data": {
      "text/plain": [
       "1070"
      ]
     },
     "execution_count": 4,
     "metadata": {},
     "output_type": "execute_result"
    }
   ],
   "source": [
    "len(AnimalsA_Zpages)"
   ]
  },
  {
   "cell_type": "code",
   "execution_count": 9,
   "id": "2854e86e-5dc7-4b01-a3ac-0cfe8ca7ad21",
   "metadata": {},
   "outputs": [],
   "source": [
    "# Removes references in text\n",
    "ReferenceRemover = '\\[\\d*\\]'\n",
    "\n",
    "InformationList = ['scientific name', 'habitat', 'behavior',\n",
    "                   'diet', 'predators and threats', 'reproduction, babies, and lifespan',\n",
    "                   'population']\n",
    "\n",
    "for AnimalPage in AnimalsA_Zpages:\n",
    "    \n",
    "    time.sleep(0.5)\n",
    "    \n",
    "    # Open the page\n",
    "    page = requests.get(AnimalPage, timeout=5)\n",
    "    soup = BeautifulSoup(page.content, 'html.parser')\n",
    "    \n",
    "\n",
    "\n",
    "    # Find species\n",
    "    Species = soup.find('h1').text\\\n",
    "                             .lower()\\\n",
    "                             .capitalize()\n",
    "    # Find all text\n",
    "    Paragraphs = soup.find_all('p')\n",
    "\n",
    "    # Loop over text\n",
    "    for Para in Paragraphs:\n",
    "\n",
    "        # Find Paragraph title\n",
    "        Chapter = Para.find_previous_sibling('h2')\n",
    "        if Chapter == None:\n",
    "            # Skip nonsense\n",
    "            continue\n",
    "        # Check if it is Appearance\n",
    "        elif Chapter.text.lower().replace(Species.lower()+' ', '') == 'appearance' or\\\n",
    "             Chapter.text.lower().replace(Species.lower()+'s ', '') == 'appearance':\n",
    "            # Remove references\n",
    "            Text = re.sub(ReferenceRemover, '', Para.text)\n",
    "            # Add to dict\n",
    "            Data[Species].append(tuple([1, Text]))\n",
    "\n",
    "        elif Chapter.text.lower().replace(Species.lower()+' ', '') in InformationList or\\\n",
    "             Chapter.text.lower().replace(Species.lower()+'s ', '') in InformationList:\n",
    "            # Remove references\n",
    "            Text = re.sub(ReferenceRemover, '', Para.text)\n",
    "            # Add to dict\n",
    "            Data[Species].append(tuple([0, Text]))\n",
    "        else:\n",
    "            continue\n",
    "        "
   ]
  },
  {
   "cell_type": "code",
   "execution_count": 10,
   "id": "99d17d2e-7735-409c-a411-09a03df65045",
   "metadata": {},
   "outputs": [],
   "source": [
    "with open('../data/processed/dataAZ_withMeasurements.pkl', 'wb') as f:\n",
    "    pickle.dump(Data, f)"
   ]
  },
  {
   "cell_type": "code",
   "execution_count": 13,
   "id": "ff4c4b05-89f1-4269-903d-cfd229743a4c",
   "metadata": {},
   "outputs": [
    {
     "data": {
      "text/plain": [
       "dict_keys(['Aardvark', 'African bullfrog', 'African civet', 'African clawed frog', 'African forest elephant', 'African palm civet', 'African penguin', 'African tree toad', 'African wild dog', 'Alaskan malamute', 'Albacore tuna', 'Albatross', 'Aldabra giant tortoise', 'Alligator', 'Alligator gar', 'Alpaca', 'Alpine goat', 'American pygmy goat', 'American toad', 'Amur leopard', 'Anchovies', 'Angelfish', 'Angora goat', 'Anteater', 'Antelope', 'Arctic fox', 'Arctic hare', 'Arctic wolf', 'Asian giant hornet', 'Asian palm civet', 'Asiatic black bear', 'Avocet', 'Axolotl', 'Aye aye', 'Baboon', 'Bactrian camel', 'Badger', 'Baiji', 'Banded palm civet', 'Bandicoot', 'Banjo catfish', 'Barn owl', 'Barracuda', 'Basking shark', 'Bat', 'Bear', 'Bearded dragon', 'Bengal tiger', 'Binturong', 'Bird of paradise', 'Black rhinoceros', 'Black widow spider', 'Black-footed ferret', 'Blue whale', 'Bongo', 'Borneo elephant', 'Bottlenose dolphin', 'Brown bear', 'Buffalo', 'Bullfrog', 'Bumblebee', 'Burmese python', 'Bush baby', 'Butterfly fish', 'Caiman', 'Camel', 'Camel spider', 'Canadian horse', 'Caracal', 'Cassowary', 'Chamois', 'Cheetah', 'Chicken', 'Chimaera', 'Chimpanzee', 'Chinstrap penguin', 'Chipmunk', 'Clouded leopard', 'Clownfish', 'Coati', 'Codfish', 'Colossal squid', 'Common buzzard', 'Common frog', 'Common loon', 'Common toad', 'Cookiecutter shark', 'Cooper’s hawk', 'Cougar', 'Cow', 'Crab', 'Crab-eating macaque', 'Crested penguin', 'Crocodile', 'Cross river gorilla', 'Cuscus', 'Cuttlefish', 'Darwin’s frog', 'Deer', 'Desert rain frog', 'Dhole', 'Dodo', 'Donkey', 'Dormouse', 'Drum fish', 'Duck', 'Dugong', 'Dusky dolphin', 'Eagle', 'Eastern bluebird', 'Eastern lowland gorilla', 'Eastern phoebe', 'Echidna', 'Edible frog', 'Elephant', 'Elephant seal', 'Emperor penguin', 'Emperor tamarin', 'Emu', 'Ermine', 'Falcon', 'Fallow deer', 'Fangtooth', 'Fennec fox', 'Ferret', 'Fin whale', 'Fire-bellied toad', 'Fisher cat', 'Fishing cat', 'Flamingo', 'Flounder', 'Flying lemur', 'Flying squirrel', 'Fossa', 'Frigatebird', 'Frog', 'Fruit bat', 'Fur seal', 'Galapagos tortoise', 'Gecko', 'Gentoo penguin', 'Gharial', 'Giant african land snail', 'Giant armadillo', 'Giant clam', 'Giant panda bear', 'Giant salamander', 'Gibbon', 'Giraffe', 'Glass frog', 'Goat', 'Goblin shark', 'Golden masked owl', 'Golden oriole', 'Golden-crowned flying fox', 'Goose', 'Gopher', 'Gouldian finch', 'Green frog', 'Grizzly bear', 'Guinea fowl', 'Guppy', 'Hagfish', 'Hammerhead shark', 'Hamster', 'Hare', 'Harpy eagle', 'Hedgehog', 'Heron', 'Herring', 'Highland cattle', 'Hippopotamus', 'Hoopoe', 'Horned frog', 'Horned lizard', 'Horse', 'Horsefly', 'Hummingbird', 'Humpback whale', 'Hyena', 'Ibis', 'Iguana', 'Immortal jellyfish', 'Impala', 'Indian elephant', 'Indian star tortoise', 'Indochinese tiger', 'Indri', 'Jackal', 'Jaguar', 'Japanese macaque', 'Japanese squirrel', 'Javan rhinoceros', 'Jellyfish', 'Jerboa', 'Kakapo', 'Kangaroo', 'Kangaroo rat', 'Keel-billed toucan', 'Killer whale', 'King crab', 'Komodo dragon', 'Kudu', 'Leaf-tailed gecko', 'Lemming', 'Leopard', 'Leopard cat', 'Leopard frog', 'Leopard seal', 'Leopard tortoise', 'Liger', 'Lion', 'Lionfish', 'Little penguin', 'Lizard', 'Llama', 'Loach', 'Long-eared owl', 'Lorikeet', 'Lynx', 'Magpie', 'Malayan tiger', 'Manatee', 'Manta ray', 'Markhor', 'Marmot', 'Marsh frog', 'Masked palm civet', 'Mayfly', 'Meerkat', 'Mole', 'Monarch butterfly', 'Monitor lizard', 'Monkey', 'Moorhen', 'Moray eel', 'Moth', 'Mountain lion', 'Mouse', 'Mudpuppy', 'Mule', 'Muskrat', 'Narwhal', 'Neanderthal', 'Newt', 'Nigerian goat', 'Nightingale', 'Nile crocodile', 'Nubian goat', 'Numbat', 'Nurse shark', 'Okapi', 'Opossum', 'Orang-utan', 'Ostrich', 'Otter', 'Oyster', 'Pademelon', 'Pangolin', 'Panther', 'Parrot', 'Peacock', 'Pelican', 'Penguin', 'Peregrine falcon', 'Pheasant', 'Pig', 'Pika', 'Poison dart frog', 'Polar bear', 'Porcupine', 'Porpoise', 'Possum', 'Prairie rattlesnake', 'Prawn', 'Proboscis monkey', 'Puma', 'Pygmy marmoset', 'Quail', 'Quetzal', 'Quokka', 'Quoll', 'Rabbit', 'Raccoon', 'Raccoon dog', 'Radiated tortoise', 'Rat', 'Rattlesnake', 'Red finch', 'Red-handed tamarin', 'Red-winged blackbird', 'Rhinoceros', 'River turtle', 'Rockhopper penguin', 'Rose-breasted grosbeak', 'Royal penguin', 'Saber-toothed tiger', 'Salamander', 'Sand tiger shark', 'Scarlet macaw', 'Scimitar-horned oryx', 'Scorpion fish', 'Sea dragon', 'Sea lion', 'Sea otter', 'Sea slug', 'Sea turtle', 'Senegal parrot', 'Shark', 'Sheep', 'Shoebill stork', 'Siamese fighting fish', 'Sloth', 'Snake', 'Snapping turtle', 'Snowy owl', 'South china tiger', 'Spadefoot toad', 'Sparrow', 'Spectacled bear', 'Sperm whale', 'Spiny dogfish', 'Squid', 'Squirrel', 'Squirrel monkey', 'Sri lankan elephant', 'Star-nosed mole', 'Starfish', 'Steller’s sea cow', 'Stoat', 'Sugar glider', 'Sumatran elephant', 'Sumatran tiger', 'Sun bear', 'Swan', 'Tapanuli orang-utan', 'Tapir', 'Tarpon', 'Tasmanian devil', 'Tawny owl', 'Termite', 'Thorny devil', 'Tibetan fox', 'Tiger', 'Tiger salamander', 'Tortoise', 'Tree swallow', 'Tropicbird', 'Tuatara', 'Tuna', 'Umbrellabird', 'Vampire bat', 'Vampire squid', 'Vaquita', 'Vervet monkey', 'Vulture', 'Wallaby', 'Walleye fish', 'Walrus', 'Water vole', 'Western lowland gorilla', 'Whale shark', 'White tiger', 'White-faced capuchin', 'Wild boar', 'Wolf', 'Wolverine', 'Wood frog', 'Wood turtle', 'Woodpecker', 'Wrasse', 'X-ray tetra', 'Xerus', 'Yak', 'Yellow-eyed penguin', 'Yellowfin tuna', 'Zebra', 'Zebra shark', 'Zebu', 'Zorse', 'Galapagos Tortoise'])"
      ]
     },
     "execution_count": 13,
     "metadata": {},
     "output_type": "execute_result"
    }
   ],
   "source": [
    "Data.keys()"
   ]
  },
  {
   "cell_type": "code",
   "execution_count": 16,
   "id": "b1c31448-3646-4ad5-b122-93ac7295085c",
   "metadata": {},
   "outputs": [
    {
     "data": {
      "text/plain": [
       "[(1,\n",
       "  'This popular gamefish grows to an average size of about six feet long and roughly 100 pounds. The largest recorded catch, the current IGFA world record, was for an Atlantic tarpon weighing 286 pounds, 9 ounces. From above, the fish may appear to be dark-blue, greenish-black, or even brassy in color. Large scales coat their sides, and they feature a bright, shiny color that makes the fish flash and shine in the sunlight.'),\n",
       " (1,\n",
       "  'Related to bonefish and ladyfish, these fish have a long body with large pelvic fins and long pectoral fins. A long, bony plate extends along its upturned lower jaw, allowing it to crush prey when necessary. Its mouth is filled with fine, densely packed teeth that aren’t very sharp. Since their teeth aren’t great for tearing or chewing, tarpons generally swallow their prey whole when feeding.')]"
      ]
     },
     "execution_count": 16,
     "metadata": {},
     "output_type": "execute_result"
    }
   ],
   "source": [
    "Data['Tarpon']"
   ]
  },
  {
   "cell_type": "code",
   "execution_count": 17,
   "id": "6f2e9c0f-7ba2-4f91-a61e-96838f1367de",
   "metadata": {},
   "outputs": [
    {
     "data": {
      "text/plain": [
       "919"
      ]
     },
     "execution_count": 17,
     "metadata": {},
     "output_type": "execute_result"
    }
   ],
   "source": [
    "AnimalsA_Zpages.index('https://a-z-animals.com/animals/tarpon/')"
   ]
  },
  {
   "cell_type": "code",
   "execution_count": 43,
   "id": "c8fead9e-36f6-4aa0-8f15-b1f64cd92b14",
   "metadata": {},
   "outputs": [],
   "source": [
    "# Removes references in text\n",
    "ReferenceRemover = '\\[\\d*\\]'\n",
    "\n",
    "InformationList = ['scientific name', 'habitat', 'behavior', 'Distribution, Population and Habitat'\n",
    "                   'diet', 'predators and threats', 'reproduction, babies, and lifespan',\n",
    "                   'population', 'classification and scientific name', 'predators and prey']\n",
    "# Open the page\n",
    "page = requests.get(AnimalsA_Zpages[717], timeout=5)\n",
    "soup = BeautifulSoup(page.content, 'html.parser')\n",
    "\n",
    "\n",
    "\n",
    "# Find species\n",
    "Species = soup.find('h1').text\\\n",
    "                         .lower()\\\n",
    "                         .capitalize()\n",
    "# Find all text\n",
    "Paragraphs = soup.find_all('p')\n",
    "\n",
    "# Loop over text\n",
    "for Para in Paragraphs:\n",
    "\n",
    "    # Find Paragraph title\n",
    "    Chapter = Para.find_previous_sibling('h2')\n",
    "    if Chapter == None:\n",
    "        # Skip nonsense\n",
    "        continue\n",
    "    # Check if it is Appearance\n",
    "    elif Chapter.text.lower().replace(Species.lower()+' ', '') == 'appearance' or\\\n",
    "         Chapter.text.lower().replace(Species.lower()+'s ', '') == 'appearance':\n",
    "        # Remove references\n",
    "        Text = re.sub(ReferenceRemover, '', Para.text)\n",
    "        # Add to dict\n",
    "        Data[Species].append(tuple([1, Text]))\n",
    "\n",
    "    elif Chapter.text.lower().replace(Species.lower()+' ', '') in InformationList or\\\n",
    "         Chapter.text.lower().replace(Species.lower()+' ', '') in InformationList:\n",
    "        # Remove references\n",
    "        Text = re.sub(ReferenceRemover, '', Para.text)\n",
    "        # Add to dict\n",
    "        Data[Species].append(tuple([0, Text]))\n",
    "    else:\n",
    "        continue"
   ]
  },
  {
   "cell_type": "code",
   "execution_count": 44,
   "id": "d2dda04f-dfe8-401f-a7ea-edcef51b0299",
   "metadata": {},
   "outputs": [
    {
     "data": {
      "text/plain": [
       "<h2 id=\"h-pike-the-fish-s-reproduction-and-lifespan\">Pike: The Fish’s Reproduction and Lifespan</h2>"
      ]
     },
     "execution_count": 44,
     "metadata": {},
     "output_type": "execute_result"
    }
   ],
   "source": [
    "Paragraphs[14].find_previous_sibling('h2')"
   ]
  },
  {
   "cell_type": "code",
   "execution_count": 32,
   "id": "179f370b-eb6c-4da6-ac42-da1578cf9e71",
   "metadata": {},
   "outputs": [
    {
     "data": {
      "text/plain": [
       "'classification and scientific name'"
      ]
     },
     "execution_count": 32,
     "metadata": {},
     "output_type": "execute_result"
    }
   ],
   "source": [
    "Chapter.text.lower().replace(Species.lower()+' ', '') "
   ]
  },
  {
   "cell_type": "code",
   "execution_count": 45,
   "id": "d1e4ddad-f989-4204-b873-bbb26e10cc09",
   "metadata": {},
   "outputs": [
    {
     "name": "stdout",
     "output_type": "stream",
     "text": [
      "Pike Fish Scientific Classification\n",
      "Pike Fish Conservation Status\n",
      "Pike Fish Locations\n",
      "Pike Fish Facts\n",
      "Pike Fish Physical Characteristics\n",
      "Pike Fish Images\n",
      "An Incredible Fish: 4 Pike Facts\n",
      "Pike Classification and Scientific Name\n",
      "Pike Species\n",
      "Pike: The Fish’s Appearance\n",
      "Pike Distribution, Population, and Habitat\n",
      "Pike Predators and Prey\n",
      "Pike: The Fish’s Reproduction and Lifespan\n",
      "Pike in Fishing and Cooking\n",
      "Pike Fish FAQs (Frequently Asked Questions) \n",
      " Latest Product Reviews\n",
      " Latest Animal Blogs\n",
      " Newly Added Animals\n",
      " Most Recently Updated Animals\n",
      "Best Dog Sprinkler: Reviewed for 2021\n",
      "Lambs vs Sheep — 5 Major Differences Explained\n"
     ]
    }
   ],
   "source": [
    "for i in soup.find_all('h2'):\n",
    "    print(i.text)"
   ]
  },
  {
   "cell_type": "code",
   "execution_count": 39,
   "id": "a2a87307-8c7d-4e35-926b-a683cd5227e2",
   "metadata": {},
   "outputs": [
    {
     "data": {
      "text/plain": [
       "'https://a-z-animals.com/animals/saiga/'"
      ]
     },
     "execution_count": 39,
     "metadata": {},
     "output_type": "execute_result"
    }
   ],
   "source": [
    "AnimalsA_Zpages[800]"
   ]
  },
  {
   "cell_type": "code",
   "execution_count": null,
   "id": "e659d1af-f465-407e-9a94-701da2c82753",
   "metadata": {},
   "outputs": [],
   "source": []
  }
 ],
 "metadata": {
  "kernelspec": {
   "display_name": "Python [conda env:eTaxonomist]",
   "language": "python",
   "name": "conda-env-eTaxonomist-py"
  },
  "language_info": {
   "codemirror_mode": {
    "name": "ipython",
    "version": 3
   },
   "file_extension": ".py",
   "mimetype": "text/x-python",
   "name": "python",
   "nbconvert_exporter": "python",
   "pygments_lexer": "ipython3",
   "version": "3.9.4"
  }
 },
 "nbformat": 4,
 "nbformat_minor": 5
}
