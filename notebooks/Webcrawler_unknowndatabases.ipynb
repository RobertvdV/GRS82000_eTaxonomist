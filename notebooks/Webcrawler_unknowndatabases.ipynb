{
 "cells": [
  {
   "cell_type": "code",
   "execution_count": 1,
   "id": "98d8c621-da83-4acb-a503-f3fe96e331c8",
   "metadata": {},
   "outputs": [
    {
     "name": "stderr",
     "output_type": "stream",
     "text": [
      "Some weights of the model checkpoint at distilbert-base-uncased were not used when initializing DistilBertModel: ['vocab_projector.weight', 'vocab_transform.bias', 'vocab_transform.weight', 'vocab_projector.bias', 'vocab_layer_norm.weight', 'vocab_layer_norm.bias']\n",
      "- This IS expected if you are initializing DistilBertModel from the checkpoint of a model trained on another task or with another architecture (e.g. initializing a BertForSequenceClassification model from a BertForPreTraining model).\n",
      "- This IS NOT expected if you are initializing DistilBertModel from the checkpoint of a model that you expect to be exactly identical (initializing a BertForSequenceClassification model from a BertForSequenceClassification model).\n"
     ]
    }
   ],
   "source": [
    "import numpy as np\n",
    "import pickle\n",
    "from tqdm import tqdm\n",
    "import re\n",
    "import collections\n",
    "import glob\n",
    "from transformers import DistilBertTokenizer, DistilBertModel\n",
    "import sys\n",
    "import time\n",
    "import requests\n",
    "from IPython.display import display, HTML\n",
    "from selenium import webdriver\n",
    "from selenium.webdriver.support.ui import WebDriverWait\n",
    "from selenium.webdriver.support import expected_conditions as EC\n",
    "from bs4 import BeautifulSoup\n",
    "\n",
    "sys.path.insert(0, '../src/models/')\n",
    "sys.path.insert(0, '../src/features/')\n",
    "\n",
    "from predict_model import loadBERT\n",
    "from predict_model import SpanPredictor as classify\n",
    "from build_features import text_cleaner, DuckDuckGo_Java, Bing_HTML, colorize_prediction\n",
    "\n",
    "%matplotlib inline"
   ]
  },
  {
   "cell_type": "markdown",
   "id": "8269ebad-b36b-47cd-a3c3-6f0576657f7b",
   "metadata": {},
   "source": [
    "## Load models"
   ]
  },
  {
   "cell_type": "code",
   "execution_count": 2,
   "id": "b47e5a37-6744-4ca8-9e51-886632e68513",
   "metadata": {},
   "outputs": [
    {
     "name": "stdout",
     "output_type": "stream",
     "text": [
      "CPU Success\n"
     ]
    }
   ],
   "source": [
    "model = loadBERT(\"../models/\", 'saved_weights_inf_FIXED_boot_beta80.pt')\n",
    "tokenizer = DistilBertTokenizer.from_pretrained('distilbert-base-uncased')"
   ]
  },
  {
   "cell_type": "markdown",
   "id": "b212f514-bb18-4ecc-a65e-bc924bc893ab",
   "metadata": {},
   "source": [
    "## Load the species list"
   ]
  },
  {
   "cell_type": "code",
   "execution_count": 3,
   "id": "6466d2fe-9540-4eb2-89f2-dd496273c518",
   "metadata": {},
   "outputs": [],
   "source": [
    "plants_dict = collections.defaultdict(list)\n",
    "root = '../data/processed/'\n",
    "# Load the pickle list\n",
    "data_files = glob.glob(root+ 'description*PLANTS.pkl')\n",
    "for data_file in data_files:\n",
    "    dict_ = pickle.load(open(data_file, 'rb'))\n",
    "    for key, value in dict_.items():\n",
    "        plants_dict[key] += value\n",
    "    \n",
    "\n",
    "# Order the dictionary based on the list length\n",
    "plants_dict = collections.OrderedDict(sorted(plants_dict.items(), key= lambda x: len(x[1]), reverse=True))\n",
    "# Correct first key\n",
    "plants_dict['Poa'] = plants_dict.pop('oa')\n",
    "# Get keys\n",
    "plants = [key for key in plants_dict.keys()]"
   ]
  },
  {
   "cell_type": "code",
   "execution_count": null,
   "id": "9ed165e5-c76c-48b8-aa02-939751eed9d2",
   "metadata": {},
   "outputs": [],
   "source": [
    "len(plants_dict.keys())"
   ]
  },
  {
   "cell_type": "markdown",
   "id": "3052353f-ee0d-4b11-b822-07caaee3b6b8",
   "metadata": {},
   "source": [
    "## Iterate Species"
   ]
  },
  {
   "cell_type": "code",
   "execution_count": null,
   "id": "6ed355eb-5194-404f-b6d8-724048698ea7",
   "metadata": {},
   "outputs": [
    {
     "name": "stderr",
     "output_type": "stream",
     "text": [
      "  0%|                                                   | 0/500 [00:00<?, ?it/s]"
     ]
    }
   ],
   "source": [
    "# Init dict\n",
    "data = collections.defaultdict(list)\n",
    "data.update(plants_dict)\n",
    "# DEBUGGING\n",
    "data_links = collections.defaultdict(list)\n",
    "# Init driver\n",
    "driver = webdriver.Safari()\n",
    "\n",
    "queries = ['description', 'diagnosis', '', 'attributes', 'captions']\n",
    "\n",
    "for species in tqdm(plants[500:1000]):\n",
    "    # Empty list\n",
    "    search_links = []\n",
    "    \n",
    "    for query in queries:\n",
    "        # create query\n",
    "        species_q = species.replace(' ', '+')\n",
    "        species_q = f'\"{species_q}\"+{query}'\n",
    "        try:\n",
    "            search_links += DuckDuckGo_Java(species_q, \n",
    "                                            driver=driver)\n",
    "            search_links += Bing_HTML(species_q)\n",
    "         # Skip connection timeout\n",
    "        except:\n",
    "            continue\n",
    "    # Drop duplicates\n",
    "    search_links = list(set(search_links))\n",
    "    # DEBUGGING\n",
    "    data_links[species] += search_links\n",
    "    # Loop over the URLs\n",
    "    for URL in search_links:\n",
    "        # Skip google archives\n",
    "        if 'google' in URL:\n",
    "            continue\n",
    "        # PDF and TXT\n",
    "        if URL.endswith('txt') or URL.endswith('pdf'):\n",
    "            continue\n",
    "        # Skip Plants of the world (already done)\n",
    "        if 'powo' in URL:\n",
    "            continue\n",
    "        try:\n",
    "            page = requests.get(URL, timeout=5)\n",
    "            # Skip PDF files for now\n",
    "            if page.headers['Content-Type'].startswith('application/pdf'):\n",
    "                continue\n",
    "            # Soup the result\n",
    "            soup = BeautifulSoup(page.content, 'html.parser', from_encoding=\"iso-8859-1\")    \n",
    "            # Skip Embedded PDF's\n",
    "            if 'pdf' in soup.title.text.lower():\n",
    "                continue\n",
    "            # Check if species exists somewhere within title\n",
    "            if bool(set(species.split()).intersection(soup.title.text.split())):\n",
    "                # Get text\n",
    "                #dirty_text = soup.get_text(\". \", strip=True)\n",
    "                dirty_text = soup.get_text(\" \", strip=False).replace('\\n', '.')\n",
    "                # Clean and break into sents\n",
    "                sentences = text_cleaner(dirty_text)\n",
    "                # Loop over the individual sentences\n",
    "                for sentence in sentences:                    \n",
    "                    # Create string object\n",
    "                    sentence_str = str(sentence)\n",
    "                    # Check if description\n",
    "                    if classify(sentence_str, model=model):\n",
    "                        data[species].append((sentence_str, URL))\n",
    "                        # Drop duplicates\n",
    "                        data[species] = list(set(data[species]))\n",
    "        except: \n",
    "            continue\n",
    "            \n",
    "driver.quit()"
   ]
  },
  {
   "cell_type": "code",
   "execution_count": 6,
   "id": "475018a1-fa0b-4f31-a175-083464b99650",
   "metadata": {},
   "outputs": [],
   "source": [
    "# Dump pickle into file\n",
    "with open('../data/description/03_descriptions_500-1000.pkl', 'wb') as f:\n",
    "    pickle.dump(data, f)"
   ]
  },
  {
   "cell_type": "code",
   "execution_count": null,
   "id": "b6664de7-ec74-4a04-9e8d-98b81c5bf0de",
   "metadata": {},
   "outputs": [],
   "source": []
  },
  {
   "cell_type": "code",
   "execution_count": null,
   "id": "370971e2-3c91-4c5c-8b8a-251ab6ae5c62",
   "metadata": {},
   "outputs": [],
   "source": []
  },
  {
   "cell_type": "code",
   "execution_count": null,
   "id": "7d009451-3a00-4c58-b8f7-699dd81d1cdf",
   "metadata": {},
   "outputs": [],
   "source": []
  },
  {
   "cell_type": "code",
   "execution_count": null,
   "id": "375dcfbc-1103-40a3-9c87-908e68d6862c",
   "metadata": {},
   "outputs": [],
   "source": []
  },
  {
   "cell_type": "code",
   "execution_count": null,
   "id": "38b3eeb9-fe55-408c-b345-ce69934542d9",
   "metadata": {},
   "outputs": [],
   "source": [
    "import matplotlib.pyplot as plt\n",
    "import seaborn as sns"
   ]
  },
  {
   "cell_type": "code",
   "execution_count": null,
   "id": "aa45fd34-2ef2-4f2c-83ef-4e8507b819f7",
   "metadata": {},
   "outputs": [],
   "source": [
    "# Change this to the dissimilar in future\n",
    "counts = [len(sents) for key, sents in data.items()]"
   ]
  },
  {
   "cell_type": "code",
   "execution_count": null,
   "id": "7177684c-5fd8-4f14-a176-687ffc111398",
   "metadata": {},
   "outputs": [],
   "source": [
    "len(counts)"
   ]
  },
  {
   "cell_type": "code",
   "execution_count": null,
   "id": "8a13de5e-aa3f-4044-ae13-b9943897f277",
   "metadata": {},
   "outputs": [],
   "source": [
    "fig, ax = plt.subplots(figsize=(10, 6))\n",
    "sns.set_style('whitegrid')\n",
    "ax = sns.histplot(counts, bins=50)\n",
    "ax.set_title('Histogram')\n",
    "#plt.xlim(0, 300)"
   ]
  },
  {
   "cell_type": "code",
   "execution_count": null,
   "id": "93a7739d-0de4-4298-8a64-ff5fbbf71afb",
   "metadata": {},
   "outputs": [],
   "source": []
  },
  {
   "cell_type": "code",
   "execution_count": null,
   "id": "c4c916cb-4bf7-44e5-924a-d20c019c7b08",
   "metadata": {},
   "outputs": [],
   "source": [
    "html = colorize_prediction(\n",
    "    ['Something about a bird or plant',\n",
    "     'The bill and the legs are both black.',\n",
    "     'The house is large with enormous windows.',\n",
    "     'This is something random, but the sexes are similar.',\n",
    "     'Nuclear power might solve the energy power.',\n",
    "     'The tree has a brown bark and the leaves are pointed',\n",
    "     'By growing in shaded places, the plant reduces evaporation.',\n",
    "     '3 cm seeds.'],\n",
    "model=model)"
   ]
  },
  {
   "cell_type": "code",
   "execution_count": null,
   "id": "82266e27-d158-4f84-8ae4-e8b112e81afa",
   "metadata": {},
   "outputs": [],
   "source": [
    "display(HTML(html))"
   ]
  },
  {
   "cell_type": "code",
   "execution_count": null,
   "id": "3fe23cc7-8515-4521-b012-72a8107fd12d",
   "metadata": {},
   "outputs": [],
   "source": [
    "Html_file= open(\"test\",\"w\")\n",
    "Html_file.write(xxx)\n",
    "Html_file.close()"
   ]
  },
  {
   "cell_type": "code",
   "execution_count": null,
   "id": "b7182328-f35b-4bbf-9b5e-2bac7ef23b4f",
   "metadata": {},
   "outputs": [],
   "source": [
    "xxx= html.replace('\\n', '')"
   ]
  },
  {
   "cell_type": "code",
   "execution_count": null,
   "id": "6c72844a-c3c2-4f20-b352-9ca7d391f57b",
   "metadata": {},
   "outputs": [],
   "source": [
    "URL = \"https://www.beautyofbirds.com/europeanrobins.html\"\n",
    "page = requests.get(URL, timeout=5)\n",
    "soup = BeautifulSoup(page.content, 'html.parser')  \n",
    "dirty_text = soup.get_text(\" \", strip=False).replace('\\n', '.')\n",
    "sents = text_cleaner(dirty_text)"
   ]
  },
  {
   "cell_type": "code",
   "execution_count": null,
   "id": "10aa2194-889a-4cdb-87cb-050a1243d738",
   "metadata": {},
   "outputs": [],
   "source": [
    "html = colorize_prediction(sents[0:5], model=model)"
   ]
  },
  {
   "cell_type": "code",
   "execution_count": null,
   "id": "245fb1cc-84dd-4eb2-bc39-040addcd2312",
   "metadata": {},
   "outputs": [],
   "source": [
    "dirty_text = \"\"\"\n",
    "The red cotton tree (Bombax ceiba) is a medium- to large-sized tropical tree that usually grows to an average of 20-25 meters, with old trees up to 60 meters in wet tropical weather. It has a straight tall trunk buttressed at base that bears conical spines to deter animal attacks. Its leaves are deciduous in winter. Crimson red flowers with five petals appear in the spring before the new foliage and are one reason that the tree is widely planted. It produces a capsule which, when ripe, contains white fibres, like cotton, which has been used as a substitute for cotton (hence its common name). \n",
    "\"\"\""
   ]
  },
  {
   "cell_type": "code",
   "execution_count": null,
   "id": "1d39866a-199e-4337-99cf-532201a78218",
   "metadata": {},
   "outputs": [],
   "source": [
    "sents = text_cleaner(dirty_text)\n",
    "html = colorize_prediction(sents, model=model, tex=True)\n",
    "display(HTML(html))"
   ]
  },
  {
   "cell_type": "code",
   "execution_count": null,
   "id": "f0fc764c-d7eb-40eb-9e15-cd89ee0f28ab",
   "metadata": {},
   "outputs": [],
   "source": [
    "html = html.replace('\\n', '')"
   ]
  },
  {
   "cell_type": "code",
   "execution_count": null,
   "id": "225be396-aa4e-4493-8390-8f97048a3534",
   "metadata": {},
   "outputs": [],
   "source": [
    "Html_file = open(\"web_crawler_example\",\"w\")\n",
    "Html_file.write(html)\n",
    "Html_file.close()"
   ]
  },
  {
   "cell_type": "code",
   "execution_count": null,
   "id": "7266f9df-bf65-49aa-8281-46cd58c7112f",
   "metadata": {},
   "outputs": [],
   "source": [
    "test = \"\"\"\n",
    "Large-billed Flycatcher is most similar to Hill Blue Flycatcher in plumage coloration, but has paler orange throat more contrasting with breast (16). Structural differences include the larger, strongly hook-tipped and broader bill, slightly larger size (11), longer primary projection (10), paler legs, and proportionally shorter tail and legs than Hill Blue Flycatcher (9, 17). Juvenile Large Blue Flycatcher is said to have more colorful upperparts (18). Males of most Chinese Blue Flycatchers and some Blue-throated Flycatcher have distinctly narrower orange-rufous wedge extending up to the dark blue throat and blue across upper throat below jaw-level (7), but the orange notch on throat is often wide and extending up to chin (17).\n",
    "\n",
    "Male Tickell’s Blue Flycatcher (C. tickelliae) and Indochinese Blue Flycatcher (C. tickelliae) are slightly paler overall, with blue of upperparts not as deep (11) and much less contrasting bright frontal band and carpus edge. Females of both species differ in having bluish-tinged upperparts, albeit often barely perceivable in northern subspecies of Indochinese Blue Flycatcher (C. t. indochina), and markedly blue rump and uppertail, not strongly rufescent as in Hill Blue Flycatcher (19). Note that female Hill Blue Flycatcher occasionally possesses bluish upperparts and rump (19, 7), but it still features more intense rufous orange throat and breast. Indochinese Blue Flycatcher is diagnostic in having a consistently sharp demarcation between orange upper breast and clean white rest of underparts, without any orange on flanks (20, 21, 19).\n",
    "\"\"\""
   ]
  },
  {
   "cell_type": "code",
   "execution_count": null,
   "id": "5ea545df-e831-4525-9e55-74be049e1b8f",
   "metadata": {},
   "outputs": [],
   "source": [
    "text_cleaner(test)"
   ]
  },
  {
   "cell_type": "code",
   "execution_count": null,
   "id": "cafb338f-f9d3-42f4-9014-57f797027866",
   "metadata": {},
   "outputs": [],
   "source": []
  }
 ],
 "metadata": {
  "kernelspec": {
   "display_name": "Python [conda env:DL]",
   "language": "python",
   "name": "conda-env-DL-py"
  },
  "language_info": {
   "codemirror_mode": {
    "name": "ipython",
    "version": 3
   },
   "file_extension": ".py",
   "mimetype": "text/x-python",
   "name": "python",
   "nbconvert_exporter": "python",
   "pygments_lexer": "ipython3",
   "version": "3.8.10"
  }
 },
 "nbformat": 4,
 "nbformat_minor": 5
}
