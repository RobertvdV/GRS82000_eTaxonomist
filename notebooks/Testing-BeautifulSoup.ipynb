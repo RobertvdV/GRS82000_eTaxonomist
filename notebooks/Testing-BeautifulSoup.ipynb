{
 "cells": [
  {
   "cell_type": "code",
   "execution_count": 1,
   "metadata": {},
   "outputs": [],
   "source": [
    "from bs4 import BeautifulSoup\n",
    "import requests\n",
    "import re\n",
    "import pandas as pd"
   ]
  },
  {
   "cell_type": "code",
   "execution_count": 2,
   "metadata": {},
   "outputs": [],
   "source": [
    "# URL for database\n",
    "#URL = 'https://en.wikipedia.org/wiki/List_of_birds_of_the_Netherlands'\n",
    "#URL = 'https://en.wikipedia.org/wiki/List_of_mammals_of_the_Netherlands'\n",
    "URL = 'https://en.wikipedia.org/wiki/List_of_mammals_of_Europe'\n",
    "page = requests.get(URL)\n",
    "soup = BeautifulSoup(page.content, 'html.parser')\n",
    "\n",
    "# Find all wikiparts\n",
    "Animals = soup.find_all('a')\n",
    "# Create links \n",
    "AnimalsWikiPages = ['https://en.wikipedia.org/' + pages.get('href') for pages in Animals \n",
    "                       if pages.get('href') != None \n",
    "                       if pages.get('href').startswith('/wiki/')]\n",
    "                       # Reduces the retrieved pages (does not work)\n",
    "                       #if pages.span != None \n",
    "                       #if pages.span.attrs['class'][0] == 'tocnumber']"
   ]
  },
  {
   "cell_type": "code",
   "execution_count": 3,
   "metadata": {},
   "outputs": [],
   "source": [
    "DescriptionData = {}\n",
    "NonDescriptionData = {}\n",
    "\n",
    "# Removes references in text\n",
    "ReferenceRemover = '\\[\\d*\\]'\n",
    "\n",
    "for WikiPage in AnimalsWikiPages:\n",
    "    \n",
    "    # Open the page\n",
    "    page = requests.get(WikiPage, timeout=5)\n",
    "    soup = BeautifulSoup(page.content, 'html.parser')\n",
    "    \n",
    "    for Tags in soup.find_all('h2'):\n",
    "        \n",
    "        # Skip useless/empty stuff\n",
    "        if Tags.span == None:\n",
    "            continue\n",
    "        \n",
    "        # Set chapter variable    \n",
    "        Chapter = Tags.span.attrs['id']\n",
    "        \n",
    "        # Check if the chapter is description (or similar)\n",
    "        if Chapter == 'Characteristics'or \\\n",
    "           Chapter == 'Description' or \\\n",
    "           Chapter == 'Appearance':\n",
    "            \n",
    "            \n",
    "            # Get species name\n",
    "            Species = soup.title\\\n",
    "                            .string.split(' - ')[0]\\\n",
    "                            .rstrip(' ')\n",
    "            \n",
    "            # Create list for key\n",
    "            DescriptionData[Species] = []\n",
    "\n",
    "            # Get the next sibling (text)\n",
    "            for Text in Tags.find_next_siblings('p'):\n",
    "                \n",
    "                # But only if chapter is still valid as previous sibling\n",
    "                if Chapter in Text.find_previous_siblings('h2')[0].text.strip():\n",
    "                    # Add the text to the dict, remove references\n",
    "                    DescriptionData[Species].append(re.sub(ReferenceRemover, '', Text.text))\n"
   ]
  },
  {
   "cell_type": "code",
   "execution_count": 18,
   "metadata": {},
   "outputs": [],
   "source": [
    "URL = 'https://en.wikipedia.org/wiki/Brown_bear'\n",
    "page = requests.get(URL)\n",
    "soup = BeautifulSoup(page.content, 'html.parser')\n",
    "\n",
    "DescriptionData = {}\n",
    "NonDescriptionData = {}\n",
    "\n",
    "# Removes references in text\n",
    "ReferenceRemover = '\\[\\d*\\]'\n",
    "\n",
    "for Tags in soup.find_all('h2'):\n",
    "\n",
    "    # Skip useless/empty stuff\n",
    "    if Tags.span == None:\n",
    "        continue\n",
    "\n",
    "    # Set chapter variable    \n",
    "    Chapter = Tags.span.attrs['id']\n",
    "\n",
    "    # Check if the chapter is description (or similar)\n",
    "    if Chapter == 'Characteristics'or \\\n",
    "       Chapter == 'Description' or \\\n",
    "       Chapter == 'Appearance':\n",
    "\n",
    "\n",
    "        # Get species name\n",
    "        Species = soup.title\\\n",
    "                        .string.split(' - ')[0]\\\n",
    "                        .rstrip(' ')\n",
    "\n",
    "        # Create list for key\n",
    "        DescriptionData[Species] = []\n",
    "        NonDescriptionData[Species] = []\n",
    "\n",
    "        # Get the next sibling (text)\n",
    "        for Text in Tags.find_next_siblings('p'):\n",
    "\n",
    "            # Add description data to dict\n",
    "            if Chapter in Text.find_previous_siblings('h2')[0].text.strip():\n",
    "                DescriptionData[Species].append(re.sub(ReferenceRemover, '', Text.text))\n",
    "                \n",
    "            # Add non description data to dict\n",
    "            elif Chapter not in Text.find_previous_siblings('h2')[0].text.strip():\n",
    "                 NonDescriptionData[Species].append(re.sub(ReferenceRemover, '', Text.text))"
   ]
  },
  {
   "cell_type": "code",
   "execution_count": 22,
   "metadata": {},
   "outputs": [
    {
     "data": {
      "text/plain": [
       "\"While the brown bear's range has shrunk and it has faced local extinctions, it remains listed as a Least concern species by the IUCN, with a total population of approximately 200,000. As of 2012[update], this and the American black bear are the only bear species not classified as threatened by the IUCN. However, the California grizzly bear, Ungavan brown bear, Atlas bear and Mexican grizzly bear, as well as brown bear populations in the Pacific Northwest, were hunted to extinction in the 19th and early 20th centuries and many of the southern Asian subspecies are highly endangered. The Syrian brown bear (Ursus arctos syriacus) is very rare and it has been extirpated from more than half of its historic range. One of the smallest-bodied subspecies, the Himalayan brown bear (Ursus arctos isabellinus), is critically endangered, occupying only 2% of its former range and threatened by uncontrolled poaching for its body parts. The Marsican brown bear in central Italy is believed to have a population of just 50–60 bears.\\n\""
      ]
     },
     "execution_count": 22,
     "metadata": {},
     "output_type": "execute_result"
    }
   ],
   "source": [
    "NonDescriptionData['Brown bear'][4]"
   ]
  },
  {
   "cell_type": "code",
   "execution_count": 5,
   "metadata": {},
   "outputs": [],
   "source": [
    "df = pd.DataFrame.from_dict(textContent, orient='index')"
   ]
  },
  {
   "cell_type": "code",
   "execution_count": 12,
   "metadata": {},
   "outputs": [
    {
     "data": {
      "text/plain": [
       "['The normal range of physical dimensions for a brown bear is a head-and-body length of 1.4 to 2.8\\xa0m (4\\xa0ft 7\\xa0in to 9\\xa0ft 2\\xa0in) and a shoulder height of 70 to 153\\xa0cm (2\\xa0ft 4\\xa0in to 5\\xa0ft 0\\xa0in)',\n",
       " 'The tail is relatively short, as in all bears, ranging from 6 to 22\\xa0cm (2.4 to 8.7\\xa0in) in length',\n",
       " 'The smallest brown bears, females during spring among barren-ground populations, can weigh so little as to roughly match the body mass of males of the smallest living bear species, the sun bear (Helarctos malayanus), while the largest coastal populations attain sizes broadly similar to those of the largest living bear species, the polar bear',\n",
       " 'Interior brown bears are generally smaller than is often perceived, being around the same weight as an average lion, at an estimate average of 180\\xa0kg (400\\xa0lb) in males and 135\\xa0kg (298\\xa0lb) in females, whereas adults of the coastal populations weigh about twice as much',\n",
       " 'The average weight of adult male bears from 19 populations, from around the world and various subspecies (including both large- and small-bodied subspecies), was found to be 217\\xa0kg (478\\xa0lb) while adult females from 24 populations were found to average 152\\xa0kg (335\\xa0lb).\\n']"
      ]
     },
     "execution_count": 12,
     "metadata": {},
     "output_type": "execute_result"
    }
   ],
   "source": [
    "df.loc['Brown bear', 1].split('. ')"
   ]
  },
  {
   "cell_type": "code",
   "execution_count": null,
   "metadata": {},
   "outputs": [],
   "source": [
    "df.to_pickle(\"df.pkl\")"
   ]
  },
  {
   "cell_type": "code",
   "execution_count": null,
   "metadata": {},
   "outputs": [],
   "source": []
  }
 ],
 "metadata": {
  "kernelspec": {
   "display_name": "Python 3",
   "language": "python",
   "name": "python3"
  },
  "language_info": {
   "codemirror_mode": {
    "name": "ipython",
    "version": 3
   },
   "file_extension": ".py",
   "mimetype": "text/x-python",
   "name": "python",
   "nbconvert_exporter": "python",
   "pygments_lexer": "ipython3",
   "version": "3.9.4"
  }
 },
 "nbformat": 4,
 "nbformat_minor": 4
}
