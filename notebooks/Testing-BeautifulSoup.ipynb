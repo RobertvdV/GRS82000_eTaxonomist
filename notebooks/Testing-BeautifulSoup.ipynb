{
 "cells": [
  {
   "cell_type": "code",
   "execution_count": 1,
   "metadata": {},
   "outputs": [],
   "source": [
    "from bs4 import BeautifulSoup\n",
    "import requests\n",
    "import re\n",
    "import pandas as pd"
   ]
  },
  {
   "cell_type": "code",
   "execution_count": 2,
   "metadata": {},
   "outputs": [],
   "source": [
    "# URL for database\n",
    "#URL = 'https://en.wikipedia.org/wiki/List_of_birds_of_the_Netherlands'\n",
    "URL = 'https://en.wikipedia.org/wiki/List_of_mammals_of_the_Netherlands'\n",
    "page = requests.get(URL)\n",
    "soup = BeautifulSoup(page.content, 'html.parser')\n",
    "\n",
    "# Find all wikiparts\n",
    "Animals = soup.find_all('a')\n",
    "# Create links \n",
    "AnimalsWikiPages = ['https://en.wikipedia.org/' + pages.get('href') for pages in Animals \n",
    "                       if pages.get('href') != None \n",
    "                       if pages.get('href').startswith('/wiki/')]"
   ]
  },
  {
   "cell_type": "code",
   "execution_count": 98,
   "metadata": {},
   "outputs": [],
   "source": [
    "URL = 'https://en.wikipedia.org/wiki/Hazel_dormouse'\n",
    "page = requests.get(URL)\n",
    "soup = BeautifulSoup(page.content, \"html.parser\")\n",
    "\n",
    "textContent = {}\n",
    "\n",
    "\n",
    "Species = soup.title\\\n",
    "                .string.split('-')[0]\\\n",
    "                .rstrip(' ')\n",
    "\n",
    "for Tags in soup.find_all('h2'):\n",
    "    #print(Tags)\n",
    "    # Get the chapters\n",
    "    Chapters = Tags.text.strip()\n",
    "    #print(Chapters)\n",
    "    # If chapter == description\n",
    "    if Chapters == 'Description[edit]' or \\\n",
    "        Chapters == 'Characteristics[edit]' or \\\n",
    "        Chapters == 'Appearance[edit]':\n",
    "        # Find the text\n",
    "        for Text in Tags.find_next_siblings('p'):\n",
    "            #print(Text)\n",
    "            if Chapters in Text.find_previous_siblings('h2')[0].text.strip():\n",
    "                textContent[Species] = Text.text.strip()"
   ]
  },
  {
   "cell_type": "code",
   "execution_count": 115,
   "metadata": {},
   "outputs": [
    {
     "data": {
      "text/plain": [
       "{'House mouse': ['House mice have an adult body length (nose to base of tail) of 7.5–10 centimetres (3–4\\xa0in) and a tail length of 5–10\\xa0cm (2–4\\xa0in). The weight is typically 40–45\\xa0g (1+3⁄8–1+5⁄8\\xa0oz). In the wild they vary in color from grey and light brown to black (individual hairs are actually agouti coloured), but domesticated fancy mice and laboratory mice are produced in many colors ranging from white to champagne to black.[4] They have short hair and some, but not all, sub-species have a light belly.[4] The ears and tail have little hair. The hind feet are short compared to Apodemus mice, only 15–19\\xa0mm (9⁄16–3⁄4\\xa0in) long; the normal gait is a run with a stride of about 4.5\\xa0cm (1+3⁄4\\xa0in), though they can jump vertically up to 45\\xa0cm (18\\xa0in).[5] The voice is a high-pitched squeak.[6][7] House mice thrive under a variety of conditions; they are found in and around homes and commercial structures, as well as in open fields and agricultural lands.\\n',\n",
       "  'Newborn males and females can be distinguished on close examination as the anogenital distance in males is about double that of the female.[8] From the age of about 10 days, females have five pairs of mammary glands and nipples; males have no nipples.[9] When sexually mature, the most striking and obvious difference is the presence of testicles on the males. These are large compared to the rest of the body and can be retracted into the body.\\n',\n",
       "  'The tail, which is used for balance,[10][11][12] has only a thin covering of hair as it is the main peripheral organ of heat loss in thermoregulation[11] along with—to a lesser extent—the hairless parts of the paws and ears. Blood flow to the tail can be precisely controlled in response to changes in ambient temperature using a system of arteriovenous anastomoses to increase the temperature of the skin on the tail by as much as 10\\xa0°C to lose body heat.[13] Tail length varies according to the environmental temperature of the mouse during postnatal development, so mice living in colder regions tend to have shorter tails.[4] The tail is also used for balance when the mouse is climbing or running, or as a base when the animal stands on its hind legs (a behaviour known as tripoding), and to convey information about the dominance status of an individual in encounters with other mice.[14]\\n',\n",
       "  'In addition to the regular pea-sized thymus organ in the chest, house mice have a second functional pinhead-sized thymus organ in the neck next to the trachea.[15]\\n']}"
      ]
     },
     "execution_count": 115,
     "metadata": {},
     "output_type": "execute_result"
    }
   ],
   "source": [
    "textContent"
   ]
  },
  {
   "cell_type": "code",
   "execution_count": null,
   "metadata": {},
   "outputs": [],
   "source": []
  },
  {
   "cell_type": "code",
   "execution_count": 118,
   "metadata": {},
   "outputs": [],
   "source": [
    "URL = 'https://en.wikipedia.org/wiki/Field_vole'\n",
    "page = requests.get(URL)\n",
    "soup = BeautifulSoup(page.content, \"html.parser\")\n",
    "\n",
    "Species = soup.title\\\n",
    "                .string.split('-')[0]\\\n",
    "                .rstrip(' ')\n",
    "\n",
    "textContent = {}\n",
    "textContent[Species] = []\n",
    "\n",
    "for Tags in soup.find_all('h2')[1:-1]:\n",
    "    # Set chapter variable\n",
    "    Chapter = Tags.span.attrs['id']\n",
    "    # Check if the chapter is description (or similar)\n",
    "    if Chapter == 'Characteristics'or \\\n",
    "       Chapter == 'Description' or \\\n",
    "       Chapter == 'Appearance':\n",
    "        \n",
    "        # Get the next sibling (text)\n",
    "        for Text in Tags.find_next_siblings('p'):\n",
    "            # But only if chapter is still valid as previous sibling\n",
    "            if Chapter in Text.find_previous_siblings('h2')[0].text.strip():\n",
    "                textContent[Species].append(Text.text)\n"
   ]
  },
  {
   "cell_type": "code",
   "execution_count": 119,
   "metadata": {},
   "outputs": [
    {
     "data": {
      "text/plain": [
       "{'Field vole': ['The field vole is a small, dark brown rodent with a short tail, distinguishable from the closely related common vole (Microtus arvalis) by its darker, longer and shaggier hair and by its more densely haired ears. The head and body length varies between 8 and 13 centimetres (3.1 and 5.1\\xa0in) and the tail between 3 and 4 centimetres (1.2 and 1.6\\xa0in). The weight is 20 to 50 grams (0.71 to 1.76\\xa0oz).[3] The voice is a faint, low squeak and it also emits a range of chattering sounds.[4]\\n']}"
      ]
     },
     "execution_count": 119,
     "metadata": {},
     "output_type": "execute_result"
    }
   ],
   "source": [
    "textContent"
   ]
  },
  {
   "cell_type": "code",
   "execution_count": null,
   "metadata": {},
   "outputs": [],
   "source": []
  },
  {
   "cell_type": "code",
   "execution_count": null,
   "metadata": {},
   "outputs": [],
   "source": []
  },
  {
   "cell_type": "code",
   "execution_count": null,
   "metadata": {},
   "outputs": [],
   "source": []
  },
  {
   "cell_type": "code",
   "execution_count": null,
   "metadata": {},
   "outputs": [],
   "source": []
  },
  {
   "cell_type": "code",
   "execution_count": 45,
   "metadata": {},
   "outputs": [],
   "source": [
    "textContent = {}\n",
    "\n",
    "for WikiPage in AnimalsWikiPages:\n",
    "    # Open the page\n",
    "    page = requests.get(WikiPage, timeout=5)\n",
    "    soup = BeautifulSoup(page.content, 'html.parser')\n",
    "    \n",
    "    # Get species name\n",
    "    Species = soup.title\\\n",
    "                .string.split('-')[0]\\\n",
    "                .rstrip(' ')\n",
    "    \n",
    "    for Tags in soup.find_all('h2')[1:]:\n",
    "        # Get the chapters\n",
    "        Chapters = Tags.text.strip()\n",
    "        # If chapter == description\n",
    "        if Chapters == 'Description[edit]':\n",
    "            # Find the text\n",
    "            for Text in Tags.find_next_siblings('p'):\n",
    "                if Chapters in Text.find_previous_siblings('h2')[0].text.strip():\n",
    "                    textContent[Species] = Text.text.strip()\n",
    "    \n",
    "    "
   ]
  }
 ],
 "metadata": {
  "kernelspec": {
   "display_name": "Python 3",
   "language": "python",
   "name": "python3"
  },
  "language_info": {
   "codemirror_mode": {
    "name": "ipython",
    "version": 3
   },
   "file_extension": ".py",
   "mimetype": "text/x-python",
   "name": "python",
   "nbconvert_exporter": "python",
   "pygments_lexer": "ipython3",
   "version": "3.8.8"
  }
 },
 "nbformat": 4,
 "nbformat_minor": 4
}
