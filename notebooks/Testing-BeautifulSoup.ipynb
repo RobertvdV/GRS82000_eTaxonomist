{
 "cells": [
  {
   "cell_type": "code",
   "execution_count": 1,
   "metadata": {},
   "outputs": [],
   "source": [
    "from bs4 import BeautifulSoup\n",
    "import requests\n",
    "import re\n",
    "import pandas as pd"
   ]
  },
  {
   "cell_type": "code",
   "execution_count": 2,
   "metadata": {},
   "outputs": [],
   "source": [
    "# URL for database\n",
    "#URL = 'https://en.wikipedia.org/wiki/List_of_birds_of_the_Netherlands'\n",
    "URL = 'https://en.wikipedia.org/wiki/List_of_mammals_of_the_Netherlands'\n",
    "page = requests.get(URL)\n",
    "soup = BeautifulSoup(page.content, 'html.parser')\n",
    "\n",
    "# Find all wikiparts\n",
    "Animals = soup.find_all('a')\n",
    "# Create links \n",
    "AnimalsWikiPages = ['https://en.wikipedia.org/' + pages.get('href') for pages in Animals \n",
    "                       if pages.get('href') != None \n",
    "                       if pages.get('href').startswith('/wiki/')]"
   ]
  },
  {
   "cell_type": "code",
   "execution_count": 132,
   "metadata": {},
   "outputs": [],
   "source": [
    "textContent = {}\n",
    "\n",
    "for WikiPage in AnimalsWikiPages:\n",
    "    # Open the page\n",
    "    page = requests.get(WikiPage, timeout=5)\n",
    "    soup = BeautifulSoup(page.content, 'html.parser')\n",
    "    \n",
    "    for Tags in soup.find_all('h2'):\n",
    "        \n",
    "        # Skip useless stuff\n",
    "        if Tags.span == None:\n",
    "            continue\n",
    "        \n",
    "        # Set chapter variable    \n",
    "        Chapter = Tags.span.attrs['id']\n",
    "        \n",
    "        # Check if the chapter is description (or similar)\n",
    "        if Chapter == 'Characteristics'or \\\n",
    "           Chapter == 'Description' or \\\n",
    "           Chapter == 'Appearance':\n",
    "            \n",
    "            \n",
    "            # Get species name\n",
    "            Species = soup.title\\\n",
    "                            .string.split('-')[0]\\\n",
    "                            .rstrip(' ')\n",
    "            # Create list for key\n",
    "            textContent[Species] = []\n",
    "\n",
    "            # Get the next sibling (text)\n",
    "            for Text in Tags.find_next_siblings('p'):\n",
    "                # But only if chapter is still valid as previous sibling\n",
    "                if Chapter in Text.find_previous_siblings('h2')[0].text.strip():\n",
    "                    textContent[Species].append(Text.text)"
   ]
  }
 ],
 "metadata": {
  "kernelspec": {
   "display_name": "Python 3",
   "language": "python",
   "name": "python3"
  },
  "language_info": {
   "codemirror_mode": {
    "name": "ipython",
    "version": 3
   },
   "file_extension": ".py",
   "mimetype": "text/x-python",
   "name": "python",
   "nbconvert_exporter": "python",
   "pygments_lexer": "ipython3",
   "version": "3.8.8"
  }
 },
 "nbformat": 4,
 "nbformat_minor": 4
}
