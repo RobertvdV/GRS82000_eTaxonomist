{
 "cells": [
  {
   "cell_type": "code",
   "execution_count": 1,
   "metadata": {},
   "outputs": [],
   "source": [
    "from bs4 import BeautifulSoup\n",
    "import requests\n",
    "import re\n",
    "import pandas as pd"
   ]
  },
  {
   "cell_type": "code",
   "execution_count": 16,
   "metadata": {},
   "outputs": [],
   "source": [
    "# URL for database\n",
    "#URL = 'https://en.wikipedia.org/wiki/List_of_birds_of_the_Netherlands'\n",
    "#URL = 'https://en.wikipedia.org/wiki/List_of_mammals_of_the_Netherlands'\n",
    "URL = 'https://en.wikipedia.org/wiki/List_of_mammals_of_Europe'\n",
    "page = requests.get(URL)\n",
    "soup = BeautifulSoup(page.content, 'html.parser')\n",
    "\n",
    "# Find all wikiparts\n",
    "Animals = soup.find_all('a')\n",
    "# Create links \n",
    "AnimalsWikiPages = ['https://en.wikipedia.org/' + pages.get('href') for pages in Animals \n",
    "                       if pages.get('href') != None \n",
    "                       if pages.get('href').startswith('/wiki/')]\n",
    "                       # Reduces the retrieved pages (does not work)\n",
    "                       #if pages.span != None \n",
    "                       #if pages.span.attrs['class'][0] == 'tocnumber']"
   ]
  },
  {
   "cell_type": "code",
   "execution_count": 46,
   "metadata": {},
   "outputs": [],
   "source": [
    "# init dicts\n",
    "DescriptionData = {}\n",
    "NonDescriptionData = {}\n",
    "\n",
    "# Removes references in text\n",
    "ReferenceRemover = '\\[\\d*\\]'\n",
    "\n",
    "for WikiPage in AnimalsWikiPages[:]:\n",
    "    \n",
    "    # Open the page\n",
    "    page = requests.get(WikiPage, timeout=5)\n",
    "    soup = BeautifulSoup(page.content, 'html.parser')\n",
    "    \n",
    "    for Tags in soup.find_all('h2'):\n",
    "\n",
    "        # Skip useless/empty stuff\n",
    "        if Tags.span == None:\n",
    "            continue\n",
    "\n",
    "        # Set chapter variable    \n",
    "        Chapter = Tags.span.attrs['id']\n",
    "\n",
    "        # Check if the chapter is description (or similar)\n",
    "        if Chapter == 'Characteristics'or \\\n",
    "           Chapter == 'Description' or \\\n",
    "           Chapter == 'Appearance':\n",
    "\n",
    "\n",
    "            # Get species name\n",
    "            Species = soup.title\\\n",
    "                            .string.split(' - ')[0]\\\n",
    "                            .rstrip(' ')\n",
    "\n",
    "            # Create list for key\n",
    "            DescriptionData[Species] = []\n",
    "            NonDescriptionData[Species] = []\n",
    "\n",
    "            # Get the next sibling (text)\n",
    "            for Text in Tags.find_next_siblings('p'):\n",
    "\n",
    "                # Add description data to dict\n",
    "                if Chapter in Text.find_previous_siblings('h2')[0].text.strip():\n",
    "                    # Remove source\n",
    "                    Paragraph = re.sub(ReferenceRemover, '', Text.text)\n",
    "                    # Split into Sentences\n",
    "                    SentenceList = Paragraph.split('. ')\n",
    "                    # Add to the dict\n",
    "                    DescriptionData[Species] += SentenceList\n",
    "\n",
    "                # Add non description data to dict\n",
    "                elif Chapter not in Text.find_previous_siblings('h2')[0].text.strip():\n",
    "                    # Remove source\n",
    "                    Paragraph = re.sub(ReferenceRemover, '', Text.text)\n",
    "                    # Split into Sentences\n",
    "                    SentenceList = Paragraph.split('. ')\n",
    "                    # Add to the dict\n",
    "                    NonDescriptionData[Species] += SentenceList"
   ]
  },
  {
   "cell_type": "code",
   "execution_count": 27,
   "metadata": {},
   "outputs": [],
   "source": [
    "'''\n",
    "URL = 'https://en.wikipedia.org/wiki/Brown_bear'\n",
    "page = requests.get(URL)\n",
    "soup = BeautifulSoup(page.content, 'html.parser')\n",
    "\n",
    "DescriptionData = {}\n",
    "NonDescriptionData = {}\n",
    "\n",
    "# Removes references in text\n",
    "ReferenceRemover = '\\[\\d*\\]'\n",
    "\n",
    "for Tags in soup.find_all('h2'):\n",
    "\n",
    "    # Skip useless/empty stuff\n",
    "    if Tags.span == None:\n",
    "        continue\n",
    "\n",
    "    # Set chapter variable    \n",
    "    Chapter = Tags.span.attrs['id']\n",
    "\n",
    "    # Check if the chapter is description (or similar)\n",
    "    if Chapter == 'Characteristics'or \\\n",
    "       Chapter == 'Description' or \\\n",
    "       Chapter == 'Appearance':\n",
    "\n",
    "\n",
    "        # Get species name\n",
    "        Species = soup.title\\\n",
    "                        .string.split(' - ')[0]\\\n",
    "                        .rstrip(' ')\n",
    "\n",
    "        # Create list for key\n",
    "        DescriptionData[Species] = []\n",
    "        NonDescriptionData[Species] = []\n",
    "\n",
    "        # Get the next sibling (text)\n",
    "        for Text in Tags.find_next_siblings('p'):\n",
    "\n",
    "            # Add description data to dict\n",
    "            if Chapter in Text.find_previous_siblings('h2')[0].text.strip():\n",
    "                # Remove source\n",
    "                Paragraph = re.sub(ReferenceRemover, '', Text.text)\n",
    "                # Split into Sentences\n",
    "                SentenceList = Paragraph.split('. ')\n",
    "                # Add to the dict\n",
    "                DescriptionData[Species] += SentenceList\n",
    "                \n",
    "            # Add non description data to dict\n",
    "            elif Chapter not in Text.find_previous_siblings('h2')[0].text.strip():\n",
    "                # Remove source\n",
    "                Paragraph = re.sub(ReferenceRemover, '', Text.text)\n",
    "                # Split into Sentences\n",
    "                SentenceList = Paragraph.split('. ')\n",
    "                # Add to the dict\n",
    "                NonDescriptionData[Species] += SentenceList\n",
    "'''"
   ]
  },
  {
   "cell_type": "code",
   "execution_count": 50,
   "metadata": {},
   "outputs": [
    {
     "data": {
      "text/plain": [
       "52"
      ]
     },
     "execution_count": 50,
     "metadata": {},
     "output_type": "execute_result"
    }
   ],
   "source": [
    "len(DescriptionData['Brown bear'])"
   ]
  },
  {
   "cell_type": "code",
   "execution_count": 53,
   "metadata": {},
   "outputs": [],
   "source": [
    "df_True = pd.DataFrame.from_dict(DescriptionData, orient='index')\n",
    "df_False = pd.DataFrame.from_dict(NonDescriptionData, orient='index')"
   ]
  },
  {
   "cell_type": "code",
   "execution_count": 60,
   "metadata": {},
   "outputs": [
    {
     "data": {
      "text/plain": [
       "0     The brown bear is the most variable in size of...\n",
       "1     The typical size depends upon which population...\n",
       "2     This is in part due to sexual dimorphism, as m...\n",
       "3     Individual bears also vary in size seasonally,...\n",
       "4     Therefore, a bear may need to be weighed in bo...\n",
       "5     The normal range of physical dimensions for a ...\n",
       "6     The tail is relatively short, as in all bears,...\n",
       "7     The smallest brown bears, females during sprin...\n",
       "8     Interior brown bears are generally smaller tha...\n",
       "9     The average weight of adult male bears from 19...\n",
       "10                Brown bears are often not fully brown\n",
       "11    They have long, thick fur, with a moderately l...\n",
       "12    In India, brown bears can be reddish with silv...\n",
       "13    Even within well-defined subspecies, individua...\n",
       "14    North American grizzlies can be dark brown (al...\n",
       "15    The common name \"grizzly\" stems from their typ...\n",
       "16    Apart from the cinnamon subspecies of the Amer...\n",
       "17    americanus cinnamonum), the brown bear is the ...\n",
       "18    The winter fur is very thick and long, especia...\n",
       "19    The winter hairs are thin, yet rough to the touch\n",
       "20    The summer fur is much shorter and sparser and...\n",
       "21    Adults have massive, heavily built concave sku...\n",
       "22               The forehead is high and rises steeply\n",
       "23    The projections of the skull are well develope...\n",
       "24    Skull projections are more weakly developed in...\n",
       "25      The braincase is relatively small and elongated\n",
       "26    There is a great deal of geographical variatio...\n",
       "27    Grizzlies, for example, tend to have flatter p...\n",
       "28    Skull lengths of Russian brown bears tend to b...\n",
       "29    The width of the zygomatic arches in males is ...\n",
       "30    Brown bears have very strong teeth: the inciso...\n",
       "31    The first three molars of the upper jaw are un...\n",
       "32    The second upper molar is smaller than the oth...\n",
       "33    It is usually lost at an early age, leaving no...\n",
       "34    The first three molars of the lower jaw are ve...\n",
       "35    The teeth of brown bears reflect their dietary...\n",
       "36    The teeth are reliably larger than American bl...\n",
       "37    Brown bears have the broadest skull of any ext...\n",
       "38    Another extant ursine bear, the sloth bear (Me...\n",
       "39    Brown bears have very large and curved claws, ...\n",
       "40    They may reach 5 to 6 centimetres (2.0 to 2.4 ...\n",
       "41    They are generally dark with a light tip, with...\n",
       "42    Brown bear claws are longer and straighter tha...\n",
       "43    The claws are blunt, while those of a black be...\n",
       "44    Due to their claw structure, in addition to th...\n",
       "45    The claws of a polar bear are also quite diffe...\n",
       "46           The paws of the brown bear are quite large\n",
       "47    The rear feet of adult bears have been found t...\n",
       "48    All four feet in average sized brown bears ten...\n",
       "49    In large coastal or Kodiak bear males, the hin...\n",
       "50    Brown bears are the only extant bears with a h...\n",
       "51    The brown bear's strength has been roughly est...\n",
       "52                                                 None\n",
       "Name: Brown bear, dtype: object"
      ]
     },
     "execution_count": 60,
     "metadata": {},
     "output_type": "execute_result"
    }
   ],
   "source": [
    "df_True.loc['Brown bear', 0:52]"
   ]
  },
  {
   "cell_type": "code",
   "execution_count": 55,
   "metadata": {},
   "outputs": [],
   "source": [
    "df_True.to_pickle(\"df_true.pkl\")\n",
    "df_False.to_pickle(\"df_false.pkl\")"
   ]
  },
  {
   "cell_type": "code",
   "execution_count": null,
   "metadata": {},
   "outputs": [],
   "source": []
  }
 ],
 "metadata": {
  "kernelspec": {
   "display_name": "Python 3",
   "language": "python",
   "name": "python3"
  },
  "language_info": {
   "codemirror_mode": {
    "name": "ipython",
    "version": 3
   },
   "file_extension": ".py",
   "mimetype": "text/x-python",
   "name": "python",
   "nbconvert_exporter": "python",
   "pygments_lexer": "ipython3",
   "version": "3.9.4"
  }
 },
 "nbformat": 4,
 "nbformat_minor": 4
}
