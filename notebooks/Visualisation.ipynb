{
 "cells": [
  {
   "cell_type": "code",
   "execution_count": 1,
   "id": "03ac3a34-75fc-4319-8f24-e40c0ccc3744",
   "metadata": {},
   "outputs": [
    {
     "name": "stderr",
     "output_type": "stream",
     "text": [
      "Some weights of the model checkpoint at distilbert-base-uncased were not used when initializing DistilBertModel: ['vocab_layer_norm.bias', 'vocab_transform.bias', 'vocab_projector.weight', 'vocab_projector.bias', 'vocab_layer_norm.weight', 'vocab_transform.weight']\n",
      "- This IS expected if you are initializing DistilBertModel from the checkpoint of a model trained on another task or with another architecture (e.g. initializing a BertForSequenceClassification model from a BertForPreTraining model).\n",
      "- This IS NOT expected if you are initializing DistilBertModel from the checkpoint of a model that you expect to be exactly identical (initializing a BertForSequenceClassification model from a BertForSequenceClassification model).\n",
      "Some weights of the model checkpoint at distilbert-base-uncased were not used when initializing DistilBertModel: ['vocab_layer_norm.bias', 'vocab_transform.bias', 'vocab_projector.weight', 'vocab_projector.bias', 'vocab_layer_norm.weight', 'vocab_transform.weight']\n",
      "- This IS expected if you are initializing DistilBertModel from the checkpoint of a model trained on another task or with another architecture (e.g. initializing a BertForSequenceClassification model from a BertForPreTraining model).\n",
      "- This IS NOT expected if you are initializing DistilBertModel from the checkpoint of a model that you expect to be exactly identical (initializing a BertForSequenceClassification model from a BertForSequenceClassification model).\n"
     ]
    }
   ],
   "source": [
    "import numpy as np\n",
    "import pickle\n",
    "from tqdm import tqdm\n",
    "import matplotlib.pyplot as plt\n",
    "from matplotlib.lines import Line2D\n",
    "import seaborn as sns\n",
    "import re\n",
    "import collections\n",
    "import glob\n",
    "import pandas as pd\n",
    "from itertools import islice\n",
    "from transformers import DistilBertModel, DistilBertTokenizer, logging\n",
    "from itertools import chain\n",
    "from sklearn.metrics import PrecisionRecallDisplay\n",
    "from sklearn.metrics import roc_auc_score\n",
    "from sklearn.metrics import roc_curve, auc\n",
    "from sklearn.metrics import classification_report\n",
    "\n",
    "\n",
    "import sys\n",
    "import time\n",
    "sys.path.insert(0, '../src/models/')\n",
    "sys.path.insert(0, '../src/features/')\n",
    "\n",
    "from build_features import similarity_matrix, name_cleaner, yield_chunks, text_cleaner\n",
    "from build_features import similarity_matrix as vector_values\n",
    "from predict_model import load_CUB_Bert, load_simBERT, loadBERT\n",
    "from predict_model import SpanPredictor as classify\n",
    "logging.set_verbosity_error()\n",
    "\n",
    "%matplotlib inline"
   ]
  },
  {
   "cell_type": "code",
   "execution_count": 2,
   "id": "1fd7d822-eafa-4e39-90cc-53a1e56f7966",
   "metadata": {},
   "outputs": [
    {
     "name": "stdout",
     "output_type": "stream",
     "text": [
      "CPU Success\n"
     ]
    }
   ],
   "source": [
    "model = loadBERT(\"../models/\", 'saved_weights_inf_FIXED_boot_beta80.pt')\n",
    "tokenizer = DistilBertTokenizer.from_pretrained('distilbert-base-uncased')"
   ]
  },
  {
   "cell_type": "markdown",
   "id": "a8900cf2-3f42-46a2-b2d5-992b9e31a25a",
   "metadata": {},
   "source": [
    "# Data Analysis"
   ]
  },
  {
   "cell_type": "code",
   "execution_count": 2,
   "id": "b0679ca8-6bbb-491c-a4d3-e288a2c3abc7",
   "metadata": {},
   "outputs": [],
   "source": [
    "from urllib.parse import urlsplit\n",
    "from matplotlib.patches import ConnectionPatch\n",
    "from tqdm.notebook import tqdm as tqdm_notebook\n",
    "from collections import Counter\n",
    "import pandas as pd\n",
    "import numpy as np"
   ]
  },
  {
   "cell_type": "code",
   "execution_count": 4,
   "id": "dd2a894e-ec95-40b9-9432-c327d4c19194",
   "metadata": {},
   "outputs": [],
   "source": [
    "test_agro = pickle.load(open('../data/processed/testing_web_trees_agroforestry.pkl', 'rb'))\n",
    "test_llifle = pickle.load(open('../data/processed/testing_web_trees_llifle.pkl', 'rb'))\n",
    "\n",
    "data = dict(test_agro) \n",
    "data.update(test_llifle)\n",
    "\n",
    "# Undict the data\n",
    "external_data = (list(chain.from_iterable(data.values())))"
   ]
  },
  {
   "cell_type": "code",
   "execution_count": null,
   "id": "743b0ca9-b986-42a1-9918-56ea46f0e2d3",
   "metadata": {},
   "outputs": [],
   "source": [
    "# Init emmty_list:\n",
    "uncertain_list = []\n",
    "# Arrays for plotting\n",
    "yhat = np.array([]).reshape(0, 2)\n",
    "y_onecold = np.array([])\n",
    "# Sentence list\n",
    "sentence_list = []\n",
    "\n",
    "# loop over the values of the list\n",
    "for (label, span) in tqdm_notebook(external_data):\n",
    "    # Clean the sentence\n",
    "    sentences = text_cleaner(span)\n",
    "    # Loop over the sentences\n",
    "    for sent in sentences:\n",
    "        # Store for plotting\n",
    "        sentence_list.append((label, sent))\n",
    "        # Get predictions\n",
    "        (pred_label, pred_value) = classify(sent, model=model, pred_values=True)\n",
    "        # Store for plotting\n",
    "        yhat = np.vstack([yhat, pred_value.numpy()])\n",
    "        y_onecold = np.hstack([y_onecold, label])\n",
    "        # Detach\n",
    "        pred_value = pred_value[1].numpy().item()\n",
    "        if  0.45 < pred_value < 0.55:\n",
    "            # Append to list\n",
    "            uncertain_list.append((label, pred_label, pred_value, sent))\n",
    "\n",
    "uncertain_list = list(set(uncertain_list))     "
   ]
  },
  {
   "cell_type": "code",
   "execution_count": null,
   "id": "5eb812ee-4faf-4765-80b5-78e1daf5a534",
   "metadata": {},
   "outputs": [],
   "source": [
    "with open('../data/processed/external_sentence_list.pkl', 'wb') as f:\n",
    "    pickle.dump(sentence_list, f)\n",
    "with open('../data/processed/external_uncertain_sentences.pkl', 'wb') as f:\n",
    "    pickle.dump(uncertain_list, f)\n",
    "with open('../data/processed/external_yhat.pkl', 'wb') as f:\n",
    "    pickle.dump(yhat, f)\n",
    "with open('../data/processed/external_y_onecold.pkl', 'wb') as f:\n",
    "    pickle.dump(y_onecold, f)"
   ]
  },
  {
   "cell_type": "code",
   "execution_count": 3,
   "id": "746c1785-f411-4b9d-9bac-a9be8d379457",
   "metadata": {},
   "outputs": [],
   "source": [
    "sentence_list = pickle.load(open('../data/processed/external_sentence_list.pkl', 'rb'))\n",
    "uncertain_list = pickle.load(open('../data/processed/external_uncertain_sentences.pkl', 'rb'))\n",
    "yhat = pickle.load(open('../data/processed/external_yhat.pkl', 'rb'))\n",
    "y_onecold = pickle.load(open('../data/processed/external_y_onecold.pkl', 'rb'))"
   ]
  },
  {
   "cell_type": "code",
   "execution_count": 4,
   "id": "dc9b1436-a2a6-4e08-8280-21ad2844d32a",
   "metadata": {},
   "outputs": [
    {
     "name": "stderr",
     "output_type": "stream",
     "text": [
      "100%|██████████████████████████████████| 74836/74836 [00:01<00:00, 54083.58it/s]\n"
     ]
    }
   ],
   "source": [
    "# Correct for beta\n",
    "y_onecold_corrected = np.array([])\n",
    "changed = 0\n",
    "pred_list = []\n",
    "for label, prediction in zip(tqdm(y_onecold), yhat):\n",
    "    if prediction[1] >= .8:\n",
    "        y_onecold_corrected = np.hstack([y_onecold_corrected, 1])\n",
    "        changed += 1\n",
    "    else:\n",
    "        y_onecold_corrected = np.hstack([y_onecold_corrected, label])"
   ]
  },
  {
   "cell_type": "code",
   "execution_count": 9,
   "id": "21bca24b-d4ca-4c8d-95c3-5b643bb686d6",
   "metadata": {},
   "outputs": [
    {
     "name": "stdout",
     "output_type": "stream",
     "text": [
      "              precision    recall  f1-score   support\n",
      "\n",
      "       Other    0.96436   0.97577   0.97003     64639\n",
      "Descriptions    0.83397   0.77140   0.80147     10197\n",
      "\n",
      "    accuracy                        0.94793     74836\n",
      "   macro avg    0.89916   0.87359   0.88575     74836\n",
      "weighted avg    0.94659   0.94793   0.94706     74836\n",
      "\n"
     ]
    }
   ],
   "source": [
    "print(classification_report(y_onecold_corrected, yhat[:, 1] >= .5, digits=5, target_names=['Other', 'Descriptions']))"
   ]
  },
  {
   "cell_type": "code",
   "execution_count": null,
   "id": "7e02bebf-a34e-4799-9e08-9396f91e16f4",
   "metadata": {},
   "outputs": [],
   "source": []
  },
  {
   "cell_type": "code",
   "execution_count": 7,
   "id": "9fa7cb0a-1af4-403f-b31e-7b6ea8c5adc1",
   "metadata": {},
   "outputs": [
    {
     "data": {
      "image/png": "[encoded data removed]",
      "text/plain": [
       "<Figure size 360x360 with 1 Axes>"
      ]
     },
     "metadata": {
      "needs_background": "light"
     },
     "output_type": "display_data"
    }
   ],
   "source": [
    "fig, ax = plt.subplots(figsize=(5, 5))\n",
    "display = PrecisionRecallDisplay.from_predictions(y_onecold_corrected, yhat[:, 1], name=\"Description Text Classifier\", ax=ax)\n",
    "#_ = display.ax_.set_title(\"2-class Precision-Recall Curve\")\n",
    "#display.plot(ax=ax)\n",
    "ax.set_xlim([-0.01, 1.01])\n",
    "ax.set_ylim([-0.01, 1.01])\n",
    "ax.set_xlim([-0.01, 1.01])\n",
    "ax.set_ylim([-0.01, 1.01])\n",
    "ax.plot([0, 1], [0.5, 0.5], color='navy', lw=2, linestyle='--', label='Basic Classifier')\n",
    "\n",
    "legend_elements = [Line2D([0], [0], color='b', lw=2, label='Basic Classifier', linestyle='--'),\n",
    "                   Line2D([0], [0], color='purple', label=f'Classifier (AP: {display.average_precision:.2f})'),\n",
    "                   Line2D([0], [0], color='grey', alpha=0.2, label='f1-ISO Lines')]\n",
    "\n",
    "ax.legend(handles=legend_elements, loc='lower left')\n",
    "\n",
    "\n",
    "f_scores = np.linspace(0.1, .9, num=8)\n",
    "lines, labels = [], []\n",
    "for f_score in f_scores:\n",
    "    x = np.linspace(0.01, 1.01)\n",
    "    y = f_score * x / (2 * x - f_score)\n",
    "    (l,) = ax.plot(x[y >= 0], y[y >= 0], color=\"gray\", alpha=0.2)\n",
    "    ax.annotate(\"{0:0.1f}\".format(f_score), xy=(f_score, f_score)).set_alpha(.2)\n",
    "\n",
    "\n",
    "#ax.set_title(\"2-class Precision-Recall Curve\")\n",
    "#fig.savefig('precision_recall_plot_extern.pdf', format='pdf', dpi=1200, bbox_inches='tight')"
   ]
  },
  {
   "cell_type": "code",
   "execution_count": 8,
   "id": "de351d4d-3a1a-4bb2-9d88-ea6587a9e5f4",
   "metadata": {},
   "outputs": [
    {
     "data": {
      "text/plain": [
       "0.9313769889597522"
      ]
     },
     "execution_count": 8,
     "metadata": {},
     "output_type": "execute_result"
    }
   ],
   "source": [
    "import numpy as np\n",
    "from sklearn import metrics\n",
    "y = np.array([1, 1, 2, 2])\n",
    "pred = np.array([0.1, 0.4, 0.35, 0.8])\n",
    "fpr, tpr, thresholds = metrics.roc_curve(y_onecold_corrected, yhat[:, 1])\n",
    "metrics.auc(fpr, tpr)\n"
   ]
  },
  {
   "cell_type": "code",
   "execution_count": 9,
   "id": "6c11b474-64b2-4818-8af0-2efd750b7eb4",
   "metadata": {},
   "outputs": [],
   "source": [
    "# Reshape values\n",
    "y_onecold_reshaped = np.reshape(y_onecold, (-1, 1))\n",
    "y_all = np.hstack((yhat, y_onecold_reshaped))"
   ]
  },
  {
   "cell_type": "code",
   "execution_count": 10,
   "id": "34ea18cb-23c2-4258-b94e-609db2cd801a",
   "metadata": {},
   "outputs": [],
   "source": [
    "sns.set_style('whitegrid')"
   ]
  },
  {
   "cell_type": "code",
   "execution_count": 11,
   "id": "6c32f210-9e06-4cbb-a598-90723a39fd14",
   "metadata": {},
   "outputs": [
    {
     "data": {
      "text/plain": [
       "Text(0.46, 0.07, 'Prediction Value')"
      ]
     },
     "execution_count": 11,
     "metadata": {},
     "output_type": "execute_result"
    },
    {
     "data": {
      "image/png": "[encoded data removed]",
      "text/plain": [
       "<Figure size 720x576 with 2 Axes>"
      ]
     },
     "metadata": {},
     "output_type": "display_data"
    }
   ],
   "source": [
    "fig, (ax1, ax2) = plt.subplots(2, sharex=False, sharey=False, figsize=(10, 8))\n",
    "\n",
    "ax1.hist( y_all[:, 1], \n",
    "          bins=np.arange(0, 1, 0.01), histtype='bar', align='mid',\n",
    "          width=0.01, stacked=False, alpha=0.8)\n",
    "ax1.legend(loc='upper right', labels=['Prediction Values'])\n",
    "ax1.set_xlim([0, 1])\n",
    "ax2.hist( [y_all[:, 1],\n",
    "           y_all[(y_all[:, 1] < 0.5) & (y_all[:, 1] >= 0.2) & (y_all[:, 2] == 1) | \n",
    "                  (y_all[:, 1] > 0.5) & (y_all[:, 1] <= 0.8) & (y_all[:, 2] == 0), 1]],\n",
    "           #y_all[(y_all[:, 1] > 0.5) & (y_all[:, 1] <= 0.8) & (y_all[:, 2] == 0), 1]], \n",
    "          bins=np.arange(0.2, .8, 0.01), histtype='bar', align='left',\n",
    "          width=0.01, stacked=False, alpha=0.8, rwidth=0, color=[u'#2ca02c', u'#d62728'])\n",
    "\n",
    "ax2.legend(loc='upper right', labels=['Correctly Classified', 'Miss Classified'])\n",
    "ax2.set_xlim([0.2, .8])\n",
    "ax2.set_ylim([0, 600])\n",
    "con1 = ConnectionPatch(xyA=(0.2, 600), xyB=(0.2, -0.1), coordsA=\"data\", coordsB=\"data\",\n",
    "                      axesA=ax2, axesB=ax1, color=\"black\")\n",
    "ax2.add_artist(con1)\n",
    "con2 = ConnectionPatch(xyA=(0.8, 600), xyB=(0.8, -0.1), coordsA=\"data\", coordsB=\"data\",\n",
    "                      axesA=ax2, axesB=ax1, color=\"black\")\n",
    "ax2.add_artist(con2)\n",
    "#fig.text(.07, 0.5, 'Count', va='center', rotation='vertical')\n",
    "fig.text(.46, 0.07, 'Prediction Value', va='center', rotation='horizontal')\n",
    "\n",
    "#fig.savefig('predictionvalues_external.pdf', format='pdf', dpi=1200, bbox_inches='tight')"
   ]
  },
  {
   "cell_type": "code",
   "execution_count": 12,
   "id": "2030ee5b-0a80-4cb4-a8e1-ff9ddae08cba",
   "metadata": {},
   "outputs": [
    {
     "data": {
      "text/plain": [
       "<AxesSubplot:>"
      ]
     },
     "execution_count": 12,
     "metadata": {},
     "output_type": "execute_result"
    },
    {
     "data": {
      "image/png": "[encoded data removed]",
      "text/plain": [
       "<Figure size 432x288 with 1 Axes>"
      ]
     },
     "metadata": {},
     "output_type": "display_data"
    }
   ],
   "source": [
    "x = y_all[(y_all[:, 1] < 0.5) & (y_all[:, 1] >= 0.2) & (y_all[:, 2] == 1), 1]\n",
    "bins_x = np.digitize(x, np.arange(0., 1, 0.01))\n",
    "y = y_all[(y_all[:, 1] > 0.5) & (y_all[:, 1] <= 0.8) & (y_all[:, 2] == 0), 1]\n",
    "bins_y = np.digitize(y, np.arange(0., 1, 0.01))\n",
    "unique, counts_x = np.unique(bins_x, return_counts=True)\n",
    "unique, counts_y = np.unique(bins_y, return_counts=True)\n",
    "sns.boxplot(data=[counts_x, counts_y])"
   ]
  },
  {
   "cell_type": "code",
   "execution_count": 13,
   "id": "a15a93f3-d792-4286-8da4-7ef35dae9970",
   "metadata": {},
   "outputs": [
    {
     "data": {
      "text/plain": [
       "(74836, 3)"
      ]
     },
     "execution_count": 13,
     "metadata": {},
     "output_type": "execute_result"
    }
   ],
   "source": [
    "y_all.shape"
   ]
  },
  {
   "cell_type": "code",
   "execution_count": 14,
   "id": "55bb7639-5c22-4a2f-ad53-606266e81521",
   "metadata": {},
   "outputs": [
    {
     "data": {
      "text/plain": [
       "array([False, False, False, ..., False, False, False])"
      ]
     },
     "execution_count": 14,
     "metadata": {},
     "output_type": "execute_result"
    }
   ],
   "source": [
    "(y_all[:, 1] > 0.5) & (y_all[:, 2] == 1)"
   ]
  },
  {
   "cell_type": "code",
   "execution_count": 15,
   "id": "eba8d085-36c2-4395-9a29-2490d04d0ab3",
   "metadata": {},
   "outputs": [],
   "source": [
    "# Correct\n",
    "correct = y_all[(y_all[:, 1] > 0.5) & (y_all[:, 2] == 1) | (y_all[:, 1] < 0.5) & (y_all[:, 2] == 0), 1]\n",
    "incorrect = y_all[(y_all[:, 1] < 0.5) & (y_all[:, 2] == 1) | (y_all[:, 1] > 0.5) & (y_all[:, 2] == 0), 1]"
   ]
  },
  {
   "cell_type": "code",
   "execution_count": 16,
   "id": "352027ce-d0c0-49c2-ad73-2819aa065897",
   "metadata": {},
   "outputs": [],
   "source": [
    "df = pd.DataFrame({'Probability_0': y_all[:, 0], 'Probability_1': y_all[:, 1], 'Label': y_all[:, 2]})"
   ]
  },
  {
   "cell_type": "code",
   "execution_count": 17,
   "id": "d9485a03-eb2b-4aec-9857-2681e7cf10ac",
   "metadata": {},
   "outputs": [],
   "source": [
    "def get_correctness(row):\n",
    "    if row['Probability_1'] <= 0.2:\n",
    "        val = 'Correct'\n",
    "    elif row['Probability_1'] >= 0.8:\n",
    "        val = 'Correct'\n",
    "    elif row['Probability_0'] >= 0.5 and row['Label'] == 0:\n",
    "        val = 'Correct'\n",
    "    elif row['Probability_1'] >= 0.5 and row['Label'] == 1:\n",
    "        val = 'Correct'\n",
    "    else:\n",
    "        val = 'Incorrect'\n",
    "\n",
    "    return val"
   ]
  },
  {
   "cell_type": "code",
   "execution_count": 18,
   "id": "b944bca5-738f-434b-8640-e6540f373d79",
   "metadata": {},
   "outputs": [],
   "source": [
    "df['Correct'] = df.apply(get_correctness, axis=1)"
   ]
  },
  {
   "cell_type": "code",
   "execution_count": 19,
   "id": "01c910ff-a202-4ba5-9042-6a984778fc2b",
   "metadata": {},
   "outputs": [
    {
     "data": {
      "text/html": [
       "<div>\n",
       "<style scoped>\n",
       "    .dataframe tbody tr th:only-of-type {\n",
       "        vertical-align: middle;\n",
       "    }\n",
       "\n",
       "    .dataframe tbody tr th {\n",
       "        vertical-align: top;\n",
       "    }\n",
       "\n",
       "    .dataframe thead th {\n",
       "        text-align: right;\n",
       "    }\n",
       "</style>\n",
       "<table border=\"1\" class=\"dataframe\">\n",
       "  <thead>\n",
       "    <tr style=\"text-align: right;\">\n",
       "      <th></th>\n",
       "      <th>Probability_0</th>\n",
       "      <th>Probability_1</th>\n",
       "      <th>Label</th>\n",
       "      <th>Correct</th>\n",
       "    </tr>\n",
       "  </thead>\n",
       "  <tbody>\n",
       "    <tr>\n",
       "      <th>0</th>\n",
       "      <td>0.927281</td>\n",
       "      <td>0.072719</td>\n",
       "      <td>0.0</td>\n",
       "      <td>Correct</td>\n",
       "    </tr>\n",
       "    <tr>\n",
       "      <th>1</th>\n",
       "      <td>0.961438</td>\n",
       "      <td>0.038562</td>\n",
       "      <td>0.0</td>\n",
       "      <td>Correct</td>\n",
       "    </tr>\n",
       "    <tr>\n",
       "      <th>2</th>\n",
       "      <td>0.965965</td>\n",
       "      <td>0.034035</td>\n",
       "      <td>0.0</td>\n",
       "      <td>Correct</td>\n",
       "    </tr>\n",
       "    <tr>\n",
       "      <th>3</th>\n",
       "      <td>0.984558</td>\n",
       "      <td>0.015442</td>\n",
       "      <td>0.0</td>\n",
       "      <td>Correct</td>\n",
       "    </tr>\n",
       "    <tr>\n",
       "      <th>4</th>\n",
       "      <td>0.997322</td>\n",
       "      <td>0.002678</td>\n",
       "      <td>0.0</td>\n",
       "      <td>Correct</td>\n",
       "    </tr>\n",
       "    <tr>\n",
       "      <th>...</th>\n",
       "      <td>...</td>\n",
       "      <td>...</td>\n",
       "      <td>...</td>\n",
       "      <td>...</td>\n",
       "    </tr>\n",
       "    <tr>\n",
       "      <th>74831</th>\n",
       "      <td>0.941946</td>\n",
       "      <td>0.058054</td>\n",
       "      <td>0.0</td>\n",
       "      <td>Correct</td>\n",
       "    </tr>\n",
       "    <tr>\n",
       "      <th>74832</th>\n",
       "      <td>0.896700</td>\n",
       "      <td>0.103300</td>\n",
       "      <td>0.0</td>\n",
       "      <td>Correct</td>\n",
       "    </tr>\n",
       "    <tr>\n",
       "      <th>74833</th>\n",
       "      <td>0.652206</td>\n",
       "      <td>0.347793</td>\n",
       "      <td>0.0</td>\n",
       "      <td>Correct</td>\n",
       "    </tr>\n",
       "    <tr>\n",
       "      <th>74834</th>\n",
       "      <td>0.936922</td>\n",
       "      <td>0.063077</td>\n",
       "      <td>0.0</td>\n",
       "      <td>Correct</td>\n",
       "    </tr>\n",
       "    <tr>\n",
       "      <th>74835</th>\n",
       "      <td>0.853598</td>\n",
       "      <td>0.146402</td>\n",
       "      <td>0.0</td>\n",
       "      <td>Correct</td>\n",
       "    </tr>\n",
       "  </tbody>\n",
       "</table>\n",
       "<p>74836 rows × 4 columns</p>\n",
       "</div>"
      ],
      "text/plain": [
       "       Probability_0  Probability_1  Label  Correct\n",
       "0           0.927281       0.072719    0.0  Correct\n",
       "1           0.961438       0.038562    0.0  Correct\n",
       "2           0.965965       0.034035    0.0  Correct\n",
       "3           0.984558       0.015442    0.0  Correct\n",
       "4           0.997322       0.002678    0.0  Correct\n",
       "...              ...            ...    ...      ...\n",
       "74831       0.941946       0.058054    0.0  Correct\n",
       "74832       0.896700       0.103300    0.0  Correct\n",
       "74833       0.652206       0.347793    0.0  Correct\n",
       "74834       0.936922       0.063077    0.0  Correct\n",
       "74835       0.853598       0.146402    0.0  Correct\n",
       "\n",
       "[74836 rows x 4 columns]"
      ]
     },
     "execution_count": 19,
     "metadata": {},
     "output_type": "execute_result"
    }
   ],
   "source": [
    "df"
   ]
  },
  {
   "cell_type": "code",
   "execution_count": 20,
   "id": "c33222cc-f396-4350-88d6-d54099b6d271",
   "metadata": {},
   "outputs": [],
   "source": [
    "def calculate_ticks(ax, ticks, round_to=0.1, center=False):\n",
    "    upperbound = np.ceil(ax.get_ybound()[1]/round_to)\n",
    "    lowerbound = np.floor(ax.get_ybound()[0]/round_to)\n",
    "    dy = upperbound - lowerbound\n",
    "    fit = np.floor(dy/(ticks - 1)) + 1\n",
    "    dy_new = (ticks - 1)*fit\n",
    "    if center:\n",
    "        offset = np.floor((dy_new - dy)/2)\n",
    "        lowerbound = lowerbound - offset\n",
    "    values = np.linspace(lowerbound, lowerbound + dy_new, ticks)\n",
    "    return values*round_to\n"
   ]
  },
  {
   "cell_type": "code",
   "execution_count": 21,
   "id": "a4edf38f-46be-4b9a-a194-e1f748397cbb",
   "metadata": {},
   "outputs": [
    {
     "data": {
      "text/plain": [
       "<matplotlib.legend.Legend at 0x7feb230db310>"
      ]
     },
     "execution_count": 21,
     "metadata": {},
     "output_type": "execute_result"
    },
    {
     "data": {
      "image/png": "[encoded data removed]",
      "text/plain": [
       "<Figure size 720x432 with 2 Axes>"
      ]
     },
     "metadata": {},
     "output_type": "display_data"
    }
   ],
   "source": [
    "fig, (ax1) = plt.subplots(1, figsize=(10, 6))\n",
    "\n",
    "sns.kdeplot(data=df[(df['Probability_1'] > 0.2) & (df['Probability_1'] < 0.8)] , x=\"Probability_1\", hue=\"Correct\", bw_adjust=1, cut=0, ax=ax1,\n",
    "           fill=True, common_norm=True, alpha=0.3, linewidth=0, palette=['red', 'green'])\n",
    "           #multiple=\"fill\")\n",
    "    \n",
    "ax2 = ax1.twinx()\n",
    "\n",
    "sns.kdeplot(data=df, x=\"Probability_1\", ax=ax2, fill=True, color='steelblue', alpha=0.2, linewidth=1,\n",
    "           cut=0, bw_adjust=1)\n",
    "           #multiple=\"fill\"\n",
    "\n",
    "#ax1.set_yticks(np.linspace(0, 3.5, num=8))\n",
    "#ax2.set_yticks(np.linspace(0, 6.5, num=18))\n",
    "\n",
    "\n",
    "#ax1.set_yticks(np.linspace(ax1.get_ybound()[0], ax1.get_ybound()[1]+1, 6.2))\n",
    "#ax2.set_yticks(np.linspace(ax2.get_ybound()[0], ax2.get_ybound()[1]+1, 6.2))\n",
    "\n",
    "ax1.set_yticks(calculate_ticks(ax1, 10))\n",
    "ax2.set_yticks(calculate_ticks(ax2, 10))\n",
    "\n",
    "ax1.set_xticks(np.linspace(0, 1, num=11))\n",
    "ax2.set_xlim([0.0, 1])\n",
    "#ax2.axes.get_yaxis().set_visible(False)\n",
    "ax1.set_xlabel('Probabilities')\n",
    "ax2.set_ylabel('Density All Prediction Values')\n",
    "#ax1.legend(loc='upper right', labels=['Correctly Classified', 'Miss Classified'])\n",
    "\n",
    "ax1.legend(bbox_to_anchor= (1, 1), labels=['Correctly Classified', 'Miss Classified'], frameon=False)\n",
    "ax2.legend(bbox_to_anchor= (0.925, 0.91), labels=['All Values'], frameon=False)\n",
    "\n",
    "#fig.savefig('predictionvalues_external.pdf', format='pdf', dpi=1200, bbox_inches='tight')"
   ]
  },
  {
   "cell_type": "code",
   "execution_count": 34,
   "id": "d21585e3-fa8f-487f-a6dc-ad63f7654806",
   "metadata": {},
   "outputs": [
    {
     "data": {
      "image/png": "[encoded data removed]",
      "text/plain": [
       "<Figure size 720x360 with 2 Axes>"
      ]
     },
     "metadata": {},
     "output_type": "display_data"
    }
   ],
   "source": [
    "fig, (ax1) = plt.subplots(1, figsize=(10, 5))\n",
    "\n",
    "sns.kdeplot(data=df , x=\"Probability_1\", hue=\"Correct\",\n",
    "           fill=True, alpha=0.3, linewidth=0, palette=['green', 'red'], multiple=\"fill\", \n",
    "            bw_adjust=0.35,\n",
    "            ax=ax1)\n",
    "    \n",
    "    \n",
    "ax2 = ax1.twinx()\n",
    "\n",
    "sns.kdeplot(data=df, x=\"Probability_1\", ax=ax2, fill=False, color='steelblue', alpha=0.8, linewidth=1.5,\n",
    "           cut=0, bw_adjust=1)\n",
    "           #multiple=\"fill\"\n",
    "    \n",
    "#ax1.set_yticks(calculate_ticks(ax1, 10))\n",
    "#ax2.set_yticks(calculate_ticks(ax2, 10))\n",
    "\n",
    "ax1.set_xticks(np.linspace(0, 1, num=11))\n",
    "ax1.set_yticks(np.linspace(0, 1, num=11))\n",
    "ax2.set_xlim([0.0, 1])\n",
    "#ax2.axes.get_yaxis().set_visible(False)\n",
    "ax1.set_xlabel('Probabilities')\n",
    "ax2.set_ylabel('Density All Prediction Values')\n",
    "#ax1.legend(loc='upper right', labels=['Correctly Classified', 'Miss Classified'])\n",
    "ax2.axes.get_yaxis().set_visible(False)\n",
    "\n",
    "ax1.legend(bbox_to_anchor= (0.953, 1), labels=['Miss Classified', 'Correctly Classified'], frameon=False)\n",
    "ax2.legend(bbox_to_anchor= (1., 0.9), labels=['Classification Distribution'], frameon=False)\n",
    "\n",
    "\n",
    "fig.savefig('predictionvalues_external.pdf', format='pdf', dpi=1200, bbox_inches='tight')"
   ]
  },
  {
   "cell_type": "code",
   "execution_count": null,
   "id": "8ea0f2a4-808b-4fcd-ad66-d19c25acd573",
   "metadata": {},
   "outputs": [],
   "source": []
  },
  {
   "cell_type": "code",
   "execution_count": null,
   "id": "8f0e9290-be86-450a-8cf5-07a9a0210f70",
   "metadata": {},
   "outputs": [],
   "source": [
    "traindata = pickle.load(open('../data/processed/COLAB.pkl', 'rb'))"
   ]
  },
  {
   "cell_type": "code",
   "execution_count": null,
   "id": "e862f607-e2e4-410a-a165-d9b5c54d25b7",
   "metadata": {},
   "outputs": [],
   "source": [
    "# Load the pickle list\n",
    "datalist = glob.glob('../data/processed/train*.pkl')\n",
    "# Init list\n",
    "traindata_before = {}\n",
    "# Loop over the pickles\n",
    "for data in datalist:\n",
    "    # Open the pickles\n",
    "    datadict = pickle.load(open(data, 'rb'))\n",
    "    # Update\n",
    "    traindata_before.update(datadict)"
   ]
  },
  {
   "cell_type": "code",
   "execution_count": null,
   "id": "dfec2deb-75d0-4aa6-84b0-b2cfe1ebb3f6",
   "metadata": {},
   "outputs": [],
   "source": [
    "zeros_before = []\n",
    "ones_before = []\n",
    "\n",
    "for key in tqdm_notebook(traindata_before.keys()):\n",
    "    for (label, chunk) in traindata_before[key]:\n",
    "        if label == 0:\n",
    "            zeros_before.append(len(chunk.split()))\n",
    "        else:\n",
    "            ones_before.append(len(chunk.split()))\n",
    "            \n",
    "zeros_before = np.array(zeros_before)\n",
    "zeros_before = zeros_before[zeros_before>0]\n",
    "\n",
    "ones_before = np.array(ones_before)\n",
    "ones_before = ones_before[ones_before>0]"
   ]
  },
  {
   "cell_type": "code",
   "execution_count": null,
   "id": "9c0a0cc4-6f3a-43b7-820d-81f95ee90e27",
   "metadata": {},
   "outputs": [],
   "source": [
    "zeros = []\n",
    "ones = []\n",
    "\n",
    "for (label, chunk) in tqdm_notebook(traindata):\n",
    "    if label == 0:\n",
    "        zeros.append(len(chunk.split()))\n",
    "    else:\n",
    "        ones.append(len(chunk.split()))\n",
    "\n"
   ]
  },
  {
   "cell_type": "code",
   "execution_count": null,
   "id": "919d46f0-7820-41ac-8012-a6ae86c9280c",
   "metadata": {},
   "outputs": [],
   "source": [
    "zeros = np.array(zeros)\n",
    "ones = np.array(ones)\n",
    "\n",
    "zeros = np.array(zeros)\n",
    "zeros = zeros[zeros>0]\n",
    "\n",
    "ones = np.array(ones)\n",
    "ones = ones[ones>0]"
   ]
  },
  {
   "cell_type": "code",
   "execution_count": null,
   "id": "2c78b676-bc2a-4fb4-9ced-575aa548f1a3",
   "metadata": {},
   "outputs": [],
   "source": [
    "sns.set_style('whitegrid')\n",
    "fig, (ax_hist_BOW, ax_box_BOW,)  = plt.subplots(2, sharex=True,\n",
    "                                                        gridspec_kw={\"height_ratios\": (.9, .1,)},\n",
    "                                                       figsize=(5, 3))\n",
    "\n",
    "logbins = np.logspace(np.log10(1),np.log10(1000), 25)\n",
    "flierprops = dict(marker='.', markerfacecolor='black', markersize=5,\n",
    "                  markeredgecolor='none')\n",
    "\n",
    "plt.xlabel('Text Length')\n",
    "\n",
    "sns.boxplot(zeros_before, ax=ax_box_BOW, showfliers=False,)\n",
    "#sc = plt.scatter([1, 1], [zeros_before.min(), zeros_before.max()])\n",
    "\n",
    "#ax_box_BOW.axis('off')\n",
    "ax_hist_BOW.hist(zeros_before, \n",
    "         bins=logbins, histtype='bar', align='mid',\n",
    "         #rwidth=0.9, stacked=False, alpha=0.8,\n",
    "         zorder=3, edgecolor=None, )\n",
    "\n",
    "ax_box_BOW.spines['right'].set_visible(False)\n",
    "ax_box_BOW.spines['top'].set_visible(False)\n",
    "ax_box_BOW.spines['left'].set_visible(False)\n",
    "ax_box_BOW.spines['bottom'].set_visible(False)\n",
    "ax_box_BOW.grid(False)\n",
    "\n",
    "ax_box_BOW.set_xscale('log')\n",
    "plt.xlabel('')\n",
    "plt.setp([ax_hist_BOW, ], xlim=(1, 1000), ylim=(0, 250000))\n",
    "#plt.tick_params(axis='y', which='both', labelsize=1) #labelsize=5 instead of labelsize=10\n",
    "#ax_box_CUB.set_title('CUB')\n",
    "plt.subplots_adjust(wspace=0, hspace=0.05)\n",
    "ax_hist_BOW.title.set_text('Non-Description Text Length Before Splitting')\n",
    "\n",
    "#sns.despine(ax=ax_box, left=True)\n",
    "#fig.savefig('histogram_text_length_1.pdf', format='pdf', dpi=1200, bbox_inches='tight')"
   ]
  },
  {
   "cell_type": "code",
   "execution_count": null,
   "id": "9c698099-8d74-47b4-868b-1ff8051dabfb",
   "metadata": {},
   "outputs": [],
   "source": [
    "# Load the pickle list\n",
    "datalist = glob.glob('../data/description/01_*PLANTS.pkl')\n",
    "# Init list\n",
    "URL_dict = {}\n",
    "# Loop over the pickles\n",
    "for data in datalist:\n",
    "    # Open the pickles\n",
    "    datadict = pickle.load(open(data, 'rb'))\n",
    "    # Update\n",
    "    URL_dict.update(datadict)"
   ]
  },
  {
   "cell_type": "code",
   "execution_count": null,
   "id": "85e2c4f1-7400-4abe-9d78-6927111f767f",
   "metadata": {},
   "outputs": [],
   "source": [
    "# Load the pickle list\n",
    "datalist = glob.glob('../data/description/02_*PLANTS.pkl')\n",
    "# Init list\n",
    "SENTS_dict = {}\n",
    "# Loop over the pickles\n",
    "for data in datalist:\n",
    "    # Open the pickles\n",
    "    datadict = pickle.load(open(data, 'rb'))\n",
    "    # Update\n",
    "    SENTS_dict.update(datadict)"
   ]
  },
  {
   "cell_type": "code",
   "execution_count": null,
   "id": "a1f9065f-4a06-4ce0-9d68-b1b70c12e448",
   "metadata": {},
   "outputs": [],
   "source": [
    "bases = []\n",
    "counts_total = []\n",
    "counts_unique = []\n",
    "for key in tqdm_notebook(URL_dict.keys()):\n",
    "    base = [urlsplit(URL).netloc for URL in URL_dict[key]]\n",
    "    counts_total.append(len(base))\n",
    "    counts_unique.append(len(list(set(base))))\n",
    "    bases += base"
   ]
  },
  {
   "cell_type": "code",
   "execution_count": null,
   "id": "8bc916cf-3cfc-484f-a645-3fcaba49f964",
   "metadata": {},
   "outputs": [],
   "source": [
    "count_text = []\n",
    "\n",
    "for key in tqdm_notebook(SENTS_dict.keys()):\n",
    "    text = [chunk for part in SENTS_dict[key] for chunk in part]\n",
    "    count_text.append(len(SENTS_dict[key]))"
   ]
  },
  {
   "cell_type": "code",
   "execution_count": null,
   "id": "7a37cfd0-c856-4581-a579-e623dba26a9f",
   "metadata": {},
   "outputs": [],
   "source": [
    "counts_total = np.array(counts_total)\n",
    "counts_total = counts_total[counts_total>0]\n",
    "\n",
    "counts_unique = np.array(counts_unique)\n",
    "counts_unique = counts_unique[counts_unique>0]\n",
    "\n",
    "count_text = np.array(count_text)\n",
    "count_text = count_text[count_text>0]"
   ]
  },
  {
   "cell_type": "code",
   "execution_count": null,
   "id": "57f9190f-9da1-4292-aa55-df5960765334",
   "metadata": {},
   "outputs": [],
   "source": [
    "fig, ax = plt.subplots(figsize=(10, 4))\n",
    "sns.set_style('whitegrid')\n",
    "ax = sns.histplot(data=[counts_total, counts_unique, count_text], #log_scale=True) \n",
    "                  binwidth=1, kde=False, multiple=\"dodge\", cbar=False)\n",
    "plt.legend(loc='upper right', labels=['URLs with Text per Species', 'Unique Base URLs per Species', 'Unique URLs per Species', ])\n",
    "#ax.set_title('Histogram')\n",
    "plt.xlim(0, 70)\n",
    "#fig.savefig('URL_distribution.pdf', format='pdf', dpi=1200, bbox_inches='tight')"
   ]
  },
  {
   "cell_type": "code",
   "execution_count": null,
   "id": "64a8acbc-3d35-4345-b389-a3ff7dda7777",
   "metadata": {},
   "outputs": [],
   "source": [
    "fig, (ax1, ax2, ax3) = plt.subplots(3, sharex=True, sharey=True, figsize=(10, 4))\n",
    "#fig.suptitle('Vertically stacked subplots')\n",
    "ax1.hist([counts_total], \n",
    "              bins=np.arange(0, 60, 1), histtype='bar', align='mid',\n",
    "              rwidth=1, stacked=False, alpha=0.8)\n",
    "ax1.legend(loc='upper right', labels=['Number of Unique URLs per Species'])\n",
    "\n",
    "#ax1.set_title(\"Unique URLs per Species\")\n",
    "ax2.hist([counts_unique], \n",
    "              bins=np.arange(0, 60, 1), histtype='bar', align='mid',\n",
    "              rwidth=1, stacked=False, color='salmon', alpha=0.8)\n",
    "ax2.legend(loc='upper right', labels=['Number of Unique Base URLs per Species'])\n",
    "\n",
    "#ax2.set_title(\"Unique Base URLs per Species\")\n",
    "ax3.hist([count_text], \n",
    "              bins=np.arange(0, 60, 1), histtype='bar', align='mid',\n",
    "              rwidth=1, stacked=False, color='green', alpha=0.6)\n",
    "ax3.legend(loc='upper right', labels=['Number of URLs with Text per Species'])\n",
    "\n",
    "#ax3.set_title(\"URLs with Text per Species\")\n",
    "\n",
    "\n",
    "plt.setp([ax1, ax2, ax3], xlim=(0, 60), ylim=(0, 2000))\n",
    "\n",
    "\n",
    "\n",
    "for ax in fig.get_axes():\n",
    "    ax.label_outer()\n",
    "    \n",
    "#fig.savefig('URL_distribution.pdf', format='pdf', dpi=1200, bbox_inches='tight')"
   ]
  },
  {
   "cell_type": "code",
   "execution_count": null,
   "id": "91487b16-81e5-478e-adcf-a1b257e145ab",
   "metadata": {},
   "outputs": [],
   "source": [
    "sns.set_style('whitegrid')\n",
    "fig, (ax, box)  = plt.subplots(2, sharex=True,\n",
    "                               gridspec_kw={\"height_ratios\": (.9, .1,)},\n",
    "                               figsize=(10, 2))\n",
    "\n",
    "flierprops = dict(marker='.', markerfacecolor='black', markersize=5,\n",
    "                  markeredgecolor='none')\n",
    "\n",
    "\n",
    "sns.boxplot(count_text, ax=box, flierprops=flierprops, color='green')\n",
    "#sc = plt.scatter([1, 1], [zeros_before.min(), zeros_before.max()])\n",
    "\n",
    "#box.axis('off')\n",
    "ax.hist(count_text, \n",
    "         bins=np.arange(0, 60, 1), histtype='bar', align='mid',\n",
    "         #rwidth=0.9, stacked=False, alpha=0.8,\n",
    "         zorder=3, edgecolor=None, color='green')\n",
    "\n",
    "box.spines['right'].set_visible(False)\n",
    "box.spines['top'].set_visible(False)\n",
    "box.spines['left'].set_visible(False)\n",
    "box.spines['bottom'].set_visible(False)\n",
    "box.grid(False)\n",
    "\n",
    "\n",
    "box.set_xticklabels(np.arange(0, 90, 10))\n",
    "plt.setp([ax], xlim=(0, 90), ylim=(0, 2000))\n",
    "plt.xlabel('')\n",
    "#plt.setp([ax, ], xlim=(1, 1000), ylim=(0, 250000))\n",
    "#plt.tick_params(axis='y', which='both', labelsize=1) #labelsize=5 instead of labelsize=10\n",
    "#ax_box_CUB.set_title('CUB')\n",
    "#plt.subplots_adjust(wspace=0, hspace=0.05)\n",
    "#ax_hist_BOW.title.set_text('Non-Description Text Length Before Splitting')\n",
    "\n",
    "#sns.despine(ax=ax_box, left=True)\n",
    "fig.savefig('URL_distribution_3.pdf', format='pdf', dpi=1200, bbox_inches='tight')"
   ]
  },
  {
   "cell_type": "code",
   "execution_count": null,
   "id": "c98cf433-5283-48ff-8bb5-14ce3db8650e",
   "metadata": {},
   "outputs": [],
   "source": []
  },
  {
   "cell_type": "code",
   "execution_count": null,
   "id": "be774698-2337-4d21-8cfd-5bb74dc8711d",
   "metadata": {},
   "outputs": [],
   "source": []
  },
  {
   "cell_type": "code",
   "execution_count": null,
   "id": "d83a9807-cbf1-4e6b-9977-51791470f5e6",
   "metadata": {},
   "outputs": [],
   "source": [
    "URLs = Counter(bases)\n",
    "URLs_sorted = {k: v for k, v in sorted(URLs.items(), key=lambda item: item[1], reverse=True)}"
   ]
  },
  {
   "cell_type": "code",
   "execution_count": null,
   "id": "6f429863-5143-4288-8486-48d833f42e83",
   "metadata": {},
   "outputs": [],
   "source": [
    "len(URLs_sorted.keys())"
   ]
  },
  {
   "cell_type": "code",
   "execution_count": null,
   "id": "83f06b64-2d63-4cec-9437-b5a6b4ff005c",
   "metadata": {},
   "outputs": [],
   "source": [
    "\n",
    "data = []\n",
    "other = 0\n",
    "for idx, key in enumerate(list(URLs_sorted.keys())):\n",
    "    if idx < 20:\n",
    "        data.append(((key.lstrip('www.')), URLs_sorted[key]))\n",
    "    else:\n",
    "        other += URLs_sorted[key]\n",
    "        \n",
    "#data.append(('other', other))"
   ]
  },
  {
   "cell_type": "code",
   "execution_count": null,
   "id": "ddfd1189-b6e4-4a01-b119-fe89d3843930",
   "metadata": {},
   "outputs": [],
   "source": [
    "other"
   ]
  },
  {
   "cell_type": "code",
   "execution_count": null,
   "id": "9774ee31-9fbc-451b-afb6-0706a44a1e4e",
   "metadata": {},
   "outputs": [],
   "source": [
    "df = pd.DataFrame(data, columns=['URL', 'Count'])\n",
    "#df_melt = df.melt(df, id_vars=['URL'], value_vars=['Count'])"
   ]
  },
  {
   "cell_type": "code",
   "execution_count": null,
   "id": "1be283fa-c0ac-409f-839e-3d0e8003fe8e",
   "metadata": {},
   "outputs": [],
   "source": [
    "df['Percentage'] = df['Count'] / (df['Count'].sum() + other) * 100\n",
    "df['Cumsum'] = df['Percentage'].cumsum()"
   ]
  },
  {
   "cell_type": "code",
   "execution_count": null,
   "id": "8a63ad00-a84d-442d-a641-702437b04b31",
   "metadata": {},
   "outputs": [],
   "source": [
    "df['Percentage'].values.sum()"
   ]
  },
  {
   "cell_type": "code",
   "execution_count": null,
   "id": "ea61d0a4-c76f-48de-835d-957ba169551a",
   "metadata": {},
   "outputs": [],
   "source": [
    "fig, ax = plt.subplots(figsize=(10, 4))\n",
    "sns.set_style('whitegrid')\n",
    "#sns.set_theme(style=\"darkgrid\")\n",
    "ax = sns.barplot(y='Count', x=\"URL\", data=df,\n",
    "                color=\"salmon\", saturation=.5)\n",
    "ax.set_xticklabels(df['URL'], rotation=30, ha=\"right\")\n",
    "for p, value in zip(ax.patches, df['Percentage'].values):\n",
    "    ax.annotate(f'{value:.2f}%', xy=(p.get_x()+p.get_width()/5, p.get_height()),\n",
    "                ha='left', va='bottom', rotation=30, )#arrowprops=dict(arrowstyle=\"-\", color='black'))\n",
    "#ax.bar_label(ax.containers[-1], fmt='\\n%.2f', label_type='center')\n",
    "#ax.bar_label(ax.containers[0], label_type='center')\n",
    "#ax2 = plt.twinx()\n",
    "#ax2 = sns.lineplot(y='Cumsum', x=\"URL\", data=df)\n",
    "#fig.savefig('URL_top20.pdf', format='pdf', dpi=1200, bbox_inches='tight')"
   ]
  },
  {
   "cell_type": "code",
   "execution_count": null,
   "id": "88b6d15e-9e35-4761-a1f9-dc56db837056",
   "metadata": {},
   "outputs": [],
   "source": [
    "test = [bar for bar in ax.containers[0]]"
   ]
  },
  {
   "cell_type": "code",
   "execution_count": null,
   "id": "11bd0252-3f6a-447d-86ee-3db4c0c9ce11",
   "metadata": {},
   "outputs": [],
   "source": [
    "test[0]."
   ]
  },
  {
   "cell_type": "code",
   "execution_count": null,
   "id": "87d1342e-529d-45a8-9fc0-b8bb4fec0cfb",
   "metadata": {},
   "outputs": [],
   "source": [
    "SENT_amount = []\n",
    "#SENT_length = []\n",
    "for species in tqdm_notebook(SENTS_dict.keys()):\n",
    "    sent = [chunk for list_ in SENTS_dict[species] for chunk in list_]\n",
    "    SENT_amount.append(len(sent))\n"
   ]
  },
  {
   "cell_type": "code",
   "execution_count": null,
   "id": "b02720ca-834c-4edb-bb60-107c66738654",
   "metadata": {},
   "outputs": [],
   "source": [
    "# Load the pickle list\n",
    "datalist = glob.glob('../data/description/03_DESC*PLANTS.pkl')\n",
    "# Init list\n",
    "DESC_dict = {}\n",
    "# Loop over the pickles\n",
    "for data in datalist:\n",
    "    # Open the pickles\n",
    "    datadict = pickle.load(open(data, 'rb'))\n",
    "    # Update\n",
    "    DESC_dict.update(datadict)\n",
    "\n",
    "\n",
    "DESC_dict = pickle.load(open('../data/description/04_TRAIN_0000000-0014557_PLANTS.pkl', 'rb'))"
   ]
  },
  {
   "cell_type": "code",
   "execution_count": null,
   "id": "699fb4df-6ee5-47f2-ae8f-b4ac6635d288",
   "metadata": {},
   "outputs": [],
   "source": [
    "DESC_amount = []\n",
    "#SENT_length = []\n",
    "for species in tqdm_notebook(DESC_dict.keys()):\n",
    "    DESC_amount.append(len(DESC_dict[species]))"
   ]
  },
  {
   "cell_type": "code",
   "execution_count": null,
   "id": "7f2fe8ff-a2cf-44f9-9cd5-61451a0f1d3e",
   "metadata": {},
   "outputs": [],
   "source": [
    "SENT_amount = np.array(SENT_amount)\n",
    "SENT_amount = SENT_amount[SENT_amount>0]\n",
    "\n",
    "DESC_amount = np.array(DESC_amount)"
   ]
  },
  {
   "cell_type": "code",
   "execution_count": null,
   "id": "5c8eb271-2975-413b-8cb6-d64897688e59",
   "metadata": {},
   "outputs": [],
   "source": [
    "DESC_amount.sum()"
   ]
  },
  {
   "cell_type": "code",
   "execution_count": null,
   "id": "32f3374c-6fc8-459f-b5e3-3724de5cddec",
   "metadata": {},
   "outputs": [],
   "source": [
    "fig, ax = plt.subplots(figsize=(10, 4))\n",
    "sns.set_style('whitegrid')\n",
    "ax = sns.histplot(data=[SENT_amount, DESC_amount], log_scale=True, kde=False)\n",
    "plt.legend(loc='upper right', labels=['Description per Species', 'Sentences per Species'])\n",
    "#ax.set_title('Histogram')\n",
    "plt.xlim([1, 10**3.5])\n",
    "plt.ylim([0, 1600])\n",
    "fig.savefig('text_distribution.pdf', format='pdf', dpi=1200, bbox_inches='tight')"
   ]
  },
  {
   "cell_type": "code",
   "execution_count": null,
   "id": "6f929a3d-8dd6-466f-b8d9-b5770be6ecdc",
   "metadata": {},
   "outputs": [],
   "source": [
    "sns.set_style('whitegrid')\n",
    "fig, (ax_hist_BOW, ax_box_BOW,)  = plt.subplots(2, sharex=True,\n",
    "                                                gridspec_kw={\"height_ratios\": (.9, .1,)},\n",
    "                                                figsize=(10, 3))\n",
    "\n",
    "logbins = np.logspace(np.log10(1),np.log10(10000), 70)\n",
    "flierprops = dict(marker='.', markerfacecolor='black', markersize=5,\n",
    "                  markeredgecolor='none')\n",
    "\n",
    "#plt.xlabel('Text Length')\n",
    "\n",
    "sns.boxplot(DESC_amount, ax=ax_box_BOW, flierprops=flierprops, color='orange')\n",
    "#sc = plt.scatter([1, 1], [zeros_before.min(), zeros_before.max()])\n",
    "\n",
    "#ax_box_BOW.axis('off')\n",
    "ax_hist_BOW.hist(DESC_amount, color='orange',\n",
    "         bins=logbins, histtype='bar', align='mid', alpha=0.8,\n",
    "         #rwidth=0.9, stacked=False, alpha=0.8,\n",
    "         zorder=3, edgecolor=None, )\n",
    "\n",
    "ax_box_BOW.spines['right'].set_visible(False)\n",
    "ax_box_BOW.spines['top'].set_visible(False)\n",
    "ax_box_BOW.spines['left'].set_visible(False)\n",
    "ax_box_BOW.spines['bottom'].set_visible(False)\n",
    "ax_box_BOW.grid(False)\n",
    "\n",
    "ax_box_BOW.set_xscale('log')\n",
    "plt.xlabel('')\n",
    "plt.setp([ax_hist_BOW, ], xlim=(1, 10000), ylim=(0, 2000))\n",
    "#plt.tick_params(axis='y', which='both', labelsize=1) #labelsize=5 instead of labelsize=10\n",
    "#ax_box_CUB.set_title('CUB')\n",
    "plt.subplots_adjust(wspace=0, hspace=0.05)\n",
    "fig.savefig('text_distribution_2.pdf', format='pdf', dpi=1200, bbox_inches='tight')"
   ]
  },
  {
   "cell_type": "code",
   "execution_count": null,
   "id": "28770c80-012c-4d40-b5b8-fd0899d35795",
   "metadata": {},
   "outputs": [],
   "source": [
    "fig, (hist, box) = plt.subplots(2, sharex=True, sharey=True, figsize=(10, 3))\n",
    "\n",
    "logbins = np.logspace(np.log10(1),np.log10(10000), 70)\n",
    "\n",
    "ax1.hist([SENT_amount], \n",
    "              bins=logbins, histtype='bar', align='mid',\n",
    "              rwidth=1, stacked=False, alpha=0.8)\n",
    "ax1.legend(loc='upper right', labels=['Sentences per Species'])\n",
    "\n",
    "'''\n",
    "ax2.hist([DESC_amount], color='orange',\n",
    "              bins=logbins, histtype='bar', align='mid',\n",
    "              rwidth=1, stacked=False, alpha=0.8)\n",
    "ax2.legend(loc='upper right', labels=['Description Sentences per Species'])\n",
    "\n",
    "ax1.set_xscale('log')\n",
    "ax2.set_xscale('log')\n",
    "plt.setp([ax1, ax2,], xlim=(1, 10000), ylim=(0, 2000))\n",
    "#fig.savefig('text_distribution.pdf', format='pdf', dpi=1200, bbox_inches='tight')"
   ]
  },
  {
   "cell_type": "markdown",
   "id": "137b5856-8923-4351-a50f-3a4a7aa2be89",
   "metadata": {},
   "source": [
    "## CUB set"
   ]
  },
  {
   "cell_type": "code",
   "execution_count": null,
   "id": "bfa97a83-ac6e-47a8-af84-449ec43eb3d4",
   "metadata": {},
   "outputs": [],
   "source": [
    "# Open the text file\n",
    "location = \"../data/external/CUB_200_2011/CUB_200_2011/classes.txt\"\n",
    "with open(location) as f:\n",
    "    lines = f.readlines()\n",
    "# Init regex\n",
    "regex = r'\\d+\\s\\d+\\.'\n",
    "# Clean the list\n",
    "CUB = [re.sub(regex, '', line).rstrip().replace('_', ' ') for line in lines]\n",
    "# Open the text file\n",
    "location = \"../data/external/CUB_200_2011/attributes.txt\"\n",
    "with open(location) as f:\n",
    "    lines = f.readlines()\n",
    "    \n",
    "attribute_list = []\n",
    "\n",
    "# Create a DF with attributes\n",
    "for line in lines:\n",
    "    line = line.strip()\n",
    "    attributes = line.split()[1].split('::')\n",
    "    part = attributes[0]\n",
    "    adjective = attributes[1]\n",
    "    attribute_list.append((part, adjective))\n",
    "    \n",
    "# Create DF        \n",
    "df_attributes = pd.DataFrame(attribute_list, columns=['Part', 'Adj'])\n",
    "# Reset the index\n",
    "df_attributes.index = np.arange(1, len(df_attributes)+1)\n",
    "# Open the text file\n",
    "location = \"../data/external/CUB_200_2011/CUB_200_2011/attributes/image_attribute_labels.txt\"\n",
    "\n",
    "with open(location) as f:\n",
    "    lines = f.readlines()\n",
    "# Open the text file\n",
    "location = \"../data/external/CUB_200_2011/CUB_200_2011/images.txt\"\n",
    "with open(location) as f:\n",
    "    img_ids = f.readlines()\n",
    "    \n",
    "# Create DF will all present parts\n",
    "CUB_dict = collections.defaultdict(list)\n",
    "# Loop over lines\n",
    "for line in tqdm_notebook(lines):\n",
    "    data = line.split()\n",
    "    # Skip non present\n",
    "    if not int(data[2]):\n",
    "        continue\n",
    "    # Skip uncertain things\n",
    "    if int(data[3]) < 4:\n",
    "        continue\n",
    "    # Otherwise append\n",
    "    #print(CUB[int(img_ids[int(data[0])].split()[1][0:3]) - 1], data)\n",
    "    CUB_dict[CUB[int(img_ids[int(data[0])-1].split()[1][0:3]) - 1]].append((df_attributes.loc[int(data[1]), ][0], df_attributes.loc[int(data[1]), ][1]))\n",
    "    \n",
    "# Drop duplicates\n",
    "# Images are annotated per image and not bird\n",
    "# Resulting in multiple sightings per bird\n",
    "for bird in CUB_dict.keys():\n",
    "    CUB_dict[bird] = list(set(CUB_dict[bird]))"
   ]
  },
  {
   "cell_type": "code",
   "execution_count": null,
   "id": "c23a0cb4-081b-4ec8-865c-b1eb9092d516",
   "metadata": {},
   "outputs": [],
   "source": [
    "# Open the text file\n",
    "location = \"../data/external/birds_matched.txt\"\n",
    "with open(location) as f:\n",
    "    lines = f.readlines()"
   ]
  },
  {
   "cell_type": "code",
   "execution_count": null,
   "id": "3d70e5d5-7b6e-4966-81f8-b588d2547ab4",
   "metadata": {},
   "outputs": [],
   "source": [
    "matched_birds = []\n",
    "\n",
    "for line in lines[1:]:\n",
    "    (idx, CUB, BOW) = line.split(';')\n",
    "    matched_birds.append((CUB.strip(), BOW.strip()))\n",
    "\n"
   ]
  },
  {
   "cell_type": "code",
   "execution_count": null,
   "id": "7d65b2a7-a2f4-4fc3-8e05-8c13c1274551",
   "metadata": {},
   "outputs": [],
   "source": [
    "BOW_dict = pickle.load(open('../data/description/04_TRAIN_0000000-0002000_BIRDS.pkl', 'rb'))"
   ]
  },
  {
   "cell_type": "code",
   "execution_count": null,
   "id": "6783de2d-529b-47f7-b1e5-1a9f9a11e5ca",
   "metadata": {},
   "outputs": [],
   "source": [
    "combined_dict = collections.defaultdict(list)\n",
    "\n",
    "for (CUB, BOW) in matched_birds:\n",
    "    combined_dict[BOW].append(len(CUB_dict[CUB]))\n",
    "    combined_dict[BOW].append(len(BOW_dict[BOW]))"
   ]
  },
  {
   "cell_type": "code",
   "execution_count": null,
   "id": "971668e3-44c1-481b-90a6-681e3d5292a2",
   "metadata": {},
   "outputs": [],
   "source": [
    "df = pd.DataFrame(combined_dict, )\n",
    "df = df.T\n",
    "df.columns = ['CUB', 'BOW']\n",
    "df['Bird'] = df.index"
   ]
  },
  {
   "cell_type": "code",
   "execution_count": null,
   "id": "fb62d51f-c2e4-4599-af6e-dad8001c9686",
   "metadata": {},
   "outputs": [],
   "source": [
    "df_melt = df.melt(id_vars=['Bird'], value_vars=['CUB', 'BOW'])"
   ]
  },
  {
   "cell_type": "code",
   "execution_count": null,
   "id": "8f07e4b7-a0e0-4fe0-9602-d8c9fe87a394",
   "metadata": {},
   "outputs": [],
   "source": [
    "df_melt"
   ]
  },
  {
   "cell_type": "code",
   "execution_count": null,
   "id": "3b0df331-d606-4834-ab13-05e4e952d15c",
   "metadata": {},
   "outputs": [],
   "source": [
    "fig, ax = plt.subplots(figsize=(10, 4))\n",
    "sns.set_style('whitegrid')\n",
    "#sns.set_theme(style=\"darkgrid\")\n",
    "ax = sns.violinplot(y='variable', x=\"value\", data=df_melt)"
   ]
  },
  {
   "cell_type": "code",
   "execution_count": null,
   "id": "46d8edcb-5f13-40de-a651-bbbaf5a6d49c",
   "metadata": {},
   "outputs": [],
   "source": [
    "sns.set_style('whitegrid')\n",
    "fig, (ax_hist_BOW, ax_box_BOW, ax_hist_CUB, ax_box_CUB, ) = plt.subplots(4, sharex=True,\n",
    "                                                        gridspec_kw={\"height_ratios\": (.9, .1, .9, .10)},\n",
    "                                                       figsize=(10, 6))\n",
    "\n",
    "\n",
    "flierprops = dict(marker='.', markerfacecolor='black', markersize=5,\n",
    "                  markeredgecolor='none')\n",
    "\n",
    "\n",
    "sns.boxplot(df['BOW'], ax=ax_box_BOW, flierprops=flierprops)\n",
    "ax_box_BOW.axis('off')\n",
    "ax_hist_BOW.hist([df['BOW']], \n",
    "         bins=np.arange(0, 250, 5), histtype='bar', align='mid',\n",
    "         rwidth=0.9, stacked=False, alpha=0.8,\n",
    "         zorder=3, edgecolor=None)\n",
    "ax_hist_BOW.legend(loc='upper right', labels=['Descriptions per Bird (Our Set)'])\n",
    "\n",
    "#ax_box_BOW.set_title('BOW')\n",
    "#plt.subplots_adjust(hspace = 0.25 )\n",
    "sns.boxplot(df['CUB'], ax=ax_box_CUB, color='orange', flierprops=flierprops)\n",
    "#ax_box_CUB.axis('off')\n",
    "ax_box_CUB.spines['right'].set_visible(False)\n",
    "ax_box_CUB.spines['top'].set_visible(False)\n",
    "ax_box_CUB.spines['left'].set_visible(False)\n",
    "ax_box_CUB.spines['bottom'].set_visible(False)\n",
    "ax_box_CUB.grid(False)\n",
    "\n",
    "#ax_box_CUB.tick_params(axis=u'both', which=u'both',length=0)\n",
    "#ax_box_CUB.spines['mid'].set_visible(False)\n",
    "#ax_box_CUB.xaxis.set_ticks_position('bottom')\n",
    "ax_hist_CUB.hist([df['CUB']], \n",
    "         bins=np.arange(0, 250, 5), histtype='bar', align='mid',\n",
    "         rwidth=0.9, stacked=False, alpha=0.8,\n",
    "         zorder=3, edgecolor=None, color='orange')\n",
    "ax_hist_CUB.legend(loc='upper right', labels=['Descriptions per Bird (CUB Set)'])\n",
    "plt.xlabel('')\n",
    "plt.setp([ax_hist_BOW, ax_hist_CUB,], xlim=(0, 250), ylim=(0, 20))\n",
    "#plt.tick_params(axis='y', which='both', labelsize=1) #labelsize=5 instead of labelsize=10\n",
    "#ax_box_CUB.set_title('CUB')\n",
    "#sns.despine(ax=ax_hist)\n",
    "#sns.despine(ax=ax_box, left=True)\n",
    "fig.savefig('CUB_distribution.pdf', format='pdf', dpi=1200, bbox_inches='tight')"
   ]
  },
  {
   "cell_type": "code",
   "execution_count": null,
   "id": "4a53c1ba-77cb-482f-935f-10e696d46d25",
   "metadata": {},
   "outputs": [],
   "source": [
    "sns.set_style('whitegrid')\n",
    "fig, (ax_hist_CUB, ax_box_CUB, ) = plt.subplots(2, sharex=True,\n",
    "                                                gridspec_kw={\"height_ratios\": (.9, .10)},\n",
    "                                               figsize=(10, 3))\n",
    "\n",
    "\n",
    "flierprops = dict(marker='.', markerfacecolor='black', markersize=5,\n",
    "                  markeredgecolor='none')\n",
    "\n",
    "\n",
    "sns.boxplot(df['CUB'], ax=ax_box_CUB, color='orange', flierprops=flierprops)\n",
    "ax_box_CUB.spines['right'].set_visible(False)\n",
    "ax_box_CUB.spines['top'].set_visible(False)\n",
    "ax_box_CUB.spines['left'].set_visible(False)\n",
    "ax_box_CUB.spines['bottom'].set_visible(False)\n",
    "ax_box_CUB.grid(False)\n",
    "\n",
    "\n",
    "ax_hist_CUB.hist([df['CUB']], \n",
    "         bins=np.arange(0, 250, 5), histtype='bar', align='mid',\n",
    "         rwidth=0.9, stacked=False, alpha=0.8,\n",
    "         zorder=3, edgecolor=None, color='orange')\n",
    "plt.xlabel('')\n",
    "plt.setp([ax_hist_BOW, ax_hist_CUB,], xlim=(0, 250), ylim=(0, 20))\n",
    "\n",
    "fig.savefig('CUB_distribution_CUB.pdf', format='pdf', dpi=1200, bbox_inches='tight')"
   ]
  },
  {
   "cell_type": "code",
   "execution_count": null,
   "id": "5e5ced0a-3b1d-4199-bcff-2d357aadf131",
   "metadata": {},
   "outputs": [],
   "source": [
    "sns.set_style('whitegrid')\n",
    "fig, (ax_hist_CUB, ax_box_CUB, ) = plt.subplots(2, sharex=True,\n",
    "                                                gridspec_kw={\"height_ratios\": (.9, .10)},\n",
    "                                               figsize=(10, 3))\n",
    "\n",
    "\n",
    "flierprops = dict(marker='.', markerfacecolor='black', markersize=5,\n",
    "                  markeredgecolor='none')\n",
    "\n",
    "\n",
    "sns.boxplot(df['BOW'], ax=ax_box_CUB, color='#1f77b4', flierprops=flierprops)\n",
    "ax_box_CUB.spines['right'].set_visible(False)\n",
    "ax_box_CUB.spines['top'].set_visible(False)\n",
    "ax_box_CUB.spines['left'].set_visible(False)\n",
    "ax_box_CUB.spines['bottom'].set_visible(False)\n",
    "ax_box_CUB.grid(False)\n",
    "\n",
    "\n",
    "ax_hist_CUB.hist([df['BOW']], \n",
    "         bins=np.arange(0, 250, 5), histtype='bar', align='mid',\n",
    "         rwidth=0.9, stacked=False, alpha=0.8,\n",
    "         zorder=3, edgecolor=None, color='#1f77b4')\n",
    "plt.xlabel('')\n",
    "plt.setp([ax_hist_BOW, ax_hist_CUB,], xlim=(0, 250), ylim=(0, 20))\n",
    "\n",
    "fig.savefig('CUB_distribution_BOW.pdf', format='pdf', dpi=1200, bbox_inches='tight')"
   ]
  },
  {
   "cell_type": "code",
   "execution_count": null,
   "id": "1c7e4030-efad-48d9-a2cf-08f189e0f96d",
   "metadata": {},
   "outputs": [],
   "source": [
    "import requests\n",
    "from bs4 import BeautifulSoup\n",
    "import spacy\n",
    "nlp = spacy.load('en_core_web_trf')\n",
    "# URL\n",
    "URL = 'https://en.wikipedia.org/wiki/Glossary_of_bird_terms'\n",
    "# Get the page\n",
    "page = requests.get(URL, timeout=5)\n",
    "soup = BeautifulSoup(page.content, \"lxml\", from_encoding=\"iso-8859-1\")   \n",
    "# Find embedded glossary\n",
    "glossaries = soup.find_all('dt', {'class': 'glossary'})\n",
    "parts = [part.text.lower().strip() for part in glossaries]\n",
    "# Get additional anchors (\"also know as...\")\n",
    "glossaries_other = soup.find_all('span', {'class': 'anchor'})\n",
    "parts_other = [part['id'].lower().strip() for part in glossaries_other]\n",
    "# Append and drop duplicates\n",
    "parts = list(set((parts + parts_other)))\n",
    "# Replace underscore with space\n",
    "parts = [part.replace('_', ' ') for part in parts]"
   ]
  },
  {
   "cell_type": "code",
   "execution_count": null,
   "id": "7ce17382-8d86-4a37-82a0-d6bb8c1d5d5d",
   "metadata": {},
   "outputs": [],
   "source": [
    "#combined_dict = collections.defaultdict(list)#\n",
    "#\n",
    "#for (CUB, BOW) in matched_birds:\n",
    "#    for sents in CUB_dict[CUB]:\n",
    "#        doc = nlp(doc)\n",
    "#        \n",
    "#    combined_dict[BOW].append(len(CUB_dict[CUB]))\n",
    "#    combined_dict[BOW].append(len(BOW_dict[BOW]))"
   ]
  },
  {
   "cell_type": "code",
   "execution_count": null,
   "id": "b23b1f4e-ba9b-49b7-8243-4b7deefea331",
   "metadata": {},
   "outputs": [],
   "source": [
    "from scipy.stats import hmean\n"
   ]
  },
  {
   "cell_type": "code",
   "execution_count": null,
   "id": "ca597368-477a-404f-8e7b-7267ab455bb4",
   "metadata": {},
   "outputs": [],
   "source": [
    "df_ATB =  pd.read_pickle('../data/processed/df_ATB.pkl')"
   ]
  },
  {
   "cell_type": "code",
   "execution_count": null,
   "id": "6b642ef9-b20c-49ae-8d1a-47b047b5a6bb",
   "metadata": {},
   "outputs": [],
   "source": [
    "df_melt = pd.melt(df_ATB, id_vars=['Attribution'], value_vars=['Max'])\n",
    "\n",
    "\n",
    "df_HM = df_ATB.groupby(['Attribution'])['Max'].apply(hmean).to_frame()\n",
    "df_MN = df_ATB.groupby(['Attribution'])['Max'].apply(np.mean).to_frame()\n",
    "df_MD = df_ATB.groupby(['Attribution'])['Max'].apply(np.median).to_frame()\n",
    "order = df_ATB.groupby(\"Attribution\")[\"Max\"].apply(hmean).fillna(0).sort_values(ascending=False)[::-1].index\n",
    "\n",
    "\n",
    "df_HM['ATB'] = df_HM.index\n",
    "df_HM.ATB = df_HM.ATB.astype(\"category\")\n",
    "df_HM.ATB.cat.set_categories(order, inplace=True)\n",
    "HMEAN = df_HM.sort_values([\"ATB\"])\n",
    "HMEAN = HMEAN.values\n",
    "\n",
    "df_MN['ATB'] = df_MN.index\n",
    "df_MN.ATB = df_MN.ATB.astype(\"category\")\n",
    "df_MN.ATB.cat.set_categories(order, inplace=True)\n",
    "MEAN = df_MN.sort_values([\"ATB\"])\n",
    "MEAN = MEAN.values\n",
    "\n",
    "df_MD['ATB'] = df_MD.index\n",
    "df_MD.ATB = df_MD.ATB.astype(\"category\")\n",
    "df_MD.ATB.cat.set_categories(order, inplace=True)\n",
    "MEDIAN = df_MD.sort_values([\"ATB\"])\n",
    "MEDIAN = MEDIAN.values\n",
    "\n",
    "legend_elements = [Line2D([0], [0], color='black', lw=2, label='Harmonic Mean', linestyle='solid'),\n",
    "                   Line2D([0], [0], color='black', lw=2, label='Normal Mean', linestyle='dashed'),\n",
    "                   Line2D([0], [0], color='black', lw=2, label='Median', linestyle='dotted')]\n",
    "\n",
    "\n",
    "labels = [\n",
    "    'Layer Gradient\\nX Activation',\n",
    "    'Shapley Value\\nSampling',\n",
    "    'Occlusion\\nWindow 1, Stride 1',\n",
    "    'Occlusion\\nWindow 3, Stride 2',\n",
    "    '\\nLayer Attention',\n",
    "    'Integrated Gradients\\n20 Steps',\n",
    "    'Integrated Gradients\\n50 Steps',\n",
    "    'Part-of-Speech and\\nDependency Parsing'\n",
    "]\n",
    "\n",
    "#fig, ax = plt.subplots(figsize=(10, 10))\n",
    "sns.set_theme(style=\"white\", rc={\"axes.facecolor\": (0, 0, 0, 0)}, )\n",
    "\n",
    "# Initialize the FacetGrid object\n",
    "pal = sns.cubehelix_palette(10, rot=-.25, light=.7)\n",
    "g = sns.FacetGrid(df_melt[df_melt['value'] > 0.63], row=\"Attribution\", hue=\"Attribution\", \n",
    "                 row_order=order, hue_order=order,  palette=pal, size=2, aspect=7,)\n",
    "g.set(xlim=(0.6, 1.0), xticks=([0.6, 0.65, 0.7, 0.75, 0.8, 0.85, 0.9, 0.95, 1.0]))\n",
    "# Draw the densities in a few steps\n",
    "g.map(sns.kdeplot, \"value\",\n",
    "      bw_adjust=.5, clip_on=False,\n",
    "      fill=True, alpha=1, linewidth=1.5, )\n",
    "g.map(sns.kdeplot, \"value\", clip_on=False, color=\"w\", lw=2, bw_adjust=.5, )\n",
    "#g.map(sns.stripplot, x=df_HM['Max'], y=df_HM.index,  order = order,\n",
    "#              jitter=False, size=5, linewidth=.1, color='white',\n",
    "#             marker=\"d\")\n",
    "\n",
    "#g.refline(y=0, linewidth=2, linestyle=\"-\", color=None, clip_on=False)\n",
    "#ax.set_xlim(left=0.5, right=1.0)\n",
    "def label(x, color, label):\n",
    "    ax = plt.gca()\n",
    "    ax.text(0, .2, label, color='black',\n",
    "            ha=\"left\", va=\"center\", transform=ax.transAxes)\n",
    "\n",
    "\n",
    "#g.map(label, 'value')\n",
    "\n",
    "# Set the subplots to overlap\n",
    "g.fig.subplots_adjust(hspace=-.00)\n",
    "\n",
    "# Remove axes details that don't play well with overlap\n",
    "g.set_titles(\"\")\n",
    "g.set(yticks=[], ylabel=\"\", )\n",
    "#g.set_ylabels(labels)\n",
    "\n",
    "\n",
    "\n",
    "\n",
    "\n",
    "# flatten axes into a 1-d array\n",
    "axes = g.axes.flatten()\n",
    "# iterate through the axes\n",
    "for label, (i, ax) in zip(labels, enumerate(axes)):\n",
    "    ax.axvline(HMEAN[i][0],ymax=0.74, ls='solid', c='white')\n",
    "    ax.axvline(MEAN[i][0],ymax=0.74, ls='dashed', c='white')\n",
    "    ax.axvline(MEDIAN[i][0],ymax=0.74, ls='dotted', c='white')\n",
    "    ax.set_ylabel(label, rotation=0, ha=\"left\", va=\"center\",\n",
    "                 fontweight='bold', fontsize='xx-large')\n",
    "    ax.yaxis.set_label_coords(0.0,0.18)\n",
    "    #ax.text(la[i][2], la[i][3], la[i][4], c='orange')\n",
    "\n",
    "g.despine(bottom=False, left=True)\n",
    "plt.xlabel(\"Similarity Value\", fontsize='large')\n",
    "plt.xticks(fontsize=14)\n",
    "#plt.gca(frameon=True)\n",
    "g.add_legend(ncol=3, frameon=False, handles=legend_elements, bbox_to_anchor=(0.48, -0.01), fontsize='xx-large',\n",
    "            fancybox=True, title='', )\n",
    "g.savefig('densities.pdf', format='pdf', dpi=1200, bbox_inches='tight')\n",
    "\n",
    "\n",
    "'''\n",
    "fig, ax = plt.subplots(figsize=(10, 10))\n",
    "sns.set(style=\"whitegrid\", palette=\"light:g\", color_codes=True)\n",
    "sns.set_context(\"paper\", rc={\"lines.linewidth\": 0.8})\n",
    "pal = sns.cubehelix_palette(10, rot=-.25, light=.7)\n",
    "\n",
    "df_HM = df_ATB.groupby(['Attribution'])['Max'].apply(hmean).to_frame()\n",
    "df_MN = df_ATB.groupby(['Attribution'])['Max'].apply(np.mean).to_frame()\n",
    "df_MD = df_ATB.groupby(['Attribution'])['Max'].apply(np.median).to_frame()\n",
    "order = df_ATB.groupby(\"Attribution\")[\"Max\"].apply(hmean).fillna(0).sort_values(ascending=False)[::-1].index\n",
    "\n",
    "# Plot the orbital period with horizontal boxes\n",
    "ax = sns.violinplot(x=\"value\", y=\"Attribution\", data=df_melt, #df_melt[df_melt.value > 0.5],\n",
    "                 whis=np.inf,  palette=pal,  order = order, bw=0.1, cut=0,\n",
    "                   inner='box')\n",
    "\n",
    "#ax = sns.boxplot(x=\"value\", y=\"Attribution\", data=df_melt,\n",
    "#                  palette=\"light:g\",  order = order)\n",
    "\n",
    "\n",
    "sns.stripplot(x=df_HM['Max'], y=df_HM.index,  order = order,\n",
    "              jitter=False, size=5, linewidth=.1, color='white',\n",
    "             marker=\"d\")\n",
    "\n",
    "\n",
    "sns.stripplot(x=df_MN['Max'], y=df_MN.index,  order = order,\n",
    "              jitter=False, size=5, linewidth=.1, color='white',\n",
    "             marker=\"o\")\n",
    "\n",
    "sns.stripplot(x=df_MD['Max'], y=df_MD.index,  order = order,\n",
    "              jitter=False, size=5, linewidth=.1, color='white',\n",
    "             marker=\"p\")\n",
    "\n",
    "\n",
    "\n",
    "ax.set_xlim(left=0.1, right=1.0)\n",
    "#ax.set_xticks([0.1, 0.2, 0.3, 0.4, 0.5, 0.6, 0.7, 0.8, 0.9, 1.0])\n",
    "ax.set_xlabel('Similarity Value')\n",
    "ax.set_ylabel('')\n",
    "\n",
    "\n",
    "ax.set_yticklabels([\n",
    "    'Layer Gradient\\nX Activation',\n",
    "    'Shapley Value\\nSampling',\n",
    "    'Occlusion\\nWindow 1, Stride 1',\n",
    "    'Occlusion\\nWindow 3, Stride 2',\n",
    "    'Layer Attention',\n",
    "    'Integrated Gradients\\n20 Steps',\n",
    "    'Integrated Gradients\\n50 Steps',\n",
    "    'Part-of-Speech and\\n Dependency Parsing'\n",
    "])\n",
    "\n",
    "# Make the quantitative axis logarithmic\n",
    "#ax.set_xscale(\"log\")\n",
    "sns.despine(trim=True)\n",
    "fig.savefig('hmean_violinplot.pdf', format='pdf', dpi=1200, bbox_inches='tight')\n",
    "'''"
   ]
  },
  {
   "cell_type": "code",
   "execution_count": 4,
   "id": "d7a5bc40-de0c-4ba2-b9a1-260fe9fc0f57",
   "metadata": {},
   "outputs": [],
   "source": [
    "import networkx as nx\n",
    "from networkx.drawing.nx_agraph import graphviz_layout\n",
    "import matplotlib.pyplot as plt\n",
    "import matplotlib.colors as mcolors\n",
    "from netgraph import Graph"
   ]
  },
  {
   "cell_type": "code",
   "execution_count": 31,
   "id": "5413957b-3f5d-418f-a64f-e638ad286779",
   "metadata": {},
   "outputs": [
    {
     "data": {
      "image/png": "[encoded data removed]",
      "text/plain": [
       "<Figure size 864x432 with 1 Axes>"
      ]
     },
     "metadata": {},
     "output_type": "display_data"
    }
   ],
   "source": [
    "kg = [\n",
    "    ('Brown bear', 'have', 'claw'),\n",
    "    ('Brown bear', 'have', 'fur'),\n",
    "    ('fur', 'be', 'brown'),\n",
    "    ('claw', 'be', 'sharp'),\n",
    "]\n",
    "\n",
    "df = pd.DataFrame(kg, columns=['source', 'edge', 'target'])\n",
    "\n",
    "G=nx.from_pandas_edgelist(df, \"source\", \"target\", \n",
    "                          edge_attr=True, create_using=nx.Graph())\n",
    "\n",
    "fig, ax = plt.subplots(figsize=(12, 6))\n",
    "#plt.figure(figsize=(8, 3))\n",
    "labels = dict(zip(list(zip(df.source, df.target)),\n",
    "                  df['edge'].tolist()))\n",
    "\n",
    "node_size = {\n",
    "    'Brown bear': 4,\n",
    "    'fur': 3,\n",
    "    'claw': 3,\n",
    "    'sharp': 2,\n",
    "    'brown': 2,\n",
    "}\n",
    "\n",
    "node_color = {\n",
    "    'Brown bear': 'white',\n",
    "    'fur': 'white',\n",
    "    'claw': 'white',\n",
    "    'sharp': 'white',\n",
    "    'brown': 'white',    \n",
    "}\n",
    "\n",
    "fixed = {\n",
    "    'Brown bear': np.array([0, 0.5]),\n",
    "    'fur': np.array([.2, .55]),\n",
    "    'claw': np.array([.2, .45]),\n",
    "    'sharp': np.array([.4, .45]),\n",
    "    'brown': np.array([.4, .55]),\n",
    "}\n",
    "\n",
    "node_labels = {node : node for node in G}\n",
    "\n",
    "\n",
    "Graph(G, node_labels=node_labels, edge_layout='curved', arrows=True,\n",
    "      node_layout=pos, node_size=node_size, node_color=node_color, edge_labels=labels,\n",
    "     node_label_offset=(0.00, -0.05),\n",
    "           node_label_fontdict=dict(size=20),\n",
    "      edge_label_fontdict=dict(size=15),)\n",
    "plt.savefig('kn_example_v2.pdf', format='pdf', dpi=1200, bbox_inches='tight')\n",
    "\n"
   ]
  },
  {
   "cell_type": "code",
   "execution_count": 8,
   "id": "a017f9c1-f912-4aaa-9d8a-8d41819ebafa",
   "metadata": {},
   "outputs": [
    {
     "data": {
      "image/png": "[encoded data removed]",
      "text/plain": [
       "<Figure size 864x432 with 1 Axes>"
      ]
     },
     "metadata": {},
     "output_type": "display_data"
    }
   ],
   "source": [
    "kg = [\n",
    "    ('capsule', 'beaked_by', 'style'),\n",
    "    ('style', 'has_property', 'persistent'),\n",
    "]\n",
    "\n",
    "df = pd.DataFrame(kg, columns=['source', 'edge', 'target'])\n",
    "\n",
    "G=nx.from_pandas_edgelist(df, \"source\", \"target\", \n",
    "                          edge_attr=True, create_using=nx.Graph())\n",
    "\n",
    "fig, ax = plt.subplots(figsize=(12, 6))\n",
    "#plt.figure(figsize=(8, 3))\n",
    "labels = dict(zip(list(zip(df.source, df.target)),\n",
    "                  df['edge'].tolist()))\n",
    "\n",
    "node_size = {\n",
    "    'capsule': 3,\n",
    "    'style': 3,\n",
    "    'persistent': 2,\n",
    "}\n",
    "\n",
    "node_color = {\n",
    "    'capsule': 'white',\n",
    "    'style': 'white',\n",
    "    'persistent': 'white',\n",
    "}\n",
    "\n",
    "fixed = {\n",
    "    'capsule': np.array([0, 0.5]),\n",
    "    'style': np.array([.2, .5]),\n",
    "    'persistent': np.array([.4, .5]),\n",
    "}\n",
    "\n",
    "node_labels = {node : node for node in G}\n",
    "\n",
    "\n",
    "Graph(G, node_labels=node_labels, edge_layout='curved', arrows=True,\n",
    "      node_layout=fixed, node_size=node_size, node_color=node_color, edge_labels=labels,\n",
    "     node_label_offset=(0.00, -0.05),\n",
    "           node_label_fontdict=dict(size=20),\n",
    "      edge_label_fontdict=dict(size=15),)\n",
    "plt.savefig('kn_discussion_example.pdf', format='pdf', dpi=1200, bbox_inches='tight')\n",
    "\n"
   ]
  },
  {
   "cell_type": "code",
   "execution_count": null,
   "id": "4248737c-7cc1-48d6-a535-7b1dcbbf3895",
   "metadata": {},
   "outputs": [],
   "source": [
    "from spacy import displacy\n",
    "import spacy\n",
    "nlp = spacy.load('en_core_web_trf')"
   ]
  },
  {
   "cell_type": "code",
   "execution_count": null,
   "id": "e4b02dad-10b0-47b0-b1b9-c2bb31a319b5",
   "metadata": {},
   "outputs": [],
   "source": [
    "svg = displacy.render(nlp('The Brown bear has brown fur.'), style=\"dep\", jupyter=False,\n",
    "               options={'compact': False,\n",
    "                        'distance': 100,\n",
    "                        'arrow_stroke': 2,\n",
    "                        'arrow_spacing': 9})\n",
    "\n",
    "with open(\"PoS_example.svg\", \"w\") as f:\n",
    "    f.write(svg)\n",
    "    \n",
    "svg = displacy.render(nlp('The claws are sharp.'), style=\"dep\", jupyter=False,\n",
    "               options={'compact': False,\n",
    "                        'distance': 100,\n",
    "                        'arrow_stroke': 2,\n",
    "                        'arrow_spacing': 9})\n",
    "\n",
    "with open(\"PoS_example2.svg\", \"w\") as f:\n",
    "    f.write(svg)"
   ]
  },
  {
   "cell_type": "code",
   "execution_count": null,
   "id": "846521bb-55b6-4517-a68b-45289ea54980",
   "metadata": {},
   "outputs": [],
   "source": []
  },
  {
   "cell_type": "code",
   "execution_count": null,
   "id": "909a85e1-9876-49b4-927d-dbdacb1bbca6",
   "metadata": {},
   "outputs": [],
   "source": [
    "kg = [\n",
    "    ('Brown bear', 'has part', 'claw'),\n",
    "    ('Brown bear', 'has part', 'fur'),\n",
    "    ('fur', 'has color', 'brown'),\n",
    "    ('fur', 'has property', 'thick'),\n",
    "    ('claw', 'part part', 'nail'),\n",
    "    ('claw', 'has property', 'large'),\n",
    "    ('claw', 'has similar name', 'paw'),\n",
    "    ('nail', 'has property', 'sharp'),\n",
    "    ('nail', 'has measurement', '5'),\n",
    "    ('Brown bear', 'has part', 'nose'),\n",
    "    ('nose', 'similar as', 'Black bear'),\n",
    "    ('Black bear', 'has part', 'nose '),\n",
    "    ('nose ', 'has color', 'black'),\n",
    "]\n",
    "\n",
    "\n",
    "df = pd.DataFrame(kg, columns=['source', 'edge', 'target'])\n",
    "\n",
    "G=nx.from_pandas_edgelist(df, \"source\", \"target\", \n",
    "                          edge_attr=True, create_using=nx.Graph())\n",
    "\n",
    "#plt.figure(figsize=(8, 3))\n",
    "labels = dict(zip(list(zip(df.source, df.target)),\n",
    "                  df['edge'].tolist()))\n",
    "\n",
    "node_size = {\n",
    "    'Brown bear': 4,\n",
    "    'Black bear': 4,\n",
    "    'fur': 3,\n",
    "    'nose': 3,\n",
    "    'nose ': 3,\n",
    "    'claw': 3,\n",
    "    'nail': 3,\n",
    "    'thick': 2,\n",
    "    '5': 2,\n",
    "    'sharp': 2,\n",
    "    'brown': 2,\n",
    "    'paw': 3,\n",
    "    'large': 2,\n",
    "    'black': 2\n",
    "}\n",
    "\n",
    "node_color = {\n",
    "    'Brown bear': 'darkgreen',\n",
    "    'Black bear': 'darkgreen',\n",
    "    'fur': 'lightgreen',\n",
    "    'claw': 'lightgreen',\n",
    "    'sharp': 'white',\n",
    "    'brown': 'white', \n",
    "    'thick': 'white',\n",
    "    'nail': 'lightgreen',\n",
    "    '5': 'white',\n",
    "    'large': 'white',\n",
    "    'paw': 'lightgreen',\n",
    "    'nose': 'lightgreen',\n",
    "    'nose ': 'lightgreen',\n",
    "    'black': 'white',\n",
    "}\n",
    "\n",
    "node_labels = {node : node for node in G}\n",
    "fig, ax = plt.subplots(figsize=(25, 25))\n",
    "Graph(G, node_layout='dot', edge_layout='curved', \n",
    "      node_size=node_size, node_labels=node_labels, node_color=node_color,\n",
    "      edge_labels=labels, node_label_offset=(0.00, -0.05), \n",
    "     node_label_rotate=50, arrows=True, edge_width=.7,\n",
    "      node_label_fontdict=dict(size=20),\n",
    "      edge_label_fontdict=dict(size=15),\n",
    "     ax=ax)\n",
    "\n",
    "#plt.savefig('kngraph_rec.pdf', format='pdf', dpi=1200, bbox_inches='tight')"
   ]
  },
  {
   "cell_type": "code",
   "execution_count": null,
   "id": "770472c4-5028-488e-9f53-520e7a2b3e5c",
   "metadata": {},
   "outputs": [],
   "source": [
    "kg = [\n",
    "    ('European robin', 'has part', 'Eye'),\n",
    "    ('European robin', 'has part', 'Plumage'),\n",
    "    ('European robin', 'has part', 'Neck'),\n",
    "    ('European robin', 'has part', 'Leg'),\n",
    "    ('European robin', 'has part', 'Bill'),\n",
    "    ('Eye', 'has property', 'Black'),\n",
    "    ('Plumage', 'has property', 'Orange'),\n",
    "    ('Neck', 'has property', 'Bluish Grey'),\n",
    "    ('Leg', 'has property', 'Grey'),\n",
    "    ('Bill', 'has property', 'Black'),\n",
    "]\n",
    "\n",
    "\n",
    "df = pd.DataFrame(kg, columns=['source', 'edge', 'target'])\n",
    "\n",
    "G=nx.from_pandas_edgelist(df, \"source\", \"target\", \n",
    "                          edge_attr=True, create_using=nx.Graph())\n",
    "\n",
    "#plt.figure(figsize=(8, 3))\n",
    "labels = dict(zip(list(zip(df.source, df.target)),\n",
    "                  df['edge'].tolist()))\n",
    "\n",
    "node_size = {\n",
    "    'European robin': 4,\n",
    "    'European robin': 4,\n",
    "    'Leg': 3,\n",
    "    'Bill': 3,\n",
    "    'Eye': 3,\n",
    "    'Plumage': 3,\n",
    "    'Neck': 3,\n",
    "    'Black': 2,\n",
    "    'Bluish Grey': 2,\n",
    "    'Grey': 2,\n",
    "    'Orange': 2,\n",
    "}\n",
    "\n",
    "node_color = {\n",
    "    'European robin': 'darkgreen',\n",
    "    'Leg': 'lightgreen',\n",
    "    'Bill': 'lightgreen',\n",
    "    'Eye': 'lightgreen',\n",
    "    'Neck': 'lightgreen',\n",
    "    'Plumage': 'lightgreen',\n",
    "    'Black': 'white',\n",
    "    'Bluish Grey': 'white', \n",
    "    'Grey': 'white',\n",
    "    'Orange': 'white',\n",
    "}\n",
    "\n",
    "pos = nx.spring_layout(G, k = 0.015, iterations=5000, seed=1, dim=2,scale=0.8, center=(0,0))\n",
    "\n",
    "node_labels = {node : node for node in G}\n",
    "fig, ax = plt.subplots(figsize=(25, 25))\n",
    "Graph(G, node_layout=pos, edge_layout='straight', \n",
    "      node_size=node_size, node_labels=node_labels, node_color=node_color,\n",
    "      edge_labels=labels, node_label_offset=(0.00, -0.05), \n",
    "     node_label_rotate=50, arrows=True, edge_width=.7,\n",
    "      node_label_fontdict=dict(size=20),\n",
    "      edge_label_fontdict=dict(size=15),\n",
    "      node_layout_kwargs=dict(total_iterations=100, seed=33, k = 0.0005),\n",
    "      #node_layout_kwargs=dict(node_size=1, total_iterations=20),\n",
    "     ax=ax)\n",
    "\n",
    "#plt.savefig('kngraph_rec.pdf', format='pdf', dpi=1200, bbox_inches='tight')"
   ]
  },
  {
   "cell_type": "code",
   "execution_count": null,
   "id": "62f48c39-d720-43fd-bbb5-7876917089ec",
   "metadata": {},
   "outputs": [],
   "source": []
  },
  {
   "cell_type": "code",
   "execution_count": null,
   "id": "b3ef53ba-5d7a-4b3b-a640-de9bea7338a7",
   "metadata": {},
   "outputs": [],
   "source": []
  },
  {
   "cell_type": "code",
   "execution_count": null,
   "id": "9bd4566a-9a16-40ca-8ad1-9a1a16a57ef6",
   "metadata": {},
   "outputs": [],
   "source": [
    "from sklearn.preprocessing import LabelBinarizer\n",
    "from scipy import stats"
   ]
  },
  {
   "cell_type": "code",
   "execution_count": null,
   "id": "467ebfff-d3b1-4e57-85ec-263b333cb72e",
   "metadata": {},
   "outputs": [],
   "source": [
    "logstack = np.load('../data/plotting/logstack.npy')\n",
    "probstack = np.load('../data/plotting/probstack.npy')\n",
    "logprobs = np.load('../data/plotting/logprobs.npy')"
   ]
  },
  {
   "cell_type": "code",
   "execution_count": null,
   "id": "b142e895-9e3a-489d-9414-9490919921c1",
   "metadata": {},
   "outputs": [],
   "source": [
    "TRAIN = pickle.load(open('../data/processed/RDF_TEXT_TRAIN_SET_554.pkl', 'rb'))\n",
    "TEST = pickle.load(open('../data/processed/RDF_TEXT_TEST_SET_554.pkl', 'rb'))"
   ]
  },
  {
   "cell_type": "code",
   "execution_count": null,
   "id": "0ce90278-cdb8-4823-a933-20cd0670a796",
   "metadata": {},
   "outputs": [],
   "source": [
    "lb = LabelBinarizer()\n",
    "keys = np.array([key for key in TRAIN.keys()])\n",
    "keys_encoded = lb.fit_transform(keys)"
   ]
  },
  {
   "cell_type": "code",
   "execution_count": null,
   "id": "eb9f0518-3428-4678-940a-b11e181517f0",
   "metadata": {},
   "outputs": [],
   "source": [
    "plant_idx = 2\n",
    "species = list(TRAIN.keys())\n",
    "plant = species[plant_idx]"
   ]
  },
  {
   "cell_type": "code",
   "execution_count": null,
   "id": "72c8d94b-2dab-4e3a-997e-1522c9526704",
   "metadata": {},
   "outputs": [],
   "source": [
    "logprobs.shape"
   ]
  },
  {
   "cell_type": "code",
   "execution_count": null,
   "id": "1cdc9d80-b57d-4be2-911a-7c58922a5289",
   "metadata": {},
   "outputs": [],
   "source": [
    "#sns.set_style('whitegrid')\n",
    "fig, (probs, logs) = plt.subplots(2, sharex=True,\n",
    "                                    gridspec_kw={\"height_ratios\": (.5, .5)},\n",
    "                                    figsize=(10, 6))\n",
    "\n",
    "for i in range(0, len(species)):\n",
    "    if i == np.where(lb.classes_ == plant)[0][0]:\n",
    "        probs.plot(np.exp(logprobs[:, i]), color='blue', alpha=1, markersize=5, zorder=2)\n",
    "        logs.plot(logprobs[:, i], color='blue', alpha=1, markersize=5, zorder=2)\n",
    "    else:\n",
    "        probs.plot(np.exp(logprobs[:, i]), color='red', alpha=0.1, zorder=1)\n",
    "        logs.plot(logprobs[:, i], color='red', alpha=0.1, zorder=1)\n",
    "        \n",
    "probs.set_ylim([-0.05, 1.05])\n",
    "probs.set_xlim([-0.5, logprobs.shape[0] -0.5])\n",
    "probs.set(ylabel=\"Probabilities\")\n",
    "logs.set(ylabel=\"Negative Log Values\", xlabel='Sentence')\n",
    "#fig.align_ylabels((probs, logs))\n",
    "probs.yaxis.set_label_coords(-0.08, 0.5)\n",
    "logs.yaxis.set_label_coords(-0.08, 0.5)\n",
    "\n",
    "legend_elements = [Line2D([0], [0], color='blue', lw=2, label='Correct Species', linestyle='solid'),\n",
    "                   Line2D([0], [0], color='red', alpha=0.5, lw=2, label='Incorrect Species', linestyle='solid')]\n",
    "\n",
    "probs.legend(handles=legend_elements, loc='upper right')\n",
    "plt.subplots_adjust(wspace=0, hspace=0.1)\n",
    "\n",
    "#plt.savefig('../data/plotting/probs_nonstacked.pdf', format='pdf', dpi=1200, bbox_inches='tight')"
   ]
  },
  {
   "cell_type": "code",
   "execution_count": null,
   "id": "86d9fe17-e873-4716-87df-a99433be3dff",
   "metadata": {},
   "outputs": [],
   "source": [
    "#sns.set_style('whitegrid')\n",
    "fig, (probs, logs) = plt.subplots(2, sharex=True,\n",
    "                                    gridspec_kw={\"height_ratios\": (.5, .5)},\n",
    "                                    figsize=(10, 6))\n",
    "\n",
    "for i in range(0, len(species)):\n",
    "    if i == np.where(lb.classes_ == plant)[0][0]:\n",
    "        probs.plot(probstack[:, i], color='blue', alpha=1, markersize=5, zorder=2)\n",
    "        logs.plot(logstack[:, i], color='blue', alpha=1, markersize=5, zorder=2)\n",
    "    else:\n",
    "        probs.plot(probstack[:, i], color='red', alpha=0.1, zorder=1)\n",
    "        logs.plot(logstack[:, i], color='red', alpha=0.1, zorder=1)\n",
    "        \n",
    "probs.set_ylim([-0.05, 1.05])\n",
    "probs.set_xlim([-0.5, logprobs.shape[0] -0.5])\n",
    "probs.set(ylabel=\"Summed Probabilities\")\n",
    "logs.set(ylabel=\"Summed Negative Log Values\", xlabel='Sentence')\n",
    "#fig.align_ylabels((probs, logs))\n",
    "\n",
    "probs.yaxis.set_label_coords(-0.08, 0.5)\n",
    "logs.yaxis.set_label_coords(-0.08, 0.5)\n",
    "\n",
    "legend_elements = [Line2D([0], [0], color='blue', lw=2, label='Correct Species', linestyle='solid'),\n",
    "                   Line2D([0], [0], color='red', alpha=0.5, lw=2, label='Incorrect Species', linestyle='solid')]\n",
    "\n",
    "logs.legend(handles=legend_elements, loc='lower left')\n",
    "plt.subplots_adjust(wspace=0, hspace=0.1)\n",
    "\n",
    "#plt.savefig('../data/plotting/probs_stacked.pdf', format='pdf', dpi=50, bbox_inches='tight')"
   ]
  },
  {
   "cell_type": "code",
   "execution_count": null,
   "id": "524abce4-d8bf-4a92-970f-55d71087983c",
   "metadata": {},
   "outputs": [],
   "source": [
    "correct = np.load('../data/plotting/model_pred_correct.npy')\n",
    "incorrect = np.load('../data/plotting/model_pred_incorrect.npy')"
   ]
  },
  {
   "cell_type": "code",
   "execution_count": null,
   "id": "5e7eedf3-778e-4bfd-9e8a-73fbc49ff99a",
   "metadata": {},
   "outputs": [],
   "source": [
    "\n",
    "print(stats.mannwhitneyu(correct, incorrect, alternative='greater'))\n",
    "\n",
    "print(stats.wilcoxon(correct, incorrect, alternative='greater'))\n",
    "\n",
    "d = {'Correct': correct, 'Incorrect': incorrect}\n",
    "df = pd.DataFrame(dict([ (k, pd.Series(v)) for k, v in d.items() ]))\n",
    "df_m = df.melt()\n",
    "\n",
    "#fig, ax = plt.subplots(figsize=(10, 6))\n",
    "#sns.set_style('whitegrid')\n",
    "\n",
    "#sns.violinplot(x=\"value\", y=\"variable\", data=df_m[df_m.value > -12000], \n",
    "#               showfliers=False, ax=ax, split=True, cut=0, inner=\"box\", bw=.2)\n",
    "\n",
    "\n",
    "#sns.ecdfplot(data=df_m[df_m.value > -3500], x=\"value\", hue=\"variable\")\n"
   ]
  },
  {
   "cell_type": "code",
   "execution_count": null,
   "id": "fecd9d98-40fc-4782-bf7c-5b81e6be6cd2",
   "metadata": {},
   "outputs": [],
   "source": [
    "BOW = pickle.load(open('../data/processed/train_dataBOW.pkl', 'rb'))\n",
    "WIK = pickle.load(open('../data/processed/train_dataWIKI_all.pkl', 'rb'))\n",
    "POW = pickle.load(open('../data/processed/train_dataPOWO.pkl', 'rb'))"
   ]
  },
  {
   "cell_type": "code",
   "execution_count": null,
   "id": "605f2135-cdc9-4324-99d4-e50972437f54",
   "metadata": {},
   "outputs": [],
   "source": [
    "#WIK['Razorbill']"
   ]
  },
  {
   "cell_type": "code",
   "execution_count": null,
   "id": "4287ac7a-529c-42e3-a45e-9bdbdd65c53c",
   "metadata": {},
   "outputs": [],
   "source": [
    "len(WIK.keys()) + len(BOW.keys()) + len(POW.keys())"
   ]
  },
  {
   "cell_type": "code",
   "execution_count": null,
   "id": "8b314e33-4215-4130-a26e-581ad25fec3d",
   "metadata": {},
   "outputs": [],
   "source": []
  }
 ],
 "metadata": {
  "kernelspec": {
   "display_name": "Python [conda env:DL]",
   "language": "python",
   "name": "conda-env-DL-py"
  },
  "language_info": {
   "codemirror_mode": {
    "name": "ipython",
    "version": 3
   },
   "file_extension": ".py",
   "mimetype": "text/x-python",
   "name": "python",
   "nbconvert_exporter": "python",
   "pygments_lexer": "ipython3",
   "version": "3.8.10"
  }
 },
 "nbformat": 4,
 "nbformat_minor": 5
}
