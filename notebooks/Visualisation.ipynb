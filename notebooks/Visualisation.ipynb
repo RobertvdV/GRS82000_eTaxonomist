{
 "cells": [
  {
   "cell_type": "code",
   "execution_count": 1,
   "id": "03ac3a34-75fc-4319-8f24-e40c0ccc3744",
   "metadata": {},
   "outputs": [
    {
     "name": "stderr",
     "output_type": "stream",
     "text": [
      "Some weights of the model checkpoint at distilbert-base-uncased were not used when initializing DistilBertModel: ['vocab_projector.weight', 'vocab_layer_norm.weight', 'vocab_projector.bias', 'vocab_layer_norm.bias', 'vocab_transform.weight', 'vocab_transform.bias']\n",
      "- This IS expected if you are initializing DistilBertModel from the checkpoint of a model trained on another task or with another architecture (e.g. initializing a BertForSequenceClassification model from a BertForPreTraining model).\n",
      "- This IS NOT expected if you are initializing DistilBertModel from the checkpoint of a model that you expect to be exactly identical (initializing a BertForSequenceClassification model from a BertForSequenceClassification model).\n",
      "Some weights of the model checkpoint at distilbert-base-uncased were not used when initializing DistilBertModel: ['vocab_projector.weight', 'vocab_layer_norm.weight', 'vocab_projector.bias', 'vocab_layer_norm.bias', 'vocab_transform.weight', 'vocab_transform.bias']\n",
      "- This IS expected if you are initializing DistilBertModel from the checkpoint of a model trained on another task or with another architecture (e.g. initializing a BertForSequenceClassification model from a BertForPreTraining model).\n",
      "- This IS NOT expected if you are initializing DistilBertModel from the checkpoint of a model that you expect to be exactly identical (initializing a BertForSequenceClassification model from a BertForSequenceClassification model).\n"
     ]
    }
   ],
   "source": [
    "import numpy as np\n",
    "import pickle\n",
    "from tqdm import tqdm\n",
    "import matplotlib.pyplot as plt\n",
    "from matplotlib.lines import Line2D\n",
    "import seaborn as sns\n",
    "import re\n",
    "import collections\n",
    "import glob\n",
    "import pandas as pd\n",
    "from itertools import islice\n",
    "from transformers import DistilBertModel, DistilBertTokenizer, logging\n",
    "from itertools import chain\n",
    "from sklearn.metrics import PrecisionRecallDisplay\n",
    "from sklearn.metrics import roc_auc_score\n",
    "from sklearn.metrics import roc_curve, auc\n",
    "from sklearn.metrics import classification_report\n",
    "\n",
    "\n",
    "import sys\n",
    "import time\n",
    "sys.path.insert(0, '../src/models/')\n",
    "sys.path.insert(0, '../src/features/')\n",
    "\n",
    "from build_features import similarity_matrix, name_cleaner, yield_chunks, text_cleaner\n",
    "from build_features import similarity_matrix as vector_values\n",
    "from predict_model import load_CUB_Bert, load_simBERT, loadBERT\n",
    "from predict_model import SpanPredictor as classify\n",
    "logging.set_verbosity_error()\n",
    "\n",
    "%matplotlib inline"
   ]
  },
  {
   "cell_type": "code",
   "execution_count": 2,
   "id": "1fd7d822-eafa-4e39-90cc-53a1e56f7966",
   "metadata": {},
   "outputs": [
    {
     "name": "stdout",
     "output_type": "stream",
     "text": [
      "CPU Success\n"
     ]
    }
   ],
   "source": [
    "model = loadBERT(\"../models/\", 'saved_weights_inf_FIXED_boot_beta80.pt')\n",
    "tokenizer = DistilBertTokenizer.from_pretrained('distilbert-base-uncased')"
   ]
  },
  {
   "cell_type": "markdown",
   "id": "a8900cf2-3f42-46a2-b2d5-992b9e31a25a",
   "metadata": {},
   "source": [
    "# Data Analysis"
   ]
  },
  {
   "cell_type": "code",
   "execution_count": 3,
   "id": "b0679ca8-6bbb-491c-a4d3-e288a2c3abc7",
   "metadata": {},
   "outputs": [],
   "source": [
    "from urllib.parse import urlsplit\n",
    "from matplotlib.patches import ConnectionPatch\n",
    "from tqdm.notebook import tqdm as tqdm_notebook\n",
    "from collections import Counter\n",
    "import pandas as pd\n",
    "import numpy as np"
   ]
  },
  {
   "cell_type": "code",
   "execution_count": 4,
   "id": "dd2a894e-ec95-40b9-9432-c327d4c19194",
   "metadata": {},
   "outputs": [],
   "source": [
    "test_agro = pickle.load(open('../data/processed/testing_web_trees_agroforestry.pkl', 'rb'))\n",
    "test_llifle = pickle.load(open('../data/processed/testing_web_trees_llifle.pkl', 'rb'))\n",
    "\n",
    "data = dict(test_agro) \n",
    "data.update(test_llifle)\n",
    "\n",
    "# Undict the data\n",
    "external_data = (list(chain.from_iterable(data.values())))"
   ]
  },
  {
   "cell_type": "code",
   "execution_count": null,
   "id": "743b0ca9-b986-42a1-9918-56ea46f0e2d3",
   "metadata": {},
   "outputs": [],
   "source": [
    "# Init emmty_list:\n",
    "uncertain_list = []\n",
    "# Arrays for plotting\n",
    "yhat = np.array([]).reshape(0, 2)\n",
    "y_onecold = np.array([])\n",
    "# Sentence list\n",
    "sentence_list = []\n",
    "\n",
    "# loop over the values of the list\n",
    "for (label, span) in tqdm_notebook(external_data):\n",
    "    # Clean the sentence\n",
    "    sentences = text_cleaner(span)\n",
    "    # Loop over the sentences\n",
    "    for sent in sentences:\n",
    "        # Store for plotting\n",
    "        sentence_list.append((label, sent))\n",
    "        # Get predictions\n",
    "        (pred_label, pred_value) = classify(sent, model=model, pred_values=True)\n",
    "        # Store for plotting\n",
    "        yhat = np.vstack([yhat, pred_value.numpy()])\n",
    "        y_onecold = np.hstack([y_onecold, label])\n",
    "        # Detach\n",
    "        pred_value = pred_value[1].numpy().item()\n",
    "        if  0.45 < pred_value < 0.55:\n",
    "            # Append to list\n",
    "            uncertain_list.append((label, pred_label, pred_value, sent))\n",
    "\n",
    "uncertain_list = list(set(uncertain_list))     "
   ]
  },
  {
   "cell_type": "code",
   "execution_count": null,
   "id": "5eb812ee-4faf-4765-80b5-78e1daf5a534",
   "metadata": {},
   "outputs": [],
   "source": [
    "with open('../data/processed/external_sentence_list.pkl', 'wb') as f:\n",
    "    pickle.dump(sentence_list, f)\n",
    "with open('../data/processed/external_uncertain_sentences.pkl', 'wb') as f:\n",
    "    pickle.dump(uncertain_list, f)\n",
    "with open('../data/processed/external_yhat.pkl', 'wb') as f:\n",
    "    pickle.dump(yhat, f)\n",
    "with open('../data/processed/external_y_onecold.pkl', 'wb') as f:\n",
    "    pickle.dump(y_onecold, f)"
   ]
  },
  {
   "cell_type": "code",
   "execution_count": 5,
   "id": "746c1785-f411-4b9d-9bac-a9be8d379457",
   "metadata": {},
   "outputs": [],
   "source": [
    "sentence_list = pickle.load(open('../data/processed/external_sentence_list.pkl', 'rb'))\n",
    "uncertain_list = pickle.load(open('../data/processed/external_uncertain_sentences.pkl', 'rb'))\n",
    "yhat = pickle.load(open('../data/processed/external_yhat.pkl', 'rb'))\n",
    "y_onecold = pickle.load(open('../data/processed/external_y_onecold.pkl', 'rb'))"
   ]
  },
  {
   "cell_type": "code",
   "execution_count": 6,
   "id": "dc9b1436-a2a6-4e08-8280-21ad2844d32a",
   "metadata": {},
   "outputs": [
    {
     "name": "stderr",
     "output_type": "stream",
     "text": [
      "100%|██████████████████████████████████| 74836/74836 [00:02<00:00, 36637.44it/s]\n"
     ]
    }
   ],
   "source": [
    "# Correct for beta\n",
    "y_onecold_corrected = np.array([])\n",
    "changed = 0\n",
    "pred_list = []\n",
    "for label, prediction in zip(tqdm(y_onecold), yhat):\n",
    "    if prediction[1] >= .8:\n",
    "        y_onecold_corrected = np.hstack([y_onecold_corrected, 1])\n",
    "        changed += 1\n",
    "    else:\n",
    "        y_onecold_corrected = np.hstack([y_onecold_corrected, label])"
   ]
  },
  {
   "cell_type": "code",
   "execution_count": 7,
   "id": "21bca24b-d4ca-4c8d-95c3-5b643bb686d6",
   "metadata": {},
   "outputs": [
    {
     "name": "stdout",
     "output_type": "stream",
     "text": [
      "              precision    recall  f1-score   support\n",
      "\n",
      "       Other    0.96436   0.97577   0.97003     64639\n",
      "Descriptions    0.83397   0.77140   0.80147     10197\n",
      "\n",
      "    accuracy                        0.94793     74836\n",
      "   macro avg    0.89916   0.87359   0.88575     74836\n",
      "weighted avg    0.94659   0.94793   0.94706     74836\n",
      "\n"
     ]
    }
   ],
   "source": [
    "print(classification_report(y_onecold_corrected, yhat[:, 1] >= .5, digits=5, target_names=['Other', 'Descriptions']))"
   ]
  },
  {
   "cell_type": "code",
   "execution_count": 8,
   "id": "9fa7cb0a-1af4-403f-b31e-7b6ea8c5adc1",
   "metadata": {},
   "outputs": [
    {
     "data": {
      "image/png": "[encoded data removed]",
      "text/plain": [
       "<Figure size 360x360 with 1 Axes>"
      ]
     },
     "metadata": {
      "needs_background": "light"
     },
     "output_type": "display_data"
    }
   ],
   "source": [
    "fig, ax = plt.subplots(figsize=(5, 5))\n",
    "display = PrecisionRecallDisplay.from_predictions(y_onecold_corrected, yhat[:, 1], name=\"Description Text Classifier\", ax=ax)\n",
    "#_ = display.ax_.set_title(\"2-class Precision-Recall Curve\")\n",
    "#display.plot(ax=ax)\n",
    "ax.set_xlim([-0.01, 1.01])\n",
    "ax.set_ylim([-0.01, 1.01])\n",
    "ax.set_xlim([-0.01, 1.01])\n",
    "ax.set_ylim([-0.01, 1.01])\n",
    "ax.plot([0, 1], [0.5, 0.5], color='navy', lw=2, linestyle='--', label='Basic Classifier')\n",
    "\n",
    "legend_elements = [Line2D([0], [0], color='b', lw=2, label='Basic Classifier', linestyle='--'),\n",
    "                   Line2D([0], [0], color='purple', label=f'Classifier (AP: {display.average_precision:.2f})'),\n",
    "                   Line2D([0], [0], color='grey', alpha=0.2, label='f1-ISO Lines')]\n",
    "\n",
    "ax.legend(handles=legend_elements, loc='lower left')\n",
    "\n",
    "#ax.legend(loc=\"lower left\")\n",
    "#ax.legend(custom_lines, ['Cold', 'Medium', 'Hot'])\n",
    "\n",
    "f_scores = np.linspace(0.1, .9, num=8)\n",
    "lines, labels = [], []\n",
    "for f_score in f_scores:\n",
    "    x = np.linspace(0.01, 1.01)\n",
    "    y = f_score * x / (2 * x - f_score)\n",
    "    (l,) = ax.plot(x[y >= 0], y[y >= 0], color=\"gray\", alpha=0.2)\n",
    "    ax.annotate(\"{0:0.1f}\".format(f_score), xy=(f_score, f_score)).set_alpha(.2)\n",
    "\n",
    "\n",
    "#ax.set_title(\"2-class Precision-Recall Curve\")\n",
    "#fig.savefig('precision_recall_plot_extern.pdf', format='pdf', dpi=1200, bbox_inches='tight')"
   ]
  },
  {
   "cell_type": "code",
   "execution_count": 9,
   "id": "de351d4d-3a1a-4bb2-9d88-ea6587a9e5f4",
   "metadata": {},
   "outputs": [
    {
     "data": {
      "text/plain": [
       "0.9313769889597522"
      ]
     },
     "execution_count": 9,
     "metadata": {},
     "output_type": "execute_result"
    }
   ],
   "source": [
    "import numpy as np\n",
    "from sklearn import metrics\n",
    "y = np.array([1, 1, 2, 2])\n",
    "pred = np.array([0.1, 0.4, 0.35, 0.8])\n",
    "fpr, tpr, thresholds = metrics.roc_curve(y_onecold_corrected, yhat[:, 1])\n",
    "metrics.auc(fpr, tpr)\n"
   ]
  },
  {
   "cell_type": "code",
   "execution_count": 10,
   "id": "6c11b474-64b2-4818-8af0-2efd750b7eb4",
   "metadata": {},
   "outputs": [],
   "source": [
    "# Reshape values\n",
    "y_onecold_reshaped = np.reshape(y_onecold, (-1, 1))\n",
    "y_all = np.hstack((yhat, y_onecold_reshaped))"
   ]
  },
  {
   "cell_type": "code",
   "execution_count": 11,
   "id": "6c32f210-9e06-4cbb-a598-90723a39fd14",
   "metadata": {},
   "outputs": [
    {
     "data": {
      "text/plain": [
       "Text(0.46, 0.07, 'Prediction Value')"
      ]
     },
     "execution_count": 11,
     "metadata": {},
     "output_type": "execute_result"
    },
    {
     "data": {
      "image/png": "[encoded data removed]",
      "text/plain": [
       "<Figure size 720x576 with 2 Axes>"
      ]
     },
     "metadata": {
      "needs_background": "light"
     },
     "output_type": "display_data"
    }
   ],
   "source": [
    "fig, (ax1, ax2) = plt.subplots(2, sharex=False, sharey=False, figsize=(10, 8))\n",
    "\n",
    "ax1.hist( y_all[:, 1], \n",
    "          bins=np.arange(0, 1, 0.01), histtype='bar', align='mid',\n",
    "          width=0.01, stacked=False, alpha=0.8)\n",
    "ax1.legend(loc='upper right', labels=['Prediction Values'])\n",
    "ax1.set_xlim([0, 1])\n",
    "ax2.hist( [y_all[:, 1],\n",
    "           y_all[(y_all[:, 1] < 0.5) & (y_all[:, 1] >= 0.2) & (y_all[:, 2] == 1) | \n",
    "                  (y_all[:, 1] > 0.5) & (y_all[:, 1] <= 0.8) & (y_all[:, 2] == 0), 1]],\n",
    "           #y_all[(y_all[:, 1] > 0.5) & (y_all[:, 1] <= 0.8) & (y_all[:, 2] == 0), 1]], \n",
    "          bins=np.arange(0.2, .8, 0.01), histtype='bar', align='left',\n",
    "          width=0.01, stacked=False, alpha=0.8, rwidth=0, color=[u'#2ca02c', u'#d62728'])\n",
    "\n",
    "ax2.legend(loc='upper right', labels=['Correctly Classified', 'Miss Classified'])\n",
    "ax2.set_xlim([0.2, .8])\n",
    "ax2.set_ylim([0, 600])\n",
    "con1 = ConnectionPatch(xyA=(0.2, 600), xyB=(0.2, -0.1), coordsA=\"data\", coordsB=\"data\",\n",
    "                      axesA=ax2, axesB=ax1, color=\"black\")\n",
    "ax2.add_artist(con1)\n",
    "con2 = ConnectionPatch(xyA=(0.8, 600), xyB=(0.8, -0.1), coordsA=\"data\", coordsB=\"data\",\n",
    "                      axesA=ax2, axesB=ax1, color=\"black\")\n",
    "ax2.add_artist(con2)\n",
    "#fig.text(.07, 0.5, 'Count', va='center', rotation='vertical')\n",
    "fig.text(.46, 0.07, 'Prediction Value', va='center', rotation='horizontal')\n",
    "\n",
    "#fig.savefig('predictionvalues_external.pdf', format='pdf', dpi=1200, bbox_inches='tight')"
   ]
  },
  {
   "cell_type": "code",
   "execution_count": 12,
   "id": "2030ee5b-0a80-4cb4-a8e1-ff9ddae08cba",
   "metadata": {},
   "outputs": [
    {
     "data": {
      "text/plain": [
       "<AxesSubplot:>"
      ]
     },
     "execution_count": 12,
     "metadata": {},
     "output_type": "execute_result"
    },
    {
     "data": {
      "image/png": "[encoded data removed]",
      "text/plain": [
       "<Figure size 432x288 with 1 Axes>"
      ]
     },
     "metadata": {
      "needs_background": "light"
     },
     "output_type": "display_data"
    }
   ],
   "source": [
    "x = y_all[(y_all[:, 1] < 0.5) & (y_all[:, 1] >= 0.2) & (y_all[:, 2] == 1), 1]\n",
    "bins_x = np.digitize(x, np.arange(0., 1, 0.01))\n",
    "y = y_all[(y_all[:, 1] > 0.5) & (y_all[:, 1] <= 0.8) & (y_all[:, 2] == 0), 1]\n",
    "bins_y = np.digitize(y, np.arange(0., 1, 0.01))\n",
    "unique, counts_x = np.unique(bins_x, return_counts=True)\n",
    "unique, counts_y = np.unique(bins_y, return_counts=True)\n",
    "sns.boxplot(data=[counts_x, counts_y])"
   ]
  },
  {
   "cell_type": "code",
   "execution_count": null,
   "id": "a15a93f3-d792-4286-8da4-7ef35dae9970",
   "metadata": {},
   "outputs": [],
   "source": []
  },
  {
   "cell_type": "code",
   "execution_count": null,
   "id": "a4edf38f-46be-4b9a-a194-e1f748397cbb",
   "metadata": {},
   "outputs": [],
   "source": []
  },
  {
   "cell_type": "code",
   "execution_count": null,
   "id": "a4650518-e616-4cba-8d63-48a5e3fc557d",
   "metadata": {},
   "outputs": [],
   "source": []
  },
  {
   "cell_type": "code",
   "execution_count": 13,
   "id": "8f0e9290-be86-450a-8cf5-07a9a0210f70",
   "metadata": {},
   "outputs": [],
   "source": [
    "traindata = pickle.load(open('../data/processed/COLAB.pkl', 'rb'))"
   ]
  },
  {
   "cell_type": "code",
   "execution_count": 14,
   "id": "e862f607-e2e4-410a-a165-d9b5c54d25b7",
   "metadata": {},
   "outputs": [],
   "source": [
    "# Load the pickle list\n",
    "datalist = glob.glob('../data/processed/train*.pkl')\n",
    "# Init list\n",
    "traindata_before = {}\n",
    "# Loop over the pickles\n",
    "for data in datalist:\n",
    "    # Open the pickles\n",
    "    datadict = pickle.load(open(data, 'rb'))\n",
    "    # Update\n",
    "    traindata_before.update(datadict)"
   ]
  },
  {
   "cell_type": "code",
   "execution_count": 15,
   "id": "dfec2deb-75d0-4aa6-84b0-b2cfe1ebb3f6",
   "metadata": {},
   "outputs": [
    {
     "data": {
      "application/vnd.jupyter.widget-view+json": {
       "model_id": "bad4cfff8483438eadb5511b84ce865d",
       "version_major": 2,
       "version_minor": 0
      },
      "text/plain": [
       "  0%|          | 0/52975 [00:00<?, ?it/s]"
      ]
     },
     "metadata": {},
     "output_type": "display_data"
    }
   ],
   "source": [
    "zeros_before = []\n",
    "ones_before = []\n",
    "\n",
    "for key in tqdm_notebook(traindata_before.keys()):\n",
    "    for (label, chunk) in traindata_before[key]:\n",
    "        if label == 0:\n",
    "            zeros_before.append(len(chunk.split()))\n",
    "        else:\n",
    "            ones_before.append(len(chunk.split()))\n",
    "            \n",
    "zeros_before = np.array(zeros_before)\n",
    "zeros_before = zeros_before[zeros_before>0]\n",
    "\n",
    "ones_before = np.array(ones_before)\n",
    "ones_before = ones_before[ones_before>0]"
   ]
  },
  {
   "cell_type": "code",
   "execution_count": 16,
   "id": "9c0a0cc4-6f3a-43b7-820d-81f95ee90e27",
   "metadata": {},
   "outputs": [
    {
     "data": {
      "application/vnd.jupyter.widget-view+json": {
       "model_id": "96583d03cd094c558b9229d0855dae49",
       "version_major": 2,
       "version_minor": 0
      },
      "text/plain": [
       "  0%|          | 0/2258184 [00:00<?, ?it/s]"
      ]
     },
     "metadata": {},
     "output_type": "display_data"
    }
   ],
   "source": [
    "zeros = []\n",
    "ones = []\n",
    "\n",
    "for (label, chunk) in tqdm_notebook(traindata):\n",
    "    if label == 0:\n",
    "        zeros.append(len(chunk.split()))\n",
    "    else:\n",
    "        ones.append(len(chunk.split()))\n",
    "\n"
   ]
  },
  {
   "cell_type": "code",
   "execution_count": 17,
   "id": "919d46f0-7820-41ac-8012-a6ae86c9280c",
   "metadata": {},
   "outputs": [],
   "source": [
    "zeros = np.array(zeros)\n",
    "ones = np.array(ones)\n",
    "\n",
    "zeros = np.array(zeros)\n",
    "zeros = zeros[zeros>0]\n",
    "\n",
    "ones = np.array(ones)\n",
    "ones = ones[ones>0]"
   ]
  },
  {
   "cell_type": "code",
   "execution_count": 18,
   "id": "2c78b676-bc2a-4fb4-9ced-575aa548f1a3",
   "metadata": {},
   "outputs": [
    {
     "data": {
      "image/png": "[encoded data removed]",
      "text/plain": [
       "<Figure size 360x216 with 2 Axes>"
      ]
     },
     "metadata": {},
     "output_type": "display_data"
    }
   ],
   "source": [
    "sns.set_style('whitegrid')\n",
    "fig, (ax_hist_BOW, ax_box_BOW,)  = plt.subplots(2, sharex=True,\n",
    "                                                        gridspec_kw={\"height_ratios\": (.9, .1,)},\n",
    "                                                       figsize=(5, 3))\n",
    "\n",
    "logbins = np.logspace(np.log10(1),np.log10(1000), 25)\n",
    "flierprops = dict(marker='.', markerfacecolor='black', markersize=5,\n",
    "                  markeredgecolor='none')\n",
    "\n",
    "plt.xlabel('Text Length')\n",
    "\n",
    "sns.boxplot(zeros_before, ax=ax_box_BOW, showfliers=False,)\n",
    "#sc = plt.scatter([1, 1], [zeros_before.min(), zeros_before.max()])\n",
    "\n",
    "#ax_box_BOW.axis('off')\n",
    "ax_hist_BOW.hist(zeros_before, \n",
    "         bins=logbins, histtype='bar', align='mid',\n",
    "         #rwidth=0.9, stacked=False, alpha=0.8,\n",
    "         zorder=3, edgecolor=None, )\n",
    "\n",
    "ax_box_BOW.spines['right'].set_visible(False)\n",
    "ax_box_BOW.spines['top'].set_visible(False)\n",
    "ax_box_BOW.spines['left'].set_visible(False)\n",
    "ax_box_BOW.spines['bottom'].set_visible(False)\n",
    "ax_box_BOW.grid(False)\n",
    "\n",
    "ax_box_BOW.set_xscale('log')\n",
    "plt.xlabel('')\n",
    "plt.setp([ax_hist_BOW, ], xlim=(1, 1000), ylim=(0, 250000))\n",
    "#plt.tick_params(axis='y', which='both', labelsize=1) #labelsize=5 instead of labelsize=10\n",
    "#ax_box_CUB.set_title('CUB')\n",
    "plt.subplots_adjust(wspace=0, hspace=0.05)\n",
    "ax_hist_BOW.title.set_text('Non-Description Text Length Before Splitting')\n",
    "\n",
    "#sns.despine(ax=ax_box, left=True)\n",
    "#fig.savefig('histogram_text_length_1.pdf', format='pdf', dpi=1200, bbox_inches='tight')"
   ]
  },
  {
   "cell_type": "code",
   "execution_count": 19,
   "id": "9c698099-8d74-47b4-868b-1ff8051dabfb",
   "metadata": {},
   "outputs": [],
   "source": [
    "# Load the pickle list\n",
    "datalist = glob.glob('../data/description/01_*PLANTS.pkl')\n",
    "# Init list\n",
    "URL_dict = {}\n",
    "# Loop over the pickles\n",
    "for data in datalist:\n",
    "    # Open the pickles\n",
    "    datadict = pickle.load(open(data, 'rb'))\n",
    "    # Update\n",
    "    URL_dict.update(datadict)"
   ]
  },
  {
   "cell_type": "code",
   "execution_count": 20,
   "id": "85e2c4f1-7400-4abe-9d78-6927111f767f",
   "metadata": {},
   "outputs": [],
   "source": [
    "# Load the pickle list\n",
    "datalist = glob.glob('../data/description/02_*PLANTS.pkl')\n",
    "# Init list\n",
    "SENTS_dict = {}\n",
    "# Loop over the pickles\n",
    "for data in datalist:\n",
    "    # Open the pickles\n",
    "    datadict = pickle.load(open(data, 'rb'))\n",
    "    # Update\n",
    "    SENTS_dict.update(datadict)"
   ]
  },
  {
   "cell_type": "code",
   "execution_count": 21,
   "id": "a1f9065f-4a06-4ce0-9d68-b1b70c12e448",
   "metadata": {},
   "outputs": [
    {
     "data": {
      "application/vnd.jupyter.widget-view+json": {
       "model_id": "0ee36acb037442388f8b198840575c66",
       "version_major": 2,
       "version_minor": 0
      },
      "text/plain": [
       "  0%|          | 0/20000 [00:00<?, ?it/s]"
      ]
     },
     "metadata": {},
     "output_type": "display_data"
    }
   ],
   "source": [
    "bases = []\n",
    "counts_total = []\n",
    "counts_unique = []\n",
    "for key in tqdm_notebook(URL_dict.keys()):\n",
    "    base = [urlsplit(URL).netloc for URL in URL_dict[key]]\n",
    "    counts_total.append(len(base))\n",
    "    counts_unique.append(len(list(set(base))))\n",
    "    bases += base"
   ]
  },
  {
   "cell_type": "code",
   "execution_count": 22,
   "id": "8bc916cf-3cfc-484f-a645-3fcaba49f964",
   "metadata": {},
   "outputs": [
    {
     "data": {
      "application/vnd.jupyter.widget-view+json": {
       "model_id": "3c7aedb6658b4a0e94c1dc63edcdab2a",
       "version_major": 2,
       "version_minor": 0
      },
      "text/plain": [
       "  0%|          | 0/16193 [00:00<?, ?it/s]"
      ]
     },
     "metadata": {},
     "output_type": "display_data"
    }
   ],
   "source": [
    "count_text = []\n",
    "\n",
    "for key in tqdm_notebook(SENTS_dict.keys()):\n",
    "    text = [chunk for part in SENTS_dict[key] for chunk in part]\n",
    "    count_text.append(len(SENTS_dict[key]))"
   ]
  },
  {
   "cell_type": "code",
   "execution_count": 23,
   "id": "7a37cfd0-c856-4581-a579-e623dba26a9f",
   "metadata": {},
   "outputs": [],
   "source": [
    "counts_total = np.array(counts_total)\n",
    "counts_total = counts_total[counts_total>0]\n",
    "\n",
    "counts_unique = np.array(counts_unique)\n",
    "counts_unique = counts_unique[counts_unique>0]\n",
    "\n",
    "count_text = np.array(count_text)\n",
    "count_text = count_text[count_text>0]"
   ]
  },
  {
   "cell_type": "code",
   "execution_count": 24,
   "id": "57f9190f-9da1-4292-aa55-df5960765334",
   "metadata": {},
   "outputs": [
    {
     "data": {
      "text/plain": [
       "(0.0, 70.0)"
      ]
     },
     "execution_count": 24,
     "metadata": {},
     "output_type": "execute_result"
    },
    {
     "data": {
      "image/png": "[encoded data removed]",
      "text/plain": [
       "<Figure size 720x288 with 1 Axes>"
      ]
     },
     "metadata": {},
     "output_type": "display_data"
    }
   ],
   "source": [
    "fig, ax = plt.subplots(figsize=(10, 4))\n",
    "sns.set_style('whitegrid')\n",
    "ax = sns.histplot(data=[counts_total, counts_unique, count_text], #log_scale=True) \n",
    "                  binwidth=1, kde=False, multiple=\"dodge\", cbar=False)\n",
    "plt.legend(loc='upper right', labels=['URLs with Text per Species', 'Unique Base URLs per Species', 'Unique URLs per Species', ])\n",
    "#ax.set_title('Histogram')\n",
    "plt.xlim(0, 70)\n",
    "#fig.savefig('URL_distribution.pdf', format='pdf', dpi=1200, bbox_inches='tight')"
   ]
  },
  {
   "cell_type": "code",
   "execution_count": 25,
   "id": "64a8acbc-3d35-4345-b389-a3ff7dda7777",
   "metadata": {},
   "outputs": [
    {
     "data": {
      "image/png": "[encoded data removed]",
      "text/plain": [
       "<Figure size 720x288 with 3 Axes>"
      ]
     },
     "metadata": {},
     "output_type": "display_data"
    }
   ],
   "source": [
    "fig, (ax1, ax2, ax3) = plt.subplots(3, sharex=True, sharey=True, figsize=(10, 4))\n",
    "#fig.suptitle('Vertically stacked subplots')\n",
    "ax1.hist([counts_total], \n",
    "              bins=np.arange(0, 60, 1), histtype='bar', align='mid',\n",
    "              rwidth=1, stacked=False, alpha=0.8)\n",
    "ax1.legend(loc='upper right', labels=['Number of Unique URLs per Species'])\n",
    "\n",
    "#ax1.set_title(\"Unique URLs per Species\")\n",
    "ax2.hist([counts_unique], \n",
    "              bins=np.arange(0, 60, 1), histtype='bar', align='mid',\n",
    "              rwidth=1, stacked=False, color='salmon', alpha=0.8)\n",
    "ax2.legend(loc='upper right', labels=['Number of Unique Base URLs per Species'])\n",
    "\n",
    "#ax2.set_title(\"Unique Base URLs per Species\")\n",
    "ax3.hist([count_text], \n",
    "              bins=np.arange(0, 60, 1), histtype='bar', align='mid',\n",
    "              rwidth=1, stacked=False, color='green', alpha=0.6)\n",
    "ax3.legend(loc='upper right', labels=['Number of URLs with Text per Species'])\n",
    "\n",
    "#ax3.set_title(\"URLs with Text per Species\")\n",
    "\n",
    "\n",
    "plt.setp([ax1, ax2, ax3], xlim=(0, 60), ylim=(0, 2000))\n",
    "\n",
    "\n",
    "\n",
    "for ax in fig.get_axes():\n",
    "    ax.label_outer()\n",
    "    \n",
    "#fig.savefig('URL_distribution.pdf', format='pdf', dpi=1200, bbox_inches='tight')"
   ]
  },
  {
   "cell_type": "code",
   "execution_count": 66,
   "id": "91487b16-81e5-478e-adcf-a1b257e145ab",
   "metadata": {},
   "outputs": [
    {
     "data": {
      "image/png": "[encoded data removed]",
      "text/plain": [
       "<Figure size 720x144 with 2 Axes>"
      ]
     },
     "metadata": {},
     "output_type": "display_data"
    }
   ],
   "source": [
    "sns.set_style('whitegrid')\n",
    "fig, (ax, box)  = plt.subplots(2, sharex=True,\n",
    "                               gridspec_kw={\"height_ratios\": (.9, .1,)},\n",
    "                               figsize=(10, 2))\n",
    "\n",
    "flierprops = dict(marker='.', markerfacecolor='black', markersize=5,\n",
    "                  markeredgecolor='none')\n",
    "\n",
    "\n",
    "sns.boxplot(count_text, ax=box, flierprops=flierprops, color='green')\n",
    "#sc = plt.scatter([1, 1], [zeros_before.min(), zeros_before.max()])\n",
    "\n",
    "#box.axis('off')\n",
    "ax.hist(count_text, \n",
    "         bins=np.arange(0, 60, 1), histtype='bar', align='mid',\n",
    "         #rwidth=0.9, stacked=False, alpha=0.8,\n",
    "         zorder=3, edgecolor=None, color='green')\n",
    "\n",
    "box.spines['right'].set_visible(False)\n",
    "box.spines['top'].set_visible(False)\n",
    "box.spines['left'].set_visible(False)\n",
    "box.spines['bottom'].set_visible(False)\n",
    "box.grid(False)\n",
    "\n",
    "\n",
    "box.set_xticklabels(np.arange(0, 90, 10))\n",
    "plt.setp([ax], xlim=(0, 90), ylim=(0, 2000))\n",
    "plt.xlabel('')\n",
    "#plt.setp([ax, ], xlim=(1, 1000), ylim=(0, 250000))\n",
    "#plt.tick_params(axis='y', which='both', labelsize=1) #labelsize=5 instead of labelsize=10\n",
    "#ax_box_CUB.set_title('CUB')\n",
    "#plt.subplots_adjust(wspace=0, hspace=0.05)\n",
    "#ax_hist_BOW.title.set_text('Non-Description Text Length Before Splitting')\n",
    "\n",
    "#sns.despine(ax=ax_box, left=True)\n",
    "fig.savefig('URL_distribution_3.pdf', format='pdf', dpi=1200, bbox_inches='tight')"
   ]
  },
  {
   "cell_type": "code",
   "execution_count": null,
   "id": "c98cf433-5283-48ff-8bb5-14ce3db8650e",
   "metadata": {},
   "outputs": [],
   "source": []
  },
  {
   "cell_type": "code",
   "execution_count": null,
   "id": "be774698-2337-4d21-8cfd-5bb74dc8711d",
   "metadata": {},
   "outputs": [],
   "source": []
  },
  {
   "cell_type": "code",
   "execution_count": null,
   "id": "d83a9807-cbf1-4e6b-9977-51791470f5e6",
   "metadata": {},
   "outputs": [],
   "source": [
    "URLs = Counter(bases)\n",
    "URLs_sorted = {k: v for k, v in sorted(URLs.items(), key=lambda item: item[1], reverse=True)}"
   ]
  },
  {
   "cell_type": "code",
   "execution_count": null,
   "id": "6f429863-5143-4288-8486-48d833f42e83",
   "metadata": {},
   "outputs": [],
   "source": [
    "len(URLs_sorted.keys())"
   ]
  },
  {
   "cell_type": "code",
   "execution_count": null,
   "id": "83f06b64-2d63-4cec-9437-b5a6b4ff005c",
   "metadata": {},
   "outputs": [],
   "source": [
    "\n",
    "data = []\n",
    "other = 0\n",
    "for idx, key in enumerate(list(URLs_sorted.keys())):\n",
    "    if idx < 20:\n",
    "        data.append(((key.lstrip('www.')), URLs_sorted[key]))\n",
    "    else:\n",
    "        other += URLs_sorted[key]\n",
    "        \n",
    "#data.append(('other', other))"
   ]
  },
  {
   "cell_type": "code",
   "execution_count": null,
   "id": "ddfd1189-b6e4-4a01-b119-fe89d3843930",
   "metadata": {},
   "outputs": [],
   "source": [
    "other"
   ]
  },
  {
   "cell_type": "code",
   "execution_count": null,
   "id": "9774ee31-9fbc-451b-afb6-0706a44a1e4e",
   "metadata": {},
   "outputs": [],
   "source": [
    "df = pd.DataFrame(data, columns=['URL', 'Count'])\n",
    "#df_melt = df.melt(df, id_vars=['URL'], value_vars=['Count'])"
   ]
  },
  {
   "cell_type": "code",
   "execution_count": null,
   "id": "1be283fa-c0ac-409f-839e-3d0e8003fe8e",
   "metadata": {},
   "outputs": [],
   "source": [
    "df['Percentage'] = df['Count'] / (df['Count'].sum() + other) * 100\n",
    "df['Cumsum'] = df['Percentage'].cumsum()"
   ]
  },
  {
   "cell_type": "code",
   "execution_count": null,
   "id": "8a63ad00-a84d-442d-a641-702437b04b31",
   "metadata": {},
   "outputs": [],
   "source": [
    "df['Percentage'].values.sum()"
   ]
  },
  {
   "cell_type": "code",
   "execution_count": null,
   "id": "ea61d0a4-c76f-48de-835d-957ba169551a",
   "metadata": {},
   "outputs": [],
   "source": [
    "fig, ax = plt.subplots(figsize=(10, 4))\n",
    "sns.set_style('whitegrid')\n",
    "#sns.set_theme(style=\"darkgrid\")\n",
    "ax = sns.barplot(y='Count', x=\"URL\", data=df,\n",
    "                color=\"salmon\", saturation=.5)\n",
    "ax.set_xticklabels(df['URL'], rotation=30, ha=\"right\")\n",
    "for p, value in zip(ax.patches, df['Percentage'].values):\n",
    "    ax.annotate(f'{value:.2f}%', xy=(p.get_x()+p.get_width()/5, p.get_height()),\n",
    "                ha='left', va='bottom', rotation=30, )#arrowprops=dict(arrowstyle=\"-\", color='black'))\n",
    "#ax.bar_label(ax.containers[-1], fmt='\\n%.2f', label_type='center')\n",
    "#ax.bar_label(ax.containers[0], label_type='center')\n",
    "#ax2 = plt.twinx()\n",
    "#ax2 = sns.lineplot(y='Cumsum', x=\"URL\", data=df)\n",
    "#fig.savefig('URL_top20.pdf', format='pdf', dpi=1200, bbox_inches='tight')"
   ]
  },
  {
   "cell_type": "code",
   "execution_count": null,
   "id": "88b6d15e-9e35-4761-a1f9-dc56db837056",
   "metadata": {},
   "outputs": [],
   "source": [
    "test = [bar for bar in ax.containers[0]]"
   ]
  },
  {
   "cell_type": "code",
   "execution_count": null,
   "id": "11bd0252-3f6a-447d-86ee-3db4c0c9ce11",
   "metadata": {},
   "outputs": [],
   "source": [
    "test[0]."
   ]
  },
  {
   "cell_type": "code",
   "execution_count": null,
   "id": "87d1342e-529d-45a8-9fc0-b8bb4fec0cfb",
   "metadata": {},
   "outputs": [],
   "source": [
    "SENT_amount = []\n",
    "#SENT_length = []\n",
    "for species in tqdm_notebook(SENTS_dict.keys()):\n",
    "    sent = [chunk for list_ in SENTS_dict[species] for chunk in list_]\n",
    "    SENT_amount.append(len(sent))\n"
   ]
  },
  {
   "cell_type": "code",
   "execution_count": null,
   "id": "b02720ca-834c-4edb-bb60-107c66738654",
   "metadata": {},
   "outputs": [],
   "source": [
    "# Load the pickle list\n",
    "datalist = glob.glob('../data/description/03_DESC*PLANTS.pkl')\n",
    "# Init list\n",
    "DESC_dict = {}\n",
    "# Loop over the pickles\n",
    "for data in datalist:\n",
    "    # Open the pickles\n",
    "    datadict = pickle.load(open(data, 'rb'))\n",
    "    # Update\n",
    "    DESC_dict.update(datadict)\n",
    "\n",
    "\n",
    "DESC_dict = pickle.load(open('../data/description/04_TRAIN_0000000-0014557_PLANTS.pkl', 'rb'))"
   ]
  },
  {
   "cell_type": "code",
   "execution_count": null,
   "id": "699fb4df-6ee5-47f2-ae8f-b4ac6635d288",
   "metadata": {},
   "outputs": [],
   "source": [
    "DESC_amount = []\n",
    "#SENT_length = []\n",
    "for species in tqdm_notebook(DESC_dict.keys()):\n",
    "    DESC_amount.append(len(DESC_dict[species]))"
   ]
  },
  {
   "cell_type": "code",
   "execution_count": null,
   "id": "7f2fe8ff-a2cf-44f9-9cd5-61451a0f1d3e",
   "metadata": {},
   "outputs": [],
   "source": [
    "SENT_amount = np.array(SENT_amount)\n",
    "SENT_amount = SENT_amount[SENT_amount>0]\n",
    "\n",
    "DESC_amount = np.array(DESC_amount)"
   ]
  },
  {
   "cell_type": "code",
   "execution_count": null,
   "id": "5c8eb271-2975-413b-8cb6-d64897688e59",
   "metadata": {},
   "outputs": [],
   "source": [
    "DESC_amount.sum()"
   ]
  },
  {
   "cell_type": "code",
   "execution_count": null,
   "id": "32f3374c-6fc8-459f-b5e3-3724de5cddec",
   "metadata": {},
   "outputs": [],
   "source": [
    "fig, ax = plt.subplots(figsize=(10, 4))\n",
    "sns.set_style('whitegrid')\n",
    "ax = sns.histplot(data=[SENT_amount, DESC_amount], log_scale=True, kde=False)\n",
    "plt.legend(loc='upper right', labels=['Description per Species', 'Sentences per Species'])\n",
    "#ax.set_title('Histogram')\n",
    "plt.xlim([1, 10**3.5])\n",
    "plt.ylim([0, 1600])\n",
    "fig.savefig('text_distribution.pdf', format='pdf', dpi=1200, bbox_inches='tight')"
   ]
  },
  {
   "cell_type": "code",
   "execution_count": null,
   "id": "28770c80-012c-4d40-b5b8-fd0899d35795",
   "metadata": {},
   "outputs": [],
   "source": [
    "fig, (ax1, ax2) = plt.subplots(2, sharex=True, sharey=True, figsize=(10, 4))\n",
    "\n",
    "logbins = np.logspace(np.log10(1),np.log10(10000), 70)\n",
    "\n",
    "ax1.hist([SENT_amount], \n",
    "              bins=logbins, histtype='bar', align='mid',\n",
    "              rwidth=1, stacked=False, alpha=0.8)\n",
    "ax1.legend(loc='upper right', labels=['Sentences per Species'])\n",
    "\n",
    "ax2.hist([DESC_amount], color='orange',\n",
    "              bins=logbins, histtype='bar', align='mid',\n",
    "              rwidth=1, stacked=False, alpha=0.8)\n",
    "ax2.legend(loc='upper right', labels=['Description Sentences per Species'])\n",
    "\n",
    "ax1.set_xscale('log')\n",
    "ax2.set_xscale('log')\n",
    "plt.setp([ax1, ax2,], xlim=(1, 10000), ylim=(0, 2000))\n",
    "fig.savefig('text_distribution.pdf', format='pdf', dpi=1200, bbox_inches='tight')"
   ]
  },
  {
   "cell_type": "markdown",
   "id": "137b5856-8923-4351-a50f-3a4a7aa2be89",
   "metadata": {},
   "source": [
    "## CUB set"
   ]
  },
  {
   "cell_type": "code",
   "execution_count": null,
   "id": "bfa97a83-ac6e-47a8-af84-449ec43eb3d4",
   "metadata": {},
   "outputs": [],
   "source": [
    "# Open the text file\n",
    "location = \"../data/external/CUB_200_2011/CUB_200_2011/classes.txt\"\n",
    "with open(location) as f:\n",
    "    lines = f.readlines()\n",
    "# Init regex\n",
    "regex = r'\\d+\\s\\d+\\.'\n",
    "# Clean the list\n",
    "CUB = [re.sub(regex, '', line).rstrip().replace('_', ' ') for line in lines]\n",
    "# Open the text file\n",
    "location = \"../data/external/CUB_200_2011/attributes.txt\"\n",
    "with open(location) as f:\n",
    "    lines = f.readlines()\n",
    "    \n",
    "attribute_list = []\n",
    "\n",
    "# Create a DF with attributes\n",
    "for line in lines:\n",
    "    line = line.strip()\n",
    "    attributes = line.split()[1].split('::')\n",
    "    part = attributes[0]\n",
    "    adjective = attributes[1]\n",
    "    attribute_list.append((part, adjective))\n",
    "    \n",
    "# Create DF        \n",
    "df_attributes = pd.DataFrame(attribute_list, columns=['Part', 'Adj'])\n",
    "# Reset the index\n",
    "df_attributes.index = np.arange(1, len(df_attributes)+1)\n",
    "# Open the text file\n",
    "location = \"../data/external/CUB_200_2011/CUB_200_2011/attributes/image_attribute_labels.txt\"\n",
    "with open(location) as f:\n",
    "    lines = f.readlines()\n",
    "# Open the text file\n",
    "location = \"../data/external/CUB_200_2011/CUB_200_2011/images.txt\"\n",
    "with open(location) as f:\n",
    "    img_ids = f.readlines()\n",
    "    \n",
    "# Create DF will all present parts\n",
    "CUB_dict = collections.defaultdict(list)\n",
    "# Loop over lines\n",
    "for line in tqdm_notebook(lines):\n",
    "    data = line.split()\n",
    "    # Skip non present\n",
    "    if not int(data[2]):\n",
    "        continue\n",
    "    # Skip uncertain things\n",
    "    if int(data[3]) < 4:\n",
    "        continue\n",
    "    # Otherwise append\n",
    "    #print(CUB[int(img_ids[int(data[0])].split()[1][0:3]) - 1], data)\n",
    "    CUB_dict[CUB[int(img_ids[int(data[0])-1].split()[1][0:3]) - 1]].append((df_attributes.loc[int(data[1]), ][0], df_attributes.loc[int(data[1]), ][1]))\n",
    "    \n",
    "# Drop duplicates\n",
    "# Images are annotated per image and not bird\n",
    "# Resulting in multiple sightings per bird\n",
    "for bird in CUB_dict.keys():\n",
    "    CUB_dict[bird] = list(set(CUB_dict[bird]))"
   ]
  },
  {
   "cell_type": "code",
   "execution_count": null,
   "id": "c23a0cb4-081b-4ec8-865c-b1eb9092d516",
   "metadata": {},
   "outputs": [],
   "source": [
    "# Open the text file\n",
    "location = \"../data/external/birds_matched.txt\"\n",
    "with open(location) as f:\n",
    "    lines = f.readlines()"
   ]
  },
  {
   "cell_type": "code",
   "execution_count": null,
   "id": "3d70e5d5-7b6e-4966-81f8-b588d2547ab4",
   "metadata": {},
   "outputs": [],
   "source": [
    "matched_birds = []\n",
    "\n",
    "for line in lines[1:]:\n",
    "    (idx, CUB, BOW) = line.split(';')\n",
    "    matched_birds.append((CUB.strip(), BOW.strip()))\n",
    "\n"
   ]
  },
  {
   "cell_type": "code",
   "execution_count": null,
   "id": "7d65b2a7-a2f4-4fc3-8e05-8c13c1274551",
   "metadata": {},
   "outputs": [],
   "source": [
    "BOW_dict = pickle.load(open('../data/description/04_TRAIN_0000000-0002000_BIRDS.pkl', 'rb'))"
   ]
  },
  {
   "cell_type": "code",
   "execution_count": null,
   "id": "6783de2d-529b-47f7-b1e5-1a9f9a11e5ca",
   "metadata": {},
   "outputs": [],
   "source": [
    "combined_dict = collections.defaultdict(list)\n",
    "\n",
    "for (CUB, BOW) in matched_birds:\n",
    "    combined_dict[BOW].append(len(CUB_dict[CUB]))\n",
    "    combined_dict[BOW].append(len(BOW_dict[BOW]))"
   ]
  },
  {
   "cell_type": "code",
   "execution_count": null,
   "id": "971668e3-44c1-481b-90a6-681e3d5292a2",
   "metadata": {},
   "outputs": [],
   "source": [
    "df = pd.DataFrame(combined_dict, )\n",
    "df = df.T\n",
    "df.columns = ['CUB', 'BOW']\n",
    "df['Bird'] = df.index"
   ]
  },
  {
   "cell_type": "code",
   "execution_count": null,
   "id": "fb62d51f-c2e4-4599-af6e-dad8001c9686",
   "metadata": {},
   "outputs": [],
   "source": [
    "df_melt = df.melt(id_vars=['Bird'], value_vars=['CUB', 'BOW'])"
   ]
  },
  {
   "cell_type": "code",
   "execution_count": null,
   "id": "8f07e4b7-a0e0-4fe0-9602-d8c9fe87a394",
   "metadata": {},
   "outputs": [],
   "source": [
    "df_melt"
   ]
  },
  {
   "cell_type": "code",
   "execution_count": null,
   "id": "3b0df331-d606-4834-ab13-05e4e952d15c",
   "metadata": {},
   "outputs": [],
   "source": [
    "fig, ax = plt.subplots(figsize=(10, 4))\n",
    "sns.set_style('whitegrid')\n",
    "#sns.set_theme(style=\"darkgrid\")\n",
    "ax = sns.violinplot(y='variable', x=\"value\", data=df_melt)"
   ]
  },
  {
   "cell_type": "code",
   "execution_count": null,
   "id": "46d8edcb-5f13-40de-a651-bbbaf5a6d49c",
   "metadata": {},
   "outputs": [],
   "source": [
    "sns.set_style('whitegrid')\n",
    "fig, (ax_hist_BOW, ax_box_BOW, ax_hist_CUB, ax_box_CUB, ) = plt.subplots(4, sharex=True,\n",
    "                                                        gridspec_kw={\"height_ratios\": (.9, .1, .9, .10)},\n",
    "                                                       figsize=(10, 6))\n",
    "\n",
    "\n",
    "flierprops = dict(marker='.', markerfacecolor='black', markersize=5,\n",
    "                  markeredgecolor='none')\n",
    "\n",
    "\n",
    "sns.boxplot(df['BOW'], ax=ax_box_BOW, flierprops=flierprops)\n",
    "ax_box_BOW.axis('off')\n",
    "ax_hist_BOW.hist([df['BOW']], \n",
    "         bins=np.arange(0, 250, 5), histtype='bar', align='mid',\n",
    "         rwidth=0.9, stacked=False, alpha=0.8,\n",
    "         zorder=3, edgecolor=None)\n",
    "ax_hist_BOW.legend(loc='upper right', labels=['Descriptions per Bird (Our Set)'])\n",
    "\n",
    "#ax_box_BOW.set_title('BOW')\n",
    "#plt.subplots_adjust(hspace = 0.25 )\n",
    "sns.boxplot(df['CUB'], ax=ax_box_CUB, color='orange', flierprops=flierprops)\n",
    "#ax_box_CUB.axis('off')\n",
    "ax_box_CUB.spines['right'].set_visible(False)\n",
    "ax_box_CUB.spines['top'].set_visible(False)\n",
    "ax_box_CUB.spines['left'].set_visible(False)\n",
    "ax_box_CUB.spines['bottom'].set_visible(False)\n",
    "ax_box_CUB.grid(False)\n",
    "\n",
    "#ax_box_CUB.tick_params(axis=u'both', which=u'both',length=0)\n",
    "#ax_box_CUB.spines['mid'].set_visible(False)\n",
    "#ax_box_CUB.xaxis.set_ticks_position('bottom')\n",
    "ax_hist_CUB.hist([df['CUB']], \n",
    "         bins=np.arange(0, 250, 5), histtype='bar', align='mid',\n",
    "         rwidth=0.9, stacked=False, alpha=0.8,\n",
    "         zorder=3, edgecolor=None, color='orange')\n",
    "ax_hist_CUB.legend(loc='upper right', labels=['Descriptions per Bird (CUB Set)'])\n",
    "plt.xlabel('')\n",
    "plt.setp([ax_hist_BOW, ax_hist_CUB,], xlim=(0, 250), ylim=(0, 20))\n",
    "#plt.tick_params(axis='y', which='both', labelsize=1) #labelsize=5 instead of labelsize=10\n",
    "#ax_box_CUB.set_title('CUB')\n",
    "#sns.despine(ax=ax_hist)\n",
    "#sns.despine(ax=ax_box, left=True)\n",
    "fig.savefig('CUB_distribution.pdf', format='pdf', dpi=1200, bbox_inches='tight')"
   ]
  },
  {
   "cell_type": "code",
   "execution_count": null,
   "id": "1c7e4030-efad-48d9-a2cf-08f189e0f96d",
   "metadata": {},
   "outputs": [],
   "source": [
    "import requests\n",
    "from bs4 import BeautifulSoup\n",
    "import spacy\n",
    "nlp = spacy.load('en_core_web_trf')\n",
    "# URL\n",
    "URL = 'https://en.wikipedia.org/wiki/Glossary_of_bird_terms'\n",
    "# Get the page\n",
    "page = requests.get(URL, timeout=5)\n",
    "soup = BeautifulSoup(page.content, \"lxml\", from_encoding=\"iso-8859-1\")   \n",
    "# Find embedded glossary\n",
    "glossaries = soup.find_all('dt', {'class': 'glossary'})\n",
    "parts = [part.text.lower().strip() for part in glossaries]\n",
    "# Get additional anchors (\"also know as...\")\n",
    "glossaries_other = soup.find_all('span', {'class': 'anchor'})\n",
    "parts_other = [part['id'].lower().strip() for part in glossaries_other]\n",
    "# Append and drop duplicates\n",
    "parts = list(set((parts + parts_other)))\n",
    "# Replace underscore with space\n",
    "parts = [part.replace('_', ' ') for part in parts]"
   ]
  },
  {
   "cell_type": "code",
   "execution_count": null,
   "id": "7ce17382-8d86-4a37-82a0-d6bb8c1d5d5d",
   "metadata": {},
   "outputs": [],
   "source": [
    "combined_dict = collections.defaultdict(list)\n",
    "\n",
    "for (CUB, BOW) in matched_birds:\n",
    "    for sents in CUB_dict[CUB]:\n",
    "        doc = nlp(doc)\n",
    "        \n",
    "    combined_dict[BOW].append(len(CUB_dict[CUB]))\n",
    "    combined_dict[BOW].append(len(BOW_dict[BOW]))"
   ]
  },
  {
   "cell_type": "code",
   "execution_count": null,
   "id": "ca597368-477a-404f-8e7b-7267ab455bb4",
   "metadata": {},
   "outputs": [],
   "source": []
  }
 ],
 "metadata": {
  "kernelspec": {
   "display_name": "Python [conda env:DL]",
   "language": "python",
   "name": "conda-env-DL-py"
  },
  "language_info": {
   "codemirror_mode": {
    "name": "ipython",
    "version": 3
   },
   "file_extension": ".py",
   "mimetype": "text/x-python",
   "name": "python",
   "nbconvert_exporter": "python",
   "pygments_lexer": "ipython3",
   "version": "3.8.10"
  }
 },
 "nbformat": 4,
 "nbformat_minor": 5
}
