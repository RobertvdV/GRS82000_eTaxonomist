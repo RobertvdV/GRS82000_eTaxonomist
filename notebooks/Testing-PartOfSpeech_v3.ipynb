{
 "cells": [
  {
   "cell_type": "code",
   "execution_count": 130,
   "id": "c7370b41-1f6b-4f22-9579-857e8fb15f97",
   "metadata": {},
   "outputs": [],
   "source": [
    "import spacy\n",
    "from spacy import displacy\n",
    "from spacy.matcher import Matcher\n",
    "from spacy.util import filter_spans\n",
    "nlp = spacy.load('en_core_web_trf')\n",
    "\n",
    "from tqdm import tqdm\n",
    "import re\n",
    "%matplotlib inline"
   ]
  },
  {
   "cell_type": "code",
   "execution_count": 13,
   "id": "87f9afde-7e64-44c3-81c0-00d1aa4940ad",
   "metadata": {},
   "outputs": [
    {
     "data": {
      "text/plain": [
       "[('transformer',\n",
       "  <spacy_transformers.pipeline_component.Transformer at 0x7fb6305f26d0>),\n",
       " ('tagger', <spacy.pipeline.tagger.Tagger at 0x7fb6305f29f0>),\n",
       " ('parser', <spacy.pipeline.dep_parser.DependencyParser at 0x7fb6305f8520>),\n",
       " ('attribute_ruler',\n",
       "  <spacy.pipeline.attributeruler.AttributeRuler at 0x7fb6305d7940>),\n",
       " ('lemmatizer',\n",
       "  <spacy.lang.en.lemmatizer.EnglishLemmatizer at 0x7fb6305d4200>),\n",
       " ('ner', <spacy.pipeline.ner.EntityRecognizer at 0x7fb6305aed60>)]"
      ]
     },
     "execution_count": 13,
     "metadata": {},
     "output_type": "execute_result"
    }
   ],
   "source": [
    "nlp.pipeline"
   ]
  },
  {
   "cell_type": "code",
   "execution_count": 77,
   "id": "908aa0a1-8843-451d-b850-a26f43a0ca14",
   "metadata": {},
   "outputs": [],
   "source": [
    "string = \"\"\"Brown bears have long claws. \n",
    "The Brown bear has a brown fur. \n",
    "The Brown bear has a black nose.\n",
    "The brown bear has a black nose.\n",
    "The bear has a purple belly.\n",
    "Their feet are orange.\n",
    "The brown bear is similar to the black bear.\n",
    "\"\"\""
   ]
  },
  {
   "cell_type": "code",
   "execution_count": 181,
   "id": "89312a1d-8083-4a79-b79b-d7e4b190ba78",
   "metadata": {},
   "outputs": [],
   "source": [
    "string = \"\"\"\n",
    "Brown bears have very large and curved claws, those present on the forelimbs being longer than those on the hind limbs. They may reach 5 to 6 centimetres (2.0 to 2.4 in) and may measure 7 to 10 centimetres (2.8 to 3.9 in) along the curve.[69] They are generally dark with a light tip, with some forms having completely light claws.[62] Brown bear claws are longer and straighter than those of American black bears (Ursus americanus).[61] The claws are blunt, while those of a black bear are sharp. Due to their claw structure, in addition to their excessive weight, adult brown bears cannot typically climb trees as well as both species of black bear, although in rare cases adult female brown bears have been seen in trees.[70] The claws of a polar bear are also quite different, being notably shorter but broader with a strong curve and sharper point, presumably both as an aid to traveling over ice (sometimes nearly vertically) and procuring active prey.[23][71] The paws of the brown bear are quite large. The rear feet of adult bears have been found to typically measure 21 to 36 cm (8.3 to 14.2 in) long, while the forefeet tend to measure about 40% less in length. All four feet in average sized brown bears tend to be about 17.5 to 20 cm (6.9 to 7.9 in) in width. In large coastal or Kodiak bear males, the hindfoot may measure up to 40 cm (16 in) in length, 28.5 cm (11.2 in) in width, while outsized Kodiak bears having had confirmed measurements of up to 46 cm (18 in) along their rear foot.[72][73][74] Brown bears are the only extant bears with a hump at the top of their shoulder, which is made entirely of muscle, this feature having developed presumably for imparting more force in digging, which is habitual during foraging for most bears of the species and also used heavily in den construction prior to hibernation.[61][75] The brown bear's strength has been roughly estimated as 2.5 to 5 times that of a human.[76]\n",
    "\"\"\""
   ]
  },
  {
   "cell_type": "code",
   "execution_count": 182,
   "id": "52d50f2f-b75d-4b3f-8d7e-5430d5cf3d59",
   "metadata": {},
   "outputs": [],
   "source": [
    "def TextCleaner(text, splitComma=False, splitPointComma=False):\n",
    "    \n",
    "    \"\"\"\n",
    "    Split text into sentences and cleans them \n",
    "    from e.g. whitespaces and references.\n",
    "    \"\"\"\n",
    "    \n",
    "    # Split on commas\n",
    "    if splitComma:\n",
    "        text = text.replace(', ', '. ')\n",
    "    if splitPointComma:\n",
    "        text = text.replace('; ', '. ')\n",
    "    text = nlp(text)\n",
    "    # Init result\n",
    "    result = []\n",
    "    # Init regexes\n",
    "    TextCleaner = [\n",
    "            ' \\(\\d+.+?Close\\n\\t\\n\\)',\n",
    "            '\\[\\d*\\]',\n",
    "            '\\([^)]*\\)'\n",
    "    ]\n",
    "    # Extract single senteces if large enough\n",
    "    sentences = [str(sent) for sent in text.sents if len(sent) >= 3]\n",
    "        \n",
    "    for sentence in sentences:\n",
    "        #print(sentence.lower())\n",
    "        # Apply the regexes\n",
    "        for Cleaner in TextCleaner:\n",
    "            sentence = re.sub(Cleaner, '', sentence, flags=re.DOTALL)\n",
    "        # Clean tabs and newlines\n",
    "        sentence = sentence.replace('\\n', '')\n",
    "        sentence = sentence.replace('\\t', '')\n",
    "        # Add to result\n",
    "        result.append(sentence.lower())\n",
    "    \n",
    "    return result"
   ]
  },
  {
   "cell_type": "code",
   "execution_count": 183,
   "id": "eae8e503-95ff-4dd9-b899-975876b25a33",
   "metadata": {},
   "outputs": [
    {
     "data": {
      "text/plain": [
       "['brown bears have very large and curved claws, those present on the forelimbs being longer than those on the hind limbs.',\n",
       " 'they may reach 5 to 6 centimetres  and may measure 7 to 10 centimetres  along the curve.',\n",
       " 'they are generally dark with a light tip, with some forms having completely light claws.',\n",
       " 'brown bear claws are longer and straighter than those of american black bears .',\n",
       " 'the claws are blunt, while those of a black bear are sharp.',\n",
       " 'due to their claw structure, in addition to their excessive weight, adult brown bears cannot typically climb trees as well as both species of black bear, although in rare cases adult female brown bears have been seen in trees.',\n",
       " 'the claws of a polar bear are also quite different, being notably shorter but broader with a strong curve and sharper point, presumably both as an aid to traveling over ice  and procuring active prey.',\n",
       " 'the paws of the brown bear are quite large.',\n",
       " 'the rear feet of adult bears have been found to typically measure 21 to 36 cm  long, while the forefeet tend to measure about 40% less in length.',\n",
       " 'all four feet in average sized brown bears tend to be about 17.5 to 20 cm  in width.',\n",
       " 'in large coastal or kodiak bear males, the hindfoot may measure up to 40 cm  in length, 28.5 cm  in width, while outsized kodiak bears having had confirmed measurements of up to 46 cm  along their rear foot.',\n",
       " 'brown bears are the only extant bears with a hump at the top of their shoulder, which is made entirely of muscle, this feature having developed presumably for imparting more force in digging, which is habitual during foraging for most bears of the species and also used heavily in den construction prior to hibernation.',\n",
       " \"the brown bear's strength has been roughly estimated as 2.5 to 5 times that of a human.\"]"
      ]
     },
     "execution_count": 183,
     "metadata": {},
     "output_type": "execute_result"
    }
   ],
   "source": [
    "sentences_cleaned = TextCleaner(string)\n",
    "sentences_cleaned"
   ]
  },
  {
   "cell_type": "code",
   "execution_count": 355,
   "id": "a4654bfe-5b39-4ff2-ad59-922228b65dc5",
   "metadata": {},
   "outputs": [],
   "source": [
    "def NounChunkExtractor(sentence):\n",
    "    \n",
    "    \"\"\"\n",
    "    Extracts the noun chunks of a sentence.\n",
    "    \"\"\"\n",
    "    \n",
    "    # Init matcher\n",
    "    matcher = Matcher(nlp.vocab)\n",
    "    # Init empty list\n",
    "    relations = []\n",
    "    # Relation patterns\n",
    "    AcompPattern = [\n",
    "                [{\"DEP\": \"ROOT\"}, {\"DEP\": \"advmod\", \"OP\": \"?\"}, {\"DEP\": \"acomp\", \"OP\": \"?\"}, {\"DEP\": \"prep\", \"OP\": \"?\"}, {\"DEP\": \"cc\", \"OP\": \"?\"}, {\"DEP\": \"conj\", \"OP\": \"?\"}],\n",
    "                [{\"POS\": \"VERB\"}, {\"DEP\": \"acomp\", \"OP\": \"?\"}, {\"DEP\": \"prep\", \"OP\": \"?\"}],\n",
    "    ]\n",
    "    # Add the matcher\n",
    "    matcher.add(\"Description\", AcompPattern)\n",
    "    \n",
    "    # Nlp the sentence\n",
    "    sentence = nlp(sentence)    \n",
    "    # Extract chunks\n",
    "    chunks = [chunks.text for chunks in sentence.noun_chunks]  \n",
    "    # Drop doubles\n",
    "    relations = list(dict.fromkeys(relations))\n",
    "    # Replace the relation if a match if found\n",
    "    matches = matcher(sentence)\n",
    "    if matches:\n",
    "        for _, start, end in matches:\n",
    "            #print(start, end)\n",
    "            # The matched span \n",
    "            extracted = sentence[start:end]\n",
    "            #print(extracted)\n",
    "            relations.append(extracted)\n",
    "        # Remove doubles\n",
    "        relations = filter_spans(relations)\n",
    "     \n",
    "    if len(chunks) == 1:        \n",
    "        RDF_1 = (chunks[0], relations[0][0], relations[0][1])\n",
    "        RDF_2 = (None)\n",
    "    \n",
    "    elif len(chunks) == 2 and len(relations) == 2:\n",
    "        RDF_1 = (chunks[0], relations[0][0], relations[0][1])        \n",
    "        RDF_2 = (chunks[1], relations[1][0], relations[1][1])\n",
    "        \n",
    "    elif len(chunks) == 2 and len(relations) != 2:\n",
    "        RDF_1 = (chunks[0], relations[0], chunks[1])\n",
    "        RDF_2 = (None)\n",
    "    \n",
    "    elif len(chunks) == 4:\n",
    "        RDF_1 = (chunks[0], relations[0], chunks[1])\n",
    "        RDF_2 = (chunks[2], relations[1], chunks[3])\n",
    "    \n",
    "    else:\n",
    "        RDF_1 = (None)\n",
    "        RDF_2 = (None)\n",
    "\n",
    "\n",
    "    return RDF_1, RDF_2"
   ]
  },
  {
   "cell_type": "code",
   "execution_count": 356,
   "id": "2d8885dc-112d-477f-851e-6d85deee48a2",
   "metadata": {},
   "outputs": [
    {
     "name": "stderr",
     "output_type": "stream",
     "text": [
      "100%|███████████████████████████████████████████| 13/13 [00:01<00:00,  8.79it/s]\n"
     ]
    },
    {
     "data": {
      "text/plain": [
       "[(('brown bears', have very, 'very large and curved claws'),\n",
       "  ('the forelimbs', being longer than, 'the hind limbs')),\n",
       " (('they', reach, '5 to 6 centimetres'),\n",
       "  ('7 to 10 centimetres', measure, 'the curve')),\n",
       " (('they', are generally dark with, 'a light tip'),\n",
       "  ('some forms', having, 'completely light claws')),\n",
       " (('brown bear claws', are longer and straighter, 'american black bears'),\n",
       "  None),\n",
       " (('the claws', are, blunt), ('a black bear', are, sharp)),\n",
       " (None, None),\n",
       " (None, None),\n",
       " (('the paws', are quite large, 'the brown bear'), None),\n",
       " (None, None),\n",
       " (('all four feet', tend, 'average sized brown bears'),\n",
       "  ('about 17.5 to 20 cm', be, 'width')),\n",
       " (None, None),\n",
       " (None, None),\n",
       " ((\"the brown bear's strength\", estimated as, 'a human'), None)]"
      ]
     },
     "execution_count": 356,
     "metadata": {},
     "output_type": "execute_result"
    }
   ],
   "source": [
    "[NounChunkExtractor(i) for i in tqdm(sentences_cleaned)]"
   ]
  },
  {
   "cell_type": "code",
   "execution_count": 339,
   "id": "bad4ed3e-e0ad-444a-bec7-aa4a7ed6f2c1",
   "metadata": {},
   "outputs": [
    {
     "data": {
      "text/plain": [
       "(None, None)"
      ]
     },
     "execution_count": 339,
     "metadata": {},
     "output_type": "execute_result"
    }
   ],
   "source": [
    "NounChunkExtractor(sentences_cleaned[-3])"
   ]
  },
  {
   "cell_type": "code",
   "execution_count": 276,
   "id": "2a09a169-6936-4934-9eae-2426b90010d9",
   "metadata": {},
   "outputs": [
    {
     "name": "stdout",
     "output_type": "stream",
     "text": [
      "brown -- ADJ -- amod\n",
      "bear -- NOUN -- compound\n",
      "claws -- NOUN -- nsubj\n",
      "are -- AUX -- ROOT\n",
      "longer -- ADJ -- acomp\n",
      "and -- CCONJ -- cc\n",
      "straighter -- ADJ -- conj\n",
      "than -- SCONJ -- prep\n",
      "those -- DET -- pobj\n",
      "of -- ADP -- prep\n",
      "american -- ADJ -- amod\n",
      "black -- ADJ -- amod\n",
      "bears -- NOUN -- pobj\n",
      ". -- PUNCT -- punct\n"
     ]
    }
   ],
   "source": [
    "for token in nlp(sentences_cleaned[3]):\n",
    "    print(token.text, '--', token.pos_, '--', token.dep_)"
   ]
  },
  {
   "cell_type": "code",
   "execution_count": 358,
   "id": "8a99016b-d3b5-4cf4-beec-eb23bbe6e368",
   "metadata": {},
   "outputs": [
    {
     "data": {
      "text/html": [
       "<span class=\"tex2jax_ignore\"><svg xmlns=\"http://www.w3.org/2000/svg\" xmlns:xlink=\"http://www.w3.org/1999/xlink\" xml:lang=\"en\" id=\"86490f083fac435eae735c9269eb8a5c-0\" class=\"displacy\" width=\"1625\" height=\"487.0\" direction=\"ltr\" style=\"max-width: none; height: 487.0px; color: #000000; background: #ffffff; font-family: Arial; direction: ltr\">\n",
       "<text class=\"displacy-token\" fill=\"currentColor\" text-anchor=\"middle\" y=\"397.0\">\n",
       "    <tspan class=\"displacy-word\" fill=\"currentColor\" x=\"50\">the</tspan>\n",
       "    <tspan class=\"displacy-tag\" dy=\"2em\" fill=\"currentColor\" x=\"50\">DET</tspan>\n",
       "</text>\n",
       "\n",
       "<text class=\"displacy-token\" fill=\"currentColor\" text-anchor=\"middle\" y=\"397.0\">\n",
       "    <tspan class=\"displacy-word\" fill=\"currentColor\" x=\"225\">paws</tspan>\n",
       "    <tspan class=\"displacy-tag\" dy=\"2em\" fill=\"currentColor\" x=\"225\">NOUN</tspan>\n",
       "</text>\n",
       "\n",
       "<text class=\"displacy-token\" fill=\"currentColor\" text-anchor=\"middle\" y=\"397.0\">\n",
       "    <tspan class=\"displacy-word\" fill=\"currentColor\" x=\"400\">of</tspan>\n",
       "    <tspan class=\"displacy-tag\" dy=\"2em\" fill=\"currentColor\" x=\"400\">ADP</tspan>\n",
       "</text>\n",
       "\n",
       "<text class=\"displacy-token\" fill=\"currentColor\" text-anchor=\"middle\" y=\"397.0\">\n",
       "    <tspan class=\"displacy-word\" fill=\"currentColor\" x=\"575\">the</tspan>\n",
       "    <tspan class=\"displacy-tag\" dy=\"2em\" fill=\"currentColor\" x=\"575\">DET</tspan>\n",
       "</text>\n",
       "\n",
       "<text class=\"displacy-token\" fill=\"currentColor\" text-anchor=\"middle\" y=\"397.0\">\n",
       "    <tspan class=\"displacy-word\" fill=\"currentColor\" x=\"750\">brown</tspan>\n",
       "    <tspan class=\"displacy-tag\" dy=\"2em\" fill=\"currentColor\" x=\"750\">ADJ</tspan>\n",
       "</text>\n",
       "\n",
       "<text class=\"displacy-token\" fill=\"currentColor\" text-anchor=\"middle\" y=\"397.0\">\n",
       "    <tspan class=\"displacy-word\" fill=\"currentColor\" x=\"925\">bear</tspan>\n",
       "    <tspan class=\"displacy-tag\" dy=\"2em\" fill=\"currentColor\" x=\"925\">NOUN</tspan>\n",
       "</text>\n",
       "\n",
       "<text class=\"displacy-token\" fill=\"currentColor\" text-anchor=\"middle\" y=\"397.0\">\n",
       "    <tspan class=\"displacy-word\" fill=\"currentColor\" x=\"1100\">are</tspan>\n",
       "    <tspan class=\"displacy-tag\" dy=\"2em\" fill=\"currentColor\" x=\"1100\">AUX</tspan>\n",
       "</text>\n",
       "\n",
       "<text class=\"displacy-token\" fill=\"currentColor\" text-anchor=\"middle\" y=\"397.0\">\n",
       "    <tspan class=\"displacy-word\" fill=\"currentColor\" x=\"1275\">quite</tspan>\n",
       "    <tspan class=\"displacy-tag\" dy=\"2em\" fill=\"currentColor\" x=\"1275\">ADV</tspan>\n",
       "</text>\n",
       "\n",
       "<text class=\"displacy-token\" fill=\"currentColor\" text-anchor=\"middle\" y=\"397.0\">\n",
       "    <tspan class=\"displacy-word\" fill=\"currentColor\" x=\"1450\">large.</tspan>\n",
       "    <tspan class=\"displacy-tag\" dy=\"2em\" fill=\"currentColor\" x=\"1450\">ADJ</tspan>\n",
       "</text>\n",
       "\n",
       "<g class=\"displacy-arrow\">\n",
       "    <path class=\"displacy-arc\" id=\"arrow-86490f083fac435eae735c9269eb8a5c-0-0\" stroke-width=\"2px\" d=\"M70,352.0 C70,264.5 210.0,264.5 210.0,352.0\" fill=\"none\" stroke=\"currentColor\"/>\n",
       "    <text dy=\"1.25em\" style=\"font-size: 0.8em; letter-spacing: 1px\">\n",
       "        <textPath xlink:href=\"#arrow-86490f083fac435eae735c9269eb8a5c-0-0\" class=\"displacy-label\" startOffset=\"50%\" side=\"left\" fill=\"currentColor\" text-anchor=\"middle\">det</textPath>\n",
       "    </text>\n",
       "    <path class=\"displacy-arrowhead\" d=\"M70,354.0 L62,342.0 78,342.0\" fill=\"currentColor\"/>\n",
       "</g>\n",
       "\n",
       "<g class=\"displacy-arrow\">\n",
       "    <path class=\"displacy-arc\" id=\"arrow-86490f083fac435eae735c9269eb8a5c-0-1\" stroke-width=\"2px\" d=\"M245,352.0 C245,2.0 1100.0,2.0 1100.0,352.0\" fill=\"none\" stroke=\"currentColor\"/>\n",
       "    <text dy=\"1.25em\" style=\"font-size: 0.8em; letter-spacing: 1px\">\n",
       "        <textPath xlink:href=\"#arrow-86490f083fac435eae735c9269eb8a5c-0-1\" class=\"displacy-label\" startOffset=\"50%\" side=\"left\" fill=\"currentColor\" text-anchor=\"middle\">nsubj</textPath>\n",
       "    </text>\n",
       "    <path class=\"displacy-arrowhead\" d=\"M245,354.0 L237,342.0 253,342.0\" fill=\"currentColor\"/>\n",
       "</g>\n",
       "\n",
       "<g class=\"displacy-arrow\">\n",
       "    <path class=\"displacy-arc\" id=\"arrow-86490f083fac435eae735c9269eb8a5c-0-2\" stroke-width=\"2px\" d=\"M245,352.0 C245,264.5 385.0,264.5 385.0,352.0\" fill=\"none\" stroke=\"currentColor\"/>\n",
       "    <text dy=\"1.25em\" style=\"font-size: 0.8em; letter-spacing: 1px\">\n",
       "        <textPath xlink:href=\"#arrow-86490f083fac435eae735c9269eb8a5c-0-2\" class=\"displacy-label\" startOffset=\"50%\" side=\"left\" fill=\"currentColor\" text-anchor=\"middle\">prep</textPath>\n",
       "    </text>\n",
       "    <path class=\"displacy-arrowhead\" d=\"M385.0,354.0 L393.0,342.0 377.0,342.0\" fill=\"currentColor\"/>\n",
       "</g>\n",
       "\n",
       "<g class=\"displacy-arrow\">\n",
       "    <path class=\"displacy-arc\" id=\"arrow-86490f083fac435eae735c9269eb8a5c-0-3\" stroke-width=\"2px\" d=\"M595,352.0 C595,177.0 915.0,177.0 915.0,352.0\" fill=\"none\" stroke=\"currentColor\"/>\n",
       "    <text dy=\"1.25em\" style=\"font-size: 0.8em; letter-spacing: 1px\">\n",
       "        <textPath xlink:href=\"#arrow-86490f083fac435eae735c9269eb8a5c-0-3\" class=\"displacy-label\" startOffset=\"50%\" side=\"left\" fill=\"currentColor\" text-anchor=\"middle\">det</textPath>\n",
       "    </text>\n",
       "    <path class=\"displacy-arrowhead\" d=\"M595,354.0 L587,342.0 603,342.0\" fill=\"currentColor\"/>\n",
       "</g>\n",
       "\n",
       "<g class=\"displacy-arrow\">\n",
       "    <path class=\"displacy-arc\" id=\"arrow-86490f083fac435eae735c9269eb8a5c-0-4\" stroke-width=\"2px\" d=\"M770,352.0 C770,264.5 910.0,264.5 910.0,352.0\" fill=\"none\" stroke=\"currentColor\"/>\n",
       "    <text dy=\"1.25em\" style=\"font-size: 0.8em; letter-spacing: 1px\">\n",
       "        <textPath xlink:href=\"#arrow-86490f083fac435eae735c9269eb8a5c-0-4\" class=\"displacy-label\" startOffset=\"50%\" side=\"left\" fill=\"currentColor\" text-anchor=\"middle\">amod</textPath>\n",
       "    </text>\n",
       "    <path class=\"displacy-arrowhead\" d=\"M770,354.0 L762,342.0 778,342.0\" fill=\"currentColor\"/>\n",
       "</g>\n",
       "\n",
       "<g class=\"displacy-arrow\">\n",
       "    <path class=\"displacy-arc\" id=\"arrow-86490f083fac435eae735c9269eb8a5c-0-5\" stroke-width=\"2px\" d=\"M420,352.0 C420,89.5 920.0,89.5 920.0,352.0\" fill=\"none\" stroke=\"currentColor\"/>\n",
       "    <text dy=\"1.25em\" style=\"font-size: 0.8em; letter-spacing: 1px\">\n",
       "        <textPath xlink:href=\"#arrow-86490f083fac435eae735c9269eb8a5c-0-5\" class=\"displacy-label\" startOffset=\"50%\" side=\"left\" fill=\"currentColor\" text-anchor=\"middle\">pobj</textPath>\n",
       "    </text>\n",
       "    <path class=\"displacy-arrowhead\" d=\"M920.0,354.0 L928.0,342.0 912.0,342.0\" fill=\"currentColor\"/>\n",
       "</g>\n",
       "\n",
       "<g class=\"displacy-arrow\">\n",
       "    <path class=\"displacy-arc\" id=\"arrow-86490f083fac435eae735c9269eb8a5c-0-6\" stroke-width=\"2px\" d=\"M1295,352.0 C1295,264.5 1435.0,264.5 1435.0,352.0\" fill=\"none\" stroke=\"currentColor\"/>\n",
       "    <text dy=\"1.25em\" style=\"font-size: 0.8em; letter-spacing: 1px\">\n",
       "        <textPath xlink:href=\"#arrow-86490f083fac435eae735c9269eb8a5c-0-6\" class=\"displacy-label\" startOffset=\"50%\" side=\"left\" fill=\"currentColor\" text-anchor=\"middle\">advmod</textPath>\n",
       "    </text>\n",
       "    <path class=\"displacy-arrowhead\" d=\"M1295,354.0 L1287,342.0 1303,342.0\" fill=\"currentColor\"/>\n",
       "</g>\n",
       "\n",
       "<g class=\"displacy-arrow\">\n",
       "    <path class=\"displacy-arc\" id=\"arrow-86490f083fac435eae735c9269eb8a5c-0-7\" stroke-width=\"2px\" d=\"M1120,352.0 C1120,177.0 1440.0,177.0 1440.0,352.0\" fill=\"none\" stroke=\"currentColor\"/>\n",
       "    <text dy=\"1.25em\" style=\"font-size: 0.8em; letter-spacing: 1px\">\n",
       "        <textPath xlink:href=\"#arrow-86490f083fac435eae735c9269eb8a5c-0-7\" class=\"displacy-label\" startOffset=\"50%\" side=\"left\" fill=\"currentColor\" text-anchor=\"middle\">acomp</textPath>\n",
       "    </text>\n",
       "    <path class=\"displacy-arrowhead\" d=\"M1440.0,354.0 L1448.0,342.0 1432.0,342.0\" fill=\"currentColor\"/>\n",
       "</g>\n",
       "</svg></span>"
      ],
      "text/plain": [
       "<IPython.core.display.HTML object>"
      ]
     },
     "metadata": {},
     "output_type": "display_data"
    }
   ],
   "source": [
    "displacy.render(nlp(sentences_cleaned[-6]), style=\"dep\")"
   ]
  },
  {
   "cell_type": "code",
   "execution_count": 351,
   "id": "0fdd99c2-68df-40fd-93e1-7d2591eca3ea",
   "metadata": {},
   "outputs": [],
   "source": [
    "import spacy\n",
    "from spacy.symbols import nsubj, VERB\n",
    "\n",
    "nlp = spacy.load(\"en_core_web_trf\")\n",
    "doc = nlp('brown bears have very large and curved claws, those present on the forelimbs being longer than those on the hind limbs.')\n",
    "\n"
   ]
  },
  {
   "cell_type": "code",
   "execution_count": 352,
   "id": "bcec854d-5fff-4d4a-9eb1-10a4993e0769",
   "metadata": {},
   "outputs": [
    {
     "data": {
      "text/plain": [
       "{have, being}"
      ]
     },
     "execution_count": 352,
     "metadata": {},
     "output_type": "execute_result"
    }
   ],
   "source": [
    "# Finding a verb with a subject from below — good\n",
    "verbs = set()\n",
    "for possible_subject in doc:\n",
    "    if possible_subject.dep == nsubj and possible_subject.head.pos == VERB:\n",
    "        verbs.add(possible_subject.head)\n",
    "verbs"
   ]
  },
  {
   "cell_type": "code",
   "execution_count": null,
   "id": "ea668727-a6d8-40b4-94c8-dff82be4a30c",
   "metadata": {},
   "outputs": [],
   "source": []
  },
  {
   "cell_type": "code",
   "execution_count": null,
   "id": "a93fc8f7-eff5-4d5b-a0b0-a15843a3470e",
   "metadata": {},
   "outputs": [],
   "source": []
  },
  {
   "cell_type": "code",
   "execution_count": null,
   "id": "4b5f60ab-9eeb-4cb4-821c-27362249c479",
   "metadata": {},
   "outputs": [],
   "source": []
  },
  {
   "cell_type": "code",
   "execution_count": null,
   "id": "f6454f57-4bac-4304-ba20-2d3a4b52c6d4",
   "metadata": {},
   "outputs": [],
   "source": [
    "\"\"\"\n",
    "def NounChunkExtractor(sentence):\n",
    "    \n",
    "    \"\"\"\n",
    "    Extracts the noun chunks of a sentence.\n",
    "    \"\"\"\n",
    "    \n",
    "    # Init matcher\n",
    "    matcher = Matcher(nlp.vocab)\n",
    "    # Init empty list\n",
    "    AcompList = []\n",
    "    # Relation patterns\n",
    "    AcompPattern = [\n",
    "                [{\"DEP\": \"ROOT\"}, {\"DEP\": \"advmod\", \"OP\": \"?\"}, {\"DEP\": \"acomp\"}, {\"DEP\": \"prep\", \"OP\": \"?\"}, {\"DEP\": \"cc\", \"OP\": \"?\"}, {\"DEP\": \"conj\", \"OP\": \"?\"}],\n",
    "                [{\"POS\": \"VERB\"}, {\"DEP\": \"acomp\"}, {\"DEP\": \"prep\", \"OP\": \"?\"}]\n",
    "    ]\n",
    "    # Add the matcher\n",
    "    matcher.add(\"Description\", AcompPattern)\n",
    "    \n",
    "    # Nlp the sentence\n",
    "    sentence = nlp(sentence)    \n",
    "    # Extract chunks\n",
    "    chunks = [chunks.text for chunks in sentence.noun_chunks]  \n",
    "    # Extract relations\n",
    "    #relation = [roots.root.head for roots in sentence.noun_chunks]\n",
    "    relations = [verbs.text for verbs in sentence if verbs.pos_ == 'VERB' or verbs.pos_ == 'AUX']\n",
    "    # Drop doubles\n",
    "    relations = list(dict.fromkeys(relations))\n",
    "    # Replace the relation if a match if found\n",
    "    matches = matcher(sentence)\n",
    "    if matches:\n",
    "        for _, start, end in matches:\n",
    "            #print(start, end)\n",
    "            # The matched span \n",
    "            extracted = sentence[start:end]\n",
    "            print(extracted)\n",
    "            AcompList.append(extracted)\n",
    "        # Remove doubles\n",
    "        AcompList = filter_spans(AcompList)\n",
    "        #print(AcompList)\n",
    "        #print(relations)\n",
    "        # Replace NEEDS TO BE ADJUSTED\n",
    "        for count, relation in enumerate(relations):\n",
    "            for acomps in AcompList:\n",
    "                if relation in acomps.text:\n",
    "                    relations[count] = acomps.text\n",
    "    print(relations)\n",
    "    \n",
    "    if len(chunks) == 1:        \n",
    "        RDF_1 = (chunks[0], relations[0][0], relations[0][1])\n",
    "        RDF_2 = (None, None, None)\n",
    "    \n",
    "    if len(chunks) == 2:\n",
    "        RDF_1 = (chunks[0], relations[0], chunks[1])\n",
    "        RDF_2 = (None, None, None)\n",
    "    \n",
    "    if len(chunks) == 4:\n",
    "        RDF_1 = (chunks[0], relations[0], chunks[1])\n",
    "        RDF_2 = (chunks[2], relations[1], chunks[3])\n",
    "\n",
    "    return RDF_1, RDF_2"
   ]
  }
 ],
 "metadata": {
  "kernelspec": {
   "display_name": "Python [conda env:DL]",
   "language": "python",
   "name": "conda-env-DL-py"
  },
  "language_info": {
   "codemirror_mode": {
    "name": "ipython",
    "version": 3
   },
   "file_extension": ".py",
   "mimetype": "text/x-python",
   "name": "python",
   "nbconvert_exporter": "python",
   "pygments_lexer": "ipython3",
   "version": "3.8.10"
  }
 },
 "nbformat": 4,
 "nbformat_minor": 5
}
