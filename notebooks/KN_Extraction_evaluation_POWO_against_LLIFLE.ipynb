{
 "cells": [
  {
   "cell_type": "code",
   "execution_count": 11,
   "id": "ec230a9a-65f2-4aa7-b55b-ab44db80249c",
   "metadata": {},
   "outputs": [],
   "source": [
    "import numpy as np\n",
    "import pandas as pd\n",
    "from os import path\n",
    "from PIL import Image\n",
    "import matplotlib.pyplot as plt\n",
    "import numpy as np\n",
    "import pandas as pd\n",
    "import glob\n",
    "from bs4 import BeautifulSoup\n",
    "import requests\n",
    "import random\n",
    "import pickle\n",
    "import re\n",
    "import spacy\n",
    "nlp = spacy.load('en_core_web_trf')\n",
    "from spacy import displacy\n",
    "import collections\n",
    "from collections import Counter\n",
    "from tqdm.notebook import tqdm as tqdm_notebook\n",
    "from matplotlib.backends.backend_agg import FigureCanvasAgg as FigureCanvas\n",
    "from transformers import DistilBertTokenizer, DistilBertModel, logging\n",
    "from matplotlib.figure import Figure\n",
    "from matplotlib import cm\n",
    "import matplotlib.colors as colors\n",
    "from torch import cuda\n",
    "device = 'cuda' if cuda.is_available() else 'cpu'\n",
    "\n",
    "logging.set_verbosity_error()"
   ]
  },
  {
   "cell_type": "code",
   "execution_count": 2,
   "id": "9e53dad6-2731-44de-bc43-17fee9b0f0dc",
   "metadata": {},
   "outputs": [],
   "source": [
    "import sys\n",
    "sys.path.insert(0, '../src/models/')\n",
    "sys.path.insert(0, '../src/features/')\n",
    "\n",
    "import predict_model\n",
    "from build_features import text_cleaner\n",
    "%matplotlib inline"
   ]
  },
  {
   "cell_type": "code",
   "execution_count": 3,
   "id": "05c58a50-f003-467a-9cd1-1fd17fe032e4",
   "metadata": {},
   "outputs": [],
   "source": [
    "# URL\n",
    "URL = 'https://en.wikipedia.org/wiki/Glossary_of_plant_morphology'\n",
    "# Get the page\n",
    "page = requests.get(URL, timeout=5)\n",
    "soup = BeautifulSoup(page.content, \"lxml\", from_encoding=\"iso-8859-1\")   \n",
    "\n",
    "glossary = collections.defaultdict(list)\n",
    "# Find all H4 \n",
    "for chapter in soup.find_all('h4')[0:]:\n",
    "    # Clean\n",
    "    chapter_text = chapter.text.rstrip('[edit]')\n",
    "    # Find all siblings\n",
    "    for sibling in chapter.find_next_siblings():\n",
    "        # Find the parent\n",
    "        for parent in sibling.find_previous_sibling('h4'):\n",
    "            # Only append if correspond to current chapter\n",
    "            if parent.text == chapter_text:\n",
    "                if 'â' in sibling.text:\n",
    "                    for tag in sibling.find_all('li'):\n",
    "                        candidates = tag.text.split('â')[0]\n",
    "                        candidates = candidates.split('/')\n",
    "                        for candidate in candidates:\n",
    "                            glossary[chapter_text.lower()].append(candidate.strip().lower())  \n",
    "                            "
   ]
  },
  {
   "cell_type": "code",
   "execution_count": 4,
   "id": "9bc84d6f-9be4-4411-929d-3e06c3c87eb9",
   "metadata": {},
   "outputs": [],
   "source": [
    "glossary['leaves'] += [\n",
    "    'glume', 'surface', 'margin',\n",
    "    'leaves', 'auricles', 'spatheole',\n",
    "    'ovate', 'lanceolate',\n",
    "]\n",
    "\n",
    "glossary['basic flower parts'] += [\n",
    "    'floret', 'awn',\n",
    "    'pod', 'lobe',\n",
    "    \n",
    "]\n",
    "glossary['inflorescences'] += [\n",
    "    'spikelets', 'lemma', 'racemes',\n",
    "    'axis',\n",
    "]\n",
    "glossary['leaves'] += [\n",
    "    'rhachilla',\n",
    "    'needles',\n",
    "]\n",
    "\n",
    "glossary['other parts'] += [\n",
    "    'apex', 'culm', 'tube',\n",
    "    'palea', 'crown', 'canopy',\n",
    "    'base', 'callus', 'hair',\n",
    "    'anther', 'tuberculate'\n",
    "\n",
    "]\n",
    "\n",
    "glossary['plant property'] += [\n",
    "    'tree', 'shrub',\n",
    "    'life-span', 'life', 'span',\n",
    "    'bloom-time',\n",
    "]"
   ]
  },
  {
   "cell_type": "code",
   "execution_count": 5,
   "id": "0c7bcb3a-5e8e-446f-bef8-aeed9aea9372",
   "metadata": {},
   "outputs": [],
   "source": [
    "with open('../data/glossaries/plants.pkl', 'wb') as f:\n",
    "    pickle.dump(glossary, f)      "
   ]
  },
  {
   "cell_type": "code",
   "execution_count": 6,
   "id": "c67e5ca0-cfee-4c27-8f56-086fe8168981",
   "metadata": {},
   "outputs": [],
   "source": [
    "compounds = [\n",
    "    'fertile', 'sterile',\n",
    "    'male', 'female', 'bisexual',\n",
    "    'basal', 'developed', \n",
    "    'primary', 'secondary', 'main',\n",
    "    'upper', 'lower', 'greater', 'dorsal', 'alternate', 'lesser', 'apex', 'outer',\n",
    "    'central', 'outermost', 'outer', 'inner', 'uppermost', 'median', 'dorsal', 'central', 'lateral',\n",
    "    'young', 'mature',\n",
    "]\n",
    "\n",
    "rubbish = [\n",
    "    '.', ',', '-',\n",
    "]\n",
    "\n",
    "\n",
    "#with open('../../data/glossaries/plants_compounds.pkl', 'wb') as f:\n",
    "#    pickle.dump(compounds, f)     "
   ]
  },
  {
   "cell_type": "code",
   "execution_count": 7,
   "id": "817000e0-29aa-4d49-ba9e-2eaa553d47e0",
   "metadata": {},
   "outputs": [],
   "source": [
    "def compound_reconstructor(token, doc):\n",
    "    if token.i == 0:\n",
    "        trait = token\n",
    "    elif doc[token.i - 1].pos_ == 'DET':\n",
    "        trait = token\n",
    "    elif doc[token.i - 3].dep_ == 'compound':\n",
    "        trait = doc[token.i - 3: token.i + 1]\n",
    "    elif doc[token.i - 3].text.lower() in compounds or doc[token.i - 3].lemma_.lower() in compounds:\n",
    "        trait = doc[token.i - 3: token.i + 1]\n",
    "    elif doc[token.i - 2].dep_ == 'compound':\n",
    "        trait = doc[token.i - 2: token.i + 1]\n",
    "    elif doc[token.i - 2].text.lower() in compounds or doc[token.i - 3].lemma_.lower() in compounds:\n",
    "        trait = doc[token.i - 2: token.i + 1]\n",
    "    elif doc[token.i - 1].dep_ == 'compound':\n",
    "        trait = doc[token.i - 1: token.i + 1]\n",
    "    elif doc[token.i - 1].text.lower() in compounds or doc[token.i - 3].lemma_.lower() in compounds:\n",
    "        trait = doc[token.i - 1: token.i + 1]\n",
    "    else:\n",
    "        trait = token\n",
    "    if ','  in trait.lemma_:\n",
    "        return None\n",
    "    return trait.lemma_\n",
    "\n",
    "def check_existance(t, doc):\n",
    "    \n",
    "    # Check prep\n",
    "    single = next((key for key, value in glossary.items() if t.lemma_.lower() in value), None)\n",
    "    multi = next((key for key, value in glossary.items() if t.text.lower() in value), None)\n",
    "    if single:\n",
    "        return single\n",
    "    elif multi:\n",
    "        return multi\n",
    "    else:\n",
    "        return None\n",
    "\n",
    "\n",
    "def verbal_helper(t, doc, attribute):\n",
    "    \"\"\"HELPER\"\"\"\n",
    "    for child in t.children:\n",
    "        if child.dep_ == attribute:\n",
    "            obj = doc[child.left_edge.i : child.right_edge.i + 1]\n",
    "            return obj \n",
    "        \n",
    "def clean_verbs(relations, objects):\n",
    "    rel = []\n",
    "    obj = []\n",
    "    for relation, object_ in zip(relations, objects):       \n",
    "        for obj_split in re.split(',|and', object_):\n",
    "            rel.append(relation.lower().strip())\n",
    "            obj.append(obj_split.lower().strip())            \n",
    "            \n",
    "    return rel, obj\n",
    "\n",
    "\n",
    "def clean_nouns(objects_dirty):\n",
    "    \n",
    "    \n",
    "    objects = []\n",
    "    for object_dirty in objects_dirty:\n",
    "        split_objects = re.split(',|and', object_dirty)\n",
    "        if len(split_objects) == 1:\n",
    "            objects.append(split_objects[0].strip())\n",
    "        elif len(split_objects) == 2:\n",
    "            objects.append(split_objects[0].strip())\n",
    "            objects.append(split_objects[1].strip())\n",
    "        else:\n",
    "            objects.append(split_objects[0].strip())\n",
    "            objects.append(split_objects[1].strip())\n",
    "    return objects\n",
    "        \n",
    "def extract_verbal_information(t, doc):\n",
    "    \n",
    "    attributes = [\"attr\", \"prep\", \"pobj\", \n",
    "                  \"oprd\", \"agnt\", \"nmod\", \n",
    "                  \"advm\", \"acomp\", \"pcomp\",\n",
    "                  \"acl\"]\n",
    "    \n",
    "    allowed_items = ['ROOT', 'nsubj', 'nsubjpass', \n",
    "                     'csubj', 'csubjpass']\n",
    "    \n",
    "    relations = []\n",
    "    objects   = []\n",
    "        \n",
    "    if t.dep_ in allowed_items:\n",
    "        parent = next((parent for parent in t.ancestors), None)\n",
    "        if parent and parent.pos_ == 'VERB' or parent and parent.pos_ == 'AUX':\n",
    "            for attribute in attributes:\n",
    "                item = verbal_helper(parent, doc, attribute)\n",
    "                if item:\n",
    "                    relations.append(parent.text), \n",
    "                    objects.append(item.text)\n",
    "        else:\n",
    "            for child in t.children:\n",
    "                if child.pos_ == 'VERB' and child.dep_ != 'amod':\n",
    "                    for attribute in attributes:\n",
    "                        item = verbal_helper(child, doc, attribute)\n",
    "                        if item:\n",
    "                            relations.append(child.text), \n",
    "                            objects.append(item.text)\n",
    "    \n",
    "    return clean_verbs(relations, objects)\n",
    "\n",
    "def noun_helper(t, doc, attribute):\n",
    "    \"\"\"HELPER\"\"\"\n",
    "    if t.dep_ == attribute:\n",
    "        obj = doc[t.left_edge.i : t.right_edge.i + 1]\n",
    "        return obj     \n",
    "    \n",
    "def conjunction_helper(t, doc):\n",
    "    for child in t.children:\n",
    "        if child.dep_ == 'conj':\n",
    "            return child\n",
    "    \n",
    "def extract_noun_information(t, doc):\n",
    "    \n",
    "    attributes = [\"amod\", \"appos\", \"prep\"]    \n",
    "    objectives = []\n",
    "   \n",
    "    for child in t.children:\n",
    "        if child.dep_ == 'compound' or child.lemma_.lower() in compounds or child.text.lower() in compounds:\n",
    "            continue\n",
    "        for attribute in attributes:\n",
    "            item = noun_helper(child, doc, attribute)\n",
    "            if item:\n",
    "                objectives.append(item.lemma_)\n",
    "              \n",
    "    #return objectives\n",
    "    return clean_nouns(objectives)"
   ]
  },
  {
   "cell_type": "markdown",
   "id": "b13b5246-e92d-41e5-8d3a-a7e91dba80bd",
   "metadata": {},
   "source": [
    "# Load the Data"
   ]
  },
  {
   "cell_type": "code",
   "execution_count": 8,
   "id": "b94819bb-bd8e-4ba3-aedf-1b1fd930156e",
   "metadata": {},
   "outputs": [],
   "source": [
    "AGRO_dirty = pickle.load(open('../data/description/descriptions_agroforestry_PLANTS.pkl', 'rb'))\n",
    "AGRO = collections.defaultdict(list)\n",
    "for species in AGRO_dirty.keys():\n",
    "    for (sentence, URL) in AGRO_dirty[species]:\n",
    "        AGRO[species.lower()].append(sentence)\n",
    "        \n",
    "POWO_dirty = pickle.load(open('../data/description/descriptions_powo_PLANTS.pkl', 'rb'))\n",
    "POWO = collections.defaultdict(list)\n",
    "for species in POWO_dirty.keys():\n",
    "    for (sentence, URL) in POWO_dirty[species]:\n",
    "        POWO[species.lower()].append(sentence)\n",
    "        \n",
    "LIFE_dirty = pickle.load(open('../data/description/descriptions_llifeV2_PLANTS.pkl', 'rb'))\n",
    "LIFE = collections.defaultdict(list)\n",
    "for species in LIFE_dirty.keys():\n",
    "    for (sentence, URL) in LIFE_dirty[species]:\n",
    "        LIFE[species.lower()].append(sentence)"
   ]
  },
  {
   "cell_type": "code",
   "execution_count": 9,
   "id": "5e7fc1cf-5500-4e07-8a07-aed7a35df06a",
   "metadata": {},
   "outputs": [],
   "source": [
    "POWO_species = [key for key in list(POWO.keys())]\n",
    "AGRO_species = [key for key in list(AGRO.keys())]\n",
    "LIFE_species = [key for key in list(LIFE.keys())]\n",
    "\n",
    "# Test set\n",
    "TEST_species = LIFE_species + AGRO_species\n",
    "# Common_species\n",
    "COMMON_species = list(set(POWO_species) & set(TEST_species))\n",
    "\n",
    "TEST = collections.defaultdict(list)\n",
    "for species in COMMON_species:\n",
    "    TEST[species] += AGRO[species]\n",
    "    TEST[species] += LIFE[species]"
   ]
  },
  {
   "cell_type": "markdown",
   "id": "400a8169-8846-4a9a-bfba-c7a2e270d56c",
   "metadata": {},
   "source": [
    "### TRAIN DATA"
   ]
  },
  {
   "cell_type": "code",
   "execution_count": 18,
   "id": "f7b144b3-e3e2-4752-ac7d-0b676a7f7f2f",
   "metadata": {},
   "outputs": [
    {
     "data": {
      "application/vnd.jupyter.widget-view+json": {
       "model_id": "4d323b5536494df69079d694573e002b",
       "version_major": 2,
       "version_minor": 0
      },
      "text/plain": [
       "  0%|          | 0/554 [00:00<?, ?it/s]"
      ]
     },
     "metadata": {},
     "output_type": "display_data"
    }
   ],
   "source": [
    "descriptions = collections.defaultdict(list)\n",
    "\n",
    "# For plotting purposes\n",
    "baseparts = []\n",
    "traits = []\n",
    "for species in tqdm_notebook(COMMON_species[0:]):\n",
    "    for idx, text in enumerate(POWO[species][0:]):\n",
    "\n",
    "        # Clean the text\n",
    "        text = re.sub(r'(?<!\\d)\\.(?!\\d)', ' ', text)\n",
    "        text = re.sub(r'\\s×\\s', ' times ', text)\n",
    "        text = re.sub(r'\\xa0', ' ', text)\n",
    "        text = f'{text.strip()}.'\n",
    "        # NLP\n",
    "        doc = nlp(text)\n",
    "        # Init\n",
    "        descriptions[species, idx] = []\n",
    "        triples = []\n",
    "        # Loop over tokens\n",
    "        for t in doc:\n",
    "            if t.dep_ == 'compound':\n",
    "                continue\n",
    "            ### SUBJECTS ###    \n",
    "            if t.pos_ == 'NOUN' or t.pos_ == 'PROPN':\n",
    "                # Check existance of parts\n",
    "                part = check_existance(t, doc)\n",
    "                if part:\n",
    "                    # Reconstruct Compounds & Append\n",
    "                    trait = compound_reconstructor(t, doc)\n",
    "                    triples.append(('species', 'has main part', part))\n",
    "                    triples.append((part, f'has sub part', trait))\n",
    "                    \n",
    "                    ## Plotting\n",
    "                    baseparts.append(part)\n",
    "                    traits.append(trait)\n",
    "                    \n",
    "                    # VERBS\n",
    "                    relations, objects = extract_verbal_information(t, doc)\n",
    "                    for rel, obj in zip(relations, objects):\n",
    "                        if obj not in rubbish:\n",
    "                            triples.append((trait, rel, obj))\n",
    "                    # ADJECTIVES\n",
    "                    objects = extract_noun_information(t, doc)\n",
    "                    for obj in objects:\n",
    "                        if obj not in rubbish:\n",
    "                            triples.append((trait, 'property', obj))             \n",
    "                        \n",
    "        # APPEND\n",
    "        descriptions[species, idx] = [triple for triple in triples if all(triple)]     \n",
    "        \n",
    "descriptions_text = collections.defaultdict(list)\n",
    "descriptions_RDFs = collections.defaultdict(list)\n",
    "\n",
    "for (species, idx) in descriptions.keys():\n",
    "    #print(species)\n",
    "    for (sub, rel, obj) in descriptions[(species, idx)]:\n",
    "        text = f'{sub} {rel} {obj}.'.capitalize()\n",
    "        # Make sure order is the same\n",
    "        descriptions_text[species].append(text)\n",
    "        descriptions_RDFs[species].append((sub, rel, obj))\n",
    "        \n",
    "        \n",
    "with open('../data/processed/KN_eval_TRAINSET_text.pkl', 'wb') as f:\n",
    "    pickle.dump(descriptions_text, f)      \n",
    "    \n",
    "with open('../data/processed/KN_eval_TRAINSET_triples.pkl', 'wb') as f:\n",
    "    pickle.dump(descriptions_RDFs, f)   "
   ]
  },
  {
   "cell_type": "markdown",
   "id": "b63be8be-05c6-4125-9777-12ea4ffc96cc",
   "metadata": {},
   "source": [
    "### TEST DATA"
   ]
  },
  {
   "cell_type": "code",
   "execution_count": 19,
   "id": "816e292a-58af-421d-97d3-095572794398",
   "metadata": {},
   "outputs": [
    {
     "data": {
      "application/vnd.jupyter.widget-view+json": {
       "model_id": "cd6613e8d15a45108a3df57dd8c8ba04",
       "version_major": 2,
       "version_minor": 0
      },
      "text/plain": [
       "  0%|          | 0/554 [00:00<?, ?it/s]"
      ]
     },
     "metadata": {},
     "output_type": "display_data"
    }
   ],
   "source": [
    "descriptions = collections.defaultdict(list)\n",
    "\n",
    "# For plotting purposes\n",
    "baseparts = []\n",
    "traits = []\n",
    "for species in tqdm_notebook(descriptions_RDFs.keys()):\n",
    "    for idx, text in enumerate(TEST[species][0:]):\n",
    "\n",
    "        # Clean the text\n",
    "        text = re.sub(r'(?<!\\d)\\.(?!\\d)', ' ', text)\n",
    "        text = re.sub(r'\\s×\\s', ' times ', text)\n",
    "        text = re.sub(r'\\xa0', ' ', text)\n",
    "        text = f'{text.strip()}.'\n",
    "        # NLP\n",
    "        doc = nlp(text)\n",
    "        # Init\n",
    "        descriptions[species, idx] = []\n",
    "        triples = []\n",
    "        # Loop over tokens\n",
    "        for t in doc:\n",
    "            if t.dep_ == 'compound':\n",
    "                continue\n",
    "            ### SUBJECTS ###    \n",
    "            if t.pos_ == 'NOUN' or t.pos_ == 'PROPN':\n",
    "                # Check existance of parts\n",
    "                part = check_existance(t, doc)\n",
    "                if part:\n",
    "                    # Reconstruct Compounds & Append\n",
    "                    trait = compound_reconstructor(t, doc)\n",
    "                    triples.append(('species', 'has main part', part))\n",
    "                    triples.append((part, f'has sub part', trait))\n",
    "                    \n",
    "                    ## Plotting\n",
    "                    baseparts.append(part)\n",
    "                    traits.append(trait)\n",
    "                    \n",
    "                    # VERBS\n",
    "                    relations, objects = extract_verbal_information(t, doc)\n",
    "                    for rel, obj in zip(relations, objects):\n",
    "                        if obj not in rubbish:\n",
    "                            triples.append((trait, rel, obj))\n",
    "                    # ADJECTIVES\n",
    "                    objects = extract_noun_information(t, doc)\n",
    "                    for obj in objects:\n",
    "                        if obj not in rubbish:\n",
    "                            triples.append((trait, 'property', obj))             \n",
    "                        \n",
    "        # APPEND\n",
    "        descriptions[species, idx] = [triple for triple in triples if all(triple)]     \n",
    "        \n",
    "descriptions_text = collections.defaultdict(list)\n",
    "descriptions_RDFs = collections.defaultdict(list)\n",
    "\n",
    "for (species, idx) in descriptions.keys():\n",
    "    #print(species)\n",
    "    for (sub, rel, obj) in descriptions[(species, idx)]:\n",
    "        text = f'{sub} {rel} {obj}.'.capitalize()\n",
    "        # Make sure order is the same\n",
    "        descriptions_text[species].append(text)\n",
    "        descriptions_RDFs[species].append((sub, rel, obj))\n",
    "        \n",
    "        \n",
    "with open('../data/processed/KN_eval_TESTSET_text.pkl', 'wb') as f:\n",
    "    pickle.dump(descriptions_text, f)      \n",
    "    \n",
    "with open('../data/processed/KN_eval_TESTSET_triples.pkl', 'wb') as f:\n",
    "    pickle.dump(descriptions_RDFs, f)   "
   ]
  },
  {
   "cell_type": "markdown",
   "id": "f77a197a-d22f-476b-9952-3115950d92aa",
   "metadata": {},
   "source": [
    "# Evaluation"
   ]
  },
  {
   "cell_type": "code",
   "execution_count": 88,
   "id": "8e8d7dc0-63e4-47f5-af51-67af0c95e45a",
   "metadata": {},
   "outputs": [],
   "source": [
    "from sklearn.preprocessing import LabelBinarizer\n",
    "from predict_model import load_CUB_Bert as load_model\n",
    "import torch\n",
    "import torch.nn as nn"
   ]
  },
  {
   "cell_type": "code",
   "execution_count": 89,
   "id": "1838a599-6a0c-436e-b5a6-62de08514687",
   "metadata": {},
   "outputs": [
    {
     "name": "stdout",
     "output_type": "stream",
     "text": [
      "Local Success\n"
     ]
    }
   ],
   "source": [
    "model = load_model(\"../models/\", 'saved_weights_PlantSpecies_KN_eval_553.pt', outputsize=553)\n",
    "\n",
    "tokenizer = DistilBertTokenizer.from_pretrained('distilbert-base-uncased')\n",
    "device = torch.device(\"cuda:0\" if torch.cuda.is_available() else \"cpu\")"
   ]
  },
  {
   "cell_type": "markdown",
   "id": "f6321f9b-e0b5-4560-9f74-0a9b85a8875c",
   "metadata": {},
   "source": [
    "Load the data and get the model keys (are still arrays)"
   ]
  },
  {
   "cell_type": "code",
   "execution_count": 90,
   "id": "95360c17-2603-4ec1-872d-9709e7eb0a53",
   "metadata": {},
   "outputs": [],
   "source": [
    "TRAIN = pickle.load(open('../data/processed/KN_eval_TRAINSET_text.pkl', 'rb'))\n",
    "TEST = pickle.load(open('../data/processed/KN_eval_TESTSET_text.pkl', 'rb'))"
   ]
  },
  {
   "cell_type": "code",
   "execution_count": 91,
   "id": "db77503e-fd31-48d0-ade1-6ea2953e0194",
   "metadata": {},
   "outputs": [],
   "source": [
    "lb = LabelBinarizer()\n",
    "keys = np.array([key for key in TRAIN.keys()])\n",
    "keys_encoded = lb.fit_transform(keys)"
   ]
  },
  {
   "cell_type": "code",
   "execution_count": 92,
   "id": "a3c8fff9-50d4-423a-a4b6-24772eb7c740",
   "metadata": {},
   "outputs": [],
   "source": [
    "# Function for prediction\n",
    "def WhichPlant(span, model):\n",
    "    with torch.no_grad():\n",
    "        # Tokenize input\n",
    "        inputs = tokenizer(span, return_tensors=\"pt\", truncation=True)\n",
    "        # Predict class\n",
    "        outputs = model(**inputs)\n",
    "    return np.squeeze(outputs.detach().numpy())"
   ]
  },
  {
   "cell_type": "code",
   "execution_count": 93,
   "id": "b23015d7-8481-4589-abbb-3acbc65f66c3",
   "metadata": {},
   "outputs": [],
   "source": [
    "# Get the species\n",
    "plants = list(TEST.keys())"
   ]
  },
  {
   "cell_type": "code",
   "execution_count": 94,
   "id": "64dbec2d-d515-4fb7-ac2b-776fdaf3b1e2",
   "metadata": {},
   "outputs": [
    {
     "data": {
      "application/vnd.jupyter.widget-view+json": {
       "model_id": "136a53691669437eb4aa04d3e4857169",
       "version_major": 2,
       "version_minor": 0
      },
      "text/plain": [
       "  0%|          | 0/225 [00:00<?, ?it/s]"
      ]
     },
     "metadata": {},
     "output_type": "display_data"
    }
   ],
   "source": [
    "correct = []\n",
    "incorrect = []\n",
    "\n",
    "for plant in tqdm_notebook(plants[0:]):\n",
    "    h, w = (len(TEST[plant]), 553)    \n",
    "    logstack = np.zeros((h, w), float)\n",
    "    probstack = np.zeros((h, w), float)\n",
    "    # Plant index\n",
    "    if plant not in TRAIN.keys():\n",
    "        continue\n",
    "    plantID = np.where(lb.classes_ == plant)[0][0]\n",
    "    for idx, text in enumerate((TEST[plant][0:])):\n",
    "        probs = WhichPlant(text, model=model)\n",
    "        if idx == 0:\n",
    "            logstack[idx] = probs\n",
    "        else:\n",
    "            logstack[idx] = logstack[idx-1] + probs\n",
    "    correct.append(logstack[-1][plantID])\n",
    "    incorrect.append(np.delete(logstack[-1], plantID).mean())\n",
    "    \n",
    "correct = np.array(correct)\n",
    "incorrect = np.array(incorrect)"
   ]
  },
  {
   "cell_type": "code",
   "execution_count": 64,
   "id": "25579228-2b6a-4e46-a29a-ae4e5a3dd8c8",
   "metadata": {},
   "outputs": [
    {
     "data": {
      "text/plain": [
       "True"
      ]
     },
     "execution_count": 64,
     "metadata": {},
     "output_type": "execute_result"
    }
   ],
   "source": [
    "plant in COMMON_species"
   ]
  },
  {
   "cell_type": "markdown",
   "id": "c07eb48c-7f23-4e12-a77b-74f2d6b01f78",
   "metadata": {},
   "source": [
    "# Statistics"
   ]
  },
  {
   "cell_type": "code",
   "execution_count": 104,
   "id": "95b08385-9c64-48b9-8544-26510bb45e44",
   "metadata": {},
   "outputs": [],
   "source": [
    "from scipy.special import softmax\n",
    "from scipy import stats\n",
    "import seaborn as sns"
   ]
  },
  {
   "cell_type": "code",
   "execution_count": 120,
   "id": "24cf264d-406b-4eaa-8c46-92c9f2c33627",
   "metadata": {},
   "outputs": [
    {
     "name": "stdout",
     "output_type": "stream",
     "text": [
      "-625.4463096261024\n",
      "-895.8897697759343\n",
      "\n",
      "\n",
      "-921.3569289754428\n",
      "-990.0546084702802\n",
      "\n",
      "\n",
      "(224,)\n",
      "(224,)\n"
     ]
    }
   ],
   "source": [
    "print(np.median(correct))\n",
    "print(correct.mean())\n",
    "print('\\n')\n",
    "print(np.median(incorrect))\n",
    "print(incorrect.mean())\n",
    "print('\\n')\n",
    "print(correct.shape)\n",
    "print(incorrect.shape)"
   ]
  },
  {
   "cell_type": "code",
   "execution_count": 105,
   "id": "f4f7dd44-f2eb-4095-99fe-e48a8e6ae780",
   "metadata": {},
   "outputs": [
    {
     "data": {
      "text/plain": [
       "WilcoxonResult(statistic=18403.0, pvalue=1.1425307556202456e-09)"
      ]
     },
     "execution_count": 105,
     "metadata": {},
     "output_type": "execute_result"
    }
   ],
   "source": [
    "stats.wilcoxon(correct, incorrect, alternative='greater')"
   ]
  },
  {
   "cell_type": "code",
   "execution_count": 114,
   "id": "25fa0100-be8f-426f-91c1-09838b3d4e85",
   "metadata": {},
   "outputs": [],
   "source": [
    "# Some Plotting\n",
    "d = {'Correct': correct, 'Incorrect': incorrect}\n",
    "df = pd.DataFrame(dict([ (k, pd.Series(v)) for k, v in d.items() ]))\n",
    "df_m = df.melt()"
   ]
  },
  {
   "cell_type": "code",
   "execution_count": 119,
   "id": "97a36580-ace1-4de2-b462-46137029c738",
   "metadata": {},
   "outputs": [
    {
     "data": {
      "text/plain": [
       "<AxesSubplot:xlabel='variable', ylabel='value'>"
      ]
     },
     "execution_count": 119,
     "metadata": {},
     "output_type": "execute_result"
    },
    {
     "data": {
      "image/png": "[encoded data removed]",
      "text/plain": [
       "<Figure size 432x432 with 1 Axes>"
      ]
     },
     "metadata": {
      "needs_background": "light"
     },
     "output_type": "display_data"
    }
   ],
   "source": [
    "fig, ax = plt.subplots(figsize=(6, 6))\n",
    "\n",
    "sns.boxplot(x=\"variable\", y=\"value\", data=df_m,\n",
    "              showfliers=False)"
   ]
  },
  {
   "cell_type": "code",
   "execution_count": null,
   "id": "1419eb72-e871-4216-8798-9478799e6fa6",
   "metadata": {},
   "outputs": [],
   "source": []
  }
 ],
 "metadata": {
  "kernelspec": {
   "display_name": "Python [conda env:DL]",
   "language": "python",
   "name": "conda-env-DL-py"
  },
  "language_info": {
   "codemirror_mode": {
    "name": "ipython",
    "version": 3
   },
   "file_extension": ".py",
   "mimetype": "text/x-python",
   "name": "python",
   "nbconvert_exporter": "python",
   "pygments_lexer": "ipython3",
   "version": "3.8.10"
  }
 },
 "nbformat": 4,
 "nbformat_minor": 5
}
