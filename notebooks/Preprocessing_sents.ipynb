{
 "cells": [
  {
   "cell_type": "code",
   "execution_count": 45,
   "id": "03ac3a34-75fc-4319-8f24-e40c0ccc3744",
   "metadata": {},
   "outputs": [],
   "source": [
    "import numpy as np\n",
    "import pickle\n",
    "from tqdm import tqdm\n",
    "import matplotlib.pyplot as plt\n",
    "import seaborn as sns\n",
    "import re\n",
    "import collections\n",
    "import glob\n",
    "import pandas as pd\n",
    "from itertools import islice\n",
    "\n",
    "import sys\n",
    "import time\n",
    "sys.path.insert(0, '../src/models/')\n",
    "sys.path.insert(0, '../src/features/')\n",
    "\n",
    "from build_features import similarity_matrix, name_cleaner, yield_chunks\n",
    "from transformers import DistilBertTokenizer, DistilBertModel\n",
    "\n",
    "%matplotlib inline"
   ]
  },
  {
   "cell_type": "markdown",
   "id": "45517317-c871-4631-ba0b-feddc0870e71",
   "metadata": {},
   "source": [
    "## Load data"
   ]
  },
  {
   "cell_type": "code",
   "execution_count": null,
   "id": "06012c76-a13e-4439-96c2-7d24ebb5652e",
   "metadata": {},
   "outputs": [],
   "source": [
    "root = \"../data/processed/\"\n",
    "datadict = {}\n",
    "# Load the pickle list\n",
    "data_files = glob.glob(root+ 'descriptions*PLANTS.pkl')\n",
    "for data_file in data_files:\n",
    "    # Open the dict and update\n",
    "    datadict.update(pickle.load(open(data_file, 'rb')))"
   ]
  },
  {
   "cell_type": "code",
   "execution_count": null,
   "id": "e669c6d0-b53b-488f-88e9-959e76b52d2c",
   "metadata": {},
   "outputs": [],
   "source": [
    "subset = pickle.load(open('../data/processed/subset_NLP_model.pkl', 'rb'))"
   ]
  },
  {
   "cell_type": "markdown",
   "id": "9428ed81-25cf-4d0a-9647-42021429915a",
   "metadata": {},
   "source": [
    "#### Drop double Sentences"
   ]
  },
  {
   "cell_type": "code",
   "execution_count": null,
   "id": "30c67df0-44a1-46f6-954b-df87d3b1246b",
   "metadata": {},
   "outputs": [],
   "source": [
    "data_dissimilar = collections.defaultdict(list)\n",
    "\n",
    "# Drop double sentences\n",
    "for key, values in tqdm(datadict.items()):\n",
    "    # Drop URLS\n",
    "    values = [sent for (sent, URL) in values]\n",
    "    # Get similarity matrix\n",
    "    matrix = similarity_matrix(values)\n",
    "    # Extract indices with threshold\n",
    "    indices = np.transpose((matrix>0.99).nonzero())\n",
    "    # Get doubles\n",
    "    if len(indices) > 1:\n",
    "        doubles = [values[idx_y] for (idx_x, idx_y) in indices if idx_x != idx_y]\n",
    "        # drop last half of list\n",
    "        doubles = doubles[len(doubles)//2:]\n",
    "        # sentences non double\n",
    "        sents_nodouble = [sent for sent in values if sent not in doubles]\n",
    "        # Replace data\n",
    "        data_dissimilar[key] = sents_nodouble"
   ]
  },
  {
   "cell_type": "code",
   "execution_count": null,
   "id": "8d0d4e30-d611-49d9-9505-3de6c75529e2",
   "metadata": {},
   "outputs": [],
   "source": [
    "subset"
   ]
  },
  {
   "cell_type": "markdown",
   "id": "5f5de305-13c3-4baa-828f-b16981bb623d",
   "metadata": {},
   "source": [
    "## Visualisation"
   ]
  },
  {
   "cell_type": "code",
   "execution_count": 2,
   "id": "ab2f8c41-ec00-452e-861d-b8bc992c32db",
   "metadata": {},
   "outputs": [],
   "source": [
    "import matplotlib.pyplot as plt\n",
    "import seaborn as sns"
   ]
  },
  {
   "cell_type": "markdown",
   "id": "7db493d5-6391-4e95-9c41-420da135e084",
   "metadata": {},
   "source": [
    "##### Descriptions per Species"
   ]
  },
  {
   "cell_type": "code",
   "execution_count": null,
   "id": "69fccba2-ee68-4168-a4c5-15372283c345",
   "metadata": {},
   "outputs": [],
   "source": [
    "# Change this to the dissimilar in future\n",
    "counts = [len(sents) for key, sents in subset.items()]"
   ]
  },
  {
   "cell_type": "code",
   "execution_count": null,
   "id": "580f8fc4-0e44-45d6-92c2-fc9afd751b4a",
   "metadata": {},
   "outputs": [],
   "source": [
    "fig, ax = plt.subplots(figsize=(10, 6))\n",
    "sns.set_style('whitegrid')\n",
    "ax = sns.histplot(counts)\n",
    "ax.set_title('Histogram')\n",
    "plt.xlim(0, 300)"
   ]
  },
  {
   "cell_type": "markdown",
   "id": "00fe9a8b-ab02-4813-957a-e3a6fa408f8d",
   "metadata": {},
   "source": [
    "##### Sentence Similarity"
   ]
  },
  {
   "cell_type": "code",
   "execution_count": null,
   "id": "00c6f2cc-ef4d-4983-9df4-edd49287424a",
   "metadata": {},
   "outputs": [],
   "source": [
    "sents = [sent for (sent, URL) in datadict['Abies araucana']]\n",
    "#max_key, max_value = max(data.items(), key = lambda x: len(set(x[1])))"
   ]
  },
  {
   "cell_type": "code",
   "execution_count": null,
   "id": "75b51826-c243-484f-88b1-fa53c3eec2e4",
   "metadata": {},
   "outputs": [],
   "source": [
    "re.sub(r'(\\s*\\.){1,}', '.', 'This is a test.. .')"
   ]
  },
  {
   "cell_type": "code",
   "execution_count": 121,
   "id": "dec0e013-8049-4373-b0b1-4a6ecff94f28",
   "metadata": {},
   "outputs": [],
   "source": [
    "sents = [\n",
    "    'The European robin has a orange plumage.',\n",
    "    'Black bill, plumage orange.',\n",
    "    'The bear is large and the claws are sharp.',\n",
    "    'Bill black; plumage orange.',\n",
    "    'The bill is black and the plumage is orange.',\n",
    "    'The bear is large, and the claws are sharp.'\n",
    "]"
   ]
  },
  {
   "cell_type": "code",
   "execution_count": 122,
   "id": "5d8f014e-f9fb-4794-9a28-bdbdff89cd8f",
   "metadata": {},
   "outputs": [],
   "source": [
    "matrix = similarity_matrix(sents)\n",
    "\n",
    "mask = np.zeros_like(matrix)\n",
    "mask[np.triu_indices_from(mask)] = True\n",
    "\n",
    "# Delete empty rows and columns\n",
    "matrix = np.delete(matrix, (0), axis=0)\n",
    "mask = np.delete(mask, (0), axis=0)\n",
    "matrix = np.delete(matrix, (-1), axis=1)\n",
    "mask = np.delete(mask, (-1), axis=1)"
   ]
  },
  {
   "cell_type": "code",
   "execution_count": 123,
   "id": "ab02e88a-92b4-46fb-9eca-ff795f2ee083",
   "metadata": {},
   "outputs": [],
   "source": [
    "df = pd.DataFrame(matrix)\n",
    "df.index = sents[1:]\n",
    "df.columns = sents[:-1]"
   ]
  },
  {
   "cell_type": "code",
   "execution_count": 124,
   "id": "f55df92b-9307-4161-b89d-f80f1d109029",
   "metadata": {},
   "outputs": [
    {
     "data": {
      "text/html": [
       "<div>\n",
       "<style scoped>\n",
       "    .dataframe tbody tr th:only-of-type {\n",
       "        vertical-align: middle;\n",
       "    }\n",
       "\n",
       "    .dataframe tbody tr th {\n",
       "        vertical-align: top;\n",
       "    }\n",
       "\n",
       "    .dataframe thead th {\n",
       "        text-align: right;\n",
       "    }\n",
       "</style>\n",
       "<table border=\"1\" class=\"dataframe\">\n",
       "  <thead>\n",
       "    <tr style=\"text-align: right;\">\n",
       "      <th></th>\n",
       "      <th>The European robin has a orange plumage.</th>\n",
       "      <th>Black bill, plumage orange.</th>\n",
       "      <th>The bear is large and the claws are sharp.</th>\n",
       "      <th>Bill black; plumage orange.</th>\n",
       "      <th>The bill is black and the plumage is orange.</th>\n",
       "    </tr>\n",
       "  </thead>\n",
       "  <tbody>\n",
       "    <tr>\n",
       "      <th>Black bill, plumage orange.</th>\n",
       "      <td>0.86648</td>\n",
       "      <td>1.00000</td>\n",
       "      <td>0.76615</td>\n",
       "      <td>0.98391</td>\n",
       "      <td>0.91962</td>\n",
       "    </tr>\n",
       "    <tr>\n",
       "      <th>The bear is large and the claws are sharp.</th>\n",
       "      <td>0.77856</td>\n",
       "      <td>0.76615</td>\n",
       "      <td>1.00000</td>\n",
       "      <td>0.74342</td>\n",
       "      <td>0.78927</td>\n",
       "    </tr>\n",
       "    <tr>\n",
       "      <th>Bill black; plumage orange.</th>\n",
       "      <td>0.85398</td>\n",
       "      <td>0.98391</td>\n",
       "      <td>0.74342</td>\n",
       "      <td>1.00000</td>\n",
       "      <td>0.91968</td>\n",
       "    </tr>\n",
       "    <tr>\n",
       "      <th>The bill is black and the plumage is orange.</th>\n",
       "      <td>0.91091</td>\n",
       "      <td>0.91962</td>\n",
       "      <td>0.78927</td>\n",
       "      <td>0.91968</td>\n",
       "      <td>1.00000</td>\n",
       "    </tr>\n",
       "    <tr>\n",
       "      <th>The bear is large, and the claws are sharp.</th>\n",
       "      <td>0.77482</td>\n",
       "      <td>0.75742</td>\n",
       "      <td>0.99685</td>\n",
       "      <td>0.73376</td>\n",
       "      <td>0.78198</td>\n",
       "    </tr>\n",
       "  </tbody>\n",
       "</table>\n",
       "</div>"
      ],
      "text/plain": [
       "                                              The European robin has a orange plumage.  \\\n",
       "Black bill, plumage orange.                                                    0.86648   \n",
       "The bear is large and the claws are sharp.                                     0.77856   \n",
       "Bill black; plumage orange.                                                    0.85398   \n",
       "The bill is black and the plumage is orange.                                   0.91091   \n",
       "The bear is large, and the claws are sharp.                                    0.77482   \n",
       "\n",
       "                                              Black bill, plumage orange.  \\\n",
       "Black bill, plumage orange.                                       1.00000   \n",
       "The bear is large and the claws are sharp.                        0.76615   \n",
       "Bill black; plumage orange.                                       0.98391   \n",
       "The bill is black and the plumage is orange.                      0.91962   \n",
       "The bear is large, and the claws are sharp.                       0.75742   \n",
       "\n",
       "                                              The bear is large and the claws are sharp.  \\\n",
       "Black bill, plumage orange.                                                      0.76615   \n",
       "The bear is large and the claws are sharp.                                       1.00000   \n",
       "Bill black; plumage orange.                                                      0.74342   \n",
       "The bill is black and the plumage is orange.                                     0.78927   \n",
       "The bear is large, and the claws are sharp.                                      0.99685   \n",
       "\n",
       "                                              Bill black; plumage orange.  \\\n",
       "Black bill, plumage orange.                                       0.98391   \n",
       "The bear is large and the claws are sharp.                        0.74342   \n",
       "Bill black; plumage orange.                                       1.00000   \n",
       "The bill is black and the plumage is orange.                      0.91968   \n",
       "The bear is large, and the claws are sharp.                       0.73376   \n",
       "\n",
       "                                              The bill is black and the plumage is orange.  \n",
       "Black bill, plumage orange.                                                        0.91962  \n",
       "The bear is large and the claws are sharp.                                         0.78927  \n",
       "Bill black; plumage orange.                                                        0.91968  \n",
       "The bill is black and the plumage is orange.                                       1.00000  \n",
       "The bear is large, and the claws are sharp.                                        0.78198  "
      ]
     },
     "execution_count": 124,
     "metadata": {},
     "output_type": "execute_result"
    }
   ],
   "source": [
    "df"
   ]
  },
  {
   "cell_type": "code",
   "execution_count": 128,
   "id": "74a55f52-513d-4338-979b-f930d71137ad",
   "metadata": {},
   "outputs": [
    {
     "data": {
      "image/png": "[encoded data removed]",
      "text/plain": [
       "<Figure size 504x504 with 1 Axes>"
      ]
     },
     "metadata": {},
     "output_type": "display_data"
    }
   ],
   "source": [
    "# Generate a custom diverging colormap\n",
    "cmap = sns.diverging_palette(230, 20, as_cmap=True)\n",
    "\n",
    "with sns.axes_style(\"white\"):\n",
    "    f, ax = plt.subplots(figsize=(7, 7))\n",
    "    ax = sns.heatmap(df, \n",
    "                     mask=mask, \n",
    "                     square=True,\n",
    "                     annot=True,\n",
    "                     cbar=False,\n",
    "                     #cmap='Spectral_r', \n",
    "                     cmap=cmap,\n",
    "                     linewidths=.5,)\n",
    "    \n",
    "ax.set_xticklabels(ax.get_xticklabels(), rotation=30, ha=\"right\", fontsize=9)\n",
    "ax.set_yticklabels(ax.get_yticklabels(), rotation=0, ha=\"right\", fontsize=9)\n",
    "\n",
    "#f.suptitle('Similarity Matrix', fontsize=13)\n",
    "f.savefig('similarity_matrix.svg', format='svg', dpi=1200, bbox_inches='tight')"
   ]
  },
  {
   "cell_type": "code",
   "execution_count": null,
   "id": "ec45bd09-0443-4dda-8afa-8210e28340e8",
   "metadata": {},
   "outputs": [],
   "source": []
  }
 ],
 "metadata": {
  "kernelspec": {
   "display_name": "Python [conda env:DL]",
   "language": "python",
   "name": "conda-env-DL-py"
  },
  "language_info": {
   "codemirror_mode": {
    "name": "ipython",
    "version": 3
   },
   "file_extension": ".py",
   "mimetype": "text/x-python",
   "name": "python",
   "nbconvert_exporter": "python",
   "pygments_lexer": "ipython3",
   "version": "3.8.10"
  }
 },
 "nbformat": 4,
 "nbformat_minor": 5
}
