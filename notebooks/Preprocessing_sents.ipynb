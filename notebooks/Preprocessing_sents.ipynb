{
 "cells": [
  {
   "cell_type": "code",
   "execution_count": 3,
   "id": "03ac3a34-75fc-4319-8f24-e40c0ccc3744",
   "metadata": {},
   "outputs": [
    {
     "name": "stderr",
     "output_type": "stream",
     "text": [
      "Some weights of the model checkpoint at distilbert-base-uncased were not used when initializing DistilBertModel: ['vocab_projector.bias', 'vocab_projector.weight', 'vocab_transform.bias', 'vocab_layer_norm.bias', 'vocab_layer_norm.weight', 'vocab_transform.weight']\n",
      "- This IS expected if you are initializing DistilBertModel from the checkpoint of a model trained on another task or with another architecture (e.g. initializing a BertForSequenceClassification model from a BertForPreTraining model).\n",
      "- This IS NOT expected if you are initializing DistilBertModel from the checkpoint of a model that you expect to be exactly identical (initializing a BertForSequenceClassification model from a BertForSequenceClassification model).\n"
     ]
    }
   ],
   "source": [
    "import numpy as np\n",
    "import pickle\n",
    "from tqdm import tqdm\n",
    "import matplotlib.pyplot as plt\n",
    "import seaborn as sns\n",
    "import re\n",
    "import collections\n",
    "import glob\n",
    "from itertools import islice\n",
    "\n",
    "import sys\n",
    "import time\n",
    "sys.path.insert(0, '../src/models/')\n",
    "sys.path.insert(0, '../src/features/')\n",
    "\n",
    "from build_features import similarity_matrix, name_cleaner, yield_chunks\n",
    "from transformers import DistilBertTokenizer, DistilBertModel\n",
    "\n",
    "%matplotlib inline"
   ]
  },
  {
   "cell_type": "markdown",
   "id": "45517317-c871-4631-ba0b-feddc0870e71",
   "metadata": {},
   "source": [
    "## Load data"
   ]
  },
  {
   "cell_type": "code",
   "execution_count": 4,
   "id": "06012c76-a13e-4439-96c2-7d24ebb5652e",
   "metadata": {},
   "outputs": [],
   "source": [
    "root = \"../data/processed/\"\n",
    "datadict = {}\n",
    "# Load the pickle list\n",
    "data_files = glob.glob(root+ 'descriptions*PLANTS.pkl')\n",
    "for data_file in data_files:\n",
    "    # Open the dict and update\n",
    "    datadict.update(pickle.load(open(data_file, 'rb')))"
   ]
  },
  {
   "cell_type": "markdown",
   "id": "9428ed81-25cf-4d0a-9647-42021429915a",
   "metadata": {},
   "source": [
    "#### Drop double Sentences"
   ]
  },
  {
   "cell_type": "code",
   "execution_count": null,
   "id": "30c67df0-44a1-46f6-954b-df87d3b1246b",
   "metadata": {},
   "outputs": [],
   "source": [
    "data_dissimilar = collections.defaultdict(list)\n",
    "\n",
    "# Drop double sentences\n",
    "for key, values in tqdm(datadict.items()):\n",
    "    # Drop URLS\n",
    "    values = [sent for (sent, URL) in values]\n",
    "    # Get similarity matrix\n",
    "    matrix = similarity_matrix(values)\n",
    "    # Extract indices with threshold\n",
    "    indices = np.transpose((matrix>0.99).nonzero())\n",
    "    # Get doubles\n",
    "    if len(indices) > 1:\n",
    "        doubles = [values[idx_y] for (idx_x, idx_y) in indices if idx_x != idx_y]\n",
    "        # drop last half of list\n",
    "        doubles = doubles[len(doubles)//2:]\n",
    "        # sentences non double\n",
    "        sents_nodouble = [sent for sent in values if sent not in doubles]\n",
    "        # Replace data\n",
    "        data_dissimilar[key] = sents_nodouble"
   ]
  },
  {
   "cell_type": "markdown",
   "id": "6746e18f-6cb9-4a75-8973-b50b68363598",
   "metadata": {},
   "source": [
    "#### Create single chunks"
   ]
  },
  {
   "cell_type": "code",
   "execution_count": null,
   "id": "d982c748-4768-4831-9f83-9cdf86eba9d5",
   "metadata": {},
   "outputs": [],
   "source": [
    "# Init dict\n",
    "data = collections.defaultdict(list)\n",
    "\n",
    "for key, values, in tqdm(datadict.items()):\n",
    "#for key, values, in tqdm(data_dissimilar.items()):\n",
    "    \n",
    "    #### REMOVE THIS IN FUTURE ####\n",
    "    # Drop URLS\n",
    "    values = [sent for (sent, URL) in values]\n",
    "    #### REMOVE THIS IN FUTURE ####\n",
    "    \n",
    "    # Remove species names\n",
    "    sents_noname = [name_cleaner(key, sent, 'the species') for sent in values]\n",
    "    # Cut into chunks\n",
    "    for sent in sents_noname:\n",
    "        #data[key].append(yield_chunks(sent))\n",
    "        chunks = yield_chunks(sent)\n",
    "        for chunk in chunks:\n",
    "            data[key].append(chunk)\n"
   ]
  },
  {
   "cell_type": "code",
   "execution_count": null,
   "id": "6fa157bc-591f-465a-b68d-6d0940d0f3b1",
   "metadata": {},
   "outputs": [],
   "source": [
    "# Dump pickle into file\n",
    "with open('../data/processed/TEST_TaxonomistDescriptions_PLANTS.pkl', 'wb') as f:\n",
    "    pickle.dump(data, f)"
   ]
  },
  {
   "cell_type": "code",
   "execution_count": 3,
   "id": "0fd594fe-90ac-4213-b56e-a9023a635a5e",
   "metadata": {},
   "outputs": [],
   "source": [
    "data = pickle.load(open('../data/processed/TEST_TaxonomistDescriptions_PLANTS.pkl', 'rb'))"
   ]
  },
  {
   "cell_type": "markdown",
   "id": "5f5de305-13c3-4baa-828f-b16981bb623d",
   "metadata": {},
   "source": [
    "## Visualisation"
   ]
  },
  {
   "cell_type": "code",
   "execution_count": null,
   "id": "ab2f8c41-ec00-452e-861d-b8bc992c32db",
   "metadata": {},
   "outputs": [],
   "source": [
    "import matplotlib.pyplot as plt\n",
    "import seaborn as sns"
   ]
  },
  {
   "cell_type": "markdown",
   "id": "7db493d5-6391-4e95-9c41-420da135e084",
   "metadata": {},
   "source": [
    "##### Descriptions per Species"
   ]
  },
  {
   "cell_type": "code",
   "execution_count": null,
   "id": "69fccba2-ee68-4168-a4c5-15372283c345",
   "metadata": {},
   "outputs": [],
   "source": [
    "# Change this to the dissimilar in future\n",
    "counts = [len(sents) for key, sents in data.items()]"
   ]
  },
  {
   "cell_type": "code",
   "execution_count": null,
   "id": "580f8fc4-0e44-45d6-92c2-fc9afd751b4a",
   "metadata": {},
   "outputs": [],
   "source": [
    "fig, ax = plt.subplots(figsize=(10, 6))\n",
    "sns.set_style('whitegrid')\n",
    "ax = sns.histplot(counts)\n",
    "ax.set_title('Histogram')\n",
    "plt.xlim(0, 300)"
   ]
  },
  {
   "cell_type": "markdown",
   "id": "00fe9a8b-ab02-4813-957a-e3a6fa408f8d",
   "metadata": {},
   "source": [
    "##### Sentence Similarity"
   ]
  },
  {
   "cell_type": "code",
   "execution_count": null,
   "id": "00c6f2cc-ef4d-4983-9df4-edd49287424a",
   "metadata": {},
   "outputs": [],
   "source": [
    "sents = data['Abies araucana']\n",
    "#max_key, max_value = max(data.items(), key = lambda x: len(set(x[1])))"
   ]
  },
  {
   "cell_type": "code",
   "execution_count": null,
   "id": "75b51826-c243-484f-88b1-fa53c3eec2e4",
   "metadata": {},
   "outputs": [],
   "source": [
    "sents"
   ]
  },
  {
   "cell_type": "code",
   "execution_count": null,
   "id": "5d8f014e-f9fb-4794-9a28-bdbdff89cd8f",
   "metadata": {},
   "outputs": [],
   "source": [
    "matrix = similarity_matrix(sents)"
   ]
  },
  {
   "cell_type": "code",
   "execution_count": null,
   "id": "6d59d7ba-568c-4fcf-a616-ac02fa930877",
   "metadata": {},
   "outputs": [],
   "source": [
    "mask = np.zeros_like(matrix)\n",
    "mask[np.triu_indices_from(mask)] = True\n",
    "\n",
    "#plt.figure(figsize=(16, 16),)\n",
    "fig, ax = plt.subplots(figsize=(10, 10))\n",
    "ax = sns.heatmap(matrix, \n",
    "                 linewidths=.5, \n",
    "                 square=True, annot=True, \n",
    "                 cmap='Spectral_r', \n",
    "                 mask=mask, \n",
    "                 cbar=False)\n",
    "ax.set_title('Similarity Matrix')\n",
    "#fig.savefig('similarity_matrix.svg', format='svg', dpi=1200)"
   ]
  },
  {
   "cell_type": "code",
   "execution_count": null,
   "id": "74a55f52-513d-4338-979b-f930d71137ad",
   "metadata": {},
   "outputs": [],
   "source": [
    "print(sents[7])\n",
    "print(sents[2])"
   ]
  },
  {
   "cell_type": "code",
   "execution_count": null,
   "id": "6bc7933d-5ae3-40f7-a10a-9ca1eb622fa1",
   "metadata": {},
   "outputs": [],
   "source": []
  },
  {
   "cell_type": "code",
   "execution_count": null,
   "id": "f8113818-1f1d-48e4-bfd3-fc9973b81249",
   "metadata": {},
   "outputs": [],
   "source": []
  },
  {
   "cell_type": "code",
   "execution_count": null,
   "id": "2936f0db-c7c0-45d9-9a00-ff8a774a7a27",
   "metadata": {},
   "outputs": [],
   "source": []
  },
  {
   "cell_type": "code",
   "execution_count": null,
   "id": "fdeae1e8-2c1e-484c-9906-2582ce7f7d7d",
   "metadata": {},
   "outputs": [],
   "source": []
  },
  {
   "cell_type": "code",
   "execution_count": 5,
   "id": "9cc8ab0b-41aa-413e-9d6d-100338dccb62",
   "metadata": {},
   "outputs": [],
   "source": [
    "import spacy\n",
    "import re\n",
    "from spacy import displacy\n",
    "from spacy.matcher import PhraseMatcher\n",
    "from spacy.tokens import Span\n",
    "from spacy.util import filter_spans\n",
    "nlp = spacy.load(\"en_core_web_trf\")\n"
   ]
  },
  {
   "cell_type": "code",
   "execution_count": 6,
   "id": "f675fd51-f87b-4d13-a98b-db49b595497d",
   "metadata": {},
   "outputs": [],
   "source": [
    "sents = [sent for (sent, _) in datadict['Adansonia situla']]"
   ]
  },
  {
   "cell_type": "code",
   "execution_count": 7,
   "id": "5e6595f9-d0fa-4bb6-8393-ab17bae69bae",
   "metadata": {},
   "outputs": [
    {
     "data": {
      "text/plain": [
       "['Hard, dark brown to black, kidney-shaped.',\n",
       " 'Large , heavy white and sweetly scented that hang down on long stalks.',\n",
       " 'The bark is greyish brown and normally smooth but can often be variously folded and seamed from years of growth.',\n",
       " 'Palmately compound and clustered at the ends of short, stocky branches.',\n",
       " 'The main stem of larger baobab trees may reach enormous proportions of up to 28 m in girth usually squat cylindrical trunk gives rise to thick tapering branches resembling a root-system, which is why it has often been referred to as the upside-down tree.',\n",
       " 'The flowers are 10-20 cm across and have waxy crinkled petals about 10 cm long that surround dense clusters of purple stamens that look like powder puffs.',\n",
       " 'The flowers fall within 24 hours, turning brown and smelling quite unpleasant.',\n",
       " \"African baobab. is one of the plant kingdom's strangest tree, it is not particularly tall growing but the trunk is massive: as much as 11 m in diameter and shaped like a bottle.\",\n",
       " 'They are divided into 5-7 finger-like leaflets.',\n",
       " \"The trunk is used to store water during dry periods It's not uncommon for old trees to have several huge trunks branching off near the ground, and a tree 20 tall can have a spread of more than 30 m. The stem is covered with a bark layer, which may be 50-100 mm thick.\",\n",
       " 'The flowers emerge in the late afternoon from large round buds on long drooping stalks.']"
      ]
     },
     "execution_count": 7,
     "metadata": {},
     "output_type": "execute_result"
    }
   ],
   "source": [
    "sents"
   ]
  },
  {
   "cell_type": "code",
   "execution_count": 49,
   "id": "fbe2d6cc-c782-4875-9a49-8435675e3f49",
   "metadata": {},
   "outputs": [],
   "source": [
    "def yield_subjects(sentence):\n",
    "    chunks = []\n",
    "\n",
    "    doc = nlp(sentence)\n",
    "    # Find Normal subject\n",
    "    n_subject = [token for token in doc if token.dep_ == 'nsubj' \n",
    "                                        or token.pos_ == 'PROPN'\n",
    "                                        or token.pos_ == 'NOUN' and token.dep_ == 'ROOT']\n",
    "\n",
    "\n",
    "    #sentence_split = sentence.split(',')\n",
    "    \n",
    "    sentence_split = re.split(',|and ', sentence)\n",
    "\n",
    "    \n",
    "    # If no subject is found\n",
    "    if n_subject == []:\n",
    "        for sent in sentence_split:\n",
    "            sent = nlp(sent)\n",
    "            # Try to find new normal subject\n",
    "            n_subject = [token for token in sent if token.dep_ == 'nsubj' or token.pos_ == 'PROPN']\n",
    "            #print(n_subject)\n",
    "            # If still no normal subject use species\n",
    "            if n_subject == []:\n",
    "\n",
    "                # Find Root\n",
    "                ROOT = [token for token in sent if token.dep_ == 'ROOT']\n",
    "                #print(ROOT[0], ROOT[0].pos_, ROOT[0].dep_)\n",
    "                if ROOT[0].pos_ == 'NOUN':\n",
    "                    # If NOUN 'have'\n",
    "                    chunks.append(f'species have {sent.text}.')\n",
    "                else:\n",
    "                    chunks.append(f'species be {sent.text}.')\n",
    "            else:\n",
    "                chunks.append(f'{sent}.')\n",
    "    elif len(n_subject) == 1:\n",
    "        for sent in sentence_split:\n",
    "            sent = nlp(sent)\n",
    "            if n_subject[0].text in sent.text:\n",
    "                chunks.append(f'{sent}.')\n",
    "            else:\n",
    "                # Find Root\n",
    "                ROOT = [token for token in sent if token.dep_ == 'ROOT']\n",
    "                if ROOT[0].pos_ == 'NOUN':\n",
    "                    # Replace determiners or pronouns\n",
    "                    if n_subject[0].pos_ == 'DET':\n",
    "                        chunks.append(f'subject have {sent}.')\n",
    "                    else:\n",
    "                        chunks.append(f'{n_subject[0]} have {sent}.')\n",
    "                elif ROOT[0].pos_ == 'ADJ':\n",
    "                    # Replace determiners or pronouns\n",
    "                    if n_subject[0].pos_ == 'DET':\n",
    "                        chunks.append(f'subject be {sent}.')\n",
    "                    else:\n",
    "                        chunks.append(f'{n_subject[0]} be {sent}.')\n",
    "                else:\n",
    "                    # Replace determiners or pronouns\n",
    "                    if n_subject[0].pos_ == 'DET':\n",
    "                        chunks.append(f'subject have {sent}.')\n",
    "                    else:\n",
    "                        chunks.append(f'{n_subject[0]} be {sent}.')\n",
    "                    \n",
    "    else:\n",
    "        for sent in sentence_split:\n",
    "        # Return normal stuff\n",
    "            chunks.append(f'{sent}.')\n",
    "        \n",
    "    # Split some rubbish\n",
    "    chunks = [re.sub(' +', ' ', chunk) for chunk in chunks]\n",
    "    chunks = [re.sub('\\.+', '.', chunk).strip().capitalize() for chunk in chunks]\n",
    "\n",
    "    return chunks\n"
   ]
  },
  {
   "cell_type": "code",
   "execution_count": 50,
   "id": "c9acca57-50b5-4d78-8878-5a45dd2d519a",
   "metadata": {},
   "outputs": [
    {
     "name": "stderr",
     "output_type": "stream",
     "text": [
      "\n",
      "  0%|                                                 | 0/11 [00:00<?, ?it/s]\u001b[A\n",
      "  9%|███▋                                     | 1/11 [00:00<00:02,  4.20it/s]\u001b[A\n",
      " 18%|███████▍                                 | 2/11 [00:00<00:02,  3.92it/s]\u001b[A\n",
      " 27%|███████████▏                             | 3/11 [00:00<00:02,  3.60it/s]\u001b[A\n",
      " 36%|██████████████▉                          | 4/11 [00:01<00:01,  3.70it/s]\u001b[A\n",
      " 45%|██████████████████▋                      | 5/11 [00:01<00:01,  4.26it/s]\u001b[A\n",
      " 55%|██████████████████████▎                  | 6/11 [00:01<00:00,  5.03it/s]\u001b[A\n",
      " 64%|██████████████████████████               | 7/11 [00:01<00:00,  4.65it/s]\u001b[A\n",
      " 73%|█████████████████████████████▊           | 8/11 [00:01<00:00,  5.13it/s]\u001b[A\n",
      " 82%|█████████████████████████████████▌       | 9/11 [00:01<00:00,  5.43it/s]\u001b[A\n",
      " 91%|████████████████████████████████████▎   | 10/11 [00:02<00:00,  5.32it/s]\u001b[A\n",
      "100%|████████████████████████████████████████| 11/11 [00:02<00:00,  4.73it/s]\u001b[A\n"
     ]
    }
   ],
   "source": [
    "cleaned = [yield_subjects(sent) for sent in tqdm(sents)]"
   ]
  },
  {
   "cell_type": "code",
   "execution_count": 51,
   "id": "203c1aea-a2d5-445d-9690-704918d734a6",
   "metadata": {},
   "outputs": [
    {
     "data": {
      "text/plain": [
       "[['Species be hard.',\n",
       "  'Species be dark brown to black.',\n",
       "  'Species be kidney-shaped.'],\n",
       " ['Subject be large .',\n",
       "  'Subject have heavy white .',\n",
       "  'Sweetly scented that hang down on long stalks.'],\n",
       " ['The bark is greyish brown .',\n",
       "  'Bark be normally smooth but can often be variously folded .',\n",
       "  'Bark be seamed from years of growth.'],\n",
       " ['Palmately compound .',\n",
       "  'Clustered at the ends of short.',\n",
       "  'Species have stocky branches.'],\n",
       " ['The main stem of larger baobab trees may reach enormous proportions of up to 28 m in girth usually squat cylindrical trunk gives rise to thick tapering branches resembling a root-system.',\n",
       "  'Which is why it has often been referred to as the upside-down tree.'],\n",
       " ['The flowers are 10-20 cm across .',\n",
       "  'Have waxy crinkled petals about 10 cm long that surround dense clusters of purple stamens that look like powder puffs.'],\n",
       " ['The flowers fall within 24 hours.',\n",
       "  'Flowers be turning brown .',\n",
       "  'Flowers be smelling quite unpleasant.'],\n",
       " [\"African baobab. is one of the plant kingdom's strangest tree.\",\n",
       "  'It is not particularly tall growing but the trunk is massive: as much as 11 m in diameter .',\n",
       "  'Shaped like a bottle.'],\n",
       " ['Species be they are divided into 5-7 finger-like leaflets.'],\n",
       " [\"The trunk is used to store water during dry periods it's not uncommon for old trees to have several huge trunks branching off near the ground.\",\n",
       "  '.',\n",
       "  'A tree 20 tall can have a spread of more than 30 m. the stem is covered with a bark layer.',\n",
       "  'Which may be 50-100 mm thick.'],\n",
       " ['The flowers emerge in the late afternoon from large round buds on long drooping stalks.']]"
      ]
     },
     "execution_count": 51,
     "metadata": {},
     "output_type": "execute_result"
    }
   ],
   "source": [
    "cleaned"
   ]
  },
  {
   "cell_type": "code",
   "execution_count": 70,
   "id": "b28d9680-7555-4ae1-9ca5-19ba40498360",
   "metadata": {},
   "outputs": [],
   "source": [
    "test = nlp('Large , heavy white and sweetly scented that hang down on long stalks')"
   ]
  },
  {
   "cell_type": "code",
   "execution_count": 71,
   "id": "6ca4e8d6-0ee4-4614-ac67-e22d4233547f",
   "metadata": {},
   "outputs": [
    {
     "data": {
      "text/html": [
       "<span class=\"tex2jax_ignore\"><svg xmlns=\"http://www.w3.org/2000/svg\" xmlns:xlink=\"http://www.w3.org/1999/xlink\" xml:lang=\"en\" id=\"ebf36d29a8c04dc08b4bc9c882ff8ac8-0\" class=\"displacy\" width=\"2150\" height=\"574.5\" direction=\"ltr\" style=\"max-width: none; height: 574.5px; color: #000000; background: #ffffff; font-family: Arial; direction: ltr\">\n",
       "<text class=\"displacy-token\" fill=\"currentColor\" text-anchor=\"middle\" y=\"484.5\">\n",
       "    <tspan class=\"displacy-word\" fill=\"currentColor\" x=\"50\">Large ,</tspan>\n",
       "    <tspan class=\"displacy-tag\" dy=\"2em\" fill=\"currentColor\" x=\"50\">ADJ</tspan>\n",
       "</text>\n",
       "\n",
       "<text class=\"displacy-token\" fill=\"currentColor\" text-anchor=\"middle\" y=\"484.5\">\n",
       "    <tspan class=\"displacy-word\" fill=\"currentColor\" x=\"225\">heavy</tspan>\n",
       "    <tspan class=\"displacy-tag\" dy=\"2em\" fill=\"currentColor\" x=\"225\">ADJ</tspan>\n",
       "</text>\n",
       "\n",
       "<text class=\"displacy-token\" fill=\"currentColor\" text-anchor=\"middle\" y=\"484.5\">\n",
       "    <tspan class=\"displacy-word\" fill=\"currentColor\" x=\"400\">white</tspan>\n",
       "    <tspan class=\"displacy-tag\" dy=\"2em\" fill=\"currentColor\" x=\"400\">ADJ</tspan>\n",
       "</text>\n",
       "\n",
       "<text class=\"displacy-token\" fill=\"currentColor\" text-anchor=\"middle\" y=\"484.5\">\n",
       "    <tspan class=\"displacy-word\" fill=\"currentColor\" x=\"575\">and</tspan>\n",
       "    <tspan class=\"displacy-tag\" dy=\"2em\" fill=\"currentColor\" x=\"575\">CCONJ</tspan>\n",
       "</text>\n",
       "\n",
       "<text class=\"displacy-token\" fill=\"currentColor\" text-anchor=\"middle\" y=\"484.5\">\n",
       "    <tspan class=\"displacy-word\" fill=\"currentColor\" x=\"750\">sweetly</tspan>\n",
       "    <tspan class=\"displacy-tag\" dy=\"2em\" fill=\"currentColor\" x=\"750\">ADV</tspan>\n",
       "</text>\n",
       "\n",
       "<text class=\"displacy-token\" fill=\"currentColor\" text-anchor=\"middle\" y=\"484.5\">\n",
       "    <tspan class=\"displacy-word\" fill=\"currentColor\" x=\"925\">scented</tspan>\n",
       "    <tspan class=\"displacy-tag\" dy=\"2em\" fill=\"currentColor\" x=\"925\">ADJ</tspan>\n",
       "</text>\n",
       "\n",
       "<text class=\"displacy-token\" fill=\"currentColor\" text-anchor=\"middle\" y=\"484.5\">\n",
       "    <tspan class=\"displacy-word\" fill=\"currentColor\" x=\"1100\">that</tspan>\n",
       "    <tspan class=\"displacy-tag\" dy=\"2em\" fill=\"currentColor\" x=\"1100\">DET</tspan>\n",
       "</text>\n",
       "\n",
       "<text class=\"displacy-token\" fill=\"currentColor\" text-anchor=\"middle\" y=\"484.5\">\n",
       "    <tspan class=\"displacy-word\" fill=\"currentColor\" x=\"1275\">hang</tspan>\n",
       "    <tspan class=\"displacy-tag\" dy=\"2em\" fill=\"currentColor\" x=\"1275\">VERB</tspan>\n",
       "</text>\n",
       "\n",
       "<text class=\"displacy-token\" fill=\"currentColor\" text-anchor=\"middle\" y=\"484.5\">\n",
       "    <tspan class=\"displacy-word\" fill=\"currentColor\" x=\"1450\">down</tspan>\n",
       "    <tspan class=\"displacy-tag\" dy=\"2em\" fill=\"currentColor\" x=\"1450\">ADV</tspan>\n",
       "</text>\n",
       "\n",
       "<text class=\"displacy-token\" fill=\"currentColor\" text-anchor=\"middle\" y=\"484.5\">\n",
       "    <tspan class=\"displacy-word\" fill=\"currentColor\" x=\"1625\">on</tspan>\n",
       "    <tspan class=\"displacy-tag\" dy=\"2em\" fill=\"currentColor\" x=\"1625\">ADP</tspan>\n",
       "</text>\n",
       "\n",
       "<text class=\"displacy-token\" fill=\"currentColor\" text-anchor=\"middle\" y=\"484.5\">\n",
       "    <tspan class=\"displacy-word\" fill=\"currentColor\" x=\"1800\">long</tspan>\n",
       "    <tspan class=\"displacy-tag\" dy=\"2em\" fill=\"currentColor\" x=\"1800\">ADJ</tspan>\n",
       "</text>\n",
       "\n",
       "<text class=\"displacy-token\" fill=\"currentColor\" text-anchor=\"middle\" y=\"484.5\">\n",
       "    <tspan class=\"displacy-word\" fill=\"currentColor\" x=\"1975\">stalks</tspan>\n",
       "    <tspan class=\"displacy-tag\" dy=\"2em\" fill=\"currentColor\" x=\"1975\">NOUN</tspan>\n",
       "</text>\n",
       "\n",
       "<g class=\"displacy-arrow\">\n",
       "    <path class=\"displacy-arc\" id=\"arrow-ebf36d29a8c04dc08b4bc9c882ff8ac8-0-0\" stroke-width=\"2px\" d=\"M70,439.5 C70,264.5 385.0,264.5 385.0,439.5\" fill=\"none\" stroke=\"currentColor\"/>\n",
       "    <text dy=\"1.25em\" style=\"font-size: 0.8em; letter-spacing: 1px\">\n",
       "        <textPath xlink:href=\"#arrow-ebf36d29a8c04dc08b4bc9c882ff8ac8-0-0\" class=\"displacy-label\" startOffset=\"50%\" side=\"left\" fill=\"currentColor\" text-anchor=\"middle\">amod</textPath>\n",
       "    </text>\n",
       "    <path class=\"displacy-arrowhead\" d=\"M70,441.5 L62,429.5 78,429.5\" fill=\"currentColor\"/>\n",
       "</g>\n",
       "\n",
       "<g class=\"displacy-arrow\">\n",
       "    <path class=\"displacy-arc\" id=\"arrow-ebf36d29a8c04dc08b4bc9c882ff8ac8-0-1\" stroke-width=\"2px\" d=\"M245,439.5 C245,352.0 380.0,352.0 380.0,439.5\" fill=\"none\" stroke=\"currentColor\"/>\n",
       "    <text dy=\"1.25em\" style=\"font-size: 0.8em; letter-spacing: 1px\">\n",
       "        <textPath xlink:href=\"#arrow-ebf36d29a8c04dc08b4bc9c882ff8ac8-0-1\" class=\"displacy-label\" startOffset=\"50%\" side=\"left\" fill=\"currentColor\" text-anchor=\"middle\">amod</textPath>\n",
       "    </text>\n",
       "    <path class=\"displacy-arrowhead\" d=\"M245,441.5 L237,429.5 253,429.5\" fill=\"currentColor\"/>\n",
       "</g>\n",
       "\n",
       "<g class=\"displacy-arrow\">\n",
       "    <path class=\"displacy-arc\" id=\"arrow-ebf36d29a8c04dc08b4bc9c882ff8ac8-0-2\" stroke-width=\"2px\" d=\"M420,439.5 C420,352.0 555.0,352.0 555.0,439.5\" fill=\"none\" stroke=\"currentColor\"/>\n",
       "    <text dy=\"1.25em\" style=\"font-size: 0.8em; letter-spacing: 1px\">\n",
       "        <textPath xlink:href=\"#arrow-ebf36d29a8c04dc08b4bc9c882ff8ac8-0-2\" class=\"displacy-label\" startOffset=\"50%\" side=\"left\" fill=\"currentColor\" text-anchor=\"middle\">cc</textPath>\n",
       "    </text>\n",
       "    <path class=\"displacy-arrowhead\" d=\"M555.0,441.5 L563.0,429.5 547.0,429.5\" fill=\"currentColor\"/>\n",
       "</g>\n",
       "\n",
       "<g class=\"displacy-arrow\">\n",
       "    <path class=\"displacy-arc\" id=\"arrow-ebf36d29a8c04dc08b4bc9c882ff8ac8-0-3\" stroke-width=\"2px\" d=\"M770,439.5 C770,352.0 905.0,352.0 905.0,439.5\" fill=\"none\" stroke=\"currentColor\"/>\n",
       "    <text dy=\"1.25em\" style=\"font-size: 0.8em; letter-spacing: 1px\">\n",
       "        <textPath xlink:href=\"#arrow-ebf36d29a8c04dc08b4bc9c882ff8ac8-0-3\" class=\"displacy-label\" startOffset=\"50%\" side=\"left\" fill=\"currentColor\" text-anchor=\"middle\">advmod</textPath>\n",
       "    </text>\n",
       "    <path class=\"displacy-arrowhead\" d=\"M770,441.5 L762,429.5 778,429.5\" fill=\"currentColor\"/>\n",
       "</g>\n",
       "\n",
       "<g class=\"displacy-arrow\">\n",
       "    <path class=\"displacy-arc\" id=\"arrow-ebf36d29a8c04dc08b4bc9c882ff8ac8-0-4\" stroke-width=\"2px\" d=\"M420,439.5 C420,177.0 915.0,177.0 915.0,439.5\" fill=\"none\" stroke=\"currentColor\"/>\n",
       "    <text dy=\"1.25em\" style=\"font-size: 0.8em; letter-spacing: 1px\">\n",
       "        <textPath xlink:href=\"#arrow-ebf36d29a8c04dc08b4bc9c882ff8ac8-0-4\" class=\"displacy-label\" startOffset=\"50%\" side=\"left\" fill=\"currentColor\" text-anchor=\"middle\">conj</textPath>\n",
       "    </text>\n",
       "    <path class=\"displacy-arrowhead\" d=\"M915.0,441.5 L923.0,429.5 907.0,429.5\" fill=\"currentColor\"/>\n",
       "</g>\n",
       "\n",
       "<g class=\"displacy-arrow\">\n",
       "    <path class=\"displacy-arc\" id=\"arrow-ebf36d29a8c04dc08b4bc9c882ff8ac8-0-5\" stroke-width=\"2px\" d=\"M1120,439.5 C1120,352.0 1255.0,352.0 1255.0,439.5\" fill=\"none\" stroke=\"currentColor\"/>\n",
       "    <text dy=\"1.25em\" style=\"font-size: 0.8em; letter-spacing: 1px\">\n",
       "        <textPath xlink:href=\"#arrow-ebf36d29a8c04dc08b4bc9c882ff8ac8-0-5\" class=\"displacy-label\" startOffset=\"50%\" side=\"left\" fill=\"currentColor\" text-anchor=\"middle\">nsubj</textPath>\n",
       "    </text>\n",
       "    <path class=\"displacy-arrowhead\" d=\"M1120,441.5 L1112,429.5 1128,429.5\" fill=\"currentColor\"/>\n",
       "</g>\n",
       "\n",
       "<g class=\"displacy-arrow\">\n",
       "    <path class=\"displacy-arc\" id=\"arrow-ebf36d29a8c04dc08b4bc9c882ff8ac8-0-6\" stroke-width=\"2px\" d=\"M420,439.5 C420,89.5 1270.0,89.5 1270.0,439.5\" fill=\"none\" stroke=\"currentColor\"/>\n",
       "    <text dy=\"1.25em\" style=\"font-size: 0.8em; letter-spacing: 1px\">\n",
       "        <textPath xlink:href=\"#arrow-ebf36d29a8c04dc08b4bc9c882ff8ac8-0-6\" class=\"displacy-label\" startOffset=\"50%\" side=\"left\" fill=\"currentColor\" text-anchor=\"middle\">relcl</textPath>\n",
       "    </text>\n",
       "    <path class=\"displacy-arrowhead\" d=\"M1270.0,441.5 L1278.0,429.5 1262.0,429.5\" fill=\"currentColor\"/>\n",
       "</g>\n",
       "\n",
       "<g class=\"displacy-arrow\">\n",
       "    <path class=\"displacy-arc\" id=\"arrow-ebf36d29a8c04dc08b4bc9c882ff8ac8-0-7\" stroke-width=\"2px\" d=\"M1295,439.5 C1295,352.0 1430.0,352.0 1430.0,439.5\" fill=\"none\" stroke=\"currentColor\"/>\n",
       "    <text dy=\"1.25em\" style=\"font-size: 0.8em; letter-spacing: 1px\">\n",
       "        <textPath xlink:href=\"#arrow-ebf36d29a8c04dc08b4bc9c882ff8ac8-0-7\" class=\"displacy-label\" startOffset=\"50%\" side=\"left\" fill=\"currentColor\" text-anchor=\"middle\">advmod</textPath>\n",
       "    </text>\n",
       "    <path class=\"displacy-arrowhead\" d=\"M1430.0,441.5 L1438.0,429.5 1422.0,429.5\" fill=\"currentColor\"/>\n",
       "</g>\n",
       "\n",
       "<g class=\"displacy-arrow\">\n",
       "    <path class=\"displacy-arc\" id=\"arrow-ebf36d29a8c04dc08b4bc9c882ff8ac8-0-8\" stroke-width=\"2px\" d=\"M420,439.5 C420,2.0 1625.0,2.0 1625.0,439.5\" fill=\"none\" stroke=\"currentColor\"/>\n",
       "    <text dy=\"1.25em\" style=\"font-size: 0.8em; letter-spacing: 1px\">\n",
       "        <textPath xlink:href=\"#arrow-ebf36d29a8c04dc08b4bc9c882ff8ac8-0-8\" class=\"displacy-label\" startOffset=\"50%\" side=\"left\" fill=\"currentColor\" text-anchor=\"middle\">prep</textPath>\n",
       "    </text>\n",
       "    <path class=\"displacy-arrowhead\" d=\"M1625.0,441.5 L1633.0,429.5 1617.0,429.5\" fill=\"currentColor\"/>\n",
       "</g>\n",
       "\n",
       "<g class=\"displacy-arrow\">\n",
       "    <path class=\"displacy-arc\" id=\"arrow-ebf36d29a8c04dc08b4bc9c882ff8ac8-0-9\" stroke-width=\"2px\" d=\"M1820,439.5 C1820,352.0 1955.0,352.0 1955.0,439.5\" fill=\"none\" stroke=\"currentColor\"/>\n",
       "    <text dy=\"1.25em\" style=\"font-size: 0.8em; letter-spacing: 1px\">\n",
       "        <textPath xlink:href=\"#arrow-ebf36d29a8c04dc08b4bc9c882ff8ac8-0-9\" class=\"displacy-label\" startOffset=\"50%\" side=\"left\" fill=\"currentColor\" text-anchor=\"middle\">amod</textPath>\n",
       "    </text>\n",
       "    <path class=\"displacy-arrowhead\" d=\"M1820,441.5 L1812,429.5 1828,429.5\" fill=\"currentColor\"/>\n",
       "</g>\n",
       "\n",
       "<g class=\"displacy-arrow\">\n",
       "    <path class=\"displacy-arc\" id=\"arrow-ebf36d29a8c04dc08b4bc9c882ff8ac8-0-10\" stroke-width=\"2px\" d=\"M1645,439.5 C1645,264.5 1960.0,264.5 1960.0,439.5\" fill=\"none\" stroke=\"currentColor\"/>\n",
       "    <text dy=\"1.25em\" style=\"font-size: 0.8em; letter-spacing: 1px\">\n",
       "        <textPath xlink:href=\"#arrow-ebf36d29a8c04dc08b4bc9c882ff8ac8-0-10\" class=\"displacy-label\" startOffset=\"50%\" side=\"left\" fill=\"currentColor\" text-anchor=\"middle\">pobj</textPath>\n",
       "    </text>\n",
       "    <path class=\"displacy-arrowhead\" d=\"M1960.0,441.5 L1968.0,429.5 1952.0,429.5\" fill=\"currentColor\"/>\n",
       "</g>\n",
       "</svg></span>"
      ],
      "text/plain": [
       "<IPython.core.display.HTML object>"
      ]
     },
     "metadata": {},
     "output_type": "display_data"
    }
   ],
   "source": [
    "displacy.render(test)"
   ]
  },
  {
   "cell_type": "code",
   "execution_count": 72,
   "id": "0981595d-1cec-4fbe-95d5-74a11448065a",
   "metadata": {},
   "outputs": [
    {
     "name": "stdout",
     "output_type": "stream",
     "text": [
      "amod ADJ\n",
      "punct PUNCT\n",
      "amod ADJ\n",
      "conj ADJ\n",
      "cc CCONJ\n",
      "advmod ADV\n",
      "conj ADJ\n",
      "nsubj DET\n",
      "ROOT VERB\n",
      "advmod ADV\n",
      "prep ADP\n",
      "amod ADJ\n",
      "pobj NOUN\n",
      "ROOT PUNCT\n"
     ]
    }
   ],
   "source": [
    "for t in test:\n",
    "    print(t.dep_, t.pos_)"
   ]
  },
  {
   "cell_type": "code",
   "execution_count": 105,
   "id": "198394a7-3a3d-49e4-a8ff-abb492aa741e",
   "metadata": {},
   "outputs": [],
   "source": [
    "sents_test = 'This is a tree, brown and with white flowers.'"
   ]
  },
  {
   "cell_type": "code",
   "execution_count": 119,
   "id": "b9c272ab-3424-49f1-8b91-842782285173",
   "metadata": {},
   "outputs": [
    {
     "data": {
      "text/plain": [
       "['This is a tree.', 'Subject have brown .', 'Subject have with white flowers.']"
      ]
     },
     "execution_count": 119,
     "metadata": {},
     "output_type": "execute_result"
    }
   ],
   "source": [
    "yield_subjects(sents_test)"
   ]
  },
  {
   "cell_type": "code",
   "execution_count": 68,
   "id": "c75b153e-910f-4fca-9496-190cda313149",
   "metadata": {},
   "outputs": [],
   "source": [
    "def yield_subjects(sentence):\n",
    "    chunks = []\n",
    "\n",
    "    doc = nlp(sentence)\n",
    "    # Find Normal subject\n",
    "    n_subject = [token for token in doc if token.dep_ == 'nsubj' \n",
    "                                        or token.pos_ == 'PROPN'\n",
    "                                        or token.dep_ == 'nsubjpass' \n",
    "                                        or token.pos_ == 'NOUN' and token.dep_ == 'ROOT']\n",
    "\n",
    "\n",
    "    #sentence_split = sentence.split(',')\n",
    "    \n",
    "    sentence_split = re.split(',|and ', sentence)\n",
    "\n",
    "    \n",
    "    # If no subject is found\n",
    "    if n_subject == []:\n",
    "        for sent in sentence_split:\n",
    "            sent = nlp(sent)\n",
    "            # Try to find new normal subject\n",
    "            n_subject = [token for token in sent if token.dep_ == 'nsubj' or token.pos_ == 'PROPN']\n",
    "            # If still no normal subject use species\n",
    "            if n_subject == []:\n",
    "                # Find Root\n",
    "                ROOT = [token for token in sent if token.dep_ == 'ROOT']\n",
    "                #print(ROOT[0], ROOT[0].pos_, ROOT[0].dep_)\n",
    "                if ROOT[0].pos_ == 'NOUN':\n",
    "                    # If NOUN 'have'\n",
    "                    chunks.append(f'species have {sent.text}.')\n",
    "                else:\n",
    "                    chunks.append(f'species be {sent.text}.')\n",
    "            else:\n",
    "                chunks.append(f'species be {sent}.')\n",
    "                \n",
    "    elif len(n_subject) == 1 and n_subject[0].pos_ == 'DET':\n",
    "        print('xxx', n_subject)\n",
    "                \n",
    "    else:\n",
    "        print(n_subject)\n",
    "           \n",
    "    # Split some rubbish\n",
    "    chunks = [re.sub(' +', ' ', chunk) for chunk in chunks]\n",
    "    chunks = [re.sub('\\.+', '.', chunk).strip().capitalize() for chunk in chunks]\n",
    "\n",
    "    return chunks\n"
   ]
  },
  {
   "cell_type": "code",
   "execution_count": 69,
   "id": "a41a459a-9acc-456a-bf5c-64cfc8cfcc37",
   "metadata": {},
   "outputs": [
    {
     "name": "stdout",
     "output_type": "stream",
     "text": [
      "xxx [that]\n",
      "[bark]\n",
      "[stem, trunk, which, it]\n",
      "[flowers, that, that]\n",
      "[flowers]\n",
      "[baobab, it, trunk]\n",
      "[They]\n",
      "[trunk, It, trees, trunks, tree, stem, which]\n",
      "[flowers]\n"
     ]
    }
   ],
   "source": [
    "cleaned = [yield_subjects(sent) for sent in sents]"
   ]
  },
  {
   "cell_type": "code",
   "execution_count": 59,
   "id": "d8326903-579a-4106-b0ed-ba2631ceefa9",
   "metadata": {},
   "outputs": [
    {
     "data": {
      "text/plain": [
       "['Hard, dark brown to black, kidney-shaped.',\n",
       " 'Large , heavy white and sweetly scented that hang down on long stalks.',\n",
       " 'The bark is greyish brown and normally smooth but can often be variously folded and seamed from years of growth.',\n",
       " 'Palmately compound and clustered at the ends of short, stocky branches.',\n",
       " 'The main stem of larger baobab trees may reach enormous proportions of up to 28 m in girth usually squat cylindrical trunk gives rise to thick tapering branches resembling a root-system, which is why it has often been referred to as the upside-down tree.',\n",
       " 'The flowers are 10-20 cm across and have waxy crinkled petals about 10 cm long that surround dense clusters of purple stamens that look like powder puffs.',\n",
       " 'The flowers fall within 24 hours, turning brown and smelling quite unpleasant.',\n",
       " \"African baobab. is one of the plant kingdom's strangest tree, it is not particularly tall growing but the trunk is massive: as much as 11 m in diameter and shaped like a bottle.\",\n",
       " 'They are divided into 5-7 finger-like leaflets.',\n",
       " \"The trunk is used to store water during dry periods It's not uncommon for old trees to have several huge trunks branching off near the ground, and a tree 20 tall can have a spread of more than 30 m. The stem is covered with a bark layer, which may be 50-100 mm thick.\",\n",
       " 'The flowers emerge in the late afternoon from large round buds on long drooping stalks.']"
      ]
     },
     "execution_count": 59,
     "metadata": {},
     "output_type": "execute_result"
    }
   ],
   "source": [
    "sents"
   ]
  },
  {
   "cell_type": "code",
   "execution_count": 60,
   "id": "e76b978d-bc2d-4e33-87cb-ebf9bc792c5c",
   "metadata": {},
   "outputs": [
    {
     "data": {
      "text/plain": [
       "[['Species be hard.',\n",
       "  'Species be dark brown to black.',\n",
       "  'Species be kidney-shaped.'],\n",
       " [],\n",
       " [],\n",
       " ['Species be palmately compound .',\n",
       "  'Species be clustered at the ends of short.',\n",
       "  'Species have stocky branches.'],\n",
       " [],\n",
       " [],\n",
       " [],\n",
       " [],\n",
       " [],\n",
       " [],\n",
       " []]"
      ]
     },
     "execution_count": 60,
     "metadata": {},
     "output_type": "execute_result"
    }
   ],
   "source": [
    "cleaned"
   ]
  },
  {
   "cell_type": "code",
   "execution_count": null,
   "id": "9db03e07-ddf8-4cf3-951d-3f1e8cfbb78e",
   "metadata": {},
   "outputs": [],
   "source": []
  }
 ],
 "metadata": {
  "kernelspec": {
   "display_name": "Python [conda env:DL]",
   "language": "python",
   "name": "conda-env-DL-py"
  },
  "language_info": {
   "codemirror_mode": {
    "name": "ipython",
    "version": 3
   },
   "file_extension": ".py",
   "mimetype": "text/x-python",
   "name": "python",
   "nbconvert_exporter": "python",
   "pygments_lexer": "ipython3",
   "version": "3.8.10"
  }
 },
 "nbformat": 4,
 "nbformat_minor": 5
}
