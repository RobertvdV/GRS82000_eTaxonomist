{
 "cells": [
  {
   "cell_type": "code",
   "execution_count": 1,
   "id": "7433918c-9e5b-4055-8d8d-5b7258af2cca",
   "metadata": {},
   "outputs": [],
   "source": [
    "from bs4 import BeautifulSoup\n",
    "import requests\n",
    "import re\n",
    "import collections\n",
    "import pickle"
   ]
  },
  {
   "cell_type": "code",
   "execution_count": 2,
   "id": "7d4bbcad-10ff-438b-9dcd-cd5b584972e9",
   "metadata": {},
   "outputs": [
    {
     "data": {
      "text/plain": [
       "1274"
      ]
     },
     "execution_count": 2,
     "metadata": {},
     "output_type": "execute_result"
    }
   ],
   "source": [
    "URLs = ['https://en.wikipedia.org/wiki/List_of_animal_names',\n",
    "      'https://en.wikipedia.org/wiki/List_of_fish_common_names',\n",
    "      'https://en.wikipedia.org/wiki/List_of_trees_and_shrubs_by_taxonomic_family',\n",
    "      'https://en.wikipedia.org/wiki/List_of_birds_by_common_name']\n",
    "\n",
    "URL = 'https://en.wikipedia.org/wiki/List_of_fish_common_names'\n",
    "\n",
    "page = requests.get(URL)\n",
    "soup = BeautifulSoup(page.content, 'html.parser')\n",
    "\n",
    "# Find all wikiparts\n",
    "WikiRefs = soup.find_all('a')\n",
    "# Create links \n",
    "WikiLinks = ['https://en.wikipedia.org' + pages.get('href') for pages in WikiRefs \n",
    "                       if pages.get('href') != None \n",
    "                       if pages.get('href').startswith('/wiki/')]\n",
    "            \n",
    "# Remove duplicates            \n",
    "WikiLinks = list(set(WikiLinks))\n",
    "len(WikiLinks)"
   ]
  },
  {
   "cell_type": "code",
   "execution_count": 3,
   "id": "c5a736bd-3891-4b99-81c6-ff049e792172",
   "metadata": {},
   "outputs": [
    {
     "data": {
      "text/plain": [
       "49747"
      ]
     },
     "execution_count": 3,
     "metadata": {},
     "output_type": "execute_result"
    }
   ],
   "source": [
    "WikiSubLinks = []\n",
    "\n",
    "for WikiLink in WikiLinks:\n",
    "\n",
    "    URL = WikiLink\n",
    "    page = requests.get(URL)\n",
    "    soup = BeautifulSoup(page.content, 'html.parser')\n",
    "\n",
    "    # Find all wikiparts\n",
    "    WikiRefs = soup.find_all('a')\n",
    "    # Create links \n",
    "    WikiSubLinks += ['https://en.wikipedia.org' + pages.get('href') for pages in WikiRefs \n",
    "                           if pages.get('href') != None \n",
    "                           if pages.get('href').startswith('/wiki/')]\n",
    "\n",
    "\n",
    "WikiSubLinks = list(set(WikiSubLinks))\n",
    "len(WikiSubLinks)"
   ]
  },
  {
   "cell_type": "code",
   "execution_count": 4,
   "id": "7dcdb5a3-3e9e-4660-88c9-f70f054da15f",
   "metadata": {},
   "outputs": [
    {
     "data": {
      "text/plain": [
       "49747"
      ]
     },
     "execution_count": 4,
     "metadata": {},
     "output_type": "execute_result"
    }
   ],
   "source": [
    "WikiLinks += WikiSubLinks\n",
    "# Remove duplicates            \n",
    "WikiLinks = list(set(WikiLinks))\n",
    "len(WikiLinks)"
   ]
  },
  {
   "cell_type": "code",
   "execution_count": 5,
   "id": "45c46bab-bd9b-4329-ab39-c8927bad2b2e",
   "metadata": {},
   "outputs": [
    {
     "name": "stdout",
     "output_type": "stream",
     "text": [
      "0\n",
      "1000\n",
      "2000\n",
      "3000\n",
      "4000\n",
      "5000\n",
      "6000\n",
      "7000\n",
      "8000\n",
      "9000\n",
      "10000\n",
      "11000\n",
      "12000\n",
      "13000\n",
      "14000\n",
      "15000\n",
      "16000\n",
      "17000\n",
      "18000\n",
      "19000\n",
      "20000\n",
      "21000\n",
      "22000\n",
      "23000\n",
      "24000\n",
      "25000\n",
      "26000\n",
      "27000\n",
      "28000\n",
      "29000\n",
      "30000\n",
      "31000\n",
      "32000\n",
      "33000\n",
      "34000\n",
      "35000\n",
      "36000\n",
      "37000\n",
      "38000\n",
      "39000\n",
      "40000\n",
      "41000\n",
      "42000\n",
      "43000\n",
      "44000\n",
      "45000\n",
      "46000\n",
      "47000\n",
      "48000\n",
      "49000\n"
     ]
    }
   ],
   "source": [
    "# Init Dict\n",
    "Data = collections.defaultdict(list)\n",
    "\n",
    "# Known chapter titles\n",
    "KnownDescriptionList = ['Physical characteristics', 'Description and morphology',\n",
    "                        'Description', 'General description',\n",
    "                        'Appearance',\n",
    "                        'Characteristics']\n",
    "\n",
    "# Lower them\n",
    "KnownDescriptionListLower =[i.lower() for i in KnownDescriptionList]\n",
    "\n",
    "# Removes references in text\n",
    "ReferenceRemover = '\\[\\d*\\]'\n",
    "\n",
    "for Count, WikiLink in enumerate(WikiLinks):\n",
    "    \n",
    "    if Count % 1000 == 0:\n",
    "        print(Count)\n",
    "\n",
    "    URL = WikiLink\n",
    "\n",
    "    try:\n",
    "        Response = requests.get(URL, timeout=5)\n",
    "        Soup = BeautifulSoup(Response.content, \"html.parser\")\n",
    "\n",
    "        # Check if the link contains description data\n",
    "        Contents = [i.text.replace('[edit]', '') for i in Soup.find_all('h2')]\n",
    "        if all(s not in Contents for s in KnownDescriptionList) == False:\n",
    "\n",
    "            # Find Chapters\n",
    "            for Tag in Soup.find_all('h2')[1:]:\n",
    "\n",
    "\n",
    "                # Get species name\n",
    "                Species = Soup.title.string\\\n",
    "                                    .split(' - ')[0]\\\n",
    "                                    .rstrip(' ')\n",
    "\n",
    "                # Clean Chapter\n",
    "                Chapter = Tag.text.strip().replace('[edit]', '')\n",
    "\n",
    "                # Find all Text\n",
    "                for Item in Tag.find_next_siblings('p'):\n",
    "                    # Check if Chapter is Description or similar\n",
    "                    if Chapter.lower() in KnownDescriptionListLower:\n",
    "                        # Check if text belongs to current chapter\n",
    "                        if Chapter in Item.find_previous_siblings('h2')[0].text.strip():\n",
    "                            # Clean Text\n",
    "                            CleanText = re.sub(ReferenceRemover, '', Item.text)\n",
    "                            # Add to dict\n",
    "                            Data[Species].append(tuple([1, CleanText]))\n",
    "\n",
    "                    else:\n",
    "                        # Check if text belongs to current chapter\n",
    "                        if Chapter in Item.find_previous_siblings('h2')[0].text.strip():\n",
    "                            # Clean Text\n",
    "                            CleanText = re.sub(ReferenceRemover, '', Item.text)\n",
    "                            # Add to dict\n",
    "                            Data[Species].append(tuple([0, CleanText]))\n",
    "    except:\n",
    "        # Continue if timeout\n",
    "        continue\n",
    "\n"
   ]
  },
  {
   "cell_type": "code",
   "execution_count": 6,
   "id": "c152cfc5-6c31-4a01-bd26-e54b37198144",
   "metadata": {},
   "outputs": [],
   "source": [
    "with open('../data/processed/dataWIKI_fish.pkl', 'wb') as f:\n",
    "    pickle.dump(Data, f)"
   ]
  },
  {
   "cell_type": "code",
   "execution_count": 7,
   "id": "55266fa4-8dca-48d5-827a-b798d6022ea5",
   "metadata": {},
   "outputs": [
    {
     "data": {
      "text/plain": [
       "3665"
      ]
     },
     "execution_count": 7,
     "metadata": {},
     "output_type": "execute_result"
    }
   ],
   "source": [
    "len(Data.keys())"
   ]
  },
  {
   "cell_type": "code",
   "execution_count": null,
   "id": "ad65f5c9-f313-4fd8-b2cf-e1b6edbef26f",
   "metadata": {},
   "outputs": [],
   "source": [
    "Data['Asclepias incarnata']"
   ]
  },
  {
   "cell_type": "code",
   "execution_count": null,
   "id": "5c567bc5-7d71-46ed-ae95-fd0c63941451",
   "metadata": {},
   "outputs": [],
   "source": []
  }
 ],
 "metadata": {
  "kernelspec": {
   "display_name": "Python [conda env:eTaxonomist]",
   "language": "python",
   "name": "conda-env-eTaxonomist-py"
  },
  "language_info": {
   "codemirror_mode": {
    "name": "ipython",
    "version": 3
   },
   "file_extension": ".py",
   "mimetype": "text/x-python",
   "name": "python",
   "nbconvert_exporter": "python",
   "pygments_lexer": "ipython3",
   "version": "3.9.4"
  }
 },
 "nbformat": 4,
 "nbformat_minor": 5
}
