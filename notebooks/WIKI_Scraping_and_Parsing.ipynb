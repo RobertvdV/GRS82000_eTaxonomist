{
 "cells": [
  {
   "cell_type": "code",
   "execution_count": 192,
   "id": "7433918c-9e5b-4055-8d8d-5b7258af2cca",
   "metadata": {},
   "outputs": [],
   "source": [
    "from bs4 import BeautifulSoup\n",
    "import requests\n",
    "import re\n",
    "import collections\n",
    "import pickle"
   ]
  },
  {
   "cell_type": "code",
   "execution_count": 193,
   "id": "d5ca1f22-f50c-4e24-a707-67333f3e6659",
   "metadata": {},
   "outputs": [],
   "source": [
    "# init dict\n",
    "Data = collections.defaultdict(list)"
   ]
  },
  {
   "cell_type": "code",
   "execution_count": 226,
   "id": "7d4bbcad-10ff-438b-9dcd-cd5b584972e9",
   "metadata": {},
   "outputs": [],
   "source": [
    "URLs = ['https://en.wikipedia.org/wiki/List_of_animal_names',\n",
    "      'https://en.wikipedia.org/wiki/List_of_fish_common_names',\n",
    "      'https://en.wikipedia.org/wiki/List_of_trees_and_shrubs_by_taxonomic_family']\n",
    "\n",
    "URL = 'https://en.wikipedia.org/wiki/List_of_fish_common_names'\n",
    "\n",
    "page = requests.get(URL)\n",
    "soup = BeautifulSoup(page.content, 'html.parser')\n",
    "\n",
    "# Find all wikiparts\n",
    "WikiRefs = soup.find_all('a')\n",
    "# Create links \n",
    "WikiLinks = ['https://en.wikipedia.org/' + pages.get('href') for pages in WikiRefs \n",
    "                       if pages.get('href') != None \n",
    "                       if pages.get('href').startswith('/wiki/')]\n",
    "                       # Reduces the retrieved pages (does not work)\n",
    "                       #if pages.span != None \n",
    "                       #if pages.span.attrs['class'][0] == 'tocnumber']\n",
    "            \n",
    "# Remove duplicates            \n",
    "WikiLinks = list(set(WikiLinks))"
   ]
  },
  {
   "cell_type": "code",
   "execution_count": 227,
   "id": "3e8684c4-88ea-4542-aaf3-e338207bfaea",
   "metadata": {},
   "outputs": [
    {
     "data": {
      "text/plain": [
       "1274"
      ]
     },
     "execution_count": 227,
     "metadata": {},
     "output_type": "execute_result"
    }
   ],
   "source": [
    "len(WikiLinks)"
   ]
  },
  {
   "cell_type": "code",
   "execution_count": 228,
   "id": "45c46bab-bd9b-4329-ab39-c8927bad2b2e",
   "metadata": {},
   "outputs": [],
   "source": [
    "# Init Dict\n",
    "Data = collections.defaultdict(list)\n",
    "\n",
    "# Known chapter titles\n",
    "KnownDescriptionList = ['Physical characteristics', 'Description and morphology',\n",
    "                        'Description', 'General description',\n",
    "                        'Appearance',\n",
    "                        'Characteristics']\n",
    "\n",
    "# Lower them\n",
    "KnownDescriptionListLower =[i.lower() for i in KnownDescriptionList]\n",
    "\n",
    "# Removes references in text\n",
    "ReferenceRemover = '\\[\\d*\\]'\n",
    "\n",
    "for WikiLink in WikiLinks:\n",
    "\n",
    "    URL = WikiLink\n",
    "    #URL = 'https://en.wikipedia.org/wiki/Crocodile'\n",
    "    Response = requests.get(URL, timeout=5)\n",
    "    Soup = BeautifulSoup(Response.content, \"html.parser\")\n",
    "\n",
    "    # Check if the link contains description data\n",
    "    Contents = [i.text.replace('[edit]', '') for i in Soup.find_all('h2')]\n",
    "    if all(s not in Contents for s in KnownDescriptionList) == False:\n",
    "\n",
    "        # Find Chapters\n",
    "        for Tag in Soup.find_all('h2')[1:]:\n",
    "\n",
    "\n",
    "            # Get species name\n",
    "            Species = Soup.title.string\\\n",
    "                                .split(' - ')[0]\\\n",
    "                                .rstrip(' ')\n",
    "\n",
    "            # Clean Chapter\n",
    "            Chapter = Tag.text.strip().replace('[edit]', '')\n",
    "\n",
    "            # Find all Text\n",
    "            for Item in Tag.find_next_siblings('p'):\n",
    "                # Check if Chapter is Description or similar\n",
    "                if Chapter.lower() in KnownDescriptionListLower:\n",
    "                    # Check if text belongs to current chapter\n",
    "                    if Chapter in Item.find_previous_siblings('h2')[0].text.strip():\n",
    "                        # Clean Text\n",
    "                        CleanText = re.sub(ReferenceRemover, '', Item.text)\n",
    "                        # Add to dict\n",
    "                        Data[Species].append(tuple([1, CleanText]))\n",
    "\n",
    "                else:\n",
    "                    # Check if text belongs to current chapter\n",
    "                    if Chapter in Item.find_previous_siblings('h2')[0].text.strip():\n",
    "                        # Clean Text\n",
    "                        CleanText = re.sub(ReferenceRemover, '', Item.text)\n",
    "                        # Add to dict\n",
    "                        Data[Species].append(tuple([0, CleanText]))\n",
    "\n"
   ]
  },
  {
   "cell_type": "code",
   "execution_count": 229,
   "id": "c152cfc5-6c31-4a01-bd26-e54b37198144",
   "metadata": {},
   "outputs": [],
   "source": [
    "with open('../data/processed/dataWIKI_fish.pkl', 'wb') as f:\n",
    "    pickle.dump(Data, f)"
   ]
  },
  {
   "cell_type": "code",
   "execution_count": 230,
   "id": "0970e145-f538-4ac9-8784-7fe1c2b94f7b",
   "metadata": {},
   "outputs": [
    {
     "data": {
      "text/plain": [
       "374"
      ]
     },
     "execution_count": 230,
     "metadata": {},
     "output_type": "execute_result"
    }
   ],
   "source": [
    "len(Data.keys())"
   ]
  },
  {
   "cell_type": "code",
   "execution_count": null,
   "id": "55266fa4-8dca-48d5-827a-b798d6022ea5",
   "metadata": {},
   "outputs": [],
   "source": []
  }
 ],
 "metadata": {
  "kernelspec": {
   "display_name": "Python [conda env:eTaxonomist]",
   "language": "python",
   "name": "conda-env-eTaxonomist-py"
  },
  "language_info": {
   "codemirror_mode": {
    "name": "ipython",
    "version": 3
   },
   "file_extension": ".py",
   "mimetype": "text/x-python",
   "name": "python",
   "nbconvert_exporter": "python",
   "pygments_lexer": "ipython3",
   "version": "3.9.4"
  }
 },
 "nbformat": 4,
 "nbformat_minor": 5
}
