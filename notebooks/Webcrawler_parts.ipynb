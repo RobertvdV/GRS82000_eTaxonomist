{
 "cells": [
  {
   "cell_type": "code",
   "execution_count": 1,
   "id": "432f0205-06eb-4a76-b89b-61d4fc87975c",
   "metadata": {},
   "outputs": [
    {
     "name": "stderr",
     "output_type": "stream",
     "text": [
      "Some weights of the model checkpoint at distilbert-base-uncased were not used when initializing DistilBertModel: ['vocab_layer_norm.bias', 'vocab_projector.weight', 'vocab_transform.bias', 'vocab_transform.weight', 'vocab_projector.bias', 'vocab_layer_norm.weight']\n",
      "- This IS expected if you are initializing DistilBertModel from the checkpoint of a model trained on another task or with another architecture (e.g. initializing a BertForSequenceClassification model from a BertForPreTraining model).\n",
      "- This IS NOT expected if you are initializing DistilBertModel from the checkpoint of a model that you expect to be exactly identical (initializing a BertForSequenceClassification model from a BertForSequenceClassification model).\n"
     ]
    }
   ],
   "source": [
    "import numpy as np\n",
    "import pickle\n",
    "from tqdm import tqdm\n",
    "import re\n",
    "import collections\n",
    "import glob\n",
    "from transformers import DistilBertTokenizer, DistilBertModel\n",
    "import sys\n",
    "import time\n",
    "import requests\n",
    "from IPython.display import display, HTML\n",
    "from selenium import webdriver\n",
    "from selenium.webdriver.support.ui import WebDriverWait\n",
    "from selenium.webdriver.support import expected_conditions as EC\n",
    "from bs4 import BeautifulSoup\n",
    "\n",
    "sys.path.insert(0, '../src/models/')\n",
    "sys.path.insert(0, '../src/features/')\n",
    "\n",
    "from predict_model import loadBERT\n",
    "from predict_model import SpanPredictor as classify\n",
    "from build_features import text_cleaner, DuckDuckGo_Java, Bing_HTML, colorize_prediction\n",
    "\n",
    "%matplotlib inline"
   ]
  },
  {
   "cell_type": "code",
   "execution_count": 2,
   "id": "28430fea-dde3-44b8-9bd6-53f8cc9614fd",
   "metadata": {},
   "outputs": [
    {
     "name": "stdout",
     "output_type": "stream",
     "text": [
      "CPU Success\n"
     ]
    }
   ],
   "source": [
    "model = loadBERT(\"../models/\", 'saved_weights_inf_FIXED_boot_beta80.pt')\n",
    "tokenizer = DistilBertTokenizer.from_pretrained('distilbert-base-uncased')"
   ]
  },
  {
   "cell_type": "code",
   "execution_count": 3,
   "id": "66db15da-6d86-40b8-bacd-37f8fbe9f628",
   "metadata": {},
   "outputs": [],
   "source": [
    "plants_dict = collections.defaultdict(list)\n",
    "root = '../data/description/'\n",
    "# Load the pickle list\n",
    "data_files = glob.glob(root+ 'description*PLANTS.pkl')\n",
    "for data_file in data_files:\n",
    "    dict_ = pickle.load(open(data_file, 'rb'))\n",
    "    for key, value in dict_.items():\n",
    "        plants_dict[key] += value\n",
    "    \n",
    "\n",
    "# Order the dictionary based on the list length\n",
    "plants_dict = collections.OrderedDict(sorted(plants_dict.items(), key= lambda x: len(x[1]), reverse=True))\n",
    "# Correct first key\n",
    "plants_dict['Poa'] = plants_dict.pop('oa')\n",
    "# Get keys\n",
    "plants = [key for key in plants_dict.keys()]"
   ]
  },
  {
   "cell_type": "markdown",
   "id": "54b963d2-74cf-43eb-a557-b2eee91131f7",
   "metadata": {},
   "source": [
    "### URLS"
   ]
  },
  {
   "cell_type": "code",
   "execution_count": null,
   "id": "697925cc-4aa6-4247-9a5c-4635a7fc8dec",
   "metadata": {},
   "outputs": [],
   "source": [
    "# DEBUGGING\n",
    "data_links = collections.defaultdict(list)\n",
    "# Init driver\n",
    "#driver = webdriver.Safari()\n",
    "\n",
    "queries = ['description', 'diagnosis', '', 'attributes', 'captions']\n",
    "\n",
    "for species in tqdm(plants[15000:20000]):\n",
    "    # Empty list\n",
    "    search_links = []\n",
    "    \n",
    "    for query in queries:\n",
    "        # create query\n",
    "        species_q = species.replace(' ', '+')\n",
    "        species_q = f'\"{species_q}\"+{query}'\n",
    "        try:\n",
    "            search_links += DuckDuckGo_Java(species_q, \n",
    "                                            driver=driver)\n",
    "            search_links += Bing_HTML(species_q)\n",
    "         # Skip connection timeout\n",
    "        except:\n",
    "            continue\n",
    "    # Drop duplicates\n",
    "    search_links = list(set(search_links))\n",
    "    if not search_links:\n",
    "        print('empty')\n",
    "    # DEBUGGING\n",
    "    data_links[species] += search_links"
   ]
  },
  {
   "cell_type": "code",
   "execution_count": null,
   "id": "dbed528f-acb2-40c8-b6c9-e9dbeb0ffbd4",
   "metadata": {},
   "outputs": [],
   "source": [
    "with open('../data/description/01_URLS_15000-20000_PLANTS.pkl', 'wb') as f:\n",
    "    pickle.dump(data_links, f)"
   ]
  },
  {
   "cell_type": "markdown",
   "id": "9d2025c5-bffc-43aa-ae5d-4508709501ad",
   "metadata": {},
   "source": [
    "### TEXT"
   ]
  },
  {
   "cell_type": "code",
   "execution_count": 4,
   "id": "b4b3e6cd-f6a5-4a1d-8154-df5cbd5a9853",
   "metadata": {},
   "outputs": [],
   "source": [
    "URLS = pickle.load(open('../data/description/01_URLS_0-10000_PLANTS.pkl', 'rb'))"
   ]
  },
  {
   "cell_type": "code",
   "execution_count": null,
   "id": "eec392d4-f4cf-46ac-9ac6-8581ffda353f",
   "metadata": {},
   "outputs": [
    {
     "name": "stderr",
     "output_type": "stream",
     "text": [
      " 52%|█████████████████▎               | 1571/3000 [12:37:23<13:26:50, 33.88s/it]"
     ]
    }
   ],
   "source": [
    "sentence_list = collections.defaultdict(list)\n",
    "\n",
    "species = list(URLS.keys())\n",
    "\n",
    "for species in tqdm(species[2000:5000]):\n",
    "    for URL in URLS[species]:\n",
    "        # Skip google archives\n",
    "        if 'google' in URL:\n",
    "            continue\n",
    "        # PDF and TXT\n",
    "        if URL.endswith('txt') or URL.endswith('pdf'):\n",
    "            continue\n",
    "        # Skip Plants of the world (already done)\n",
    "        if 'powo' in URL:\n",
    "            continue\n",
    "        try:\n",
    "            page = requests.get(URL, timeout=5)\n",
    "            # Skip PDF files for now\n",
    "            if page.headers['Content-Type'].startswith('application/pdf'):\n",
    "                continue\n",
    "            # Soup the result\n",
    "            soup = BeautifulSoup(page.content, 'html.parser', from_encoding=\"iso-8859-1\")    \n",
    "            # Skip Embedded PDF's\n",
    "            if 'pdf' in soup.title.text.lower():\n",
    "                continue\n",
    "            # Check if species exists somewhere within title\n",
    "            if bool(set(species.split()).intersection(soup.title.text.split())):\n",
    "                # Get text\n",
    "                #dirty_text = soup.get_text(\". \", strip=True)\n",
    "                dirty_text = soup.get_text(\" \", strip=False).replace('\\n', '.')\n",
    "                # Clean and break into sents\n",
    "                sentences = text_cleaner(dirty_text)\n",
    "                # Append\n",
    "                sentence_list[species].append(sentences)\n",
    "        except:\n",
    "            continue"
   ]
  },
  {
   "cell_type": "code",
   "execution_count": 6,
   "id": "7c3b39ee-df5a-4a14-ae74-3ef5f4eda4d6",
   "metadata": {},
   "outputs": [],
   "source": [
    "with open('../data/description/02_SENTS_2000-5000_PLANTS.pkl', 'wb') as f:\n",
    "    pickle.dump(sentence_list, f)"
   ]
  },
  {
   "cell_type": "code",
   "execution_count": null,
   "id": "8691a333-3a71-4338-977e-63c5cd0454d7",
   "metadata": {},
   "outputs": [],
   "source": [
    "len(sentence_list.keys())"
   ]
  },
  {
   "cell_type": "markdown",
   "id": "926009d6-5ae2-4276-8528-5c276618a01a",
   "metadata": {},
   "source": [
    "# Classify"
   ]
  },
  {
   "cell_type": "code",
   "execution_count": null,
   "id": "66f64900-f840-47c1-9922-726198ef7d2e",
   "metadata": {},
   "outputs": [],
   "source": [
    "sentence_list = pickle.load(open('../data/description/02_SENTS_0-1000_PLANTS.pkl', 'rb'))"
   ]
  },
  {
   "cell_type": "code",
   "execution_count": null,
   "id": "8f2571b4-8b92-4e53-bfd5-29ed64ff1bb0",
   "metadata": {},
   "outputs": [],
   "source": [
    "\n",
    "descriptions = collections.defaultdict(list)\n",
    "species_list = list(sentence_list.keys())\n",
    "\n",
    "for species in tqdm(species_list):\n",
    "    for text in sentence_list[species]:\n",
    "        for sentence in text:\n",
    "            if classify(sentence, model=model):\n",
    "                descriptions[species].append(sentence)\n",
    "\n",
    "        "
   ]
  },
  {
   "cell_type": "code",
   "execution_count": null,
   "id": "be5682aa-2c08-471a-a856-8bba6f7f36a4",
   "metadata": {},
   "outputs": [],
   "source": [
    "with open('../data/description/03_DESC_0-1000_PLANTS.pkl', 'wb') as f:\n",
    "    pickle.dump(descriptions, f)"
   ]
  },
  {
   "cell_type": "markdown",
   "id": "7fbcadff-8f30-4fb5-a236-2b25f0b4a018",
   "metadata": {},
   "source": [
    "# Resample"
   ]
  },
  {
   "cell_type": "code",
   "execution_count": null,
   "id": "e714c488-7806-4730-800a-1add97e3de38",
   "metadata": {},
   "outputs": [],
   "source": [
    "description_dict = pickle.load(open('../data/description/03_DESC_0-1000_PLANTS.pkl', 'rb'))"
   ]
  },
  {
   "cell_type": "code",
   "execution_count": null,
   "id": "a49a812e-c2b5-4bef-aaa1-83c855bc1b17",
   "metadata": {},
   "outputs": [],
   "source": [
    "# Order the dictionary based on the list length\n",
    "description_dict = collections.OrderedDict(sorted(description_dict.items(), key= lambda x: len(x[1]), reverse=True))"
   ]
  },
  {
   "cell_type": "code",
   "execution_count": null,
   "id": "cc1b65b0-ffd1-4b38-ab82-045debbf48ad",
   "metadata": {},
   "outputs": [],
   "source": [
    "len(description_dict.keys())"
   ]
  },
  {
   "cell_type": "code",
   "execution_count": null,
   "id": "3db96e95-26f0-4bde-89b6-914884dd45f6",
   "metadata": {},
   "outputs": [],
   "source": [
    "#description_dict.keys()"
   ]
  },
  {
   "cell_type": "code",
   "execution_count": null,
   "id": "3eb54547-855c-46e5-ab3f-2e2d1994da63",
   "metadata": {},
   "outputs": [],
   "source": [
    "# Update the dict\n",
    "for species in description_dict.keys():\n",
    "    sents = [sent for (sent, URL) in plants_dict[species]]\n",
    "    description_dict[species] += sents\n",
    "    description_dict[species] = list(set(description_dict[species]))"
   ]
  },
  {
   "cell_type": "code",
   "execution_count": null,
   "id": "2f22c6eb-cdf0-425f-9fb6-117b1b8a53e6",
   "metadata": {},
   "outputs": [],
   "source": [
    "with open('../data/description/04_TRAIN_0-817_PLANTS.pkl', 'wb') as f:\n",
    "    pickle.dump(description_dict, f)"
   ]
  },
  {
   "cell_type": "code",
   "execution_count": null,
   "id": "81ffb42b-e687-4d73-a3e4-0208734373dc",
   "metadata": {},
   "outputs": [],
   "source": []
  }
 ],
 "metadata": {
  "kernelspec": {
   "display_name": "Python [conda env:DL]",
   "language": "python",
   "name": "conda-env-DL-py"
  },
  "language_info": {
   "codemirror_mode": {
    "name": "ipython",
    "version": 3
   },
   "file_extension": ".py",
   "mimetype": "text/x-python",
   "name": "python",
   "nbconvert_exporter": "python",
   "pygments_lexer": "ipython3",
   "version": "3.8.10"
  }
 },
 "nbformat": 4,
 "nbformat_minor": 5
}
