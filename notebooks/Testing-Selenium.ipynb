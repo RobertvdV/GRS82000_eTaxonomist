{
 "cells": [
  {
   "cell_type": "code",
   "execution_count": 46,
   "id": "a72d652b-e13c-4094-b988-7cf0bd52ed06",
   "metadata": {},
   "outputs": [],
   "source": [
    "from selenium import webdriver\n",
    "from bs4 import BeautifulSoup\n",
    "import requests\n",
    "import re\n",
    "import collections\n",
    "import pickle\n",
    "import time\n",
    "import random"
   ]
  },
  {
   "cell_type": "code",
   "execution_count": 2,
   "id": "143b149c-bd62-488f-9ccf-ea9c07da7488",
   "metadata": {},
   "outputs": [],
   "source": [
    "URL = 'https://birdsoftheworld.org/bow/specieslist'\n",
    "#URL = 'https://birdsoftheworld-org.ezproxy.library.wur.nl/bow/specieslist'\n",
    "page = requests.get(URL)\n",
    "soup = BeautifulSoup(page.content, 'html.parser')\n",
    "\n",
    "BOWlist = soup.find_all('a')\n",
    "\n",
    "URL = 'https://birdsoftheworld.org/bow/specieslist'\n",
    "#URL = 'https://birdsoftheworld-org.ezproxy.library.wur.nl/bow/specieslist'\n",
    "page = requests.get(URL)\n",
    "soup = BeautifulSoup(page.content, 'html.parser')\n",
    "\n",
    "# Create a list with links\n",
    "BOWpages = ['https://birdsoftheworld.org' + pages.get('href').replace('introduction', '') for pages in BOWlist \n",
    "                   if pages.get('href') != None\n",
    "                   if pages.get('href').startswith('/bow/species')]"
   ]
  },
  {
   "cell_type": "code",
   "execution_count": 4,
   "id": "e5ccfa6e-3028-45c4-a123-b4b4340f8642",
   "metadata": {},
   "outputs": [],
   "source": [
    "# Init driver\n",
    "browser = webdriver.Safari()"
   ]
  },
  {
   "cell_type": "code",
   "execution_count": 5,
   "id": "aa1c255d-6ea0-461f-b35d-a12c8d14c32c",
   "metadata": {},
   "outputs": [],
   "source": [
    "# Login URL\n",
    "browser.get(\"https://secure.birds.cornell.edu/cassso/login?service=https%3A%2F%2Fbirdsoftheworld.org%2Flogin%2Fcas\")\n",
    "\n",
    "# Username\n",
    "username = browser.find_element_by_id(\"input-user-name\")\n",
    "username.clear()\n",
    "username.send_keys(\"RobertvdV\")\n",
    "\n",
    "# Password\n",
    "password = browser.find_element_by_name(\"password\")\n",
    "password.clear()\n",
    "password.send_keys(\"XXXXXXXXXX\")\n",
    "\n",
    "# Sign in\n",
    "SignIn = browser.find_element_by_id(\"form-submit\")\n",
    "SignIn.send_keys(u'\\ue007')"
   ]
  },
  {
   "cell_type": "code",
   "execution_count": 37,
   "id": "779e6e97-16a2-447b-97c2-c4cdda3b1ce3",
   "metadata": {},
   "outputs": [],
   "source": [
    "browser.get(BOWpages[10566] + 'appearance')\n",
    "SleepTime = random.randint(2, 6)\n",
    "time.sleep(SleepTime)\n"
   ]
  },
  {
   "cell_type": "code",
   "execution_count": 44,
   "id": "46914aab-b133-4450-b7d9-61df9df6054e",
   "metadata": {},
   "outputs": [],
   "source": [
    "FreeBirds = [2838, 3100, 10566, 2534, 3661]"
   ]
  },
  {
   "cell_type": "code",
   "execution_count": 38,
   "id": "ff1dd0f4-57b0-4b60-b773-b65aaefadb3c",
   "metadata": {},
   "outputs": [],
   "source": [
    "HTML = browser.page_source\n",
    "soup = BeautifulSoup(HTML, 'html.parser')"
   ]
  },
  {
   "cell_type": "code",
   "execution_count": 66,
   "id": "859231e5-8c7a-4046-8663-a7dbf0e4c5d1",
   "metadata": {},
   "outputs": [],
   "source": [
    "# Init dict\n",
    "DataBOW = collections.defaultdict(list)\n",
    "\n",
    "# Reference Remover\n",
    "ReferenceRemover1 = ' \\(\\d+\\n\\t.+?\\n\\t\\n\\t\\tClose\\n\\t\\n\\)'\n",
    "ReferenceRemover2 = ' \\[\\d+\\n\\t.+?\\n\\t\\n\\t\\tClose\\n\\t\\n\\]'\n",
    "# Brackets Remover\n",
    "BracketsRemover = ' \\((.*?)\\)'\n",
    "\n",
    "# Loop over the test set\n",
    "for BirdIDs in FreeBirds:\n",
    "    \n",
    "    browser.get(BOWpages[BirdIDs] + 'appearance')\n",
    "    SleepTime = random.randint(2, 6)\n",
    "    time.sleep(SleepTime)\n",
    "    \n",
    "    HTML = browser.page_source\n",
    "    soup = BeautifulSoup(HTML, 'html.parser')\n",
    "\n",
    "    # Bird name \n",
    "    if len(soup.title.text.split(' - ')) == 4:\n",
    "\n",
    "        BirdName = soup.title\\\n",
    "                        .text\\\n",
    "                        .split(' - ')[1]\\\n",
    "                        .lstrip()\n",
    "    else:\n",
    "        BirdName = soup.title\\\n",
    "                    .text\\\n",
    "                    .split(' - ')[0]\\\n",
    "                    .lstrip()\n",
    "\n",
    "    # Find all text data\n",
    "    Paragraphs = soup.find_all('p')\n",
    "\n",
    "    # Loop over the text\n",
    "    for Para in Paragraphs[1:]:\n",
    "        try:\n",
    "\n",
    "            # Check to which section the text belongs\n",
    "            SubSection = Para.find_previous_siblings()[0]\\\n",
    "                             .text\\\n",
    "                             .rstrip()\\\n",
    "                             .lstrip()\n",
    "\n",
    "            # Check to which section the text belongs\n",
    "            SubSubSection = Para.find_previous_siblings()[-1]\\\n",
    "                                 .text\\\n",
    "                                 .rstrip()\\\n",
    "                                 .lstrip()\n",
    "\n",
    "        # If a text does not have a header, skip    \n",
    "        except:\n",
    "            continue\n",
    "\n",
    "        if 'Formative' in SubSection:\n",
    "            continue\n",
    "        if 'Juvenile' in SubSection:\n",
    "            continue\n",
    "        if 'Immature' in SubSection:\n",
    "            continue\n",
    "\n",
    "        # See which are needed and append with 1\n",
    "        if SubSection == 'Identification' or\\\n",
    "           SubSection == 'Adult' or\\\n",
    "           SubSubSection == 'Plumages' or\\\n",
    "           SubSubSection == 'Bare Parts':\n",
    "\n",
    "            # Clean the text from references (NEEDS EDIT)    \n",
    "            TextCleaned = re.sub(ReferenceRemover1, '', Para.text, re.DOTALL)\n",
    "            TextCleaned = re.sub(ReferenceRemover2, '', TextCleaned, re.DOTALL)\n",
    "            TextCleaned = re.sub(BracketsRemover, '', TextCleaned)\n",
    "\n",
    "            # Drop useless short nonsense\n",
    "            if len(TextCleaned.split()) <2:\n",
    "                continue\n",
    "            else:\n",
    "                DataBOW[BirdName].append(tuple([1, TextCleaned]))\n",
    "\n",
    "        # Otherwise label 2        \n",
    "        else:\n",
    "            # Clean the text from references (NEEDS EDIT)    \n",
    "            TextCleaned = re.sub(ReferenceRemover1, '', Para.text, re.DOTALL)\n",
    "            TextCleaned = re.sub(ReferenceRemover2, '', TextCleaned, re.DOTALL)\n",
    "            TextCleaned = re.sub(BracketsRemover, '', TextCleaned)\n",
    "\n",
    "            # Drop useless short nonsense\n",
    "            if len(TextCleaned.split()) <2:\n",
    "                continue\n",
    "            else:\n",
    "                DataBOW[BirdName].append(tuple([0, TextCleaned]))"
   ]
  },
  {
   "cell_type": "code",
   "execution_count": 67,
   "id": "b0a5fe73-fb9c-41ad-b60e-c4b5ead43f76",
   "metadata": {},
   "outputs": [
    {
     "data": {
      "text/plain": [
       "[(0,\n",
       "  'You are currently viewing one of the free accounts available in our complimentary tour of Birds of the World. In this courtesy review, you can access all the life history articles and the multimedia galleries associated with this account.'),\n",
       " (0, 'For complete access to all accounts, a subscription is required.'),\n",
       " (0, 'Subscribe Now'),\n",
       " (1,\n",
       "  'Medium-sized barbet, smaller than Brown-headed Barbet, with which it overlaps, and from which it easily is distinguished by its conspicuous white cheek-stripe. Mostly a deep green color, brighter on the underparts. Crown is dark brown, with black between the base of the bill and the eye. Short white supercilium, and a broad white cheek patch that gives the species its English name. Throat whitish; the breast is brown and streaked with white. The bill is relatively short compared to that of Brown-headed Barbet, and is brownish pink in color, with prominent black bristles projecting forward from the base (1\\n\\tAli, S., and S. D. Ripley Handbook of the birds of India and Pakistan. Volume 4. Second edition. Oxford University Press, Delhi.\\n\\t\\n\\t\\tClose\\n\\t\\n, 2\\n\\tShort, L. L., and J. F. M. Horne Toucans, barbets and honeyguides. Oxford University Press, Oxford, United Kingdom.\\n\\t\\n\\t\\tClose\\n\\t\\n).'),\n",
       " (0,\n",
       "  'The only possible confusion within its range is with the Brown-headed Barbet. The latter generally prefers drier forests, but the two overlap extensively. White-cheeked Barbet is a much smaller bird than the Brown-headed, and possesses a higher-pitched call. The white cheek-stripe is diagnostic, and visible even at long distances ( 1\\n\\tAli, S., and S. D. Ripley Handbook of the birds of India and Pakistan. Volume 4. Second edition. Oxford University Press, Delhi.\\n\\t\\n\\t\\tClose\\n\\t\\n, 2\\n\\tShort, L. L., and J. F. M. Horne Toucans, barbets and honeyguides. Oxford University Press, Oxford, United Kingdom.\\n\\t\\n\\t\\tClose\\n\\t\\n).'),\n",
       " (1,\n",
       "  'Sexes alike. Dorsal surface of the head dark brown from forehead to nape, with yellow-green or grayish edges to feathers giving it a somewhat scaled appearance. Upper back to rump is a deep green with some yellow at the tips of feathers. Narrow white superciliary stripe, with a broader white stripe extending under the eye to the base of the ear, under the brown ear-coverts. Green tail with soot-colored feather shafts, and bluish sheen to the underside. Chin is white, fading to a grayish throat with white streaking, and then to a brown breast with broad white spots. These spots result from a broad white spot in the centre of each feather, narrowing towards the sides. Belly and vent are pale blue-green, and are of a considerably lighter shade than the back. Outer wing primaries brownish, inner primaries bright green. Underwing shades from yellowish at the base to grayish near the tip.      Dorsal view.    Frontal view.    Frontal view. \\n'),\n",
       " (0,\n",
       "  'Complete post-nuptial molt, but no spring molt. Worn birds are generally paler than fresh-plumaged birds.'),\n",
       " (1,\n",
       "  'Bill a pale brownish or flesh color, with more brown on the culmen and more gray toward the base, and a pinkish mouth lining. Long bristles extend outward from the base of the bill, but do not reach the bill tip.'),\n",
       " (1,\n",
       "  'Narrow black patch of orbital skin, and eyelids; the eyes themselves are brown.'),\n",
       " (1, 'The legs are gray-green to blue-gray, with brownish claws.'),\n",
       " (0, 'Measurements in Short and Horne:'),\n",
       " (0,\n",
       "  'Further measurements detailed below (3\\n\\tKrishnan, A., and K. Tamma Divergent morphological and acoustic traits in sympatric communities of Asian barbets. Royal Society Open Science 3: 160117.\\n\\n\\t\\tClose\\n\\t\\n):'),\n",
       " (0, '1 female weighed 84g, 16 unsexed individuals weighed from 71-90g.')]"
      ]
     },
     "execution_count": 67,
     "metadata": {},
     "output_type": "execute_result"
    }
   ],
   "source": [
    "DataBOW[BirdName]"
   ]
  },
  {
   "cell_type": "code",
   "execution_count": 68,
   "id": "aa6e9316-f9cc-42f1-b880-d0a6e97005f1",
   "metadata": {},
   "outputs": [],
   "source": [
    "with open('dataBOW.pkl', 'wb') as f:\n",
    "    pickle.dump(DataBOW, f)"
   ]
  },
  {
   "cell_type": "code",
   "execution_count": 60,
   "id": "4694a2a9-4e79-430a-9d89-06d70c4789eb",
   "metadata": {},
   "outputs": [
    {
     "data": {
      "text/plain": [
       "(1, '')"
      ]
     },
     "execution_count": 60,
     "metadata": {},
     "output_type": "execute_result"
    }
   ],
   "source": [
    "(1, TextCleaned)"
   ]
  },
  {
   "cell_type": "code",
   "execution_count": 61,
   "id": "95a8aef6-0092-42cf-93fc-bf0dfeff155d",
   "metadata": {},
   "outputs": [],
   "source": [
    "test = []"
   ]
  },
  {
   "cell_type": "code",
   "execution_count": 62,
   "id": "7a654171-3941-4fd8-9972-22786a138089",
   "metadata": {},
   "outputs": [],
   "source": [
    "test += (1, TextCleaned)"
   ]
  },
  {
   "cell_type": "code",
   "execution_count": 63,
   "id": "0fd34603-1df7-46d6-b60f-a2e69b524d60",
   "metadata": {},
   "outputs": [
    {
     "data": {
      "text/plain": [
       "[1, '']"
      ]
     },
     "execution_count": 63,
     "metadata": {},
     "output_type": "execute_result"
    }
   ],
   "source": [
    "test"
   ]
  },
  {
   "cell_type": "code",
   "execution_count": null,
   "id": "b13c5422-8247-4ac6-b69c-edd6803fa5fd",
   "metadata": {},
   "outputs": [],
   "source": []
  }
 ],
 "metadata": {
  "kernelspec": {
   "display_name": "Python 3",
   "language": "python",
   "name": "python3"
  },
  "language_info": {
   "codemirror_mode": {
    "name": "ipython",
    "version": 3
   },
   "file_extension": ".py",
   "mimetype": "text/x-python",
   "name": "python",
   "nbconvert_exporter": "python",
   "pygments_lexer": "ipython3",
   "version": "3.9.4"
  }
 },
 "nbformat": 4,
 "nbformat_minor": 5
}
