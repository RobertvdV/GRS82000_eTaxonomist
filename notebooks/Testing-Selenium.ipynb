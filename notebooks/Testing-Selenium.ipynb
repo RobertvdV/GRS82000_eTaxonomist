{
 "cells": [
  {
   "cell_type": "code",
   "execution_count": 1,
   "id": "a72d652b-e13c-4094-b988-7cf0bd52ed06",
   "metadata": {},
   "outputs": [],
   "source": [
    "from selenium import webdriver\n",
    "from bs4 import BeautifulSoup\n",
    "import requests\n",
    "import re\n",
    "import collections\n",
    "import pickle\n",
    "import time"
   ]
  },
  {
   "cell_type": "code",
   "execution_count": 2,
   "id": "143b149c-bd62-488f-9ccf-ea9c07da7488",
   "metadata": {},
   "outputs": [],
   "source": [
    "URL = 'https://birdsoftheworld.org/bow/specieslist'\n",
    "#URL = 'https://birdsoftheworld-org.ezproxy.library.wur.nl/bow/specieslist'\n",
    "page = requests.get(URL)\n",
    "soup = BeautifulSoup(page.content, 'html.parser')\n",
    "\n",
    "BOWlist = soup.find_all('a')\n",
    "\n",
    "URL = 'https://birdsoftheworld.org/bow/specieslist'\n",
    "#URL = 'https://birdsoftheworld-org.ezproxy.library.wur.nl/bow/specieslist'\n",
    "page = requests.get(URL)\n",
    "soup = BeautifulSoup(page.content, 'html.parser')\n",
    "\n",
    "# Create a list with links\n",
    "BOWpages = ['https://birdsoftheworld.org' + pages.get('href').replace('introduction', '') for pages in BOWlist \n",
    "                   if pages.get('href') != None\n",
    "                   if pages.get('href').startswith('/bow/species')]"
   ]
  },
  {
   "cell_type": "code",
   "execution_count": 30,
   "id": "59c1455c-afb4-447b-881e-d40a636d23e9",
   "metadata": {},
   "outputs": [
    {
     "data": {
      "text/plain": [
       "3100"
      ]
     },
     "execution_count": 30,
     "metadata": {},
     "output_type": "execute_result"
    }
   ],
   "source": [
    "BOWpages.index('https://birdsoftheworld.org/bow/species/dacgos1/cur/') "
   ]
  },
  {
   "cell_type": "code",
   "execution_count": 4,
   "id": "e5ccfa6e-3028-45c4-a123-b4b4340f8642",
   "metadata": {},
   "outputs": [],
   "source": [
    "# Init driver\n",
    "browser = webdriver.Safari()"
   ]
  },
  {
   "cell_type": "code",
   "execution_count": 5,
   "id": "aa1c255d-6ea0-461f-b35d-a12c8d14c32c",
   "metadata": {},
   "outputs": [],
   "source": [
    "# Login URL\n",
    "browser.get(\"https://secure.birds.cornell.edu/cassso/login?service=https%3A%2F%2Fbirdsoftheworld.org%2Flogin%2Fcas\")\n",
    "\n",
    "# Username\n",
    "username = browser.find_element_by_id(\"input-user-name\")\n",
    "username.clear()\n",
    "username.send_keys(\"RobertvdV\")\n",
    "\n",
    "# Password\n",
    "password = browser.find_element_by_name(\"password\")\n",
    "password.clear()\n",
    "password.send_keys(\"XXXXXXXXXX\")\n",
    "\n",
    "# Sign in\n",
    "SignIn = browser.find_element_by_id(\"form-submit\")\n",
    "SignIn.send_keys(u'\\ue007')"
   ]
  },
  {
   "cell_type": "code",
   "execution_count": 32,
   "id": "779e6e97-16a2-447b-97c2-c4cdda3b1ce3",
   "metadata": {},
   "outputs": [],
   "source": [
    "browser.get(BOWpages[10566] + 'appearance')\n",
    "time.sleep(2.5)\n"
   ]
  },
  {
   "cell_type": "code",
   "execution_count": 33,
   "id": "ff1dd0f4-57b0-4b60-b773-b65aaefadb3c",
   "metadata": {},
   "outputs": [],
   "source": [
    "HTML = browser.page_source\n",
    "soup = BeautifulSoup(HTML, 'html.parser')"
   ]
  },
  {
   "cell_type": "code",
   "execution_count": 34,
   "id": "859231e5-8c7a-4046-8663-a7dbf0e4c5d1",
   "metadata": {},
   "outputs": [],
   "source": [
    "# Init dict\n",
    "DataBOW = collections.defaultdict(list)\n",
    "\n",
    "# Reference Remover\n",
    "ReferenceRemover1 = ' \\(\\d+\\n\\t.+?\\n\\t\\n\\t\\tClose\\n\\t\\n\\)'\n",
    "ReferenceRemover2 = ' \\[\\d+\\n\\t.+?\\n\\t\\n\\t\\tClose\\n\\t\\n\\]'\n",
    "# Brackets Remover\n",
    "BracketsRemover = ' \\((.*?)\\)'\n",
    "\n",
    "# Bird name \n",
    "if len(soup.title.text.split(' - ')) == 4:\n",
    "\n",
    "    BirdName = soup.title\\\n",
    "                    .text\\\n",
    "                    .split(' - ')[1]\\\n",
    "                    .lstrip()\n",
    "else:\n",
    "    BirdName = soup.title\\\n",
    "                .text\\\n",
    "                .split(' - ')[0]\\\n",
    "                .lstrip()\n",
    "\n",
    "# Find all text data\n",
    "Paragraphs = soup.find_all('p')\n",
    "\n",
    "# Loop over the text\n",
    "for Para in Paragraphs[1:]:\n",
    "    try:\n",
    "        \n",
    "        # Check to which section the text belongs\n",
    "        SubSection = Para.find_previous_siblings()[0]\\\n",
    "                         .text\\\n",
    "                         .rstrip()\\\n",
    "                         .lstrip()\n",
    "        \n",
    "        # Check to which section the text belongs\n",
    "        SubSubSection = Para.find_previous_siblings()[-1]\\\n",
    "                             .text\\\n",
    "                             .rstrip()\\\n",
    "                             .lstrip()\n",
    "        \n",
    "    # If a text does not have a header, skip    \n",
    "    except:\n",
    "        continue\n",
    "    \n",
    "    if 'Formative' in SubSection:\n",
    "        continue\n",
    "    if 'Juvenile' in SubSection:\n",
    "        continue\n",
    "    \n",
    "    # See which are needed and append with 1\n",
    "    if SubSection == 'Identification' or\\\n",
    "       SubSection == 'Adult' or\\\n",
    "       SubSubSection == 'Plumages' or\\\n",
    "       SubSubSection == 'Bare Parts':\n",
    "          \n",
    "        # Clean the text from references (NEEDS EDIT)    \n",
    "        TextCleaned = re.sub(ReferenceRemover1, '', Para.text, re.DOTALL)\n",
    "        TextCleaned = re.sub(ReferenceRemover2, '', TextCleaned, re.DOTALL)\n",
    "        TextCleaned = re.sub(BracketsRemover, '', TextCleaned)\n",
    "        \n",
    "        # Drop useless short nonsense\n",
    "        if len(TextCleaned.split()) <2:\n",
    "            continue\n",
    "        else:\n",
    "            DataBOW[BirdName] += (1, TextCleaned)\n",
    "            \n",
    "    # Otherwise label 2        \n",
    "    else:\n",
    "        # Clean the text from references (NEEDS EDIT)    \n",
    "        TextCleaned = re.sub(ReferenceRemover1, '', Para.text, re.DOTALL)\n",
    "        TextCleaned = re.sub(ReferenceRemover2, '', TextCleaned, re.DOTALL)\n",
    "        TextCleaned = re.sub(BracketsRemover, '', TextCleaned)\n",
    "        \n",
    "        # Drop useless short nonsense\n",
    "        if len(TextCleaned.split()) <2:\n",
    "            continue\n",
    "        else:\n",
    "            DataBOW[BirdName] += (0, TextCleaned)"
   ]
  },
  {
   "cell_type": "code",
   "execution_count": 35,
   "id": "08ade1d7-d450-40ac-b82c-b67979c6db65",
   "metadata": {},
   "outputs": [
    {
     "data": {
      "text/plain": [
       "defaultdict(list,\n",
       "            {'Northern Cardinal': [0,\n",
       "              'You are currently viewing one of the free accounts available in our complimentary tour of Birds of the World. In this courtesy review, you can access all the life history articles and the multimedia galleries associated with this account.',\n",
       "              0,\n",
       "              'For complete access to all accounts, a subscription is required.',\n",
       "              0,\n",
       "              'Subscribe Now',\n",
       "              1,\n",
       "              'Medium-sized songbird; length of C. c. cardinalis, male 22.2–23.5 cm, female 20.9–21.6 cm. Average mass of C. c. cardinalis 42–48 g, though there appears to be variation with geographic location and time of year. Plumage distinctive—adult male in Definitive Basic is red with black face mask surrounding bill; female in Definitive Basic is grayish tan, with some red on wings, tail, crest, face, and breast, red to red-orange underwings, and pale gray to black face mask. Both sexes have a prominent crest and heavy conical orange-red bill. Juvenile similar to female, but has gray to black bill, shorter crest, less red coloration on the body, and more loosely textured feathers. Males and females gain definitive-like plumage in their first year, though many first-year individuals can still be distinguished by retained juvenile primaries, secondaries, and/or rectrices. Males in introduced Hawaiian population can appear duller than mainland birds, but not quantified.',\n",
       "              0,\n",
       "              'The combination of plumage color, crest, and orange-red conical bill distinguish the Northern Cardinal from all other species within its range, except the Pyrrhuloxia of the southwestern United States and Mexico. In all plumages, Pyrrhuloxia is distinguished from female and juvenile Northern Cardinal by a shorter bill with a conspicuously decurved upper mandible. Additionally, Pyrrhuloxia plumage is grayer, versus browner in female Northern Cardinal, and male Pyrrhuloxia has a red patch around the base of the bill and variable red coloration down the center of the underparts.',\n",
       "              1,\n",
       "              'Northern Cardinal has 9 functional primaries, 9 secondaries, and 12 rectrices. Geographic variation in appearance is moderate. The following plumage descriptions pertain to the northern subspecies C. c. cardinalis; see Systematics: Geographic Variation for variation in 17 other recognized subspecies in the southern United States, Mexico, and Central America.',\n",
       "              1,\n",
       "              'Sexes are similar in Juvenile Plumage but differ in subsequent plumages; definitive appearance assumed by Second Basic Plumage, although some birds attain definitive-like appearance in Formative Plumage. The following descriptions are based primarily on specimen examination and detailed plumage descriptions from Ridgway, Bent, Oberholser, and Yen; see Scott, Wiseman (65\\n\\tWiseman, A. J.. Ageing cardinals by juvenal secondaries and secondary coverts. Inland Bird Banding News 40: 172–173.\\n\\t\\n\\t\\tClose\\n\\t\\n, 47\\n\\tWiseman, A. J.. Interrelation of variables in postjuvenal molt of Cardinals. Bird-Banding 48: 206–223.\\n\\t\\n\\t\\tClose\\n\\t\\n) and Pyle for age-related criteria.',\n",
       "              1,\n",
       "              'Present March–August; wide spread in timing here and in other stages linked to a long breeding season with multiple nestings. Hatchlings partially covered with gray down, 6–11 mm long, on coronal, occipital, middorsal, pelvic, scapular, femoral, and greater secondary-covert and median secondary-covert regions at hatching.      Northern Cardinal hatchlings at about 1–2 days old, with natal down.    Northern Cardinal nestlings at about 7–8 days old, with wing feathers bursting from sheaths. \\n',\n",
       "              1,\n",
       "              'Present in birds in their second autumn and beyond, primarily from September to the following August. Newly molted contour feathers of back and neck tipped with gray; by late winter or early spring, feather-tips are worn off and plumage attains maximum coloration (62\\n\\tBent, A. C.. Life histories of North American cardinals, grosbeaks, towhees, finches, sparrows, and allies. United States National Museum Bulletin 237.\\n\\t\\n\\t\\tClose\\n\\t\\n, JMJ).',\n",
       "              1,\n",
       "              'Female. Upperparts plain grayish olive or buffy grayish; head with conspicuous crest, variably red to tipped red. Face mask variable: large and dark, much like that of male, to dull grayish, smaller and less distinct than that of male; sometimes nearly white on throat. Upperwing greater coverts and secondaries duller red than primaries and rectrices; duller than those of male. Underparts pale fulvous or buffy, but some individuals can show nearly white coloration on abdomen. Plumage often with small numbers of red or red-tinged feathers above eye, and among auriculars and feathers of the upper breast and flanks. Underwing secondary coverts light orange to light red    \\n\\n; in Ohio, female underwing coverts ranged from 8.75 R 4/16 to 10 R 6/13 on Munsell Color Scale. In Mississippi, reflectance measures of underwing plumage from color reflectance spectrometer peak in the 600–700 nm range.      Definitive Basic female Northern Cardinal.    Presumed Definitive Basic female Northern Cardinal.    Definitive Basic female Northern Cardinal showing a large and dark melanin-based face mask.    Female Northern Cardinal in flight. +1\\n',\n",
       "              1,\n",
       "              'Male. Plumage primarily vermilion red, with black face mask that surrounds bill, extends back to eye, and covers chin and throat. Head with conspicuous crest. Red brightest on auricular region, cheeks, and breast. Upperwing greater coverts and secondaries duller red than primaries and rectrices. Contour feathers of back and neck have olive-gray margins that wear away by early spring; tertials and rectrices may also have olive-grayish margins, and flanks include grayish feathers. Rump and uppertail coverts not distinctly lighter in color than back, crest duller red than breast. Underwing secondary coverts as in female. In Ohio, male red breast color ranged from 7.5 R 4/16 to 8.75 R 5/16 on the Munsell Color Scale. In Mississippi, highest reflectance measures of red upper-breast plumage from color reflectance spectrometer data peak in the 620–750 nm range.      Definitive Basic male Northern Cardinal.    Definitive Basic male Northern Cardinal.    Definitive Basic male Northern Cardinal showing extent of melanin-based face mask from the front.    Gray tips on dorsal feathers of male in early March.    Definitive Basic male Northern Cardinal in late May.    Definitive Basic male Northern Cardinal in late November. +3\\n',\n",
       "              1,\n",
       "              'Individuals in Definitive Basic Plumage are separated from most individuals in Formative Plumage by lack of molt limits or contrasts among feathers of the upperwing coverts and among flight feathers of the wing and tail. Rather, the definitive basic upperwing coverts and flight feathers of the wing and tail are uniformly red to reddish, without contrasting worn, narrow, or brownish-tinged feathers. After complete Preformative Molt, birds in Formative plumage are usually indistinguishable from Definitive Basic Plumage adults by plumage.',\n",
       "              1,\n",
       "              'Carotenoid pigments are important components in the plumage of many birds. Red and orange colors in Northern Cardinal result from deposition of carotenoid pigments: canthaxanthin, astaxanthin, phoenicoxanthin, α-doradexanthin, e, e-carotene-3,3´-dione, adonirubin, and 3 unidentified carotenoid pigments (71\\n\\tHudon, J.. Unusual carotenoid use by the Western Tanager and its evolutionary implications. Canadian Journal of Zoology 69: 2311–2320.\\n\\t\\n\\t\\tClose\\n\\t\\n, 72\\n\\tMcGraw, K. J., G. E. Hill, and R. S. Parker. Carotenoid pigments in a mutant Cardinal: implications for the genetic and enzymatic control mechanisms of carotenoid metabolism in birds. Condor 105: 587–592.\\n\\t\\n\\t\\tClose\\n\\t\\n). A male cardinal showing yellow coloration over the whole body had no red carotenoid pigments identified in its plumage, only yellow carotenoid pigments: lutein, 3’-dehydrolutein, canary-xanthophyll B, and canary-xanthophyll A. McGraw et al. suggested the individual might have lacked enzymes necessary for conversion of yellow carotenoids to red forms. McGraw et al. fed captive male cardinals a seed diet that they determined contained only the carotenoids lutein, zeaxanthin, β-cryptoxanthin and β-carotene. Carotenoids in the feathers grown by these males included α-doradexanthin, astaxanthin, canthaxanthin, and adonirubin. The authors noted that breast feathers grown by males in captivity were less densely pigmented than those of wild caught males (73\\n\\tMcGraw, K. J., G. E. Hill, R. Stradi, and R. S. Parker. The influence of carotenoid acquisition and utilization on the maintenance of species-typical plumage pigmentation in male American Goldfinches and Northern Cardinals. Physiological and Biochemical Zoology 74(6): 843–852.\\n\\t\\n\\t\\tClose\\n\\t\\n, 74\\n\\tMcGraw, K. J., and G. E. Hill. Carotenoid access and intraspecific variation in plumage pigmentation in male American Goldfinches and Northern Cardinals. Functional Ecology 15(6): 732–739.\\n\\t\\n\\t\\tClose\\n\\t\\n). This work shows that cardinals are able to enzymatically alter carotenoids obtained from their diet prior to deposition into feathers; however, the underlying physiological and enzymatic contributions to the range of differences in individual coloration reported among adults of both sexes (e.g., 75\\n\\tLinville, S. U.. Sexual selection and plumage ornamentation in a socially monogamous passerine, the Northern Cardinal. Ph.D. dissertation, University of Dayton, Dayton, OH, USA.\\n\\t\\n\\t\\tClose\\n\\t\\n, 76\\n\\tWolfenbarger, L. L.. Red coloration of male northern cardinals correlates with mate quality and territory quality. Behavioral Ecology 10: 80–90.\\n\\t\\n\\t\\tClose\\n\\t\\n, 77\\n\\tWolfenbarger, L. L.. Is red coloration of male Northern Cardinals beneficial during the nonbreeding season?: A test of status signaling. Condor 101(3): 655–663.\\n\\t\\n\\t\\tClose\\n\\t\\n, 78\\n\\tWolfenbarger, L. L.. Female mate choice in Northern Cardinals: Is there a preference for redder males? Wilson Bulletin 111(1): 76–83.\\n\\t\\n\\t\\tClose\\n\\t\\n) remain to be studied.',\n",
       "              1,\n",
       "              'The black face mask in both sexes is melanin-based coloration, a pigment type that is independent of diet. In a Mississippi population, male and female testosterone levels were measured through the molt period in captive individuals and it was found that females with higher average testosterone throughout the molt period grew darker face mask feathers. This association did not hold for males.',\n",
       "              1,\n",
       "              'Assessment of carotenoid-based plumage for ultraviolet reflectance has not found significant ultraviolet signatures in either sex; melanin-based plumage needs to be assessed for ultraviolet signatures.',\n",
       "              1,\n",
       "              'Individuals having a mix of male and female plumage infrequently reported from across the species range. See    \\n\\n for an example of mixed plumage; the pictured individual, apparently female, was initially thought to be male, but was captured when flushed from a nest where it appeared to be incubating eggs. This bird had an incubation patch, and the nest produced 3 fledglings, fed by both this individual and its social mate, a male with definitive male coloration. Older females of many bird species can obtain male-like plumage as androgen levels decline with age resulting in greater hormonal effects of testosterone. Other individuals, potentially bilateral gynandromorphs, have been reported with red on one side and gray-olive on the other (80\\n\\tLaskey, A. R.. Bilaterial gynandrism in a Cardinal and a Rufous-sided Towhee. Auk 86: 760.\\n\\t\\n\\t\\tClose\\n\\t\\n, 81\\n\\tPeer, B. D., and R. W. Motz. Observations of a bilateral gynandromorph Northern Cardinal. Wilson Journal of Ornithology 126: 778–781.\\n\\t\\n\\t\\tClose\\n\\t\\n, 82\\n\\tJones, A. W., and H. T. Bartlett. A bilateral gynandromorph Northern Cardinal from South Bass Island. Ohio Biological Survey Notes 7: 14–16.\\n\\t\\n\\t\\tClose\\n\\t\\n, 83\\n\\tTumlison, R., D. B. Sasse, H. W. Robison, M. B. Connior, C. T. McCallister, K. Jobe, and M. Anderson. Vertebrate natural history notes from Arkansas, 2018. Journal of the Arkansas Academy of Science 72.\\n\\t\\n\\t\\tClose\\n\\t\\n)   \\n\\t\\t\\t\\t5\\n\\t\\t\\t \\n\\n; development and fertility of potential gynandromorphs needs additional assessment in this and other avian species. Also reported are leucistic and partially leucistic individuals (e.g., 84\\n\\tHartman, F. E.. White-headed Cardinal. Bird-Banding 39: 57.\\n\\t\\n\\t\\tClose\\n\\t\\n, SUL)   \\n\\t\\t\\t\\t3\\n\\t\\t\\t \\n\\n, a non-phaeomelanic individual   \\n\\t\\t\\t\\t2\\n\\t\\t\\t \\n\\n, non-eumelanic individuals   \\n\\t\\t\\t\\t3\\n\\t\\t\\t \\n\\n, completely yellow individuals (72\\n\\tMcGraw, K. J., G. E. Hill, and R. S. Parker. Carotenoid pigments in a mutant Cardinal: implications for the genetic and enzymatic control mechanisms of carotenoid metabolism in birds. Condor 105: 587–592.\\n\\t\\n\\t\\tClose\\n\\t\\n, 85\\n\\tWinstead, N. A.. Aberrantly-colored yellow Northern Cardinals. Mississippi Kite 47: 40–43.\\n\\t\\n\\t\\tClose\\n\\t\\n, also in Alabama and Georgia in 2018, and Florida in 2019)   \\n\\t\\t\\t\\t2\\n\\t\\t\\t \\n\\n, a dilute individual    \\n\\n, and a melanistic male with a black head. One rare instance of a banded female that obtained male plumage color in year 5 among 8 years of recapture; she returned to female color in year 6.',\n",
       "              0,\n",
       "              'Molt and plumage terminology follows Humphrey and Parkes, as modified by Howell et al. (68\\n\\tHowell, S. N. G., C. Corben, P. Pyle, and D. I. Rogers. The first basic problem: a review of molt and plumage homologies. Condor 105: 635–653.\\n\\t\\n\\t\\tClose\\n\\t\\n, 88\\n\\tHowell, S. N. G., C. Corben, P. Pyle, and D. I. Rogers. The first basic problem revisited: Reply to commentaries on Howell et al.. Condor 106: 206–210.\\n\\t\\n\\t\\tClose\\n\\t\\n). Northern Cardinal exhibits a Complex Basic Strategy (cf. 68\\n\\tHowell, S. N. G., C. Corben, P. Pyle, and D. I. Rogers. The first basic problem: a review of molt and plumage homologies. Condor 105: 635–653.\\n\\t\\n\\t\\tClose\\n\\t\\n, 89\\n\\tHowell, S. N. G.. Peterson Reference Guide to Molt in North American Birds. Houghton Mifflin Harcourt Company, Boston, MA, USA.\\n\\t\\n\\t\\tClose\\n\\t\\n), including complete prebasic molts, an absent-to-limited auxiliary preformative molt (90\\n\\tSutton, G. M.. The juvenal plumage and postjuvenal molt in several species of Michigan sparrows. Cranbrook Institute of Science Bulletin 3. Bloomfield Hills, MI, USA.\\n\\t\\n\\t\\tClose\\n\\t\\n, 48\\n\\tThompson, C. W., and M. Leu. Determining homology of molts and plumages to address evolutionary questions: A rejoinder regarding emberizid finches. Condor 96: 769–782.\\n\\t\\n\\t\\tClose\\n\\t\\n), and a partial-to-complete preformative molt but no prealternate molts (91\\n\\tStone, W.. The molting of birds with special reference to the plumages of smaller land birds of eastern North America. Proceedings of the Academy of Natural Sciences of Philadelphia 43: 108–164.\\n\\t\\n\\t\\tClose\\n\\t\\n, 92\\n\\tDwight, J., Jr.. The sequence of plumages and moults of the passerine birds of New York. Annals of the New York Academy of Sciences 13: 73–360.\\n\\t\\n\\t\\tClose\\n\\t\\n, 46\\n\\tScott, D. M.. Postjuvenal molt and determination of age of the Cardinal. Bird-Banding 38: 37–51.\\n\\t\\n\\t\\tClose\\n\\t\\n, 93\\n\\tBlake, C. H.. Primary molt in juvenile Cardinals. Bird-Banding 42: 269–274.\\n\\t\\n\\t\\tClose\\n\\t\\n, 94\\n\\tReese, J. G.. Fall remix and rectrix molt in the Cardinal. Bird-Banding 46: 305–310.\\n\\t\\n\\t\\tClose\\n\\t\\n, 63\\n\\tOberholser, H. C.. The Bird Life of Texas. University of Texas Press, Austin, TX, USA.\\n\\t\\n\\t\\tClose\\n\\t\\n, 66\\n\\tPyle, P.. Identification Guide to North American Birds, Part I: Columbidae to Ploceidae. Slate Creek Press, Bolinas, CA, USA.\\n\\t\\n\\t\\tClose\\n\\t\\n, 95\\n\\tPyle, P.. Molt limits in North American passerines. North American Bird Bander 22: 49–89.\\n\\t\\n\\t\\tClose\\n\\t\\n; Figure 1). During molt, patches of old feathers may remain loosely attached.   \\n\\t\\t\\t\\t2\\n\\t\\t\\t \\n',\n",
       "              0,\n",
       "              '\"Molt\" refers to Definitive Prebasic Molt. Dispersal timing based upon Ohio data. Breeding based on Tennessee data. \"Young\" ring shows period from hatching through fledging. \"Migration\" ring is here being used to show dispersal. See Dow and Scott for times of dispersal movements in other areas. Thick lines show peak activity; thin lines, off-peak.',\n",
       "              0,\n",
       "              '\\n\\nGeographic variation in average timing and extent of molts likely occurs with latitude of breeding through Mexico and Central America, as a response to variation in environmental constraints, day-length regimes, and breeding seasonality; the Preformative Molt may be more extensive within southern United States populations than in northern populations (66\\n\\tPyle, P.. Identification Guide to North American Birds, Part I: Columbidae to Ploceidae. Slate Creek Press, Bolinas, CA, USA.\\n\\t\\n\\t\\tClose\\n\\t\\n, 95\\n\\tPyle, P.. Molt limits in North American passerines. North American Bird Bander 22: 49–89.\\n\\t\\n\\t\\tClose\\n\\t\\n), though confirmation needed.',\n",
       "              0,\n",
       "              'Complete, primarily April–July, in and near the nest. From Kinser: Tips of primary quills emerge on day 1. Ventral tract evident on day 2 as white lines along sides of abdomen. Ventral cervical and upper abdominal regions, and femoral and humeral tracts, are apparent on day 3. Upperwing greater and median secondary coverts, crural tract, and occipital region visible on day 4. All feathers completely sheathed on day 5, and begin to break open on day 6. By day 7, primaries are 35 mm long and partly sheathed; free from sheaths by day 8. From Wiseman: Remiges fully formed in 4 weeks; rectrices erupt about day 7 and mature in 6 weeks; contour feathers develop in irregular patterns within each tract.',\n",
       "              0,\n",
       "              '\"Presupplemental Molt\" of Thompson and Leu; see revisions by Howell et al.. Limited or partial, likely sometimes absent altogether, primarily May–September. This molt first described in Northern Cardinal and some sparrows by Sutton. On the basis of > 200 museum skins from across the United States: While in the nest or soon after fledging, all or most of body plumage is replaced except for some upperwing secondary coverts; completed within 2 weeks. Molt begins late May to late September and finishes mid-June to early October. Molt likely can be absent in some birds that fledge late, juvenile feathers being directly replaced by formative feathers. Further study is needed on this molt in the Northern Cardinal and in birds in general, as it can be difficult to trace each follicle for activation once or twice during the post-fledging period.',\n",
       "              0,\n",
       "              '\"First Prebasic\" or \"Prebasic I\" molt of Humphrey and Parkes and some subsequent authors; see revision by Howell et al.. Partial to complete, primarily June–November. Timing and completion of Preformative Molt is variable. Birds hatching in May experience a greater temporal gap between Auxiliary Preformative and Preformative Molt; later-hatching individuals maintain shorter gaps, until those hatching in July have no temporal gap or may skip Auxiliary Preformative molt. Birds hatching after July undergo partial molt; August hatchlings retain all rectrices and some secondaries, September hatchlings replace only a few flight-feathers (46\\n\\tScott, D. M.. Postjuvenal molt and determination of age of the Cardinal. Bird-Banding 38: 37–51.\\n\\t\\n\\t\\tClose\\n\\t\\n, 93\\n\\tBlake, C. H.. Primary molt in juvenile Cardinals. Bird-Banding 42: 269–274.\\n\\t\\n\\t\\tClose\\n\\t\\n, 94\\n\\tReese, J. G.. Fall remix and rectrix molt in the Cardinal. Bird-Banding 46: 305–310.\\n\\t\\n\\t\\tClose\\n\\t\\n). Sequence of flight-feather replacement as described under Definitive Prebasic Molt. Of 196 juveniles from Ohio and Kentucky, 58% completed molt of all feathers, 23% retained some rectrices, 12% retained all rectrices and some secondaries, and 7% retained all or most flight-feathers. In a sample of museum skins from across the United States, 79% replaced all primaries, 56% all rectrices, and 19% all secondaries. By winter, birds with complete molt are usually indistinguishable from adults.   \\n',\n",
       "              0,\n",
       "              'Complete molt of adults, primarily July–October, on or near breeding territories. Northern Cardinals show an unusually low proportion of breeding birds captured molting at MAPS stations. Low capture rates of molting cardinals could be due to the reclusive behavior of molting cardinals; Pyle et al. suggested the alternate hypothesis that cardinals might disperse from breeding territories for the molting period, but we have found no direct evidence for this in the populations we have studied. In Maryland, the prebasic molt of remiges is completed in most birds during October and a few in early November. Induced rectrix growth was influenced by ambient temperature as well as seasonal cues in adults. Growth bars visible in rectrices at angle of 77° to proximal rachis; growth bar width on tail feathers not found to covary with plumage color in either sex.',\n",
       "              0,\n",
       "              'Primaries replaced distally, secondaries replaced proximally from s1, and proximally and distally from the central tertial, and rectrices replaced distally on each side of tail, with some variation in sequence possible. Primarily from Wiseman: Molt begins in three general regions: all median secondary coverts, small number of feathers in anterior scapular region, and feathers in middle rows of ventral tract on upper breast; head and body feathers molt in irregular patterns and numbers, dorsal feathers first, lateral and ventral feathers later (  \\n\\t\\t\\t\\t2\\n\\t\\t\\t \\n\\n). P1 drops a few days after body molt begins, followed by other primaries at weekly intervals in serial order. Loss of s1, s8, and r1 usually associated with growth of p4; s1 may drop before p4 or it may not drop until p4 is fully grown and p5 is partially grown. S1–s6 replaced in sequential order, proximally; tertials usually molt in order s8-s9-s7 and grow rapidly, becoming fully developed before s1–s3 are dropped. Rectrices are replaced in order, distally and rapidly, and are completed before primaries; r5 and r6 are completed last.',\n",
       "              1,\n",
       "              'Gape of nestlings is red-orange; the yellow edge on the mandibles is useful in discriminating nestling cardinals from Brown-headed Cowbird nestlings in eastern and central populations. Bill of nestlings and juveniles is gray to black, but gradually becomes orange; dark areas of bill coloration may persist to at least January. Laskey (100\\n\\tLaskey, A. R.. A study of the Cardinal in Tennessee. Wilson Bulletin 56: 27–44.\\n\\t\\n\\t\\tClose\\n\\t\\n: 31) reported that nestling bill changes to adult color in 65–80 days, though some retain a 1 mm dark upper mandible tip for “several months”. Both males and females have orange-red bills as adults.',\n",
       "              1,\n",
       "              \"The orange-red bill, surrounded by the dark face mask, could provide an aposematic warning or reminder of the cardinal's ability to deliver a painful bite.\",\n",
       "              1,\n",
       "              'Iris is deep brown, sometimes appearing black.',\n",
       "              1,\n",
       "              'Medium brown, sometimes pinkish or orangish.',\n",
       "              0,\n",
       "              'See Systematics and Appendix 1.',\n",
       "              0,\n",
       "              'Males average larger than females in total length, as well as length of wing, tail, and bill, but ranges of values show considerable overlap between the sexes. Sgueo and Sgueo et al. found no differences in linear measurements in winter and summer individuals in a southwestern Ohio population. No obvious latitudinal trends among subspecies.',\n",
       "              0,\n",
       "              \"Miller et al. assessed a composite measure of bill size from 605 museum specimens collected over 85 years across the species' range in the United States. They found that males have larger bills than females, though bill sizes of both sexes showed extensive variation, with considerable overlap between sexes. For information on environmental correlates of bill size, see Systematics: Geographic Variation.\",\n",
       "              0,\n",
       "              'Mass varies throughout year; highest values October–April in Ohio, October–February in Tennessee, and February in Indiana (102\\n\\tSgueo, C., M. E. Wells, D. E. Russell, and P. J. Schaeffer. Acclimatization of seasonal energetics in Northern Cardinals through plasticity of metabolic rates and ceilings. Journal of Experimental Biology 215: 2418–2424.\\n\\t\\n\\t\\tClose\\n\\t\\n, 100\\n\\tLaskey, A. R.. A study of the Cardinal in Tennessee. Wilson Bulletin 56: 27–44.\\n\\t\\n\\t\\tClose\\n\\t\\n, 104\\n\\tRogers, C. M., and C. J. Rogers. Seasonal variation in daily mass amplitude and minimum body mass: A test of a recent model. Ornis Scandinavica 21: 105–114.\\n\\t\\n\\t\\tClose\\n\\t\\n). Note, avian mass can vary throughout the day as well as the year, and without information on time of day or season when mass was measured, comparisons are problematic, including for some of the presented data. No clear trend of either sex being more massive; in Tennessee, average male mass 45.1 g, average female mass 43.0 g (n = 98; 100\\n\\tLaskey, A. R.. A study of the Cardinal in Tennessee. Wilson Bulletin 56: 27–44.\\n\\t\\n\\t\\tClose\\n\\t\\n); however, females were on average more massive than males in southern Indiana, western Ohio, and south-central Wisconsin. Sgueo et al. found higher body mass in non-breeding season individuals in a southwestern Ohio population than in breeding season individuals; sex ratios for each sampling period not reported. This mass difference was attributed to significantly higher fat scores observed in nonbreeding individuals, as Sgueo et al. found no difference in pectoralis muscle mass between breeding and nonbreeding individuals.']})"
      ]
     },
     "execution_count": 35,
     "metadata": {},
     "output_type": "execute_result"
    }
   ],
   "source": [
    "DataBOW"
   ]
  },
  {
   "cell_type": "code",
   "execution_count": 22,
   "id": "2cde38b0-41ea-447d-89bd-b852dcbd7b20",
   "metadata": {},
   "outputs": [
    {
     "data": {
      "text/plain": [
       "'Northern Cardinal'"
      ]
     },
     "execution_count": 22,
     "metadata": {},
     "output_type": "execute_result"
    }
   ],
   "source": [
    "BirdName"
   ]
  },
  {
   "cell_type": "code",
   "execution_count": 16,
   "id": "fd1af110-8969-4234-8e63-54717019b476",
   "metadata": {},
   "outputs": [
    {
     "data": {
      "text/plain": [
       "['\\t \\n\\t    Spotted Eagle-Owl',\n",
       " 'Bubo africanus',\n",
       " '\\n\\t             Birds of the World']"
      ]
     },
     "execution_count": 16,
     "metadata": {},
     "output_type": "execute_result"
    }
   ],
   "source": [
    "soup.title.text.split(' - ')"
   ]
  },
  {
   "cell_type": "code",
   "execution_count": 24,
   "id": "ccddf251-22ed-48ec-a6e3-6dbf4c015c07",
   "metadata": {},
   "outputs": [
    {
     "data": {
      "text/plain": [
       "4"
      ]
     },
     "execution_count": 24,
     "metadata": {},
     "output_type": "execute_result"
    }
   ],
   "source": [
    "len(soup.title.text.split(' - '))"
   ]
  },
  {
   "cell_type": "code",
   "execution_count": null,
   "id": "03a9220d-89c3-49bc-b93c-a40c5bd7d0c4",
   "metadata": {},
   "outputs": [],
   "source": []
  }
 ],
 "metadata": {
  "kernelspec": {
   "display_name": "Python 3",
   "language": "python",
   "name": "python3"
  },
  "language_info": {
   "codemirror_mode": {
    "name": "ipython",
    "version": 3
   },
   "file_extension": ".py",
   "mimetype": "text/x-python",
   "name": "python",
   "nbconvert_exporter": "python",
   "pygments_lexer": "ipython3",
   "version": "3.9.4"
  }
 },
 "nbformat": 4,
 "nbformat_minor": 5
}
