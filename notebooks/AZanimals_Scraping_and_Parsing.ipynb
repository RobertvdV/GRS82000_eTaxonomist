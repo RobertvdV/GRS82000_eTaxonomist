{
 "cells": [
  {
   "cell_type": "code",
   "execution_count": 1,
   "id": "81530565-19c5-46e3-8a35-7a3e1ab842f8",
   "metadata": {},
   "outputs": [],
   "source": [
    "from bs4 import BeautifulSoup\n",
    "import requests\n",
    "import re\n",
    "import collections\n",
    "import pickle"
   ]
  },
  {
   "cell_type": "code",
   "execution_count": 2,
   "id": "edd79668-57ce-4b9d-b3b9-38330512659b",
   "metadata": {},
   "outputs": [],
   "source": [
    "# init dict\n",
    "Data = collections.defaultdict(list)"
   ]
  },
  {
   "cell_type": "code",
   "execution_count": 3,
   "id": "c3551733-1de6-40f2-98d8-333a2ee6ea0d",
   "metadata": {},
   "outputs": [],
   "source": [
    "URL = 'https://a-z-animals.com/animals/'\n",
    "page = requests.get(URL)\n",
    "soup = BeautifulSoup(page.content, 'html.parser')\n",
    "\n",
    "# Finds all links\n",
    "Animals = soup.find_all('a')\n",
    "\n",
    "# Create a list with links\n",
    "AnimalsA_Zpages = [pages.get('href') for pages in Animals \n",
    "                   if pages.get('href') != None\n",
    "                   if pages.get('href').startswith('https://a-z-animals.com')]"
   ]
  },
  {
   "cell_type": "code",
   "execution_count": 4,
   "id": "2854e86e-5dc7-4b01-a3ac-0cfe8ca7ad21",
   "metadata": {},
   "outputs": [],
   "source": [
    "# Removes references in text\n",
    "ReferenceRemover = '\\[\\d*\\]'\n",
    "\n",
    "for AnimalPage in AnimalsA_Zpages[0:50]:\n",
    "    \n",
    "    # Open the page\n",
    "    page = requests.get(AnimalPage, timeout=5)\n",
    "    soup = BeautifulSoup(page.content, 'html.parser')\n",
    "    \n",
    "    for Tags in soup.find_all('h2'):\n",
    "\n",
    "        # Get the chapters\n",
    "        try:\n",
    "            Chapter = Tags['id']\n",
    "        # skip other stuff\n",
    "        except:\n",
    "            continue\n",
    "\n",
    "        # Finds descriptions or similar\n",
    "        if Chapter.endswith('appearance'):\n",
    "            \n",
    "            '''\n",
    "            # Get species name\n",
    "            Species = soup.title\\\n",
    "                            .string\\\n",
    "                            .split(' Animal')[0]\\\n",
    "                            .lower()\\\n",
    "                            .capitalize()\n",
    "            '''\n",
    "            \n",
    "            # Get species name\n",
    "            Species = soup.find('h1').text\\\n",
    "                                        .lower()\\\n",
    "                                        .capitalize()\n",
    "\n",
    "\n",
    "            # Get the next sibling (text)\n",
    "            for Text in Tags.find_next_siblings('p'):\n",
    "\n",
    "                # Add description data to dict\n",
    "                if Chapter in Text.find_previous_siblings('h2')[0]['id']:\n",
    "                    # Remove source\n",
    "                    Paragraph = re.sub(ReferenceRemover, '', Text.text)\n",
    "                    # Add to dict\n",
    "                    Data[Species].append(tuple([1, Paragraph]))\n",
    "                    \n",
    "                    # Split into Sentences\n",
    "                    #SentenceList = Paragraph.split('. ')\n",
    "                    # Add to the dict\n",
    "                    #Data[Species] += [(1, Sentence) for Sentence in SentenceList]\n",
    "          \n",
    "                # Add non description data to dict\n",
    "                elif Chapter not in Text.find_previous_siblings('h2')[0]['id']:\n",
    "                    # Remove source\n",
    "                    Paragraph = re.sub(ReferenceRemover, '', Text.text)\n",
    "                    # Add to dict\n",
    "                    Data[Species].append(tuple([0, Paragraph]))\n",
    "                    \n",
    "                    # Split into Sentences\n",
    "                    #SentenceList = Paragraph.split('. ')\n",
    "                    # Add to the dict\n",
    "                    #Data[Species] += [(0, Sentence) for Sentence in SentenceList]"
   ]
  },
  {
   "cell_type": "code",
   "execution_count": 5,
   "id": "99d17d2e-7735-409c-a411-09a03df65045",
   "metadata": {},
   "outputs": [],
   "source": [
    "with open('../data/processed/dataAZ_withMeasurements.pkl', 'wb') as f:\n",
    "    pickle.dump(Data, f)"
   ]
  },
  {
   "cell_type": "code",
   "execution_count": 5,
   "id": "ff4c4b05-89f1-4269-903d-cfd229743a4c",
   "metadata": {},
   "outputs": [
    {
     "data": {
      "text/plain": [
       "12"
      ]
     },
     "execution_count": 5,
     "metadata": {},
     "output_type": "execute_result"
    }
   ],
   "source": [
    "len(Data.keys())"
   ]
  },
  {
   "cell_type": "code",
   "execution_count": 7,
   "id": "1f3da05e-c171-4c6b-b846-03bcd356e67d",
   "metadata": {},
   "outputs": [
    {
     "data": {
      "text/plain": [
       "[(1,\n",
       "  'Alligators are very large reptiles, with males growing up to 4.5 meters in length. The female Alligator tends to be slightly smaller, with a total body and tail length of between 3 and 3.5 meters. The Chinese Alligator is a much smaller species, almost half the size of a female American Alligator. Alligators have an armour-plated body that varies in colour from yellow, to green, to brown, finally turning almost completely black in old age. The tail of the Alligator is incredibly muscular and is used to propel the animal when it is in the water. Alligators have short, stocky legs with webbing between their toes. This not only helps them when they are swimming but also means that they can negotiate the muddy river banks with ease.'),\n",
       " (0,\n",
       "  'The American Alligators are found in the south-eastern USA, throughout all of Florida and Louisiana, the southern parts of Georgia, Alabama and Mississippi, coastal South and North Carolina, eastern Texas, the south-eastern corner of Oklahoma and the southern tip of Arkansas. The majority of American Alligators inhabit Florida and Louisiana, with over a million alligators thought to be found between the two states. The American Alligators live in freshwater environments, such as ponds, marshes, wetlands, rivers, lakes, and swamps, as well as brackish environments. Southern Florida is the only place in the world where both Alligators and Crocodiles are known to live in the same place.'),\n",
       " (0,\n",
       "  'The Alligator is a solitary predator that is actually surprisingly clunky when moving about on land. They tend to be quite slow, moving themselves by either crawling or sliding along the slippery banks on their bellies. They are highly territorial animals that are known to make a variety of noises to represent different things, including the declaration of territory, finding a mate and the young warning their mother that they are in danger. Male Alligators however, do not appear to have such a prominent voice box and make very little noise outside of the breeding season, when they are known to growl and bellow to fend off competing males.'),\n",
       " (0,\n",
       "  'Alligators tend to breed during the spring when they come together in large groups to find a suitable partner. The female constructs a nest out of mud, leaves and twigs on the ground where she lays up to 50 eggs. The hatchlings emerge after a 2 month incubation period which is done by the rotting vegetation in the nest. Females do not incubate their eggs as they would break them but still guard their nest from hungry predators. The baby Alligators are between 15 and 20 long when they hatch and are vulnerable to predation from a number of species. They usually remain with their mother for the first 2 years. Alligators tend to live to about 50 years old or so but some have been known to live at least another 20 years when in captivity.'),\n",
       " (0,\n",
       "  'The Alligator is generally a solitary predator, but smaller and younger Alligator individuals however, are known to stay together in groups especially when hunting. The Alligator eats fish, small mammals and birds, but the Alligator has also been known to attack much larger animals. Adult alligators have been known to hunt Deer and are well known to kill and eat smaller Alligators. In some cases, larger alligators have been known to hunt the Florida Panther and Black Bears, making the alligator the dominant predator throughout the their environment. Attacks on pets and even people are also not unknown.'),\n",
       " (0,\n",
       "  'The Alligator is an apex predator in its environment, known to even hunt animals that are much larger in size. Humans are the only predator of adult Alligators as they were hunted almost to extinction for their meat, and for their unique skin which was used in the manufacture of a variety of products. The smaller, baby Alligators however, are prey to a number of species including Raccoons, Birds, Bobcats and even other Alligators. Despite being protected from hunting in much of its North American range today, Alligators are threatened by loss of their natural habitats and high levels of pollution in the water.'),\n",
       " (0,\n",
       "  'Alligator DNA is thought to date back to even before Dinosaur times meaning that the Alligators survived whatever it was that the dinosaurs didn’t, with the scientific estimates first dating the species 150 million years ago. The Chinese Alligator is currently found only in the Yangtze River Valley and the Chinese Alligator is now extremely endangered with less than 100 Chinese Alligators believed to be left in the wild. There are actually many more Chinese Alligators that live in zoos around the world than can be found in the wild today. Alligators are known to have up to 80 teeth which are perfectly shaped for biting down on prey. They are even able to regrow those teeth that are lost.'),\n",
       " (0,\n",
       "  'Unlike large Crocodiles, Alligators do not immediately regard a Human upon encounter as prey, but the Alligator may still attack in self-defence if provoked. Alligator attacks are uncommon but Alligators have definitely been known to attack Humans if the Human is in the Alligator’s territory and particularly if the animal feels threatened. They are however known to commonly prey on domestic animals including pets and sometimes livestock when they are close to Human settlements. Hunting towards the end of the last century almost completely obliterated the entire American Alligator population (and has pretty much done so to the Chinese Alligator). Fortunately the gravity of the situation in the USA was realised before it was too late, with the protection of the species having led to an increase in population numbers now.'),\n",
       " (0,\n",
       "  'The American Alligator was once an Endangered species but thanks to habitat protection and federal laws protecting them, populations throughout Florida and Louisiana have recovered really well, with over a million Alligators thought to exist in the USA today. They are however now threatened by habitat degradation, mainly in the form of deforestation and pollution in the water. The story of the Chinese Alligator however is very different, with less than 100 individuals thought to be left in the Yangtze River Valley, this species is Critically Endangered in the wild and is sadly on the verge of extinction.')]"
      ]
     },
     "execution_count": 7,
     "metadata": {},
     "output_type": "execute_result"
    }
   ],
   "source": [
    "Data['Alligator']"
   ]
  },
  {
   "cell_type": "code",
   "execution_count": null,
   "id": "c3a6230a-c4bc-4172-95ca-a9038dd73131",
   "metadata": {},
   "outputs": [],
   "source": []
  }
 ],
 "metadata": {
  "kernelspec": {
   "display_name": "Python [conda env:eTaxonomist]",
   "language": "python",
   "name": "conda-env-eTaxonomist-py"
  },
  "language_info": {
   "codemirror_mode": {
    "name": "ipython",
    "version": 3
   },
   "file_extension": ".py",
   "mimetype": "text/x-python",
   "name": "python",
   "nbconvert_exporter": "python",
   "pygments_lexer": "ipython3",
   "version": "3.9.4"
  }
 },
 "nbformat": 4,
 "nbformat_minor": 5
}
