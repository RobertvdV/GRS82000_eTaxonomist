{
 "cells": [
  {
   "cell_type": "code",
   "execution_count": 1,
   "id": "7699c3f0-dd74-410f-af6a-5b87e1686b5f",
   "metadata": {},
   "outputs": [],
   "source": [
    "import numpy as np\n",
    "import torch\n",
    "import torch.nn as nn\n",
    "from IPython.display import display, HTML\n",
    "from transformers import DistilBertModel, DistilBertTokenizer, logging\n",
    "import matplotlib\n",
    "import matplotlib.pyplot as plt\n",
    "from tqdm.notebook import tqdm as tqdm_notebook\n",
    "import spacy\n",
    "from spacy import displacy\n",
    "import seaborn as sns\n",
    "import pandas as pd\n",
    "import numpy as np\n",
    "import collections\n",
    "import glob\n",
    "import pickle\n",
    "import random\n",
    "from scipy.stats import hmean\n",
    "import re\n",
    "from bs4 import BeautifulSoup\n",
    "import requests\n",
    "from sklearn.metrics.pairwise import cosine_similarity\n",
    "nlp = spacy.load('en_core_web_trf')\n",
    "logging.set_verbosity_error()\n",
    "\n",
    "import sys\n",
    "sys.path.insert(0, '../src/models/')\n",
    "sys.path.insert(0, '../src/features/')\n",
    "\n",
    "from build_features import similarity_matrix as vector_values\n",
    "from predict_model import load_CUB_Bert, load_simBERT, loadBERT\n",
    "from predict_model import SpanPredictor as classify\n",
    "\n",
    "%matplotlib inline"
   ]
  },
  {
   "cell_type": "markdown",
   "id": "ccb03687-7512-49af-ba15-1148bbd85633",
   "metadata": {},
   "source": [
    "# Preprocessing & Preparing"
   ]
  },
  {
   "cell_type": "code",
   "execution_count": 2,
   "id": "febba949-585d-43fe-b818-35f28c2fc3cb",
   "metadata": {},
   "outputs": [],
   "source": [
    "device = torch.device(\"cuda:0\" if torch.cuda.is_available() else \"cpu\")"
   ]
  },
  {
   "cell_type": "markdown",
   "id": "cb69249b-541b-407c-bdaf-2c5663372e1d",
   "metadata": {},
   "source": [
    "### Load models\n",
    "Load the models for classification of descriptions"
   ]
  },
  {
   "cell_type": "code",
   "execution_count": 3,
   "id": "b9ee7357-4da8-403d-a763-5a2456174404",
   "metadata": {},
   "outputs": [
    {
     "name": "stdout",
     "output_type": "stream",
     "text": [
      "CPU Success\n"
     ]
    }
   ],
   "source": [
    "model = loadBERT(\"../models/\", 'saved_weights_inf_FIXED_boot_beta80.pt')\n",
    "tokenizer = DistilBertTokenizer.from_pretrained('distilbert-base-uncased')"
   ]
  },
  {
   "cell_type": "markdown",
   "id": "48434e07-78f1-4af1-83da-e6ba701751e2",
   "metadata": {},
   "source": [
    "### CUB Annotations"
   ]
  },
  {
   "cell_type": "code",
   "execution_count": 4,
   "id": "6c39ca5e-48ad-4eed-90e7-bb3027b91cf6",
   "metadata": {},
   "outputs": [],
   "source": [
    "# Open the text file\n",
    "location = \"../data/external/CUB_200_2011/CUB_200_2011/classes.txt\"\n",
    "with open(location) as f:\n",
    "    lines = f.readlines()\n",
    "    \n",
    "# Open the text file\n",
    "location = \"../data/external/birdnames.txt\"\n",
    "with open(location) as f:\n",
    "    lines_latin = f.readlines()\n",
    "# Init regex\n",
    "regex = r'\\d+\\s\\d+\\.'\n",
    "# Clean the list\n",
    "CUB = [re.sub(regex, '', line).rstrip().replace('_', ' ') for line in lines]"
   ]
  },
  {
   "cell_type": "code",
   "execution_count": 5,
   "id": "c129a96b-2659-4ab2-ace0-196d55c2b834",
   "metadata": {},
   "outputs": [],
   "source": [
    "# Open the text file\n",
    "location = \"../data/external/CUB_200_2011/attributes.txt\"\n",
    "with open(location) as f:\n",
    "    lines = f.readlines()\n",
    "    \n",
    "attribute_list = []\n",
    "\n",
    "# Create a DF with attributes\n",
    "for line in lines:\n",
    "    line = line.strip()\n",
    "    attributes = line.split()[1].split('::')\n",
    "    part = attributes[0]\n",
    "    adjective = attributes[1]\n",
    "    attribute_list.append((part, adjective))\n",
    "    \n",
    "# Create DF        \n",
    "df_attributes = pd.DataFrame(attribute_list, columns=['Part', 'Adj'])\n",
    "# Reset the index\n",
    "df_attributes.index = np.arange(1, len(df_attributes)+1)"
   ]
  },
  {
   "cell_type": "code",
   "execution_count": 6,
   "id": "58aab577-a881-4c79-9f97-023ef6d2ce60",
   "metadata": {},
   "outputs": [
    {
     "data": {
      "application/vnd.jupyter.widget-view+json": {
       "model_id": "538c5db74f7742a9a7de67782787b684",
       "version_major": 2,
       "version_minor": 0
      },
      "text/plain": [
       "  0%|          | 0/3677856 [00:00<?, ?it/s]"
      ]
     },
     "metadata": {},
     "output_type": "display_data"
    }
   ],
   "source": [
    "# Open the text file\n",
    "location = \"../data/external/CUB_200_2011/CUB_200_2011/attributes/image_attribute_labels.txt\"\n",
    "with open(location) as f:\n",
    "    lines = f.readlines()\n",
    "# Open the text file\n",
    "location = \"../data/external/CUB_200_2011/CUB_200_2011/images.txt\"\n",
    "with open(location) as f:\n",
    "    img_ids = f.readlines()\n",
    "    \n",
    "# Create DF will all present parts\n",
    "CUB_dict = collections.defaultdict(list)\n",
    "# Loop over lines\n",
    "for line in tqdm_notebook(lines):\n",
    "    data = line.split()\n",
    "    # Skip non present\n",
    "    if not int(data[2]):\n",
    "        continue\n",
    "    # Skip uncertain things\n",
    "    if int(data[3]) < 4:\n",
    "        continue\n",
    "    # Otherwise append\n",
    "    #print(CUB[int(img_ids[int(data[0])].split()[1][0:3]) - 1], data)\n",
    "    CUB_dict[CUB[int(img_ids[int(data[0])-1].split()[1][0:3]) - 1]].append((df_attributes.loc[int(data[1]), ][0], df_attributes.loc[int(data[1]), ][1]))"
   ]
  },
  {
   "cell_type": "code",
   "execution_count": 7,
   "id": "8e68bcf4-ba87-468c-ade9-bef49501e19e",
   "metadata": {},
   "outputs": [],
   "source": [
    "# Drop duplicates\n",
    "# Images are annotated per image and not bird\n",
    "# Resulting in multiple sightings per bird\n",
    "for bird in CUB_dict.keys():\n",
    "    CUB_dict[bird] = list(set(CUB_dict[bird]))"
   ]
  },
  {
   "cell_type": "markdown",
   "id": "167c9234-f257-4b4b-901f-4c48cb1ef37a",
   "metadata": {},
   "source": [
    "### Extract common birds"
   ]
  },
  {
   "cell_type": "code",
   "execution_count": 8,
   "id": "87cb1adc-c08b-442a-ba1a-bac54df59e7e",
   "metadata": {},
   "outputs": [],
   "source": [
    "# Open the text file\n",
    "location = \"../data/external/CUB_200_2011/CUB_200_2011/classes.txt\"\n",
    "with open(location) as f:\n",
    "    lines = f.readlines()\n",
    "\n",
    "# Init regex\n",
    "regex = r'\\d+\\s\\d+\\.'\n",
    "# Clean the list\n",
    "CUB = [re.sub(regex, '', line).rstrip().replace('_', ' ') for line in lines]\n",
    "# Read the BOWO list to compare names\n",
    "BOWO_folder_list = glob.glob('../data/raw/BOW/*')\n",
    "# Clean the lists\n",
    "BOW_all = [bird[16:] for bird in BOWO_folder_list]\n",
    "# Intersect common names\n",
    "common_birds = list(set(CUB) & set(BOW_all))\n",
    "# Uncommon birds\n",
    "Uncommon_birds = list(set(CUB) - set(common_birds))"
   ]
  },
  {
   "cell_type": "code",
   "execution_count": 9,
   "id": "8ea33d0a-7380-450e-8fcc-1b140a9d6604",
   "metadata": {},
   "outputs": [],
   "source": [
    "text_list = []\n",
    "\n",
    "for bird in common_birds:\n",
    "    text_list.append((bird, bird))"
   ]
  },
  {
   "cell_type": "code",
   "execution_count": 10,
   "id": "55a9d945-a5a5-4549-9718-505801938473",
   "metadata": {},
   "outputs": [],
   "source": [
    "remaining = [\n",
    "    'Cape Starling',\n",
    "    'Eurasian Tree Sparrow',\n",
    "    'American White Pelican',\n",
    "    'Common Nighthawk',\n",
    "    \"Forster's Tern\",\n",
    "    'Greater Roadrunner',\n",
    "    'Black-and-white Warbler',\n",
    "    'Northern Cardinal',\n",
    "    'American Three-toed Woodpecker',\n",
    "    'Yellow-rumped Warbler',\n",
    "    'White-throated Kingfisher',\n",
    "    'Great Gray Shrike',\n",
    "    \"Nelson's Sparrow\",\n",
    "    'Gray-crowned Rosy-Finch',\n",
    "    \"LeConte's Sparrow\",\n",
    "    'Eastern Whip-poor-will',\n",
    "    'Eastern Phoebe',\n",
    "    'Mexican Violetear',\n",
    "    \"Chuck-will's-widow\",\n",
    "    'Great Frigatebird',\n",
    "    'Florida Scrub-Jay',\n",
    "    'Arctic Tern',\n",
    "    'Northern Mockingbird',\n",
    "    'Western Wood-Pewee',\n",
    "]"
   ]
  },
  {
   "cell_type": "code",
   "execution_count": 11,
   "id": "b36cc09c-9d48-4c99-a659-e1716d0ae6a2",
   "metadata": {},
   "outputs": [],
   "source": [
    "idx = 0\n",
    "for CUB_bird in Uncommon_birds:\n",
    "    # Rewrite bird\n",
    "    parts = CUB_bird.split()\n",
    "    if len(parts) == 2:\n",
    "        bird = f\"{parts[0]}'s {parts[1]}\"\n",
    "    elif len(parts) == 3:\n",
    "        bird = f'{parts[0]}-{parts[1]} {parts[2]}'\n",
    "    elif len(parts) == 4:\n",
    "        bird = f'{parts[0]}-{parts[1]} {parts[2]} {parts[3]}'\n",
    "    if bird in BOW_all:\n",
    "        #print(CUB_bird,'===', bird)\n",
    "        common_birds.append(bird)\n",
    "        text_list.append((CUB_bird, bird))\n",
    "        #print('yes')\n",
    "    else:\n",
    "        common_birds.append(remaining[idx])\n",
    "        text_list.append((CUB_bird, remaining[idx]))\n",
    "        #print(CUB_bird, '===', remaining[idx])\n",
    "        idx += 1\n",
    "    # Reset bird:\n",
    "    bird = 'XIXIXIX'"
   ]
  },
  {
   "cell_type": "code",
   "execution_count": 12,
   "id": "957e1b54-db32-48e8-b984-ad5acd913610",
   "metadata": {},
   "outputs": [],
   "source": [
    "# retoken CUB\n",
    "CUB_dict_new = collections.defaultdict(list)\n",
    "\n",
    "for (CUB, BOW) in text_list:\n",
    "    CUB_dict_new[BOW] = CUB_dict[CUB]"
   ]
  },
  {
   "cell_type": "code",
   "execution_count": 13,
   "id": "670a848f-2c7f-4e1b-811a-22db55cb2aa0",
   "metadata": {},
   "outputs": [],
   "source": [
    "assert len(common_birds) == 200"
   ]
  },
  {
   "cell_type": "code",
   "execution_count": 14,
   "id": "89a5d80e-de5d-4ec5-90c1-842cd8645e36",
   "metadata": {},
   "outputs": [
    {
     "data": {
      "text/plain": [
       "[('Pine Grosbeak', 'Pine Grosbeak'),\n",
       " ('American Pipit', 'American Pipit'),\n",
       " ('Summer Tanager', 'Summer Tanager'),\n",
       " ('Savannah Sparrow', 'Savannah Sparrow'),\n",
       " ('Common Yellowthroat', 'Common Yellowthroat'),\n",
       " ('Acadian Flycatcher', 'Acadian Flycatcher'),\n",
       " ('Northern Fulmar', 'Northern Fulmar'),\n",
       " ('Pileated Woodpecker', 'Pileated Woodpecker'),\n",
       " ('Hooded Merganser', 'Hooded Merganser'),\n",
       " ('Tree Swallow', 'Tree Swallow'),\n",
       " ('Tennessee Warbler', 'Tennessee Warbler'),\n",
       " ('Western Gull', 'Western Gull'),\n",
       " ('Rock Wren', 'Rock Wren'),\n",
       " ('Kentucky Warbler', 'Kentucky Warbler'),\n",
       " ('Herring Gull', 'Herring Gull'),\n",
       " ('Vermilion Flycatcher', 'Vermilion Flycatcher'),\n",
       " ('Great Crested Flycatcher', 'Great Crested Flycatcher'),\n",
       " ('Song Sparrow', 'Song Sparrow'),\n",
       " ('Ovenbird', 'Ovenbird'),\n",
       " ('Winter Wren', 'Winter Wren'),\n",
       " ('Hooded Warbler', 'Hooded Warbler'),\n",
       " ('Eared Grebe', 'Eared Grebe'),\n",
       " ('Spotted Catbird', 'Spotted Catbird'),\n",
       " ('Brown Pelican', 'Brown Pelican'),\n",
       " ('Chipping Sparrow', 'Chipping Sparrow'),\n",
       " ('Western Grebe', 'Western Grebe'),\n",
       " ('Brown Creeper', 'Brown Creeper'),\n",
       " ('Pine Warbler', 'Pine Warbler'),\n",
       " ('Lazuli Bunting', 'Lazuli Bunting'),\n",
       " ('Northern Waterthrush', 'Northern Waterthrush'),\n",
       " ('Field Sparrow', 'Field Sparrow'),\n",
       " ('Nashville Warbler', 'Nashville Warbler'),\n",
       " ('Cape May Warbler', 'Cape May Warbler'),\n",
       " ('Bobolink', 'Bobolink'),\n",
       " ('Fox Sparrow', 'Fox Sparrow'),\n",
       " ('American Redstart', 'American Redstart'),\n",
       " ('Scarlet Tanager', 'Scarlet Tanager'),\n",
       " ('Northern Flicker', 'Northern Flicker'),\n",
       " ('Gadwall', 'Gadwall'),\n",
       " ('Sage Thrasher', 'Sage Thrasher'),\n",
       " ('Laysan Albatross', 'Laysan Albatross'),\n",
       " ('Rhinoceros Auklet', 'Rhinoceros Auklet'),\n",
       " ('Ivory Gull', 'Ivory Gull'),\n",
       " ('Indigo Bunting', 'Indigo Bunting'),\n",
       " ('Pigeon Guillemot', 'Pigeon Guillemot'),\n",
       " ('Blue Jay', 'Blue Jay'),\n",
       " ('Least Auklet', 'Least Auklet'),\n",
       " ('Caspian Tern', 'Caspian Tern'),\n",
       " ('Elegant Tern', 'Elegant Tern'),\n",
       " ('Horned Lark', 'Horned Lark'),\n",
       " ('Least Tern', 'Least Tern'),\n",
       " ('Prairie Warbler', 'Prairie Warbler'),\n",
       " ('Pomarine Jaeger', 'Pomarine Jaeger'),\n",
       " ('Horned Grebe', 'Horned Grebe'),\n",
       " ('Mallard', 'Mallard'),\n",
       " ('Bank Swallow', 'Bank Swallow'),\n",
       " ('Common Tern', 'Common Tern'),\n",
       " ('Cactus Wren', 'Cactus Wren'),\n",
       " ('Western Meadowlark', 'Western Meadowlark'),\n",
       " ('Marsh Wren', 'Marsh Wren'),\n",
       " ('Common Raven', 'Common Raven'),\n",
       " ('Least Flycatcher', 'Least Flycatcher'),\n",
       " ('House Sparrow', 'House Sparrow'),\n",
       " ('Belted Kingfisher', 'Belted Kingfisher'),\n",
       " ('Seaside Sparrow', 'Seaside Sparrow'),\n",
       " ('Philadelphia Vireo', 'Philadelphia Vireo'),\n",
       " ('Painted Bunting', 'Painted Bunting'),\n",
       " ('Prothonotary Warbler', 'Prothonotary Warbler'),\n",
       " ('Downy Woodpecker', 'Downy Woodpecker'),\n",
       " ('Mourning Warbler', 'Mourning Warbler'),\n",
       " ('Ringed Kingfisher', 'Ringed Kingfisher'),\n",
       " ('Canada Warbler', 'Canada Warbler'),\n",
       " ('Tropical Kingbird', 'Tropical Kingbird'),\n",
       " ('Pelagic Cormorant', 'Pelagic Cormorant'),\n",
       " ('Green Jay', 'Green Jay'),\n",
       " ('Rufous Hummingbird', 'Rufous Hummingbird'),\n",
       " ('Rusty Blackbird', 'Rusty Blackbird'),\n",
       " ('Gray Catbird', 'Gray Catbird'),\n",
       " ('Shiny Cowbird', 'Shiny Cowbird'),\n",
       " ('Orchard Oriole', 'Orchard Oriole'),\n",
       " ('Black Tern', 'Black Tern'),\n",
       " ('Warbling Vireo', 'Warbling Vireo'),\n",
       " ('Yellow Warbler', 'Yellow Warbler'),\n",
       " ('Hooded Oriole', 'Hooded Oriole'),\n",
       " ('European Goldfinch', 'European Goldfinch'),\n",
       " ('Carolina Wren', 'Carolina Wren'),\n",
       " ('California Gull', 'California Gull'),\n",
       " ('Purple Finch', 'Purple Finch'),\n",
       " ('Baltimore Oriole', 'Baltimore Oriole'),\n",
       " ('Eastern Towhee', 'Eastern Towhee'),\n",
       " ('Blue Grosbeak', 'Blue Grosbeak'),\n",
       " ('Magnolia Warbler', 'Magnolia Warbler'),\n",
       " ('Gray Kingbird', 'Gray Kingbird'),\n",
       " ('Louisiana Waterthrush', 'Louisiana Waterthrush'),\n",
       " ('Vesper Sparrow', 'Vesper Sparrow'),\n",
       " ('Green Kingfisher', 'Green Kingfisher'),\n",
       " ('Brown Thrasher', 'Brown Thrasher'),\n",
       " ('Crested Auklet', 'Crested Auklet'),\n",
       " ('Cliff Swallow', 'Cliff Swallow'),\n",
       " ('Grasshopper Sparrow', 'Grasshopper Sparrow'),\n",
       " ('Cerulean Warbler', 'Cerulean Warbler'),\n",
       " ('House Wren', 'House Wren'),\n",
       " ('Sooty Albatross', 'Sooty Albatross'),\n",
       " ('Mangrove Cuckoo', 'Mangrove Cuckoo'),\n",
       " ('American Goldfinch', 'American Goldfinch'),\n",
       " ('Bohemian Waxwing', 'Bohemian Waxwing'),\n",
       " ('Parakeet Auklet', 'Parakeet Auklet'),\n",
       " ('American Crow', 'American Crow'),\n",
       " ('Bronzed Cowbird', 'Bronzed Cowbird'),\n",
       " ('Pacific Loon', 'Pacific Loon'),\n",
       " ('Barn Swallow', 'Barn Swallow'),\n",
       " ('Cedar Waxwing', 'Cedar Waxwing'),\n",
       " ('Horned Puffin', 'Horned Puffin'),\n",
       " ('Loggerhead Shrike', 'Loggerhead Shrike'),\n",
       " ('Evening Grosbeak', 'Evening Grosbeak'),\n",
       " ('Palm Warbler', 'Palm Warbler'),\n",
       " ('Pied Kingfisher', 'Pied Kingfisher'),\n",
       " ('Fish Crow', 'Fish Crow'),\n",
       " ('Gray crowned Rosy Finch', 'Cape Starling'),\n",
       " ('Red headed Woodpecker', 'Red-headed Woodpecker'),\n",
       " ('Forsters Tern', 'Eurasian Tree Sparrow'),\n",
       " ('Le Conte Sparrow', 'American White Pelican'),\n",
       " ('Red winged Blackbird', 'Red-winged Blackbird'),\n",
       " ('Heermann Gull', \"Heermann's Gull\"),\n",
       " ('Green Violetear', 'Common Nighthawk'),\n",
       " ('White throated Sparrow', 'White-throated Sparrow'),\n",
       " ('Swainson Warbler', \"Swainson's Warbler\"),\n",
       " ('Red faced Cormorant', 'Red-faced Cormorant'),\n",
       " ('Nelson Sharp tailed Sparrow', \"Forster's Tern\"),\n",
       " ('Scissor tailed Flycatcher', 'Scissor-tailed Flycatcher'),\n",
       " ('Ruby throated Hummingbird', 'Ruby-throated Hummingbird'),\n",
       " ('American Three toed Woodpecker', 'Greater Roadrunner'),\n",
       " ('Bewick Wren', \"Bewick's Wren\"),\n",
       " ('Yellow bellied Flycatcher', 'Yellow-bellied Flycatcher'),\n",
       " ('Clay colored Sparrow', 'Clay-colored Sparrow'),\n",
       " ('Glaucous winged Gull', 'Glaucous-winged Gull'),\n",
       " ('Chestnut sided Warbler', 'Chestnut-sided Warbler'),\n",
       " ('Black billed Cuckoo', 'Black-billed Cuckoo'),\n",
       " ('Red eyed Vireo', 'Red-eyed Vireo'),\n",
       " ('Groove billed Ani', 'Groove-billed Ani'),\n",
       " ('Ring billed Gull', 'Ring-billed Gull'),\n",
       " ('Red bellied Woodpecker', 'Red-bellied Woodpecker'),\n",
       " ('Florida Jay', 'Black-and-white Warbler'),\n",
       " ('Geococcyx', 'Northern Cardinal'),\n",
       " ('Red breasted Merganser', 'Red-breasted Merganser'),\n",
       " ('Scott Oriole', \"Scott's Oriole\"),\n",
       " ('Nighthawk', 'American Three-toed Woodpecker'),\n",
       " ('Blue headed Vireo', 'Blue-headed Vireo'),\n",
       " ('Dark eyed Junco', 'Dark-eyed Junco'),\n",
       " ('White crowned Sparrow', 'White-crowned Sparrow'),\n",
       " ('Worm eating Warbler', 'Worm-eating Warbler'),\n",
       " ('Pied billed Grebe', 'Pied-billed Grebe'),\n",
       " ('Green tailed Towhee', 'Green-tailed Towhee'),\n",
       " ('Brewer Blackbird', \"Brewer's Blackbird\"),\n",
       " ('Cardinal', 'Yellow-rumped Warbler'),\n",
       " ('Blue winged Warbler', 'Blue-winged Warbler'),\n",
       " ('Red legged Kittiwake', 'Red-legged Kittiwake'),\n",
       " ('Brewer Sparrow', \"Brewer's Sparrow\"),\n",
       " ('Black throated Blue Warbler', 'Black-throated Blue Warbler'),\n",
       " ('White necked Raven', 'White-necked Raven'),\n",
       " ('White Pelican', 'White-throated Kingfisher'),\n",
       " ('Yellow billed Cuckoo', 'Yellow-billed Cuckoo'),\n",
       " ('Clark Nutcracker', \"Clark's Nutcracker\"),\n",
       " ('Black and white Warbler', 'Great Gray Shrike'),\n",
       " ('Red cockaded Woodpecker', 'Red-cockaded Woodpecker'),\n",
       " ('Black footed Albatross', 'Black-footed Albatross'),\n",
       " ('White eyed Vireo', 'White-eyed Vireo'),\n",
       " ('Anna Hummingbird', \"Anna's Hummingbird\"),\n",
       " ('Chuck will Widow', \"Nelson's Sparrow\"),\n",
       " ('Henslow Sparrow', \"Henslow's Sparrow\"),\n",
       " ('Great Grey Shrike', 'Gray-crowned Rosy-Finch'),\n",
       " ('Rose breasted Grosbeak', 'Rose-breasted Grosbeak'),\n",
       " ('Western Wood Pewee', \"LeConte's Sparrow\"),\n",
       " ('Yellow headed Blackbird', 'Yellow-headed Blackbird'),\n",
       " ('Boat tailed Grackle', 'Boat-tailed Grackle'),\n",
       " ('White breasted Kingfisher', 'Eastern Whip-poor-will'),\n",
       " ('Black capped Vireo', 'Black-capped Vireo'),\n",
       " ('Mockingbird', 'Eastern Phoebe'),\n",
       " ('Cape Glossy Starling', 'Mexican Violetear'),\n",
       " ('Artic Tern', \"Chuck-will's-widow\"),\n",
       " ('Long tailed Jaeger', 'Long-tailed Jaeger'),\n",
       " ('Tree Sparrow', 'Great Frigatebird'),\n",
       " ('Frigatebird', 'Florida Scrub-Jay'),\n",
       " ('Golden winged Warbler', 'Golden-winged Warbler'),\n",
       " ('Harris Sparrow', \"Harris's Sparrow\"),\n",
       " ('Orange crowned Warbler', 'Orange-crowned Warbler'),\n",
       " ('Sayornis', 'Arctic Tern'),\n",
       " ('Yellow breasted Chat', 'Yellow-breasted Chat'),\n",
       " ('Black throated Sparrow', 'Black-throated Sparrow'),\n",
       " ('Myrtle Warbler', 'Northern Mockingbird'),\n",
       " ('Bay breasted Warbler', 'Bay-breasted Warbler'),\n",
       " ('Lincoln Sparrow', \"Lincoln's Sparrow\"),\n",
       " ('Whip poor Will', 'Western Wood-Pewee'),\n",
       " ('Baird Sparrow', \"Baird's Sparrow\"),\n",
       " ('Brandt Cormorant', \"Brandt's Cormorant\"),\n",
       " ('White breasted Nuthatch', 'White-breasted Nuthatch'),\n",
       " ('Olive sided Flycatcher', 'Olive-sided Flycatcher'),\n",
       " ('Yellow throated Vireo', 'Yellow-throated Vireo'),\n",
       " ('Wilson Warbler', \"Wilson's Warbler\"),\n",
       " ('Slaty backed Gull', 'Slaty-backed Gull')]"
      ]
     },
     "execution_count": 14,
     "metadata": {},
     "output_type": "execute_result"
    }
   ],
   "source": [
    "text_list"
   ]
  },
  {
   "cell_type": "markdown",
   "id": "d9927a57-84bf-4023-81cf-c4ddbabc230c",
   "metadata": {},
   "source": [
    "### Get bird descriptions"
   ]
  },
  {
   "cell_type": "code",
   "execution_count": 13,
   "id": "c79b209d-8cee-45e3-a4f7-c8ebc8fddc78",
   "metadata": {},
   "outputs": [],
   "source": [
    "birds_single_html = [Species[16:] for Species in BOWO_folder_list if len(glob.glob(Species + '/*')) == 1]\n",
    "birds_multiple_html = [Species[16:] for Species in BOWO_folder_list if len(glob.glob(Species + '/*')) != 1]"
   ]
  },
  {
   "cell_type": "code",
   "execution_count": null,
   "id": "623b259f-1460-41c0-a8e2-b9c4d9ac3f66",
   "metadata": {},
   "outputs": [],
   "source": [
    "# Insersect\n",
    "common_birds_single_html = list(set(common_birds) - set(birds_multiple_html))\n",
    "\n",
    "birds_single_html = list(set(birds_single_html) - set(common_birds_single_html))\n",
    "\n",
    "# Sample from single list so to get 2000 birds total\n",
    "additional_birds = random.sample(birds_single_html, int(200/0.1 - (len(birds_multiple_html) + len(common_birds_single_html))))\n",
    "# Construct final list\n",
    "bird_list = birds_multiple_html + common_birds_single_html + additional_birds\n",
    "# Check\n",
    "assert len(bird_list) == 2000"
   ]
  },
  {
   "cell_type": "code",
   "execution_count": null,
   "id": "e2e29c9f-27e1-4005-a5d0-9d9f0926db16",
   "metadata": {},
   "outputs": [],
   "source": [
    "# Init dict for storage\n",
    "#birds_dict = collections.defaultdict(list)\n",
    "# Reset to large (OOV does not work with transformers)\n",
    "nlp = spacy.load('en_core_web_lg')\n",
    "\n",
    "for bird_loc in tqdm_notebook(BOWO_folder_list[0:]):\n",
    "    # Get the name\n",
    "    BIRD = bird_loc[16:]\n",
    "    if BIRD not in bird_list:\n",
    "        #print(BIRD)\n",
    "        continue\n",
    "    # Check the amount of account\n",
    "    HTMLs = glob.glob(bird_loc + '/*')\n",
    "    #print(HTMLs)\n",
    "    #if len(HTMLs) == 1:\n",
    "    #    HTMLs = [HTMLs]\n",
    "    for HTML in HTMLs:    \n",
    "        # Open the HTML\n",
    "        with open(HTML) as f:\n",
    "            # Structure it\n",
    "            soup = BeautifulSoup(f, 'html.parser')\n",
    "            # Get all spans\n",
    "            spans = [span for span in soup.find_all('p') \n",
    "                     if not 'fig' in span.text]\n",
    "            for span in spans:\n",
    "                # Get the text\n",
    "                span = span.text\n",
    "                # Clean ()\n",
    "                text = re.sub(r'\\((.+)\\)', '', span)\n",
    "                text = re.sub(r'\\(.*?\\)', '', text, flags=re.DOTALL)\n",
    "                # Replace ; with . to help the sentecizer\n",
    "                text = text.replace(';', '.')\n",
    "                # NLP\n",
    "                doc = nlp(text)\n",
    "                for sent in doc.sents:    \n",
    "                    # Skip short sents\n",
    "                    if len(sent) <= 4:\n",
    "                        continue\n",
    "                    # Check amount of non-english\n",
    "                    non_eng = [token.is_oov for token in sent].count(True)\n",
    "                    # Skip if the ratio is above .2\n",
    "                    if non_eng > 0 and non_eng / len(sent) > .2:\n",
    "                        continue\n",
    "                    # Also skip if the non-eng is large\n",
    "                    if non_eng > 8:\n",
    "                        continue\n",
    "                    # Check classification\n",
    "                    if classify(sent.text, model=model):\n",
    "                        birds_dict[BIRD].append(sent.text)\n"
   ]
  },
  {
   "cell_type": "code",
   "execution_count": null,
   "id": "7f09afa7-354c-43d2-87a4-d8867d61b841",
   "metadata": {},
   "outputs": [],
   "source": [
    "with open('../data/description/03_DESC_0000000-0002000_BIRDS.pkl', 'wb') as f:\n",
    "    pickle.dump(birds_dict, f)"
   ]
  },
  {
   "cell_type": "markdown",
   "id": "c85bf965-e519-4131-93cc-62c13431d632",
   "metadata": {},
   "source": [
    "# Additional Random Data"
   ]
  },
  {
   "cell_type": "code",
   "execution_count": null,
   "id": "34cbdca6-eb6f-402c-9408-c1f9493e1be1",
   "metadata": {},
   "outputs": [],
   "source": [
    "with open('../data/description/04_TRAIN_0000000-0002000_BIRDS.pkl', 'wb') as f:\n",
    "    pickle.dump(train_dict, f)"
   ]
  },
  {
   "cell_type": "markdown",
   "id": "3e25c697-79bb-4708-a46e-411116c38d06",
   "metadata": {},
   "source": [
    "# Attribution Techniques"
   ]
  },
  {
   "cell_type": "code",
   "execution_count": 198,
   "id": "5cbd210c-3d4b-417d-a169-382dc72a76be",
   "metadata": {},
   "outputs": [
    {
     "name": "stdout",
     "output_type": "stream",
     "text": [
      "Local Success\n"
     ]
    }
   ],
   "source": [
    "data = pickle.load(open('../data/description/04_TRAIN_0000000-0002000_BIRDS.pkl', 'rb'))\n",
    "model = load_CUB_Bert(\"../models/\", 'saved_weights_CUB_BIRDS_2000.pt')"
   ]
  },
  {
   "cell_type": "markdown",
   "id": "2773c38d-a256-4f9d-854b-92255404b81b",
   "metadata": {},
   "source": [
    "### Helper functions"
   ]
  },
  {
   "cell_type": "code",
   "execution_count": 199,
   "id": "10585bce-7aab-4d2f-8520-a4592602474c",
   "metadata": {},
   "outputs": [],
   "source": [
    "ref_token_id = tokenizer.pad_token_id # A token used for generating token reference\n",
    "sep_token_id = tokenizer.sep_token_id # A token used as a separator between question and text and it is also added to the end of the text.\n",
    "cls_token_id = tokenizer.cls_token_id # A token used for prepending to the concatenated question-text word sequence\n",
    "\n",
    "# Modify the prediction output and define a custom forward\n",
    "def predict(inputs, attentions):\n",
    "    return model(input_ids=inputs, attention_mask=attentions)[0]\n",
    "\n",
    "def custom_forward(inputs, attentions):\n",
    "    preds = predict(inputs, attentions)\n",
    "    return torch.exp(preds)\n",
    "\n",
    "# Tokenize functions\n",
    "def construct_input_ref_pair(text, ref_token_id, sep_token_id, cls_token_id):\n",
    "\n",
    "    text_ids = tokenizer.encode(text, add_special_tokens=False)\n",
    "    # construct input token ids\n",
    "    input_ids = [cls_token_id] + text_ids + [sep_token_id]\n",
    "    # construct reference token ids \n",
    "    ref_input_ids = [cls_token_id] + [ref_token_id] * len(text_ids) + [sep_token_id]\n",
    "\n",
    "    return torch.tensor([input_ids], device=device), torch.tensor([ref_input_ids], device=device), len(text_ids)\n",
    "\n",
    "def construct_input_ref_token_type_pair(input_ids, sep_ind=0):\n",
    "    seq_len = input_ids.size(1)\n",
    "    token_type_ids = torch.tensor([[0 if i <= sep_ind else 1 for i in range(seq_len)]], device=device)\n",
    "    ref_token_type_ids = torch.zeros_like(token_type_ids, device=device)# * -1\n",
    "    return token_type_ids, ref_token_type_ids\n",
    "\n",
    "def construct_input_ref_pos_id_pair(input_ids):\n",
    "    seq_length = input_ids.size(1)\n",
    "    position_ids = torch.arange(seq_length, dtype=torch.long, device=device)\n",
    "    # we could potentially also use random permutation with `torch.randperm(seq_length, device=device)`\n",
    "    ref_position_ids = torch.zeros(seq_length, dtype=torch.long, device=device)\n",
    "\n",
    "    position_ids = position_ids.unsqueeze(0).expand_as(input_ids)\n",
    "    ref_position_ids = ref_position_ids.unsqueeze(0).expand_as(input_ids)\n",
    "    return position_ids, ref_position_ids\n",
    "    \n",
    "def construct_attention_mask(input_ids):\n",
    "    return torch.ones_like(input_ids)\n",
    "\n",
    "# Summarize and vis functions\n",
    "def summarize_attributions_ig(attributions):\n",
    "    attributions = attributions.sum(dim=-1).squeeze(0)\n",
    "    attributions = attributions / torch.norm(attributions)\n",
    "    return attributions\n",
    "\n",
    "def summarize_attributions_occ(attributions):\n",
    "    return attributions.sum(axis=0)\n",
    "\n",
    "def token_to_words(attribution, tokens):\n",
    "    \n",
    "    words = []\n",
    "    attributes = []\n",
    "\n",
    "    for attribute, word in zip(attribution, tokens):\n",
    "\n",
    "        attribute = attribute.cpu().detach().numpy()\n",
    "        if word == '[CLS]' or word == '[SEP]':\n",
    "            words.append(word)\n",
    "            attributes.append([attribute])\n",
    "        elif not word.startswith('##'):\n",
    "            words.append(word)\n",
    "            attributes.append([attribute])\n",
    "        elif word.startswith('##'):\n",
    "            words[-1] += word.strip('##')\n",
    "            attributes[-1] = np.append(attributes[-1], attribute)\n",
    "\n",
    "    attribution = [np.sum(mean) for mean in attributes]\n",
    "    return attribution, words\n",
    "\n",
    "def colorize(attribution, tokens):\n",
    "    \n",
    "    template = \"\"\"  \n",
    "    <mark class=\"entity\" style=\" background: {}; padding: 0.4em 0.0em; margin: 0.0em; line-height: 2; \n",
    "    border-radius: 0.0em; \">{}<span style=\" font-size: 0.8em;  font-weight: bold;  line-height: 1; \n",
    "    border-radius: 0.0em; text-align-last:center; vertical-align: middle; margin-left: 0rem; \"></span></mark>\n",
    "    \"\"\"\n",
    "\n",
    "    colored_string = ''\n",
    "    normalized_and_mapped = matplotlib.cm.ScalarMappable(cmap=matplotlib.cm.Greens).to_rgba(attribution)\n",
    "    for idx, (word, color) in enumerate(zip(tokens, normalized_and_mapped)):\n",
    "        \n",
    "        word = word + ' '\n",
    "        color = matplotlib.colors.rgb2hex(color[:3])\n",
    "        if word.strip() == '[CLS]' or word.strip() == '[SEP]': \n",
    "            color = '#ffffff'\n",
    "        #print(color)\n",
    "        colored_string += template.format(color, word)\n",
    "\n",
    "    return colored_string\n",
    "\n",
    "def explain(word):\n",
    "    \n",
    "    data = collections.defaultdict(list)\n",
    "       \n",
    "    # tokenize\n",
    "    input_ids, ref_input_ids, sep_id = construct_input_ref_pair(word, ref_token_id, sep_token_id, cls_token_id)\n",
    "    token_type_ids, ref_token_type_ids = construct_input_ref_token_type_pair(input_ids, sep_id)\n",
    "    position_ids, ref_position_ids = construct_input_ref_pos_id_pair(input_ids)\n",
    "    attention_mask = construct_attention_mask(input_ids)\n",
    "    indices = input_ids[0].type(torch.LongTensor)\n",
    "    all_tokens = tokenizer.convert_ids_to_tokens(indices)\n",
    "    \n",
    "    #### Layer IG 20 steps\n",
    "    attribution_ig = lig.attribute(inputs=(input_ids, attention_mask),\n",
    "                                    baselines=(ref_input_ids, attention_mask),\n",
    "                                    n_steps=20,\n",
    "                                    internal_batch_size=1,\n",
    "                                    return_convergence_delta=False)\n",
    "    attributions_ig_sum = summarize_attributions_ig(attribution_ig)\n",
    "    attributions_ig_words, words = token_to_words(attributions_ig_sum, all_tokens)\n",
    "    data['Words'] = words\n",
    "    data['IG_20'] = attributions_ig_words\n",
    "    ####\n",
    "    \n",
    "    #### Layer IG 100 steps\n",
    "    attribution_ig_100 = lig.attribute(inputs=(input_ids, attention_mask),\n",
    "                                    baselines=(ref_input_ids, attention_mask),\n",
    "                                    n_steps=50,\n",
    "                                    internal_batch_size=1,\n",
    "                                    return_convergence_delta=False)\n",
    "    attribution_ig_100_sum = summarize_attributions_ig(attribution_ig_100)\n",
    "    attributions_ig_100_words, _ = token_to_words(attribution_ig_100_sum, all_tokens)\n",
    "    #print(attribution_ig_100_sum)\n",
    "    data['IG_50'] = attributions_ig_100_words\n",
    "    ####\n",
    "    \n",
    "    ### Occlusion maps \n",
    "    attribution_occ = occ.attribute(inputs=(input_ids, attention_mask),\n",
    "                                sliding_window_shapes=(tuple([1,]), tuple([1,])), \n",
    "                                baselines=(ref_input_ids, attention_mask),)\n",
    "    attributions_occ_sum = summarize_attributions_occ(attribution_occ[0])\n",
    "    attributions_occ_words, _ = token_to_words(attributions_occ_sum, all_tokens)\n",
    "    data['Occ_1-1'] = attributions_occ_words\n",
    "    #### Occlusion maps (3, 2)\n",
    "    attribution_occ2 = occ.attribute(inputs=(input_ids, attention_mask),\n",
    "                                sliding_window_shapes=(tuple([3,]), tuple([3,])), \n",
    "                                strides=(2, 2), \n",
    "                                baselines=(ref_input_ids, attention_mask),)\n",
    "    attribution_occ2_sum = summarize_attributions_occ(attribution_occ2[0])\n",
    "    attributions_occ2_words, _ = token_to_words(attribution_occ2_sum, all_tokens)\n",
    "    data['Occ_3-2'] = attributions_occ2_words\n",
    "    ####\n",
    "    \n",
    "    #### Shapley Value Sampling\n",
    "    attribution_SVS = SVS.attribute(inputs=(input_ids, attention_mask),\n",
    "                                baselines=(ref_input_ids, attention_mask),\n",
    "                                   n_samples=5)\n",
    "    attributions_SVS_sum = attribution_SVS[0][0]\n",
    "    attributions_SVS_words, _ = token_to_words(attributions_SVS_sum, all_tokens)\n",
    "    data['SVS'] = attributions_SVS_words\n",
    "    ####\n",
    "    \n",
    "    ### Layer Activation\n",
    "    attribution_la = la.attribute(inputs=(input_ids, attention_mask),)\n",
    "    attributions_la_sum = summarize_attributions_ig(attribution_la)\n",
    "    attributions_la_words, _ = token_to_words(attributions_la_sum, all_tokens)\n",
    "    data['LA'] = attributions_la_words\n",
    "    \n",
    "    attribution_lgxa = lgxa.attribute(inputs=input_ids,\n",
    "                                 additional_forward_args=attention_mask,\n",
    "                                 attribute_to_layer_input=False)\n",
    "    attributions_lgxa_sum = summarize_attributions_ig(attribution_lgxa)\n",
    "    attributions_lgxa_words, words = token_to_words(attributions_lgxa_sum, all_tokens)\n",
    "    data['LGXA'] = attributions_lgxa_words\n",
    "    \n",
    "    return data"
   ]
  },
  {
   "cell_type": "markdown",
   "id": "27ed1a5e-93ca-48e5-b63e-dea3deb6c91e",
   "metadata": {},
   "source": [
    "### Explanatory Methods"
   ]
  },
  {
   "cell_type": "code",
   "execution_count": 200,
   "id": "157ff7bf-9718-40ba-a4ce-61f3791d04fe",
   "metadata": {},
   "outputs": [],
   "source": [
    "from captum.attr import LayerActivation, LayerIntegratedGradients \n",
    "from captum.attr import configure_interpretable_embedding_layer, remove_interpretable_embedding_layer\n",
    "from captum.attr import Occlusion, FeatureAblation, ShapleyValueSampling\n",
    "from captum.attr import LayerFeatureAblation\n",
    "from captum.attr import LayerGradientXActivation"
   ]
  },
  {
   "cell_type": "code",
   "execution_count": 201,
   "id": "cde70e22-4840-4763-886d-2b10427630a0",
   "metadata": {},
   "outputs": [],
   "source": [
    "lig     = LayerIntegratedGradients(custom_forward, model.bert.embeddings)\n",
    "occ     = Occlusion(custom_forward)\n",
    "ablator = FeatureAblation(custom_forward)\n",
    "lfa     = LayerFeatureAblation(custom_forward, model.bert.embeddings)\n",
    "SVS     = ShapleyValueSampling(custom_forward)\n",
    "la      = LayerActivation(custom_forward, model.bert.embeddings)\n",
    "lgxa    = LayerGradientXActivation(custom_forward, model.bert.embeddings)"
   ]
  },
  {
   "cell_type": "code",
   "execution_count": 202,
   "id": "a1eeb07e-fccb-4369-93bd-a4434d4eb707",
   "metadata": {},
   "outputs": [],
   "source": [
    "# Single Example\n",
    "string = 'Orange legs with long nails.'\n",
    "test_example = explain(string)"
   ]
  },
  {
   "cell_type": "code",
   "execution_count": 203,
   "id": "edb60020-6afc-4dcb-b348-75bb06e104bd",
   "metadata": {},
   "outputs": [
    {
     "name": "stdout",
     "output_type": "stream",
     "text": [
      "IG_20\n"
     ]
    },
    {
     "data": {
      "text/html": [
       "  \n",
       "    <mark class=\"entity\" style=\" background: #ffffff; padding: 0.4em 0.0em; margin: 0.0em; line-height: 2; \n",
       "    border-radius: 0.0em; \">[CLS] <span style=\" font-size: 0.8em;  font-weight: bold;  line-height: 1; \n",
       "    border-radius: 0.0em; text-align-last:center; vertical-align: middle; margin-left: 0rem; \"></span></mark>\n",
       "      \n",
       "    <mark class=\"entity\" style=\" background: #7dc87e; padding: 0.4em 0.0em; margin: 0.0em; line-height: 2; \n",
       "    border-radius: 0.0em; \">orange <span style=\" font-size: 0.8em;  font-weight: bold;  line-height: 1; \n",
       "    border-radius: 0.0em; text-align-last:center; vertical-align: middle; margin-left: 0rem; \"></span></mark>\n",
       "      \n",
       "    <mark class=\"entity\" style=\" background: #45ad5f; padding: 0.4em 0.0em; margin: 0.0em; line-height: 2; \n",
       "    border-radius: 0.0em; \">legs <span style=\" font-size: 0.8em;  font-weight: bold;  line-height: 1; \n",
       "    border-radius: 0.0em; text-align-last:center; vertical-align: middle; margin-left: 0rem; \"></span></mark>\n",
       "      \n",
       "    <mark class=\"entity\" style=\" background: #00441b; padding: 0.4em 0.0em; margin: 0.0em; line-height: 2; \n",
       "    border-radius: 0.0em; \">with <span style=\" font-size: 0.8em;  font-weight: bold;  line-height: 1; \n",
       "    border-radius: 0.0em; text-align-last:center; vertical-align: middle; margin-left: 0rem; \"></span></mark>\n",
       "      \n",
       "    <mark class=\"entity\" style=\" background: #369f54; padding: 0.4em 0.0em; margin: 0.0em; line-height: 2; \n",
       "    border-radius: 0.0em; \">long <span style=\" font-size: 0.8em;  font-weight: bold;  line-height: 1; \n",
       "    border-radius: 0.0em; text-align-last:center; vertical-align: middle; margin-left: 0rem; \"></span></mark>\n",
       "      \n",
       "    <mark class=\"entity\" style=\" background: #f7fcf5; padding: 0.4em 0.0em; margin: 0.0em; line-height: 2; \n",
       "    border-radius: 0.0em; \">nails <span style=\" font-size: 0.8em;  font-weight: bold;  line-height: 1; \n",
       "    border-radius: 0.0em; text-align-last:center; vertical-align: middle; margin-left: 0rem; \"></span></mark>\n",
       "      \n",
       "    <mark class=\"entity\" style=\" background: #0a7633; padding: 0.4em 0.0em; margin: 0.0em; line-height: 2; \n",
       "    border-radius: 0.0em; \">. <span style=\" font-size: 0.8em;  font-weight: bold;  line-height: 1; \n",
       "    border-radius: 0.0em; text-align-last:center; vertical-align: middle; margin-left: 0rem; \"></span></mark>\n",
       "      \n",
       "    <mark class=\"entity\" style=\" background: #ffffff; padding: 0.4em 0.0em; margin: 0.0em; line-height: 2; \n",
       "    border-radius: 0.0em; \">[SEP] <span style=\" font-size: 0.8em;  font-weight: bold;  line-height: 1; \n",
       "    border-radius: 0.0em; text-align-last:center; vertical-align: middle; margin-left: 0rem; \"></span></mark>\n",
       "    "
      ],
      "text/plain": [
       "<IPython.core.display.HTML object>"
      ]
     },
     "metadata": {},
     "output_type": "display_data"
    },
    {
     "name": "stdout",
     "output_type": "stream",
     "text": [
      "IG_50\n"
     ]
    },
    {
     "data": {
      "text/html": [
       "  \n",
       "    <mark class=\"entity\" style=\" background: #ffffff; padding: 0.4em 0.0em; margin: 0.0em; line-height: 2; \n",
       "    border-radius: 0.0em; \">[CLS] <span style=\" font-size: 0.8em;  font-weight: bold;  line-height: 1; \n",
       "    border-radius: 0.0em; text-align-last:center; vertical-align: middle; margin-left: 0rem; \"></span></mark>\n",
       "      \n",
       "    <mark class=\"entity\" style=\" background: #004a1e; padding: 0.4em 0.0em; margin: 0.0em; line-height: 2; \n",
       "    border-radius: 0.0em; \">orange <span style=\" font-size: 0.8em;  font-weight: bold;  line-height: 1; \n",
       "    border-radius: 0.0em; text-align-last:center; vertical-align: middle; margin-left: 0rem; \"></span></mark>\n",
       "      \n",
       "    <mark class=\"entity\" style=\" background: #ceecc8; padding: 0.4em 0.0em; margin: 0.0em; line-height: 2; \n",
       "    border-radius: 0.0em; \">legs <span style=\" font-size: 0.8em;  font-weight: bold;  line-height: 1; \n",
       "    border-radius: 0.0em; text-align-last:center; vertical-align: middle; margin-left: 0rem; \"></span></mark>\n",
       "      \n",
       "    <mark class=\"entity\" style=\" background: #ebf7e7; padding: 0.4em 0.0em; margin: 0.0em; line-height: 2; \n",
       "    border-radius: 0.0em; \">with <span style=\" font-size: 0.8em;  font-weight: bold;  line-height: 1; \n",
       "    border-radius: 0.0em; text-align-last:center; vertical-align: middle; margin-left: 0rem; \"></span></mark>\n",
       "      \n",
       "    <mark class=\"entity\" style=\" background: #00441b; padding: 0.4em 0.0em; margin: 0.0em; line-height: 2; \n",
       "    border-radius: 0.0em; \">long <span style=\" font-size: 0.8em;  font-weight: bold;  line-height: 1; \n",
       "    border-radius: 0.0em; text-align-last:center; vertical-align: middle; margin-left: 0rem; \"></span></mark>\n",
       "      \n",
       "    <mark class=\"entity\" style=\" background: #f7fcf5; padding: 0.4em 0.0em; margin: 0.0em; line-height: 2; \n",
       "    border-radius: 0.0em; \">nails <span style=\" font-size: 0.8em;  font-weight: bold;  line-height: 1; \n",
       "    border-radius: 0.0em; text-align-last:center; vertical-align: middle; margin-left: 0rem; \"></span></mark>\n",
       "      \n",
       "    <mark class=\"entity\" style=\" background: #f7fcf5; padding: 0.4em 0.0em; margin: 0.0em; line-height: 2; \n",
       "    border-radius: 0.0em; \">. <span style=\" font-size: 0.8em;  font-weight: bold;  line-height: 1; \n",
       "    border-radius: 0.0em; text-align-last:center; vertical-align: middle; margin-left: 0rem; \"></span></mark>\n",
       "      \n",
       "    <mark class=\"entity\" style=\" background: #ffffff; padding: 0.4em 0.0em; margin: 0.0em; line-height: 2; \n",
       "    border-radius: 0.0em; \">[SEP] <span style=\" font-size: 0.8em;  font-weight: bold;  line-height: 1; \n",
       "    border-radius: 0.0em; text-align-last:center; vertical-align: middle; margin-left: 0rem; \"></span></mark>\n",
       "    "
      ],
      "text/plain": [
       "<IPython.core.display.HTML object>"
      ]
     },
     "metadata": {},
     "output_type": "display_data"
    },
    {
     "name": "stdout",
     "output_type": "stream",
     "text": [
      "Occ_1-1\n"
     ]
    },
    {
     "data": {
      "text/html": [
       "  \n",
       "    <mark class=\"entity\" style=\" background: #ffffff; padding: 0.4em 0.0em; margin: 0.0em; line-height: 2; \n",
       "    border-radius: 0.0em; \">[CLS] <span style=\" font-size: 0.8em;  font-weight: bold;  line-height: 1; \n",
       "    border-radius: 0.0em; text-align-last:center; vertical-align: middle; margin-left: 0rem; \"></span></mark>\n",
       "      \n",
       "    <mark class=\"entity\" style=\" background: #00441b; padding: 0.4em 0.0em; margin: 0.0em; line-height: 2; \n",
       "    border-radius: 0.0em; \">orange <span style=\" font-size: 0.8em;  font-weight: bold;  line-height: 1; \n",
       "    border-radius: 0.0em; text-align-last:center; vertical-align: middle; margin-left: 0rem; \"></span></mark>\n",
       "      \n",
       "    <mark class=\"entity\" style=\" background: #e0f3db; padding: 0.4em 0.0em; margin: 0.0em; line-height: 2; \n",
       "    border-radius: 0.0em; \">legs <span style=\" font-size: 0.8em;  font-weight: bold;  line-height: 1; \n",
       "    border-radius: 0.0em; text-align-last:center; vertical-align: middle; margin-left: 0rem; \"></span></mark>\n",
       "      \n",
       "    <mark class=\"entity\" style=\" background: #8dd08a; padding: 0.4em 0.0em; margin: 0.0em; line-height: 2; \n",
       "    border-radius: 0.0em; \">with <span style=\" font-size: 0.8em;  font-weight: bold;  line-height: 1; \n",
       "    border-radius: 0.0em; text-align-last:center; vertical-align: middle; margin-left: 0rem; \"></span></mark>\n",
       "      \n",
       "    <mark class=\"entity\" style=\" background: #f7fcf5; padding: 0.4em 0.0em; margin: 0.0em; line-height: 2; \n",
       "    border-radius: 0.0em; \">long <span style=\" font-size: 0.8em;  font-weight: bold;  line-height: 1; \n",
       "    border-radius: 0.0em; text-align-last:center; vertical-align: middle; margin-left: 0rem; \"></span></mark>\n",
       "      \n",
       "    <mark class=\"entity\" style=\" background: #16803c; padding: 0.4em 0.0em; margin: 0.0em; line-height: 2; \n",
       "    border-radius: 0.0em; \">nails <span style=\" font-size: 0.8em;  font-weight: bold;  line-height: 1; \n",
       "    border-radius: 0.0em; text-align-last:center; vertical-align: middle; margin-left: 0rem; \"></span></mark>\n",
       "      \n",
       "    <mark class=\"entity\" style=\" background: #f1faee; padding: 0.4em 0.0em; margin: 0.0em; line-height: 2; \n",
       "    border-radius: 0.0em; \">. <span style=\" font-size: 0.8em;  font-weight: bold;  line-height: 1; \n",
       "    border-radius: 0.0em; text-align-last:center; vertical-align: middle; margin-left: 0rem; \"></span></mark>\n",
       "      \n",
       "    <mark class=\"entity\" style=\" background: #ffffff; padding: 0.4em 0.0em; margin: 0.0em; line-height: 2; \n",
       "    border-radius: 0.0em; \">[SEP] <span style=\" font-size: 0.8em;  font-weight: bold;  line-height: 1; \n",
       "    border-radius: 0.0em; text-align-last:center; vertical-align: middle; margin-left: 0rem; \"></span></mark>\n",
       "    "
      ],
      "text/plain": [
       "<IPython.core.display.HTML object>"
      ]
     },
     "metadata": {},
     "output_type": "display_data"
    },
    {
     "name": "stdout",
     "output_type": "stream",
     "text": [
      "Occ_3-2\n"
     ]
    },
    {
     "data": {
      "text/html": [
       "  \n",
       "    <mark class=\"entity\" style=\" background: #ffffff; padding: 0.4em 0.0em; margin: 0.0em; line-height: 2; \n",
       "    border-radius: 0.0em; \">[CLS] <span style=\" font-size: 0.8em;  font-weight: bold;  line-height: 1; \n",
       "    border-radius: 0.0em; text-align-last:center; vertical-align: middle; margin-left: 0rem; \"></span></mark>\n",
       "      \n",
       "    <mark class=\"entity\" style=\" background: #f7fcf5; padding: 0.4em 0.0em; margin: 0.0em; line-height: 2; \n",
       "    border-radius: 0.0em; \">orange <span style=\" font-size: 0.8em;  font-weight: bold;  line-height: 1; \n",
       "    border-radius: 0.0em; text-align-last:center; vertical-align: middle; margin-left: 0rem; \"></span></mark>\n",
       "      \n",
       "    <mark class=\"entity\" style=\" background: #73c476; padding: 0.4em 0.0em; margin: 0.0em; line-height: 2; \n",
       "    border-radius: 0.0em; \">legs <span style=\" font-size: 0.8em;  font-weight: bold;  line-height: 1; \n",
       "    border-radius: 0.0em; text-align-last:center; vertical-align: middle; margin-left: 0rem; \"></span></mark>\n",
       "      \n",
       "    <mark class=\"entity\" style=\" background: #00441b; padding: 0.4em 0.0em; margin: 0.0em; line-height: 2; \n",
       "    border-radius: 0.0em; \">with <span style=\" font-size: 0.8em;  font-weight: bold;  line-height: 1; \n",
       "    border-radius: 0.0em; text-align-last:center; vertical-align: middle; margin-left: 0rem; \"></span></mark>\n",
       "      \n",
       "    <mark class=\"entity\" style=\" background: #2f984f; padding: 0.4em 0.0em; margin: 0.0em; line-height: 2; \n",
       "    border-radius: 0.0em; \">long <span style=\" font-size: 0.8em;  font-weight: bold;  line-height: 1; \n",
       "    border-radius: 0.0em; text-align-last:center; vertical-align: middle; margin-left: 0rem; \"></span></mark>\n",
       "      \n",
       "    <mark class=\"entity\" style=\" background: #9bd696; padding: 0.4em 0.0em; margin: 0.0em; line-height: 2; \n",
       "    border-radius: 0.0em; \">nails <span style=\" font-size: 0.8em;  font-weight: bold;  line-height: 1; \n",
       "    border-radius: 0.0em; text-align-last:center; vertical-align: middle; margin-left: 0rem; \"></span></mark>\n",
       "      \n",
       "    <mark class=\"entity\" style=\" background: #c3e7bc; padding: 0.4em 0.0em; margin: 0.0em; line-height: 2; \n",
       "    border-radius: 0.0em; \">. <span style=\" font-size: 0.8em;  font-weight: bold;  line-height: 1; \n",
       "    border-radius: 0.0em; text-align-last:center; vertical-align: middle; margin-left: 0rem; \"></span></mark>\n",
       "      \n",
       "    <mark class=\"entity\" style=\" background: #ffffff; padding: 0.4em 0.0em; margin: 0.0em; line-height: 2; \n",
       "    border-radius: 0.0em; \">[SEP] <span style=\" font-size: 0.8em;  font-weight: bold;  line-height: 1; \n",
       "    border-radius: 0.0em; text-align-last:center; vertical-align: middle; margin-left: 0rem; \"></span></mark>\n",
       "    "
      ],
      "text/plain": [
       "<IPython.core.display.HTML object>"
      ]
     },
     "metadata": {},
     "output_type": "display_data"
    },
    {
     "name": "stdout",
     "output_type": "stream",
     "text": [
      "SVS\n"
     ]
    },
    {
     "data": {
      "text/html": [
       "  \n",
       "    <mark class=\"entity\" style=\" background: #ffffff; padding: 0.4em 0.0em; margin: 0.0em; line-height: 2; \n",
       "    border-radius: 0.0em; \">[CLS] <span style=\" font-size: 0.8em;  font-weight: bold;  line-height: 1; \n",
       "    border-radius: 0.0em; text-align-last:center; vertical-align: middle; margin-left: 0rem; \"></span></mark>\n",
       "      \n",
       "    <mark class=\"entity\" style=\" background: #f7fcf5; padding: 0.4em 0.0em; margin: 0.0em; line-height: 2; \n",
       "    border-radius: 0.0em; \">orange <span style=\" font-size: 0.8em;  font-weight: bold;  line-height: 1; \n",
       "    border-radius: 0.0em; text-align-last:center; vertical-align: middle; margin-left: 0rem; \"></span></mark>\n",
       "      \n",
       "    <mark class=\"entity\" style=\" background: #76c578; padding: 0.4em 0.0em; margin: 0.0em; line-height: 2; \n",
       "    border-radius: 0.0em; \">legs <span style=\" font-size: 0.8em;  font-weight: bold;  line-height: 1; \n",
       "    border-radius: 0.0em; text-align-last:center; vertical-align: middle; margin-left: 0rem; \"></span></mark>\n",
       "      \n",
       "    <mark class=\"entity\" style=\" background: #9bd696; padding: 0.4em 0.0em; margin: 0.0em; line-height: 2; \n",
       "    border-radius: 0.0em; \">with <span style=\" font-size: 0.8em;  font-weight: bold;  line-height: 1; \n",
       "    border-radius: 0.0em; text-align-last:center; vertical-align: middle; margin-left: 0rem; \"></span></mark>\n",
       "      \n",
       "    <mark class=\"entity\" style=\" background: #80ca80; padding: 0.4em 0.0em; margin: 0.0em; line-height: 2; \n",
       "    border-radius: 0.0em; \">long <span style=\" font-size: 0.8em;  font-weight: bold;  line-height: 1; \n",
       "    border-radius: 0.0em; text-align-last:center; vertical-align: middle; margin-left: 0rem; \"></span></mark>\n",
       "      \n",
       "    <mark class=\"entity\" style=\" background: #00441b; padding: 0.4em 0.0em; margin: 0.0em; line-height: 2; \n",
       "    border-radius: 0.0em; \">nails <span style=\" font-size: 0.8em;  font-weight: bold;  line-height: 1; \n",
       "    border-radius: 0.0em; text-align-last:center; vertical-align: middle; margin-left: 0rem; \"></span></mark>\n",
       "      \n",
       "    <mark class=\"entity\" style=\" background: #95d391; padding: 0.4em 0.0em; margin: 0.0em; line-height: 2; \n",
       "    border-radius: 0.0em; \">. <span style=\" font-size: 0.8em;  font-weight: bold;  line-height: 1; \n",
       "    border-radius: 0.0em; text-align-last:center; vertical-align: middle; margin-left: 0rem; \"></span></mark>\n",
       "      \n",
       "    <mark class=\"entity\" style=\" background: #ffffff; padding: 0.4em 0.0em; margin: 0.0em; line-height: 2; \n",
       "    border-radius: 0.0em; \">[SEP] <span style=\" font-size: 0.8em;  font-weight: bold;  line-height: 1; \n",
       "    border-radius: 0.0em; text-align-last:center; vertical-align: middle; margin-left: 0rem; \"></span></mark>\n",
       "    "
      ],
      "text/plain": [
       "<IPython.core.display.HTML object>"
      ]
     },
     "metadata": {},
     "output_type": "display_data"
    },
    {
     "name": "stdout",
     "output_type": "stream",
     "text": [
      "LA\n"
     ]
    },
    {
     "data": {
      "text/html": [
       "  \n",
       "    <mark class=\"entity\" style=\" background: #ffffff; padding: 0.4em 0.0em; margin: 0.0em; line-height: 2; \n",
       "    border-radius: 0.0em; \">[CLS] <span style=\" font-size: 0.8em;  font-weight: bold;  line-height: 1; \n",
       "    border-radius: 0.0em; text-align-last:center; vertical-align: middle; margin-left: 0rem; \"></span></mark>\n",
       "      \n",
       "    <mark class=\"entity\" style=\" background: #68be70; padding: 0.4em 0.0em; margin: 0.0em; line-height: 2; \n",
       "    border-radius: 0.0em; \">orange <span style=\" font-size: 0.8em;  font-weight: bold;  line-height: 1; \n",
       "    border-radius: 0.0em; text-align-last:center; vertical-align: middle; margin-left: 0rem; \"></span></mark>\n",
       "      \n",
       "    <mark class=\"entity\" style=\" background: #e9f7e5; padding: 0.4em 0.0em; margin: 0.0em; line-height: 2; \n",
       "    border-radius: 0.0em; \">legs <span style=\" font-size: 0.8em;  font-weight: bold;  line-height: 1; \n",
       "    border-radius: 0.0em; text-align-last:center; vertical-align: middle; margin-left: 0rem; \"></span></mark>\n",
       "      \n",
       "    <mark class=\"entity\" style=\" background: #00441b; padding: 0.4em 0.0em; margin: 0.0em; line-height: 2; \n",
       "    border-radius: 0.0em; \">with <span style=\" font-size: 0.8em;  font-weight: bold;  line-height: 1; \n",
       "    border-radius: 0.0em; text-align-last:center; vertical-align: middle; margin-left: 0rem; \"></span></mark>\n",
       "      \n",
       "    <mark class=\"entity\" style=\" background: #00682a; padding: 0.4em 0.0em; margin: 0.0em; line-height: 2; \n",
       "    border-radius: 0.0em; \">long <span style=\" font-size: 0.8em;  font-weight: bold;  line-height: 1; \n",
       "    border-radius: 0.0em; text-align-last:center; vertical-align: middle; margin-left: 0rem; \"></span></mark>\n",
       "      \n",
       "    <mark class=\"entity\" style=\" background: #f7fcf5; padding: 0.4em 0.0em; margin: 0.0em; line-height: 2; \n",
       "    border-radius: 0.0em; \">nails <span style=\" font-size: 0.8em;  font-weight: bold;  line-height: 1; \n",
       "    border-radius: 0.0em; text-align-last:center; vertical-align: middle; margin-left: 0rem; \"></span></mark>\n",
       "      \n",
       "    <mark class=\"entity\" style=\" background: #17813d; padding: 0.4em 0.0em; margin: 0.0em; line-height: 2; \n",
       "    border-radius: 0.0em; \">. <span style=\" font-size: 0.8em;  font-weight: bold;  line-height: 1; \n",
       "    border-radius: 0.0em; text-align-last:center; vertical-align: middle; margin-left: 0rem; \"></span></mark>\n",
       "      \n",
       "    <mark class=\"entity\" style=\" background: #ffffff; padding: 0.4em 0.0em; margin: 0.0em; line-height: 2; \n",
       "    border-radius: 0.0em; \">[SEP] <span style=\" font-size: 0.8em;  font-weight: bold;  line-height: 1; \n",
       "    border-radius: 0.0em; text-align-last:center; vertical-align: middle; margin-left: 0rem; \"></span></mark>\n",
       "    "
      ],
      "text/plain": [
       "<IPython.core.display.HTML object>"
      ]
     },
     "metadata": {},
     "output_type": "display_data"
    },
    {
     "name": "stdout",
     "output_type": "stream",
     "text": [
      "LGXA\n"
     ]
    },
    {
     "data": {
      "text/html": [
       "  \n",
       "    <mark class=\"entity\" style=\" background: #ffffff; padding: 0.4em 0.0em; margin: 0.0em; line-height: 2; \n",
       "    border-radius: 0.0em; \">[CLS] <span style=\" font-size: 0.8em;  font-weight: bold;  line-height: 1; \n",
       "    border-radius: 0.0em; text-align-last:center; vertical-align: middle; margin-left: 0rem; \"></span></mark>\n",
       "      \n",
       "    <mark class=\"entity\" style=\" background: #f7fcf5; padding: 0.4em 0.0em; margin: 0.0em; line-height: 2; \n",
       "    border-radius: 0.0em; \">orange <span style=\" font-size: 0.8em;  font-weight: bold;  line-height: 1; \n",
       "    border-radius: 0.0em; text-align-last:center; vertical-align: middle; margin-left: 0rem; \"></span></mark>\n",
       "      \n",
       "    <mark class=\"entity\" style=\" background: #6dc072; padding: 0.4em 0.0em; margin: 0.0em; line-height: 2; \n",
       "    border-radius: 0.0em; \">legs <span style=\" font-size: 0.8em;  font-weight: bold;  line-height: 1; \n",
       "    border-radius: 0.0em; text-align-last:center; vertical-align: middle; margin-left: 0rem; \"></span></mark>\n",
       "      \n",
       "    <mark class=\"entity\" style=\" background: #1c8540; padding: 0.4em 0.0em; margin: 0.0em; line-height: 2; \n",
       "    border-radius: 0.0em; \">with <span style=\" font-size: 0.8em;  font-weight: bold;  line-height: 1; \n",
       "    border-radius: 0.0em; text-align-last:center; vertical-align: middle; margin-left: 0rem; \"></span></mark>\n",
       "      \n",
       "    <mark class=\"entity\" style=\" background: #00441b; padding: 0.4em 0.0em; margin: 0.0em; line-height: 2; \n",
       "    border-radius: 0.0em; \">long <span style=\" font-size: 0.8em;  font-weight: bold;  line-height: 1; \n",
       "    border-radius: 0.0em; text-align-last:center; vertical-align: middle; margin-left: 0rem; \"></span></mark>\n",
       "      \n",
       "    <mark class=\"entity\" style=\" background: #3ca559; padding: 0.4em 0.0em; margin: 0.0em; line-height: 2; \n",
       "    border-radius: 0.0em; \">nails <span style=\" font-size: 0.8em;  font-weight: bold;  line-height: 1; \n",
       "    border-radius: 0.0em; text-align-last:center; vertical-align: middle; margin-left: 0rem; \"></span></mark>\n",
       "      \n",
       "    <mark class=\"entity\" style=\" background: #004a1e; padding: 0.4em 0.0em; margin: 0.0em; line-height: 2; \n",
       "    border-radius: 0.0em; \">. <span style=\" font-size: 0.8em;  font-weight: bold;  line-height: 1; \n",
       "    border-radius: 0.0em; text-align-last:center; vertical-align: middle; margin-left: 0rem; \"></span></mark>\n",
       "      \n",
       "    <mark class=\"entity\" style=\" background: #ffffff; padding: 0.4em 0.0em; margin: 0.0em; line-height: 2; \n",
       "    border-radius: 0.0em; \">[SEP] <span style=\" font-size: 0.8em;  font-weight: bold;  line-height: 1; \n",
       "    border-radius: 0.0em; text-align-last:center; vertical-align: middle; margin-left: 0rem; \"></span></mark>\n",
       "    "
      ],
      "text/plain": [
       "<IPython.core.display.HTML object>"
      ]
     },
     "metadata": {},
     "output_type": "display_data"
    }
   ],
   "source": [
    "# Skip first (contains tokens)\n",
    "for attribution in list(test_example.keys())[1:]:\n",
    "    words = test_example['Words']\n",
    "    string = colorize(test_example[attribution], words)\n",
    "    print(attribution)\n",
    "    display(HTML(string))"
   ]
  },
  {
   "cell_type": "code",
   "execution_count": 204,
   "id": "bf2dcf54-94c4-4748-9305-f9b4fc1435fe",
   "metadata": {},
   "outputs": [
    {
     "data": {
      "text/plain": [
       "['House Sparrow', 'Blue Jay']"
      ]
     },
     "execution_count": 204,
     "metadata": {},
     "output_type": "execute_result"
    }
   ],
   "source": [
    "common_birds[0:2]"
   ]
  },
  {
   "cell_type": "code",
   "execution_count": 205,
   "id": "301534cb-d73e-489b-9ed0-a46be15a9520",
   "metadata": {},
   "outputs": [
    {
     "data": {
      "application/vnd.jupyter.widget-view+json": {
       "model_id": "63cdc1201ac942fe811ec09d44e4d79e",
       "version_major": 2,
       "version_minor": 0
      },
      "text/plain": [
       "Bird:   0%|          | 0/2 [00:00<?, ?it/s]"
      ]
     },
     "metadata": {},
     "output_type": "display_data"
    },
    {
     "data": {
      "application/vnd.jupyter.widget-view+json": {
       "model_id": "",
       "version_major": 2,
       "version_minor": 0
      },
      "text/plain": [
       "Text:   0%|          | 0/104 [00:00<?, ?it/s]"
      ]
     },
     "metadata": {},
     "output_type": "display_data"
    },
    {
     "data": {
      "application/vnd.jupyter.widget-view+json": {
       "model_id": "",
       "version_major": 2,
       "version_minor": 0
      },
      "text/plain": [
       "Text:   0%|          | 0/118 [00:00<?, ?it/s]"
      ]
     },
     "metadata": {},
     "output_type": "display_data"
    }
   ],
   "source": [
    "attribution = collections.defaultdict(list)\n",
    "idx = 0\n",
    "\n",
    "# Loop over common birds\n",
    "#for bird in tqdm_notebook(list(data.keys())[0:2], desc='Bird'):\n",
    "for bird in tqdm_notebook(common_birds[0:2], desc='Bird'):\n",
    "    # Get descriptions\n",
    "    text_list = [text for text in data[bird]]\n",
    "    # Get attribution values\n",
    "    for text in tqdm_notebook(text_list[0:], desc='Text', leave=False):\n",
    "        d = explain(text)\n",
    "        d['Sentence'] = len(d['Words']) * [idx]\n",
    "        d['Bird'] = len(d['Words']) * [bird]\n",
    "        for key in d.keys():\n",
    "            attribution[key] += d[key]\n",
    "        \n",
    "        idx += 1"
   ]
  },
  {
   "cell_type": "markdown",
   "id": "72ec0123-7d88-47a9-a294-b86266ef136d",
   "metadata": {},
   "source": [
    "### Get Bird Glossary"
   ]
  },
  {
   "cell_type": "code",
   "execution_count": 216,
   "id": "a5003d91-d289-446d-9bd7-f7f2506c6c8d",
   "metadata": {},
   "outputs": [],
   "source": [
    "# URL\n",
    "URL = 'https://en.wikipedia.org/wiki/Glossary_of_bird_terms'\n",
    "# Get the page\n",
    "page = requests.get(URL, timeout=5)\n",
    "soup = BeautifulSoup(page.content, \"lxml\", from_encoding=\"iso-8859-1\")   \n",
    "# Find embedded glossary\n",
    "glossaries = soup.find_all('dt', {'class': 'glossary'})\n",
    "parts = [part.text.lower().strip() for part in glossaries]\n",
    "# Get additional anchors (\"also know as...\")\n",
    "glossaries_other = soup.find_all('span', {'class': 'anchor'})\n",
    "parts_other = [part['id'].lower().strip() for part in glossaries_other]\n",
    "# Append and drop duplicates\n",
    "parts = list(set((parts + parts_other)))\n",
    "# Replace underscore with space\n",
    "parts = [part.replace('_', ' ') for part in parts]"
   ]
  },
  {
   "cell_type": "code",
   "execution_count": 217,
   "id": "7bf89010-9912-4d3b-a52d-db24f42c294a",
   "metadata": {},
   "outputs": [
    {
     "data": {
      "application/vnd.jupyter.widget-view+json": {
       "model_id": "dbac21f6df42411091bbd26968ef3c63",
       "version_major": 2,
       "version_minor": 0
      },
      "text/plain": [
       "  0%|          | 0/222 [00:00<?, ?it/s]"
      ]
     },
     "metadata": {},
     "output_type": "display_data"
    }
   ],
   "source": [
    "# Drop into a df\n",
    "df_attribution = pd.DataFrame.from_dict(attribution)\n",
    "\n",
    "data_random = []\n",
    "# Extract highest attributions\n",
    "for idx in tqdm_notebook(df_attribution['Sentence'].unique()):\n",
    "#for idx in range(50, 51):\n",
    "    #doc = nlp(text_list[idx])\n",
    "    doc = nlp(' '.join(df_attribution[df_attribution['Sentence'] == idx]['Words']))\n",
    "    if len(doc) <= 2:\n",
    "        continue\n",
    "    # Check single\n",
    "    words = [chunk.root.lemma_.lower() for chunk in doc.noun_chunks] \n",
    "    # Check multiple\n",
    "    words += [chunk.root.text.lower() for chunk in doc.noun_chunks]\n",
    "    # Drop duplicate\n",
    "    words = list(set(words))\n",
    "    #print(words)\n",
    "    #print(words)\n",
    "    traits =  set(words) & set(parts)\n",
    "    #print(traits)\n",
    "    if traits:\n",
    "        # Yield the traits\n",
    "        trait_list = list(traits)\n",
    "        #print(trait_list)\n",
    "        for trait in trait_list:\n",
    "            for column in df_attribution.columns[1:-2]:\n",
    "                #print(column)\n",
    "                index = df_attribution[df_attribution['Sentence'] == idx][column].sort_values(ascending=False)\n",
    "                data_random.append((idx, column, df_attribution.iloc[index.index[0]].Words, trait, df_attribution.iloc[index.index[0]].Bird))"
   ]
  },
  {
   "cell_type": "code",
   "execution_count": 219,
   "id": "b48cf2c4-3fe1-4ae1-8c58-488d701bbf3f",
   "metadata": {},
   "outputs": [
    {
     "data": {
      "application/vnd.jupyter.widget-view+json": {
       "model_id": "70ddd4ccca524522ac4172e5425d2140",
       "version_major": 2,
       "version_minor": 0
      },
      "text/plain": [
       "  0%|          | 0/2 [00:00<?, ?it/s]"
      ]
     },
     "metadata": {},
     "output_type": "display_data"
    }
   ],
   "source": [
    "description_CUB_dict = []\n",
    "# Rewrite the sentence\n",
    "for bird in tqdm_notebook(df_attribution.Bird.unique()): \n",
    "    for (part, adjective) in CUB_dict[bird]:\n",
    "        part = part[4:].replace('_', ' ')\n",
    "\n",
    "        description_CUB_dict.append((part, adjective, bird))"
   ]
  },
  {
   "cell_type": "code",
   "execution_count": 220,
   "id": "f20ad380-af9a-4216-922a-c3c54afaeac1",
   "metadata": {},
   "outputs": [],
   "source": [
    "# create DataFrame using data\n",
    "df_random = pd.DataFrame(data_random, columns =['Sentence', 'Attribution', 'Adjective', 'Part', 'Bird'])\n",
    "df_cub = pd.DataFrame(description_CUB_dict, columns =['Part', 'Adjective', 'Bird'])\n",
    "\n",
    "# Create trait\n",
    "df_random['Trait'] = df_random['Part'] + ' ' + df_random['Adjective']\n",
    "df_cub['Trait'] = df_cub['Part'] + ' ' + df_cub['Adjective']\n",
    "\n",
    "# Create similarity column\n",
    "#df_random['Similarity'] = np.nan"
   ]
  },
  {
   "cell_type": "code",
   "execution_count": 223,
   "id": "a803afdd-19a9-4ef3-aa33-7242687a6c29",
   "metadata": {},
   "outputs": [],
   "source": [
    "# Init SIMmodel\n",
    "SIMmodel = load_simBERT()"
   ]
  },
  {
   "cell_type": "code",
   "execution_count": 224,
   "id": "31f819db-e371-4431-8ff3-328895a9635c",
   "metadata": {},
   "outputs": [
    {
     "data": {
      "application/vnd.jupyter.widget-view+json": {
       "model_id": "9e651ff50c1b4c76a5ee0229f1f3d9ee",
       "version_major": 2,
       "version_minor": 0
      },
      "text/plain": [
       "bird:   0%|          | 0/2 [00:00<?, ?it/s]"
      ]
     },
     "metadata": {},
     "output_type": "display_data"
    },
    {
     "data": {
      "application/vnd.jupyter.widget-view+json": {
       "model_id": "",
       "version_major": 2,
       "version_minor": 0
      },
      "text/plain": [
       "part:   0%|          | 0/65 [00:00<?, ?it/s]"
      ]
     },
     "metadata": {},
     "output_type": "display_data"
    },
    {
     "data": {
      "application/vnd.jupyter.widget-view+json": {
       "model_id": "",
       "version_major": 2,
       "version_minor": 0
      },
      "text/plain": [
       "part:   0%|          | 0/65 [00:00<?, ?it/s]"
      ]
     },
     "metadata": {},
     "output_type": "display_data"
    }
   ],
   "source": [
    "comparison_list = []\n",
    "\n",
    "for bird in tqdm_notebook(df_random['Bird'].unique(), desc='bird'):\n",
    "    for part in tqdm_notebook(df_random['Part'].unique(), desc='part', leave=False):\n",
    "        # Get CUB DATA\n",
    "        CUB_subset = list(df_cub[\n",
    "            (df_cub['Trait'].str.startswith(part)) & \n",
    "            (df_cub['Bird'] == bird)]\n",
    "                         ['Trait'])\n",
    "        if CUB_subset:\n",
    "            # Get the vector values\n",
    "            vectors_CUB = vector_values(CUB_subset, model=SIMmodel)\n",
    "            # Get the attribution\n",
    "            for attribution in df_random['Attribution'].unique():\n",
    "                #print(bird, attribution, part)\n",
    "                RANDOM_subset = list(df_random[\n",
    "                    (df_random['Bird'] == bird) & \n",
    "                    (df_random['Part'] == part) &\n",
    "                    (df_random['Attribution'] == attribution)]\n",
    "                                    ['Trait'])\n",
    "                # Some part do not exists with birds\n",
    "                if RANDOM_subset:\n",
    "                    # Get vectors\n",
    "                    vectors_RANDOM = vector_values(RANDOM_subset, model=SIMmodel)\n",
    "                    # Compute similarity\n",
    "                    matrix = cosine_similarity(vectors_CUB, vectors_RANDOM)\n",
    "                    # Append    \n",
    "                    #comparison_list.append((bird, part, attribution, matrix))\n",
    "                    #comparison_list.append((bird, part, attribution, matrix.mean(axis=0)))\n",
    "                    comparison_list.append((bird, part, attribution, matrix.max()))\n",
    "                    #comparison_list.append((bird, part, attribution, hmean(matrix.max(axis=1))))\n",
    "                    # Clear memory \n",
    "                    del vectors_RANDOM\n",
    "            # Clear memory    \n",
    "            del vectors_CUB\n"
   ]
  },
  {
   "cell_type": "code",
   "execution_count": 231,
   "id": "8a424570-08a2-49ef-950b-bc8cada6cacf",
   "metadata": {},
   "outputs": [
    {
     "data": {
      "text/plain": [
       "[('House Sparrow', 'throat', 'IG_20', 0.9431951),\n",
       " ('House Sparrow', 'throat', 'IG_50', 0.9431951),\n",
       " ('House Sparrow', 'throat', 'Occ_1-1', 0.9219235),\n",
       " ('House Sparrow', 'throat', 'Occ_3-2', 0.96153057),\n",
       " ('House Sparrow', 'throat', 'SVS', 0.9431951),\n",
       " ('House Sparrow', 'throat', 'LA', 0.7584883),\n",
       " ('House Sparrow', 'throat', 'LGXA', 0.9431951),\n",
       " ('House Sparrow', 'tail', 'IG_20', 0.90224314),\n",
       " ('House Sparrow', 'tail', 'IG_50', 0.90224314),\n",
       " ('House Sparrow', 'tail', 'Occ_1-1', 0.87441754),\n",
       " ('House Sparrow', 'tail', 'Occ_3-2', 0.86940515),\n",
       " ('House Sparrow', 'tail', 'SVS', 0.8820437),\n",
       " ('House Sparrow', 'tail', 'LA', 0.8820437),\n",
       " ('House Sparrow', 'tail', 'LGXA', 0.87441754),\n",
       " ('House Sparrow', 'wing', 'IG_20', 0.89565945),\n",
       " ('House Sparrow', 'wing', 'IG_50', 0.8969706),\n",
       " ('House Sparrow', 'wing', 'Occ_1-1', 0.90647113),\n",
       " ('House Sparrow', 'wing', 'Occ_3-2', 0.9404692),\n",
       " ('House Sparrow', 'wing', 'SVS', 0.90647113),\n",
       " ('House Sparrow', 'wing', 'LA', 0.8152548),\n",
       " ('House Sparrow', 'wing', 'LGXA', 0.8643438),\n",
       " ('House Sparrow', 'belly', 'IG_20', 0.95654),\n",
       " ('House Sparrow', 'belly', 'IG_50', 0.95654),\n",
       " ('House Sparrow', 'belly', 'Occ_1-1', 0.92275107),\n",
       " ('House Sparrow', 'belly', 'Occ_3-2', 0.8852481),\n",
       " ('House Sparrow', 'belly', 'SVS', 0.8943225),\n",
       " ('House Sparrow', 'belly', 'LA', 0.8241479),\n",
       " ('House Sparrow', 'belly', 'LGXA', 0.8943225),\n",
       " ('House Sparrow', 'underparts', 'IG_20', 0.8794609),\n",
       " ('House Sparrow', 'underparts', 'IG_50', 0.87815976),\n",
       " ('House Sparrow', 'underparts', 'Occ_1-1', 0.9581134),\n",
       " ('House Sparrow', 'underparts', 'Occ_3-2', 0.9581134),\n",
       " ('House Sparrow', 'underparts', 'SVS', 0.8892664),\n",
       " ('House Sparrow', 'underparts', 'LA', 0.8462682),\n",
       " ('House Sparrow', 'underparts', 'LGXA', 0.8892664),\n",
       " ('House Sparrow', 'breast', 'IG_20', 0.8767475),\n",
       " ('House Sparrow', 'breast', 'IG_50', 0.9429239),\n",
       " ('House Sparrow', 'breast', 'Occ_1-1', 0.9429239),\n",
       " ('House Sparrow', 'breast', 'Occ_3-2', 0.95817196),\n",
       " ('House Sparrow', 'breast', 'SVS', 0.9429239),\n",
       " ('House Sparrow', 'breast', 'LA', 0.9429239),\n",
       " ('House Sparrow', 'breast', 'LGXA', 0.83338875),\n",
       " ('House Sparrow', 'upperparts', 'IG_20', 0.9346415),\n",
       " ('House Sparrow', 'upperparts', 'IG_50', 0.94100875),\n",
       " ('House Sparrow', 'upperparts', 'Occ_1-1', 0.9538239),\n",
       " ('House Sparrow', 'upperparts', 'Occ_3-2', 0.9538239),\n",
       " ('House Sparrow', 'upperparts', 'SVS', 0.87687147),\n",
       " ('House Sparrow', 'upperparts', 'LA', 0.8693422),\n",
       " ('House Sparrow', 'upperparts', 'LGXA', 0.8800307),\n",
       " ('House Sparrow', 'crown', 'IG_20', 0.9436622),\n",
       " ('House Sparrow', 'crown', 'IG_50', 0.8399329),\n",
       " ('House Sparrow', 'crown', 'Occ_1-1', 0.9079843),\n",
       " ('House Sparrow', 'crown', 'Occ_3-2', 0.94528854),\n",
       " ('House Sparrow', 'crown', 'SVS', 0.9079843),\n",
       " ('House Sparrow', 'crown', 'LA', 0.7667864),\n",
       " ('House Sparrow', 'crown', 'LGXA', 0.81437117),\n",
       " ('House Sparrow', 'back', 'IG_20', 0.852833),\n",
       " ('House Sparrow', 'back', 'IG_50', 0.852833),\n",
       " ('House Sparrow', 'back', 'Occ_1-1', 0.83970594),\n",
       " ('House Sparrow', 'back', 'Occ_3-2', 0.85410345),\n",
       " ('House Sparrow', 'back', 'SVS', 0.83970594),\n",
       " ('House Sparrow', 'back', 'LA', 0.78664213),\n",
       " ('House Sparrow', 'back', 'LGXA', 0.791243),\n",
       " ('House Sparrow', 'forehead', 'IG_20', 0.7916695),\n",
       " ('House Sparrow', 'forehead', 'IG_50', 0.7916695),\n",
       " ('House Sparrow', 'forehead', 'Occ_1-1', 0.8412269),\n",
       " ('House Sparrow', 'forehead', 'Occ_3-2', 0.79796225),\n",
       " ('House Sparrow', 'forehead', 'SVS', 0.79333717),\n",
       " ('House Sparrow', 'forehead', 'LA', 0.80795026),\n",
       " ('House Sparrow', 'forehead', 'LGXA', 0.80795026),\n",
       " ('House Sparrow', 'primary', 'IG_20', 0.7268481),\n",
       " ('House Sparrow', 'primary', 'IG_50', 0.7268481),\n",
       " ('House Sparrow', 'primary', 'Occ_1-1', 0.7152289),\n",
       " ('House Sparrow', 'primary', 'Occ_3-2', 0.79311013),\n",
       " ('House Sparrow', 'primary', 'SVS', 0.6362044),\n",
       " ('House Sparrow', 'primary', 'LA', 0.7070035),\n",
       " ('House Sparrow', 'primary', 'LGXA', 0.6727285),\n",
       " ('House Sparrow', 'bill', 'IG_20', 0.72631097),\n",
       " ('House Sparrow', 'bill', 'IG_50', 0.72631097),\n",
       " ('House Sparrow', 'bill', 'Occ_1-1', 0.72631097),\n",
       " ('House Sparrow', 'bill', 'Occ_3-2', 0.78939736),\n",
       " ('House Sparrow', 'bill', 'SVS', 0.72631097),\n",
       " ('House Sparrow', 'bill', 'LA', 0.79609036),\n",
       " ('House Sparrow', 'bill', 'LGXA', 0.6547837),\n",
       " ('Blue Jay', 'throat', 'IG_20', 0.81029195),\n",
       " ('Blue Jay', 'throat', 'IG_50', 0.83421946),\n",
       " ('Blue Jay', 'throat', 'Occ_1-1', 0.88189036),\n",
       " ('Blue Jay', 'throat', 'Occ_3-2', 0.7903099),\n",
       " ('Blue Jay', 'throat', 'SVS', 0.7850343),\n",
       " ('Blue Jay', 'throat', 'LA', 0.73355925),\n",
       " ('Blue Jay', 'throat', 'LGXA', 0.7752843),\n",
       " ('Blue Jay', 'tail', 'IG_20', 0.86940515),\n",
       " ('Blue Jay', 'tail', 'IG_50', 0.8874466),\n",
       " ('Blue Jay', 'tail', 'Occ_1-1', 0.87515926),\n",
       " ('Blue Jay', 'tail', 'Occ_3-2', 0.8472579),\n",
       " ('Blue Jay', 'tail', 'SVS', 0.9055581),\n",
       " ('Blue Jay', 'tail', 'LA', 0.8510819),\n",
       " ('Blue Jay', 'tail', 'LGXA', 0.8874466),\n",
       " ('Blue Jay', 'wing', 'IG_20', 0.89565945),\n",
       " ('Blue Jay', 'wing', 'IG_50', 0.8387604),\n",
       " ('Blue Jay', 'wing', 'Occ_1-1', 0.8828495),\n",
       " ('Blue Jay', 'wing', 'Occ_3-2', 0.7907905),\n",
       " ('Blue Jay', 'wing', 'SVS', 0.9619267),\n",
       " ('Blue Jay', 'wing', 'LA', 0.8152548),\n",
       " ('Blue Jay', 'wing', 'LGXA', 0.89565945),\n",
       " ('Blue Jay', 'underparts', 'IG_20', 0.9543681),\n",
       " ('Blue Jay', 'underparts', 'IG_50', 0.9543681),\n",
       " ('Blue Jay', 'underparts', 'Occ_1-1', 0.8716646),\n",
       " ('Blue Jay', 'underparts', 'Occ_3-2', 0.9454608),\n",
       " ('Blue Jay', 'underparts', 'SVS', 0.8832959),\n",
       " ('Blue Jay', 'underparts', 'LA', 0.8557514),\n",
       " ('Blue Jay', 'underparts', 'LGXA', 0.9465114),\n",
       " ('Blue Jay', 'breast', 'IG_20', 0.94582057),\n",
       " ('Blue Jay', 'breast', 'IG_50', 0.90886605),\n",
       " ('Blue Jay', 'breast', 'Occ_1-1', 0.87093437),\n",
       " ('Blue Jay', 'breast', 'Occ_3-2', 0.9290192),\n",
       " ('Blue Jay', 'breast', 'SVS', 0.8635416),\n",
       " ('Blue Jay', 'breast', 'LA', 0.85026234),\n",
       " ('Blue Jay', 'breast', 'LGXA', 0.9429239),\n",
       " ('Blue Jay', 'upperparts', 'IG_20', 0.88673663),\n",
       " ('Blue Jay', 'upperparts', 'IG_50', 0.92484593),\n",
       " ('Blue Jay', 'upperparts', 'Occ_1-1', 0.8839456),\n",
       " ('Blue Jay', 'upperparts', 'Occ_3-2', 0.8395667),\n",
       " ('Blue Jay', 'upperparts', 'SVS', 0.959913),\n",
       " ('Blue Jay', 'upperparts', 'LA', 0.8693422),\n",
       " ('Blue Jay', 'upperparts', 'LGXA', 0.96846616),\n",
       " ('Blue Jay', 'crown', 'IG_20', 0.9625404),\n",
       " ('Blue Jay', 'crown', 'IG_50', 0.9625404),\n",
       " ('Blue Jay', 'crown', 'Occ_1-1', 0.81189567),\n",
       " ('Blue Jay', 'crown', 'Occ_3-2', 0.7510385),\n",
       " ('Blue Jay', 'crown', 'SVS', 0.8675637),\n",
       " ('Blue Jay', 'crown', 'LA', 0.7802322),\n",
       " ('Blue Jay', 'crown', 'LGXA', 0.9625404),\n",
       " ('Blue Jay', 'back', 'IG_20', 0.92504954),\n",
       " ('Blue Jay', 'back', 'IG_50', 0.77738816),\n",
       " ('Blue Jay', 'back', 'Occ_1-1', 0.9011762),\n",
       " ('Blue Jay', 'back', 'Occ_3-2', 0.89583045),\n",
       " ('Blue Jay', 'back', 'SVS', 0.75829566),\n",
       " ('Blue Jay', 'back', 'LA', 0.7866423),\n",
       " ('Blue Jay', 'back', 'LGXA', 0.7774552),\n",
       " ('Blue Jay', 'forehead', 'IG_20', 0.8359959),\n",
       " ('Blue Jay', 'forehead', 'IG_50', 0.8883457),\n",
       " ('Blue Jay', 'forehead', 'Occ_1-1', 0.8189832),\n",
       " ('Blue Jay', 'forehead', 'Occ_3-2', 0.77889425),\n",
       " ('Blue Jay', 'forehead', 'SVS', 0.8396455),\n",
       " ('Blue Jay', 'forehead', 'LA', 0.7898571),\n",
       " ('Blue Jay', 'forehead', 'LGXA', 0.8883457),\n",
       " ('Blue Jay', 'primary', 'IG_20', 0.92624384),\n",
       " ('Blue Jay', 'primary', 'IG_50', 0.92624384),\n",
       " ('Blue Jay', 'primary', 'Occ_1-1', 0.74341345),\n",
       " ('Blue Jay', 'primary', 'Occ_3-2', 0.7323094),\n",
       " ('Blue Jay', 'primary', 'SVS', 0.7987089),\n",
       " ('Blue Jay', 'primary', 'LA', 0.6611355),\n",
       " ('Blue Jay', 'primary', 'LGXA', 0.7233874),\n",
       " ('Blue Jay', 'bill', 'IG_20', 0.7914717),\n",
       " ('Blue Jay', 'bill', 'IG_50', 0.61968607),\n",
       " ('Blue Jay', 'bill', 'Occ_1-1', 0.819452),\n",
       " ('Blue Jay', 'bill', 'Occ_3-2', 0.7914717),\n",
       " ('Blue Jay', 'bill', 'SVS', 0.7914717),\n",
       " ('Blue Jay', 'bill', 'LA', 0.7635949),\n",
       " ('Blue Jay', 'bill', 'LGXA', 0.7574955)]"
      ]
     },
     "execution_count": 231,
     "metadata": {},
     "output_type": "execute_result"
    }
   ],
   "source": [
    "comparison_list"
   ]
  },
  {
   "cell_type": "code",
   "execution_count": null,
   "id": "1ce06cb6-ccac-4a23-8f6a-9c26692ab89c",
   "metadata": {},
   "outputs": [],
   "source": [
    "len(comparison_list)"
   ]
  },
  {
   "cell_type": "code",
   "execution_count": null,
   "id": "5925a109-a7be-408d-873c-c3a3e64ff8c2",
   "metadata": {},
   "outputs": [],
   "source": [
    "'''\n",
    "####\n",
    "#### PER SENTENCE\n",
    "####\n",
    "attribution_dict = collections.defaultdict(list)\n",
    "\n",
    "# Per sentence to save memory\n",
    "for idx in tqdm_notebook(df_random['Sentence'].unique()):\n",
    "#for idx in range(0, 5):\n",
    "    df_subset = df_random[(df_random['Sentence'] == idx)]\n",
    "    parts = df_subset['Part'].unique()\n",
    "    bird  = df_subset['Bird'].iloc[0]\n",
    "    \n",
    "    # Compute Vector values\n",
    "    #vv_random = vector_values(list(df_subset['Traits']))\n",
    "    for part in parts:\n",
    "        random_text_list = list(df_subset[df_subset['Part'] == part]['Trait'])\n",
    "        CUB_text_list =  list(df_cub[(df_cub['Trait'].str.startswith(part)) & (df_cub['Bird'] == bird)]['Trait'])\n",
    "    \n",
    "        #print(len(random_text_list), len(CUB_text_list))\n",
    "    \n",
    "        # Skip empty lists \n",
    "        if not CUB_text_list:\n",
    "            continue\n",
    "        # Compute Vector values\n",
    "        vv_random = vector_values(random_text_list, model=SIMmodel)\n",
    "        vv_cub    = vector_values(CUB_text_list, model=SIMmodel)\n",
    "\n",
    "        # Get Matrix\n",
    "        matrix = cosine_similarity(vv_random, vv_cub)\n",
    "        # Clear memory\n",
    "        del vv_random\n",
    "        del vv_cub\n",
    "\n",
    "        for word, attribution, row in zip(df_subset[df_subset['Part'] == part]['Trait'], df_subset[df_subset['Part'] == part]['Attribution'], matrix):\n",
    "            attribution_dict[attribution].append((word, list(row)))\n",
    "            \n",
    "            #attribution_dict[attribution].append(list(row)) \n",
    "            #attribution_dict['Trait'].append(word) \n",
    "        #df_random.loc[df_subset.index, 'Similarity'] = np.mean(matrix, axis=1)\n",
    "'''"
   ]
  },
  {
   "cell_type": "markdown",
   "id": "f4b572b0-cd67-40a3-b6f7-ee8d84d56ff7",
   "metadata": {},
   "source": [
    "### Similarity Example"
   ]
  },
  {
   "cell_type": "code",
   "execution_count": null,
   "id": "ddd887ba-89c4-49f5-b455-0408901dc9e2",
   "metadata": {},
   "outputs": [],
   "source": [
    "sents = [\n",
    "    'The European robin\\n has a orange plumage.',\n",
    "    'Black bill,\\n plumage orange.',\n",
    "    'The bear is large and\\n the claws are sharp.',\n",
    "    'Bill black;\\n plumage orange.',\n",
    "    'The bill is black and\\n the plumage is orange.',\n",
    "    'The bear is large, and\\n the claws are sharp.'\n",
    "]\n",
    "\n",
    "vv1 = vector_values(sents, model=SIMmodel)\n",
    "vv2 = vector_values(sents, model=SIMmodel)\n",
    "\n",
    "matrix = cosine_similarity(vv1, vv2)\n",
    "\n",
    "mask = np.zeros_like(matrix)\n",
    "mask[np.triu_indices_from(mask)] = True\n",
    "\n",
    "# Delete empty rows and columns\n",
    "matrix = np.delete(matrix, (0), axis=0)\n",
    "mask = np.delete(mask, (0), axis=0)\n",
    "matrix = np.delete(matrix, (-1), axis=1)\n",
    "mask = np.delete(mask, (-1), axis=1)\n",
    "\n",
    "df = pd.DataFrame(matrix)\n",
    "df.index = sents[1:]\n",
    "df.columns = sents[:-1]"
   ]
  },
  {
   "cell_type": "code",
   "execution_count": null,
   "id": "b4c453b5-addf-4cf5-9c76-ca5d5bee9946",
   "metadata": {},
   "outputs": [],
   "source": [
    "sents1 = [\n",
    "    #'Bill color orange',\n",
    "    'Bill shape cone',\n",
    "    'Bill color yellow',\n",
    "    'Bill pattern freckled',\n",
    "    'Bill all-purpose',\n",
    "    'bill length \\nshorter_than_head'\n",
    "]\n",
    "\n",
    "sents2 = [\n",
    "    'Bill [SEP]',\n",
    "    'Bill yellow',\n",
    "    'Bill orange',\n",
    "    'Bill length 5 cm',\n",
    "    'bill cone-shaped'\n",
    "    #'Bill shape cone'\n",
    "]\n",
    "\n",
    "vv1 = vector_values(sents1, model=SIMmodel)\n",
    "vv2 = vector_values(sents2, model=SIMmodel)\n",
    "\n",
    "matrix = cosine_similarity(vv1, vv2)\n",
    "df = pd.DataFrame(matrix)\n",
    "df.index = sents1\n",
    "df.columns = sents2"
   ]
  },
  {
   "cell_type": "code",
   "execution_count": null,
   "id": "f7a93649-a5ca-4723-92a4-d8bc5677346c",
   "metadata": {},
   "outputs": [],
   "source": [
    "# Generate a custom diverging colormap\n",
    "cmap = sns.diverging_palette(230, 20, as_cmap=True)\n",
    "\n",
    "with sns.axes_style(\"white\"):\n",
    "    f, ax = plt.subplots(figsize=(7, 7))\n",
    "    ax = sns.heatmap(df, \n",
    "                     square=True,\n",
    "                     annot=True,\n",
    "                     cbar=False,\n",
    "                     #cmap='Spectral_r', \n",
    "                     cmap=cmap,\n",
    "                     linewidths=.5,)\n",
    "    \n",
    "ax.set_xticklabels(ax.get_xticklabels(), rotation=30, ha=\"right\", fontsize=11)\n",
    "ax.set_yticklabels(ax.get_yticklabels(), rotation=0, ha=\"right\", fontsize=11)\n",
    "\n",
    "\n",
    "#f.suptitle('Similarity Matrix', fontsize=13)\n",
    "f.savefig('similarity_matrix.pdf', format='pdf', dpi=1200, bbox_inches='tight')"
   ]
  },
  {
   "cell_type": "markdown",
   "id": "c149ec38-e783-49f7-9e74-eaace7aa8bee",
   "metadata": {},
   "source": [
    "### Average Similarity"
   ]
  },
  {
   "cell_type": "code",
   "execution_count": null,
   "id": "e6c147ea-7866-4088-ba50-e1255c274bfe",
   "metadata": {},
   "outputs": [],
   "source": [
    "attribution_dict_nowords = collections.defaultdict(list)\n",
    "#attribution_mean_dict_nowords = collections.defaultdict(list)\n",
    "for key in attribution_dict.keys():\n",
    "    for (word, items) in attribution_dict[key]:\n",
    "        #attribution_mean_dict_nowords[key].append(np.mean(items))\n",
    "        for item in items:\n",
    "            attribution_dict_nowords[key].append(item)\n",
    "    "
   ]
  },
  {
   "cell_type": "code",
   "execution_count": 225,
   "id": "06987730-967e-4093-b110-b669602b3c68",
   "metadata": {},
   "outputs": [],
   "source": [
    "df_attribution = pd.DataFrame(comparison_list,\n",
    "                              columns=['Bird', 'Part', 'Attribution', 'Value'])"
   ]
  },
  {
   "cell_type": "code",
   "execution_count": 226,
   "id": "c8ca7265-5f0a-44b1-b2e8-54ffa2310f13",
   "metadata": {},
   "outputs": [
    {
     "data": {
      "text/plain": [
       "Attribution\n",
       "IG_20      0.873894\n",
       "IG_50      0.856254\n",
       "LA         0.802257\n",
       "LGXA       0.835784\n",
       "Occ_1-1    0.858605\n",
       "Occ_3-2    0.854242\n",
       "SVS        0.846534\n",
       "Name: Value, dtype: float64"
      ]
     },
     "execution_count": 226,
     "metadata": {},
     "output_type": "execute_result"
    }
   ],
   "source": [
    "df_attribution.groupby(['Attribution'])['Value'].apply(hmean)"
   ]
  },
  {
   "cell_type": "code",
   "execution_count": 227,
   "id": "05d2b71f-af63-49cb-9bd4-030e8d04145c",
   "metadata": {},
   "outputs": [],
   "source": [
    "df_attribution_melt = pd.melt(df_attribution, id_vars=['Attribution'], value_vars=['Value'])"
   ]
  },
  {
   "cell_type": "code",
   "execution_count": 228,
   "id": "182d5cd9-325c-4a6f-9ae6-ff99562e2cd8",
   "metadata": {},
   "outputs": [
    {
     "data": {
      "text/html": [
       "<div>\n",
       "<style scoped>\n",
       "    .dataframe tbody tr th:only-of-type {\n",
       "        vertical-align: middle;\n",
       "    }\n",
       "\n",
       "    .dataframe tbody tr th {\n",
       "        vertical-align: top;\n",
       "    }\n",
       "\n",
       "    .dataframe thead th {\n",
       "        text-align: right;\n",
       "    }\n",
       "</style>\n",
       "<table border=\"1\" class=\"dataframe\">\n",
       "  <thead>\n",
       "    <tr style=\"text-align: right;\">\n",
       "      <th></th>\n",
       "      <th>Attribution</th>\n",
       "      <th>variable</th>\n",
       "      <th>value</th>\n",
       "    </tr>\n",
       "  </thead>\n",
       "  <tbody>\n",
       "    <tr>\n",
       "      <th>0</th>\n",
       "      <td>IG_20</td>\n",
       "      <td>Value</td>\n",
       "      <td>0.943195</td>\n",
       "    </tr>\n",
       "    <tr>\n",
       "      <th>1</th>\n",
       "      <td>IG_50</td>\n",
       "      <td>Value</td>\n",
       "      <td>0.943195</td>\n",
       "    </tr>\n",
       "    <tr>\n",
       "      <th>2</th>\n",
       "      <td>Occ_1-1</td>\n",
       "      <td>Value</td>\n",
       "      <td>0.921924</td>\n",
       "    </tr>\n",
       "    <tr>\n",
       "      <th>3</th>\n",
       "      <td>Occ_3-2</td>\n",
       "      <td>Value</td>\n",
       "      <td>0.961531</td>\n",
       "    </tr>\n",
       "    <tr>\n",
       "      <th>4</th>\n",
       "      <td>SVS</td>\n",
       "      <td>Value</td>\n",
       "      <td>0.943195</td>\n",
       "    </tr>\n",
       "    <tr>\n",
       "      <th>...</th>\n",
       "      <td>...</td>\n",
       "      <td>...</td>\n",
       "      <td>...</td>\n",
       "    </tr>\n",
       "    <tr>\n",
       "      <th>156</th>\n",
       "      <td>Occ_1-1</td>\n",
       "      <td>Value</td>\n",
       "      <td>0.819452</td>\n",
       "    </tr>\n",
       "    <tr>\n",
       "      <th>157</th>\n",
       "      <td>Occ_3-2</td>\n",
       "      <td>Value</td>\n",
       "      <td>0.791472</td>\n",
       "    </tr>\n",
       "    <tr>\n",
       "      <th>158</th>\n",
       "      <td>SVS</td>\n",
       "      <td>Value</td>\n",
       "      <td>0.791472</td>\n",
       "    </tr>\n",
       "    <tr>\n",
       "      <th>159</th>\n",
       "      <td>LA</td>\n",
       "      <td>Value</td>\n",
       "      <td>0.763595</td>\n",
       "    </tr>\n",
       "    <tr>\n",
       "      <th>160</th>\n",
       "      <td>LGXA</td>\n",
       "      <td>Value</td>\n",
       "      <td>0.757496</td>\n",
       "    </tr>\n",
       "  </tbody>\n",
       "</table>\n",
       "<p>161 rows × 3 columns</p>\n",
       "</div>"
      ],
      "text/plain": [
       "    Attribution variable     value\n",
       "0         IG_20    Value  0.943195\n",
       "1         IG_50    Value  0.943195\n",
       "2       Occ_1-1    Value  0.921924\n",
       "3       Occ_3-2    Value  0.961531\n",
       "4           SVS    Value  0.943195\n",
       "..          ...      ...       ...\n",
       "156     Occ_1-1    Value  0.819452\n",
       "157     Occ_3-2    Value  0.791472\n",
       "158         SVS    Value  0.791472\n",
       "159          LA    Value  0.763595\n",
       "160        LGXA    Value  0.757496\n",
       "\n",
       "[161 rows x 3 columns]"
      ]
     },
     "execution_count": 228,
     "metadata": {},
     "output_type": "execute_result"
    }
   ],
   "source": [
    "df_attribution_melt"
   ]
  },
  {
   "cell_type": "code",
   "execution_count": 229,
   "id": "e1be4059-b1ae-4e44-84a7-b128231a11ba",
   "metadata": {},
   "outputs": [
    {
     "data": {
      "text/plain": [
       "<AxesSubplot:xlabel='value', ylabel='Count'>"
      ]
     },
     "execution_count": 229,
     "metadata": {},
     "output_type": "execute_result"
    },
    {
     "data": {
      "image/png": "[encoded data removed]",
      "text/plain": [
       "<Figure size 432x288 with 1 Axes>"
      ]
     },
     "metadata": {
      "needs_background": "light"
     },
     "output_type": "display_data"
    }
   ],
   "source": [
    "sns.histplot(data=df_attribution_melt, x=\"value\", hue=\"Attribution\")"
   ]
  },
  {
   "cell_type": "code",
   "execution_count": 230,
   "id": "1b3ac0f4-c755-44d6-9da4-4f310b239482",
   "metadata": {},
   "outputs": [
    {
     "data": {
      "text/plain": [
       "[Text(0, 0, 'Integrated Gradients \\n (20 Steps)'),\n",
       " Text(1, 0, 'Integrated Gradients \\n (50 Steps)'),\n",
       " Text(2, 0, 'Occlusion \\n (Window 1 and Stride 1)'),\n",
       " Text(3, 0, 'Occlusion \\n (Window 3 and Stride 2)'),\n",
       " Text(4, 0, 'Sharpley Value Sampling'),\n",
       " Text(5, 0, 'Layer Attention'),\n",
       " Text(6, 0, 'Layer Gradient x Activation')]"
      ]
     },
     "execution_count": 230,
     "metadata": {},
     "output_type": "execute_result"
    },
    {
     "data": {
      "image/png": "[encoded data removed]",
      "text/plain": [
       "<Figure size 864x576 with 1 Axes>"
      ]
     },
     "metadata": {
      "needs_background": "light"
     },
     "output_type": "display_data"
    }
   ],
   "source": [
    "labels = ['Integrated Gradients \\n (20 Steps)',\n",
    "          'Integrated Gradients \\n (50 Steps)',\n",
    "          'Occlusion \\n (Window 1 and Stride 1)',\n",
    "          'Occlusion \\n (Window 3 and Stride 2)',\n",
    "          'Sharpley Value Sampling',\n",
    "          'Layer Attention',\n",
    "           'Layer Gradient x Activation']\n",
    "\n",
    "fig, ax = plt.subplots(figsize=(12, 8))\n",
    "#seaborn.violinplot(ax=ax, data=df, **violin_options)\n",
    "ax = sns.violinplot(ax=ax, x=\"Attribution\", y=\"value\",  data=df_attribution_melt, bw=.2,\n",
    "                   cut=0, palette=\"Set3\", inner=\"box\")\n",
    "\n",
    "ax = sns.swarmplot(ax=ax, x=\"Attribution\", y=\"value\",  data=df_attribution_melt,\n",
    "                   color=\"white\", edgecolor=\"black\")\n",
    "\n",
    "\n",
    "ax.set_ylim(bottom=0.28, top=1.02)\n",
    "ax.set_yticks([0.3, 0.4, 0.5, 0.6, 0.7, 0.8, 0.9, 1.0])\n",
    "ax.set_xticklabels(labels, rotation=30, ha=\"right\")"
   ]
  },
  {
   "cell_type": "markdown",
   "id": "cd8f738a-79a9-4863-9fb1-625ef990927a",
   "metadata": {},
   "source": [
    "### STATS"
   ]
  },
  {
   "cell_type": "code",
   "execution_count": null,
   "id": "35f40377-4aec-4254-aa73-4e68e0e6166a",
   "metadata": {},
   "outputs": [],
   "source": [
    "import scipy.stats as stats\n",
    "import pylab "
   ]
  },
  {
   "cell_type": "code",
   "execution_count": null,
   "id": "a4e3bc59-f5ea-4807-a613-2cf638686d6c",
   "metadata": {},
   "outputs": [],
   "source": [
    "stats.probplot(df_att_arr['SVS'], dist=\"norm\", plot=pylab)\n",
    "pylab.show()"
   ]
  },
  {
   "cell_type": "code",
   "execution_count": null,
   "id": "d5f13d4a-a1d4-450e-b8a6-e07eab309362",
   "metadata": {},
   "outputs": [],
   "source": [
    "fvalue, pvalue = stats.f_oneway(df_att_arr['IG_20'], \n",
    "                                df_att_arr['IG_50'], \n",
    "                                df_att_arr['Occ_1-1'], \n",
    "                                df_att_arr['Occ_3-2'],\n",
    "                                df_att_arr['SVS'],\n",
    "                                df_att_arr['LA'],\n",
    "                                df_att_arr['LGXA'])\n",
    "\n",
    "print(fvalue, pvalue)"
   ]
  },
  {
   "cell_type": "code",
   "execution_count": null,
   "id": "293b42fe-73c6-461f-a752-a0afe7b48904",
   "metadata": {},
   "outputs": [],
   "source": [
    "import statsmodels.formula.api as smf\n",
    "from statsmodels.stats.multicomp import pairwise_tukeyhsd"
   ]
  },
  {
   "cell_type": "code",
   "execution_count": null,
   "id": "09c68e05-1bd0-428d-a410-00af8d630a20",
   "metadata": {},
   "outputs": [],
   "source": [
    "\n",
    "# DataFrame.\n",
    "Results = pairwise_tukeyhsd(endog=df_att_arr_melt['value'],\n",
    "                           groups=df_att_arr_melt['variable'],\n",
    "                           alpha=0.05)\n",
    "\n",
    "print(Results)"
   ]
  },
  {
   "cell_type": "code",
   "execution_count": null,
   "id": "def48f39-f182-411c-9ae9-5c8be4a1b679",
   "metadata": {},
   "outputs": [],
   "source": []
  }
 ],
 "metadata": {
  "kernelspec": {
   "display_name": "Python [conda env:DL]",
   "language": "python",
   "name": "conda-env-DL-py"
  },
  "language_info": {
   "codemirror_mode": {
    "name": "ipython",
    "version": 3
   },
   "file_extension": ".py",
   "mimetype": "text/x-python",
   "name": "python",
   "nbconvert_exporter": "python",
   "pygments_lexer": "ipython3",
   "version": "3.8.10"
  }
 },
 "nbformat": 4,
 "nbformat_minor": 5
}
